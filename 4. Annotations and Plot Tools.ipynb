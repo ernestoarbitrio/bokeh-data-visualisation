{
 "cells": [
  {
   "cell_type": "markdown",
   "metadata": {},
   "source": [
    "## Annotations and Plot Tools"
   ]
  },
  {
   "cell_type": "markdown",
   "metadata": {},
   "source": [
    "Bokeh comes with a number of interactive tools. There are three categories of tool interactions:\n",
    "\n",
    "    Gestures:\n",
    "        Pan/Drag Tools\n",
    "        Click/Tap Tools\n",
    "        Scroll/Pinch Tools\n",
    "    Actions\n",
    "    Inspectors\n",
    "\n",
    "For each type of gesture, one tool can be active at any given time, and the active tool is indicated on the toolbar by a highlight next to to the tool icon. Actions are immediate or modal operations that are only activated when their button in the toolbar is pressed. Inspectors are passive tools that report information or annotate the plot in some way.\n",
    "Positioning the Toolbar¶\n",
    "\n",
    "By default, Bokeh plots come with a toolbar above the plot. In this section you will learn how to specify a different location for the toolbar, or to remove it entirely.\n",
    "\n",
    "The toolbar location can be specified by passing the toolbar_location parameter to the figure() function. Valid values are:\n",
    "\n",
    "    \"above\"\n",
    "    \"below\"\n",
    "    \"left\"\n",
    "    \"right\"\n",
    "\n",
    "If you would like to hide the toolbar entirely, pass None.\n",
    "\n",
    "Below is some code that positions the toolbar below the plot. Try running the code and changing the toolbar_location value."
   ]
  },
  {
   "cell_type": "code",
   "execution_count": 11,
   "metadata": {},
   "outputs": [
    {
     "data": {
      "text/html": [
       "\n",
       "    <div class=\"bk-root\">\n",
       "        <a href=\"https://bokeh.pydata.org\" target=\"_blank\" class=\"bk-logo bk-logo-small bk-logo-notebook\"></a>\n",
       "        <span id=\"d362e7ed-a6b5-45f6-8fd0-2b89439e442b\">Loading BokehJS ...</span>\n",
       "    </div>"
      ]
     },
     "metadata": {},
     "output_type": "display_data"
    },
    {
     "data": {
      "application/javascript": [
       "\n",
       "(function(root) {\n",
       "  function now() {\n",
       "    return new Date();\n",
       "  }\n",
       "\n",
       "  var force = true;\n",
       "\n",
       "  if (typeof (root._bokeh_onload_callbacks) === \"undefined\" || force === true) {\n",
       "    root._bokeh_onload_callbacks = [];\n",
       "    root._bokeh_is_loading = undefined;\n",
       "  }\n",
       "\n",
       "  var JS_MIME_TYPE = 'application/javascript';\n",
       "  var HTML_MIME_TYPE = 'text/html';\n",
       "  var EXEC_MIME_TYPE = 'application/vnd.bokehjs_exec.v0+json';\n",
       "  var CLASS_NAME = 'output_bokeh rendered_html';\n",
       "\n",
       "  /**\n",
       "   * Render data to the DOM node\n",
       "   */\n",
       "  function render(props, node) {\n",
       "    var script = document.createElement(\"script\");\n",
       "    node.appendChild(script);\n",
       "  }\n",
       "\n",
       "  /**\n",
       "   * Handle when an output is cleared or removed\n",
       "   */\n",
       "  function handleClearOutput(event, handle) {\n",
       "    var cell = handle.cell;\n",
       "\n",
       "    var id = cell.output_area._bokeh_element_id;\n",
       "    var server_id = cell.output_area._bokeh_server_id;\n",
       "    // Clean up Bokeh references\n",
       "    if (id != null && id in Bokeh.index) {\n",
       "      Bokeh.index[id].model.document.clear();\n",
       "      delete Bokeh.index[id];\n",
       "    }\n",
       "\n",
       "    if (server_id !== undefined) {\n",
       "      // Clean up Bokeh references\n",
       "      var cmd = \"from bokeh.io.state import curstate; print(curstate().uuid_to_server['\" + server_id + \"'].get_sessions()[0].document.roots[0]._id)\";\n",
       "      cell.notebook.kernel.execute(cmd, {\n",
       "        iopub: {\n",
       "          output: function(msg) {\n",
       "            var id = msg.content.text.trim();\n",
       "            if (id in Bokeh.index) {\n",
       "              Bokeh.index[id].model.document.clear();\n",
       "              delete Bokeh.index[id];\n",
       "            }\n",
       "          }\n",
       "        }\n",
       "      });\n",
       "      // Destroy server and session\n",
       "      var cmd = \"import bokeh.io.notebook as ion; ion.destroy_server('\" + server_id + \"')\";\n",
       "      cell.notebook.kernel.execute(cmd);\n",
       "    }\n",
       "  }\n",
       "\n",
       "  /**\n",
       "   * Handle when a new output is added\n",
       "   */\n",
       "  function handleAddOutput(event, handle) {\n",
       "    var output_area = handle.output_area;\n",
       "    var output = handle.output;\n",
       "\n",
       "    // limit handleAddOutput to display_data with EXEC_MIME_TYPE content only\n",
       "    if ((output.output_type != \"display_data\") || (!output.data.hasOwnProperty(EXEC_MIME_TYPE))) {\n",
       "      return\n",
       "    }\n",
       "\n",
       "    var toinsert = output_area.element.find(\".\" + CLASS_NAME.split(' ')[0]);\n",
       "\n",
       "    if (output.metadata[EXEC_MIME_TYPE][\"id\"] !== undefined) {\n",
       "      toinsert[toinsert.length - 1].firstChild.textContent = output.data[JS_MIME_TYPE];\n",
       "      // store reference to embed id on output_area\n",
       "      output_area._bokeh_element_id = output.metadata[EXEC_MIME_TYPE][\"id\"];\n",
       "    }\n",
       "    if (output.metadata[EXEC_MIME_TYPE][\"server_id\"] !== undefined) {\n",
       "      var bk_div = document.createElement(\"div\");\n",
       "      bk_div.innerHTML = output.data[HTML_MIME_TYPE];\n",
       "      var script_attrs = bk_div.children[0].attributes;\n",
       "      for (var i = 0; i < script_attrs.length; i++) {\n",
       "        toinsert[toinsert.length - 1].firstChild.setAttribute(script_attrs[i].name, script_attrs[i].value);\n",
       "      }\n",
       "      // store reference to server id on output_area\n",
       "      output_area._bokeh_server_id = output.metadata[EXEC_MIME_TYPE][\"server_id\"];\n",
       "    }\n",
       "  }\n",
       "\n",
       "  function register_renderer(events, OutputArea) {\n",
       "\n",
       "    function append_mime(data, metadata, element) {\n",
       "      // create a DOM node to render to\n",
       "      var toinsert = this.create_output_subarea(\n",
       "        metadata,\n",
       "        CLASS_NAME,\n",
       "        EXEC_MIME_TYPE\n",
       "      );\n",
       "      this.keyboard_manager.register_events(toinsert);\n",
       "      // Render to node\n",
       "      var props = {data: data, metadata: metadata[EXEC_MIME_TYPE]};\n",
       "      render(props, toinsert[toinsert.length - 1]);\n",
       "      element.append(toinsert);\n",
       "      return toinsert\n",
       "    }\n",
       "\n",
       "    /* Handle when an output is cleared or removed */\n",
       "    events.on('clear_output.CodeCell', handleClearOutput);\n",
       "    events.on('delete.Cell', handleClearOutput);\n",
       "\n",
       "    /* Handle when a new output is added */\n",
       "    events.on('output_added.OutputArea', handleAddOutput);\n",
       "\n",
       "    /**\n",
       "     * Register the mime type and append_mime function with output_area\n",
       "     */\n",
       "    OutputArea.prototype.register_mime_type(EXEC_MIME_TYPE, append_mime, {\n",
       "      /* Is output safe? */\n",
       "      safe: true,\n",
       "      /* Index of renderer in `output_area.display_order` */\n",
       "      index: 0\n",
       "    });\n",
       "  }\n",
       "\n",
       "  // register the mime type if in Jupyter Notebook environment and previously unregistered\n",
       "  if (root.Jupyter !== undefined) {\n",
       "    var events = require('base/js/events');\n",
       "    var OutputArea = require('notebook/js/outputarea').OutputArea;\n",
       "\n",
       "    if (OutputArea.prototype.mime_types().indexOf(EXEC_MIME_TYPE) == -1) {\n",
       "      register_renderer(events, OutputArea);\n",
       "    }\n",
       "  }\n",
       "\n",
       "  \n",
       "  if (typeof (root._bokeh_timeout) === \"undefined\" || force === true) {\n",
       "    root._bokeh_timeout = Date.now() + 5000;\n",
       "    root._bokeh_failed_load = false;\n",
       "  }\n",
       "\n",
       "  var NB_LOAD_WARNING = {'data': {'text/html':\n",
       "     \"<div style='background-color: #fdd'>\\n\"+\n",
       "     \"<p>\\n\"+\n",
       "     \"BokehJS does not appear to have successfully loaded. If loading BokehJS from CDN, this \\n\"+\n",
       "     \"may be due to a slow or bad network connection. Possible fixes:\\n\"+\n",
       "     \"</p>\\n\"+\n",
       "     \"<ul>\\n\"+\n",
       "     \"<li>re-rerun `output_notebook()` to attempt to load from CDN again, or</li>\\n\"+\n",
       "     \"<li>use INLINE resources instead, as so:</li>\\n\"+\n",
       "     \"</ul>\\n\"+\n",
       "     \"<code>\\n\"+\n",
       "     \"from bokeh.resources import INLINE\\n\"+\n",
       "     \"output_notebook(resources=INLINE)\\n\"+\n",
       "     \"</code>\\n\"+\n",
       "     \"</div>\"}};\n",
       "\n",
       "  function display_loaded() {\n",
       "    var el = document.getElementById(\"d362e7ed-a6b5-45f6-8fd0-2b89439e442b\");\n",
       "    if (el != null) {\n",
       "      el.textContent = \"BokehJS is loading...\";\n",
       "    }\n",
       "    if (root.Bokeh !== undefined) {\n",
       "      if (el != null) {\n",
       "        el.textContent = \"BokehJS \" + root.Bokeh.version + \" successfully loaded.\";\n",
       "      }\n",
       "    } else if (Date.now() < root._bokeh_timeout) {\n",
       "      setTimeout(display_loaded, 100)\n",
       "    }\n",
       "  }\n",
       "\n",
       "\n",
       "  function run_callbacks() {\n",
       "    try {\n",
       "      root._bokeh_onload_callbacks.forEach(function(callback) { callback() });\n",
       "    }\n",
       "    finally {\n",
       "      delete root._bokeh_onload_callbacks\n",
       "    }\n",
       "    console.info(\"Bokeh: all callbacks have finished\");\n",
       "  }\n",
       "\n",
       "  function load_libs(js_urls, callback) {\n",
       "    root._bokeh_onload_callbacks.push(callback);\n",
       "    if (root._bokeh_is_loading > 0) {\n",
       "      console.log(\"Bokeh: BokehJS is being loaded, scheduling callback at\", now());\n",
       "      return null;\n",
       "    }\n",
       "    if (js_urls == null || js_urls.length === 0) {\n",
       "      run_callbacks();\n",
       "      return null;\n",
       "    }\n",
       "    console.log(\"Bokeh: BokehJS not loaded, scheduling load and callback at\", now());\n",
       "    root._bokeh_is_loading = js_urls.length;\n",
       "    for (var i = 0; i < js_urls.length; i++) {\n",
       "      var url = js_urls[i];\n",
       "      var s = document.createElement('script');\n",
       "      s.src = url;\n",
       "      s.async = false;\n",
       "      s.onreadystatechange = s.onload = function() {\n",
       "        root._bokeh_is_loading--;\n",
       "        if (root._bokeh_is_loading === 0) {\n",
       "          console.log(\"Bokeh: all BokehJS libraries loaded\");\n",
       "          run_callbacks()\n",
       "        }\n",
       "      };\n",
       "      s.onerror = function() {\n",
       "        console.warn(\"failed to load library \" + url);\n",
       "      };\n",
       "      console.log(\"Bokeh: injecting script tag for BokehJS library: \", url);\n",
       "      document.getElementsByTagName(\"head\")[0].appendChild(s);\n",
       "    }\n",
       "  };var element = document.getElementById(\"d362e7ed-a6b5-45f6-8fd0-2b89439e442b\");\n",
       "  if (element == null) {\n",
       "    console.log(\"Bokeh: ERROR: autoload.js configured with elementid 'd362e7ed-a6b5-45f6-8fd0-2b89439e442b' but no matching script tag was found. \")\n",
       "    return false;\n",
       "  }\n",
       "\n",
       "  var js_urls = [\"https://cdn.pydata.org/bokeh/release/bokeh-0.13.0.min.js\", \"https://cdn.pydata.org/bokeh/release/bokeh-widgets-0.13.0.min.js\", \"https://cdn.pydata.org/bokeh/release/bokeh-tables-0.13.0.min.js\", \"https://cdn.pydata.org/bokeh/release/bokeh-gl-0.13.0.min.js\"];\n",
       "\n",
       "  var inline_js = [\n",
       "    function(Bokeh) {\n",
       "      Bokeh.set_log_level(\"info\");\n",
       "    },\n",
       "    \n",
       "    function(Bokeh) {\n",
       "      \n",
       "    },\n",
       "    function(Bokeh) {\n",
       "      console.log(\"Bokeh: injecting CSS: https://cdn.pydata.org/bokeh/release/bokeh-0.13.0.min.css\");\n",
       "      Bokeh.embed.inject_css(\"https://cdn.pydata.org/bokeh/release/bokeh-0.13.0.min.css\");\n",
       "      console.log(\"Bokeh: injecting CSS: https://cdn.pydata.org/bokeh/release/bokeh-widgets-0.13.0.min.css\");\n",
       "      Bokeh.embed.inject_css(\"https://cdn.pydata.org/bokeh/release/bokeh-widgets-0.13.0.min.css\");\n",
       "      console.log(\"Bokeh: injecting CSS: https://cdn.pydata.org/bokeh/release/bokeh-tables-0.13.0.min.css\");\n",
       "      Bokeh.embed.inject_css(\"https://cdn.pydata.org/bokeh/release/bokeh-tables-0.13.0.min.css\");\n",
       "    }\n",
       "  ];\n",
       "\n",
       "  function run_inline_js() {\n",
       "    \n",
       "    if ((root.Bokeh !== undefined) || (force === true)) {\n",
       "      for (var i = 0; i < inline_js.length; i++) {\n",
       "        inline_js[i].call(root, root.Bokeh);\n",
       "      }if (force === true) {\n",
       "        display_loaded();\n",
       "      }} else if (Date.now() < root._bokeh_timeout) {\n",
       "      setTimeout(run_inline_js, 100);\n",
       "    } else if (!root._bokeh_failed_load) {\n",
       "      console.log(\"Bokeh: BokehJS failed to load within specified timeout.\");\n",
       "      root._bokeh_failed_load = true;\n",
       "    } else if (force !== true) {\n",
       "      var cell = $(document.getElementById(\"d362e7ed-a6b5-45f6-8fd0-2b89439e442b\")).parents('.cell').data().cell;\n",
       "      cell.output_area.append_execute_result(NB_LOAD_WARNING)\n",
       "    }\n",
       "\n",
       "  }\n",
       "\n",
       "  if (root._bokeh_is_loading === 0) {\n",
       "    console.log(\"Bokeh: BokehJS loaded, going straight to plotting\");\n",
       "    run_inline_js();\n",
       "  } else {\n",
       "    load_libs(js_urls, function() {\n",
       "      console.log(\"Bokeh: BokehJS plotting callback run at\", now());\n",
       "      run_inline_js();\n",
       "    });\n",
       "  }\n",
       "}(window));"
      ],
      "application/vnd.bokehjs_load.v0+json": "\n(function(root) {\n  function now() {\n    return new Date();\n  }\n\n  var force = true;\n\n  if (typeof (root._bokeh_onload_callbacks) === \"undefined\" || force === true) {\n    root._bokeh_onload_callbacks = [];\n    root._bokeh_is_loading = undefined;\n  }\n\n  \n\n  \n  if (typeof (root._bokeh_timeout) === \"undefined\" || force === true) {\n    root._bokeh_timeout = Date.now() + 5000;\n    root._bokeh_failed_load = false;\n  }\n\n  var NB_LOAD_WARNING = {'data': {'text/html':\n     \"<div style='background-color: #fdd'>\\n\"+\n     \"<p>\\n\"+\n     \"BokehJS does not appear to have successfully loaded. If loading BokehJS from CDN, this \\n\"+\n     \"may be due to a slow or bad network connection. Possible fixes:\\n\"+\n     \"</p>\\n\"+\n     \"<ul>\\n\"+\n     \"<li>re-rerun `output_notebook()` to attempt to load from CDN again, or</li>\\n\"+\n     \"<li>use INLINE resources instead, as so:</li>\\n\"+\n     \"</ul>\\n\"+\n     \"<code>\\n\"+\n     \"from bokeh.resources import INLINE\\n\"+\n     \"output_notebook(resources=INLINE)\\n\"+\n     \"</code>\\n\"+\n     \"</div>\"}};\n\n  function display_loaded() {\n    var el = document.getElementById(\"d362e7ed-a6b5-45f6-8fd0-2b89439e442b\");\n    if (el != null) {\n      el.textContent = \"BokehJS is loading...\";\n    }\n    if (root.Bokeh !== undefined) {\n      if (el != null) {\n        el.textContent = \"BokehJS \" + root.Bokeh.version + \" successfully loaded.\";\n      }\n    } else if (Date.now() < root._bokeh_timeout) {\n      setTimeout(display_loaded, 100)\n    }\n  }\n\n\n  function run_callbacks() {\n    try {\n      root._bokeh_onload_callbacks.forEach(function(callback) { callback() });\n    }\n    finally {\n      delete root._bokeh_onload_callbacks\n    }\n    console.info(\"Bokeh: all callbacks have finished\");\n  }\n\n  function load_libs(js_urls, callback) {\n    root._bokeh_onload_callbacks.push(callback);\n    if (root._bokeh_is_loading > 0) {\n      console.log(\"Bokeh: BokehJS is being loaded, scheduling callback at\", now());\n      return null;\n    }\n    if (js_urls == null || js_urls.length === 0) {\n      run_callbacks();\n      return null;\n    }\n    console.log(\"Bokeh: BokehJS not loaded, scheduling load and callback at\", now());\n    root._bokeh_is_loading = js_urls.length;\n    for (var i = 0; i < js_urls.length; i++) {\n      var url = js_urls[i];\n      var s = document.createElement('script');\n      s.src = url;\n      s.async = false;\n      s.onreadystatechange = s.onload = function() {\n        root._bokeh_is_loading--;\n        if (root._bokeh_is_loading === 0) {\n          console.log(\"Bokeh: all BokehJS libraries loaded\");\n          run_callbacks()\n        }\n      };\n      s.onerror = function() {\n        console.warn(\"failed to load library \" + url);\n      };\n      console.log(\"Bokeh: injecting script tag for BokehJS library: \", url);\n      document.getElementsByTagName(\"head\")[0].appendChild(s);\n    }\n  };var element = document.getElementById(\"d362e7ed-a6b5-45f6-8fd0-2b89439e442b\");\n  if (element == null) {\n    console.log(\"Bokeh: ERROR: autoload.js configured with elementid 'd362e7ed-a6b5-45f6-8fd0-2b89439e442b' but no matching script tag was found. \")\n    return false;\n  }\n\n  var js_urls = [\"https://cdn.pydata.org/bokeh/release/bokeh-0.13.0.min.js\", \"https://cdn.pydata.org/bokeh/release/bokeh-widgets-0.13.0.min.js\", \"https://cdn.pydata.org/bokeh/release/bokeh-tables-0.13.0.min.js\", \"https://cdn.pydata.org/bokeh/release/bokeh-gl-0.13.0.min.js\"];\n\n  var inline_js = [\n    function(Bokeh) {\n      Bokeh.set_log_level(\"info\");\n    },\n    \n    function(Bokeh) {\n      \n    },\n    function(Bokeh) {\n      console.log(\"Bokeh: injecting CSS: https://cdn.pydata.org/bokeh/release/bokeh-0.13.0.min.css\");\n      Bokeh.embed.inject_css(\"https://cdn.pydata.org/bokeh/release/bokeh-0.13.0.min.css\");\n      console.log(\"Bokeh: injecting CSS: https://cdn.pydata.org/bokeh/release/bokeh-widgets-0.13.0.min.css\");\n      Bokeh.embed.inject_css(\"https://cdn.pydata.org/bokeh/release/bokeh-widgets-0.13.0.min.css\");\n      console.log(\"Bokeh: injecting CSS: https://cdn.pydata.org/bokeh/release/bokeh-tables-0.13.0.min.css\");\n      Bokeh.embed.inject_css(\"https://cdn.pydata.org/bokeh/release/bokeh-tables-0.13.0.min.css\");\n    }\n  ];\n\n  function run_inline_js() {\n    \n    if ((root.Bokeh !== undefined) || (force === true)) {\n      for (var i = 0; i < inline_js.length; i++) {\n        inline_js[i].call(root, root.Bokeh);\n      }if (force === true) {\n        display_loaded();\n      }} else if (Date.now() < root._bokeh_timeout) {\n      setTimeout(run_inline_js, 100);\n    } else if (!root._bokeh_failed_load) {\n      console.log(\"Bokeh: BokehJS failed to load within specified timeout.\");\n      root._bokeh_failed_load = true;\n    } else if (force !== true) {\n      var cell = $(document.getElementById(\"d362e7ed-a6b5-45f6-8fd0-2b89439e442b\")).parents('.cell').data().cell;\n      cell.output_area.append_execute_result(NB_LOAD_WARNING)\n    }\n\n  }\n\n  if (root._bokeh_is_loading === 0) {\n    console.log(\"Bokeh: BokehJS loaded, going straight to plotting\");\n    run_inline_js();\n  } else {\n    load_libs(js_urls, function() {\n      console.log(\"Bokeh: BokehJS plotting callback run at\", now());\n      run_inline_js();\n    });\n  }\n}(window));"
     },
     "metadata": {},
     "output_type": "display_data"
    }
   ],
   "source": [
    "from bokeh.plotting import figure, output_notebook, show\n",
    "output_notebook()"
   ]
  },
  {
   "cell_type": "markdown",
   "metadata": {},
   "source": [
    "## Spans\n",
    "\n",
    "`Spans` are \"infinite\" vertical or horizonal lines. When creating them, you specify the `dimension` that should be spanned (i.e., `width` or `height`), any visual line properties for the appearance, and the location along the dimension where the line should be drawn. Let's look at an example that adds two horizontal spans to a simple plot:"
   ]
  },
  {
   "cell_type": "code",
   "execution_count": 13,
   "metadata": {},
   "outputs": [
    {
     "data": {
      "text/html": [
       "\n",
       "\n",
       "\n",
       "\n",
       "\n",
       "\n",
       "  <div class=\"bk-root\" id=\"ab867a05-913a-4dc7-b86c-afbfb3f61d2a\"></div>\n"
      ]
     },
     "metadata": {},
     "output_type": "display_data"
    },
    {
     "data": {
      "application/javascript": [
       "(function(root) {\n",
       "  function embed_document(root) {\n",
       "    \n",
       "  var docs_json = {\"ea02714e-520d-42d9-b301-b78ae205f2ad\":{\"roots\":{\"references\":[{\"attributes\":{},\"id\":\"2d98e364-615b-4d87-81a6-44fce783ac1f\",\"type\":\"PanTool\"},{\"attributes\":{\"line_alpha\":0.1,\"line_color\":\"#1f77b4\",\"x\":{\"field\":\"x\"},\"y\":{\"field\":\"y\"}},\"id\":\"9c8a2fdb-178e-4652-b79c-ccf9d2b6d597\",\"type\":\"Line\"},{\"attributes\":{},\"id\":\"47341033-219f-4dd7-85a9-67bf207dde14\",\"type\":\"WheelZoomTool\"},{\"attributes\":{\"active_drag\":\"auto\",\"active_inspect\":\"auto\",\"active_multi\":null,\"active_scroll\":\"auto\",\"active_tap\":\"auto\",\"tools\":[{\"id\":\"2d98e364-615b-4d87-81a6-44fce783ac1f\",\"type\":\"PanTool\"},{\"id\":\"47341033-219f-4dd7-85a9-67bf207dde14\",\"type\":\"WheelZoomTool\"},{\"id\":\"1aab92ce-540d-470f-bff6-38857d50ecbf\",\"type\":\"BoxZoomTool\"},{\"id\":\"0a0c8901-83d9-41f1-bcda-64e80070795e\",\"type\":\"SaveTool\"},{\"id\":\"ab077fd6-155d-498f-a197-1d8eb79a918a\",\"type\":\"ResetTool\"},{\"id\":\"cb48437a-2152-4e85-89eb-2c06e5c03259\",\"type\":\"HelpTool\"}]},\"id\":\"e43561d0-4866-493d-8f04-a54724a9dd2c\",\"type\":\"Toolbar\"},{\"attributes\":{\"callback\":null,\"end\":2,\"start\":-2},\"id\":\"6e8363e2-fc1a-4f70-bd40-acd92dd2b7fb\",\"type\":\"Range1d\"},{\"attributes\":{\"overlay\":{\"id\":\"e24579c8-a8bb-4f59-869e-a5bb4cfdbb9c\",\"type\":\"BoxAnnotation\"}},\"id\":\"1aab92ce-540d-470f-bff6-38857d50ecbf\",\"type\":\"BoxZoomTool\"},{\"attributes\":{\"below\":[{\"id\":\"15534264-85d5-489e-9a42-287a66df5fc4\",\"type\":\"LinearAxis\"}],\"left\":[{\"id\":\"e8fa4ec2-8dbf-4ab7-be88-60fda7e9f171\",\"type\":\"LinearAxis\"}],\"renderers\":[{\"id\":\"15534264-85d5-489e-9a42-287a66df5fc4\",\"type\":\"LinearAxis\"},{\"id\":\"cb93e63a-aedc-43d7-a4ed-22f135c6b510\",\"type\":\"Grid\"},{\"id\":\"e8fa4ec2-8dbf-4ab7-be88-60fda7e9f171\",\"type\":\"LinearAxis\"},{\"id\":\"498f702e-310d-4cff-b5e8-e2f6006852f9\",\"type\":\"Grid\"},{\"id\":\"e24579c8-a8bb-4f59-869e-a5bb4cfdbb9c\",\"type\":\"BoxAnnotation\"},{\"id\":\"2359702c-e60c-43fd-9302-a53c8831b9fd\",\"type\":\"GlyphRenderer\"},{\"id\":\"4986a4f0-a2f8-4752-9ab4-b8de49e0addc\",\"type\":\"Span\"},{\"id\":\"0e665177-e387-4bae-8007-4021b6e9b5ab\",\"type\":\"Span\"}],\"title\":{\"id\":\"e0bce30c-8954-457e-b6f1-8d755dbaf28e\",\"type\":\"Title\"},\"toolbar\":{\"id\":\"e43561d0-4866-493d-8f04-a54724a9dd2c\",\"type\":\"Toolbar\"},\"x_range\":{\"id\":\"a96f53c6-eb6a-4468-a0bb-743fecb77b26\",\"type\":\"DataRange1d\"},\"x_scale\":{\"id\":\"b3014fe0-6a34-4b85-9a9f-f32a74f2f9a6\",\"type\":\"LinearScale\"},\"y_range\":{\"id\":\"6e8363e2-fc1a-4f70-bd40-acd92dd2b7fb\",\"type\":\"Range1d\"},\"y_scale\":{\"id\":\"5e18e513-6964-40c4-a495-c9b7d398b1ad\",\"type\":\"LinearScale\"}},\"id\":\"1c472dee-7222-4180-b798-dd38f33e310e\",\"subtype\":\"Figure\",\"type\":\"Plot\"},{\"attributes\":{},\"id\":\"0a0c8901-83d9-41f1-bcda-64e80070795e\",\"type\":\"SaveTool\"},{\"attributes\":{},\"id\":\"ab077fd6-155d-498f-a197-1d8eb79a918a\",\"type\":\"ResetTool\"},{\"attributes\":{},\"id\":\"cb48437a-2152-4e85-89eb-2c06e5c03259\",\"type\":\"HelpTool\"},{\"attributes\":{},\"id\":\"388e74f3-c7c6-4239-9de8-2e223b96ac95\",\"type\":\"UnionRenderers\"},{\"attributes\":{},\"id\":\"d594fcf7-f3cc-4cd6-af57-765951c029d8\",\"type\":\"BasicTickFormatter\"},{\"attributes\":{},\"id\":\"1e7ce0e4-629f-461a-90b8-ad560ea3ab85\",\"type\":\"Selection\"},{\"attributes\":{\"line_color\":{\"value\":\"olive\"},\"line_width\":{\"value\":4},\"location\":1,\"plot\":{\"id\":\"1c472dee-7222-4180-b798-dd38f33e310e\",\"subtype\":\"Figure\",\"type\":\"Plot\"}},\"id\":\"4986a4f0-a2f8-4752-9ab4-b8de49e0addc\",\"type\":\"Span\"},{\"attributes\":{\"source\":{\"id\":\"adbce1ba-d593-456c-87b4-a39d07c9026b\",\"type\":\"ColumnDataSource\"}},\"id\":\"9b92b845-51d2-45bd-b0f1-76a9a878954d\",\"type\":\"CDSView\"},{\"attributes\":{},\"id\":\"b3014fe0-6a34-4b85-9a9f-f32a74f2f9a6\",\"type\":\"LinearScale\"},{\"attributes\":{\"data_source\":{\"id\":\"adbce1ba-d593-456c-87b4-a39d07c9026b\",\"type\":\"ColumnDataSource\"},\"glyph\":{\"id\":\"64e39072-b86e-42dd-8244-8c03af40188d\",\"type\":\"Line\"},\"hover_glyph\":null,\"muted_glyph\":null,\"nonselection_glyph\":{\"id\":\"9c8a2fdb-178e-4652-b79c-ccf9d2b6d597\",\"type\":\"Line\"},\"selection_glyph\":null,\"view\":{\"id\":\"9b92b845-51d2-45bd-b0f1-76a9a878954d\",\"type\":\"CDSView\"}},\"id\":\"2359702c-e60c-43fd-9302-a53c8831b9fd\",\"type\":\"GlyphRenderer\"},{\"attributes\":{},\"id\":\"5e18e513-6964-40c4-a495-c9b7d398b1ad\",\"type\":\"LinearScale\"},{\"attributes\":{\"callback\":null,\"data\":{\"x\":{\"__ndarray__\":\"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\",\"dtype\":\"float64\",\"shape\":[200]},\"y\":{\"__ndarray__\":\"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\",\"dtype\":\"float64\",\"shape\":[200]}},\"selected\":{\"id\":\"1e7ce0e4-629f-461a-90b8-ad560ea3ab85\",\"type\":\"Selection\"},\"selection_policy\":{\"id\":\"388e74f3-c7c6-4239-9de8-2e223b96ac95\",\"type\":\"UnionRenderers\"}},\"id\":\"adbce1ba-d593-456c-87b4-a39d07c9026b\",\"type\":\"ColumnDataSource\"},{\"attributes\":{\"line_color\":{\"value\":\"firebrick\"},\"line_width\":{\"value\":4},\"location\":-1,\"plot\":{\"id\":\"1c472dee-7222-4180-b798-dd38f33e310e\",\"subtype\":\"Figure\",\"type\":\"Plot\"}},\"id\":\"0e665177-e387-4bae-8007-4021b6e9b5ab\",\"type\":\"Span\"},{\"attributes\":{\"plot\":{\"id\":\"1c472dee-7222-4180-b798-dd38f33e310e\",\"subtype\":\"Figure\",\"type\":\"Plot\"},\"ticker\":{\"id\":\"f4b926ba-4f64-45f2-9b12-c1e35cd41141\",\"type\":\"BasicTicker\"}},\"id\":\"cb93e63a-aedc-43d7-a4ed-22f135c6b510\",\"type\":\"Grid\"},{\"attributes\":{},\"id\":\"c3607ae0-0184-4746-b8bb-066b99beb741\",\"type\":\"BasicTickFormatter\"},{\"attributes\":{\"formatter\":{\"id\":\"c3607ae0-0184-4746-b8bb-066b99beb741\",\"type\":\"BasicTickFormatter\"},\"plot\":{\"id\":\"1c472dee-7222-4180-b798-dd38f33e310e\",\"subtype\":\"Figure\",\"type\":\"Plot\"},\"ticker\":{\"id\":\"f4b926ba-4f64-45f2-9b12-c1e35cd41141\",\"type\":\"BasicTicker\"}},\"id\":\"15534264-85d5-489e-9a42-287a66df5fc4\",\"type\":\"LinearAxis\"},{\"attributes\":{},\"id\":\"f4b926ba-4f64-45f2-9b12-c1e35cd41141\",\"type\":\"BasicTicker\"},{\"attributes\":{\"formatter\":{\"id\":\"d594fcf7-f3cc-4cd6-af57-765951c029d8\",\"type\":\"BasicTickFormatter\"},\"plot\":{\"id\":\"1c472dee-7222-4180-b798-dd38f33e310e\",\"subtype\":\"Figure\",\"type\":\"Plot\"},\"ticker\":{\"id\":\"537d253f-a8c7-4de2-b1ac-64f889088fe6\",\"type\":\"BasicTicker\"}},\"id\":\"e8fa4ec2-8dbf-4ab7-be88-60fda7e9f171\",\"type\":\"LinearAxis\"},{\"attributes\":{},\"id\":\"537d253f-a8c7-4de2-b1ac-64f889088fe6\",\"type\":\"BasicTicker\"},{\"attributes\":{\"plot\":null,\"text\":\"\"},\"id\":\"e0bce30c-8954-457e-b6f1-8d755dbaf28e\",\"type\":\"Title\"},{\"attributes\":{\"dimension\":1,\"plot\":{\"id\":\"1c472dee-7222-4180-b798-dd38f33e310e\",\"subtype\":\"Figure\",\"type\":\"Plot\"},\"ticker\":{\"id\":\"537d253f-a8c7-4de2-b1ac-64f889088fe6\",\"type\":\"BasicTicker\"}},\"id\":\"498f702e-310d-4cff-b5e8-e2f6006852f9\",\"type\":\"Grid\"},{\"attributes\":{\"callback\":null},\"id\":\"a96f53c6-eb6a-4468-a0bb-743fecb77b26\",\"type\":\"DataRange1d\"},{\"attributes\":{\"line_color\":\"#1f77b4\",\"x\":{\"field\":\"x\"},\"y\":{\"field\":\"y\"}},\"id\":\"64e39072-b86e-42dd-8244-8c03af40188d\",\"type\":\"Line\"},{\"attributes\":{\"bottom_units\":\"screen\",\"fill_alpha\":{\"value\":0.5},\"fill_color\":{\"value\":\"lightgrey\"},\"left_units\":\"screen\",\"level\":\"overlay\",\"line_alpha\":{\"value\":1.0},\"line_color\":{\"value\":\"black\"},\"line_dash\":[4,4],\"line_width\":{\"value\":2},\"plot\":null,\"render_mode\":\"css\",\"right_units\":\"screen\",\"top_units\":\"screen\"},\"id\":\"e24579c8-a8bb-4f59-869e-a5bb4cfdbb9c\",\"type\":\"BoxAnnotation\"}],\"root_ids\":[\"1c472dee-7222-4180-b798-dd38f33e310e\"]},\"title\":\"Bokeh Application\",\"version\":\"0.13.0\"}};\n",
       "  var render_items = [{\"docid\":\"ea02714e-520d-42d9-b301-b78ae205f2ad\",\"roots\":{\"1c472dee-7222-4180-b798-dd38f33e310e\":\"ab867a05-913a-4dc7-b86c-afbfb3f61d2a\"}}];\n",
       "  root.Bokeh.embed.embed_items_notebook(docs_json, render_items);\n",
       "\n",
       "  }\n",
       "  if (root.Bokeh !== undefined) {\n",
       "    embed_document(root);\n",
       "  } else {\n",
       "    var attempts = 0;\n",
       "    var timer = setInterval(function(root) {\n",
       "      if (root.Bokeh !== undefined) {\n",
       "        embed_document(root);\n",
       "        clearInterval(timer);\n",
       "      }\n",
       "      attempts++;\n",
       "      if (attempts > 100) {\n",
       "        console.log(\"Bokeh: ERROR: Unable to run BokehJS code because BokehJS library is missing\")\n",
       "        clearInterval(timer);\n",
       "      }\n",
       "    }, 10, root)\n",
       "  }\n",
       "})(window);"
      ],
      "application/vnd.bokehjs_exec.v0+json": ""
     },
     "metadata": {
      "application/vnd.bokehjs_exec.v0+json": {
       "id": "1c472dee-7222-4180-b798-dd38f33e310e"
      }
     },
     "output_type": "display_data"
    }
   ],
   "source": [
    "import numpy as np\n",
    "from bokeh.models.annotations import Span\n",
    "\n",
    "x = np.linspace(0, 20, 200)\n",
    "y = np.sin(x)\n",
    "\n",
    "p = figure(y_range=(-2, 2))\n",
    "p.line(x, y)\n",
    "\n",
    "upper = Span(location=1, dimension='width', line_color='olive', line_width=4)\n",
    "p.add_layout(upper)\n",
    "\n",
    "lower = Span(location=-1, dimension='width', line_color='firebrick', line_width=4)\n",
    "p.add_layout(lower)\n",
    "\n",
    "show(p)"
   ]
  },
  {
   "cell_type": "code",
   "execution_count": 14,
   "metadata": {},
   "outputs": [],
   "source": [
    "# EXERCISE 1: experiment with Span"
   ]
  },
  {
   "cell_type": "markdown",
   "metadata": {},
   "source": [
    "## Box Annotations\n",
    "\n",
    "Sometimes you might want to call out some region of the plot by drawing a shaded box. This can be done with the `BoxAnnotation`, which is configured with the coordinate properties:\n",
    "* `top`\n",
    "* `left`\n",
    "* `bottom`\n",
    "* `right`\n",
    "\n",
    "as well as any visual line or fill properties to control the appearance. \n",
    "\n",
    "\"Infinite\" boxes can be made by leaving any of the coordinates unspecified. E.g., if `top` is not given, the box will always extend to the top of the plot area, regardless of any panning or zooming that happens.\n",
    "\n",
    "Let's take a look at an example that adds a few shaded boxes to a plot:"
   ]
  },
  {
   "cell_type": "code",
   "execution_count": 15,
   "metadata": {},
   "outputs": [
    {
     "data": {
      "text/html": [
       "\n",
       "\n",
       "\n",
       "\n",
       "\n",
       "\n",
       "  <div class=\"bk-root\" id=\"598301f1-4260-42b9-aeb4-807e60fb0d7c\"></div>\n"
      ]
     },
     "metadata": {},
     "output_type": "display_data"
    },
    {
     "data": {
      "application/javascript": [
       "(function(root) {\n",
       "  function embed_document(root) {\n",
       "    \n",
       "  var docs_json = {\"4dae0c76-dee1-4cf8-8cf8-095d210c1211\":{\"roots\":{\"references\":[{\"attributes\":{\"formatter\":{\"id\":\"97c308fd-96a1-4c43-ac5a-4e74f05551c9\",\"type\":\"BasicTickFormatter\"},\"plot\":{\"id\":\"fac410d9-edca-43f2-ac6f-cf732f8c1a77\",\"subtype\":\"Figure\",\"type\":\"Plot\"},\"ticker\":{\"id\":\"8c04d00b-1a28-4866-8ddf-75da9a20abbf\",\"type\":\"BasicTicker\"}},\"id\":\"d134207e-8495-428c-ba2a-5bdb52707d48\",\"type\":\"LinearAxis\"},{\"attributes\":{\"bottom_units\":\"screen\",\"fill_alpha\":{\"value\":0.5},\"fill_color\":{\"value\":\"lightgrey\"},\"left_units\":\"screen\",\"level\":\"overlay\",\"line_alpha\":{\"value\":1.0},\"line_color\":{\"value\":\"black\"},\"line_dash\":[4,4],\"line_width\":{\"value\":2},\"plot\":null,\"render_mode\":\"css\",\"right_units\":\"screen\",\"top_units\":\"screen\"},\"id\":\"4a28427d-fa26-47f2-8bea-6f8f089ce68e\",\"type\":\"BoxAnnotation\"},{\"attributes\":{},\"id\":\"7d1a1587-be21-4c66-b4a3-6bf1880af051\",\"type\":\"PanTool\"},{\"attributes\":{\"formatter\":{\"id\":\"39ff7278-600d-4be6-9cdd-6d899ef5fcbf\",\"type\":\"BasicTickFormatter\"},\"plot\":{\"id\":\"fac410d9-edca-43f2-ac6f-cf732f8c1a77\",\"subtype\":\"Figure\",\"type\":\"Plot\"},\"ticker\":{\"id\":\"0f9c1f4c-e0b6-4a4f-b894-40bbadf74a12\",\"type\":\"BasicTicker\"}},\"id\":\"b650cc44-86c9-4a6f-bd81-3be0454d9bb9\",\"type\":\"LinearAxis\"},{\"attributes\":{},\"id\":\"3df87cd9-074a-40b2-b749-84e2bbb98e3f\",\"type\":\"HelpTool\"},{\"attributes\":{\"overlay\":{\"id\":\"4a28427d-fa26-47f2-8bea-6f8f089ce68e\",\"type\":\"BoxAnnotation\"}},\"id\":\"ff193f12-6cb3-406c-ad26-6c99e238f613\",\"type\":\"BoxZoomTool\"},{\"attributes\":{},\"id\":\"4333c649-6e1f-48ee-bd6c-728569939288\",\"type\":\"Selection\"},{\"attributes\":{\"bottom\":-0.3,\"fill_alpha\":{\"value\":0.1},\"fill_color\":{\"value\":\"navy\"},\"left\":7,\"plot\":{\"id\":\"fac410d9-edca-43f2-ac6f-cf732f8c1a77\",\"subtype\":\"Figure\",\"type\":\"Plot\"},\"right\":12,\"top\":0.6},\"id\":\"90bc97c8-3b7c-431a-90a2-121a8cc9f338\",\"type\":\"BoxAnnotation\"},{\"attributes\":{},\"id\":\"26c3479b-fd48-4df9-902e-33ddb72a9d8c\",\"type\":\"SaveTool\"},{\"attributes\":{},\"id\":\"4ef0511f-acc9-4867-9a0b-9cee81938b46\",\"type\":\"ResetTool\"},{\"attributes\":{},\"id\":\"c548b98e-30ac-47ec-b392-2d479b63695e\",\"type\":\"UnionRenderers\"},{\"attributes\":{\"plot\":{\"id\":\"fac410d9-edca-43f2-ac6f-cf732f8c1a77\",\"subtype\":\"Figure\",\"type\":\"Plot\"},\"ticker\":{\"id\":\"0f9c1f4c-e0b6-4a4f-b894-40bbadf74a12\",\"type\":\"BasicTicker\"}},\"id\":\"f049bdb8-bd87-4d10-b0da-aa61e16b777d\",\"type\":\"Grid\"},{\"attributes\":{},\"id\":\"504ef313-903f-496a-886a-b6299e56fa05\",\"type\":\"LinearScale\"},{\"attributes\":{\"dimension\":1,\"plot\":{\"id\":\"fac410d9-edca-43f2-ac6f-cf732f8c1a77\",\"subtype\":\"Figure\",\"type\":\"Plot\"},\"ticker\":{\"id\":\"8c04d00b-1a28-4866-8ddf-75da9a20abbf\",\"type\":\"BasicTicker\"}},\"id\":\"b2d26bb5-ada8-4471-9420-26b9f1633c98\",\"type\":\"Grid\"},{\"attributes\":{},\"id\":\"bf82d8cd-e100-4da8-874b-bd43a6982723\",\"type\":\"LinearScale\"},{\"attributes\":{\"source\":{\"id\":\"175907c8-5eee-46a1-a9e7-9186145138cc\",\"type\":\"ColumnDataSource\"}},\"id\":\"9ce1a2b7-499a-4bf9-b4d4-1216d2b76b7f\",\"type\":\"CDSView\"},{\"attributes\":{\"bottom\":1,\"fill_alpha\":{\"value\":0.1},\"fill_color\":{\"value\":\"olive\"},\"plot\":{\"id\":\"fac410d9-edca-43f2-ac6f-cf732f8c1a77\",\"subtype\":\"Figure\",\"type\":\"Plot\"}},\"id\":\"6d1f244b-817b-4039-bdb1-2a0825ce3f12\",\"type\":\"BoxAnnotation\"},{\"attributes\":{\"plot\":null,\"text\":\"\"},\"id\":\"2405f738-9749-4fda-a50e-314c44dd64a8\",\"type\":\"Title\"},{\"attributes\":{\"callback\":null,\"end\":2,\"start\":-2},\"id\":\"00ff8937-c823-4b56-8533-9a189cd3dca3\",\"type\":\"Range1d\"},{\"attributes\":{},\"id\":\"8c04d00b-1a28-4866-8ddf-75da9a20abbf\",\"type\":\"BasicTicker\"},{\"attributes\":{\"callback\":null,\"data\":{\"x\":{\"__ndarray__\":\"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\",\"dtype\":\"float64\",\"shape\":[200]},\"y\":{\"__ndarray__\":\"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\",\"dtype\":\"float64\",\"shape\":[200]}},\"selected\":{\"id\":\"4333c649-6e1f-48ee-bd6c-728569939288\",\"type\":\"Selection\"},\"selection_policy\":{\"id\":\"c548b98e-30ac-47ec-b392-2d479b63695e\",\"type\":\"UnionRenderers\"}},\"id\":\"175907c8-5eee-46a1-a9e7-9186145138cc\",\"type\":\"ColumnDataSource\"},{\"attributes\":{\"callback\":null},\"id\":\"5cafc726-bc1a-49b5-901a-bbcfadf921d9\",\"type\":\"DataRange1d\"},{\"attributes\":{\"below\":[{\"id\":\"b650cc44-86c9-4a6f-bd81-3be0454d9bb9\",\"type\":\"LinearAxis\"}],\"left\":[{\"id\":\"d134207e-8495-428c-ba2a-5bdb52707d48\",\"type\":\"LinearAxis\"}],\"renderers\":[{\"id\":\"b650cc44-86c9-4a6f-bd81-3be0454d9bb9\",\"type\":\"LinearAxis\"},{\"id\":\"f049bdb8-bd87-4d10-b0da-aa61e16b777d\",\"type\":\"Grid\"},{\"id\":\"d134207e-8495-428c-ba2a-5bdb52707d48\",\"type\":\"LinearAxis\"},{\"id\":\"b2d26bb5-ada8-4471-9420-26b9f1633c98\",\"type\":\"Grid\"},{\"id\":\"4a28427d-fa26-47f2-8bea-6f8f089ce68e\",\"type\":\"BoxAnnotation\"},{\"id\":\"51c46a97-5496-48f1-95b9-871fc0b50220\",\"type\":\"GlyphRenderer\"},{\"id\":\"6d1f244b-817b-4039-bdb1-2a0825ce3f12\",\"type\":\"BoxAnnotation\"},{\"id\":\"7f2249c8-2f70-4c06-8492-f2ff2babc05e\",\"type\":\"BoxAnnotation\"},{\"id\":\"90bc97c8-3b7c-431a-90a2-121a8cc9f338\",\"type\":\"BoxAnnotation\"}],\"title\":{\"id\":\"2405f738-9749-4fda-a50e-314c44dd64a8\",\"type\":\"Title\"},\"toolbar\":{\"id\":\"ac6cde55-1d57-4c9b-a8b9-3069e882623f\",\"type\":\"Toolbar\"},\"x_range\":{\"id\":\"5cafc726-bc1a-49b5-901a-bbcfadf921d9\",\"type\":\"DataRange1d\"},\"x_scale\":{\"id\":\"bf82d8cd-e100-4da8-874b-bd43a6982723\",\"type\":\"LinearScale\"},\"y_range\":{\"id\":\"00ff8937-c823-4b56-8533-9a189cd3dca3\",\"type\":\"Range1d\"},\"y_scale\":{\"id\":\"504ef313-903f-496a-886a-b6299e56fa05\",\"type\":\"LinearScale\"}},\"id\":\"fac410d9-edca-43f2-ac6f-cf732f8c1a77\",\"subtype\":\"Figure\",\"type\":\"Plot\"},{\"attributes\":{\"active_drag\":\"auto\",\"active_inspect\":\"auto\",\"active_multi\":null,\"active_scroll\":\"auto\",\"active_tap\":\"auto\",\"tools\":[{\"id\":\"7d1a1587-be21-4c66-b4a3-6bf1880af051\",\"type\":\"PanTool\"},{\"id\":\"74a080f0-d3f3-4d7c-bfc6-404197ec8129\",\"type\":\"WheelZoomTool\"},{\"id\":\"ff193f12-6cb3-406c-ad26-6c99e238f613\",\"type\":\"BoxZoomTool\"},{\"id\":\"26c3479b-fd48-4df9-902e-33ddb72a9d8c\",\"type\":\"SaveTool\"},{\"id\":\"4ef0511f-acc9-4867-9a0b-9cee81938b46\",\"type\":\"ResetTool\"},{\"id\":\"3df87cd9-074a-40b2-b749-84e2bbb98e3f\",\"type\":\"HelpTool\"}]},\"id\":\"ac6cde55-1d57-4c9b-a8b9-3069e882623f\",\"type\":\"Toolbar\"},{\"attributes\":{\"line_alpha\":0.1,\"line_color\":\"#1f77b4\",\"x\":{\"field\":\"x\"},\"y\":{\"field\":\"y\"}},\"id\":\"2190a3bf-8575-4971-afff-d88175e3f911\",\"type\":\"Line\"},{\"attributes\":{},\"id\":\"74a080f0-d3f3-4d7c-bfc6-404197ec8129\",\"type\":\"WheelZoomTool\"},{\"attributes\":{},\"id\":\"39ff7278-600d-4be6-9cdd-6d899ef5fcbf\",\"type\":\"BasicTickFormatter\"},{\"attributes\":{},\"id\":\"97c308fd-96a1-4c43-ac5a-4e74f05551c9\",\"type\":\"BasicTickFormatter\"},{\"attributes\":{\"data_source\":{\"id\":\"175907c8-5eee-46a1-a9e7-9186145138cc\",\"type\":\"ColumnDataSource\"},\"glyph\":{\"id\":\"dde4e2bd-1195-414b-9f1d-3480b135d491\",\"type\":\"Line\"},\"hover_glyph\":null,\"muted_glyph\":null,\"nonselection_glyph\":{\"id\":\"2190a3bf-8575-4971-afff-d88175e3f911\",\"type\":\"Line\"},\"selection_glyph\":null,\"view\":{\"id\":\"9ce1a2b7-499a-4bf9-b4d4-1216d2b76b7f\",\"type\":\"CDSView\"}},\"id\":\"51c46a97-5496-48f1-95b9-871fc0b50220\",\"type\":\"GlyphRenderer\"},{\"attributes\":{\"line_color\":\"#1f77b4\",\"x\":{\"field\":\"x\"},\"y\":{\"field\":\"y\"}},\"id\":\"dde4e2bd-1195-414b-9f1d-3480b135d491\",\"type\":\"Line\"},{\"attributes\":{\"fill_alpha\":{\"value\":0.1},\"fill_color\":{\"value\":\"firebrick\"},\"plot\":{\"id\":\"fac410d9-edca-43f2-ac6f-cf732f8c1a77\",\"subtype\":\"Figure\",\"type\":\"Plot\"},\"top\":-1},\"id\":\"7f2249c8-2f70-4c06-8492-f2ff2babc05e\",\"type\":\"BoxAnnotation\"},{\"attributes\":{},\"id\":\"0f9c1f4c-e0b6-4a4f-b894-40bbadf74a12\",\"type\":\"BasicTicker\"}],\"root_ids\":[\"fac410d9-edca-43f2-ac6f-cf732f8c1a77\"]},\"title\":\"Bokeh Application\",\"version\":\"0.13.0\"}};\n",
       "  var render_items = [{\"docid\":\"4dae0c76-dee1-4cf8-8cf8-095d210c1211\",\"roots\":{\"fac410d9-edca-43f2-ac6f-cf732f8c1a77\":\"598301f1-4260-42b9-aeb4-807e60fb0d7c\"}}];\n",
       "  root.Bokeh.embed.embed_items_notebook(docs_json, render_items);\n",
       "\n",
       "  }\n",
       "  if (root.Bokeh !== undefined) {\n",
       "    embed_document(root);\n",
       "  } else {\n",
       "    var attempts = 0;\n",
       "    var timer = setInterval(function(root) {\n",
       "      if (root.Bokeh !== undefined) {\n",
       "        embed_document(root);\n",
       "        clearInterval(timer);\n",
       "      }\n",
       "      attempts++;\n",
       "      if (attempts > 100) {\n",
       "        console.log(\"Bokeh: ERROR: Unable to run BokehJS code because BokehJS library is missing\")\n",
       "        clearInterval(timer);\n",
       "      }\n",
       "    }, 10, root)\n",
       "  }\n",
       "})(window);"
      ],
      "application/vnd.bokehjs_exec.v0+json": ""
     },
     "metadata": {
      "application/vnd.bokehjs_exec.v0+json": {
       "id": "fac410d9-edca-43f2-ac6f-cf732f8c1a77"
      }
     },
     "output_type": "display_data"
    }
   ],
   "source": [
    "import numpy as np\n",
    "from bokeh.models.annotations import BoxAnnotation\n",
    "\n",
    "x = np.linspace(0, 20, 200)\n",
    "y = np.sin(x)\n",
    "\n",
    "p = figure(y_range=(-2, 2))\n",
    "p.line(x, y)\n",
    "\n",
    "# region that always fills the top of the plot\n",
    "upper = BoxAnnotation(bottom=1, fill_alpha=0.1, fill_color='olive')\n",
    "p.add_layout(upper)\n",
    "\n",
    "# region that always fills the bottom of the plot\n",
    "lower = BoxAnnotation(top=-1, fill_alpha=0.1, fill_color='firebrick')\n",
    "p.add_layout(lower)\n",
    "\n",
    "# a finite region\n",
    "center = BoxAnnotation(top=0.6, bottom=-0.3, left=7, right=12, fill_alpha=0.1, fill_color='navy')\n",
    "p.add_layout(center)\n",
    "\n",
    "show(p)"
   ]
  },
  {
   "cell_type": "code",
   "execution_count": 17,
   "metadata": {},
   "outputs": [],
   "source": [
    "# EXERCISE 2: experiment with BoxAnnotation"
   ]
  },
  {
   "cell_type": "markdown",
   "metadata": {},
   "source": [
    "## Label\n",
    "\n",
    "The `Label` annotation allows you to easily attach single text labels to plots. The position and text to display are configured as `x`, `y`, and `text`:\n",
    "\n",
    "```python\n",
    "Label(x=10, y=5, text=\"Some Label\")\n",
    "```\n",
    "\n",
    "By default the units are in \"data space\" but `x_units` and `y_units` maybe set to `\"screen\"` to position the label relative to the canvas. Labels can also accept `x_offset` and `y_offset` to offset the final position from `x` and `y` by a given screen space distance. \n",
    "\n",
    "`Label` objects also have standard text, line (`border_line`) and fill (`background_fill`) properties. The line and fill properties apply to a bounding box around the text:\n",
    "\n",
    "```python\n",
    "Label(x=10, y=5, text=\"Some Label\", text_font_size=\"12pt\", \n",
    "      border_line_color=\"red\", background_fill_color=\"blue\")\n",
    "```"
   ]
  },
  {
   "cell_type": "code",
   "execution_count": 18,
   "metadata": {},
   "outputs": [
    {
     "data": {
      "text/html": [
       "\n",
       "\n",
       "\n",
       "\n",
       "\n",
       "\n",
       "  <div class=\"bk-root\" id=\"986eec3f-1f4e-4e64-8e87-54e8eff2b503\"></div>\n"
      ]
     },
     "metadata": {},
     "output_type": "display_data"
    },
    {
     "data": {
      "application/javascript": [
       "(function(root) {\n",
       "  function embed_document(root) {\n",
       "    \n",
       "  var docs_json = {\"c2a51afa-6c35-44e2-b9f8-4f64793a3c48\":{\"roots\":{\"references\":[{\"attributes\":{\"callback\":null,\"end\":10},\"id\":\"70b9d9a0-0035-4845-8d05-b4cb03b7c048\",\"type\":\"Range1d\"},{\"attributes\":{},\"id\":\"dac0c01a-3885-479b-bb8d-ee7c5c77a6ce\",\"type\":\"BasicTicker\"},{\"attributes\":{},\"id\":\"4b127c3c-0d4e-4c23-80e5-88aba637f072\",\"type\":\"Selection\"},{\"attributes\":{},\"id\":\"c2f9a86f-04a8-4550-9bfb-6a5f38de1e02\",\"type\":\"LinearScale\"},{\"attributes\":{},\"id\":\"87e2b0d4-237a-479f-86dd-f7be5135b368\",\"type\":\"UnionRenderers\"},{\"attributes\":{\"fill_alpha\":{\"value\":0.1},\"fill_color\":{\"value\":\"#1f77b4\"},\"line_alpha\":{\"value\":0.1},\"line_color\":{\"value\":\"#1f77b4\"},\"size\":{\"units\":\"screen\",\"value\":10},\"x\":{\"field\":\"x\"},\"y\":{\"field\":\"y\"}},\"id\":\"64a09f86-40a4-4a1f-94f7-11379149a8d9\",\"type\":\"Circle\"},{\"attributes\":{\"data_source\":{\"id\":\"6eae98d8-6b07-4adc-a436-14ae2755d48b\",\"type\":\"ColumnDataSource\"},\"glyph\":{\"id\":\"a8f32c3f-dbda-4baf-bdf4-8c42bc6c3810\",\"type\":\"Circle\"},\"hover_glyph\":null,\"muted_glyph\":null,\"nonselection_glyph\":{\"id\":\"64a09f86-40a4-4a1f-94f7-11379149a8d9\",\"type\":\"Circle\"},\"selection_glyph\":null,\"view\":{\"id\":\"59fdba3d-54d3-4a87-8a1e-86bb238c0afa\",\"type\":\"CDSView\"}},\"id\":\"39a3c309-7c08-45f1-8211-0ca5c3893b86\",\"type\":\"GlyphRenderer\"},{\"attributes\":{\"callback\":null,\"data\":{\"x\":[2,5,8],\"y\":[4,7,6]},\"selected\":{\"id\":\"4b127c3c-0d4e-4c23-80e5-88aba637f072\",\"type\":\"Selection\"},\"selection_policy\":{\"id\":\"87e2b0d4-237a-479f-86dd-f7be5135b368\",\"type\":\"UnionRenderers\"}},\"id\":\"6eae98d8-6b07-4adc-a436-14ae2755d48b\",\"type\":\"ColumnDataSource\"},{\"attributes\":{},\"id\":\"b87d4bcd-c2a7-46bb-a99a-2ec6ddbd3748\",\"type\":\"HelpTool\"},{\"attributes\":{},\"id\":\"a7e2f677-1b79-41eb-b2c7-c2d694e05c02\",\"type\":\"BasicTickFormatter\"},{\"attributes\":{\"source\":{\"id\":\"6eae98d8-6b07-4adc-a436-14ae2755d48b\",\"type\":\"ColumnDataSource\"}},\"id\":\"59fdba3d-54d3-4a87-8a1e-86bb238c0afa\",\"type\":\"CDSView\"},{\"attributes\":{},\"id\":\"016ccbad-a43f-49c8-bd49-c059089ae8cb\",\"type\":\"PanTool\"},{\"attributes\":{\"bottom_units\":\"screen\",\"fill_alpha\":{\"value\":0.5},\"fill_color\":{\"value\":\"lightgrey\"},\"left_units\":\"screen\",\"level\":\"overlay\",\"line_alpha\":{\"value\":1.0},\"line_color\":{\"value\":\"black\"},\"line_dash\":[4,4],\"line_width\":{\"value\":2},\"plot\":null,\"render_mode\":\"css\",\"right_units\":\"screen\",\"top_units\":\"screen\"},\"id\":\"7c9df58e-b5ff-4100-a5f6-e567ba89f3a2\",\"type\":\"BoxAnnotation\"},{\"attributes\":{\"active_drag\":\"auto\",\"active_inspect\":\"auto\",\"active_multi\":null,\"active_scroll\":\"auto\",\"active_tap\":\"auto\",\"tools\":[{\"id\":\"016ccbad-a43f-49c8-bd49-c059089ae8cb\",\"type\":\"PanTool\"},{\"id\":\"ab9032d8-fa86-45dd-8d06-9af00e576144\",\"type\":\"WheelZoomTool\"},{\"id\":\"66059ac2-689c-4b76-8b99-af1ecbcf5fcd\",\"type\":\"BoxZoomTool\"},{\"id\":\"fd9f1565-13eb-479a-88a6-ae89a31de55f\",\"type\":\"SaveTool\"},{\"id\":\"a708401e-52f6-4ba8-886f-3b46a7aad5df\",\"type\":\"ResetTool\"},{\"id\":\"b87d4bcd-c2a7-46bb-a99a-2ec6ddbd3748\",\"type\":\"HelpTool\"}]},\"id\":\"90a02ec2-992e-4985-acf9-e2920956283d\",\"type\":\"Toolbar\"},{\"attributes\":{\"plot\":null,\"text\":\"\"},\"id\":\"2baccd66-fb6a-481d-8da3-2f7a5bcc2e23\",\"type\":\"Title\"},{\"attributes\":{\"formatter\":{\"id\":\"a7e2f677-1b79-41eb-b2c7-c2d694e05c02\",\"type\":\"BasicTickFormatter\"},\"plot\":{\"id\":\"c68c36f2-8980-4a6c-8e39-a3add9dd5579\",\"subtype\":\"Figure\",\"type\":\"Plot\"},\"ticker\":{\"id\":\"dac0c01a-3885-479b-bb8d-ee7c5c77a6ce\",\"type\":\"BasicTicker\"}},\"id\":\"3bd236e2-c6d3-4f9a-a2c5-a509786c4e6b\",\"type\":\"LinearAxis\"},{\"attributes\":{},\"id\":\"ab9032d8-fa86-45dd-8d06-9af00e576144\",\"type\":\"WheelZoomTool\"},{\"attributes\":{\"below\":[{\"id\":\"80e3bdf8-fd2c-4ff9-a9ea-fa8d92d8407f\",\"type\":\"LinearAxis\"}],\"left\":[{\"id\":\"3bd236e2-c6d3-4f9a-a2c5-a509786c4e6b\",\"type\":\"LinearAxis\"}],\"renderers\":[{\"id\":\"80e3bdf8-fd2c-4ff9-a9ea-fa8d92d8407f\",\"type\":\"LinearAxis\"},{\"id\":\"e37e8318-6c70-43fc-9976-ac3b62f7a04b\",\"type\":\"Grid\"},{\"id\":\"3bd236e2-c6d3-4f9a-a2c5-a509786c4e6b\",\"type\":\"LinearAxis\"},{\"id\":\"43fa2e7e-c93f-4195-9722-d3c255e42bb5\",\"type\":\"Grid\"},{\"id\":\"7c9df58e-b5ff-4100-a5f6-e567ba89f3a2\",\"type\":\"BoxAnnotation\"},{\"id\":\"39a3c309-7c08-45f1-8211-0ca5c3893b86\",\"type\":\"GlyphRenderer\"},{\"id\":\"b5aa7604-15ba-4d58-8e52-51609dad054f\",\"type\":\"Label\"}],\"title\":{\"id\":\"2baccd66-fb6a-481d-8da3-2f7a5bcc2e23\",\"type\":\"Title\"},\"toolbar\":{\"id\":\"90a02ec2-992e-4985-acf9-e2920956283d\",\"type\":\"Toolbar\"},\"x_range\":{\"id\":\"08eee635-8c3e-46e0-ab4f-a00e7b910024\",\"type\":\"Range1d\"},\"x_scale\":{\"id\":\"9bf1c43f-ef76-4198-85e8-6791b18a534a\",\"type\":\"LinearScale\"},\"y_range\":{\"id\":\"70b9d9a0-0035-4845-8d05-b4cb03b7c048\",\"type\":\"Range1d\"},\"y_scale\":{\"id\":\"c2f9a86f-04a8-4550-9bfb-6a5f38de1e02\",\"type\":\"LinearScale\"}},\"id\":\"c68c36f2-8980-4a6c-8e39-a3add9dd5579\",\"subtype\":\"Figure\",\"type\":\"Plot\"},{\"attributes\":{\"dimension\":1,\"plot\":{\"id\":\"c68c36f2-8980-4a6c-8e39-a3add9dd5579\",\"subtype\":\"Figure\",\"type\":\"Plot\"},\"ticker\":{\"id\":\"dac0c01a-3885-479b-bb8d-ee7c5c77a6ce\",\"type\":\"BasicTicker\"}},\"id\":\"43fa2e7e-c93f-4195-9722-d3c255e42bb5\",\"type\":\"Grid\"},{\"attributes\":{},\"id\":\"69a54302-46be-4e4c-a6eb-7ef299f77cf4\",\"type\":\"BasicTicker\"},{\"attributes\":{\"formatter\":{\"id\":\"669a9ec1-9b72-44b1-b690-3809d84693ce\",\"type\":\"BasicTickFormatter\"},\"plot\":{\"id\":\"c68c36f2-8980-4a6c-8e39-a3add9dd5579\",\"subtype\":\"Figure\",\"type\":\"Plot\"},\"ticker\":{\"id\":\"69a54302-46be-4e4c-a6eb-7ef299f77cf4\",\"type\":\"BasicTicker\"}},\"id\":\"80e3bdf8-fd2c-4ff9-a9ea-fa8d92d8407f\",\"type\":\"LinearAxis\"},{\"attributes\":{},\"id\":\"9bf1c43f-ef76-4198-85e8-6791b18a534a\",\"type\":\"LinearScale\"},{\"attributes\":{\"callback\":null,\"end\":10},\"id\":\"08eee635-8c3e-46e0-ab4f-a00e7b910024\",\"type\":\"Range1d\"},{\"attributes\":{},\"id\":\"fd9f1565-13eb-479a-88a6-ae89a31de55f\",\"type\":\"SaveTool\"},{\"attributes\":{},\"id\":\"669a9ec1-9b72-44b1-b690-3809d84693ce\",\"type\":\"BasicTickFormatter\"},{\"attributes\":{\"fill_color\":{\"value\":\"olive\"},\"line_color\":{\"value\":\"olive\"},\"size\":{\"units\":\"screen\",\"value\":10},\"x\":{\"field\":\"x\"},\"y\":{\"field\":\"y\"}},\"id\":\"a8f32c3f-dbda-4baf-bdf4-8c42bc6c3810\",\"type\":\"Circle\"},{\"attributes\":{\"plot\":{\"id\":\"c68c36f2-8980-4a6c-8e39-a3add9dd5579\",\"subtype\":\"Figure\",\"type\":\"Plot\"},\"text\":\"Second Point\",\"text_baseline\":\"middle\",\"x\":5,\"x_offset\":12,\"y\":7},\"id\":\"b5aa7604-15ba-4d58-8e52-51609dad054f\",\"type\":\"Label\"},{\"attributes\":{\"overlay\":{\"id\":\"7c9df58e-b5ff-4100-a5f6-e567ba89f3a2\",\"type\":\"BoxAnnotation\"}},\"id\":\"66059ac2-689c-4b76-8b99-af1ecbcf5fcd\",\"type\":\"BoxZoomTool\"},{\"attributes\":{\"plot\":{\"id\":\"c68c36f2-8980-4a6c-8e39-a3add9dd5579\",\"subtype\":\"Figure\",\"type\":\"Plot\"},\"ticker\":{\"id\":\"69a54302-46be-4e4c-a6eb-7ef299f77cf4\",\"type\":\"BasicTicker\"}},\"id\":\"e37e8318-6c70-43fc-9976-ac3b62f7a04b\",\"type\":\"Grid\"},{\"attributes\":{},\"id\":\"a708401e-52f6-4ba8-886f-3b46a7aad5df\",\"type\":\"ResetTool\"}],\"root_ids\":[\"c68c36f2-8980-4a6c-8e39-a3add9dd5579\"]},\"title\":\"Bokeh Application\",\"version\":\"0.13.0\"}};\n",
       "  var render_items = [{\"docid\":\"c2a51afa-6c35-44e2-b9f8-4f64793a3c48\",\"roots\":{\"c68c36f2-8980-4a6c-8e39-a3add9dd5579\":\"986eec3f-1f4e-4e64-8e87-54e8eff2b503\"}}];\n",
       "  root.Bokeh.embed.embed_items_notebook(docs_json, render_items);\n",
       "\n",
       "  }\n",
       "  if (root.Bokeh !== undefined) {\n",
       "    embed_document(root);\n",
       "  } else {\n",
       "    var attempts = 0;\n",
       "    var timer = setInterval(function(root) {\n",
       "      if (root.Bokeh !== undefined) {\n",
       "        embed_document(root);\n",
       "        clearInterval(timer);\n",
       "      }\n",
       "      attempts++;\n",
       "      if (attempts > 100) {\n",
       "        console.log(\"Bokeh: ERROR: Unable to run BokehJS code because BokehJS library is missing\")\n",
       "        clearInterval(timer);\n",
       "      }\n",
       "    }, 10, root)\n",
       "  }\n",
       "})(window);"
      ],
      "application/vnd.bokehjs_exec.v0+json": ""
     },
     "metadata": {
      "application/vnd.bokehjs_exec.v0+json": {
       "id": "c68c36f2-8980-4a6c-8e39-a3add9dd5579"
      }
     },
     "output_type": "display_data"
    }
   ],
   "source": [
    "from bokeh.models.annotations import Label\n",
    "from bokeh.plotting import figure\n",
    "\n",
    "p = figure(x_range=(0,10), y_range=(0,10))\n",
    "p.circle([2, 5, 8], [4, 7, 6], color=\"olive\", size=10)\n",
    "\n",
    "label = Label(x=5, y=7, x_offset=12, text=\"Second Point\", text_baseline=\"middle\")\n",
    "p.add_layout(label)\n",
    "\n",
    "show(p)"
   ]
  },
  {
   "cell_type": "code",
   "execution_count": 19,
   "metadata": {},
   "outputs": [],
   "source": [
    "# EXERCISE 3: experiment with Label"
   ]
  },
  {
   "cell_type": "markdown",
   "metadata": {},
   "source": [
    "## LabelSet\n",
    "\n",
    "The `LabelSet` annotation allows you to create many labels at once, for instance if you want to label an entire set of scatter markers. They are similar to `Label`, but they can also \n",
    "accept a `ColumnDataSource` as the `source` property, and then `x` and `y` may refer to columns in the data source, e.g. `x=\"col2\"` (but may also still be fixed values, e.g. `x=10`)."
   ]
  },
  {
   "cell_type": "code",
   "execution_count": 21,
   "metadata": {},
   "outputs": [
    {
     "data": {
      "text/html": [
       "\n",
       "\n",
       "\n",
       "\n",
       "\n",
       "\n",
       "  <div class=\"bk-root\" id=\"c3525470-f171-4342-b121-e89864308666\"></div>\n"
      ]
     },
     "metadata": {},
     "output_type": "display_data"
    },
    {
     "data": {
      "application/javascript": [
       "(function(root) {\n",
       "  function embed_document(root) {\n",
       "    \n",
       "  var docs_json = {\"2fb5e065-2468-4ae7-8b36-9e8e4dfcc9c5\":{\"roots\":{\"references\":[{\"attributes\":{\"source\":{\"id\":\"38d6f9fe-75a0-49f4-8f1f-4865768ec0e8\",\"type\":\"ColumnDataSource\"}},\"id\":\"1f849c52-8e5e-4054-8d9e-cf541ed88cb3\",\"type\":\"CDSView\"},{\"attributes\":{\"plot\":{\"id\":\"055bfd3b-67e4-42d1-bc6d-4c10bdb0b437\",\"subtype\":\"Figure\",\"type\":\"Plot\"},\"ticker\":{\"id\":\"fcc99696-1efd-442b-bd9b-7335ea2b8647\",\"type\":\"BasicTicker\"}},\"id\":\"2a85dd53-70c8-4dc2-b782-45e8d7c079e7\",\"type\":\"Grid\"},{\"attributes\":{\"fill_color\":{\"value\":\"#1f77b4\"},\"line_color\":{\"value\":\"#1f77b4\"},\"size\":{\"units\":\"screen\",\"value\":8},\"x\":{\"field\":\"temp\"},\"y\":{\"field\":\"pressure\"}},\"id\":\"dbf53ebb-59a2-4ca0-8c13-c515b8c1038c\",\"type\":\"Circle\"},{\"attributes\":{\"plot\":null,\"text\":\"\"},\"id\":\"3cd31402-4fad-4542-8468-8ae1a704aa40\",\"type\":\"Title\"},{\"attributes\":{},\"id\":\"2de5142c-2528-4035-9e3e-551e085c4f76\",\"type\":\"BasicTickFormatter\"},{\"attributes\":{},\"id\":\"3caa623f-28a0-415e-8671-a13900b21419\",\"type\":\"LinearScale\"},{\"attributes\":{},\"id\":\"fcc99696-1efd-442b-bd9b-7335ea2b8647\",\"type\":\"BasicTicker\"},{\"attributes\":{},\"id\":\"a37b30f3-1902-44ee-a471-bd85b394c693\",\"type\":\"BasicTickFormatter\"},{\"attributes\":{\"axis_label\":\"Pressure (lbs)\",\"formatter\":{\"id\":\"2de5142c-2528-4035-9e3e-551e085c4f76\",\"type\":\"BasicTickFormatter\"},\"plot\":{\"id\":\"055bfd3b-67e4-42d1-bc6d-4c10bdb0b437\",\"subtype\":\"Figure\",\"type\":\"Plot\"},\"ticker\":{\"id\":\"28f9c700-48f9-4605-a72a-b7e2f45e1571\",\"type\":\"BasicTicker\"}},\"id\":\"6257c4d6-0590-4fd4-a727-10a7d0a3cbec\",\"type\":\"LinearAxis\"},{\"attributes\":{\"level\":\"glyph\",\"plot\":{\"id\":\"055bfd3b-67e4-42d1-bc6d-4c10bdb0b437\",\"subtype\":\"Figure\",\"type\":\"Plot\"},\"source\":{\"id\":\"38d6f9fe-75a0-49f4-8f1f-4865768ec0e8\",\"type\":\"ColumnDataSource\"},\"text\":{\"field\":\"names\"},\"x\":{\"field\":\"temp\"},\"x_offset\":{\"value\":5},\"y\":{\"field\":\"pressure\"},\"y_offset\":{\"value\":5}},\"id\":\"8b4a1aeb-a91e-4b66-82de-57cdecb38b2d\",\"type\":\"LabelSet\"},{\"attributes\":{},\"id\":\"28f9c700-48f9-4605-a72a-b7e2f45e1571\",\"type\":\"BasicTicker\"},{\"attributes\":{},\"id\":\"14a7bcec-271f-42b7-a3f6-229b2c2847b1\",\"type\":\"UnionRenderers\"},{\"attributes\":{\"dimension\":1,\"plot\":{\"id\":\"055bfd3b-67e4-42d1-bc6d-4c10bdb0b437\",\"subtype\":\"Figure\",\"type\":\"Plot\"},\"ticker\":{\"id\":\"28f9c700-48f9-4605-a72a-b7e2f45e1571\",\"type\":\"BasicTicker\"}},\"id\":\"ed98a263-f697-4e56-8a83-791520c56d24\",\"type\":\"Grid\"},{\"attributes\":{\"axis_label\":\"Temperature (C)\",\"formatter\":{\"id\":\"a37b30f3-1902-44ee-a471-bd85b394c693\",\"type\":\"BasicTickFormatter\"},\"plot\":{\"id\":\"055bfd3b-67e4-42d1-bc6d-4c10bdb0b437\",\"subtype\":\"Figure\",\"type\":\"Plot\"},\"ticker\":{\"id\":\"fcc99696-1efd-442b-bd9b-7335ea2b8647\",\"type\":\"BasicTicker\"}},\"id\":\"9235dae9-a53b-4112-8b55-96d859ed0585\",\"type\":\"LinearAxis\"},{\"attributes\":{\"callback\":null},\"id\":\"4a7df830-1273-4364-98e6-d75024e48227\",\"type\":\"DataRange1d\"},{\"attributes\":{\"fill_alpha\":{\"value\":0.1},\"fill_color\":{\"value\":\"#1f77b4\"},\"line_alpha\":{\"value\":0.1},\"line_color\":{\"value\":\"#1f77b4\"},\"size\":{\"units\":\"screen\",\"value\":8},\"x\":{\"field\":\"temp\"},\"y\":{\"field\":\"pressure\"}},\"id\":\"be4ea77c-5157-468c-a346-f5c4a33636b2\",\"type\":\"Circle\"},{\"attributes\":{\"below\":[{\"id\":\"9235dae9-a53b-4112-8b55-96d859ed0585\",\"type\":\"LinearAxis\"}],\"left\":[{\"id\":\"6257c4d6-0590-4fd4-a727-10a7d0a3cbec\",\"type\":\"LinearAxis\"}],\"renderers\":[{\"id\":\"9235dae9-a53b-4112-8b55-96d859ed0585\",\"type\":\"LinearAxis\"},{\"id\":\"2a85dd53-70c8-4dc2-b782-45e8d7c079e7\",\"type\":\"Grid\"},{\"id\":\"6257c4d6-0590-4fd4-a727-10a7d0a3cbec\",\"type\":\"LinearAxis\"},{\"id\":\"ed98a263-f697-4e56-8a83-791520c56d24\",\"type\":\"Grid\"},{\"id\":\"abce2ace-5004-4118-b045-1758773e4366\",\"type\":\"BoxAnnotation\"},{\"id\":\"24786b3a-3b69-4c10-8c67-00d261b937b3\",\"type\":\"GlyphRenderer\"},{\"id\":\"8b4a1aeb-a91e-4b66-82de-57cdecb38b2d\",\"type\":\"LabelSet\"}],\"title\":{\"id\":\"3cd31402-4fad-4542-8468-8ae1a704aa40\",\"type\":\"Title\"},\"toolbar\":{\"id\":\"9b6f4b97-d52b-44c0-a194-bdb289a472d6\",\"type\":\"Toolbar\"},\"x_range\":{\"id\":\"8c05f7eb-59b8-4004-b0cb-a69418e765d6\",\"type\":\"Range1d\"},\"x_scale\":{\"id\":\"fc060793-aeab-42ec-a5b9-6119cfdd62ff\",\"type\":\"LinearScale\"},\"y_range\":{\"id\":\"4a7df830-1273-4364-98e6-d75024e48227\",\"type\":\"DataRange1d\"},\"y_scale\":{\"id\":\"3caa623f-28a0-415e-8671-a13900b21419\",\"type\":\"LinearScale\"}},\"id\":\"055bfd3b-67e4-42d1-bc6d-4c10bdb0b437\",\"subtype\":\"Figure\",\"type\":\"Plot\"},{\"attributes\":{\"callback\":null,\"end\":175,\"start\":160},\"id\":\"8c05f7eb-59b8-4004-b0cb-a69418e765d6\",\"type\":\"Range1d\"},{\"attributes\":{\"callback\":null,\"data\":{\"names\":[\"A\",\"B\",\"C\",\"D\",\"E\",\"F\"],\"pressure\":[165,189,220,141,260,174],\"temp\":[166,171,172,168,174,162]},\"selected\":{\"id\":\"b7febe6d-09d1-46fe-a432-c86280ce9753\",\"type\":\"Selection\"},\"selection_policy\":{\"id\":\"14a7bcec-271f-42b7-a3f6-229b2c2847b1\",\"type\":\"UnionRenderers\"}},\"id\":\"38d6f9fe-75a0-49f4-8f1f-4865768ec0e8\",\"type\":\"ColumnDataSource\"},{\"attributes\":{\"bottom_units\":\"screen\",\"fill_alpha\":{\"value\":0.5},\"fill_color\":{\"value\":\"lightgrey\"},\"left_units\":\"screen\",\"level\":\"overlay\",\"line_alpha\":{\"value\":1.0},\"line_color\":{\"value\":\"black\"},\"line_dash\":[4,4],\"line_width\":{\"value\":2},\"plot\":null,\"render_mode\":\"css\",\"right_units\":\"screen\",\"top_units\":\"screen\"},\"id\":\"abce2ace-5004-4118-b045-1758773e4366\",\"type\":\"BoxAnnotation\"},{\"attributes\":{},\"id\":\"fc060793-aeab-42ec-a5b9-6119cfdd62ff\",\"type\":\"LinearScale\"},{\"attributes\":{},\"id\":\"a1eddfe1-7ae4-4a66-9bd6-a63e337ce08d\",\"type\":\"PanTool\"},{\"attributes\":{\"data_source\":{\"id\":\"38d6f9fe-75a0-49f4-8f1f-4865768ec0e8\",\"type\":\"ColumnDataSource\"},\"glyph\":{\"id\":\"dbf53ebb-59a2-4ca0-8c13-c515b8c1038c\",\"type\":\"Circle\"},\"hover_glyph\":null,\"muted_glyph\":null,\"nonselection_glyph\":{\"id\":\"be4ea77c-5157-468c-a346-f5c4a33636b2\",\"type\":\"Circle\"},\"selection_glyph\":null,\"view\":{\"id\":\"1f849c52-8e5e-4054-8d9e-cf541ed88cb3\",\"type\":\"CDSView\"}},\"id\":\"24786b3a-3b69-4c10-8c67-00d261b937b3\",\"type\":\"GlyphRenderer\"},{\"attributes\":{\"active_drag\":\"auto\",\"active_inspect\":\"auto\",\"active_multi\":null,\"active_scroll\":\"auto\",\"active_tap\":\"auto\",\"tools\":[{\"id\":\"a1eddfe1-7ae4-4a66-9bd6-a63e337ce08d\",\"type\":\"PanTool\"},{\"id\":\"93e2825e-0296-4411-b402-cbc4429b0055\",\"type\":\"WheelZoomTool\"},{\"id\":\"d6a1cbc7-965b-4904-bd80-cc8401b12bad\",\"type\":\"BoxZoomTool\"},{\"id\":\"497c1c34-b747-4e0f-9810-6bf91e3d8db1\",\"type\":\"SaveTool\"},{\"id\":\"394b2df0-1ef6-405c-bc03-9f5994e1a166\",\"type\":\"ResetTool\"},{\"id\":\"05aef595-d19f-4e95-b9b9-7360cff07f79\",\"type\":\"HelpTool\"}]},\"id\":\"9b6f4b97-d52b-44c0-a194-bdb289a472d6\",\"type\":\"Toolbar\"},{\"attributes\":{},\"id\":\"93e2825e-0296-4411-b402-cbc4429b0055\",\"type\":\"WheelZoomTool\"},{\"attributes\":{\"overlay\":{\"id\":\"abce2ace-5004-4118-b045-1758773e4366\",\"type\":\"BoxAnnotation\"}},\"id\":\"d6a1cbc7-965b-4904-bd80-cc8401b12bad\",\"type\":\"BoxZoomTool\"},{\"attributes\":{},\"id\":\"497c1c34-b747-4e0f-9810-6bf91e3d8db1\",\"type\":\"SaveTool\"},{\"attributes\":{},\"id\":\"394b2df0-1ef6-405c-bc03-9f5994e1a166\",\"type\":\"ResetTool\"},{\"attributes\":{},\"id\":\"05aef595-d19f-4e95-b9b9-7360cff07f79\",\"type\":\"HelpTool\"},{\"attributes\":{},\"id\":\"b7febe6d-09d1-46fe-a432-c86280ce9753\",\"type\":\"Selection\"}],\"root_ids\":[\"055bfd3b-67e4-42d1-bc6d-4c10bdb0b437\"]},\"title\":\"Bokeh Application\",\"version\":\"0.13.0\"}};\n",
       "  var render_items = [{\"docid\":\"2fb5e065-2468-4ae7-8b36-9e8e4dfcc9c5\",\"roots\":{\"055bfd3b-67e4-42d1-bc6d-4c10bdb0b437\":\"c3525470-f171-4342-b121-e89864308666\"}}];\n",
       "  root.Bokeh.embed.embed_items_notebook(docs_json, render_items);\n",
       "\n",
       "  }\n",
       "  if (root.Bokeh !== undefined) {\n",
       "    embed_document(root);\n",
       "  } else {\n",
       "    var attempts = 0;\n",
       "    var timer = setInterval(function(root) {\n",
       "      if (root.Bokeh !== undefined) {\n",
       "        embed_document(root);\n",
       "        clearInterval(timer);\n",
       "      }\n",
       "      attempts++;\n",
       "      if (attempts > 100) {\n",
       "        console.log(\"Bokeh: ERROR: Unable to run BokehJS code because BokehJS library is missing\")\n",
       "        clearInterval(timer);\n",
       "      }\n",
       "    }, 10, root)\n",
       "  }\n",
       "})(window);"
      ],
      "application/vnd.bokehjs_exec.v0+json": ""
     },
     "metadata": {
      "application/vnd.bokehjs_exec.v0+json": {
       "id": "055bfd3b-67e4-42d1-bc6d-4c10bdb0b437"
      }
     },
     "output_type": "display_data"
    }
   ],
   "source": [
    "from bokeh.plotting import figure\n",
    "from bokeh.models import ColumnDataSource, LabelSet\n",
    "\n",
    "\n",
    "source = ColumnDataSource(data=dict(\n",
    "    temp=[166, 171, 172, 168, 174, 162],\n",
    "    pressure=[165, 189, 220, 141, 260, 174],\n",
    "    names=['A', 'B', 'C', 'D', 'E', 'F']))\n",
    "\n",
    "p = figure(x_range=(160, 175))\n",
    "p.scatter(x='temp', y='pressure', size=8, source=source)\n",
    "p.xaxis.axis_label = 'Temperature (C)'\n",
    "p.yaxis.axis_label = 'Pressure (lbs)'\n",
    "\n",
    "labels = LabelSet(x='temp', y='pressure', text='names', level='glyph',\n",
    "                  x_offset=5, y_offset=5, source=source, render_mode='canvas')\n",
    "\n",
    "\n",
    "p.add_layout(labels)\n",
    "\n",
    "show(p)"
   ]
  },
  {
   "cell_type": "code",
   "execution_count": 22,
   "metadata": {},
   "outputs": [],
   "source": [
    "# EXERCISE 4: experiment with LabelSet"
   ]
  },
  {
   "cell_type": "markdown",
   "metadata": {},
   "source": [
    "## Arrows\n",
    "\n",
    "The `Arrow` annotation allows you to \"point\" at different things on your plot, and can be especially useful in conjuction with labels. \n",
    "\n",
    "For example, to create an arrow that points from `(0,0)` to `(1,1)`:\n",
    "\n",
    "```python\n",
    "p.add_layout(Arrow(x_start=0, y_start=0, x_end=1, y_end=0))\n",
    "```\n",
    "\n",
    "This arrow will have the default [`OpenHead`](http://bokeh.pydata.org/en/latest/docs/reference/models/arrow_heads.html#bokeh.models.arrow_heads.OpenHead) arrow head at the end of the arrow. Other kinds of arrow heads include [`NormalHead`](http://bokeh.pydata.org/en/latest/docs/reference/models/arrow_heads.html#bokeh.models.arrow_heads.NormalHead) and [`VeeHead`](http://bokeh.pydata.org/en/latest/docs/reference/models/arrow_heads.html#bokeh.models.arrow_heads.VeeHead). The arrow head type can be controlled by setting the `start` and `end` properties of `Arrow` objects:\n",
    "\n",
    "```python\n",
    "p.add_layout(Arrow(start=OpenHead(), end=VeeHead(), \n",
    "             x_start=0, y_start=0, x_end=1, y_end=0))\n",
    "```\n",
    "\n",
    "This will create a double-ended arrow with an \"open\" head at the start, and a \"vee\" head at the end. Arrowheads have the standard set of line and fill properties to control their appearance. As an example\n",
    "\n",
    "```python\n",
    "OpenHead(line_color=\"firebrick\", line_width=4)\n",
    "```\n",
    "\n",
    "The code and plot below shows several of these configurations together."
   ]
  },
  {
   "cell_type": "code",
   "execution_count": 23,
   "metadata": {},
   "outputs": [
    {
     "data": {
      "text/html": [
       "\n",
       "\n",
       "\n",
       "\n",
       "\n",
       "\n",
       "  <div class=\"bk-root\" id=\"68081612-1a6d-432d-9ec9-71c055f762da\"></div>\n"
      ]
     },
     "metadata": {},
     "output_type": "display_data"
    },
    {
     "data": {
      "application/javascript": [
       "(function(root) {\n",
       "  function embed_document(root) {\n",
       "    \n",
       "  var docs_json = {\"23b1a8c4-3c54-4f08-a24b-874f8e7be2b0\":{\"roots\":{\"references\":[{\"attributes\":{\"fill_alpha\":{\"value\":0.1},\"fill_color\":{\"value\":\"#1f77b4\"},\"line_alpha\":{\"value\":0.1},\"line_color\":{\"value\":\"#1f77b4\"},\"radius\":{\"units\":\"data\",\"value\":0.1},\"x\":{\"field\":\"x\"},\"y\":{\"field\":\"y\"}},\"id\":\"d960312b-c443-4265-ac04-b0c8dc08f9d6\",\"type\":\"Circle\"},{\"attributes\":{},\"id\":\"addc3e66-ff71-4f7e-a084-d52565f34ae3\",\"type\":\"SaveTool\"},{\"attributes\":{\"source\":{\"id\":\"b2f23f48-21d8-4796-a2cf-bbecdbaa88b1\",\"type\":\"ColumnDataSource\"}},\"id\":\"6b580a3f-4be7-47ae-aa5e-bd16175ad2af\",\"type\":\"CDSView\"},{\"attributes\":{},\"id\":\"adcd2e7f-91b9-4b74-84cf-d341b6fb2217\",\"type\":\"LinearScale\"},{\"attributes\":{\"plot\":{\"id\":\"202a2cb4-da9e-4bf3-aa36-6bd4a2e4cb82\",\"subtype\":\"Figure\",\"type\":\"Plot\"},\"ticker\":{\"id\":\"b709011c-e51c-4625-9e1b-47b0b778c7ba\",\"type\":\"BasicTicker\"}},\"id\":\"dd48a44b-76d0-4ab4-abae-998ea20cb83c\",\"type\":\"Grid\"},{\"attributes\":{},\"id\":\"148cc626-e0ef-4648-92a9-0058f621c22e\",\"type\":\"Selection\"},{\"attributes\":{},\"id\":\"9301f466-52ca-4a3e-aaa0-cfe9a1f95110\",\"type\":\"WheelZoomTool\"},{\"attributes\":{\"end\":{\"id\":\"f43a262d-32ed-47b8-9f52-20ca6e96bbb1\",\"type\":\"NormalHead\"},\"plot\":{\"id\":\"202a2cb4-da9e-4bf3-aa36-6bd4a2e4cb82\",\"subtype\":\"Figure\",\"type\":\"Plot\"},\"source\":null,\"start\":null,\"x_end\":{\"value\":0.5},\"x_start\":{\"value\":1},\"y_end\":{\"value\":0.7},\"y_start\":{\"value\":0}},\"id\":\"be7102f6-3a7d-42da-8f98-0372c30c0191\",\"type\":\"Arrow\"},{\"attributes\":{\"dimension\":1,\"plot\":{\"id\":\"202a2cb4-da9e-4bf3-aa36-6bd4a2e4cb82\",\"subtype\":\"Figure\",\"type\":\"Plot\"},\"ticker\":{\"id\":\"e6ada42c-b669-45b1-ab43-6befca38f286\",\"type\":\"BasicTicker\"}},\"id\":\"91eff372-d3cd-4f2d-955c-630f2992d329\",\"type\":\"Grid\"},{\"attributes\":{\"overlay\":{\"id\":\"5486e920-36a4-4d9b-b2d8-f08f3cc1f67d\",\"type\":\"BoxAnnotation\"}},\"id\":\"8e152a14-21cd-40d6-9e81-8bd713ed79de\",\"type\":\"BoxZoomTool\"},{\"attributes\":{\"formatter\":{\"id\":\"8118fae6-0e08-457c-b67c-1ff8f6c3a3a2\",\"type\":\"BasicTickFormatter\"},\"plot\":{\"id\":\"202a2cb4-da9e-4bf3-aa36-6bd4a2e4cb82\",\"subtype\":\"Figure\",\"type\":\"Plot\"},\"ticker\":{\"id\":\"e6ada42c-b669-45b1-ab43-6befca38f286\",\"type\":\"BasicTicker\"}},\"id\":\"28d2a6a2-0c18-48a7-9c81-ee40a57636f9\",\"type\":\"LinearAxis\"},{\"attributes\":{\"bottom_units\":\"screen\",\"fill_alpha\":{\"value\":0.5},\"fill_color\":{\"value\":\"lightgrey\"},\"left_units\":\"screen\",\"level\":\"overlay\",\"line_alpha\":{\"value\":1.0},\"line_color\":{\"value\":\"black\"},\"line_dash\":[4,4],\"line_width\":{\"value\":2},\"plot\":null,\"render_mode\":\"css\",\"right_units\":\"screen\",\"top_units\":\"screen\"},\"id\":\"5486e920-36a4-4d9b-b2d8-f08f3cc1f67d\",\"type\":\"BoxAnnotation\"},{\"attributes\":{},\"id\":\"325944af-0f24-40b7-8a1b-6939dac387d3\",\"type\":\"PanTool\"},{\"attributes\":{\"fill_color\":{\"value\":\"orange\"},\"plot\":null},\"id\":\"f43a262d-32ed-47b8-9f52-20ca6e96bbb1\",\"type\":\"NormalHead\"},{\"attributes\":{},\"id\":\"14c6296a-8f0c-42a3-b534-caca2d5e6b33\",\"type\":\"HelpTool\"},{\"attributes\":{\"end\":{\"id\":\"c7ab066b-70ac-4346-8ecf-a1f30a6bd200\",\"type\":\"OpenHead\"},\"plot\":{\"id\":\"202a2cb4-da9e-4bf3-aa36-6bd4a2e4cb82\",\"subtype\":\"Figure\",\"type\":\"Plot\"},\"source\":null,\"start\":null,\"x_end\":{\"value\":1},\"x_start\":{\"value\":0},\"y_end\":{\"value\":0},\"y_start\":{\"value\":0}},\"id\":\"d98b9ce9-8773-4933-964c-6075bc5e83a4\",\"type\":\"Arrow\"},{\"attributes\":{},\"id\":\"764bc4d0-6442-4822-95d6-bdc6416602dd\",\"type\":\"LinearScale\"},{\"attributes\":{\"callback\":null},\"id\":\"33b2acf1-517d-42ae-9044-d6f2bea1f1a7\",\"type\":\"DataRange1d\"},{\"attributes\":{},\"id\":\"d1f185c7-d999-4f6c-91d0-6a27eb49f653\",\"type\":\"ResetTool\"},{\"attributes\":{\"callback\":null},\"id\":\"b7a4f96a-9278-4b42-9ef4-b8d218c1be86\",\"type\":\"DataRange1d\"},{\"attributes\":{\"formatter\":{\"id\":\"f9e1c212-75af-4690-9ce8-08fdc39d311a\",\"type\":\"BasicTickFormatter\"},\"plot\":{\"id\":\"202a2cb4-da9e-4bf3-aa36-6bd4a2e4cb82\",\"subtype\":\"Figure\",\"type\":\"Plot\"},\"ticker\":{\"id\":\"b709011c-e51c-4625-9e1b-47b0b778c7ba\",\"type\":\"BasicTicker\"}},\"id\":\"745ddb1e-a2be-4fd1-878b-cfdd259ed0df\",\"type\":\"LinearAxis\"},{\"attributes\":{\"plot\":null,\"size\":35},\"id\":\"ca71fadc-c36f-486c-934a-69e8f43299e9\",\"type\":\"VeeHead\"},{\"attributes\":{},\"id\":\"f9e1c212-75af-4690-9ce8-08fdc39d311a\",\"type\":\"BasicTickFormatter\"},{\"attributes\":{},\"id\":\"8118fae6-0e08-457c-b67c-1ff8f6c3a3a2\",\"type\":\"BasicTickFormatter\"},{\"attributes\":{\"line_color\":{\"value\":\"firebrick\"},\"line_width\":{\"value\":4},\"plot\":null},\"id\":\"c7ab066b-70ac-4346-8ecf-a1f30a6bd200\",\"type\":\"OpenHead\"},{\"attributes\":{},\"id\":\"e6ada42c-b669-45b1-ab43-6befca38f286\",\"type\":\"BasicTicker\"},{\"attributes\":{\"active_drag\":\"auto\",\"active_inspect\":\"auto\",\"active_multi\":null,\"active_scroll\":\"auto\",\"active_tap\":\"auto\",\"tools\":[{\"id\":\"325944af-0f24-40b7-8a1b-6939dac387d3\",\"type\":\"PanTool\"},{\"id\":\"9301f466-52ca-4a3e-aaa0-cfe9a1f95110\",\"type\":\"WheelZoomTool\"},{\"id\":\"8e152a14-21cd-40d6-9e81-8bd713ed79de\",\"type\":\"BoxZoomTool\"},{\"id\":\"addc3e66-ff71-4f7e-a084-d52565f34ae3\",\"type\":\"SaveTool\"},{\"id\":\"d1f185c7-d999-4f6c-91d0-6a27eb49f653\",\"type\":\"ResetTool\"},{\"id\":\"14c6296a-8f0c-42a3-b534-caca2d5e6b33\",\"type\":\"HelpTool\"}]},\"id\":\"9f40e156-3cc6-4fdf-aa87-90c03ed2fc52\",\"type\":\"Toolbar\"},{\"attributes\":{\"data_source\":{\"id\":\"b2f23f48-21d8-4796-a2cf-bbecdbaa88b1\",\"type\":\"ColumnDataSource\"},\"glyph\":{\"id\":\"50e08b75-00e6-463f-825b-0e397af4215b\",\"type\":\"Circle\"},\"hover_glyph\":null,\"muted_glyph\":null,\"nonselection_glyph\":{\"id\":\"d960312b-c443-4265-ac04-b0c8dc08f9d6\",\"type\":\"Circle\"},\"selection_glyph\":null,\"view\":{\"id\":\"6b580a3f-4be7-47ae-aa5e-bd16175ad2af\",\"type\":\"CDSView\"}},\"id\":\"66e31989-6c18-4ef9-857a-7909270d6257\",\"type\":\"GlyphRenderer\"},{\"attributes\":{\"plot\":null,\"text\":\"\"},\"id\":\"49d678b5-4138-4296-b7d6-b24ddf97e942\",\"type\":\"Title\"},{\"attributes\":{\"fill_alpha\":{\"value\":0.1},\"fill_color\":{\"field\":\"fill_color\"},\"line_color\":{\"field\":\"line_color\"},\"radius\":{\"units\":\"data\",\"value\":0.1},\"x\":{\"field\":\"x\"},\"y\":{\"field\":\"y\"}},\"id\":\"50e08b75-00e6-463f-825b-0e397af4215b\",\"type\":\"Circle\"},{\"attributes\":{\"below\":[{\"id\":\"745ddb1e-a2be-4fd1-878b-cfdd259ed0df\",\"type\":\"LinearAxis\"}],\"left\":[{\"id\":\"28d2a6a2-0c18-48a7-9c81-ee40a57636f9\",\"type\":\"LinearAxis\"}],\"renderers\":[{\"id\":\"745ddb1e-a2be-4fd1-878b-cfdd259ed0df\",\"type\":\"LinearAxis\"},{\"id\":\"dd48a44b-76d0-4ab4-abae-998ea20cb83c\",\"type\":\"Grid\"},{\"id\":\"28d2a6a2-0c18-48a7-9c81-ee40a57636f9\",\"type\":\"LinearAxis\"},{\"id\":\"91eff372-d3cd-4f2d-955c-630f2992d329\",\"type\":\"Grid\"},{\"id\":\"5486e920-36a4-4d9b-b2d8-f08f3cc1f67d\",\"type\":\"BoxAnnotation\"},{\"id\":\"66e31989-6c18-4ef9-857a-7909270d6257\",\"type\":\"GlyphRenderer\"},{\"id\":\"d98b9ce9-8773-4933-964c-6075bc5e83a4\",\"type\":\"Arrow\"},{\"id\":\"be7102f6-3a7d-42da-8f98-0372c30c0191\",\"type\":\"Arrow\"},{\"id\":\"f874efe1-74b2-452a-9c5e-74e3230b0dce\",\"type\":\"Arrow\"}],\"title\":{\"id\":\"49d678b5-4138-4296-b7d6-b24ddf97e942\",\"type\":\"Title\"},\"toolbar\":{\"id\":\"9f40e156-3cc6-4fdf-aa87-90c03ed2fc52\",\"type\":\"Toolbar\"},\"x_range\":{\"id\":\"b7a4f96a-9278-4b42-9ef4-b8d218c1be86\",\"type\":\"DataRange1d\"},\"x_scale\":{\"id\":\"764bc4d0-6442-4822-95d6-bdc6416602dd\",\"type\":\"LinearScale\"},\"y_range\":{\"id\":\"33b2acf1-517d-42ae-9044-d6f2bea1f1a7\",\"type\":\"DataRange1d\"},\"y_scale\":{\"id\":\"adcd2e7f-91b9-4b74-84cf-d341b6fb2217\",\"type\":\"LinearScale\"}},\"id\":\"202a2cb4-da9e-4bf3-aa36-6bd4a2e4cb82\",\"subtype\":\"Figure\",\"type\":\"Plot\"},{\"attributes\":{},\"id\":\"5515cfbb-4e09-4946-a14a-2632c5f43338\",\"type\":\"UnionRenderers\"},{\"attributes\":{\"callback\":null,\"data\":{\"fill_color\":[\"navy\",\"yellow\",\"red\"],\"line_color\":[\"navy\",\"yellow\",\"red\"],\"x\":[0,1,0.5],\"y\":[0,0,0.7]},\"selected\":{\"id\":\"148cc626-e0ef-4648-92a9-0058f621c22e\",\"type\":\"Selection\"},\"selection_policy\":{\"id\":\"5515cfbb-4e09-4946-a14a-2632c5f43338\",\"type\":\"UnionRenderers\"}},\"id\":\"b2f23f48-21d8-4796-a2cf-bbecdbaa88b1\",\"type\":\"ColumnDataSource\"},{\"attributes\":{\"end\":{\"id\":\"ca71fadc-c36f-486c-934a-69e8f43299e9\",\"type\":\"VeeHead\"},\"line_color\":{\"value\":\"red\"},\"plot\":{\"id\":\"202a2cb4-da9e-4bf3-aa36-6bd4a2e4cb82\",\"subtype\":\"Figure\",\"type\":\"Plot\"},\"source\":null,\"start\":null,\"x_end\":{\"value\":0},\"x_start\":{\"value\":0.5},\"y_end\":{\"value\":0},\"y_start\":{\"value\":0.7}},\"id\":\"f874efe1-74b2-452a-9c5e-74e3230b0dce\",\"type\":\"Arrow\"},{\"attributes\":{},\"id\":\"b709011c-e51c-4625-9e1b-47b0b778c7ba\",\"type\":\"BasicTicker\"}],\"root_ids\":[\"202a2cb4-da9e-4bf3-aa36-6bd4a2e4cb82\"]},\"title\":\"Bokeh Application\",\"version\":\"0.13.0\"}};\n",
       "  var render_items = [{\"docid\":\"23b1a8c4-3c54-4f08-a24b-874f8e7be2b0\",\"roots\":{\"202a2cb4-da9e-4bf3-aa36-6bd4a2e4cb82\":\"68081612-1a6d-432d-9ec9-71c055f762da\"}}];\n",
       "  root.Bokeh.embed.embed_items_notebook(docs_json, render_items);\n",
       "\n",
       "  }\n",
       "  if (root.Bokeh !== undefined) {\n",
       "    embed_document(root);\n",
       "  } else {\n",
       "    var attempts = 0;\n",
       "    var timer = setInterval(function(root) {\n",
       "      if (root.Bokeh !== undefined) {\n",
       "        embed_document(root);\n",
       "        clearInterval(timer);\n",
       "      }\n",
       "      attempts++;\n",
       "      if (attempts > 100) {\n",
       "        console.log(\"Bokeh: ERROR: Unable to run BokehJS code because BokehJS library is missing\")\n",
       "        clearInterval(timer);\n",
       "      }\n",
       "    }, 10, root)\n",
       "  }\n",
       "})(window);"
      ],
      "application/vnd.bokehjs_exec.v0+json": ""
     },
     "metadata": {
      "application/vnd.bokehjs_exec.v0+json": {
       "id": "202a2cb4-da9e-4bf3-aa36-6bd4a2e4cb82"
      }
     },
     "output_type": "display_data"
    }
   ],
   "source": [
    "from bokeh.models.annotations import Arrow\n",
    "from bokeh.models.arrow_heads import OpenHead, NormalHead, VeeHead\n",
    "\n",
    "p = figure(plot_width=600, plot_height=600)\n",
    "\n",
    "p.circle(x=[0, 1, 0.5], y=[0, 0, 0.7], radius=0.1,\n",
    "         color=[\"navy\", \"yellow\", \"red\"], fill_alpha=0.1)\n",
    "\n",
    "p.add_layout(Arrow(end=OpenHead(line_color=\"firebrick\", line_width=4),\n",
    "                   x_start=0, y_start=0, x_end=1, y_end=0))\n",
    "\n",
    "p.add_layout(Arrow(end=NormalHead(fill_color=\"orange\"),\n",
    "                   x_start=1, y_start=0, x_end=0.5, y_end=0.7))\n",
    "\n",
    "p.add_layout(Arrow(end=VeeHead(size=35), line_color=\"red\",\n",
    "                   x_start=0.5, y_start=0.7, x_end=0, y_end=0))\n",
    "\n",
    "show(p)"
   ]
  },
  {
   "cell_type": "code",
   "execution_count": 24,
   "metadata": {},
   "outputs": [],
   "source": [
    "# EXERCISE 5: experiment with arrows and arrow heads"
   ]
  },
  {
   "cell_type": "markdown",
   "metadata": {},
   "source": [
    "## Legends\n",
    "\n",
    "When plots have multiple glyphs, it is desirable to include a legend to help users interpret what they see. Bokeh can generate legends easily based on the glyphs that are added. "
   ]
  },
  {
   "cell_type": "markdown",
   "metadata": {},
   "source": [
    "### Simple Legends\n",
    "\n",
    "In the simplest case, you can simply pass a string as the `legend` argument to a glyph function:\n",
    "```python\n",
    "p.circle(x, y, legend=\"sin(x)\")\n",
    "``` \n",
    "In this case Bokeh will automatically create a legend that shows a representation of that glyph, labeled by the test you provided. A full example is below."
   ]
  },
  {
   "cell_type": "code",
   "execution_count": 25,
   "metadata": {},
   "outputs": [
    {
     "data": {
      "text/html": [
       "\n",
       "\n",
       "\n",
       "\n",
       "\n",
       "\n",
       "  <div class=\"bk-root\" id=\"27af34e1-8c6d-4984-bbd9-de43d258dd5b\"></div>\n"
      ]
     },
     "metadata": {},
     "output_type": "display_data"
    },
    {
     "data": {
      "application/javascript": [
       "(function(root) {\n",
       "  function embed_document(root) {\n",
       "    \n",
       "  var docs_json = {\"83dc851b-d075-44cf-a0a7-fdabf66a159f\":{\"roots\":{\"references\":[{\"attributes\":{},\"id\":\"7958941a-0bca-4d83-9520-374b265bce5c\",\"type\":\"LinearScale\"},{\"attributes\":{},\"id\":\"031efd64-ed97-4ced-8666-8688764c1687\",\"type\":\"UnionRenderers\"},{\"attributes\":{\"callback\":null,\"data\":{\"x\":{\"__ndarray__\":\"AAAAAAAAAACRGkt8Vz/AP5EaS3xXP9A/2qdwOgNf2D+RGkt8Vz/gPzXhXVstT+Q/2qdwOgNf6D9+boMZ2W7sP5EaS3xXP/A/433Ua0JH8j814V1bLU/0P4dE50oYV/Y/2qdwOgNf+D8sC/op7mb6P35ugxnZbvw/0NEMCcR2/j+RGkt8Vz8AQDrMD/RMQwFA433Ua0JHAkCML5njN0sDQDXhXVstTwRA3pIi0yJTBUCHROdKGFcGQDD2q8INWwdA2qdwOgNfCECDWTWy+GIJQCwL+inuZgpA1by+oeNqC0B+boMZ2W4MQCcgSJHOcg1A0NEMCcR2DkB5g9GAuXoPQJEaS3xXPxBAZnMtOFLBEEA6zA/0TEMRQA8l8q9HxRFA433Ua0JHEkC41rYnPckSQIwvmeM3SxNAYYh7nzLNE0A14V1bLU8UQAo6QBco0RRA3pIi0yJTFUCz6wSPHdUVQIdE50oYVxZAXJ3JBhPZFkAw9qvCDVsXQAVPjn4I3RdA2qdwOgNfGECuAFP2/eAYQINZNbL4YhlAV7IXbvPkGUAsC/op7mYaQABk3OXo6BpA1by+oeNqG0CpFaFd3uwbQH5ugxnZbhxAUsdl1dPwHEAnIEiRznIdQPt4Kk3J9B1A0NEMCcR2HkCkKu/EvvgeQHmD0YC5eh9ATdyzPLT8H0CRGkt8Vz8gQPtGPNpUgCBAZnMtOFLBIEDQnx6WTwIhQDrMD/RMQyFApPgAUkqEIUAPJfKvR8UhQHlR4w1FBiJA433Ua0JHIkBNqsXJP4giQLjWtic9ySJAIgOohToKI0CML5njN0sjQPZbikE1jCNAYYh7nzLNI0DLtGz9Lw4kQDXhXVstTyRAoA1PuSqQJEAKOkAXKNEkQHRmMXUlEiVA3pIi0yJTJUBJvxMxIJQlQLPrBI8d1SVAHRj27BoWJkCHROdKGFcmQPJw2KgVmCZAXJ3JBhPZJkDGybpkEBonQDD2q8INWydAmyKdIAucJ0AFT45+CN0nQG97f9wFHihA2qdwOgNfKEBE1GGYAKAoQK4AU/b94ChAGC1EVPshKUA=\",\"dtype\":\"float64\",\"shape\":[100]},\"y\":{\"__ndarray__\":\"AAAAAAAAAADwgwJ4LjTQP5qI2QHPEuA/+5MNU1HJ5z8ZTT7q2B3vP0aFmgwa+fI/ABg/lCAV9j+IQCEcMdb4P3fOhmLzMPs/EyzujrQb/T/9Izwlj47+PxccgYyLg/8/g6xao7j2/z9mZrL8O+b/P7+X94FZUv8/xVNiW3I9/j9RB8Ai+6v8P5FWKYlppPo/oig6uxkv+D/Sh2bxK1b1PyZGRbpaJfI/8qg+VZVT7T/4C4p0qOPlP+UppLIiM9w/3FNHxZdVyD/I23zJpD6wv+3ENsZjOdS/wo12/ecH4r/egWKM2Kjpv2MTsJELcPC/83ixWvXH87+258MBZM72v5eCD4nhdvm/rExY6Hq2+7+TIxAn7YP9vwSssILL1/6/70I4BJ6s/7/vOc8G+P7/vzTGy1KGzf+/3176khQZ/7/C8a4NiuT9vzGcHq/dNPy/mEFFlgER+r+EGZN4xoH3vx8WPFK3kfS/Cli7+O1M8b+HQNqEwoHrv9kfIiFb+OO/gKyggGI52L8EhrXMjDzAvyCGtcyMPMA/jqyggGI52D/gHyIhW/jjP4BA2oTCges/Dli7+O1M8T8cFjxSt5H0P4cZk3jGgfc/lEFFlgER+j8ynB6v3TT8P8Hxrg2K5P0/4F76khQZ/z80xstShs3/P+85zwb4/v8/8EI4BJ6s/z8DrLCCy9f+P5UjECftg/0/p0xY6Hq2+z+Vgg+J4Xb5P7fnwwFkzvY/9nixWvXH8z9cE7CRC3DwP9eBYozYqOk/w412/ecH4j/+xDbGYznUP0/bfMmkPrA/+VNHxZdVyL/UKaSyIjPcv+gLinSo4+W/+Kg+VZVT7b8mRkW6WiXyv8+HZvErVvW/pig6uxkv+L+TVimJaaT6v1EHwCL7q/y/xFNiW3I9/r/Al/eBWVL/v2Zmsvw75v+/g6xao7j2/78YHIGMi4P/v/sjPCWPjv6/EyzujrQb/b94zoZi8zD7v4xAIRwx1vi//Bc/lCAV9r9GhZoMGvnyvx5NPurYHe+/65MNU1HJ57+SiNkBzxLgv/GDAnguNNC/B1wUMyam0bw=\",\"dtype\":\"float64\",\"shape\":[100]}},\"selected\":{\"id\":\"c6b24a0e-6fe8-48dc-81cd-3e456d497e00\",\"type\":\"Selection\"},\"selection_policy\":{\"id\":\"031efd64-ed97-4ced-8666-8688764c1687\",\"type\":\"UnionRenderers\"}},\"id\":\"5d578335-604e-40e4-942c-a27eb58f2cdc\",\"type\":\"ColumnDataSource\"},{\"attributes\":{\"bottom_units\":\"screen\",\"fill_alpha\":{\"value\":0.5},\"fill_color\":{\"value\":\"lightgrey\"},\"left_units\":\"screen\",\"level\":\"overlay\",\"line_alpha\":{\"value\":1.0},\"line_color\":{\"value\":\"black\"},\"line_dash\":[4,4],\"line_width\":{\"value\":2},\"plot\":null,\"render_mode\":\"css\",\"right_units\":\"screen\",\"top_units\":\"screen\"},\"id\":\"1b5f7af7-93dd-4142-8c1a-d93c38b8abe2\",\"type\":\"BoxAnnotation\"},{\"attributes\":{\"overlay\":{\"id\":\"1b5f7af7-93dd-4142-8c1a-d93c38b8abe2\",\"type\":\"BoxAnnotation\"}},\"id\":\"708d9567-7a7f-4f30-bf78-cefd7c6ed116\",\"type\":\"BoxZoomTool\"},{\"attributes\":{},\"id\":\"28c57028-9eb5-4cab-9c98-a5fbc1604189\",\"type\":\"ResetTool\"},{\"attributes\":{},\"id\":\"fd98d608-92c6-4703-9f4e-58f4d90f9f5a\",\"type\":\"SaveTool\"},{\"attributes\":{},\"id\":\"a7c30519-c3c1-4553-8865-044c7f815742\",\"type\":\"WheelZoomTool\"},{\"attributes\":{},\"id\":\"32e18ac1-5643-475e-891d-8e7e19d71a63\",\"type\":\"BasicTickFormatter\"},{\"attributes\":{\"data_source\":{\"id\":\"c8d8f493-031c-4f0b-b54c-15a192f5075d\",\"type\":\"ColumnDataSource\"},\"glyph\":{\"id\":\"010604f0-d39a-4ee9-9379-92c249684b1c\",\"type\":\"Circle\"},\"hover_glyph\":null,\"muted_glyph\":null,\"nonselection_glyph\":{\"id\":\"08d2c61a-4377-494c-a764-5b81c81e5b5b\",\"type\":\"Circle\"},\"selection_glyph\":null,\"view\":{\"id\":\"0f43255c-4e91-4584-a252-1d45d5135212\",\"type\":\"CDSView\"}},\"id\":\"fced482d-e3ef-465b-a5e1-7326cd48b19b\",\"type\":\"GlyphRenderer\"},{\"attributes\":{\"line_alpha\":0.1,\"line_color\":\"#1f77b4\",\"line_dash\":[4,4],\"line_width\":2,\"x\":{\"field\":\"x\"},\"y\":{\"field\":\"y\"}},\"id\":\"3eeead1a-e7dc-426b-8d6a-c6d61f80be34\",\"type\":\"Line\"},{\"attributes\":{\"source\":{\"id\":\"c8d8f493-031c-4f0b-b54c-15a192f5075d\",\"type\":\"ColumnDataSource\"}},\"id\":\"0f43255c-4e91-4584-a252-1d45d5135212\",\"type\":\"CDSView\"},{\"attributes\":{\"items\":[{\"id\":\"f6a0dd90-e132-43f9-8239-60dba21d6b60\",\"type\":\"LegendItem\"},{\"id\":\"ec57cdc7-8cc4-45b9-af87-1da73936524b\",\"type\":\"LegendItem\"}],\"plot\":{\"id\":\"ec0033c4-6074-4c4b-a428-e9e1080bce01\",\"subtype\":\"Figure\",\"type\":\"Plot\"}},\"id\":\"45cfdd9c-82ab-4e75-b25f-0b81d46f9e20\",\"type\":\"Legend\"},{\"attributes\":{},\"id\":\"3522a2f5-a191-4ab4-96ec-16984e0e1b37\",\"type\":\"HelpTool\"},{\"attributes\":{\"plot\":null,\"text\":\"\"},\"id\":\"38e14370-0fad-4b59-8cca-98ee66fd2fca\",\"type\":\"Title\"},{\"attributes\":{\"label\":{\"value\":\"2*sin(x)\"},\"renderers\":[{\"id\":\"984d5565-b377-4cec-9313-be5e9be29087\",\"type\":\"GlyphRenderer\"}]},\"id\":\"ec57cdc7-8cc4-45b9-af87-1da73936524b\",\"type\":\"LegendItem\"},{\"attributes\":{},\"id\":\"88139488-fea9-487e-850b-c1bb911719b4\",\"type\":\"Selection\"},{\"attributes\":{\"plot\":{\"id\":\"ec0033c4-6074-4c4b-a428-e9e1080bce01\",\"subtype\":\"Figure\",\"type\":\"Plot\"},\"ticker\":{\"id\":\"3595b276-34ad-4f2a-b9c1-868331199edd\",\"type\":\"BasicTicker\"}},\"id\":\"7f56d195-93c7-4475-a3b2-c1435cd41551\",\"type\":\"Grid\"},{\"attributes\":{\"line_color\":\"orange\",\"line_dash\":[4,4],\"line_width\":2,\"x\":{\"field\":\"x\"},\"y\":{\"field\":\"y\"}},\"id\":\"d51e3317-e6ac-4823-9b1c-29c1a6f24d7e\",\"type\":\"Line\"},{\"attributes\":{},\"id\":\"f54bc7e0-9951-440b-afc2-98f562f49c9e\",\"type\":\"UnionRenderers\"},{\"attributes\":{\"label\":{\"value\":\"sin(x)\"},\"renderers\":[{\"id\":\"fced482d-e3ef-465b-a5e1-7326cd48b19b\",\"type\":\"GlyphRenderer\"}]},\"id\":\"f6a0dd90-e132-43f9-8239-60dba21d6b60\",\"type\":\"LegendItem\"},{\"attributes\":{\"callback\":null,\"data\":{\"x\":{\"__ndarray__\":\"AAAAAAAAAACRGkt8Vz/AP5EaS3xXP9A/2qdwOgNf2D+RGkt8Vz/gPzXhXVstT+Q/2qdwOgNf6D9+boMZ2W7sP5EaS3xXP/A/433Ua0JH8j814V1bLU/0P4dE50oYV/Y/2qdwOgNf+D8sC/op7mb6P35ugxnZbvw/0NEMCcR2/j+RGkt8Vz8AQDrMD/RMQwFA433Ua0JHAkCML5njN0sDQDXhXVstTwRA3pIi0yJTBUCHROdKGFcGQDD2q8INWwdA2qdwOgNfCECDWTWy+GIJQCwL+inuZgpA1by+oeNqC0B+boMZ2W4MQCcgSJHOcg1A0NEMCcR2DkB5g9GAuXoPQJEaS3xXPxBAZnMtOFLBEEA6zA/0TEMRQA8l8q9HxRFA433Ua0JHEkC41rYnPckSQIwvmeM3SxNAYYh7nzLNE0A14V1bLU8UQAo6QBco0RRA3pIi0yJTFUCz6wSPHdUVQIdE50oYVxZAXJ3JBhPZFkAw9qvCDVsXQAVPjn4I3RdA2qdwOgNfGECuAFP2/eAYQINZNbL4YhlAV7IXbvPkGUAsC/op7mYaQABk3OXo6BpA1by+oeNqG0CpFaFd3uwbQH5ugxnZbhxAUsdl1dPwHEAnIEiRznIdQPt4Kk3J9B1A0NEMCcR2HkCkKu/EvvgeQHmD0YC5eh9ATdyzPLT8H0CRGkt8Vz8gQPtGPNpUgCBAZnMtOFLBIEDQnx6WTwIhQDrMD/RMQyFApPgAUkqEIUAPJfKvR8UhQHlR4w1FBiJA433Ua0JHIkBNqsXJP4giQLjWtic9ySJAIgOohToKI0CML5njN0sjQPZbikE1jCNAYYh7nzLNI0DLtGz9Lw4kQDXhXVstTyRAoA1PuSqQJEAKOkAXKNEkQHRmMXUlEiVA3pIi0yJTJUBJvxMxIJQlQLPrBI8d1SVAHRj27BoWJkCHROdKGFcmQPJw2KgVmCZAXJ3JBhPZJkDGybpkEBonQDD2q8INWydAmyKdIAucJ0AFT45+CN0nQG97f9wFHihA2qdwOgNfKEBE1GGYAKAoQK4AU/b94ChAGC1EVPshKUA=\",\"dtype\":\"float64\",\"shape\":[100]},\"y\":{\"__ndarray__\":\"AAAAAAAAAADwgwJ4LjTAP5qI2QHPEtA/+5MNU1HJ1z8ZTT7q2B3fP0aFmgwa+eI/ABg/lCAV5j+IQCEcMdboP3fOhmLzMOs/EyzujrQb7T/9Izwlj47uPxccgYyLg+8/g6xao7j27z9mZrL8O+bvP7+X94FZUu8/xVNiW3I97j9RB8Ai+6vsP5FWKYlppOo/oig6uxkv6D/Sh2bxK1blPyZGRbpaJeI/8qg+VZVT3T/4C4p0qOPVP+UppLIiM8w/3FNHxZdVuD/I23zJpD6gv+3ENsZjOcS/wo12/ecH0r/egWKM2KjZv2MTsJELcOC/83ixWvXH47+258MBZM7mv5eCD4nhdum/rExY6Hq267+TIxAn7YPtvwSssILL1+6/70I4BJ6s77/vOc8G+P7vvzTGy1KGze+/3176khQZ77/C8a4NiuTtvzGcHq/dNOy/mEFFlgER6r+EGZN4xoHnvx8WPFK3keS/Cli7+O1M4b+HQNqEwoHbv9kfIiFb+NO/gKyggGI5yL8EhrXMjDywvyCGtcyMPLA/jqyggGI5yD/gHyIhW/jTP4BA2oTCgds/Dli7+O1M4T8cFjxSt5HkP4cZk3jGgec/lEFFlgER6j8ynB6v3TTsP8Hxrg2K5O0/4F76khQZ7z80xstShs3vP+85zwb4/u8/8EI4BJ6s7z8DrLCCy9fuP5UjECftg+0/p0xY6Hq26z+Vgg+J4XbpP7fnwwFkzuY/9nixWvXH4z9cE7CRC3DgP9eBYozYqNk/w412/ecH0j/+xDbGYznEP0/bfMmkPqA/+VNHxZdVuL/UKaSyIjPMv+gLinSo49W/+Kg+VZVT3b8mRkW6WiXiv8+HZvErVuW/pig6uxkv6L+TVimJaaTqv1EHwCL7q+y/xFNiW3I97r/Al/eBWVLvv2Zmsvw75u+/g6xao7j2778YHIGMi4Pvv/sjPCWPju6/EyzujrQb7b94zoZi8zDrv4xAIRwx1ui//Bc/lCAV5r9GhZoMGvnivx5NPurYHd+/65MNU1HJ17+SiNkBzxLQv/GDAnguNMC/B1wUMyamwbw=\",\"dtype\":\"float64\",\"shape\":[100]}},\"selected\":{\"id\":\"88139488-fea9-487e-850b-c1bb911719b4\",\"type\":\"Selection\"},\"selection_policy\":{\"id\":\"f54bc7e0-9951-440b-afc2-98f562f49c9e\",\"type\":\"UnionRenderers\"}},\"id\":\"c8d8f493-031c-4f0b-b54c-15a192f5075d\",\"type\":\"ColumnDataSource\"},{\"attributes\":{\"dimension\":1,\"plot\":{\"id\":\"ec0033c4-6074-4c4b-a428-e9e1080bce01\",\"subtype\":\"Figure\",\"type\":\"Plot\"},\"ticker\":{\"id\":\"92453dd1-6433-4c67-96d6-ca06ff7b5aa6\",\"type\":\"BasicTicker\"}},\"id\":\"302921b8-72e3-4268-a078-eb773708b6cb\",\"type\":\"Grid\"},{\"attributes\":{\"formatter\":{\"id\":\"32e18ac1-5643-475e-891d-8e7e19d71a63\",\"type\":\"BasicTickFormatter\"},\"plot\":{\"id\":\"ec0033c4-6074-4c4b-a428-e9e1080bce01\",\"subtype\":\"Figure\",\"type\":\"Plot\"},\"ticker\":{\"id\":\"92453dd1-6433-4c67-96d6-ca06ff7b5aa6\",\"type\":\"BasicTicker\"}},\"id\":\"8d5d3afc-8593-4c74-b269-1e00d36590bc\",\"type\":\"LinearAxis\"},{\"attributes\":{\"below\":[{\"id\":\"0b315b5e-c7ef-4eff-8aed-0750a25b0393\",\"type\":\"LinearAxis\"}],\"left\":[{\"id\":\"8d5d3afc-8593-4c74-b269-1e00d36590bc\",\"type\":\"LinearAxis\"}],\"plot_height\":400,\"renderers\":[{\"id\":\"0b315b5e-c7ef-4eff-8aed-0750a25b0393\",\"type\":\"LinearAxis\"},{\"id\":\"7f56d195-93c7-4475-a3b2-c1435cd41551\",\"type\":\"Grid\"},{\"id\":\"8d5d3afc-8593-4c74-b269-1e00d36590bc\",\"type\":\"LinearAxis\"},{\"id\":\"302921b8-72e3-4268-a078-eb773708b6cb\",\"type\":\"Grid\"},{\"id\":\"1b5f7af7-93dd-4142-8c1a-d93c38b8abe2\",\"type\":\"BoxAnnotation\"},{\"id\":\"45cfdd9c-82ab-4e75-b25f-0b81d46f9e20\",\"type\":\"Legend\"},{\"id\":\"fced482d-e3ef-465b-a5e1-7326cd48b19b\",\"type\":\"GlyphRenderer\"},{\"id\":\"984d5565-b377-4cec-9313-be5e9be29087\",\"type\":\"GlyphRenderer\"}],\"title\":{\"id\":\"38e14370-0fad-4b59-8cca-98ee66fd2fca\",\"type\":\"Title\"},\"toolbar\":{\"id\":\"49fc677e-6cc3-40de-85d0-23d6e0480c32\",\"type\":\"Toolbar\"},\"x_range\":{\"id\":\"b9e4b3fc-540b-42c5-b75d-017746702901\",\"type\":\"DataRange1d\"},\"x_scale\":{\"id\":\"7958941a-0bca-4d83-9520-374b265bce5c\",\"type\":\"LinearScale\"},\"y_range\":{\"id\":\"7aa780b5-8912-4111-97ec-8161264b3249\",\"type\":\"DataRange1d\"},\"y_scale\":{\"id\":\"ec0df66d-5b5e-43d8-95ef-c479209c2380\",\"type\":\"LinearScale\"}},\"id\":\"ec0033c4-6074-4c4b-a428-e9e1080bce01\",\"subtype\":\"Figure\",\"type\":\"Plot\"},{\"attributes\":{\"active_drag\":\"auto\",\"active_inspect\":\"auto\",\"active_multi\":null,\"active_scroll\":\"auto\",\"active_tap\":\"auto\",\"tools\":[{\"id\":\"9db9f560-f456-458c-97e1-1da6cac4c5b1\",\"type\":\"PanTool\"},{\"id\":\"a7c30519-c3c1-4553-8865-044c7f815742\",\"type\":\"WheelZoomTool\"},{\"id\":\"708d9567-7a7f-4f30-bf78-cefd7c6ed116\",\"type\":\"BoxZoomTool\"},{\"id\":\"fd98d608-92c6-4703-9f4e-58f4d90f9f5a\",\"type\":\"SaveTool\"},{\"id\":\"28c57028-9eb5-4cab-9c98-a5fbc1604189\",\"type\":\"ResetTool\"},{\"id\":\"3522a2f5-a191-4ab4-96ec-16984e0e1b37\",\"type\":\"HelpTool\"}]},\"id\":\"49fc677e-6cc3-40de-85d0-23d6e0480c32\",\"type\":\"Toolbar\"},{\"attributes\":{\"fill_color\":{\"value\":\"#1f77b4\"},\"line_color\":{\"value\":\"#1f77b4\"},\"x\":{\"field\":\"x\"},\"y\":{\"field\":\"y\"}},\"id\":\"010604f0-d39a-4ee9-9379-92c249684b1c\",\"type\":\"Circle\"},{\"attributes\":{\"formatter\":{\"id\":\"d9fdf0c7-0e97-4de8-930e-2e7d0f5f94cf\",\"type\":\"BasicTickFormatter\"},\"plot\":{\"id\":\"ec0033c4-6074-4c4b-a428-e9e1080bce01\",\"subtype\":\"Figure\",\"type\":\"Plot\"},\"ticker\":{\"id\":\"3595b276-34ad-4f2a-b9c1-868331199edd\",\"type\":\"BasicTicker\"}},\"id\":\"0b315b5e-c7ef-4eff-8aed-0750a25b0393\",\"type\":\"LinearAxis\"},{\"attributes\":{},\"id\":\"92453dd1-6433-4c67-96d6-ca06ff7b5aa6\",\"type\":\"BasicTicker\"},{\"attributes\":{},\"id\":\"3595b276-34ad-4f2a-b9c1-868331199edd\",\"type\":\"BasicTicker\"},{\"attributes\":{\"callback\":null},\"id\":\"b9e4b3fc-540b-42c5-b75d-017746702901\",\"type\":\"DataRange1d\"},{\"attributes\":{\"fill_alpha\":{\"value\":0.1},\"fill_color\":{\"value\":\"#1f77b4\"},\"line_alpha\":{\"value\":0.1},\"line_color\":{\"value\":\"#1f77b4\"},\"x\":{\"field\":\"x\"},\"y\":{\"field\":\"y\"}},\"id\":\"08d2c61a-4377-494c-a764-5b81c81e5b5b\",\"type\":\"Circle\"},{\"attributes\":{},\"id\":\"ec0df66d-5b5e-43d8-95ef-c479209c2380\",\"type\":\"LinearScale\"},{\"attributes\":{\"source\":{\"id\":\"5d578335-604e-40e4-942c-a27eb58f2cdc\",\"type\":\"ColumnDataSource\"}},\"id\":\"cf2e888f-7992-4a19-a9c2-1c5d9364710c\",\"type\":\"CDSView\"},{\"attributes\":{\"data_source\":{\"id\":\"5d578335-604e-40e4-942c-a27eb58f2cdc\",\"type\":\"ColumnDataSource\"},\"glyph\":{\"id\":\"d51e3317-e6ac-4823-9b1c-29c1a6f24d7e\",\"type\":\"Line\"},\"hover_glyph\":null,\"muted_glyph\":null,\"nonselection_glyph\":{\"id\":\"3eeead1a-e7dc-426b-8d6a-c6d61f80be34\",\"type\":\"Line\"},\"selection_glyph\":null,\"view\":{\"id\":\"cf2e888f-7992-4a19-a9c2-1c5d9364710c\",\"type\":\"CDSView\"}},\"id\":\"984d5565-b377-4cec-9313-be5e9be29087\",\"type\":\"GlyphRenderer\"},{\"attributes\":{},\"id\":\"c6b24a0e-6fe8-48dc-81cd-3e456d497e00\",\"type\":\"Selection\"},{\"attributes\":{},\"id\":\"9db9f560-f456-458c-97e1-1da6cac4c5b1\",\"type\":\"PanTool\"},{\"attributes\":{},\"id\":\"d9fdf0c7-0e97-4de8-930e-2e7d0f5f94cf\",\"type\":\"BasicTickFormatter\"},{\"attributes\":{\"callback\":null},\"id\":\"7aa780b5-8912-4111-97ec-8161264b3249\",\"type\":\"DataRange1d\"}],\"root_ids\":[\"ec0033c4-6074-4c4b-a428-e9e1080bce01\"]},\"title\":\"Bokeh Application\",\"version\":\"0.13.0\"}};\n",
       "  var render_items = [{\"docid\":\"83dc851b-d075-44cf-a0a7-fdabf66a159f\",\"roots\":{\"ec0033c4-6074-4c4b-a428-e9e1080bce01\":\"27af34e1-8c6d-4984-bbd9-de43d258dd5b\"}}];\n",
       "  root.Bokeh.embed.embed_items_notebook(docs_json, render_items);\n",
       "\n",
       "  }\n",
       "  if (root.Bokeh !== undefined) {\n",
       "    embed_document(root);\n",
       "  } else {\n",
       "    var attempts = 0;\n",
       "    var timer = setInterval(function(root) {\n",
       "      if (root.Bokeh !== undefined) {\n",
       "        embed_document(root);\n",
       "        clearInterval(timer);\n",
       "      }\n",
       "      attempts++;\n",
       "      if (attempts > 100) {\n",
       "        console.log(\"Bokeh: ERROR: Unable to run BokehJS code because BokehJS library is missing\")\n",
       "        clearInterval(timer);\n",
       "      }\n",
       "    }, 10, root)\n",
       "  }\n",
       "})(window);"
      ],
      "application/vnd.bokehjs_exec.v0+json": ""
     },
     "metadata": {
      "application/vnd.bokehjs_exec.v0+json": {
       "id": "ec0033c4-6074-4c4b-a428-e9e1080bce01"
      }
     },
     "output_type": "display_data"
    }
   ],
   "source": [
    "import numpy as np\n",
    "\n",
    "x = np.linspace(0, 4*np.pi, 100)\n",
    "y = np.sin(x)\n",
    "\n",
    "p = figure(height=400)\n",
    "\n",
    "p.circle(x, y, legend=\"sin(x)\")\n",
    "p.line(x, 2*y, legend=\"2*sin(x)\", line_dash=[4, 4], line_color=\"orange\", line_width=2)\n",
    "\n",
    "show(p)"
   ]
  },
  {
   "cell_type": "markdown",
   "metadata": {},
   "source": [
    "### Compound legends\n",
    "\n",
    "In the example above, we provided a different legend label to each glyph method. Sometimes, two (or more) different glyphs are used with a single data source. In this case, you can make compound legends by specifying the same legend argument to multiple glyph methods when creating a plot, for example, if you plot a `sin` curve with both a line and a marker, you may give them the same label to cause them to show up together in the legend:\n",
    "\n",
    "```python\n",
    "p.circle(x, y, legend=\"sin(x)\")\n",
    "p.line(x, y, legend=\"sin(x)\", line_dash=[4, 4], line_color=\"orange\", line_width=2)\n",
    "```\n"
   ]
  },
  {
   "cell_type": "code",
   "execution_count": 26,
   "metadata": {},
   "outputs": [],
   "source": [
    "# EXERCISE 6:  \n",
    "# (1) Making a compound legend \n",
    "# (2) Position the legend using p.legend.location.  Possible values are listed at:\n",
    "#     https://bokeh.pydata.org/en/latest/docs/reference/core/enums.html#bokeh.core.enums.Anchor\n"
   ]
  },
  {
   "cell_type": "markdown",
   "metadata": {},
   "source": [
    "## Color bars\n",
    "\n",
    "Color bars are especially useful if we vary the color of a glyph according to some color mapping. Bokeh color bars are configured with a color mappewr and added to plots with the `add_layout` method:\n",
    "```python\n",
    "color_mapper = LinearColorMapper(palette=\"Viridis256\", low=data_low, high=data_high)\n",
    "color_bar = ColorBar(color_mapper=color_mapper, location=(0,0))\n",
    "p.add_layout(color_bar, 'right')\n",
    "```\n",
    "The example below shows a complete example that also uses the color mapper to transform the glyph color."
   ]
  },
  {
   "cell_type": "code",
   "execution_count": 27,
   "metadata": {},
   "outputs": [
    {
     "data": {
      "text/html": [
       "\n",
       "\n",
       "\n",
       "\n",
       "\n",
       "\n",
       "  <div class=\"bk-root\" id=\"621cf5db-96ea-462e-a4d8-9755b59b2465\"></div>\n"
      ]
     },
     "metadata": {},
     "output_type": "display_data"
    },
    {
     "data": {
      "application/javascript": [
       "(function(root) {\n",
       "  function embed_document(root) {\n",
       "    \n",
       "  var docs_json = {\"f899dfff-0cc0-4e5c-833c-b1a85153564f\":{\"roots\":{\"references\":[{\"attributes\":{\"callback\":null},\"id\":\"451b22d6-c4d2-4400-b520-64db676869ce\",\"type\":\"DataRange1d\"},{\"attributes\":{\"data_source\":{\"id\":\"2e63a39a-1983-4199-991d-92fc4cf55cfd\",\"type\":\"ColumnDataSource\"},\"glyph\":{\"id\":\"dd2b9b7a-de1c-4a20-b456-216587fa89f4\",\"type\":\"Circle\"},\"hover_glyph\":null,\"muted_glyph\":null,\"nonselection_glyph\":{\"id\":\"1065d5ef-079b-447a-b1ab-9a35449609ae\",\"type\":\"Circle\"},\"selection_glyph\":null,\"view\":{\"id\":\"28dbe094-245a-4d68-b617-09d6861bdf80\",\"type\":\"CDSView\"}},\"id\":\"21b9db0f-3daf-4bdf-b685-a724cb8026f1\",\"type\":\"GlyphRenderer\"},{\"attributes\":{\"callback\":null,\"data\":{\"accel\":{\"__ndarray__\":\"AAAAAAAAKEAAAAAAAAAnQAAAAAAAACZAAAAAAAAAKEAAAAAAAAAlQAAAAAAAACRAAAAAAAAAIkAAAAAAAAAhQAAAAAAAACRAAAAAAAAAIUAAAAAAAAAkQAAAAAAAACBAAAAAAAAAI0AAAAAAAAAkQAAAAAAAAC5AAAAAAAAAL0AAAAAAAAAvQAAAAAAAADBAAAAAAAAALUAAAAAAAIA0QAAAAAAAgDFAAAAAAAAALUAAAAAAAIAxQAAAAAAAAClAAAAAAAAALkAAAAAAAAAsQAAAAAAAAC5AAAAAAAAAK0AAAAAAAIAyQAAAAAAAAC1AAAAAAAAAL0AAAAAAAAAsQAAAAAAAACpAAAAAAAAAL0AAAAAAAAAvQAAAAAAAAC9AAAAAAAAAL0AAAAAAAAAoQAAAAAAAACdAAAAAAAAAK0AAAAAAAAAqQAAAAAAAACdAAAAAAAAAKEAAAAAAAAAoQAAAAAAAACtAAAAAAAAAM0AAAAAAAAAuQAAAAAAAAC1AAAAAAAAALEAAAAAAAAAsQAAAAAAAgDNAAAAAAAAALUAAAAAAAAAzQAAAAAAAADJAAAAAAAAAM0AAAAAAAIA0QAAAAAAAAC9AAAAAAAAAMUAAAAAAAIA3QAAAAAAAgDNAAAAAAACAMEAAAAAAAAAoQAAAAAAAAChAAAAAAAAAK0AAAAAAAAAqQAAAAAAAACdAAAAAAAAAJkAAAAAAAAArQAAAAAAAACtAAAAAAAAAKUAAAAAAAAArQAAAAAAAAClAAAAAAAAALEAAAAAAAAAwQAAAAAAAACxAAAAAAAAALUAAAAAAAAAyQAAAAAAAgDNAAAAAAAAAMkAAAAAAAAAwQAAAAAAAADFAAAAAAAAALUAAAAAAAAAuQAAAAAAAgDBAAAAAAAAAKkAAAAAAAAAnQAAAAAAAACpAAAAAAAAALUAAAAAAAAApQAAAAAAAACdAAAAAAAAAKEAAAAAAAAAqQAAAAAAAAC1AAAAAAAAAJkAAAAAAAAAmQAAAAAAAACZAAAAAAACAMEAAAAAAAAAyQAAAAAAAADBAAAAAAACAMEAAAAAAAAAwQAAAAAAAADVAAAAAAAAALEAAAAAAAAApQAAAAAAAACpAAAAAAAAAKUAAAAAAAAAuQAAAAAAAADNAAAAAAACAM0AAAAAAAIAwQAAAAAAAACtAAAAAAACAMkAAAAAAAAAsQAAAAAAAAC9AAAAAAAAAKkAAAAAAAAAjQAAAAAAAgDNAAAAAAAAAL0AAAAAAAAAsQAAAAAAAAC9AAAAAAAAAJkAAAAAAAAAsQAAAAAAAACtAAAAAAAAAJkAAAAAAAIAwQAAAAAAAADBAAAAAAAAAMUAAAAAAAAAzQAAAAAAAgDBAAAAAAAAANUAAAAAAAAAxQAAAAAAAADFAAAAAAAAAMkAAAAAAAIAwQAAAAAAAACxAAAAAAAAALUAAAAAAAAArQAAAAAAAADBAAAAAAAAAL0AAAAAAAIAwQAAAAAAAAC9AAAAAAAAALUAAAAAAAIAwQAAAAAAAADNAAAAAAAAALUAAAAAAAAAvQAAAAAAAACxAAAAAAAAALkAAAAAAAAAvQAAAAAAAADBAAAAAAAAAMEAAAAAAAAAwQAAAAAAAADVAAAAAAACAM0AAAAAAAAAnQAAAAAAAACxAAAAAAAAALUAAAAAAAAArQAAAAAAAADVAAAAAAACAMkAAAAAAAAAzQAAAAAAAADNAAAAAAAAALkAAAAAAAAArQAAAAAAAAChAAAAAAAAAMEAAAAAAAAAxQAAAAAAAADBAAAAAAACAMkAAAAAAAAArQAAAAAAAgDBAAAAAAAAAMUAAAAAAAAAtQAAAAAAAACxAAAAAAAAAMUAAAAAAAAAuQAAAAAAAADFAAAAAAAAALUAAAAAAAAArQAAAAAAAgDFAAAAAAAAAL0BmZmZmZuYwQM3MzMzMzC1AMzMzMzOzMUCamZmZmZkuQAAAAAAAACpAAAAAAAAAKkDNzMzMzMwrQJqZmZmZmSlAzczMzMzMLkAAAAAAAAAtQJqZmZmZmTFAmpmZmZmZMUAzMzMzMzM2QJqZmZmZGTZAZmZmZmZmLEBmZmZmZmYxQDMzMzMzszFAAAAAAAAANUAzMzMzMzMwQM3MzMzMzDFAZmZmZmZmKEAAAAAAAAAxQGZmZmZmZjBAMzMzMzMzK0BmZmZmZmYvQGZmZmZmZipAZmZmZmbmNUAAAAAAAAAvQDMzMzMzszBAMzMzMzMzKEAAAAAAAAAoQAAAAAAAAC5AAAAAAAAALEAAAAAAAIAyQJqZmZmZmS1AmpmZmZmZMkAAAAAAAAAvQM3MzMzMzDBAAAAAAAAAKUAAAAAAAAAzQGZmZmZmZitAzczMzMzMLUBmZmZmZmYwQGZmZmZm5jBAMzMzMzOzMUAAAAAAAAAzQDMzMzMzMyZAzczMzMzMJkBmZmZmZmYoQAAAAAAAAC1AAAAAAAAALUAAAAAAAAAwQDMzMzMzMzJAmpmZmZmZL0AAAAAAAAAxQM3MzMzMzC9AZmZmZmZmMEAzMzMzMzMsQAAAAAAAAC1AmpmZmZmZKUAAAAAAAAArQAAAAAAAgDVAzczMzMzMLEBmZmZmZmYzQJqZmZmZmTJAZmZmZmZmMEAAAAAAAAAvQGZmZmZmZipAmpmZmZmZKUAzMzMzMzMzQDMzMzMzMzJAmpmZmZmZL0DNzMzMzMwuQDMzMzMzMzFAMzMzMzMzMUCamZmZmZkvQDMzMzMzszBAMzMzMzOzMkAzMzMzMzMuQGZmZmZmZipAzczMzMzMKkBmZmZmZmYmQGZmZmZmZitAAAAAAACAMEBmZmZmZmYsQGZmZmZmZi1AAAAAAAAALUCamZmZmZktQDMzMzMzszBAmpmZmZmZMUDNzMzMzMwtQM3MzMzMzC9AMzMzMzMzK0BmZmZmZmYvQJqZmZmZmS9AzczMzMzMLUCamZmZmZkwQM3MzMzMzC5AMzMzMzMzMkDNzMzMzEwxQDMzMzMzMzJAmpmZmZmZMEDNzMzMzMwuQM3MzMzMzCpAZmZmZmZmKkBmZmZmZmYuQM3MzMzMzC1AmpmZmZmZLEAAAAAAAAAuQAAAAAAAACpAAAAAAAAALEBmZmZmZmYuQM3MzMzMzCxAAAAAAAAALkCamZmZmRk0QGZmZmZmZjFAzczMzMzMOEAzMzMzMzM2QGZmZmZmZipAzczMzMzMLUAzMzMzMzMzQGZmZmZmZi1AAAAAAAAAMECamZmZmZkmQM3MzMzMzClAZmZmZmZmKkBmZmZmZmYtQM3MzMzMzDJAAAAAAAAAL0BmZmZmZmYwQAAAAAAAgDBAmpmZmZkZMkCamZmZmRk0QDMzMzMzszJAmpmZmZmZL0AAAAAAAAAvQAAAAAAAgDFAAAAAAAAALkBmZmZmZmYuQGZmZmZm5jFAzczMzMzMLEAzMzMzMzMzQDMzMzMzszVAMzMzMzOzN0BmZmZmZuYzQM3MzMzMzDVAmpmZmZmZK0AAAAAAAAAyQJqZmZmZmS5AzczMzMzMJkAAAAAAAAApQDMzMzMzMy5AAAAAAAAAMUBmZmZmZmYvQGZmZmZmZjBAzczMzMzMLEAzMzMzMzMpQM3MzMzMzClAZmZmZmbmMEBmZmZmZmYwQJqZmZmZGTBAzczMzMzMMUBmZmZmZmYzQM3MzMzMTDFAAAAAAAAAMEDNzMzMzMwtQDMzMzMzMzBAMzMzMzOzNEBmZmZmZmYsQM3MzMzMzCxAzczMzMzMMECamZmZmZktQM3MzMzMTDJAZmZmZmZmNECamZmZmZkzQDMzMzMzMylAmpmZmZmZK0CamZmZmZkvQAAAAAAAADNAmpmZmZkZMUCamZmZmZkwQJqZmZmZmTNAmpmZmZmZMkAAAAAAAAAyQDMzMzMzMzBAAAAAAAAAMEAAAAAAAAAyQGZmZmZmZjBAmpmZmZmZLkAzMzMzMzMyQJqZmZmZmTFAZmZmZmZmLUDNzMzMzEwxQAAAAAAAAC1AAAAAAAAALUBmZmZmZuYwQAAAAAAAAC5AZmZmZmZmL0AzMzMzMzMwQGZmZmZmZjBAAAAAAAAAMUAAAAAAAAAtQGZmZmZmZi1AzczMzMzMK0AAAAAAAAAqQM3MzMzMTDFAMzMzMzMzL0CamZmZmZk4QDMzMzMzMydAmpmZmZmZMkBmZmZmZmYzQA==\",\"dtype\":\"float64\",\"shape\":[392]},\"cyl\":[8,8,8,8,8,8,8,8,8,8,8,8,8,8,4,6,6,6,4,4,4,4,4,4,6,8,8,8,8,4,4,4,6,6,6,6,6,8,8,8,8,8,8,8,6,4,6,6,4,4,4,4,4,4,4,4,4,4,4,4,4,8,8,8,8,8,8,8,8,8,3,8,8,8,8,4,4,4,4,4,4,4,4,4,8,8,8,8,8,8,8,8,8,8,8,8,6,6,6,6,6,4,8,8,8,8,6,4,4,4,3,4,6,4,8,8,4,4,4,4,8,4,6,8,6,6,6,4,4,4,4,6,6,6,8,8,8,8,8,4,4,4,4,4,4,4,4,4,4,4,6,6,6,6,8,8,8,8,6,6,6,6,6,8,8,4,4,6,4,4,4,4,6,4,6,4,4,4,4,4,4,4,4,4,4,8,8,8,8,6,6,6,6,4,4,4,4,6,6,6,6,4,4,4,4,4,8,4,6,6,8,8,8,8,4,4,4,4,4,8,8,8,8,6,6,6,6,8,8,8,8,4,4,4,4,4,4,4,4,6,4,3,4,4,4,4,4,8,8,8,6,6,6,4,6,6,6,6,6,6,8,6,8,8,4,4,4,4,4,4,4,4,5,6,4,6,4,4,6,6,4,6,6,8,8,8,8,8,8,8,8,4,4,4,4,5,8,4,8,4,4,4,4,4,6,6,4,4,4,4,4,4,4,4,6,4,4,4,4,4,4,4,4,4,4,5,4,4,4,4,6,3,4,4,4,4,4,6,4,4,4,4,4,4,4,4,4,4,4,4,4,4,4,4,4,6,6,6,6,8,6,6,4,4,4,4,4,4,4,4,4,4,4,4,4,4,4,4,4,4,6,6,4,6,4,4,4,4,4,4,4,4],\"displ\":{\"__ndarray__\":\"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\",\"dtype\":\"float64\",\"shape\":[392]},\"hp\":[130,165,150,150,140,198,220,215,225,190,170,160,150,225,95,95,97,85,88,46,87,90,95,113,90,215,200,210,193,88,90,95,100,105,100,88,100,165,175,153,150,180,170,175,110,72,100,88,86,90,70,76,65,69,60,70,95,80,54,90,86,165,175,150,153,150,208,155,160,190,97,150,130,140,150,112,76,87,69,86,92,97,80,88,175,150,145,137,150,198,150,158,150,215,225,175,105,100,100,88,95,46,150,167,170,180,100,88,72,94,90,85,107,90,145,230,49,75,91,112,150,110,122,180,95,100,100,67,80,65,75,100,110,105,140,150,150,140,150,83,67,78,52,61,75,75,75,97,93,67,95,105,72,72,170,145,150,148,110,105,110,95,110,110,129,75,83,100,78,96,71,97,97,70,90,95,88,98,115,53,86,81,92,79,83,140,150,120,152,100,105,81,90,52,60,70,53,100,78,110,95,71,70,75,72,102,150,88,108,120,180,145,130,150,68,80,58,96,70,145,110,145,130,110,105,100,98,180,170,190,149,78,88,75,89,63,83,67,78,97,110,110,48,66,52,70,60,110,140,139,105,95,85,88,100,90,105,85,110,120,145,165,139,140,68,95,97,75,95,105,85,97,103,125,115,133,71,68,115,85,88,90,110,130,129,138,135,155,142,125,150,71,65,80,80,77,125,71,90,70,70,65,69,90,115,115,90,76,60,70,65,90,88,90,90,78,90,75,92,75,65,105,65,48,48,67,67,67,67,62,132,100,88,72,84,84,92,110,84,58,64,60,67,65,62,68,63,65,65,74,75,75,100,74,80,76,116,120,110,105,88,85,88,88,88,85,84,90,92,74,68,68,63,70,88,75,70,67,67,67,110,85,92,112,96,84,90,86,52,84,79,82],\"index\":[0,1,2,3,4,5,6,7,8,9,10,11,12,13,14,15,16,17,18,19,20,21,22,23,24,25,26,27,28,29,30,31,32,33,34,35,36,37,38,39,40,41,42,43,44,45,46,47,48,49,50,51,52,53,54,55,56,57,58,59,60,61,62,63,64,65,66,67,68,69,70,71,72,73,74,75,76,77,78,79,80,81,82,83,84,85,86,87,88,89,90,91,92,93,94,95,96,97,98,99,100,101,102,103,104,105,106,107,108,109,110,111,112,113,114,115,116,117,118,119,120,121,122,123,124,125,126,127,128,129,130,131,132,133,134,135,136,137,138,139,140,141,142,143,144,145,146,147,148,149,150,151,152,153,154,155,156,157,158,159,160,161,162,163,164,165,166,167,168,169,170,171,172,173,174,175,176,177,178,179,180,181,182,183,184,185,186,187,188,189,190,191,192,193,194,195,196,197,198,199,200,201,202,203,204,205,206,207,208,209,210,211,212,213,214,215,216,217,218,219,220,221,222,223,224,225,226,227,228,229,230,231,232,233,234,235,236,237,238,239,240,241,242,243,244,245,246,247,248,249,250,251,252,253,254,255,256,257,258,259,260,261,262,263,264,265,266,267,268,269,270,271,272,273,274,275,276,277,278,279,280,281,282,283,284,285,286,287,288,289,290,291,292,293,294,295,296,297,298,299,300,301,302,303,304,305,306,307,308,309,310,311,312,313,314,315,316,317,318,319,320,321,322,323,324,325,326,327,328,329,330,331,332,333,334,335,336,337,338,339,340,341,342,343,344,345,346,347,348,349,350,351,352,353,354,355,356,357,358,359,360,361,362,363,364,365,366,367,368,369,370,371,372,373,374,375,376,377,378,379,380,381,382,383,384,385,386,387,388,389,390,391],\"mpg\":{\"__ndarray__\":\"AAAAAAAAMkAAAAAAAAAuQAAAAAAAADJAAAAAAAAAMEAAAAAAAAAxQAAAAAAAAC5AAAAAAAAALEAAAAAAAAAsQAAAAAAAACxAAAAAAAAALkAAAAAAAAAuQAAAAAAAACxAAAAAAAAALkAAAAAAAAAsQAAAAAAAADhAAAAAAAAANkAAAAAAAAAyQAAAAAAAADVAAAAAAAAAO0AAAAAAAAA6QAAAAAAAADlAAAAAAAAAOEAAAAAAAAA5QAAAAAAAADpAAAAAAAAANUAAAAAAAAAkQAAAAAAAACRAAAAAAAAAJkAAAAAAAAAiQAAAAAAAADtAAAAAAAAAPEAAAAAAAAA5QAAAAAAAADNAAAAAAAAAMEAAAAAAAAAxQAAAAAAAADNAAAAAAAAAMkAAAAAAAAAsQAAAAAAAACxAAAAAAAAALEAAAAAAAAAsQAAAAAAAAChAAAAAAAAAKkAAAAAAAAAqQAAAAAAAADJAAAAAAAAANkAAAAAAAAAzQAAAAAAAADJAAAAAAAAAN0AAAAAAAAA8QAAAAAAAAD5AAAAAAAAAPkAAAAAAAAA/QAAAAAAAgEFAAAAAAAAAO0AAAAAAAAA6QAAAAAAAADhAAAAAAAAAOUAAAAAAAAA3QAAAAAAAADRAAAAAAAAANUAAAAAAAAAqQAAAAAAAACxAAAAAAAAALkAAAAAAAAAsQAAAAAAAADFAAAAAAAAAJkAAAAAAAAAqQAAAAAAAAChAAAAAAAAAKkAAAAAAAAAzQAAAAAAAAC5AAAAAAAAAKkAAAAAAAAAqQAAAAAAAACxAAAAAAAAAMkAAAAAAAAA2QAAAAAAAADVAAAAAAAAAOkAAAAAAAAA2QAAAAAAAADxAAAAAAAAAN0AAAAAAAAA8QAAAAAAAADtAAAAAAAAAKkAAAAAAAAAsQAAAAAAAACpAAAAAAAAALEAAAAAAAAAuQAAAAAAAAChAAAAAAAAAKkAAAAAAAAAqQAAAAAAAACxAAAAAAAAAKkAAAAAAAAAoQAAAAAAAACpAAAAAAAAAMkAAAAAAAAAwQAAAAAAAADJAAAAAAAAAMkAAAAAAAAA3QAAAAAAAADpAAAAAAAAAJkAAAAAAAAAoQAAAAAAAACpAAAAAAAAAKEAAAAAAAAAyQAAAAAAAADRAAAAAAAAANUAAAAAAAAA2QAAAAAAAADJAAAAAAAAAM0AAAAAAAAA1QAAAAAAAADpAAAAAAAAALkAAAAAAAAAwQAAAAAAAAD1AAAAAAAAAOEAAAAAAAAA0QAAAAAAAADNAAAAAAAAALkAAAAAAAAA4QAAAAAAAADRAAAAAAAAAJkAAAAAAAAA0QAAAAAAAADNAAAAAAAAALkAAAAAAAAA/QAAAAAAAADpAAAAAAAAAQEAAAAAAAAA5QAAAAAAAADBAAAAAAAAAMEAAAAAAAAAyQAAAAAAAADBAAAAAAAAAKkAAAAAAAAAsQAAAAAAAACxAAAAAAAAALEAAAAAAAAA9QAAAAAAAADpAAAAAAAAAOkAAAAAAAAA/QAAAAAAAAEBAAAAAAAAAPEAAAAAAAAA4QAAAAAAAADpAAAAAAAAAOEAAAAAAAAA6QAAAAAAAAD9AAAAAAAAAM0AAAAAAAAAyQAAAAAAAAC5AAAAAAAAALkAAAAAAAAAwQAAAAAAAAC5AAAAAAAAAMEAAAAAAAAAsQAAAAAAAADFAAAAAAAAAMEAAAAAAAAAuQAAAAAAAADJAAAAAAAAANUAAAAAAAAA0QAAAAAAAACpAAAAAAAAAPUAAAAAAAAA3QAAAAAAAADRAAAAAAAAAN0AAAAAAAAA4QAAAAAAAADlAAAAAAAAAOEAAAAAAAAAyQAAAAAAAAD1AAAAAAAAAM0AAAAAAAAA3QAAAAAAAADdAAAAAAAAANkAAAAAAAAA5QAAAAAAAgEBAAAAAAAAAPEAAAAAAAAA5QAAAAAAAADlAAAAAAAAAOkAAAAAAAAA7QAAAAAAAgDFAAAAAAAAAMEAAAAAAAAAvQAAAAAAAAC1AAAAAAAAANkAAAAAAAAA2QAAAAAAAADhAAAAAAACANkAAAAAAAAA9QAAAAAAAgDhAAAAAAAAAPUAAAAAAAIBAQAAAAAAAADRAAAAAAAAAMkAAAAAAAIAyQAAAAAAAgDFAAAAAAACAPUAAAAAAAABAQAAAAAAAADxAAAAAAACAOkAAAAAAAAA0QAAAAAAAACpAAAAAAAAAM0AAAAAAAAAzQAAAAAAAgDBAAAAAAACAMEAAAAAAAAAqQAAAAAAAACpAAAAAAAAAKkAAAAAAAIA/QAAAAAAAAD5AAAAAAAAAQkAAAAAAAIA5QAAAAAAAwEBAAAAAAACAMUAAAAAAAAAxQAAAAAAAAC9AAAAAAAAALkAAAAAAAIAxQAAAAAAAgDRAAAAAAAAAM0AAAAAAAIAyQAAAAAAAADBAAAAAAAAAL0AAAAAAAAAvQAAAAAAAADBAAAAAAAAAPUAAAAAAAIA4QAAAAAAAADpAAAAAAACAOUAAAAAAAIA+QAAAAAAAwEBAAAAAAAAAPkAAAAAAAIA+QAAAAAAAADZAAAAAAACANUAAAAAAAIA1QM3MzMzMjEVAzczMzMwMQkBmZmZmZmZAQDMzMzMzs0NAzczMzMwMQkBmZmZmZuYzQGZmZmZmZjNAMzMzMzMzNEAzMzMzMzMzQAAAAAAAgDRAMzMzMzMzNECamZmZmRk5QAAAAAAAgDRAZmZmZmZmM0CamZmZmZk0QM3MzMzMzDRAmpmZmZmZMkCamZmZmRkyQDMzMzMzMzNAMzMzMzOzMUCamZmZmRkyQAAAAAAAgDFAAAAAAAAAPkAAAAAAAIA7QDMzMzMzMztAZmZmZmbmPkCamZmZmRk1QDMzMzMzMzdAzczMzMzMN0BmZmZmZuY3QM3MzMzMTDRAAAAAAAAAMUCamZmZmZk1QDMzMzMzMzBAAAAAAACAP0AAAAAAAIA9QAAAAAAAgDVAzczMzMzMM0DNzMzMzEw2QDMzMzMzMzRAmpmZmZmZNEAAAAAAAAAxQJqZmZmZmTFAAAAAAACAMEAzMzMzMzMyQGZmZmZm5jBAAAAAAAAAL0AzMzMzMzMzQAAAAAAAgDJAZmZmZmbmP0DNzMzMzAxBQJqZmZmZ2UFAZmZmZmZmO0BmZmZmZmY5QAAAAAAAADdAMzMzMzMzO0BmZmZmZuY3QJqZmZmZGUFAAAAAAABAQUDNzMzMzMw/QGZmZmZmpkJAZmZmZmZmPEDNzMzMzMw8QM3MzMzMzDpAAAAAAADAQEAAAAAAAMBEQM3MzMzMDENAzczMzMwMQECamZmZmZlCQAAAAAAAADxAZmZmZmZmOkDNzMzMzEw4QJqZmZmZGTNAZmZmZmYmQUDNzMzMzMw9QM3MzMzMTD9AAAAAAACAQkCamZmZmRlAQM3MzMzMTEdAZmZmZmbmO0BmZmZmZmZEQGZmZmZmJkZAMzMzMzOzRUAzMzMzMzNCQAAAAAAAAD5AzczMzMxMRkBmZmZmZuZAQM3MzMzMzD1AmpmZmZlZQEAzMzMzM7M3QAAAAAAAgEFAMzMzMzMzQEAzMzMzMzM7QJqZmZmZmTpAzczMzMzMOUAAAAAAAIA3QAAAAAAAAD5AzczMzMyMQ0AAAAAAAIBDQM3MzMzMjEFAZmZmZmYmQEAAAAAAAIBCQJqZmZmZ2UJAzczMzMwMQUCamZmZmVlBQDMzMzMzM0FAZmZmZmbmPUAAAAAAAIBAQJqZmZmZ2UBAMzMzMzMzQEAzMzMzM3NAQJqZmZmZmT9AmpmZmZkZPEAzMzMzM7M+QGZmZmZmZjlAMzMzMzMzOEBmZmZmZmY2QJqZmZmZmTpAMzMzMzMzNECamZmZmZkxQAAAAAAAADxAAAAAAAAAO0AAAAAAAABBQAAAAAAAAD9AAAAAAAAAPUAAAAAAAAA7QAAAAAAAADhAAAAAAAAAQkAAAAAAAIBCQAAAAAAAAD9AAAAAAAAAQ0AAAAAAAABCQAAAAAAAAEJAAAAAAAAAQkAAAAAAAABBQAAAAAAAAENAAAAAAAAAQEAAAAAAAABDQAAAAAAAADlAAAAAAAAAQ0AAAAAAAAA6QAAAAAAAADZAAAAAAAAAQEAAAAAAAABCQAAAAAAAADtAAAAAAAAAO0AAAAAAAABGQAAAAAAAAEBAAAAAAAAAPEAAAAAAAAA/QA==\",\"dtype\":\"float64\",\"shape\":[392]},\"name\":[\"chevrolet chevelle malibu\",\"buick skylark 320\",\"plymouth satellite\",\"amc rebel sst\",\"ford torino\",\"ford galaxie 500\",\"chevrolet impala\",\"plymouth fury iii\",\"pontiac catalina\",\"amc ambassador dpl\",\"dodge challenger se\",\"plymouth 'cuda 340\",\"chevrolet monte carlo\",\"buick estate wagon (sw)\",\"toyota corona mark ii\",\"plymouth duster\",\"amc hornet\",\"ford maverick\",\"datsun pl510\",\"volkswagen 1131 deluxe sedan\",\"peugeot 504\",\"audi 100 ls\",\"saab 99e\",\"bmw 2002\",\"amc gremlin\",\"ford f250\",\"chevy c20\",\"dodge d200\",\"hi 1200d\",\"datsun pl510\",\"chevrolet vega 2300\",\"toyota corona\",\"amc gremlin\",\"plymouth satellite custom\",\"chevrolet chevelle malibu\",\"ford torino 500\",\"amc matador\",\"chevrolet impala\",\"pontiac catalina brougham\",\"ford galaxie 500\",\"plymouth fury iii\",\"dodge monaco (sw)\",\"ford country squire (sw)\",\"pontiac safari (sw)\",\"amc hornet sportabout (sw)\",\"chevrolet vega (sw)\",\"pontiac firebird\",\"ford mustang\",\"mercury capri 2000\",\"opel 1900\",\"peugeot 304\",\"fiat 124b\",\"toyota corolla 1200\",\"datsun 1200\",\"volkswagen model 111\",\"plymouth cricket\",\"toyota corona hardtop\",\"dodge colt hardtop\",\"volkswagen type 3\",\"chevrolet vega\",\"ford pinto runabout\",\"chevrolet impala\",\"pontiac catalina\",\"plymouth fury iii\",\"ford galaxie 500\",\"amc ambassador sst\",\"mercury marquis\",\"buick lesabre custom\",\"oldsmobile delta 88 royale\",\"chrysler newport royal\",\"mazda rx2 coupe\",\"amc matador (sw)\",\"chevrolet chevelle concours (sw)\",\"ford gran torino (sw)\",\"plymouth satellite custom (sw)\",\"volvo 145e (sw)\",\"volkswagen 411 (sw)\",\"peugeot 504 (sw)\",\"renault 12 (sw)\",\"ford pinto (sw)\",\"datsun 510 (sw)\",\"toyouta corona mark ii (sw)\",\"dodge colt (sw)\",\"toyota corolla 1600 (sw)\",\"buick century 350\",\"amc matador\",\"chevrolet malibu\",\"ford gran torino\",\"dodge coronet custom\",\"mercury marquis brougham\",\"chevrolet caprice classic\",\"ford ltd\",\"plymouth fury gran sedan\",\"chrysler new yorker brougham\",\"buick electra 225 custom\",\"amc ambassador brougham\",\"plymouth valiant\",\"chevrolet nova custom\",\"amc hornet\",\"ford maverick\",\"plymouth duster\",\"volkswagen super beetle\",\"chevrolet impala\",\"ford country\",\"plymouth custom suburb\",\"oldsmobile vista cruiser\",\"amc gremlin\",\"toyota carina\",\"chevrolet vega\",\"datsun 610\",\"maxda rx3\",\"ford pinto\",\"mercury capri v6\",\"fiat 124 sport coupe\",\"chevrolet monte carlo s\",\"pontiac grand prix\",\"fiat 128\",\"opel manta\",\"audi 100ls\",\"volvo 144ea\",\"dodge dart custom\",\"saab 99le\",\"toyota mark ii\",\"oldsmobile omega\",\"plymouth duster\",\"amc hornet\",\"chevrolet nova\",\"datsun b210\",\"ford pinto\",\"toyota corolla 1200\",\"chevrolet vega\",\"chevrolet chevelle malibu classic\",\"amc matador\",\"plymouth satellite sebring\",\"ford gran torino\",\"buick century luxus (sw)\",\"dodge coronet custom (sw)\",\"ford gran torino (sw)\",\"amc matador (sw)\",\"audi fox\",\"volkswagen dasher\",\"opel manta\",\"toyota corona\",\"datsun 710\",\"dodge colt\",\"fiat 128\",\"fiat 124 tc\",\"honda civic\",\"subaru\",\"fiat x1.9\",\"plymouth valiant custom\",\"chevrolet nova\",\"mercury monarch\",\"ford maverick\",\"pontiac catalina\",\"chevrolet bel air\",\"plymouth grand fury\",\"ford ltd\",\"buick century\",\"chevroelt chevelle malibu\",\"amc matador\",\"plymouth fury\",\"buick skyhawk\",\"chevrolet monza 2+2\",\"ford mustang ii\",\"toyota corolla\",\"ford pinto\",\"amc gremlin\",\"pontiac astro\",\"toyota corona\",\"volkswagen dasher\",\"datsun 710\",\"ford pinto\",\"volkswagen rabbit\",\"amc pacer\",\"audi 100ls\",\"peugeot 504\",\"volvo 244dl\",\"saab 99le\",\"honda civic cvcc\",\"fiat 131\",\"opel 1900\",\"capri ii\",\"dodge colt\",\"renault 12tl\",\"chevrolet chevelle malibu classic\",\"dodge coronet brougham\",\"amc matador\",\"ford gran torino\",\"plymouth valiant\",\"chevrolet nova\",\"ford maverick\",\"amc hornet\",\"chevrolet chevette\",\"chevrolet woody\",\"vw rabbit\",\"honda civic\",\"dodge aspen se\",\"ford granada ghia\",\"pontiac ventura sj\",\"amc pacer d/l\",\"volkswagen rabbit\",\"datsun b-210\",\"toyota corolla\",\"ford pinto\",\"volvo 245\",\"plymouth volare premier v8\",\"peugeot 504\",\"toyota mark ii\",\"mercedes-benz 280s\",\"cadillac seville\",\"chevy c10\",\"ford f108\",\"dodge d100\",\"honda accord cvcc\",\"buick opel isuzu deluxe\",\"renault 5 gtl\",\"plymouth arrow gs\",\"datsun f-10 hatchback\",\"chevrolet caprice classic\",\"oldsmobile cutlass supreme\",\"dodge monaco brougham\",\"mercury cougar brougham\",\"chevrolet concours\",\"buick skylark\",\"plymouth volare custom\",\"ford granada\",\"pontiac grand prix lj\",\"chevrolet monte carlo landau\",\"chrysler cordoba\",\"ford thunderbird\",\"volkswagen rabbit custom\",\"pontiac sunbird coupe\",\"toyota corolla liftback\",\"ford mustang ii 2+2\",\"chevrolet chevette\",\"dodge colt m/m\",\"subaru dl\",\"volkswagen dasher\",\"datsun 810\",\"bmw 320i\",\"mazda rx-4\",\"volkswagen rabbit custom diesel\",\"ford fiesta\",\"mazda glc deluxe\",\"datsun b210 gx\",\"honda civic cvcc\",\"oldsmobile cutlass salon brougham\",\"dodge diplomat\",\"mercury monarch ghia\",\"pontiac phoenix lj\",\"chevrolet malibu\",\"ford fairmont (auto)\",\"ford fairmont (man)\",\"plymouth volare\",\"amc concord\",\"buick century special\",\"mercury zephyr\",\"dodge aspen\",\"amc concord d/l\",\"chevrolet monte carlo landau\",\"buick regal sport coupe (turbo)\",\"ford futura\",\"dodge magnum xe\",\"chevrolet chevette\",\"toyota corona\",\"datsun 510\",\"dodge omni\",\"toyota celica gt liftback\",\"plymouth sapporo\",\"oldsmobile starfire sx\",\"datsun 200-sx\",\"audi 5000\",\"volvo 264gl\",\"saab 99gle\",\"peugeot 604sl\",\"volkswagen scirocco\",\"honda accord lx\",\"pontiac lemans v6\",\"mercury zephyr 6\",\"ford fairmont 4\",\"amc concord dl 6\",\"dodge aspen 6\",\"chevrolet caprice classic\",\"ford ltd landau\",\"mercury grand marquis\",\"dodge st. regis\",\"buick estate wagon (sw)\",\"ford country squire (sw)\",\"chevrolet malibu classic (sw)\",\"chrysler lebaron town @ country (sw)\",\"vw rabbit custom\",\"maxda glc deluxe\",\"dodge colt hatchback custom\",\"amc spirit dl\",\"mercedes benz 300d\",\"cadillac eldorado\",\"peugeot 504\",\"oldsmobile cutlass salon brougham\",\"plymouth horizon\",\"plymouth horizon tc3\",\"datsun 210\",\"fiat strada custom\",\"buick skylark limited\",\"chevrolet citation\",\"oldsmobile omega brougham\",\"pontiac phoenix\",\"vw rabbit\",\"toyota corolla tercel\",\"chevrolet chevette\",\"datsun 310\",\"chevrolet citation\",\"ford fairmont\",\"amc concord\",\"dodge aspen\",\"audi 4000\",\"toyota corona liftback\",\"mazda 626\",\"datsun 510 hatchback\",\"toyota corolla\",\"mazda glc\",\"dodge colt\",\"datsun 210\",\"vw rabbit c (diesel)\",\"vw dasher (diesel)\",\"audi 5000s (diesel)\",\"mercedes-benz 240d\",\"honda civic 1500 gl\",\"subaru dl\",\"vokswagen rabbit\",\"datsun 280-zx\",\"mazda rx-7 gs\",\"triumph tr7 coupe\",\"honda accord\",\"plymouth reliant\",\"buick skylark\",\"dodge aries wagon (sw)\",\"chevrolet citation\",\"plymouth reliant\",\"toyota starlet\",\"plymouth champ\",\"honda civic 1300\",\"subaru\",\"datsun 210 mpg\",\"toyota tercel\",\"mazda glc 4\",\"plymouth horizon 4\",\"ford escort 4w\",\"ford escort 2h\",\"volkswagen jetta\",\"honda prelude\",\"toyota corolla\",\"datsun 200sx\",\"mazda 626\",\"peugeot 505s turbo diesel\",\"volvo diesel\",\"toyota cressida\",\"datsun 810 maxima\",\"buick century\",\"oldsmobile cutlass ls\",\"ford granada gl\",\"chrysler lebaron salon\",\"chevrolet cavalier\",\"chevrolet cavalier wagon\",\"chevrolet cavalier 2-door\",\"pontiac j2000 se hatchback\",\"dodge aries se\",\"pontiac phoenix\",\"ford fairmont futura\",\"volkswagen rabbit l\",\"mazda glc custom l\",\"mazda glc custom\",\"plymouth horizon miser\",\"mercury lynx l\",\"nissan stanza xe\",\"honda accord\",\"toyota corolla\",\"honda civic\",\"honda civic (auto)\",\"datsun 310 gx\",\"buick century limited\",\"oldsmobile cutlass ciera (diesel)\",\"chrysler lebaron medallion\",\"ford granada l\",\"toyota celica gt\",\"dodge charger 2.2\",\"chevrolet camaro\",\"ford mustang gl\",\"vw pickup\",\"dodge rampage\",\"ford ranger\",\"chevy s-10\"],\"origin\":[1,1,1,1,1,1,1,1,1,1,1,1,1,1,3,1,1,1,3,2,2,2,2,2,1,1,1,1,1,3,1,3,1,1,1,1,1,1,1,1,1,1,1,1,1,1,1,1,1,2,2,2,3,3,2,1,3,1,2,1,1,1,1,1,1,1,1,1,1,1,3,1,1,1,1,2,2,2,2,1,3,3,1,3,1,1,1,1,1,1,1,1,1,1,1,1,1,1,1,1,1,2,1,1,1,1,1,3,1,3,3,1,1,2,1,1,2,2,2,2,1,2,3,1,1,1,1,3,1,3,1,1,1,1,1,1,1,1,1,2,2,2,3,3,1,2,2,3,3,2,1,1,1,1,1,1,1,1,1,1,1,1,1,1,1,3,1,1,1,3,2,3,1,2,1,2,2,2,2,3,2,2,1,1,2,1,1,1,1,1,1,1,1,1,1,2,3,1,1,1,1,2,3,3,1,2,1,2,3,2,1,1,1,1,3,1,2,1,3,1,1,1,1,1,1,1,1,1,1,1,1,2,1,3,1,1,1,3,2,3,2,3,2,1,3,3,3,1,1,1,1,1,1,1,1,1,1,1,1,1,1,1,1,1,1,3,3,1,3,1,1,3,2,2,2,2,2,3,1,1,1,1,1,1,1,1,1,1,1,1,1,2,3,1,1,2,1,2,1,1,1,3,2,1,1,1,1,2,3,1,3,1,1,1,1,2,3,3,3,3,3,1,3,2,2,2,2,3,3,2,3,3,2,3,1,1,1,1,1,3,1,3,3,3,3,3,1,1,1,2,3,3,3,3,2,2,3,3,1,1,1,1,1,1,1,1,1,1,1,2,3,3,1,1,3,3,3,3,3,3,1,1,1,1,3,1,1,1,2,1,1,1],\"weight\":[3504,3693,3436,3433,3449,4341,4354,4312,4425,3850,3563,3609,3761,3086,2372,2833,2774,2587,2130,1835,2672,2430,2375,2234,2648,4615,4376,4382,4732,2130,2264,2228,2634,3439,3329,3302,3288,4209,4464,4154,4096,4955,4746,5140,2962,2408,3282,3139,2220,2123,2074,2065,1773,1613,1834,1955,2278,2126,2254,2408,2226,4274,4385,4135,4129,3672,4633,4502,4456,4422,2330,3892,4098,4294,4077,2933,2511,2979,2189,2395,2288,2506,2164,2100,4100,3672,3988,4042,3777,4952,4464,4363,4237,4735,4951,3821,3121,3278,2945,3021,2904,1950,4997,4906,4654,4499,2789,2279,2401,2379,2124,2310,2472,2265,4082,4278,1867,2158,2582,2868,3399,2660,2807,3664,3102,2901,3336,1950,2451,1836,2542,3781,3632,3613,4141,4699,4457,4638,4257,2219,1963,2300,1649,2003,2125,2108,2246,2489,2391,2000,3264,3459,3432,3158,4668,4440,4498,4657,3907,3897,3730,3785,3039,3221,3169,2171,2639,2914,2592,2702,2223,2545,2984,1937,3211,2694,2957,2945,2671,1795,2464,2220,2572,2255,2202,4215,4190,3962,4215,3233,3353,3012,3085,2035,2164,1937,1795,3651,3574,3645,3193,1825,1990,2155,2565,3150,3940,3270,2930,3820,4380,4055,3870,3755,2045,2155,1825,2300,1945,3880,4060,4140,4295,3520,3425,3630,3525,4220,4165,4325,4335,1940,2740,2265,2755,2051,2075,1985,2190,2815,2600,2720,1985,1800,1985,2070,1800,3365,3735,3570,3535,3155,2965,2720,3430,3210,3380,3070,3620,3410,3425,3445,3205,4080,2155,2560,2300,2230,2515,2745,2855,2405,2830,3140,2795,3410,1990,2135,3245,2990,2890,3265,3360,3840,3725,3955,3830,4360,4054,3605,3940,1925,1975,1915,2670,3530,3900,3190,3420,2200,2150,2020,2130,2670,2595,2700,2556,2144,1968,2120,2019,2678,2870,3003,3381,2188,2711,2542,2434,2265,2110,2800,2110,2085,2335,2950,3250,1850,2145,1845,2910,2420,2500,2290,2490,2635,2620,2725,2385,1755,1875,1760,2065,1975,2050,1985,2215,2045,2380,2190,2210,2350,2615,2635,3230,3160,2900,2930,3415,3725,3060,3465,2605,2640,2395,2575,2525,2735,2865,1980,2025,1970,2125,2125,2160,2205,2245,1965,1965,1995,2945,3015,2585,2835,2665,2370,2950,2790,2130,2295,2625,2720],\"yr\":[70,70,70,70,70,70,70,70,70,70,70,70,70,70,70,70,70,70,70,70,70,70,70,70,70,70,70,70,70,71,71,71,71,71,71,71,71,71,71,71,71,71,71,71,71,71,71,71,71,71,71,71,71,71,71,71,72,72,72,72,72,72,72,72,72,72,72,72,72,72,72,72,72,72,72,72,72,72,72,72,72,72,72,72,73,73,73,73,73,73,73,73,73,73,73,73,73,73,73,73,73,73,73,73,73,73,73,73,73,73,73,73,73,73,73,73,73,73,73,73,73,73,73,73,74,74,74,74,74,74,74,74,74,74,74,74,74,74,74,74,74,74,74,74,74,74,74,74,74,74,75,75,75,75,75,75,75,75,75,75,75,75,75,75,75,75,75,75,75,75,75,75,75,75,75,75,75,75,75,75,76,76,76,76,76,76,76,76,76,76,76,76,76,76,76,76,76,76,76,76,76,76,76,76,76,76,76,76,76,76,76,76,76,76,77,77,77,77,77,77,77,77,77,77,77,77,77,77,77,77,77,77,77,77,77,77,77,77,77,77,77,77,78,78,78,78,78,78,78,78,78,78,78,78,78,78,78,78,78,78,78,78,78,78,78,78,78,78,78,78,78,78,78,78,78,78,78,78,79,79,79,79,79,79,79,79,79,79,79,79,79,79,79,79,79,79,79,79,79,79,79,79,79,79,79,79,79,80,80,80,80,80,80,80,80,80,80,80,80,80,80,80,80,80,80,80,80,80,80,80,80,80,80,80,81,81,81,81,81,81,81,81,81,81,81,81,81,81,81,81,81,81,81,81,81,81,81,81,81,81,81,81,82,82,82,82,82,82,82,82,82,82,82,82,82,82,82,82,82,82,82,82,82,82,82,82,82,82,82,82,82,82]},\"selected\":{\"id\":\"6b3ad2fe-c3fa-44b2-a6cf-054ae3c01d1b\",\"type\":\"Selection\"},\"selection_policy\":{\"id\":\"876f923b-80db-42f0-b4a7-e87e1a108eec\",\"type\":\"UnionRenderers\"}},\"id\":\"2e63a39a-1983-4199-991d-92fc4cf55cfd\",\"type\":\"ColumnDataSource\"},{\"attributes\":{\"axis_label\":\"Horsepower\",\"formatter\":{\"id\":\"57dba467-c4ef-45b0-90a0-3c6c2309384d\",\"type\":\"BasicTickFormatter\"},\"plot\":{\"id\":\"99322256-c35c-4e41-ab76-bbce4391ed8a\",\"subtype\":\"Figure\",\"type\":\"Plot\"},\"ticker\":{\"id\":\"0f439f1d-be0f-45be-a7fb-01d7dcb8c60c\",\"type\":\"BasicTicker\"}},\"id\":\"28d3f23c-f91a-4395-b3bc-34e1e8872d8f\",\"type\":\"LinearAxis\"},{\"attributes\":{\"fill_alpha\":{\"value\":0.1},\"fill_color\":{\"value\":\"#1f77b4\"},\"line_alpha\":{\"value\":0.1},\"line_color\":{\"value\":\"#1f77b4\"},\"size\":{\"units\":\"screen\",\"value\":20},\"x\":{\"field\":\"hp\"},\"y\":{\"field\":\"mpg\"}},\"id\":\"1065d5ef-079b-447a-b1ab-9a35449609ae\",\"type\":\"Circle\"},{\"attributes\":{\"high\":5140,\"low\":1613,\"palette\":[\"#440154\",\"#440255\",\"#440357\",\"#450558\",\"#45065A\",\"#45085B\",\"#46095C\",\"#460B5E\",\"#460C5F\",\"#460E61\",\"#470F62\",\"#471163\",\"#471265\",\"#471466\",\"#471567\",\"#471669\",\"#47186A\",\"#48196B\",\"#481A6C\",\"#481C6E\",\"#481D6F\",\"#481E70\",\"#482071\",\"#482172\",\"#482273\",\"#482374\",\"#472575\",\"#472676\",\"#472777\",\"#472878\",\"#472A79\",\"#472B7A\",\"#472C7B\",\"#462D7C\",\"#462F7C\",\"#46307D\",\"#46317E\",\"#45327F\",\"#45347F\",\"#453580\",\"#453681\",\"#443781\",\"#443982\",\"#433A83\",\"#433B83\",\"#433C84\",\"#423D84\",\"#423E85\",\"#424085\",\"#414186\",\"#414286\",\"#404387\",\"#404487\",\"#3F4587\",\"#3F4788\",\"#3E4888\",\"#3E4989\",\"#3D4A89\",\"#3D4B89\",\"#3D4C89\",\"#3C4D8A\",\"#3C4E8A\",\"#3B508A\",\"#3B518A\",\"#3A528B\",\"#3A538B\",\"#39548B\",\"#39558B\",\"#38568B\",\"#38578C\",\"#37588C\",\"#37598C\",\"#365A8C\",\"#365B8C\",\"#355C8C\",\"#355D8C\",\"#345E8D\",\"#345F8D\",\"#33608D\",\"#33618D\",\"#32628D\",\"#32638D\",\"#31648D\",\"#31658D\",\"#31668D\",\"#30678D\",\"#30688D\",\"#2F698D\",\"#2F6A8D\",\"#2E6B8E\",\"#2E6C8E\",\"#2E6D8E\",\"#2D6E8E\",\"#2D6F8E\",\"#2C708E\",\"#2C718E\",\"#2C728E\",\"#2B738E\",\"#2B748E\",\"#2A758E\",\"#2A768E\",\"#2A778E\",\"#29788E\",\"#29798E\",\"#287A8E\",\"#287A8E\",\"#287B8E\",\"#277C8E\",\"#277D8E\",\"#277E8E\",\"#267F8E\",\"#26808E\",\"#26818E\",\"#25828E\",\"#25838D\",\"#24848D\",\"#24858D\",\"#24868D\",\"#23878D\",\"#23888D\",\"#23898D\",\"#22898D\",\"#228A8D\",\"#228B8D\",\"#218C8D\",\"#218D8C\",\"#218E8C\",\"#208F8C\",\"#20908C\",\"#20918C\",\"#1F928C\",\"#1F938B\",\"#1F948B\",\"#1F958B\",\"#1F968B\",\"#1E978A\",\"#1E988A\",\"#1E998A\",\"#1E998A\",\"#1E9A89\",\"#1E9B89\",\"#1E9C89\",\"#1E9D88\",\"#1E9E88\",\"#1E9F88\",\"#1EA087\",\"#1FA187\",\"#1FA286\",\"#1FA386\",\"#20A485\",\"#20A585\",\"#21A685\",\"#21A784\",\"#22A784\",\"#23A883\",\"#23A982\",\"#24AA82\",\"#25AB81\",\"#26AC81\",\"#27AD80\",\"#28AE7F\",\"#29AF7F\",\"#2AB07E\",\"#2BB17D\",\"#2CB17D\",\"#2EB27C\",\"#2FB37B\",\"#30B47A\",\"#32B57A\",\"#33B679\",\"#35B778\",\"#36B877\",\"#38B976\",\"#39B976\",\"#3BBA75\",\"#3DBB74\",\"#3EBC73\",\"#40BD72\",\"#42BE71\",\"#44BE70\",\"#45BF6F\",\"#47C06E\",\"#49C16D\",\"#4BC26C\",\"#4DC26B\",\"#4FC369\",\"#51C468\",\"#53C567\",\"#55C666\",\"#57C665\",\"#59C764\",\"#5BC862\",\"#5EC961\",\"#60C960\",\"#62CA5F\",\"#64CB5D\",\"#67CC5C\",\"#69CC5B\",\"#6BCD59\",\"#6DCE58\",\"#70CE56\",\"#72CF55\",\"#74D054\",\"#77D052\",\"#79D151\",\"#7CD24F\",\"#7ED24E\",\"#81D34C\",\"#83D34B\",\"#86D449\",\"#88D547\",\"#8BD546\",\"#8DD644\",\"#90D643\",\"#92D741\",\"#95D73F\",\"#97D83E\",\"#9AD83C\",\"#9DD93A\",\"#9FD938\",\"#A2DA37\",\"#A5DA35\",\"#A7DB33\",\"#AADB32\",\"#ADDC30\",\"#AFDC2E\",\"#B2DD2C\",\"#B5DD2B\",\"#B7DD29\",\"#BADE27\",\"#BDDE26\",\"#BFDF24\",\"#C2DF22\",\"#C5DF21\",\"#C7E01F\",\"#CAE01E\",\"#CDE01D\",\"#CFE11C\",\"#D2E11B\",\"#D4E11A\",\"#D7E219\",\"#DAE218\",\"#DCE218\",\"#DFE318\",\"#E1E318\",\"#E4E318\",\"#E7E419\",\"#E9E419\",\"#ECE41A\",\"#EEE51B\",\"#F1E51C\",\"#F3E51E\",\"#F6E61F\",\"#F8E621\",\"#FAE622\",\"#FDE724\"]},\"id\":\"fd0cb744-6833-4724-b9a9-cefd5530bbaf\",\"type\":\"LinearColorMapper\"},{\"attributes\":{},\"id\":\"6b3ad2fe-c3fa-44b2-a6cf-054ae3c01d1b\",\"type\":\"Selection\"},{\"attributes\":{},\"id\":\"58f033db-c57b-43df-8613-a7f3a60356e9\",\"type\":\"LinearScale\"},{\"attributes\":{},\"id\":\"98aa1511-38ff-4ffa-9dc4-e4ff2ab6c810\",\"type\":\"LinearScale\"},{\"attributes\":{\"plot\":null,\"text\":\"\"},\"id\":\"3e702452-dd50-4697-b4e3-c55446276ed0\",\"type\":\"Title\"},{\"attributes\":{},\"id\":\"47d6c855-9a91-48a0-85d8-d7a3ae78b57e\",\"type\":\"BasicTickFormatter\"},{\"attributes\":{\"color_mapper\":{\"id\":\"fd0cb744-6833-4724-b9a9-cefd5530bbaf\",\"type\":\"LinearColorMapper\"},\"formatter\":{\"id\":\"47d6c855-9a91-48a0-85d8-d7a3ae78b57e\",\"type\":\"BasicTickFormatter\"},\"label_standoff\":12,\"location\":[0,0],\"plot\":{\"id\":\"99322256-c35c-4e41-ab76-bbce4391ed8a\",\"subtype\":\"Figure\",\"type\":\"Plot\"},\"ticker\":{\"id\":\"1e17a78d-2b91-409a-883a-31d198288b13\",\"type\":\"BasicTicker\"},\"title\":\"Weight\"},\"id\":\"db63524e-d86c-4f69-8fba-b99b37f946aa\",\"type\":\"ColorBar\"},{\"attributes\":{\"dimension\":1,\"plot\":{\"id\":\"99322256-c35c-4e41-ab76-bbce4391ed8a\",\"subtype\":\"Figure\",\"type\":\"Plot\"},\"ticker\":{\"id\":\"e107259b-8578-4e82-a2cc-a51dfef3496e\",\"type\":\"BasicTicker\"}},\"id\":\"b2101e32-902d-47b5-8958-e3990ac0ffcf\",\"type\":\"Grid\"},{\"attributes\":{},\"id\":\"876f923b-80db-42f0-b4a7-e87e1a108eec\",\"type\":\"UnionRenderers\"},{\"attributes\":{\"source\":{\"id\":\"2e63a39a-1983-4199-991d-92fc4cf55cfd\",\"type\":\"ColumnDataSource\"}},\"id\":\"28dbe094-245a-4d68-b617-09d6861bdf80\",\"type\":\"CDSView\"},{\"attributes\":{\"callback\":null},\"id\":\"4b3781fb-5762-4de2-aa5c-81cf273e0968\",\"type\":\"DataRange1d\"},{\"attributes\":{\"active_drag\":\"auto\",\"active_inspect\":\"auto\",\"active_multi\":null,\"active_scroll\":\"auto\",\"active_tap\":\"auto\"},\"id\":\"afc82715-ecc8-4499-9bca-e4afc366ed42\",\"type\":\"Toolbar\"},{\"attributes\":{\"axis_label\":\"MPG\",\"formatter\":{\"id\":\"d0fb2427-974f-4f3d-9bbd-2430d6d7d3df\",\"type\":\"BasicTickFormatter\"},\"plot\":{\"id\":\"99322256-c35c-4e41-ab76-bbce4391ed8a\",\"subtype\":\"Figure\",\"type\":\"Plot\"},\"ticker\":{\"id\":\"e107259b-8578-4e82-a2cc-a51dfef3496e\",\"type\":\"BasicTicker\"}},\"id\":\"c920036b-7a0f-4699-8683-a54b1594abc4\",\"type\":\"LinearAxis\"},{\"attributes\":{\"plot\":{\"id\":\"99322256-c35c-4e41-ab76-bbce4391ed8a\",\"subtype\":\"Figure\",\"type\":\"Plot\"},\"ticker\":{\"id\":\"0f439f1d-be0f-45be-a7fb-01d7dcb8c60c\",\"type\":\"BasicTicker\"}},\"id\":\"cb0dfb6e-4dd6-43bd-8afb-982a1dab6b37\",\"type\":\"Grid\"},{\"attributes\":{},\"id\":\"e107259b-8578-4e82-a2cc-a51dfef3496e\",\"type\":\"BasicTicker\"},{\"attributes\":{\"below\":[{\"id\":\"28d3f23c-f91a-4395-b3bc-34e1e8872d8f\",\"type\":\"LinearAxis\"}],\"left\":[{\"id\":\"c920036b-7a0f-4699-8683-a54b1594abc4\",\"type\":\"LinearAxis\"}],\"renderers\":[{\"id\":\"28d3f23c-f91a-4395-b3bc-34e1e8872d8f\",\"type\":\"LinearAxis\"},{\"id\":\"cb0dfb6e-4dd6-43bd-8afb-982a1dab6b37\",\"type\":\"Grid\"},{\"id\":\"c920036b-7a0f-4699-8683-a54b1594abc4\",\"type\":\"LinearAxis\"},{\"id\":\"b2101e32-902d-47b5-8958-e3990ac0ffcf\",\"type\":\"Grid\"},{\"id\":\"21b9db0f-3daf-4bdf-b685-a724cb8026f1\",\"type\":\"GlyphRenderer\"},{\"id\":\"db63524e-d86c-4f69-8fba-b99b37f946aa\",\"type\":\"ColorBar\"}],\"right\":[{\"id\":\"db63524e-d86c-4f69-8fba-b99b37f946aa\",\"type\":\"ColorBar\"}],\"title\":{\"id\":\"3e702452-dd50-4697-b4e3-c55446276ed0\",\"type\":\"Title\"},\"toolbar\":{\"id\":\"afc82715-ecc8-4499-9bca-e4afc366ed42\",\"type\":\"Toolbar\"},\"toolbar_location\":null,\"x_range\":{\"id\":\"451b22d6-c4d2-4400-b520-64db676869ce\",\"type\":\"DataRange1d\"},\"x_scale\":{\"id\":\"98aa1511-38ff-4ffa-9dc4-e4ff2ab6c810\",\"type\":\"LinearScale\"},\"y_range\":{\"id\":\"4b3781fb-5762-4de2-aa5c-81cf273e0968\",\"type\":\"DataRange1d\"},\"y_scale\":{\"id\":\"58f033db-c57b-43df-8613-a7f3a60356e9\",\"type\":\"LinearScale\"}},\"id\":\"99322256-c35c-4e41-ab76-bbce4391ed8a\",\"subtype\":\"Figure\",\"type\":\"Plot\"},{\"attributes\":{},\"id\":\"57dba467-c4ef-45b0-90a0-3c6c2309384d\",\"type\":\"BasicTickFormatter\"},{\"attributes\":{},\"id\":\"1e17a78d-2b91-409a-883a-31d198288b13\",\"type\":\"BasicTicker\"},{\"attributes\":{\"fill_alpha\":{\"value\":0.6},\"fill_color\":{\"field\":\"weight\",\"transform\":{\"id\":\"fd0cb744-6833-4724-b9a9-cefd5530bbaf\",\"type\":\"LinearColorMapper\"}},\"line_alpha\":{\"value\":0.6},\"line_color\":{\"field\":\"weight\",\"transform\":{\"id\":\"fd0cb744-6833-4724-b9a9-cefd5530bbaf\",\"type\":\"LinearColorMapper\"}},\"size\":{\"units\":\"screen\",\"value\":20},\"x\":{\"field\":\"hp\"},\"y\":{\"field\":\"mpg\"}},\"id\":\"dd2b9b7a-de1c-4a20-b456-216587fa89f4\",\"type\":\"Circle\"},{\"attributes\":{},\"id\":\"0f439f1d-be0f-45be-a7fb-01d7dcb8c60c\",\"type\":\"BasicTicker\"},{\"attributes\":{},\"id\":\"d0fb2427-974f-4f3d-9bbd-2430d6d7d3df\",\"type\":\"BasicTickFormatter\"}],\"root_ids\":[\"99322256-c35c-4e41-ab76-bbce4391ed8a\"]},\"title\":\"Bokeh Application\",\"version\":\"0.13.0\"}};\n",
       "  var render_items = [{\"docid\":\"f899dfff-0cc0-4e5c-833c-b1a85153564f\",\"roots\":{\"99322256-c35c-4e41-ab76-bbce4391ed8a\":\"621cf5db-96ea-462e-a4d8-9755b59b2465\"}}];\n",
       "  root.Bokeh.embed.embed_items_notebook(docs_json, render_items);\n",
       "\n",
       "  }\n",
       "  if (root.Bokeh !== undefined) {\n",
       "    embed_document(root);\n",
       "  } else {\n",
       "    var attempts = 0;\n",
       "    var timer = setInterval(function(root) {\n",
       "      if (root.Bokeh !== undefined) {\n",
       "        embed_document(root);\n",
       "        clearInterval(timer);\n",
       "      }\n",
       "      attempts++;\n",
       "      if (attempts > 100) {\n",
       "        console.log(\"Bokeh: ERROR: Unable to run BokehJS code because BokehJS library is missing\")\n",
       "        clearInterval(timer);\n",
       "      }\n",
       "    }, 10, root)\n",
       "  }\n",
       "})(window);"
      ],
      "application/vnd.bokehjs_exec.v0+json": ""
     },
     "metadata": {
      "application/vnd.bokehjs_exec.v0+json": {
       "id": "99322256-c35c-4e41-ab76-bbce4391ed8a"
      }
     },
     "output_type": "display_data"
    }
   ],
   "source": [
    "from bokeh.sampledata.autompg import autompg\n",
    "from bokeh.models import LinearColorMapper, ColorBar\n",
    "from bokeh.transform import transform\n",
    "\n",
    "source = ColumnDataSource(autompg)\n",
    "color_mapper = LinearColorMapper(palette=\"Viridis256\", low=autompg.weight.min(), high=autompg.weight.max())\n",
    "\n",
    "p = figure(x_axis_label='Horsepower', y_axis_label='MPG', tools='', toolbar_location=None)\n",
    "p.circle(x='hp', y='mpg', color=transform('weight', color_mapper), size=20, alpha=0.6, source=autompg)\n",
    "\n",
    "color_bar = ColorBar(color_mapper=color_mapper, label_standoff=12, location=(0,0), title='Weight')\n",
    "p.add_layout(color_bar, 'right')\n",
    "\n",
    "show(p)"
   ]
  },
  {
   "cell_type": "code",
   "execution_count": 28,
   "metadata": {},
   "outputs": [],
   "source": [
    "# EXERCISE 7: Experiment with Colorbar"
   ]
  },
  {
   "cell_type": "markdown",
   "metadata": {},
   "source": [
    "## Configuring tools"
   ]
  },
  {
   "cell_type": "code",
   "execution_count": 12,
   "metadata": {},
   "outputs": [
    {
     "data": {
      "text/html": [
       "\n",
       "\n",
       "\n",
       "\n",
       "\n",
       "\n",
       "  <div class=\"bk-root\" id=\"a02c32da-3e90-40db-a2e6-5100f6df9542\"></div>\n"
      ]
     },
     "metadata": {},
     "output_type": "display_data"
    },
    {
     "data": {
      "application/javascript": [
       "(function(root) {\n",
       "  function embed_document(root) {\n",
       "    \n",
       "  var docs_json = {\"6e0c5452-67bc-43f9-be6b-65c3c2952a2d\":{\"roots\":{\"references\":[{\"attributes\":{\"formatter\":{\"id\":\"c19051b1-731a-497d-86b1-37f85dc3dc59\",\"type\":\"BasicTickFormatter\"},\"plot\":{\"id\":\"6ea7ed0b-143e-4268-9990-99a77cdac7c1\",\"subtype\":\"Figure\",\"type\":\"Plot\"},\"ticker\":{\"id\":\"7e3fbf91-cb57-45e6-bf7e-caaa551fed7c\",\"type\":\"BasicTicker\"}},\"id\":\"9c33580d-f333-478f-908f-e5d73be2e78e\",\"type\":\"LinearAxis\"},{\"attributes\":{},\"id\":\"4abb793b-0096-46e1-9373-33353c149979\",\"type\":\"WheelZoomTool\"},{\"attributes\":{},\"id\":\"58850f4a-e0fa-4edc-8efa-ee6c2cad2531\",\"type\":\"LinearScale\"},{\"attributes\":{\"data_source\":{\"id\":\"e7356a34-70ef-43ee-bd8e-17bd27ae51ba\",\"type\":\"ColumnDataSource\"},\"glyph\":{\"id\":\"113dbbb8-c290-44fe-ba38-91345865ec53\",\"type\":\"Circle\"},\"hover_glyph\":null,\"muted_glyph\":null,\"nonselection_glyph\":{\"id\":\"28c244f8-7391-46a7-9990-a5e0dc339d19\",\"type\":\"Circle\"},\"selection_glyph\":null,\"view\":{\"id\":\"80ce5b45-7141-44bd-8dfd-34f06a887d9d\",\"type\":\"CDSView\"}},\"id\":\"ad5058f1-b911-4e41-a53a-894768a058e1\",\"type\":\"GlyphRenderer\"},{\"attributes\":{},\"id\":\"0f83de26-786b-49ea-9c84-60d697077c5f\",\"type\":\"BasicTickFormatter\"},{\"attributes\":{},\"id\":\"7e3fbf91-cb57-45e6-bf7e-caaa551fed7c\",\"type\":\"BasicTicker\"},{\"attributes\":{},\"id\":\"1d2f40d9-b9b7-4a2c-9e21-1775f507792c\",\"type\":\"BasicTicker\"},{\"attributes\":{},\"id\":\"d8f16390-0cba-452c-aee3-ea5d6c9e2e2d\",\"type\":\"LinearScale\"},{\"attributes\":{},\"id\":\"877362e1-2d2c-4ad2-9826-701d17179570\",\"type\":\"HelpTool\"},{\"attributes\":{\"callback\":null,\"data\":{\"x\":[1,2,3,4,5],\"y\":[2,5,8,2,7]},\"selected\":{\"id\":\"218c709d-01bf-478f-b9af-f800aff6f564\",\"type\":\"Selection\"},\"selection_policy\":{\"id\":\"dadd886f-65bf-4c80-b3a7-91cf9b8cf3ed\",\"type\":\"UnionRenderers\"}},\"id\":\"e7356a34-70ef-43ee-bd8e-17bd27ae51ba\",\"type\":\"ColumnDataSource\"},{\"attributes\":{},\"id\":\"dc3b009d-ef62-40a9-987a-6b323a5c4724\",\"type\":\"SaveTool\"},{\"attributes\":{\"active_drag\":\"auto\",\"active_inspect\":\"auto\",\"active_multi\":null,\"active_scroll\":\"auto\",\"active_tap\":\"auto\",\"tools\":[{\"id\":\"a3a0246d-7863-4171-9015-b213673f2b13\",\"type\":\"PanTool\"},{\"id\":\"4abb793b-0096-46e1-9373-33353c149979\",\"type\":\"WheelZoomTool\"},{\"id\":\"26226e40-19e8-4167-ae75-277a7d2c5e20\",\"type\":\"BoxZoomTool\"},{\"id\":\"dc3b009d-ef62-40a9-987a-6b323a5c4724\",\"type\":\"SaveTool\"},{\"id\":\"8683ab40-acbc-46b0-8ee1-b656d6c85acd\",\"type\":\"ResetTool\"},{\"id\":\"877362e1-2d2c-4ad2-9826-701d17179570\",\"type\":\"HelpTool\"}]},\"id\":\"e00e7be4-cb2e-40d1-9271-6da741275ad4\",\"type\":\"Toolbar\"},{\"attributes\":{},\"id\":\"8683ab40-acbc-46b0-8ee1-b656d6c85acd\",\"type\":\"ResetTool\"},{\"attributes\":{\"plot\":{\"id\":\"6ea7ed0b-143e-4268-9990-99a77cdac7c1\",\"subtype\":\"Figure\",\"type\":\"Plot\"},\"ticker\":{\"id\":\"7e3fbf91-cb57-45e6-bf7e-caaa551fed7c\",\"type\":\"BasicTicker\"}},\"id\":\"40272a26-23cc-4cbb-b8b6-b7dc8d3ca287\",\"type\":\"Grid\"},{\"attributes\":{},\"id\":\"c19051b1-731a-497d-86b1-37f85dc3dc59\",\"type\":\"BasicTickFormatter\"},{\"attributes\":{\"below\":[{\"id\":\"9c33580d-f333-478f-908f-e5d73be2e78e\",\"type\":\"LinearAxis\"}],\"left\":[{\"id\":\"fd8fd4c8-964f-463f-985d-7d60be337318\",\"type\":\"LinearAxis\"}],\"plot_height\":400,\"plot_width\":400,\"renderers\":[{\"id\":\"9c33580d-f333-478f-908f-e5d73be2e78e\",\"type\":\"LinearAxis\"},{\"id\":\"40272a26-23cc-4cbb-b8b6-b7dc8d3ca287\",\"type\":\"Grid\"},{\"id\":\"fd8fd4c8-964f-463f-985d-7d60be337318\",\"type\":\"LinearAxis\"},{\"id\":\"2145dd75-b3c9-48f6-8c24-c6e9cd55449c\",\"type\":\"Grid\"},{\"id\":\"ac40844a-ce23-435b-8572-71faaecff3ae\",\"type\":\"BoxAnnotation\"},{\"id\":\"ad5058f1-b911-4e41-a53a-894768a058e1\",\"type\":\"GlyphRenderer\"}],\"title\":null,\"toolbar\":{\"id\":\"e00e7be4-cb2e-40d1-9271-6da741275ad4\",\"type\":\"Toolbar\"},\"toolbar_location\":\"below\",\"x_range\":{\"id\":\"8a38ae19-6a1e-4c93-a9fe-82a4bcbe352f\",\"type\":\"DataRange1d\"},\"x_scale\":{\"id\":\"d8f16390-0cba-452c-aee3-ea5d6c9e2e2d\",\"type\":\"LinearScale\"},\"y_range\":{\"id\":\"8c8a1c64-65b1-4a8e-8592-7e3f38ef096d\",\"type\":\"DataRange1d\"},\"y_scale\":{\"id\":\"58850f4a-e0fa-4edc-8efa-ee6c2cad2531\",\"type\":\"LinearScale\"}},\"id\":\"6ea7ed0b-143e-4268-9990-99a77cdac7c1\",\"subtype\":\"Figure\",\"type\":\"Plot\"},{\"attributes\":{\"fill_alpha\":{\"value\":0.1},\"fill_color\":{\"value\":\"#1f77b4\"},\"line_alpha\":{\"value\":0.1},\"line_color\":{\"value\":\"#1f77b4\"},\"size\":{\"units\":\"screen\",\"value\":10},\"x\":{\"field\":\"x\"},\"y\":{\"field\":\"y\"}},\"id\":\"28c244f8-7391-46a7-9990-a5e0dc339d19\",\"type\":\"Circle\"},{\"attributes\":{},\"id\":\"218c709d-01bf-478f-b9af-f800aff6f564\",\"type\":\"Selection\"},{\"attributes\":{\"callback\":null},\"id\":\"8c8a1c64-65b1-4a8e-8592-7e3f38ef096d\",\"type\":\"DataRange1d\"},{\"attributes\":{\"bottom_units\":\"screen\",\"fill_alpha\":{\"value\":0.5},\"fill_color\":{\"value\":\"lightgrey\"},\"left_units\":\"screen\",\"level\":\"overlay\",\"line_alpha\":{\"value\":1.0},\"line_color\":{\"value\":\"black\"},\"line_dash\":[4,4],\"line_width\":{\"value\":2},\"plot\":null,\"render_mode\":\"css\",\"right_units\":\"screen\",\"top_units\":\"screen\"},\"id\":\"ac40844a-ce23-435b-8572-71faaecff3ae\",\"type\":\"BoxAnnotation\"},{\"attributes\":{\"dimension\":1,\"plot\":{\"id\":\"6ea7ed0b-143e-4268-9990-99a77cdac7c1\",\"subtype\":\"Figure\",\"type\":\"Plot\"},\"ticker\":{\"id\":\"1d2f40d9-b9b7-4a2c-9e21-1775f507792c\",\"type\":\"BasicTicker\"}},\"id\":\"2145dd75-b3c9-48f6-8c24-c6e9cd55449c\",\"type\":\"Grid\"},{\"attributes\":{},\"id\":\"dadd886f-65bf-4c80-b3a7-91cf9b8cf3ed\",\"type\":\"UnionRenderers\"},{\"attributes\":{\"formatter\":{\"id\":\"0f83de26-786b-49ea-9c84-60d697077c5f\",\"type\":\"BasicTickFormatter\"},\"plot\":{\"id\":\"6ea7ed0b-143e-4268-9990-99a77cdac7c1\",\"subtype\":\"Figure\",\"type\":\"Plot\"},\"ticker\":{\"id\":\"1d2f40d9-b9b7-4a2c-9e21-1775f507792c\",\"type\":\"BasicTicker\"}},\"id\":\"fd8fd4c8-964f-463f-985d-7d60be337318\",\"type\":\"LinearAxis\"},{\"attributes\":{\"fill_color\":{\"value\":\"#1f77b4\"},\"line_color\":{\"value\":\"#1f77b4\"},\"size\":{\"units\":\"screen\",\"value\":10},\"x\":{\"field\":\"x\"},\"y\":{\"field\":\"y\"}},\"id\":\"113dbbb8-c290-44fe-ba38-91345865ec53\",\"type\":\"Circle\"},{\"attributes\":{\"source\":{\"id\":\"e7356a34-70ef-43ee-bd8e-17bd27ae51ba\",\"type\":\"ColumnDataSource\"}},\"id\":\"80ce5b45-7141-44bd-8dfd-34f06a887d9d\",\"type\":\"CDSView\"},{\"attributes\":{},\"id\":\"a3a0246d-7863-4171-9015-b213673f2b13\",\"type\":\"PanTool\"},{\"attributes\":{\"callback\":null},\"id\":\"8a38ae19-6a1e-4c93-a9fe-82a4bcbe352f\",\"type\":\"DataRange1d\"},{\"attributes\":{\"overlay\":{\"id\":\"ac40844a-ce23-435b-8572-71faaecff3ae\",\"type\":\"BoxAnnotation\"}},\"id\":\"26226e40-19e8-4167-ae75-277a7d2c5e20\",\"type\":\"BoxZoomTool\"}],\"root_ids\":[\"6ea7ed0b-143e-4268-9990-99a77cdac7c1\"]},\"title\":\"Bokeh Application\",\"version\":\"0.13.0\"}};\n",
       "  var render_items = [{\"docid\":\"6e0c5452-67bc-43f9-be6b-65c3c2952a2d\",\"roots\":{\"6ea7ed0b-143e-4268-9990-99a77cdac7c1\":\"a02c32da-3e90-40db-a2e6-5100f6df9542\"}}];\n",
       "  root.Bokeh.embed.embed_items_notebook(docs_json, render_items);\n",
       "\n",
       "  }\n",
       "  if (root.Bokeh !== undefined) {\n",
       "    embed_document(root);\n",
       "  } else {\n",
       "    var attempts = 0;\n",
       "    var timer = setInterval(function(root) {\n",
       "      if (root.Bokeh !== undefined) {\n",
       "        embed_document(root);\n",
       "        clearInterval(timer);\n",
       "      }\n",
       "      attempts++;\n",
       "      if (attempts > 100) {\n",
       "        console.log(\"Bokeh: ERROR: Unable to run BokehJS code because BokehJS library is missing\")\n",
       "        clearInterval(timer);\n",
       "      }\n",
       "    }, 10, root)\n",
       "  }\n",
       "})(window);"
      ],
      "application/vnd.bokehjs_exec.v0+json": ""
     },
     "metadata": {
      "application/vnd.bokehjs_exec.v0+json": {
       "id": "6ea7ed0b-143e-4268-9990-99a77cdac7c1"
      }
     },
     "output_type": "display_data"
    }
   ],
   "source": [
    "# create a new plot with the toolbar below\n",
    "p = figure(plot_width=400, plot_height=400,\n",
    "           title=None, toolbar_location=\"below\")\n",
    "\n",
    "p.circle([1, 2, 3, 4, 5], [2, 5, 8, 2, 7], size=10)\n",
    "\n",
    "show(p)"
   ]
  },
  {
   "cell_type": "markdown",
   "metadata": {},
   "source": [
    "### Specifying tools\n",
    "In `bokeh` you can specify wich tools include within the toolbar and which one must be active at the plot render\n",
    "\n",
    "The Tools can be supplied conveniently with a comma-separate string containing tool shortcut names:\n",
    "\n",
    "```python\n",
    "tools = \"pan,wheel_zoom,box_zoom,reset\"\n",
    "```\n",
    "However, this method does not allow setting properties of the tools.\n",
    "\n",
    "Finally, it is also always possible to add new tools to a plot by passing a tool object to the add_tools method of a plot. This can also be done in conjunction with the tools keyword described above:\n",
    "```python\n",
    "from bokeh.models import BoxSelectTool\n",
    "\n",
    "plot = figure(tools=\"pan,wheel_zoom,box_zoom,reset\")\n",
    "plot.add_tools(BoxSelectTool(dimensions=[\"width\"]))\n",
    "```"
   ]
  },
  {
   "cell_type": "code",
   "execution_count": 4,
   "metadata": {},
   "outputs": [
    {
     "data": {
      "text/html": [
       "\n",
       "\n",
       "\n",
       "\n",
       "\n",
       "\n",
       "  <div class=\"bk-root\" id=\"68807295-0ff4-4dbb-8bc6-20a3e67bb544\"></div>\n"
      ]
     },
     "metadata": {},
     "output_type": "display_data"
    },
    {
     "data": {
      "application/javascript": [
       "(function(root) {\n",
       "  function embed_document(root) {\n",
       "    \n",
       "  var docs_json = {\"cefd8738-0cc5-4204-a687-de0ff4b49f10\":{\"roots\":{\"references\":[{\"attributes\":{},\"id\":\"9ccee214-a4e2-48dc-b778-6c4acf227dd1\",\"type\":\"LinearScale\"},{\"attributes\":{},\"id\":\"0020059c-fc58-4f43-9c1c-40c633af7c69\",\"type\":\"ResetTool\"},{\"attributes\":{\"callback\":null},\"id\":\"6ab74a02-c788-4592-bec3-f0d9fbe7fbeb\",\"type\":\"DataRange1d\"},{\"attributes\":{\"overlay\":{\"id\":\"6134b24c-9c85-4bec-8ba6-afa05215ac51\",\"type\":\"BoxAnnotation\"}},\"id\":\"8477766f-0151-4da0-b8b4-d2a21f40c952\",\"type\":\"BoxZoomTool\"},{\"attributes\":{\"formatter\":{\"id\":\"3a5327fa-9d88-4559-9ec9-252aaccd09b4\",\"type\":\"BasicTickFormatter\"},\"plot\":{\"id\":\"a7408235-0845-4f0b-b9c4-85846af75099\",\"subtype\":\"Figure\",\"type\":\"Plot\"},\"ticker\":{\"id\":\"6ed6e556-088a-418c-82a5-6a86689483a7\",\"type\":\"BasicTicker\"}},\"id\":\"552c5487-ecdb-4571-8a0b-94bff0097039\",\"type\":\"LinearAxis\"},{\"attributes\":{},\"id\":\"3ef3f529-27b5-4186-8240-d70c96e31037\",\"type\":\"WheelZoomTool\"},{\"attributes\":{},\"id\":\"d0788cf6-ac0d-452c-baee-d528740637ee\",\"type\":\"LinearScale\"},{\"attributes\":{\"callback\":null},\"id\":\"9ad466fc-e324-47a0-9e74-86623bcc2421\",\"type\":\"DataRange1d\"},{\"attributes\":{\"fill_color\":{\"value\":\"#1f77b4\"},\"line_color\":{\"value\":\"#1f77b4\"},\"size\":{\"units\":\"screen\",\"value\":10},\"x\":{\"field\":\"x\"},\"y\":{\"field\":\"y\"}},\"id\":\"79fb1971-463d-4a19-a9f4-005c995714e5\",\"type\":\"Circle\"},{\"attributes\":{\"active_drag\":\"auto\",\"active_inspect\":\"auto\",\"active_multi\":null,\"active_scroll\":\"auto\",\"active_tap\":\"auto\",\"tools\":[{\"id\":\"34aa8dbb-625e-4700-aacc-7f7675089cc7\",\"type\":\"PanTool\"},{\"id\":\"3ef3f529-27b5-4186-8240-d70c96e31037\",\"type\":\"WheelZoomTool\"},{\"id\":\"8477766f-0151-4da0-b8b4-d2a21f40c952\",\"type\":\"BoxZoomTool\"},{\"id\":\"0020059c-fc58-4f43-9c1c-40c633af7c69\",\"type\":\"ResetTool\"},{\"id\":\"a201a821-7c24-49bf-a484-d40fcc1cfc02\",\"type\":\"BoxSelectTool\"}]},\"id\":\"dcdfd9b1-6a0b-4992-9287-d8e994115e6e\",\"type\":\"Toolbar\"},{\"attributes\":{\"dimension\":1,\"plot\":{\"id\":\"a7408235-0845-4f0b-b9c4-85846af75099\",\"subtype\":\"Figure\",\"type\":\"Plot\"},\"ticker\":{\"id\":\"119c78df-361a-44f9-a65d-b106c4f83ee8\",\"type\":\"BasicTicker\"}},\"id\":\"326c8e52-9be1-443d-8428-0eaf3d231dff\",\"type\":\"Grid\"},{\"attributes\":{\"callback\":null,\"data\":{\"x\":[1,2,3,4,5],\"y\":[2,5,8,2,7]},\"selected\":{\"id\":\"e0d1e715-67e8-47d1-9e9d-e2ced9162c06\",\"type\":\"Selection\"},\"selection_policy\":{\"id\":\"507deb5a-4567-45eb-91b9-d5ae629f750a\",\"type\":\"UnionRenderers\"}},\"id\":\"6a0d8fe1-ad46-405b-9801-03323c70d914\",\"type\":\"ColumnDataSource\"},{\"attributes\":{},\"id\":\"119c78df-361a-44f9-a65d-b106c4f83ee8\",\"type\":\"BasicTicker\"},{\"attributes\":{},\"id\":\"3a5327fa-9d88-4559-9ec9-252aaccd09b4\",\"type\":\"BasicTickFormatter\"},{\"attributes\":{},\"id\":\"507deb5a-4567-45eb-91b9-d5ae629f750a\",\"type\":\"UnionRenderers\"},{\"attributes\":{},\"id\":\"34aa8dbb-625e-4700-aacc-7f7675089cc7\",\"type\":\"PanTool\"},{\"attributes\":{\"bottom_units\":\"screen\",\"fill_alpha\":{\"value\":0.5},\"fill_color\":{\"value\":\"lightgrey\"},\"left_units\":\"screen\",\"level\":\"overlay\",\"line_alpha\":{\"value\":1.0},\"line_color\":{\"value\":\"black\"},\"line_dash\":[4,4],\"line_width\":{\"value\":2},\"plot\":null,\"render_mode\":\"css\",\"right_units\":\"screen\",\"top_units\":\"screen\"},\"id\":\"687a1e25-0033-432c-a0c1-b9a3303619c5\",\"type\":\"BoxAnnotation\"},{\"attributes\":{\"below\":[{\"id\":\"552c5487-ecdb-4571-8a0b-94bff0097039\",\"type\":\"LinearAxis\"}],\"left\":[{\"id\":\"661fc243-70d6-486d-a138-2a0c0a5b35cb\",\"type\":\"LinearAxis\"}],\"plot_height\":400,\"plot_width\":400,\"renderers\":[{\"id\":\"552c5487-ecdb-4571-8a0b-94bff0097039\",\"type\":\"LinearAxis\"},{\"id\":\"7bdcdf07-e51e-47af-94c1-a4de89ab659d\",\"type\":\"Grid\"},{\"id\":\"661fc243-70d6-486d-a138-2a0c0a5b35cb\",\"type\":\"LinearAxis\"},{\"id\":\"326c8e52-9be1-443d-8428-0eaf3d231dff\",\"type\":\"Grid\"},{\"id\":\"6134b24c-9c85-4bec-8ba6-afa05215ac51\",\"type\":\"BoxAnnotation\"},{\"id\":\"39496ad2-3557-4d90-bd85-21c72d996f39\",\"type\":\"GlyphRenderer\"},{\"id\":\"687a1e25-0033-432c-a0c1-b9a3303619c5\",\"type\":\"BoxAnnotation\"}],\"title\":null,\"toolbar\":{\"id\":\"dcdfd9b1-6a0b-4992-9287-d8e994115e6e\",\"type\":\"Toolbar\"},\"toolbar_location\":\"below\",\"x_range\":{\"id\":\"6ab74a02-c788-4592-bec3-f0d9fbe7fbeb\",\"type\":\"DataRange1d\"},\"x_scale\":{\"id\":\"9ccee214-a4e2-48dc-b778-6c4acf227dd1\",\"type\":\"LinearScale\"},\"y_range\":{\"id\":\"9ad466fc-e324-47a0-9e74-86623bcc2421\",\"type\":\"DataRange1d\"},\"y_scale\":{\"id\":\"d0788cf6-ac0d-452c-baee-d528740637ee\",\"type\":\"LinearScale\"}},\"id\":\"a7408235-0845-4f0b-b9c4-85846af75099\",\"subtype\":\"Figure\",\"type\":\"Plot\"},{\"attributes\":{},\"id\":\"e0d1e715-67e8-47d1-9e9d-e2ced9162c06\",\"type\":\"Selection\"},{\"attributes\":{\"formatter\":{\"id\":\"54da84f5-50f9-42f9-b64d-9a5cffbdfc03\",\"type\":\"BasicTickFormatter\"},\"plot\":{\"id\":\"a7408235-0845-4f0b-b9c4-85846af75099\",\"subtype\":\"Figure\",\"type\":\"Plot\"},\"ticker\":{\"id\":\"119c78df-361a-44f9-a65d-b106c4f83ee8\",\"type\":\"BasicTicker\"}},\"id\":\"661fc243-70d6-486d-a138-2a0c0a5b35cb\",\"type\":\"LinearAxis\"},{\"attributes\":{},\"id\":\"54da84f5-50f9-42f9-b64d-9a5cffbdfc03\",\"type\":\"BasicTickFormatter\"},{\"attributes\":{\"fill_alpha\":{\"value\":0.1},\"fill_color\":{\"value\":\"#1f77b4\"},\"line_alpha\":{\"value\":0.1},\"line_color\":{\"value\":\"#1f77b4\"},\"size\":{\"units\":\"screen\",\"value\":10},\"x\":{\"field\":\"x\"},\"y\":{\"field\":\"y\"}},\"id\":\"4a48fe30-13be-45b3-ae1d-86885355582a\",\"type\":\"Circle\"},{\"attributes\":{\"plot\":{\"id\":\"a7408235-0845-4f0b-b9c4-85846af75099\",\"subtype\":\"Figure\",\"type\":\"Plot\"},\"ticker\":{\"id\":\"6ed6e556-088a-418c-82a5-6a86689483a7\",\"type\":\"BasicTicker\"}},\"id\":\"7bdcdf07-e51e-47af-94c1-a4de89ab659d\",\"type\":\"Grid\"},{\"attributes\":{\"source\":{\"id\":\"6a0d8fe1-ad46-405b-9801-03323c70d914\",\"type\":\"ColumnDataSource\"}},\"id\":\"91201943-f201-4cdd-9344-3c4b8f86ee99\",\"type\":\"CDSView\"},{\"attributes\":{},\"id\":\"6ed6e556-088a-418c-82a5-6a86689483a7\",\"type\":\"BasicTicker\"},{\"attributes\":{\"data_source\":{\"id\":\"6a0d8fe1-ad46-405b-9801-03323c70d914\",\"type\":\"ColumnDataSource\"},\"glyph\":{\"id\":\"79fb1971-463d-4a19-a9f4-005c995714e5\",\"type\":\"Circle\"},\"hover_glyph\":null,\"muted_glyph\":null,\"nonselection_glyph\":{\"id\":\"4a48fe30-13be-45b3-ae1d-86885355582a\",\"type\":\"Circle\"},\"selection_glyph\":null,\"view\":{\"id\":\"91201943-f201-4cdd-9344-3c4b8f86ee99\",\"type\":\"CDSView\"}},\"id\":\"39496ad2-3557-4d90-bd85-21c72d996f39\",\"type\":\"GlyphRenderer\"},{\"attributes\":{\"callback\":null,\"dimensions\":\"height\",\"overlay\":{\"id\":\"687a1e25-0033-432c-a0c1-b9a3303619c5\",\"type\":\"BoxAnnotation\"}},\"id\":\"a201a821-7c24-49bf-a484-d40fcc1cfc02\",\"type\":\"BoxSelectTool\"},{\"attributes\":{\"bottom_units\":\"screen\",\"fill_alpha\":{\"value\":0.5},\"fill_color\":{\"value\":\"lightgrey\"},\"left_units\":\"screen\",\"level\":\"overlay\",\"line_alpha\":{\"value\":1.0},\"line_color\":{\"value\":\"black\"},\"line_dash\":[4,4],\"line_width\":{\"value\":2},\"plot\":null,\"render_mode\":\"css\",\"right_units\":\"screen\",\"top_units\":\"screen\"},\"id\":\"6134b24c-9c85-4bec-8ba6-afa05215ac51\",\"type\":\"BoxAnnotation\"}],\"root_ids\":[\"a7408235-0845-4f0b-b9c4-85846af75099\"]},\"title\":\"Bokeh Application\",\"version\":\"0.13.0\"}};\n",
       "  var render_items = [{\"docid\":\"cefd8738-0cc5-4204-a687-de0ff4b49f10\",\"roots\":{\"a7408235-0845-4f0b-b9c4-85846af75099\":\"68807295-0ff4-4dbb-8bc6-20a3e67bb544\"}}];\n",
       "  root.Bokeh.embed.embed_items_notebook(docs_json, render_items);\n",
       "\n",
       "  }\n",
       "  if (root.Bokeh !== undefined) {\n",
       "    embed_document(root);\n",
       "  } else {\n",
       "    var attempts = 0;\n",
       "    var timer = setInterval(function(root) {\n",
       "      if (root.Bokeh !== undefined) {\n",
       "        embed_document(root);\n",
       "        clearInterval(timer);\n",
       "      }\n",
       "      attempts++;\n",
       "      if (attempts > 100) {\n",
       "        console.log(\"Bokeh: ERROR: Unable to run BokehJS code because BokehJS library is missing\")\n",
       "        clearInterval(timer);\n",
       "      }\n",
       "    }, 10, root)\n",
       "  }\n",
       "})(window);"
      ],
      "application/vnd.bokehjs_exec.v0+json": ""
     },
     "metadata": {
      "application/vnd.bokehjs_exec.v0+json": {
       "id": "a7408235-0845-4f0b-b9c4-85846af75099"
      }
     },
     "output_type": "display_data"
    }
   ],
   "source": [
    "from bokeh.models import BoxSelectTool\n",
    "\n",
    "tools = \"pan,wheel_zoom,box_zoom,reset\" \n",
    "p = figure(plot_width=400, plot_height=400, \n",
    "           tools=tools, title=None, \n",
    "           toolbar_location=\"below\")\n",
    "p.circle([1, 2, 3, 4, 5], [2, 5, 8, 2, 7], size=10)\n",
    "p.add_tools(BoxSelectTool(dimensions='height'))\n",
    "show(p)"
   ]
  },
  {
   "cell_type": "code",
   "execution_count": 29,
   "metadata": {},
   "outputs": [],
   "source": [
    "# EXERCISE 8: Experiment with tools and toolbar location"
   ]
  },
  {
   "cell_type": "markdown",
   "metadata": {},
   "source": [
    "### Setting the active tool\n",
    "Bokeh toolbars can have (at most) one active tool from each kind of gesture (drag, scroll, tap). By default, Bokeh will use a default pre-defined order of preference to choose one of each kind from the set of configured tools, to be active.\n",
    "\n",
    "However it is possible to exert control over which tool is active. At the lowest bokeh.models level, this is accomplished by using the active_drag, active_inspect, active_scroll, and active_tap properties of Toolbar. These properties can take the following values:\n",
    "\n",
    "    None — there is no active tool of this kind\n",
    "    \"auto\" — Bokeh chooses a tool of this kind to be active (possibly none)\n",
    "    a Tool instance — Bokeh sets the given tool to be the active tool\n",
    "\n",
    "Additionally, the active_inspect tool may accept: * A sequence of Tool instances to be set as the active tools"
   ]
  },
  {
   "cell_type": "code",
   "execution_count": 5,
   "metadata": {},
   "outputs": [
    {
     "data": {
      "text/html": [
       "\n",
       "\n",
       "\n",
       "\n",
       "\n",
       "\n",
       "  <div class=\"bk-root\" id=\"5239d4cd-5d3d-4ff3-b4ee-bdea5b0d2977\"></div>\n"
      ]
     },
     "metadata": {},
     "output_type": "display_data"
    },
    {
     "data": {
      "application/javascript": [
       "(function(root) {\n",
       "  function embed_document(root) {\n",
       "    \n",
       "  var docs_json = {\"25de75c7-2e2f-4ae5-b3a3-a71ac416d01d\":{\"roots\":{\"references\":[{\"attributes\":{\"source\":{\"id\":\"1853d557-6a4f-4ccf-9acf-b7f7b8c8e04d\",\"type\":\"ColumnDataSource\"}},\"id\":\"9b1a3bec-f0f9-46a2-8d5e-3fed057d39dd\",\"type\":\"CDSView\"},{\"attributes\":{\"plot\":{\"id\":\"3d34796f-97a6-42f2-bd75-cffcbb9c897a\",\"subtype\":\"Figure\",\"type\":\"Plot\"},\"ticker\":{\"id\":\"c9b4b75d-45a2-429b-ba51-04713b865a73\",\"type\":\"BasicTicker\"}},\"id\":\"1d353e41-ab76-4dff-a9f4-4c61a8fda623\",\"type\":\"Grid\"},{\"attributes\":{\"bottom_units\":\"screen\",\"fill_alpha\":{\"value\":0.5},\"fill_color\":{\"value\":\"lightgrey\"},\"left_units\":\"screen\",\"level\":\"overlay\",\"line_alpha\":{\"value\":1.0},\"line_color\":{\"value\":\"black\"},\"line_dash\":[4,4],\"line_width\":{\"value\":2},\"plot\":null,\"render_mode\":\"css\",\"right_units\":\"screen\",\"top_units\":\"screen\"},\"id\":\"1916ad19-b612-4fca-9a0e-23de21e6facc\",\"type\":\"BoxAnnotation\"},{\"attributes\":{\"active_drag\":{\"id\":\"9dce877d-33d3-4400-a082-91893e7fd85d\",\"type\":\"LassoSelectTool\"},\"active_inspect\":\"auto\",\"active_multi\":null,\"active_scroll\":\"auto\",\"active_tap\":\"auto\",\"tools\":[{\"id\":\"710d3f93-91bb-490f-87e7-fc2917853560\",\"type\":\"PanTool\"},{\"id\":\"9dce877d-33d3-4400-a082-91893e7fd85d\",\"type\":\"LassoSelectTool\"},{\"id\":\"5e36ba8a-8784-41e8-911d-4fa9edc3d7d7\",\"type\":\"BoxSelectTool\"}]},\"id\":\"6f4d5dad-287f-4f68-aa4e-830118b5a835\",\"type\":\"Toolbar\"},{\"attributes\":{},\"id\":\"0ac07538-8037-4b3c-bd0f-b77ff82ebdf3\",\"type\":\"UnionRenderers\"},{\"attributes\":{\"fill_color\":{\"value\":\"#1f77b4\"},\"line_color\":{\"value\":\"#1f77b4\"},\"size\":{\"units\":\"screen\",\"value\":10},\"x\":{\"field\":\"x\"},\"y\":{\"field\":\"y\"}},\"id\":\"e9f6b8bc-f256-4701-b77f-7f214b65500e\",\"type\":\"Circle\"},{\"attributes\":{},\"id\":\"68e8444c-0775-43b4-8175-8a0d81e99eb0\",\"type\":\"BasicTickFormatter\"},{\"attributes\":{\"fill_alpha\":{\"value\":0.1},\"fill_color\":{\"value\":\"#1f77b4\"},\"line_alpha\":{\"value\":0.1},\"line_color\":{\"value\":\"#1f77b4\"},\"size\":{\"units\":\"screen\",\"value\":10},\"x\":{\"field\":\"x\"},\"y\":{\"field\":\"y\"}},\"id\":\"b174743e-e99a-4a7c-b23d-165b7db2a049\",\"type\":\"Circle\"},{\"attributes\":{},\"id\":\"04200b49-09ba-4b9a-a23c-71c7eaa2cae0\",\"type\":\"BasicTickFormatter\"},{\"attributes\":{\"dimension\":1,\"plot\":{\"id\":\"3d34796f-97a6-42f2-bd75-cffcbb9c897a\",\"subtype\":\"Figure\",\"type\":\"Plot\"},\"ticker\":{\"id\":\"c88d05ee-41e5-4d89-9ca9-b19977718c95\",\"type\":\"BasicTicker\"}},\"id\":\"d85ff271-eda2-4d5f-97f6-ede3452ddcbd\",\"type\":\"Grid\"},{\"attributes\":{\"callback\":null,\"overlay\":{\"id\":\"d1adca28-199d-4903-92bf-1401ef66ff57\",\"type\":\"PolyAnnotation\"}},\"id\":\"9dce877d-33d3-4400-a082-91893e7fd85d\",\"type\":\"LassoSelectTool\"},{\"attributes\":{\"callback\":null,\"overlay\":{\"id\":\"1916ad19-b612-4fca-9a0e-23de21e6facc\",\"type\":\"BoxAnnotation\"}},\"id\":\"5e36ba8a-8784-41e8-911d-4fa9edc3d7d7\",\"type\":\"BoxSelectTool\"},{\"attributes\":{},\"id\":\"bddb524c-295a-425b-9bb1-d07fd351098e\",\"type\":\"Selection\"},{\"attributes\":{\"data_source\":{\"id\":\"1853d557-6a4f-4ccf-9acf-b7f7b8c8e04d\",\"type\":\"ColumnDataSource\"},\"glyph\":{\"id\":\"e9f6b8bc-f256-4701-b77f-7f214b65500e\",\"type\":\"Circle\"},\"hover_glyph\":null,\"muted_glyph\":null,\"nonselection_glyph\":{\"id\":\"b174743e-e99a-4a7c-b23d-165b7db2a049\",\"type\":\"Circle\"},\"selection_glyph\":null,\"view\":{\"id\":\"9b1a3bec-f0f9-46a2-8d5e-3fed057d39dd\",\"type\":\"CDSView\"}},\"id\":\"ebce2b23-48bc-4b4f-82ee-758d474c3fd5\",\"type\":\"GlyphRenderer\"},{\"attributes\":{\"callback\":null,\"data\":{\"x\":[1,2,3,4,5],\"y\":[2,5,8,2,7]},\"selected\":{\"id\":\"bddb524c-295a-425b-9bb1-d07fd351098e\",\"type\":\"Selection\"},\"selection_policy\":{\"id\":\"0ac07538-8037-4b3c-bd0f-b77ff82ebdf3\",\"type\":\"UnionRenderers\"}},\"id\":\"1853d557-6a4f-4ccf-9acf-b7f7b8c8e04d\",\"type\":\"ColumnDataSource\"},{\"attributes\":{},\"id\":\"710d3f93-91bb-490f-87e7-fc2917853560\",\"type\":\"PanTool\"},{\"attributes\":{\"formatter\":{\"id\":\"04200b49-09ba-4b9a-a23c-71c7eaa2cae0\",\"type\":\"BasicTickFormatter\"},\"plot\":{\"id\":\"3d34796f-97a6-42f2-bd75-cffcbb9c897a\",\"subtype\":\"Figure\",\"type\":\"Plot\"},\"ticker\":{\"id\":\"c9b4b75d-45a2-429b-ba51-04713b865a73\",\"type\":\"BasicTicker\"}},\"id\":\"aea90392-e876-4e28-8009-99ce3923947e\",\"type\":\"LinearAxis\"},{\"attributes\":{\"plot\":null,\"text\":\"\"},\"id\":\"93a54048-135d-437f-a667-766607a513d4\",\"type\":\"Title\"},{\"attributes\":{\"formatter\":{\"id\":\"68e8444c-0775-43b4-8175-8a0d81e99eb0\",\"type\":\"BasicTickFormatter\"},\"plot\":{\"id\":\"3d34796f-97a6-42f2-bd75-cffcbb9c897a\",\"subtype\":\"Figure\",\"type\":\"Plot\"},\"ticker\":{\"id\":\"c88d05ee-41e5-4d89-9ca9-b19977718c95\",\"type\":\"BasicTicker\"}},\"id\":\"fef08d50-9263-4a70-b693-b691e943d0a4\",\"type\":\"LinearAxis\"},{\"attributes\":{\"below\":[{\"id\":\"aea90392-e876-4e28-8009-99ce3923947e\",\"type\":\"LinearAxis\"}],\"left\":[{\"id\":\"fef08d50-9263-4a70-b693-b691e943d0a4\",\"type\":\"LinearAxis\"}],\"plot_height\":400,\"plot_width\":400,\"renderers\":[{\"id\":\"aea90392-e876-4e28-8009-99ce3923947e\",\"type\":\"LinearAxis\"},{\"id\":\"1d353e41-ab76-4dff-a9f4-4c61a8fda623\",\"type\":\"Grid\"},{\"id\":\"fef08d50-9263-4a70-b693-b691e943d0a4\",\"type\":\"LinearAxis\"},{\"id\":\"d85ff271-eda2-4d5f-97f6-ede3452ddcbd\",\"type\":\"Grid\"},{\"id\":\"d1adca28-199d-4903-92bf-1401ef66ff57\",\"type\":\"PolyAnnotation\"},{\"id\":\"1916ad19-b612-4fca-9a0e-23de21e6facc\",\"type\":\"BoxAnnotation\"},{\"id\":\"ebce2b23-48bc-4b4f-82ee-758d474c3fd5\",\"type\":\"GlyphRenderer\"}],\"title\":{\"id\":\"93a54048-135d-437f-a667-766607a513d4\",\"type\":\"Title\"},\"toolbar\":{\"id\":\"6f4d5dad-287f-4f68-aa4e-830118b5a835\",\"type\":\"Toolbar\"},\"x_range\":{\"id\":\"c52ea1e3-b3ab-45a5-b9db-34de98e6eff9\",\"type\":\"DataRange1d\"},\"x_scale\":{\"id\":\"7483d7ee-2de3-4bac-9732-8ade726ecbf0\",\"type\":\"LinearScale\"},\"y_range\":{\"id\":\"37ba4307-366b-492b-9e04-2afd2eb4fedf\",\"type\":\"DataRange1d\"},\"y_scale\":{\"id\":\"60032fd3-2d1d-4e48-a884-ea4eea48510a\",\"type\":\"LinearScale\"}},\"id\":\"3d34796f-97a6-42f2-bd75-cffcbb9c897a\",\"subtype\":\"Figure\",\"type\":\"Plot\"},{\"attributes\":{},\"id\":\"c88d05ee-41e5-4d89-9ca9-b19977718c95\",\"type\":\"BasicTicker\"},{\"attributes\":{},\"id\":\"60032fd3-2d1d-4e48-a884-ea4eea48510a\",\"type\":\"LinearScale\"},{\"attributes\":{\"fill_alpha\":{\"value\":0.5},\"fill_color\":{\"value\":\"lightgrey\"},\"level\":\"overlay\",\"line_alpha\":{\"value\":1.0},\"line_color\":{\"value\":\"black\"},\"line_dash\":[4,4],\"line_width\":{\"value\":2},\"plot\":null,\"xs_units\":\"screen\",\"ys_units\":\"screen\"},\"id\":\"d1adca28-199d-4903-92bf-1401ef66ff57\",\"type\":\"PolyAnnotation\"},{\"attributes\":{},\"id\":\"7483d7ee-2de3-4bac-9732-8ade726ecbf0\",\"type\":\"LinearScale\"},{\"attributes\":{\"callback\":null},\"id\":\"37ba4307-366b-492b-9e04-2afd2eb4fedf\",\"type\":\"DataRange1d\"},{\"attributes\":{\"callback\":null},\"id\":\"c52ea1e3-b3ab-45a5-b9db-34de98e6eff9\",\"type\":\"DataRange1d\"},{\"attributes\":{},\"id\":\"c9b4b75d-45a2-429b-ba51-04713b865a73\",\"type\":\"BasicTicker\"}],\"root_ids\":[\"3d34796f-97a6-42f2-bd75-cffcbb9c897a\"]},\"title\":\"Bokeh Application\",\"version\":\"0.13.0\"}};\n",
       "  var render_items = [{\"docid\":\"25de75c7-2e2f-4ae5-b3a3-a71ac416d01d\",\"roots\":{\"3d34796f-97a6-42f2-bd75-cffcbb9c897a\":\"5239d4cd-5d3d-4ff3-b4ee-bdea5b0d2977\"}}];\n",
       "  root.Bokeh.embed.embed_items_notebook(docs_json, render_items);\n",
       "\n",
       "  }\n",
       "  if (root.Bokeh !== undefined) {\n",
       "    embed_document(root);\n",
       "  } else {\n",
       "    var attempts = 0;\n",
       "    var timer = setInterval(function(root) {\n",
       "      if (root.Bokeh !== undefined) {\n",
       "        embed_document(root);\n",
       "        clearInterval(timer);\n",
       "      }\n",
       "      attempts++;\n",
       "      if (attempts > 100) {\n",
       "        console.log(\"Bokeh: ERROR: Unable to run BokehJS code because BokehJS library is missing\")\n",
       "        clearInterval(timer);\n",
       "      }\n",
       "    }, 10, root)\n",
       "  }\n",
       "})(window);"
      ],
      "application/vnd.bokehjs_exec.v0+json": ""
     },
     "metadata": {
      "application/vnd.bokehjs_exec.v0+json": {
       "id": "3d34796f-97a6-42f2-bd75-cffcbb9c897a"
      }
     },
     "output_type": "display_data"
    }
   ],
   "source": [
    "plot = figure(tools=\"pan,lasso_select,box_select\", \n",
    "              plot_width=400, plot_height=400, \n",
    "              active_drag=\"lasso_select\")\n",
    "plot.circle([1, 2, 3, 4, 5], [2, 5, 8, 2, 7], size=10)\n",
    "show(plot)"
   ]
  },
  {
   "cell_type": "markdown",
   "metadata": {},
   "source": [
    "## Tooltips"
   ]
  },
  {
   "cell_type": "markdown",
   "metadata": {},
   "source": [
    "By default, the hover tool will generate a “tabular” tooltip where each row contains a label, and its associated value. The labels and values are supplied as a list of (label, value) tuples. For instance, the tooltip below on the left was created with the accompanying tooltips definition on the right."
   ]
  },
  {
   "cell_type": "markdown",
   "metadata": {},
   "source": [
    "### Basic tooltips"
   ]
  },
  {
   "cell_type": "markdown",
   "metadata": {},
   "source": [
    "<img src=\"http://bokeh.pydata.org/en/latest/_images/hover_basic.png\">"
   ]
  },
  {
   "cell_type": "markdown",
   "metadata": {},
   "source": [
    "```python\n",
    "\t\n",
    "hover.tooltips = [\n",
    "    (\"index\", \"$index\"),\n",
    "    (\"(x,y)\", \"($x, $y)\"),\n",
    "    (\"radius\", \"@radius\"),\n",
    "    (\"fill color\", \"$color[hex, swatch]:fill_color\"),\n",
    "    (\"foo\", \"@foo\"),\n",
    "    (\"bar\", \"@bar\"),\n",
    "]\n",
    "```"
   ]
  },
  {
   "cell_type": "markdown",
   "metadata": {},
   "source": [
    "Field names that begin with $ are `special fields`. These often correspond to values that are intrinsic to the plot, such as the coordinates of the mouse in data or screen space. These special fields are listed here:\n",
    "\n",
    " - `$index`: index of selected point in the data source\n",
    " - `$name`: value of the name property of the hovered glyph renderer\n",
    " - `$x`: x-coordinate under the cursor in data space\n",
    " - `$y`: y-coordinate under the cursor in data space\n",
    " - `$sx`: x-coordinate under the cursor in screen (canvas) space\n",
    " - `$sy`: y-coordinate under the cursor in screen (canvas) space\n",
    " - `$name`: The name property of the glyph that is hovered over\n",
    " - `$color`: colors from a data source, with the syntax: $color[options]:field_name. \n",
    " \n",
    "The available options are: hex (to display the color as a hex value), and swatch to also display a small color swatch.\n",
    "Field names that begin with @ are associated with columns in a ColumnDataSource. For instance the field name \"@price\" will display values from the \"price\" column whenever a hover is triggered. If the hover is for the 17th glyph, then the hover tooltip will correspondingly display the 17th price value.\n",
    "\n",
    "Note that if a column name contains spaces, the it must be supplied by surrounding it in curly braces, e.g. @{adjusted close} will display values from a column named \"adjusted close\".\n",
    "\n",
    "Sometimes (especially with stacked charts) it is desirable to allow the name of the column be specified indirectly. The field name `@$name` is distinguished in that it will look up the name field on the hovered glyph renderer, and use that value as the column name. For instance, if a user hovers with the name \"US East\", then `@$name` is equivalent to `@{US East}`.\n",
    "\n",
    "Here is a complete example of how to configure and use the hover tool by setting the tooltips argument to figure:"
   ]
  },
  {
   "cell_type": "code",
   "execution_count": 7,
   "metadata": {},
   "outputs": [
    {
     "data": {
      "text/html": [
       "\n",
       "\n",
       "\n",
       "\n",
       "\n",
       "\n",
       "  <div class=\"bk-root\" id=\"43492fb1-ccf1-4f74-9146-312d477762d1\"></div>\n"
      ]
     },
     "metadata": {},
     "output_type": "display_data"
    },
    {
     "data": {
      "application/javascript": [
       "(function(root) {\n",
       "  function embed_document(root) {\n",
       "    \n",
       "  var docs_json = {\"ef3e8997-5a8b-4f1f-a8b0-c1d5af0852b6\":{\"roots\":{\"references\":[{\"attributes\":{\"formatter\":{\"id\":\"7b96bc12-ede7-4037-9aa5-db8dc236f8e4\",\"type\":\"BasicTickFormatter\"},\"plot\":{\"id\":\"19213736-1f9a-444e-ab76-ff67e0f24603\",\"subtype\":\"Figure\",\"type\":\"Plot\"},\"ticker\":{\"id\":\"46545a08-e8d5-47f8-bdff-e62d0b08f802\",\"type\":\"BasicTicker\"}},\"id\":\"a5465b2e-aa5d-4f5b-9943-cd2c621ea18d\",\"type\":\"LinearAxis\"},{\"attributes\":{},\"id\":\"46545a08-e8d5-47f8-bdff-e62d0b08f802\",\"type\":\"BasicTicker\"},{\"attributes\":{\"dimension\":1,\"plot\":{\"id\":\"19213736-1f9a-444e-ab76-ff67e0f24603\",\"subtype\":\"Figure\",\"type\":\"Plot\"},\"ticker\":{\"id\":\"46545a08-e8d5-47f8-bdff-e62d0b08f802\",\"type\":\"BasicTicker\"}},\"id\":\"db297113-37bf-4395-a03d-85984cc484b6\",\"type\":\"Grid\"},{\"attributes\":{\"data_source\":{\"id\":\"f3238b0c-664f-4c7f-bd9f-6ddc4f2276e9\",\"type\":\"ColumnDataSource\"},\"glyph\":{\"id\":\"7f3c2032-f48c-4777-9307-a778b9ef9048\",\"type\":\"Circle\"},\"hover_glyph\":null,\"muted_glyph\":null,\"nonselection_glyph\":{\"id\":\"a5e26986-6a30-4a43-ae56-3809f1f61cd8\",\"type\":\"Circle\"},\"selection_glyph\":null,\"view\":{\"id\":\"4634131e-e09b-4189-9ceb-ddfd73c6e579\",\"type\":\"CDSView\"}},\"id\":\"712f011a-312e-4f9e-8270-67065a4fe57d\",\"type\":\"GlyphRenderer\"},{\"attributes\":{\"fill_alpha\":{\"value\":0.1},\"fill_color\":{\"value\":\"#1f77b4\"},\"line_alpha\":{\"value\":0.1},\"line_color\":{\"value\":\"#1f77b4\"},\"size\":{\"units\":\"screen\",\"value\":20},\"x\":{\"field\":\"x\"},\"y\":{\"field\":\"y\"}},\"id\":\"a5e26986-6a30-4a43-ae56-3809f1f61cd8\",\"type\":\"Circle\"},{\"attributes\":{},\"id\":\"e54f705c-35cb-4e03-a510-77a89e4eeaf2\",\"type\":\"UnionRenderers\"},{\"attributes\":{\"callback\":null,\"data\":{\"desc\":[\"A\",\"b\",\"C\",\"d\",\"E\"],\"x\":[1,2,3,4,5],\"y\":[2,5,8,2,7]},\"selected\":{\"id\":\"d4eb055f-6456-44b2-afbb-c015a3e7dae8\",\"type\":\"Selection\"},\"selection_policy\":{\"id\":\"e54f705c-35cb-4e03-a510-77a89e4eeaf2\",\"type\":\"UnionRenderers\"}},\"id\":\"f3238b0c-664f-4c7f-bd9f-6ddc4f2276e9\",\"type\":\"ColumnDataSource\"},{\"attributes\":{\"below\":[{\"id\":\"2f685817-363f-4bf6-a2db-1329423be08c\",\"type\":\"LinearAxis\"}],\"left\":[{\"id\":\"a5465b2e-aa5d-4f5b-9943-cd2c621ea18d\",\"type\":\"LinearAxis\"}],\"plot_height\":400,\"plot_width\":400,\"renderers\":[{\"id\":\"2f685817-363f-4bf6-a2db-1329423be08c\",\"type\":\"LinearAxis\"},{\"id\":\"7edfdbfa-f88f-4df4-8738-6dc86a0e076a\",\"type\":\"Grid\"},{\"id\":\"a5465b2e-aa5d-4f5b-9943-cd2c621ea18d\",\"type\":\"LinearAxis\"},{\"id\":\"db297113-37bf-4395-a03d-85984cc484b6\",\"type\":\"Grid\"},{\"id\":\"fe357d24-d151-4f34-864b-3caa31c8be73\",\"type\":\"BoxAnnotation\"},{\"id\":\"712f011a-312e-4f9e-8270-67065a4fe57d\",\"type\":\"GlyphRenderer\"}],\"title\":{\"id\":\"404fa06c-ff76-402d-89f4-c5996b20a9b2\",\"type\":\"Title\"},\"toolbar\":{\"id\":\"86ff16c4-076e-4910-9c1e-770c753c0f43\",\"type\":\"Toolbar\"},\"x_range\":{\"id\":\"45a8b41f-7407-48ea-9979-ccf33719eaf1\",\"type\":\"DataRange1d\"},\"x_scale\":{\"id\":\"db0718e8-7346-4be3-a0bf-0892fb29a854\",\"type\":\"LinearScale\"},\"y_range\":{\"id\":\"400e24d8-e608-4f4b-8504-0913370598b5\",\"type\":\"DataRange1d\"},\"y_scale\":{\"id\":\"0324f23c-a596-4da4-9fea-46f5efac4701\",\"type\":\"LinearScale\"}},\"id\":\"19213736-1f9a-444e-ab76-ff67e0f24603\",\"subtype\":\"Figure\",\"type\":\"Plot\"},{\"attributes\":{\"bottom_units\":\"screen\",\"fill_alpha\":{\"value\":0.5},\"fill_color\":{\"value\":\"lightgrey\"},\"left_units\":\"screen\",\"level\":\"overlay\",\"line_alpha\":{\"value\":1.0},\"line_color\":{\"value\":\"black\"},\"line_dash\":[4,4],\"line_width\":{\"value\":2},\"plot\":null,\"render_mode\":\"css\",\"right_units\":\"screen\",\"top_units\":\"screen\"},\"id\":\"fe357d24-d151-4f34-864b-3caa31c8be73\",\"type\":\"BoxAnnotation\"},{\"attributes\":{},\"id\":\"9f216dee-2baa-4b7a-a2de-da60d944ad89\",\"type\":\"PanTool\"},{\"attributes\":{\"plot\":null,\"text\":\"Mouse over the dots\"},\"id\":\"404fa06c-ff76-402d-89f4-c5996b20a9b2\",\"type\":\"Title\"},{\"attributes\":{\"source\":{\"id\":\"f3238b0c-664f-4c7f-bd9f-6ddc4f2276e9\",\"type\":\"ColumnDataSource\"}},\"id\":\"4634131e-e09b-4189-9ceb-ddfd73c6e579\",\"type\":\"CDSView\"},{\"attributes\":{\"callback\":null},\"id\":\"45a8b41f-7407-48ea-9979-ccf33719eaf1\",\"type\":\"DataRange1d\"},{\"attributes\":{},\"id\":\"e57b4809-3e60-4735-9d2d-5a45677013c2\",\"type\":\"WheelZoomTool\"},{\"attributes\":{\"fill_color\":{\"value\":\"#1f77b4\"},\"line_color\":{\"value\":\"#1f77b4\"},\"size\":{\"units\":\"screen\",\"value\":20},\"x\":{\"field\":\"x\"},\"y\":{\"field\":\"y\"}},\"id\":\"7f3c2032-f48c-4777-9307-a778b9ef9048\",\"type\":\"Circle\"},{\"attributes\":{\"overlay\":{\"id\":\"fe357d24-d151-4f34-864b-3caa31c8be73\",\"type\":\"BoxAnnotation\"}},\"id\":\"7a730c6a-a172-42a4-9399-9b94a670303c\",\"type\":\"BoxZoomTool\"},{\"attributes\":{},\"id\":\"db0718e8-7346-4be3-a0bf-0892fb29a854\",\"type\":\"LinearScale\"},{\"attributes\":{},\"id\":\"3ef97b9a-80f0-4bc3-aec5-705cfbe8dce1\",\"type\":\"SaveTool\"},{\"attributes\":{\"callback\":null},\"id\":\"400e24d8-e608-4f4b-8504-0913370598b5\",\"type\":\"DataRange1d\"},{\"attributes\":{},\"id\":\"2549f769-cd1e-4be9-8bb2-95cf897f5ee3\",\"type\":\"ResetTool\"},{\"attributes\":{},\"id\":\"0324f23c-a596-4da4-9fea-46f5efac4701\",\"type\":\"LinearScale\"},{\"attributes\":{},\"id\":\"3c46ceac-87d3-48c1-a94d-896869cbfcc4\",\"type\":\"HelpTool\"},{\"attributes\":{\"plot\":{\"id\":\"19213736-1f9a-444e-ab76-ff67e0f24603\",\"subtype\":\"Figure\",\"type\":\"Plot\"},\"ticker\":{\"id\":\"b57cdce1-7759-4be4-8ba1-19f498756f8e\",\"type\":\"BasicTicker\"}},\"id\":\"7edfdbfa-f88f-4df4-8738-6dc86a0e076a\",\"type\":\"Grid\"},{\"attributes\":{},\"id\":\"bc6e36ce-e151-43d1-9881-5594811dd964\",\"type\":\"BasicTickFormatter\"},{\"attributes\":{\"callback\":null,\"renderers\":\"auto\",\"tooltips\":[[\"index\",\"$index\"],[\"(x,y)\",\"($x, $y)\"],[\"desc\",\"@desc\"]]},\"id\":\"78421576-47cd-4ec0-824c-52f4a0b04bc1\",\"type\":\"HoverTool\"},{\"attributes\":{\"formatter\":{\"id\":\"bc6e36ce-e151-43d1-9881-5594811dd964\",\"type\":\"BasicTickFormatter\"},\"plot\":{\"id\":\"19213736-1f9a-444e-ab76-ff67e0f24603\",\"subtype\":\"Figure\",\"type\":\"Plot\"},\"ticker\":{\"id\":\"b57cdce1-7759-4be4-8ba1-19f498756f8e\",\"type\":\"BasicTicker\"}},\"id\":\"2f685817-363f-4bf6-a2db-1329423be08c\",\"type\":\"LinearAxis\"},{\"attributes\":{\"active_drag\":\"auto\",\"active_inspect\":\"auto\",\"active_multi\":null,\"active_scroll\":\"auto\",\"active_tap\":\"auto\",\"tools\":[{\"id\":\"9f216dee-2baa-4b7a-a2de-da60d944ad89\",\"type\":\"PanTool\"},{\"id\":\"e57b4809-3e60-4735-9d2d-5a45677013c2\",\"type\":\"WheelZoomTool\"},{\"id\":\"7a730c6a-a172-42a4-9399-9b94a670303c\",\"type\":\"BoxZoomTool\"},{\"id\":\"3ef97b9a-80f0-4bc3-aec5-705cfbe8dce1\",\"type\":\"SaveTool\"},{\"id\":\"2549f769-cd1e-4be9-8bb2-95cf897f5ee3\",\"type\":\"ResetTool\"},{\"id\":\"3c46ceac-87d3-48c1-a94d-896869cbfcc4\",\"type\":\"HelpTool\"},{\"id\":\"78421576-47cd-4ec0-824c-52f4a0b04bc1\",\"type\":\"HoverTool\"}]},\"id\":\"86ff16c4-076e-4910-9c1e-770c753c0f43\",\"type\":\"Toolbar\"},{\"attributes\":{},\"id\":\"b57cdce1-7759-4be4-8ba1-19f498756f8e\",\"type\":\"BasicTicker\"},{\"attributes\":{},\"id\":\"7b96bc12-ede7-4037-9aa5-db8dc236f8e4\",\"type\":\"BasicTickFormatter\"},{\"attributes\":{},\"id\":\"d4eb055f-6456-44b2-afbb-c015a3e7dae8\",\"type\":\"Selection\"}],\"root_ids\":[\"19213736-1f9a-444e-ab76-ff67e0f24603\"]},\"title\":\"Bokeh Application\",\"version\":\"0.13.0\"}};\n",
       "  var render_items = [{\"docid\":\"ef3e8997-5a8b-4f1f-a8b0-c1d5af0852b6\",\"roots\":{\"19213736-1f9a-444e-ab76-ff67e0f24603\":\"43492fb1-ccf1-4f74-9146-312d477762d1\"}}];\n",
       "  root.Bokeh.embed.embed_items_notebook(docs_json, render_items);\n",
       "\n",
       "  }\n",
       "  if (root.Bokeh !== undefined) {\n",
       "    embed_document(root);\n",
       "  } else {\n",
       "    var attempts = 0;\n",
       "    var timer = setInterval(function(root) {\n",
       "      if (root.Bokeh !== undefined) {\n",
       "        embed_document(root);\n",
       "        clearInterval(timer);\n",
       "      }\n",
       "      attempts++;\n",
       "      if (attempts > 100) {\n",
       "        console.log(\"Bokeh: ERROR: Unable to run BokehJS code because BokehJS library is missing\")\n",
       "        clearInterval(timer);\n",
       "      }\n",
       "    }, 10, root)\n",
       "  }\n",
       "})(window);"
      ],
      "application/vnd.bokehjs_exec.v0+json": ""
     },
     "metadata": {
      "application/vnd.bokehjs_exec.v0+json": {
       "id": "19213736-1f9a-444e-ab76-ff67e0f24603"
      }
     },
     "output_type": "display_data"
    }
   ],
   "source": [
    "from bokeh.models import ColumnDataSource\n",
    "\n",
    "source = ColumnDataSource(data=dict(\n",
    "    x=[1, 2, 3, 4, 5],\n",
    "    y=[2, 5, 8, 2, 7],\n",
    "    desc=['A', 'b', 'C', 'd', 'E'],\n",
    "))\n",
    "\n",
    "TOOLTIPS = [\n",
    "    (\"index\", \"$index\"),\n",
    "    (\"(x,y)\", \"($x, $y)\"),\n",
    "    (\"desc\", \"@desc\"),\n",
    "]\n",
    "\n",
    "p = figure(plot_width=400, plot_height=400, tooltips=TOOLTIPS,\n",
    "           title=\"Mouse over the dots\")\n",
    "\n",
    "p.circle('x', 'y', size=20, source=source)\n",
    "\n",
    "show(p)"
   ]
  },
  {
   "cell_type": "markdown",
   "metadata": {},
   "source": [
    "### Formatting Tooltip Fields\n",
    "By default, values for fields (e.g. @foo) are displayed in a basic numeric format. However it is possible to control the formatting of values more precisely. Fields can be modified by appending a format specified to the end in curly braces. Some examples are below."
   ]
  },
  {
   "cell_type": "markdown",
   "metadata": {},
   "source": [
    "```python\n",
    "\"@foo{0,0.000}\"    # formats 10000.1234 as: 10,000.123\n",
    "\n",
    "\"@foo{(.00)}\"      # formats -10000.1234 as: (10000.123)\n",
    "\n",
    "\"@foo{($ 0.00 a)}\" # formats 1230974 as: $ 1.23 m\n",
    "```"
   ]
  },
  {
   "cell_type": "code",
   "execution_count": 8,
   "metadata": {},
   "outputs": [
    {
     "data": {
      "text/html": [
       "\n",
       "\n",
       "\n",
       "\n",
       "\n",
       "\n",
       "  <div class=\"bk-root\" id=\"32d51e4b-9870-47dd-95ff-d0642ef23abf\"></div>\n"
      ]
     },
     "metadata": {},
     "output_type": "display_data"
    },
    {
     "data": {
      "application/javascript": [
       "(function(root) {\n",
       "  function embed_document(root) {\n",
       "    \n",
       "  var docs_json = {\"071b75d1-135c-40ef-b7f9-f381d42ee037\":{\"roots\":{\"references\":[{\"attributes\":{\"source\":{\"id\":\"aec5f48a-3416-4a91-8685-46ab3e6a51b1\",\"type\":\"ColumnDataSource\"}},\"id\":\"d47b009b-f115-49e9-92a0-a52650252b80\",\"type\":\"CDSView\"},{\"attributes\":{\"num_minor_ticks\":5,\"tickers\":[{\"id\":\"fc9fb221-a34a-46c0-9ec3-707f205076c8\",\"type\":\"AdaptiveTicker\"},{\"id\":\"b8dab078-8abf-4f52-a533-05695f36a71f\",\"type\":\"AdaptiveTicker\"},{\"id\":\"48c1afe6-4de7-46f4-a537-b95fdc416ad9\",\"type\":\"AdaptiveTicker\"},{\"id\":\"27ebb8de-b6b0-4bc1-98e1-45b28f764780\",\"type\":\"DaysTicker\"},{\"id\":\"36bf7376-c012-4803-8e4d-a2de8b1fa7a2\",\"type\":\"DaysTicker\"},{\"id\":\"cbb81483-1f51-461d-aed4-c9c4aca40ace\",\"type\":\"DaysTicker\"},{\"id\":\"483f05e7-4496-4d0d-92c4-1488f24e39f2\",\"type\":\"DaysTicker\"},{\"id\":\"2edb0b23-d50b-429b-8d12-1511cf528a4e\",\"type\":\"MonthsTicker\"},{\"id\":\"c8369623-8276-466e-8417-cf41bfb832fc\",\"type\":\"MonthsTicker\"},{\"id\":\"df478cb0-9ce4-4a93-8740-5ee8a37f4013\",\"type\":\"MonthsTicker\"},{\"id\":\"c36e38d3-306f-420f-9554-8e6fc48d04cf\",\"type\":\"MonthsTicker\"},{\"id\":\"fb14f4cd-5acc-41e6-90dd-0f8cc0525d79\",\"type\":\"YearsTicker\"}]},\"id\":\"cf4d282c-bfaa-4c6c-9444-7af3fa372094\",\"type\":\"DatetimeTicker\"},{\"attributes\":{},\"id\":\"83fa9dfd-17ab-421d-aa64-47a7b406a530\",\"type\":\"BasicTicker\"},{\"attributes\":{},\"id\":\"b3cc465f-06a3-4e5a-8f38-dcddf6fd4f9d\",\"type\":\"DatetimeTickFormatter\"},{\"attributes\":{\"data_source\":{\"id\":\"aec5f48a-3416-4a91-8685-46ab3e6a51b1\",\"type\":\"ColumnDataSource\"},\"glyph\":{\"id\":\"f14f54b3-41f6-4d12-8ff2-00a34f287b6c\",\"type\":\"Line\"},\"hover_glyph\":null,\"muted_glyph\":null,\"nonselection_glyph\":{\"id\":\"5954e85a-1e8c-41ff-a5ba-949bb3844cff\",\"type\":\"Line\"},\"selection_glyph\":null,\"view\":{\"id\":\"d47b009b-f115-49e9-92a0-a52650252b80\",\"type\":\"CDSView\"}},\"id\":\"4789ee1d-fcc4-493a-b65a-bde56817b4c5\",\"type\":\"GlyphRenderer\"},{\"attributes\":{},\"id\":\"f4e15ed2-8971-456b-9a93-a57e04dff991\",\"type\":\"LinearScale\"},{\"attributes\":{\"axis_label\":\"Price\",\"axis_line_color\":{\"value\":null},\"formatter\":{\"id\":\"5c71a731-35d9-497e-baf1-d9ef8e056bc9\",\"type\":\"BasicTickFormatter\"},\"plot\":{\"id\":\"4ac84241-a4e4-4132-ab2c-5bc322db3d70\",\"subtype\":\"Figure\",\"type\":\"Plot\"},\"ticker\":{\"id\":\"83fa9dfd-17ab-421d-aa64-47a7b406a530\",\"type\":\"BasicTicker\"}},\"id\":\"b09ff70c-2060-43c7-83fb-af89f9a703a7\",\"type\":\"LinearAxis\"},{\"attributes\":{\"grid_line_color\":{\"value\":\"white\"},\"plot\":{\"id\":\"4ac84241-a4e4-4132-ab2c-5bc322db3d70\",\"subtype\":\"Figure\",\"type\":\"Plot\"},\"ticker\":{\"id\":\"cf4d282c-bfaa-4c6c-9444-7af3fa372094\",\"type\":\"DatetimeTicker\"}},\"id\":\"f14145b5-0729-4c1b-af7a-ebd95675efbd\",\"type\":\"Grid\"},{\"attributes\":{},\"id\":\"f214be6b-c69d-43af-a352-c426437e23f4\",\"type\":\"LinearScale\"},{\"attributes\":{\"axis_label\":\"Date\",\"axis_line_color\":{\"value\":null},\"formatter\":{\"id\":\"b3cc465f-06a3-4e5a-8f38-dcddf6fd4f9d\",\"type\":\"DatetimeTickFormatter\"},\"plot\":{\"id\":\"4ac84241-a4e4-4132-ab2c-5bc322db3d70\",\"subtype\":\"Figure\",\"type\":\"Plot\"},\"ticker\":{\"id\":\"cf4d282c-bfaa-4c6c-9444-7af3fa372094\",\"type\":\"DatetimeTicker\"}},\"id\":\"c55e91bc-c881-48c2-baae-1167c881ff15\",\"type\":\"DatetimeAxis\"},{\"attributes\":{\"plot\":null,\"text\":\"Hover Tooltip Formatting\"},\"id\":\"695c03e6-e76a-4c02-bee7-7f24bb3d69e2\",\"type\":\"Title\"},{\"attributes\":{\"dimension\":1,\"grid_line_color\":{\"value\":\"white\"},\"plot\":{\"id\":\"4ac84241-a4e4-4132-ab2c-5bc322db3d70\",\"subtype\":\"Figure\",\"type\":\"Plot\"},\"ticker\":{\"id\":\"83fa9dfd-17ab-421d-aa64-47a7b406a530\",\"type\":\"BasicTicker\"}},\"id\":\"0f308e8e-1987-46a6-8e5d-1bcaf5781812\",\"type\":\"Grid\"},{\"attributes\":{\"callback\":null},\"id\":\"ea7d37e5-a554-4a11-89ef-e9337049db5c\",\"type\":\"DataRange1d\"},{\"attributes\":{\"background_fill_color\":{\"value\":\"#f5f5f5\"},\"below\":[{\"id\":\"c55e91bc-c881-48c2-baae-1167c881ff15\",\"type\":\"DatetimeAxis\"}],\"left\":[{\"id\":\"b09ff70c-2060-43c7-83fb-af89f9a703a7\",\"type\":\"LinearAxis\"}],\"plot_height\":250,\"renderers\":[{\"id\":\"c55e91bc-c881-48c2-baae-1167c881ff15\",\"type\":\"DatetimeAxis\"},{\"id\":\"f14145b5-0729-4c1b-af7a-ebd95675efbd\",\"type\":\"Grid\"},{\"id\":\"b09ff70c-2060-43c7-83fb-af89f9a703a7\",\"type\":\"LinearAxis\"},{\"id\":\"0f308e8e-1987-46a6-8e5d-1bcaf5781812\",\"type\":\"Grid\"},{\"id\":\"4789ee1d-fcc4-493a-b65a-bde56817b4c5\",\"type\":\"GlyphRenderer\"}],\"sizing_mode\":\"scale_width\",\"title\":{\"id\":\"695c03e6-e76a-4c02-bee7-7f24bb3d69e2\",\"type\":\"Title\"},\"toolbar\":{\"id\":\"89daf650-c420-4086-83bf-ee6b8cfa09d0\",\"type\":\"Toolbar\"},\"toolbar_location\":null,\"x_range\":{\"id\":\"69554113-f46e-4226-8a6c-be324056c513\",\"type\":\"DataRange1d\"},\"x_scale\":{\"id\":\"f4e15ed2-8971-456b-9a93-a57e04dff991\",\"type\":\"LinearScale\"},\"y_range\":{\"id\":\"ea7d37e5-a554-4a11-89ef-e9337049db5c\",\"type\":\"DataRange1d\"},\"y_scale\":{\"id\":\"f214be6b-c69d-43af-a352-c426437e23f4\",\"type\":\"LinearScale\"}},\"id\":\"4ac84241-a4e4-4132-ab2c-5bc322db3d70\",\"subtype\":\"Figure\",\"type\":\"Plot\"},{\"attributes\":{\"line_alpha\":0.1,\"line_color\":\"#1f77b4\",\"line_width\":2,\"x\":{\"field\":\"date\"},\"y\":{\"field\":\"adj close\"}},\"id\":\"5954e85a-1e8c-41ff-a5ba-949bb3844cff\",\"type\":\"Line\"},{\"attributes\":{},\"id\":\"fb14f4cd-5acc-41e6-90dd-0f8cc0525d79\",\"type\":\"YearsTicker\"},{\"attributes\":{\"callback\":null,\"data\":{\"adj close\":[31.68,28.26,33.05,26.56,30.82,25.0,21.22,23.28,25.14,27.78,23.68,23.31,24.56,30.36,29.15,10.85,9.78,9.51,9.85,8.54,7.29,7.2,8.36,10.55,9.57,9.42,9.51,11.12,10.72,12.02,11.66,11.3,10.53,10.94,10.71,9.72,9.48,8.79,9.02,7.65,7.85,8.9,9.03,9.22,10.24,10.03,11.33,10.1,12.02,11.96,11.4,12.13,11.89,12.16,11.65,11.64,11.66,9.95,8.33,8.42,7.39,7.31,7.84,6.9,7.09,6.95,6.86,7.81,7.93,7.54,7.19,6.84,7.1,7.26,7.0,7.23,7.16,7.05,6.99,6.49,8.9,8.91,8.16,9.27,9.92,10.11,9.91,9.88,11.16,10.76,10.11,12.07,11.52,10.86,10.08,10.31,10.1,11.54,11.22,11.17,11.09,13.46,12.4,13.28,13.51,12.93,12.99,14.0,15.72,15.05,15.66,15.22,15.01,16.77,17.12,18.81,19.33,24.46,26.62,31.15,31.12,31.13,33.67,34.41,38.39,41.47,39.42,41.65,41.17,34.54,36.13,34.86,38.94,36.94,35.8,40.41,41.48,44.83,44.48,49.99,52.36,48.99,55.23,58.58,63.18,72.02,70.13,72.34,74.0,69.88,68.36,63.68,62.23,60.93,64.4,69.65,63.2,58.13,56.03,54.48,50.82,61.66,62.31,65.95,70.53,71.0,72.18,77.76,76.14,83.49,88.62,83.12,83.31,86.07,82.42,82.5,83.95,88.63,91.08,87.87,96.74,104.57,115.51,114.27,118.54,130.39,141.99,122.92,127.47,128.15,140.19,157.02,165.74,182.71,161.82,173.95,179.34,189.49,155.26,131.64,123.96,121.59,123.13,139.56,143.72,167.51,183.0,181.31,180.54,168.49,169.47,161.7,159.68,171.01,156.79,130.41,97.35,99.09,107.99,93.79,90.13,95.57,84.23,85.3,91.61,94.16,86.74,93.71,106.85,116.29,120.5,125.64,119.14,139.9,133.6,131.68,147.35,161.01,159.5,160.76,176.88,180.26,186.04,187.12,197.67,198.59,191.04,203.3,204.34,200.29,190.81,195.15,218.67,223.07,233.36,259.16,239.49,231.23,248.93,266.55,240.16,238.84,254.66,240.84,235.84,260.7,278.99,290.35,299.59,307.4,300.26,312.2,316.24,324.57,317.75,336.99,340.94,345.61,329.99,331.83,322.74,338.64,326.91,336.03,317.78,324.87,347.95,381.07,363.44,363.46,367.12,393.2,359.65,382.09,389.25,364.65,382.22,371.72,402.09,416.01,442.63,488.43,530.22,569.5,583.09,564.21,567.95,542.9,556.56,560.35,556.33,587.84,559.19,602.85,653.3,660.53,682.44,651.28,617.92,571.02,555.09,565.02,523.86,531.9,493.22,445.09,454.14],\"date\":{\"__ndarray__\":\"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\",\"dtype\":\"float64\",\"shape\":[327]},\"volume\":[38478000,15845200,8568800,33618800,11678000,17852400,14530800,9020000,7320400,14211000,14720600,6697200,4803800,10669000,9706200,72795600,21495600,31649000,14611200,17586200,12327200,10910000,15121000,30562800,9795600,12451000,15840600,19422200,16334800,11813600,11603200,10037200,11613600,12190400,10818600,15878000,6644800,7443800,7746600,20375600,12238800,5956800,7043000,8238000,6470200,6204000,18910600,20246200,16730200,9291800,12464000,8603600,7108800,10691800,9724600,9486000,5347000,12482000,10757200,7388600,14521200,11909800,7229600,8077800,7355200,7782000,16760600,10565600,5061200,5122600,5885000,5537200,6673600,13323000,8167400,5512200,11980200,4371200,3825000,7332800,21013800,7382800,9284000,10977200,9169200,7086600,8908600,4774600,9601000,10335600,8432600,21789400,9538600,10714400,8754600,6540600,3703400,17412400,10966800,9119400,9867000,35963000,15293400,9111400,12306600,9412800,7010600,14254000,13936200,12463600,11562400,7558200,11536400,13448600,8309600,9768200,41536000,42624800,18167000,49671000,26482200,8783200,79551800,30058200,18730600,43546200,36480400,19693400,14815200,33754700,16006300,22740100,13356200,19559800,14942500,24560100,20074300,32715600,9323500,16171300,19520100,18125200,21776900,22815400,18275400,30608200,17111000,16050800,40527100,24718700,20571400,32595200,21622900,29135400,28387300,27559400,33455000,45749200,31362000,30382300,44639500,26251600,24920000,23399700,31997200,23754000,16677100,22836200,15424600,16658000,25340600,25770600,30259300,48731200,22197500,14281000,29960700,25462900,17928300,26854300,19018700,34089800,52801600,61476900,34810600,25164600,78093900,40192700,30958500,51092000,40674300,33695400,46135000,35789800,49391300,34338200,36596200,38542100,79065900,48059800,34074900,44838600,41308600,27430900,30181700,28114800,29234400,28210900,40728600,22212400,31992000,37920300,28264600,18105400,26549500,59866200,57477300,70732900,58503200,66217400,10634800,37184800,24500000,28514200,30764500,24106200,22495300,27444900,22009000,18955600,19313000,16713000,10642800,33273300,22675500,16485600,31242200,14136100,15398300,16751000,26929400,19270900,13411100,29228100,15852500,10230500,17488200,17888900,16508200,66682500,22603100,16448800,21293500,21349300,20463900,28336600,45923600,45818400,27082300,28022200,24780100,36588500,15287700,11372500,13688900,14576800,36965800,19948000,14033200,13698000,18551700,11497700,9497200,10729600,26942900,11494300,29144900,19504400,14621500,16431600,21782100,11191000,16154800,19810100,14257000,12590900,15376200,21215500,26498900,31119500,20171900,19509900,19123500,22187300,10793900,13283500,12757500,8411800,9286500,9347800,6671300,33734000,15418300,29481700,26108500,37528100,18076600,12593800,13589600,15549300,9876300,16761500,31332600,8739500,20190100,13971300,12020300,13240200,17022300,18897700,29404200,19895300,22345900,12605900,16202800,19267300,13990900]},\"selected\":{\"id\":\"475ad377-0f92-41fb-bc56-8a9b5aaf5b53\",\"type\":\"Selection\"},\"selection_policy\":{\"id\":\"1c82e66c-41c2-4df5-b6c0-d164cb24c9c2\",\"type\":\"UnionRenderers\"}},\"id\":\"aec5f48a-3416-4a91-8685-46ab3e6a51b1\",\"type\":\"ColumnDataSource\"},{\"attributes\":{\"callback\":null,\"formatters\":{\"adj close\":\"printf\",\"date\":\"datetime\"},\"mode\":\"vline\",\"renderers\":\"auto\",\"tooltips\":[[\"date\",\"@date{%F}\"],[\"close\",\"$@{adj close}{%0.2f}\"],[\"volume\",\"@volume{0.00 a}\"]]},\"id\":\"e3b24bff-cccb-4b4a-b79b-586fa3923fb2\",\"type\":\"HoverTool\"},{\"attributes\":{\"line_color\":\"#ebbd5b\",\"line_width\":2,\"x\":{\"field\":\"date\"},\"y\":{\"field\":\"adj close\"}},\"id\":\"f14f54b3-41f6-4d12-8ff2-00a34f287b6c\",\"type\":\"Line\"},{\"attributes\":{\"callback\":null},\"id\":\"69554113-f46e-4226-8a6c-be324056c513\",\"type\":\"DataRange1d\"},{\"attributes\":{\"days\":[1,8,15,22]},\"id\":\"cbb81483-1f51-461d-aed4-c9c4aca40ace\",\"type\":\"DaysTicker\"},{\"attributes\":{\"mantissas\":[1,2,5],\"max_interval\":500.0,\"num_minor_ticks\":0},\"id\":\"fc9fb221-a34a-46c0-9ec3-707f205076c8\",\"type\":\"AdaptiveTicker\"},{\"attributes\":{},\"id\":\"5c71a731-35d9-497e-baf1-d9ef8e056bc9\",\"type\":\"BasicTickFormatter\"},{\"attributes\":{\"base\":60,\"mantissas\":[1,2,5,10,15,20,30],\"max_interval\":1800000.0,\"min_interval\":1000.0,\"num_minor_ticks\":0},\"id\":\"b8dab078-8abf-4f52-a533-05695f36a71f\",\"type\":\"AdaptiveTicker\"},{\"attributes\":{\"active_drag\":\"auto\",\"active_inspect\":\"auto\",\"active_multi\":null,\"active_scroll\":\"auto\",\"active_tap\":\"auto\",\"tools\":[{\"id\":\"e3b24bff-cccb-4b4a-b79b-586fa3923fb2\",\"type\":\"HoverTool\"}]},\"id\":\"89daf650-c420-4086-83bf-ee6b8cfa09d0\",\"type\":\"Toolbar\"},{\"attributes\":{\"days\":[1,15]},\"id\":\"483f05e7-4496-4d0d-92c4-1488f24e39f2\",\"type\":\"DaysTicker\"},{\"attributes\":{\"base\":24,\"mantissas\":[1,2,4,6,8,12],\"max_interval\":43200000.0,\"min_interval\":3600000.0,\"num_minor_ticks\":0},\"id\":\"48c1afe6-4de7-46f4-a537-b95fdc416ad9\",\"type\":\"AdaptiveTicker\"},{\"attributes\":{\"months\":[0,1,2,3,4,5,6,7,8,9,10,11]},\"id\":\"2edb0b23-d50b-429b-8d12-1511cf528a4e\",\"type\":\"MonthsTicker\"},{\"attributes\":{\"months\":[0,2,4,6,8,10]},\"id\":\"c8369623-8276-466e-8417-cf41bfb832fc\",\"type\":\"MonthsTicker\"},{\"attributes\":{\"months\":[0,4,8]},\"id\":\"df478cb0-9ce4-4a93-8740-5ee8a37f4013\",\"type\":\"MonthsTicker\"},{\"attributes\":{\"months\":[0,6]},\"id\":\"c36e38d3-306f-420f-9554-8e6fc48d04cf\",\"type\":\"MonthsTicker\"},{\"attributes\":{\"days\":[1,2,3,4,5,6,7,8,9,10,11,12,13,14,15,16,17,18,19,20,21,22,23,24,25,26,27,28,29,30,31]},\"id\":\"27ebb8de-b6b0-4bc1-98e1-45b28f764780\",\"type\":\"DaysTicker\"},{\"attributes\":{\"days\":[1,4,7,10,13,16,19,22,25,28]},\"id\":\"36bf7376-c012-4803-8e4d-a2de8b1fa7a2\",\"type\":\"DaysTicker\"},{\"attributes\":{},\"id\":\"1c82e66c-41c2-4df5-b6c0-d164cb24c9c2\",\"type\":\"UnionRenderers\"},{\"attributes\":{},\"id\":\"475ad377-0f92-41fb-bc56-8a9b5aaf5b53\",\"type\":\"Selection\"}],\"root_ids\":[\"4ac84241-a4e4-4132-ab2c-5bc322db3d70\"]},\"title\":\"Bokeh Application\",\"version\":\"0.13.0\"}};\n",
       "  var render_items = [{\"docid\":\"071b75d1-135c-40ef-b7f9-f381d42ee037\",\"roots\":{\"4ac84241-a4e4-4132-ab2c-5bc322db3d70\":\"32d51e4b-9870-47dd-95ff-d0642ef23abf\"}}];\n",
       "  root.Bokeh.embed.embed_items_notebook(docs_json, render_items);\n",
       "\n",
       "  }\n",
       "  if (root.Bokeh !== undefined) {\n",
       "    embed_document(root);\n",
       "  } else {\n",
       "    var attempts = 0;\n",
       "    var timer = setInterval(function(root) {\n",
       "      if (root.Bokeh !== undefined) {\n",
       "        embed_document(root);\n",
       "        clearInterval(timer);\n",
       "      }\n",
       "      attempts++;\n",
       "      if (attempts > 100) {\n",
       "        console.log(\"Bokeh: ERROR: Unable to run BokehJS code because BokehJS library is missing\")\n",
       "        clearInterval(timer);\n",
       "      }\n",
       "    }, 10, root)\n",
       "  }\n",
       "})(window);"
      ],
      "application/vnd.bokehjs_exec.v0+json": ""
     },
     "metadata": {
      "application/vnd.bokehjs_exec.v0+json": {
       "id": "4ac84241-a4e4-4132-ab2c-5bc322db3d70"
      }
     },
     "output_type": "display_data"
    }
   ],
   "source": [
    "import numpy as np\n",
    "from bokeh.models import ColumnDataSource, HoverTool\n",
    "from bokeh.plotting import figure\n",
    "from bokeh.sampledata.stocks import AAPL # Sample stock data [bokeh built-in]\n",
    "\n",
    "def datetime(x):\n",
    "    return np.array(x, dtype=np.datetime64)\n",
    "\n",
    "source = ColumnDataSource(data={\n",
    "    'date'      : datetime(AAPL['date'][::10]),\n",
    "    'adj close' : AAPL['adj_close'][::10],\n",
    "    'volume'    : AAPL['volume'][::10],\n",
    "})\n",
    "\n",
    "p = figure(plot_height=250, x_axis_type=\"datetime\", tools=\"\", toolbar_location=None,\n",
    "           title=\"Hover Tooltip Formatting\", sizing_mode=\"scale_width\")\n",
    "p.background_fill_color=\"#f5f5f5\"\n",
    "p.grid.grid_line_color=\"white\"\n",
    "p.xaxis.axis_label = 'Date'\n",
    "p.yaxis.axis_label = 'Price'\n",
    "p.axis.axis_line_color = None\n",
    "\n",
    "p.line(x='date', y='adj close', line_width=2, color='#ebbd5b', source=source)\n",
    "\n",
    "p.add_tools(HoverTool(\n",
    "    tooltips=[\n",
    "        ( 'date',   '@date{%F}'            ),\n",
    "        ( 'close',  '$@{adj close}{%0.2f}' ), # use @{ } for field names with spaces\n",
    "        ( 'volume', '@volume{0.00 a}'      ),\n",
    "    ],\n",
    "\n",
    "    formatters={\n",
    "        'date'      : 'datetime', # use 'datetime' formatter for 'date' field\n",
    "        'adj close' : 'printf',   # use 'printf' formatter for 'adj close' field\n",
    "                                  # use default 'numeral' formatter for other fields\n",
    "    },\n",
    "\n",
    "    # display a tooltip whenever the cursor is vertically in line with a glyph\n",
    "    mode='vline'\n",
    "))\n",
    "\n",
    "show(p)"
   ]
  },
  {
   "cell_type": "markdown",
   "metadata": {},
   "source": [
    "### Custom HTML Tooltip"
   ]
  },
  {
   "cell_type": "markdown",
   "metadata": {},
   "source": [
    "It is also possible to supply a custom HTML template for a tooltip. To do this, pass an HTML string, with the Bokeh tooltip field name symbols wherever substitutions are desired. Note that you can also use the {safe} format after the column name to disable the escaping of HTML in the data source. An example is shown below:"
   ]
  },
  {
   "cell_type": "code",
   "execution_count": 10,
   "metadata": {},
   "outputs": [
    {
     "data": {
      "text/html": [
       "\n",
       "\n",
       "\n",
       "\n",
       "\n",
       "\n",
       "  <div class=\"bk-root\" id=\"046057b3-fac7-4e59-91af-546a8d1cfce1\"></div>\n"
      ]
     },
     "metadata": {},
     "output_type": "display_data"
    },
    {
     "data": {
      "application/javascript": [
       "(function(root) {\n",
       "  function embed_document(root) {\n",
       "    \n",
       "  var docs_json = {\"3427c181-1407-408f-83f8-d1fd9d2b7111\":{\"roots\":{\"references\":[{\"attributes\":{\"callback\":null},\"id\":\"e870338d-e587-4e9f-b211-ceb504244f3d\",\"type\":\"DataRange1d\"},{\"attributes\":{\"callback\":null},\"id\":\"15c6fedc-f81f-4b3a-80ae-6267a1cb2f40\",\"type\":\"DataRange1d\"},{\"attributes\":{},\"id\":\"9059e992-a1fc-4038-a4e6-866c315b45cd\",\"type\":\"BasicTicker\"},{\"attributes\":{},\"id\":\"02d6d4d9-74b7-4411-ad98-295b4d85c58a\",\"type\":\"BasicTickFormatter\"},{\"attributes\":{\"plot\":{\"id\":\"9dc4d76a-c491-4739-b056-2c858419e5a1\",\"subtype\":\"Figure\",\"type\":\"Plot\"},\"ticker\":{\"id\":\"aff22aaa-f0aa-442c-b091-4bd1711996ed\",\"type\":\"BasicTicker\"}},\"id\":\"a04fc054-4f1d-4840-9793-4e6cba009685\",\"type\":\"Grid\"},{\"attributes\":{},\"id\":\"7947db2e-0297-41bb-a816-cdd4d07ab5bd\",\"type\":\"PanTool\"},{\"attributes\":{\"source\":{\"id\":\"25931d35-0d68-43a5-94e1-15e62a2c4e8a\",\"type\":\"ColumnDataSource\"}},\"id\":\"716f1168-95cf-4dd5-8f1e-2ee900f4cb32\",\"type\":\"CDSView\"},{\"attributes\":{},\"id\":\"88b9a738-ba0b-4c26-a29b-0407f3d4b69d\",\"type\":\"WheelZoomTool\"},{\"attributes\":{},\"id\":\"068e1afc-ef10-45f5-870f-7d9f49fb9596\",\"type\":\"LinearScale\"},{\"attributes\":{},\"id\":\"aff22aaa-f0aa-442c-b091-4bd1711996ed\",\"type\":\"BasicTicker\"},{\"attributes\":{\"bottom_units\":\"screen\",\"fill_alpha\":{\"value\":0.5},\"fill_color\":{\"value\":\"lightgrey\"},\"left_units\":\"screen\",\"level\":\"overlay\",\"line_alpha\":{\"value\":1.0},\"line_color\":{\"value\":\"black\"},\"line_dash\":[4,4],\"line_width\":{\"value\":2},\"plot\":null,\"render_mode\":\"css\",\"right_units\":\"screen\",\"top_units\":\"screen\"},\"id\":\"8eec27e8-fc95-42bb-9dcc-edb61bf239da\",\"type\":\"BoxAnnotation\"},{\"attributes\":{\"dimension\":1,\"plot\":{\"id\":\"9dc4d76a-c491-4739-b056-2c858419e5a1\",\"subtype\":\"Figure\",\"type\":\"Plot\"},\"ticker\":{\"id\":\"9059e992-a1fc-4038-a4e6-866c315b45cd\",\"type\":\"BasicTicker\"}},\"id\":\"396b6722-284f-41b9-8369-5024ca8c1d17\",\"type\":\"Grid\"},{\"attributes\":{},\"id\":\"d32ab465-3cb6-43f6-b3eb-db7ae2cc6a66\",\"type\":\"Selection\"},{\"attributes\":{\"data_source\":{\"id\":\"25931d35-0d68-43a5-94e1-15e62a2c4e8a\",\"type\":\"ColumnDataSource\"},\"glyph\":{\"id\":\"c5cc4689-9d5f-4be8-aac8-5262b93424b6\",\"type\":\"Circle\"},\"hover_glyph\":null,\"muted_glyph\":null,\"nonselection_glyph\":{\"id\":\"7e69fe51-49d4-429e-a59a-98841b5c69b5\",\"type\":\"Circle\"},\"selection_glyph\":null,\"view\":{\"id\":\"716f1168-95cf-4dd5-8f1e-2ee900f4cb32\",\"type\":\"CDSView\"}},\"id\":\"88218879-01e1-48c3-8199-5f740f065e09\",\"type\":\"GlyphRenderer\"},{\"attributes\":{\"callback\":null,\"renderers\":\"auto\",\"tooltips\":\"\\n    <div>\\n        <div>\\n            <img\\n                src=\\\"@imgs\\\" height=\\\"42\\\" alt=\\\"@imgs\\\" width=\\\"42\\\"\\n                style=\\\"float: left; margin: 0px 15px 15px 0px;\\\"\\n                border=\\\"2\\\"\\n            ></img>\\n        </div>\\n        <div>\\n            <span style=\\\"font-size: 17px; font-weight: bold;\\\">@desc</span>\\n            <span style=\\\"font-size: 15px; color: #966;\\\">[$index]</span>\\n        </div>\\n        <div>\\n            <span>@fonts{safe}</span>\\n        </div>\\n        <div>\\n            <span style=\\\"font-size: 15px;\\\">Location</span>\\n            <span style=\\\"font-size: 10px; color: #696;\\\">($x, $y)</span>\\n        </div>\\n    </div>\\n\"},\"id\":\"9089a1f1-3e3e-4178-b5dc-c5a687f9bd7b\",\"type\":\"HoverTool\"},{\"attributes\":{\"plot\":null,\"text\":\"Mouse over the dots\"},\"id\":\"f1005220-b34b-4eaa-b179-4792523cbc52\",\"type\":\"Title\"},{\"attributes\":{\"below\":[{\"id\":\"c11c417c-4c18-4f2b-9a76-d285bcd9641c\",\"type\":\"LinearAxis\"}],\"left\":[{\"id\":\"4aed754f-3df1-4e9e-bf0d-c60946002745\",\"type\":\"LinearAxis\"}],\"plot_height\":400,\"plot_width\":400,\"renderers\":[{\"id\":\"c11c417c-4c18-4f2b-9a76-d285bcd9641c\",\"type\":\"LinearAxis\"},{\"id\":\"a04fc054-4f1d-4840-9793-4e6cba009685\",\"type\":\"Grid\"},{\"id\":\"4aed754f-3df1-4e9e-bf0d-c60946002745\",\"type\":\"LinearAxis\"},{\"id\":\"396b6722-284f-41b9-8369-5024ca8c1d17\",\"type\":\"Grid\"},{\"id\":\"8eec27e8-fc95-42bb-9dcc-edb61bf239da\",\"type\":\"BoxAnnotation\"},{\"id\":\"88218879-01e1-48c3-8199-5f740f065e09\",\"type\":\"GlyphRenderer\"}],\"title\":{\"id\":\"f1005220-b34b-4eaa-b179-4792523cbc52\",\"type\":\"Title\"},\"toolbar\":{\"id\":\"af36fed5-891d-433e-9c2f-6ef02ace40ac\",\"type\":\"Toolbar\"},\"x_range\":{\"id\":\"e870338d-e587-4e9f-b211-ceb504244f3d\",\"type\":\"DataRange1d\"},\"x_scale\":{\"id\":\"068e1afc-ef10-45f5-870f-7d9f49fb9596\",\"type\":\"LinearScale\"},\"y_range\":{\"id\":\"15c6fedc-f81f-4b3a-80ae-6267a1cb2f40\",\"type\":\"DataRange1d\"},\"y_scale\":{\"id\":\"533b750f-e0d8-43e0-96bf-7f163426ce7f\",\"type\":\"LinearScale\"}},\"id\":\"9dc4d76a-c491-4739-b056-2c858419e5a1\",\"subtype\":\"Figure\",\"type\":\"Plot\"},{\"attributes\":{\"formatter\":{\"id\":\"02d6d4d9-74b7-4411-ad98-295b4d85c58a\",\"type\":\"BasicTickFormatter\"},\"plot\":{\"id\":\"9dc4d76a-c491-4739-b056-2c858419e5a1\",\"subtype\":\"Figure\",\"type\":\"Plot\"},\"ticker\":{\"id\":\"aff22aaa-f0aa-442c-b091-4bd1711996ed\",\"type\":\"BasicTicker\"}},\"id\":\"c11c417c-4c18-4f2b-9a76-d285bcd9641c\",\"type\":\"LinearAxis\"},{\"attributes\":{},\"id\":\"29416c4d-8f9f-4955-b235-b3739252eaa5\",\"type\":\"BasicTickFormatter\"},{\"attributes\":{},\"id\":\"9d285393-b8f6-44ef-bb4e-4f5d5675edbb\",\"type\":\"HelpTool\"},{\"attributes\":{},\"id\":\"e9bd405e-d40f-4e19-8622-be4c0bf1380f\",\"type\":\"UnionRenderers\"},{\"attributes\":{\"overlay\":{\"id\":\"8eec27e8-fc95-42bb-9dcc-edb61bf239da\",\"type\":\"BoxAnnotation\"}},\"id\":\"87343e80-6e15-4d79-9f44-3daffcc8983e\",\"type\":\"BoxZoomTool\"},{\"attributes\":{\"formatter\":{\"id\":\"29416c4d-8f9f-4955-b235-b3739252eaa5\",\"type\":\"BasicTickFormatter\"},\"plot\":{\"id\":\"9dc4d76a-c491-4739-b056-2c858419e5a1\",\"subtype\":\"Figure\",\"type\":\"Plot\"},\"ticker\":{\"id\":\"9059e992-a1fc-4038-a4e6-866c315b45cd\",\"type\":\"BasicTicker\"}},\"id\":\"4aed754f-3df1-4e9e-bf0d-c60946002745\",\"type\":\"LinearAxis\"},{\"attributes\":{},\"id\":\"767d0fc9-5b76-4af7-a003-78e98e5cc00f\",\"type\":\"SaveTool\"},{\"attributes\":{\"callback\":null,\"data\":{\"desc\":[\"A\",\"b\",\"C\",\"d\",\"E\"],\"fonts\":[\"<i>italics</i>\",\"<pre>pre</pre>\",\"<b>bold</b>\",\"<small>small</small>\",\"<del>del</del>\"],\"imgs\":[\"https://bokeh.pydata.org/static/snake.jpg\",\"https://bokeh.pydata.org/static/snake2.png\",\"https://bokeh.pydata.org/static/snake3D.png\",\"https://bokeh.pydata.org/static/snake4_TheRevenge.png\",\"https://bokeh.pydata.org/static/snakebite.jpg\"],\"x\":[1,2,3,4,5],\"y\":[2,5,8,2,7]},\"selected\":{\"id\":\"d32ab465-3cb6-43f6-b3eb-db7ae2cc6a66\",\"type\":\"Selection\"},\"selection_policy\":{\"id\":\"e9bd405e-d40f-4e19-8622-be4c0bf1380f\",\"type\":\"UnionRenderers\"}},\"id\":\"25931d35-0d68-43a5-94e1-15e62a2c4e8a\",\"type\":\"ColumnDataSource\"},{\"attributes\":{\"fill_alpha\":{\"value\":0.1},\"fill_color\":{\"value\":\"#1f77b4\"},\"line_alpha\":{\"value\":0.1},\"line_color\":{\"value\":\"#1f77b4\"},\"size\":{\"units\":\"screen\",\"value\":20},\"x\":{\"field\":\"x\"},\"y\":{\"field\":\"y\"}},\"id\":\"7e69fe51-49d4-429e-a59a-98841b5c69b5\",\"type\":\"Circle\"},{\"attributes\":{\"active_drag\":\"auto\",\"active_inspect\":\"auto\",\"active_multi\":null,\"active_scroll\":\"auto\",\"active_tap\":\"auto\",\"tools\":[{\"id\":\"7947db2e-0297-41bb-a816-cdd4d07ab5bd\",\"type\":\"PanTool\"},{\"id\":\"88b9a738-ba0b-4c26-a29b-0407f3d4b69d\",\"type\":\"WheelZoomTool\"},{\"id\":\"87343e80-6e15-4d79-9f44-3daffcc8983e\",\"type\":\"BoxZoomTool\"},{\"id\":\"767d0fc9-5b76-4af7-a003-78e98e5cc00f\",\"type\":\"SaveTool\"},{\"id\":\"9e9192c5-28bf-4adc-aceb-8f11dfe1efef\",\"type\":\"ResetTool\"},{\"id\":\"9d285393-b8f6-44ef-bb4e-4f5d5675edbb\",\"type\":\"HelpTool\"},{\"id\":\"9089a1f1-3e3e-4178-b5dc-c5a687f9bd7b\",\"type\":\"HoverTool\"}]},\"id\":\"af36fed5-891d-433e-9c2f-6ef02ace40ac\",\"type\":\"Toolbar\"},{\"attributes\":{},\"id\":\"533b750f-e0d8-43e0-96bf-7f163426ce7f\",\"type\":\"LinearScale\"},{\"attributes\":{\"fill_color\":{\"value\":\"#1f77b4\"},\"line_color\":{\"value\":\"#1f77b4\"},\"size\":{\"units\":\"screen\",\"value\":20},\"x\":{\"field\":\"x\"},\"y\":{\"field\":\"y\"}},\"id\":\"c5cc4689-9d5f-4be8-aac8-5262b93424b6\",\"type\":\"Circle\"},{\"attributes\":{},\"id\":\"9e9192c5-28bf-4adc-aceb-8f11dfe1efef\",\"type\":\"ResetTool\"}],\"root_ids\":[\"9dc4d76a-c491-4739-b056-2c858419e5a1\"]},\"title\":\"Bokeh Application\",\"version\":\"0.13.0\"}};\n",
       "  var render_items = [{\"docid\":\"3427c181-1407-408f-83f8-d1fd9d2b7111\",\"roots\":{\"9dc4d76a-c491-4739-b056-2c858419e5a1\":\"046057b3-fac7-4e59-91af-546a8d1cfce1\"}}];\n",
       "  root.Bokeh.embed.embed_items_notebook(docs_json, render_items);\n",
       "\n",
       "  }\n",
       "  if (root.Bokeh !== undefined) {\n",
       "    embed_document(root);\n",
       "  } else {\n",
       "    var attempts = 0;\n",
       "    var timer = setInterval(function(root) {\n",
       "      if (root.Bokeh !== undefined) {\n",
       "        embed_document(root);\n",
       "        clearInterval(timer);\n",
       "      }\n",
       "      attempts++;\n",
       "      if (attempts > 100) {\n",
       "        console.log(\"Bokeh: ERROR: Unable to run BokehJS code because BokehJS library is missing\")\n",
       "        clearInterval(timer);\n",
       "      }\n",
       "    }, 10, root)\n",
       "  }\n",
       "})(window);"
      ],
      "application/vnd.bokehjs_exec.v0+json": ""
     },
     "metadata": {
      "application/vnd.bokehjs_exec.v0+json": {
       "id": "9dc4d76a-c491-4739-b056-2c858419e5a1"
      }
     },
     "output_type": "display_data"
    }
   ],
   "source": [
    "source = ColumnDataSource(data=dict(\n",
    "    x=[1, 2, 3, 4, 5],\n",
    "    y=[2, 5, 8, 2, 7],\n",
    "    desc=['A', 'b', 'C', 'd', 'E'],\n",
    "    imgs=[\n",
    "        'https://bokeh.pydata.org/static/snake.jpg',\n",
    "        'https://bokeh.pydata.org/static/snake2.png',\n",
    "        'https://bokeh.pydata.org/static/snake3D.png',\n",
    "        'https://bokeh.pydata.org/static/snake4_TheRevenge.png',\n",
    "        'https://bokeh.pydata.org/static/snakebite.jpg'\n",
    "    ],\n",
    "    fonts=[\n",
    "        '<i>italics</i>',\n",
    "        '<pre>pre</pre>',\n",
    "        '<b>bold</b>',\n",
    "        '<small>small</small>',\n",
    "        '<del>del</del>'\n",
    "    ]\n",
    "))\n",
    "\n",
    "TOOLTIPS = \"\"\"\n",
    "    <div>\n",
    "        <div>\n",
    "            <img\n",
    "                src=\"@imgs\" height=\"42\" alt=\"@imgs\" width=\"42\"\n",
    "                style=\"float: left; margin: 0px 15px 15px 0px;\"\n",
    "                border=\"2\"\n",
    "            ></img>\n",
    "        </div>\n",
    "        <div>\n",
    "            <span style=\"font-size: 17px; font-weight: bold;\">@desc</span>\n",
    "            <span style=\"font-size: 15px; color: #966;\">[$index]</span>\n",
    "        </div>\n",
    "        <div>\n",
    "            <span>@fonts{safe}</span>\n",
    "        </div>\n",
    "        <div>\n",
    "            <span style=\"font-size: 15px;\">Location</span>\n",
    "            <span style=\"font-size: 10px; color: #696;\">($x, $y)</span>\n",
    "        </div>\n",
    "    </div>\n",
    "\"\"\"\n",
    "\n",
    "p = figure(plot_width=400, plot_height=400, tooltips=TOOLTIPS,\n",
    "           title=\"Mouse over the dots\")\n",
    "\n",
    "p.circle('x', 'y', size=20, source=source)\n",
    "\n",
    "show(p)"
   ]
  },
  {
   "cell_type": "code",
   "execution_count": null,
   "metadata": {},
   "outputs": [],
   "source": []
  }
 ],
 "metadata": {
  "kernelspec": {
   "display_name": "Python 3",
   "language": "python",
   "name": "python3"
  },
  "language_info": {
   "codemirror_mode": {
    "name": "ipython",
    "version": 3
   },
   "file_extension": ".py",
   "mimetype": "text/x-python",
   "name": "python",
   "nbconvert_exporter": "python",
   "pygments_lexer": "ipython3",
   "version": "3.6.5"
  }
 },
 "nbformat": 4,
 "nbformat_minor": 2
}
