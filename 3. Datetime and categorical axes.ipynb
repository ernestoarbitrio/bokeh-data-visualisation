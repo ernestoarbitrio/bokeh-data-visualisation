{
 "cells": [
  {
   "cell_type": "markdown",
   "metadata": {},
   "source": [
    "## Deal with datetime and categorical axes"
   ]
  },
  {
   "cell_type": "markdown",
   "metadata": {},
   "source": [
    "### Datetime axes\n",
    "Dealing with date and time series is another common task. Bokeh has a sophisticated `DatetimeAxis` that can change the displayed ticks based on the current scale of the plot. There are some inputs for which Bokeh will automatically default to DatetimeAxis, but you can always explicitly ask for one by passing the value \"datetime\" to the `x_axis_type` or `y_axis_type` parameters to `figure()`. A few things of interest to look out for in this example:\n",
    "\n",
    "- setting the width and height arguments to figure()\n",
    "- customizing plots and other objects by assigning values to their attributes\n",
    "- accessing guides and annotations with convenience Figure attributes: `legend, grid, xgrid, ygrid, axis, xaxis, yaxis`"
   ]
  },
  {
   "cell_type": "code",
   "execution_count": 11,
   "metadata": {},
   "outputs": [],
   "source": [
    "import bokeh\n",
    "# bokeh.sampledata.download() download the sample data"
   ]
  },
  {
   "cell_type": "code",
   "execution_count": 12,
   "metadata": {},
   "outputs": [
    {
     "data": {
      "text/html": [
       "\n",
       "    <div class=\"bk-root\">\n",
       "        <a href=\"https://bokeh.pydata.org\" target=\"_blank\" class=\"bk-logo bk-logo-small bk-logo-notebook\"></a>\n",
       "        <span id=\"d678e388-e96d-4e90-a811-6fbdfc959bcd\">Loading BokehJS ...</span>\n",
       "    </div>"
      ]
     },
     "metadata": {},
     "output_type": "display_data"
    },
    {
     "data": {
      "application/javascript": [
       "\n",
       "(function(root) {\n",
       "  function now() {\n",
       "    return new Date();\n",
       "  }\n",
       "\n",
       "  var force = true;\n",
       "\n",
       "  if (typeof (root._bokeh_onload_callbacks) === \"undefined\" || force === true) {\n",
       "    root._bokeh_onload_callbacks = [];\n",
       "    root._bokeh_is_loading = undefined;\n",
       "  }\n",
       "\n",
       "  var JS_MIME_TYPE = 'application/javascript';\n",
       "  var HTML_MIME_TYPE = 'text/html';\n",
       "  var EXEC_MIME_TYPE = 'application/vnd.bokehjs_exec.v0+json';\n",
       "  var CLASS_NAME = 'output_bokeh rendered_html';\n",
       "\n",
       "  /**\n",
       "   * Render data to the DOM node\n",
       "   */\n",
       "  function render(props, node) {\n",
       "    var script = document.createElement(\"script\");\n",
       "    node.appendChild(script);\n",
       "  }\n",
       "\n",
       "  /**\n",
       "   * Handle when an output is cleared or removed\n",
       "   */\n",
       "  function handleClearOutput(event, handle) {\n",
       "    var cell = handle.cell;\n",
       "\n",
       "    var id = cell.output_area._bokeh_element_id;\n",
       "    var server_id = cell.output_area._bokeh_server_id;\n",
       "    // Clean up Bokeh references\n",
       "    if (id != null && id in Bokeh.index) {\n",
       "      Bokeh.index[id].model.document.clear();\n",
       "      delete Bokeh.index[id];\n",
       "    }\n",
       "\n",
       "    if (server_id !== undefined) {\n",
       "      // Clean up Bokeh references\n",
       "      var cmd = \"from bokeh.io.state import curstate; print(curstate().uuid_to_server['\" + server_id + \"'].get_sessions()[0].document.roots[0]._id)\";\n",
       "      cell.notebook.kernel.execute(cmd, {\n",
       "        iopub: {\n",
       "          output: function(msg) {\n",
       "            var id = msg.content.text.trim();\n",
       "            if (id in Bokeh.index) {\n",
       "              Bokeh.index[id].model.document.clear();\n",
       "              delete Bokeh.index[id];\n",
       "            }\n",
       "          }\n",
       "        }\n",
       "      });\n",
       "      // Destroy server and session\n",
       "      var cmd = \"import bokeh.io.notebook as ion; ion.destroy_server('\" + server_id + \"')\";\n",
       "      cell.notebook.kernel.execute(cmd);\n",
       "    }\n",
       "  }\n",
       "\n",
       "  /**\n",
       "   * Handle when a new output is added\n",
       "   */\n",
       "  function handleAddOutput(event, handle) {\n",
       "    var output_area = handle.output_area;\n",
       "    var output = handle.output;\n",
       "\n",
       "    // limit handleAddOutput to display_data with EXEC_MIME_TYPE content only\n",
       "    if ((output.output_type != \"display_data\") || (!output.data.hasOwnProperty(EXEC_MIME_TYPE))) {\n",
       "      return\n",
       "    }\n",
       "\n",
       "    var toinsert = output_area.element.find(\".\" + CLASS_NAME.split(' ')[0]);\n",
       "\n",
       "    if (output.metadata[EXEC_MIME_TYPE][\"id\"] !== undefined) {\n",
       "      toinsert[toinsert.length - 1].firstChild.textContent = output.data[JS_MIME_TYPE];\n",
       "      // store reference to embed id on output_area\n",
       "      output_area._bokeh_element_id = output.metadata[EXEC_MIME_TYPE][\"id\"];\n",
       "    }\n",
       "    if (output.metadata[EXEC_MIME_TYPE][\"server_id\"] !== undefined) {\n",
       "      var bk_div = document.createElement(\"div\");\n",
       "      bk_div.innerHTML = output.data[HTML_MIME_TYPE];\n",
       "      var script_attrs = bk_div.children[0].attributes;\n",
       "      for (var i = 0; i < script_attrs.length; i++) {\n",
       "        toinsert[toinsert.length - 1].firstChild.setAttribute(script_attrs[i].name, script_attrs[i].value);\n",
       "      }\n",
       "      // store reference to server id on output_area\n",
       "      output_area._bokeh_server_id = output.metadata[EXEC_MIME_TYPE][\"server_id\"];\n",
       "    }\n",
       "  }\n",
       "\n",
       "  function register_renderer(events, OutputArea) {\n",
       "\n",
       "    function append_mime(data, metadata, element) {\n",
       "      // create a DOM node to render to\n",
       "      var toinsert = this.create_output_subarea(\n",
       "        metadata,\n",
       "        CLASS_NAME,\n",
       "        EXEC_MIME_TYPE\n",
       "      );\n",
       "      this.keyboard_manager.register_events(toinsert);\n",
       "      // Render to node\n",
       "      var props = {data: data, metadata: metadata[EXEC_MIME_TYPE]};\n",
       "      render(props, toinsert[toinsert.length - 1]);\n",
       "      element.append(toinsert);\n",
       "      return toinsert\n",
       "    }\n",
       "\n",
       "    /* Handle when an output is cleared or removed */\n",
       "    events.on('clear_output.CodeCell', handleClearOutput);\n",
       "    events.on('delete.Cell', handleClearOutput);\n",
       "\n",
       "    /* Handle when a new output is added */\n",
       "    events.on('output_added.OutputArea', handleAddOutput);\n",
       "\n",
       "    /**\n",
       "     * Register the mime type and append_mime function with output_area\n",
       "     */\n",
       "    OutputArea.prototype.register_mime_type(EXEC_MIME_TYPE, append_mime, {\n",
       "      /* Is output safe? */\n",
       "      safe: true,\n",
       "      /* Index of renderer in `output_area.display_order` */\n",
       "      index: 0\n",
       "    });\n",
       "  }\n",
       "\n",
       "  // register the mime type if in Jupyter Notebook environment and previously unregistered\n",
       "  if (root.Jupyter !== undefined) {\n",
       "    var events = require('base/js/events');\n",
       "    var OutputArea = require('notebook/js/outputarea').OutputArea;\n",
       "\n",
       "    if (OutputArea.prototype.mime_types().indexOf(EXEC_MIME_TYPE) == -1) {\n",
       "      register_renderer(events, OutputArea);\n",
       "    }\n",
       "  }\n",
       "\n",
       "  \n",
       "  if (typeof (root._bokeh_timeout) === \"undefined\" || force === true) {\n",
       "    root._bokeh_timeout = Date.now() + 5000;\n",
       "    root._bokeh_failed_load = false;\n",
       "  }\n",
       "\n",
       "  var NB_LOAD_WARNING = {'data': {'text/html':\n",
       "     \"<div style='background-color: #fdd'>\\n\"+\n",
       "     \"<p>\\n\"+\n",
       "     \"BokehJS does not appear to have successfully loaded. If loading BokehJS from CDN, this \\n\"+\n",
       "     \"may be due to a slow or bad network connection. Possible fixes:\\n\"+\n",
       "     \"</p>\\n\"+\n",
       "     \"<ul>\\n\"+\n",
       "     \"<li>re-rerun `output_notebook()` to attempt to load from CDN again, or</li>\\n\"+\n",
       "     \"<li>use INLINE resources instead, as so:</li>\\n\"+\n",
       "     \"</ul>\\n\"+\n",
       "     \"<code>\\n\"+\n",
       "     \"from bokeh.resources import INLINE\\n\"+\n",
       "     \"output_notebook(resources=INLINE)\\n\"+\n",
       "     \"</code>\\n\"+\n",
       "     \"</div>\"}};\n",
       "\n",
       "  function display_loaded() {\n",
       "    var el = document.getElementById(\"d678e388-e96d-4e90-a811-6fbdfc959bcd\");\n",
       "    if (el != null) {\n",
       "      el.textContent = \"BokehJS is loading...\";\n",
       "    }\n",
       "    if (root.Bokeh !== undefined) {\n",
       "      if (el != null) {\n",
       "        el.textContent = \"BokehJS \" + root.Bokeh.version + \" successfully loaded.\";\n",
       "      }\n",
       "    } else if (Date.now() < root._bokeh_timeout) {\n",
       "      setTimeout(display_loaded, 100)\n",
       "    }\n",
       "  }\n",
       "\n",
       "\n",
       "  function run_callbacks() {\n",
       "    try {\n",
       "      root._bokeh_onload_callbacks.forEach(function(callback) { callback() });\n",
       "    }\n",
       "    finally {\n",
       "      delete root._bokeh_onload_callbacks\n",
       "    }\n",
       "    console.info(\"Bokeh: all callbacks have finished\");\n",
       "  }\n",
       "\n",
       "  function load_libs(js_urls, callback) {\n",
       "    root._bokeh_onload_callbacks.push(callback);\n",
       "    if (root._bokeh_is_loading > 0) {\n",
       "      console.log(\"Bokeh: BokehJS is being loaded, scheduling callback at\", now());\n",
       "      return null;\n",
       "    }\n",
       "    if (js_urls == null || js_urls.length === 0) {\n",
       "      run_callbacks();\n",
       "      return null;\n",
       "    }\n",
       "    console.log(\"Bokeh: BokehJS not loaded, scheduling load and callback at\", now());\n",
       "    root._bokeh_is_loading = js_urls.length;\n",
       "    for (var i = 0; i < js_urls.length; i++) {\n",
       "      var url = js_urls[i];\n",
       "      var s = document.createElement('script');\n",
       "      s.src = url;\n",
       "      s.async = false;\n",
       "      s.onreadystatechange = s.onload = function() {\n",
       "        root._bokeh_is_loading--;\n",
       "        if (root._bokeh_is_loading === 0) {\n",
       "          console.log(\"Bokeh: all BokehJS libraries loaded\");\n",
       "          run_callbacks()\n",
       "        }\n",
       "      };\n",
       "      s.onerror = function() {\n",
       "        console.warn(\"failed to load library \" + url);\n",
       "      };\n",
       "      console.log(\"Bokeh: injecting script tag for BokehJS library: \", url);\n",
       "      document.getElementsByTagName(\"head\")[0].appendChild(s);\n",
       "    }\n",
       "  };var element = document.getElementById(\"d678e388-e96d-4e90-a811-6fbdfc959bcd\");\n",
       "  if (element == null) {\n",
       "    console.log(\"Bokeh: ERROR: autoload.js configured with elementid 'd678e388-e96d-4e90-a811-6fbdfc959bcd' but no matching script tag was found. \")\n",
       "    return false;\n",
       "  }\n",
       "\n",
       "  var js_urls = [\"https://cdn.pydata.org/bokeh/release/bokeh-0.13.0.min.js\", \"https://cdn.pydata.org/bokeh/release/bokeh-widgets-0.13.0.min.js\", \"https://cdn.pydata.org/bokeh/release/bokeh-tables-0.13.0.min.js\", \"https://cdn.pydata.org/bokeh/release/bokeh-gl-0.13.0.min.js\"];\n",
       "\n",
       "  var inline_js = [\n",
       "    function(Bokeh) {\n",
       "      Bokeh.set_log_level(\"info\");\n",
       "    },\n",
       "    \n",
       "    function(Bokeh) {\n",
       "      \n",
       "    },\n",
       "    function(Bokeh) {\n",
       "      console.log(\"Bokeh: injecting CSS: https://cdn.pydata.org/bokeh/release/bokeh-0.13.0.min.css\");\n",
       "      Bokeh.embed.inject_css(\"https://cdn.pydata.org/bokeh/release/bokeh-0.13.0.min.css\");\n",
       "      console.log(\"Bokeh: injecting CSS: https://cdn.pydata.org/bokeh/release/bokeh-widgets-0.13.0.min.css\");\n",
       "      Bokeh.embed.inject_css(\"https://cdn.pydata.org/bokeh/release/bokeh-widgets-0.13.0.min.css\");\n",
       "      console.log(\"Bokeh: injecting CSS: https://cdn.pydata.org/bokeh/release/bokeh-tables-0.13.0.min.css\");\n",
       "      Bokeh.embed.inject_css(\"https://cdn.pydata.org/bokeh/release/bokeh-tables-0.13.0.min.css\");\n",
       "    }\n",
       "  ];\n",
       "\n",
       "  function run_inline_js() {\n",
       "    \n",
       "    if ((root.Bokeh !== undefined) || (force === true)) {\n",
       "      for (var i = 0; i < inline_js.length; i++) {\n",
       "        inline_js[i].call(root, root.Bokeh);\n",
       "      }if (force === true) {\n",
       "        display_loaded();\n",
       "      }} else if (Date.now() < root._bokeh_timeout) {\n",
       "      setTimeout(run_inline_js, 100);\n",
       "    } else if (!root._bokeh_failed_load) {\n",
       "      console.log(\"Bokeh: BokehJS failed to load within specified timeout.\");\n",
       "      root._bokeh_failed_load = true;\n",
       "    } else if (force !== true) {\n",
       "      var cell = $(document.getElementById(\"d678e388-e96d-4e90-a811-6fbdfc959bcd\")).parents('.cell').data().cell;\n",
       "      cell.output_area.append_execute_result(NB_LOAD_WARNING)\n",
       "    }\n",
       "\n",
       "  }\n",
       "\n",
       "  if (root._bokeh_is_loading === 0) {\n",
       "    console.log(\"Bokeh: BokehJS loaded, going straight to plotting\");\n",
       "    run_inline_js();\n",
       "  } else {\n",
       "    load_libs(js_urls, function() {\n",
       "      console.log(\"Bokeh: BokehJS plotting callback run at\", now());\n",
       "      run_inline_js();\n",
       "    });\n",
       "  }\n",
       "}(window));"
      ],
      "application/vnd.bokehjs_load.v0+json": "\n(function(root) {\n  function now() {\n    return new Date();\n  }\n\n  var force = true;\n\n  if (typeof (root._bokeh_onload_callbacks) === \"undefined\" || force === true) {\n    root._bokeh_onload_callbacks = [];\n    root._bokeh_is_loading = undefined;\n  }\n\n  \n\n  \n  if (typeof (root._bokeh_timeout) === \"undefined\" || force === true) {\n    root._bokeh_timeout = Date.now() + 5000;\n    root._bokeh_failed_load = false;\n  }\n\n  var NB_LOAD_WARNING = {'data': {'text/html':\n     \"<div style='background-color: #fdd'>\\n\"+\n     \"<p>\\n\"+\n     \"BokehJS does not appear to have successfully loaded. If loading BokehJS from CDN, this \\n\"+\n     \"may be due to a slow or bad network connection. Possible fixes:\\n\"+\n     \"</p>\\n\"+\n     \"<ul>\\n\"+\n     \"<li>re-rerun `output_notebook()` to attempt to load from CDN again, or</li>\\n\"+\n     \"<li>use INLINE resources instead, as so:</li>\\n\"+\n     \"</ul>\\n\"+\n     \"<code>\\n\"+\n     \"from bokeh.resources import INLINE\\n\"+\n     \"output_notebook(resources=INLINE)\\n\"+\n     \"</code>\\n\"+\n     \"</div>\"}};\n\n  function display_loaded() {\n    var el = document.getElementById(\"d678e388-e96d-4e90-a811-6fbdfc959bcd\");\n    if (el != null) {\n      el.textContent = \"BokehJS is loading...\";\n    }\n    if (root.Bokeh !== undefined) {\n      if (el != null) {\n        el.textContent = \"BokehJS \" + root.Bokeh.version + \" successfully loaded.\";\n      }\n    } else if (Date.now() < root._bokeh_timeout) {\n      setTimeout(display_loaded, 100)\n    }\n  }\n\n\n  function run_callbacks() {\n    try {\n      root._bokeh_onload_callbacks.forEach(function(callback) { callback() });\n    }\n    finally {\n      delete root._bokeh_onload_callbacks\n    }\n    console.info(\"Bokeh: all callbacks have finished\");\n  }\n\n  function load_libs(js_urls, callback) {\n    root._bokeh_onload_callbacks.push(callback);\n    if (root._bokeh_is_loading > 0) {\n      console.log(\"Bokeh: BokehJS is being loaded, scheduling callback at\", now());\n      return null;\n    }\n    if (js_urls == null || js_urls.length === 0) {\n      run_callbacks();\n      return null;\n    }\n    console.log(\"Bokeh: BokehJS not loaded, scheduling load and callback at\", now());\n    root._bokeh_is_loading = js_urls.length;\n    for (var i = 0; i < js_urls.length; i++) {\n      var url = js_urls[i];\n      var s = document.createElement('script');\n      s.src = url;\n      s.async = false;\n      s.onreadystatechange = s.onload = function() {\n        root._bokeh_is_loading--;\n        if (root._bokeh_is_loading === 0) {\n          console.log(\"Bokeh: all BokehJS libraries loaded\");\n          run_callbacks()\n        }\n      };\n      s.onerror = function() {\n        console.warn(\"failed to load library \" + url);\n      };\n      console.log(\"Bokeh: injecting script tag for BokehJS library: \", url);\n      document.getElementsByTagName(\"head\")[0].appendChild(s);\n    }\n  };var element = document.getElementById(\"d678e388-e96d-4e90-a811-6fbdfc959bcd\");\n  if (element == null) {\n    console.log(\"Bokeh: ERROR: autoload.js configured with elementid 'd678e388-e96d-4e90-a811-6fbdfc959bcd' but no matching script tag was found. \")\n    return false;\n  }\n\n  var js_urls = [\"https://cdn.pydata.org/bokeh/release/bokeh-0.13.0.min.js\", \"https://cdn.pydata.org/bokeh/release/bokeh-widgets-0.13.0.min.js\", \"https://cdn.pydata.org/bokeh/release/bokeh-tables-0.13.0.min.js\", \"https://cdn.pydata.org/bokeh/release/bokeh-gl-0.13.0.min.js\"];\n\n  var inline_js = [\n    function(Bokeh) {\n      Bokeh.set_log_level(\"info\");\n    },\n    \n    function(Bokeh) {\n      \n    },\n    function(Bokeh) {\n      console.log(\"Bokeh: injecting CSS: https://cdn.pydata.org/bokeh/release/bokeh-0.13.0.min.css\");\n      Bokeh.embed.inject_css(\"https://cdn.pydata.org/bokeh/release/bokeh-0.13.0.min.css\");\n      console.log(\"Bokeh: injecting CSS: https://cdn.pydata.org/bokeh/release/bokeh-widgets-0.13.0.min.css\");\n      Bokeh.embed.inject_css(\"https://cdn.pydata.org/bokeh/release/bokeh-widgets-0.13.0.min.css\");\n      console.log(\"Bokeh: injecting CSS: https://cdn.pydata.org/bokeh/release/bokeh-tables-0.13.0.min.css\");\n      Bokeh.embed.inject_css(\"https://cdn.pydata.org/bokeh/release/bokeh-tables-0.13.0.min.css\");\n    }\n  ];\n\n  function run_inline_js() {\n    \n    if ((root.Bokeh !== undefined) || (force === true)) {\n      for (var i = 0; i < inline_js.length; i++) {\n        inline_js[i].call(root, root.Bokeh);\n      }if (force === true) {\n        display_loaded();\n      }} else if (Date.now() < root._bokeh_timeout) {\n      setTimeout(run_inline_js, 100);\n    } else if (!root._bokeh_failed_load) {\n      console.log(\"Bokeh: BokehJS failed to load within specified timeout.\");\n      root._bokeh_failed_load = true;\n    } else if (force !== true) {\n      var cell = $(document.getElementById(\"d678e388-e96d-4e90-a811-6fbdfc959bcd\")).parents('.cell').data().cell;\n      cell.output_area.append_execute_result(NB_LOAD_WARNING)\n    }\n\n  }\n\n  if (root._bokeh_is_loading === 0) {\n    console.log(\"Bokeh: BokehJS loaded, going straight to plotting\");\n    run_inline_js();\n  } else {\n    load_libs(js_urls, function() {\n      console.log(\"Bokeh: BokehJS plotting callback run at\", now());\n      run_inline_js();\n    });\n  }\n}(window));"
     },
     "metadata": {},
     "output_type": "display_data"
    }
   ],
   "source": [
    "from bokeh.sampledata.stocks import AAPL\n",
    "import numpy as np\n",
    "from bokeh.plotting import figure, output_notebook, show\n",
    "output_notebook()"
   ]
  },
  {
   "cell_type": "code",
   "execution_count": 13,
   "metadata": {},
   "outputs": [
    {
     "data": {
      "text/html": [
       "\n",
       "\n",
       "\n",
       "\n",
       "\n",
       "\n",
       "  <div class=\"bk-root\" id=\"ad4ed2a5-5375-4d82-b9af-e88b128a5bde\"></div>\n"
      ]
     },
     "metadata": {},
     "output_type": "display_data"
    },
    {
     "data": {
      "application/javascript": [
       "(function(root) {\n",
       "  function embed_document(root) {\n",
       "    \n",
       "  var docs_json = {\"88819390-8a7e-474e-9d9c-07e6cfcdb2b3\":{\"roots\":{\"references\":[{\"attributes\":{\"overlay\":{\"id\":\"b34de3af-dfa5-4444-9d2b-bcc5e795907c\",\"type\":\"BoxAnnotation\"}},\"id\":\"d2043feb-6295-4776-acae-b6b0621c48b9\",\"type\":\"BoxZoomTool\"},{\"attributes\":{\"bottom_units\":\"screen\",\"fill_alpha\":{\"value\":0.5},\"fill_color\":{\"value\":\"lightgrey\"},\"left_units\":\"screen\",\"level\":\"overlay\",\"line_alpha\":{\"value\":1.0},\"line_color\":{\"value\":\"black\"},\"line_dash\":[4,4],\"line_width\":{\"value\":2},\"plot\":null,\"render_mode\":\"css\",\"right_units\":\"screen\",\"top_units\":\"screen\"},\"id\":\"b34de3af-dfa5-4444-9d2b-bcc5e795907c\",\"type\":\"BoxAnnotation\"},{\"attributes\":{},\"id\":\"2aa99024-2020-4b7e-b03b-4c9dd6d16061\",\"type\":\"SaveTool\"},{\"attributes\":{\"fill_alpha\":{\"value\":0.2},\"fill_color\":{\"value\":\"darkgrey\"},\"line_alpha\":{\"value\":0.2},\"line_color\":{\"value\":\"darkgrey\"},\"x\":{\"field\":\"x\"},\"y\":{\"field\":\"y\"}},\"id\":\"b15aad1c-a7bc-4b21-baff-0de167929b2b\",\"type\":\"Circle\"},{\"attributes\":{},\"id\":\"67692d35-eac6-417f-b32b-b085bd81c5f2\",\"type\":\"HelpTool\"},{\"attributes\":{},\"id\":\"81891d8b-b1a6-4ce1-a0e1-bcb45249b374\",\"type\":\"BasicTicker\"},{\"attributes\":{\"base\":60,\"mantissas\":[1,2,5,10,15,20,30],\"max_interval\":1800000.0,\"min_interval\":1000.0,\"num_minor_ticks\":0},\"id\":\"5aea69dd-81c4-4102-b066-70cdf3160fe4\",\"type\":\"AdaptiveTicker\"},{\"attributes\":{},\"id\":\"afa30513-290a-43f6-be46-c96dbac098c7\",\"type\":\"DatetimeTickFormatter\"},{\"attributes\":{\"callback\":null,\"data\":{\"x\":{\"__ndarray__\":\"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\",\"dtype\":\"float64\",\"shape\":[3270]},\"y\":{\"__ndarray__\":\"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\",\"dtype\":\"float64\",\"shape\":[3270]}},\"selected\":{\"id\":\"062f9714-b84d-493b-9847-d82b475c3a84\",\"type\":\"Selection\"},\"selection_policy\":{\"id\":\"d70a0614-3f86-4440-baeb-c3f475b1294f\",\"type\":\"UnionRenderers\"}},\"id\":\"9731cbc9-dd55-4f2a-93f9-6a94b4319907\",\"type\":\"ColumnDataSource\"},{\"attributes\":{},\"id\":\"9103e783-ebe8-4191-9cb6-d6a3b68052c8\",\"type\":\"ResetTool\"},{\"attributes\":{\"callback\":null},\"id\":\"2f63ecff-411c-4ade-ab0a-372e838dcc95\",\"type\":\"DataRange1d\"},{\"attributes\":{},\"id\":\"062f9714-b84d-493b-9847-d82b475c3a84\",\"type\":\"Selection\"},{\"attributes\":{\"mantissas\":[1,2,5],\"max_interval\":500.0,\"num_minor_ticks\":0},\"id\":\"3e24b575-5d53-44b7-b49d-b61957fec110\",\"type\":\"AdaptiveTicker\"},{\"attributes\":{\"active_drag\":\"auto\",\"active_inspect\":\"auto\",\"active_multi\":null,\"active_scroll\":\"auto\",\"active_tap\":\"auto\",\"tools\":[{\"id\":\"80998788-ba5f-4343-b0fe-9ba2bd4efc3f\",\"type\":\"PanTool\"},{\"id\":\"a0bef874-2011-4fcb-941d-f645755f5b4e\",\"type\":\"WheelZoomTool\"},{\"id\":\"d2043feb-6295-4776-acae-b6b0621c48b9\",\"type\":\"BoxZoomTool\"},{\"id\":\"2aa99024-2020-4b7e-b03b-4c9dd6d16061\",\"type\":\"SaveTool\"},{\"id\":\"9103e783-ebe8-4191-9cb6-d6a3b68052c8\",\"type\":\"ResetTool\"},{\"id\":\"67692d35-eac6-417f-b32b-b085bd81c5f2\",\"type\":\"HelpTool\"}]},\"id\":\"754d117e-54ce-430d-bf9f-f2e888f7df59\",\"type\":\"Toolbar\"},{\"attributes\":{\"label\":{\"value\":\"close\"},\"renderers\":[{\"id\":\"15833aaa-9be6-4205-a1f0-ae38dba36f15\",\"type\":\"GlyphRenderer\"}]},\"id\":\"490db68c-1839-4a47-821f-0868df7033a1\",\"type\":\"LegendItem\"},{\"attributes\":{},\"id\":\"e6c35ef0-9df0-4ae0-bba2-922d2391a71f\",\"type\":\"BasicTickFormatter\"},{\"attributes\":{\"base\":24,\"mantissas\":[1,2,4,6,8,12],\"max_interval\":43200000.0,\"min_interval\":3600000.0,\"num_minor_ticks\":0},\"id\":\"6c37a153-90aa-475e-bc14-90d4746e86bf\",\"type\":\"AdaptiveTicker\"},{\"attributes\":{\"band_fill_alpha\":{\"value\":0.1},\"band_fill_color\":{\"value\":\"gray\"},\"dimension\":1,\"grid_line_alpha\":{\"value\":0},\"plot\":{\"id\":\"1024ac3a-646e-4e23-ad5a-f36c3d21df85\",\"subtype\":\"Figure\",\"type\":\"Plot\"},\"ticker\":{\"id\":\"81891d8b-b1a6-4ce1-a0e1-bcb45249b374\",\"type\":\"BasicTicker\"}},\"id\":\"5a639726-5de0-48fc-acc6-b46fcd646513\",\"type\":\"Grid\"},{\"attributes\":{\"source\":{\"id\":\"9731cbc9-dd55-4f2a-93f9-6a94b4319907\",\"type\":\"ColumnDataSource\"}},\"id\":\"6ba3f8dc-f900-45c9-b535-9c5106910da6\",\"type\":\"CDSView\"},{\"attributes\":{\"days\":[1,2,3,4,5,6,7,8,9,10,11,12,13,14,15,16,17,18,19,20,21,22,23,24,25,26,27,28,29,30,31]},\"id\":\"59e7c764-1d7d-48ad-82bc-bb81de09ddb1\",\"type\":\"DaysTicker\"},{\"attributes\":{\"days\":[1,4,7,10,13,16,19,22,25,28]},\"id\":\"09e8ccd3-0c48-4253-974e-969fcdb680a4\",\"type\":\"DaysTicker\"},{\"attributes\":{\"days\":[1,15]},\"id\":\"8bb6ed09-4b5a-44b0-8d3a-1c69a7d34770\",\"type\":\"DaysTicker\"},{\"attributes\":{\"months\":[0,1,2,3,4,5,6,7,8,9,10,11]},\"id\":\"db452650-9215-45d4-865f-6b0a744d9a8f\",\"type\":\"MonthsTicker\"},{\"attributes\":{\"plot\":null,\"text\":\"AAPL One-Month Average\"},\"id\":\"d42374c2-b8a6-4cf9-a17c-19e3aa99f535\",\"type\":\"Title\"},{\"attributes\":{\"line_alpha\":0.1,\"line_color\":\"#1f77b4\",\"x\":{\"field\":\"x\"},\"y\":{\"field\":\"y\"}},\"id\":\"1c60e434-a8fb-4246-9c1e-4628caf939cb\",\"type\":\"Line\"},{\"attributes\":{\"days\":[1,8,15,22]},\"id\":\"c8a7142b-584d-40b6-9c57-3e403ba7f827\",\"type\":\"DaysTicker\"},{\"attributes\":{\"months\":[0,2,4,6,8,10]},\"id\":\"e8e90468-b76b-4cf7-91d9-40c49499b4d7\",\"type\":\"MonthsTicker\"},{\"attributes\":{},\"id\":\"5aa1ff2b-efa4-4581-a755-030653049836\",\"type\":\"LinearScale\"},{\"attributes\":{\"months\":[0,4,8]},\"id\":\"065bf2d5-88c0-40a2-a77f-49ec9142986f\",\"type\":\"MonthsTicker\"},{\"attributes\":{},\"id\":\"c6eb7007-2d56-4300-aad5-b3243f06b807\",\"type\":\"YearsTicker\"},{\"attributes\":{\"data_source\":{\"id\":\"a06b8cfb-8595-41f5-ab53-3715fc64b4ac\",\"type\":\"ColumnDataSource\"},\"glyph\":{\"id\":\"a0062014-c779-4fdb-a296-8fa289541aa1\",\"type\":\"Line\"},\"hover_glyph\":null,\"muted_glyph\":null,\"nonselection_glyph\":{\"id\":\"1c60e434-a8fb-4246-9c1e-4628caf939cb\",\"type\":\"Line\"},\"selection_glyph\":null,\"view\":{\"id\":\"02caa5fa-a45c-4984-87af-3ae87a51a778\",\"type\":\"CDSView\"}},\"id\":\"8c7a9f59-3017-497a-a943-3386358cc411\",\"type\":\"GlyphRenderer\"},{\"attributes\":{\"fill_alpha\":{\"value\":0.1},\"fill_color\":{\"value\":\"#1f77b4\"},\"line_alpha\":{\"value\":0.1},\"line_color\":{\"value\":\"#1f77b4\"},\"x\":{\"field\":\"x\"},\"y\":{\"field\":\"y\"}},\"id\":\"fc9cd918-8ce1-4a56-a103-ce611b127830\",\"type\":\"Circle\"},{\"attributes\":{\"months\":[0,6]},\"id\":\"93f0e32d-c3e2-4544-844e-d38243048d51\",\"type\":\"MonthsTicker\"},{\"attributes\":{\"callback\":null,\"data\":{\"x\":{\"__ndarray__\":\"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\",\"dtype\":\"float64\",\"shape\":[3270]},\"y\":{\"__ndarray__\":\"UrgehesRLkBinqh/IzQwQNRNYhBYWTFADQIrhxZ5MkC1yHa+n5ozQBzotIFOuzRAVlVVVVXVNUAU9W+EMto2QIcW2c738zdAiIiIiIgIOUBwPQrXoxA6QL5Y8oslHztAdQXIveYiPEBNYhBYOTQ9QGQ730+NNz5Aj8L1KFwvP0DI6G1ZqwM/QKabxCCw8j5A6pjgwTzRPkAz7AqQe80+QOLsw2fY1T5Ac9pApw3UPkCUGARWDs0+QBDmifo3wj5AXgFyr7nQPkCGpCkVZ98+QGmR7Xw/9T5A7Xw/NV76PkAyelvW6vg+QIfPsCtA7j5AmCfq3wjFPkByaJHtfH8+QKtjggfzRD5Aj3vNhaQJPkB1Bci95sI9QLwta3VMcD1A1xUg95orPUCxVscEDwY9QNzd3d3dvTxA9lPjpZuEPED/KocW2U48QMIgsHJoETxAbz0K16PQO0BLqTj78Hk7QHRM8GCeKDtAGXYFyL3mOkD5xZJfLLk6QMZLN4lBgDpA5/up8dJNOkBUnH34DPs5QOEIZfS2rDlAxiCwcmhxOUDNWh0TPDg5QPoMuwLk/jhAnjbQaQO9OEDHkl8s+YU4QBSDwMqhRThAvALkXnMBOEDK6G1Zq8M3QJduEoPAijdAz/dT46VbN0A0MzMzMzM3QCZNqTj7EDdAMsGDeaL+NkCrqqqqqgo3QM/3U+OlGzdAxK4AudccN0ClKRVnHx43QCoVZx8+IzdAawOdNtApN0BlrY4JHiw3QCbq3whlNDdAO99PjZdON0AK16NwPWo3QLQ6JngwjzdAQWDl0CK7N0BEb8taHfM3QFBx9uEzLDhAgzJ6W9ZqOEDfwTxR/6Y4QDwK16Nw3ThAjsL1KFwPOUBzaJHtfD85QL8RyuhtWTlA4+zDZ9h1OUCOwvUoXI85QJJfLPnFkjlAX3MhaUqlOUA3iUFg5bA5QJMYBFYOzTlA4uzDZ9jVOUDsUbgehes5QEPSlIqz7zlAgk4b6LThOUA2XrpJDMI5QFodEzyYpzlABA/mifqXOUDUTWIQWHk5QDWl4uzDZzlAJQaBlUNLOUAQn2FXgDw5QGZmZmZmJjlAcvbhM+wKOUDe3d3d3f04QDYXkqZU/DhAV8cED+bpOEBiV4Dca844QGwuJE2puDhAAEcoo7elOEBqvHSTGKQ4QI2XbhKDoDhAcmiR7XyfOEBsWatjgqc4QLWs1THBwzhAp38jlNHbOEC8nxov3QQ5QNzd3d3dPTlAZR8+w65gOUAEyL3mQpI5QBRnHz7DrjlARLbz/dTYOUAaoYzelvU5QJiZmZmZGTpAuwLkXnNBOkBzaJHtfF86QDfQaQOdljpAnMQgsHLIOkCkcD0K1wM7QEWLbOf7KTtAeL6fGi89O0BXVVVVVVU7QG9Zq2OCZztAOYlBYOVwO0ABRyijt4U7QENg5dAiGztAvi1rdUywOkAd6LSBTjs6QAg6baDTxjlAHC/dJAZBOUA7JngwT7Q4QIpBYOXQIjhAiYiIiIiIN0AyCKwcWuQ2QI6XbhKDQDZArBxaZDufNUD+1HjpJvE0QKnGSzeJQTRA1jHBg3miM0Awlvxiye8yQCv5xZJfTDJAYVeA3GuuMUCA3GsuJA0xQN1rLiRNaTBAPCZ4ME+UL0B/+Ay7AmQuQM7MzMzMDC1AGZKmVJy9K0CVGARWDm0qQETSlIqzTylAsitA7jVXKECC3GsuJE0nQEdvy1odUyZAFdnO91NjJUABK4cW2U4kQIqzD59hFyRA7u7u7u7uI0Dd3d3d3d0jQDHBg3miviNAca+5kDSlI0Ausp3vp4YjQKP+jVBGbyNAku18PzVeI0CjRbbz/VQjQLc6JngwTyNANTMzMzMzI0BLDAIrhxYjQNA+fIZdASNAF9nO91PjIkCujgkezNMiQPxiyS+WvCJAelvW6pigIkChjN6WtXoiQBdLfrHkVyJALSRNqTg7IkCqHFpkOx8iQDHBg3mi/iFAWfKLJb/YIUBmZmZmZqYhQEiaUnH2YSFAYCz5xZIfIUBvEoPAyuEgQMI8Uf9GqCBAN9BpA512IED/jVBGb0sgQM2FpCkVJyBA9Las1TEBIEAOLbKd76cfQFZVVVVVVR9AEhERERERH0AhsHJoke0eQE4b6LSBzh5A2c73U+OlHkA6+/AZdoUeQPyp8dJNYh5AC0lTKs4+HkCmKRVnHz4eQAQP5on6Nx5AwvUoXI9CHkClKRVnHz4eQKwcWmQ7Xx5AiYiIiIiIHkDaQKcNdNoeQPW2rNUxQR9A0PdT46WbH0DRItv5fuofQBhLfrHkFyBAakrF2YdPIEBANV66SYwgQHL24TPsyiBAkTSl4uwDIUB7FK5H4TohQDhCGb0tayFA/0Yoo7elIUAw3SQGgdUhQCNpSsXZByJAx9mHz7ArIkBjnqh/I1QiQJ/vp8ZLdyJALc4+fIadIkBwy1odE7wiQGatjgkezCJAXI/C9SjcIkB7hl0Bcu8iQK9yaJHt/CJAQtKUirMPI0Bbj8L1KBwjQIbPsCtALiNAd3d3d3c3I0BI4XoUrkcjQEA1XrpJTCNA1AY6baBTI0CM3pa1OmYjQCz5xZJfbCNA7u7u7u5uI0Cx5BdLfnEjQI97zYWkaSNAF0t+seRXI0CmVJx9+EwjQLByaJHtPCNAl7U6JngwI0AKHswT9S8jQMfZh8+wKyNAGNnO91MjI0DSItv5fiojQIv6N0IZPSNAR2/LWh1TI0AhsHJokW0jQAY6baDThiNA7cNn2BWgI0BLxdmHz7AjQHmi/o1QxiNAb4QyelvWI0D1b4QyetsjQAaBlUOL7CNALSRNqTj7I0CPNKXi7AMkQCYxCKwcGiRAUP9GKKM3JEC8dJMYBFYkQMI8Uf9GaCRAnMQgsHJoJEAyMzMzM3MkQKXi7MNnmCRA4jPsCpC7JEDqJjEIrNwkQH4/NV66CSVAAnKvuZA0JUAZS36x5FclQMODeaL+jSVADklTKs6+JUATyuhtWeslQOUXS36xJCZAp1ScffhMJkCk/o1QRm8mQE7wYJ6ofyZA/huhjN6WJkDuw2fYFaAmQPX91HjppiZAt/P91HipJkDCyqFFtrMmQEKnDXTawCZAL2t1TPDgJkDD9ShcjwInQIBqvHSTGCdA2FxImlIxJ0BXxwQP5kknQK6OCR7MUydAhaQpFWdfJ0D7qfHSTWInQNUxwYN5YidAUEZvy1pdJ0DsCpB7zUUnQARWDi2yHSdA001iEFj5JkDe3d3d3d0mQOptWatjwiZAKlyPwvWoJkCoVJx9+IwmQHUhaUrFWSZAFmcfPsMuJkDQPnyGXQEmQH4/NV66ySVAWIDcay6kJUCd76fGS3clQELSlIqzTyVAUP9GKKM3JUARyuhtWSslQHKvuZA0JSVAFWcfPsMuJUDLE/VvhDIlQJpScfbhMyVAov6NUEYvJUC5kDSl4iwlQAgezBP1LyVAGARWDi0yJUBXDi2ynS8lQCW/WPKLJSVAugLkXnMhJUCGFtnO9xMlQMKuALnXHCVAdQXIveZCJUDrUbgehWslQKtjggfzhCVAagOdNtCpJUB1TPBgnqglQPyp8dJNoiVAFK5H4XqUJUASg8DKoYUlQPAZdgXIfSVAYFeA3GtuJUD3DLsC5F4lQLErQO41VyVAmG4Sg8BKJUDLoUW28z0lQAJyr7mQNCVAcq+5kDQlJUBANV66SQwlQPKLJb9Y8iRAcfbhM+zKJECuuZA0paIkQOXQItv5fiRAwBHK6G1ZJEARWDm0yDYkQIwlv1jyCyRArBxaZDvfI0Ct1THBg7kjQFjyiyW/mCNApZvEILByI0AXS36x5FcjQHPaQKcNNCNAFpKmVJz9IkCjt2WtjskiQDm0yHa+nyJA6bSBThtoIkBpSsXZh08iQPEZdgXIPSJAZfS2rNUxIkDOhaQpFSciQLC5kDSlIiJAEJ9hV4AcIkCeqH8jlBEiQB3ME/VvBCJATWIQWDn0IUCFpCkVZ98hQE4b6LSBziFAd+kmMQisIUDMzMzMzIwhQDfQaQOddiFAGUt+seRXIUBGtvP91DghQPVvhDJ6GyFAfrHkF0v+IEAua3VM8OAgQOhtWatjwiBAJL9Y8oulIEBNG+i0gY4gQFc5tMh2fiBAOt9PjZduIEAehetRuF4gQEVvy1odUyBAuddcSJpSIEDBg3mi/k0gQHmi/o1QRiBAUI2XbhJDIEBvy1odEzwgQD0K16NwPSBACKwcWmQ7IEBc1uqY4EEgQFk5tMh2PiBAiYiIiIhIIECm4uzDZ1ggQD1R/0YoYyBAm8QgsHJoIEANuwLkXnMgQCuHFtnOdyBA9+Ez7AqQIEBbHRM8mKcgQGOCB/NEvSBAH4XrUbjeIEDdJAaBlQMhQJHtfD81HiFARbbz/dQ4IUD5fmq8dFMhQJ7vp8ZLdyFA3t3d3d2dIUDiM+wKkLshQG3n+6nx0iFAzRP1b4TyIUAeWmQ73w8iQFwdEzyYJyJAID7DrgA5IkDJveZC0lQiQPw3Qhm9bSJAw/UoXI+CIkDSlIqzD58iQMYED+aJuiJAwyCwcmjRIkBFKKO3Ze0iQIEH80T9GyNAlEOLbOc7I0A+w64AuVcjQCuHFtnOdyNAAbnXXEiaI0DHBA/mibojQNejcD0K1yNAtFbHBA/mI0DEZ9gVIPcjQJTR27JWByRAy1odEzwYJEAH80T9GyEkQHXaQKcNNCRAMk/UvxFKJEBV46WbxGAkQMVn2BUgdyRATxvotIGOJECKQWDl0KIkQAc6baDTxiRAC5B7zYXkJEDhwTxR/wYlQHASg8DKISVAbS4kTak4JUBWnH34DDslQLFyaJHtPCVAzj58hl1BJUCU0duyVkclQL7mQtKUSiVA1HjpJjFIJUA7mCfq30glQLu7u7u7OyVAwMqhRbYzJUBR/0YoozclQGSCB/NEPSVAo7dlrY5JJUCl4uzDZ1glQJB7zYWkaSVA1XjpJjGIJUAdEzyYJ6olQHmi/o1QxiVASzeJQWDlJUCA3GsuJA0mQMXZh8+wKyZAarx0kxhEJkDmifo3QlkmQLHkF0t+cSZAHcwT9W+EJkCQ7Xw/NZ4mQClcj8L1qCZA6lG4HoWrJkCwuZA0paImQAqQe82FpCZAGui0gU6bJkAwCKwcWqQmQGDl0CLbuSZAakrF2YfPJkBvhDJ6W9YmQG+EMnpb1iZABoGVQ4vsJkDhM+wKkPsmQAU6baDTBidAvxHK6G0ZJ0C/nxov3SQnQEvF2YfPMCdAJ3gwT9Q/J0Czne+nxksnQGU730+NVydA20CnDXRaJ0A3F5KmVFwnQNKUirMPXydAjlBGb8taJ0BvhDJ6W1YnQGzn+6nxUidAEBERERFRJ0AlBoGVQ0snQDLBg3miPidATWIQWDk0J0AC5F5zISknQA0tsp3vJydA22suJE0pJ0Clm8QgsDInQM0+fIZdQSdANReSplRcJ0ARyuhtWWsnQPk3Qhm9bSdAz7ArQO51J0DBg3mi/o0nQEOLbOf7qSdA6t8IZfS2J0BPjZduEsMnQH5qvHST2CdApHA9CtfjJ0BP1L8RyugnQDSl4uzD5ydALWt1TPDgJ0AMAiuHFtknQLx0kxgE1idACtejcD3KJ0A1XrpJDMInQKQpFWcfvidA6t8IZfS2J0DgCGX0tqwnQGdmZmZmpidA2kCnDXSaJ0Af95oLSZMnQI9QRm/LmidAU+Olm8SgJ0Dd3d3d3Z0nQJqZmZmZmSdAZmZmZmamJ0BYq2OCB7MnQBuhjN6WtSdAKocW2c63J0DSTWIQWLknQHPaQKcNtCdA11xImlKxJ0CZUnH24bMnQFJx9uEzrCdAyuhtWaujJ0CjRbbz/ZQnQIXrUbgehSdA50LSlIpzJ0D9qfHSTWInQK6OCR7MUydAvEkMAitHJ0Bi5dAi2zknQBjZzvdTIydAJZTR27IWJ0CHXQFyr/kmQNijcD0K1yZAGQRWDi2yJkA7JngwT5QmQLu7u7u7eyZAzYWkKRVnJkCgjN6WtTomQFc5tMh2/iVAp8ZLN4nBJUCOwvUoXI8lQP0boYzeViVAsJ3vp8YLJUBH4XoUrsckQKO3Za2OiSRAR+F6FK5HJEDgwTxR/wYkQOHsw2fY1SNAgZVDi2ynI0B46SYxCGwjQI8JHswTNSNA8Rl2Bcj9IkApo7dlrc4iQNijcD0KlyJAupA0peJsIkB2Bci95kIiQG5Zq2OCByJAldHbslbHIUD/jVBGb4shQAhl9LasVSFA92+EMnobIUAxlvxiye8gQNqHz7ArwCBAokW28/2UIECFMnpb1mogQLQPn2FXQCBAP8OuALkXIEAfzBP1bwQgQMSuALnX3B9ASCijt2WtH0AFnTbQaYMfQHtb1uqYYB9As53vp8ZLH0Deay4kTSkfQJdDi2zn+x5Au9dcSJrSHkBqke18P7UeQH7NhaQplR5A5xdLfrFkHkB5Bci95kIeQMQ8Uf9GKB5AFq5H4XoUHkDWvxHK6O0dQIV5ov6N0B1ApXA9CtejHUBAfIZdAXIdQLC5kDSlYh1A3t3d3d1dHUDbQKcNdFodQLKd76fGSx1Asp3vp8ZLHUBVnH34DDsdQAisHFpkOx1Ab8taHRM8HUBKxdmHzzAdQLdlrY4JHh1A1xUg95oLHUAZL90kBgEdQIBOG+i0AR1Aj8L1KFwPHUCtjgkezBMdQD81XrpJDB1AhOtRuB4FHUCbffgMuwIdQK9yaJHt/BxAm334DLsCHUB5FK5H4focQFJx9uEz7BxAcIQyelvWHEClKRVnH74cQAjzRP0boRxAnX34DLuCHED8qfHSTWIcQFvW6pjgQRxAPVH/RigjHEB1kxgEVg4cQB7ME/VvBBxAzz58hl0BHECCThvotAEcQGKeqH8jFBxAL90kBoEVHEBgnqh/IxQcQPl+arx0ExxASAwCK4cWHEDoJjEIrBwcQD/uNReSJhxAfIZdAXIvHEBCREREREQcQCKU0duyVhxA4noUrkdhHEDYXEiaUnEcQFbHBA/miRxAiUFg5dCiHED4U+Olm8QcQB0TPJgn6hxA9+Ez7AoQHUAmv1jyiyUdQAUP5on6Nx1AdwXIveZCHUAKZfS2rFUdQG6g0wY6bR1AKKO3Za2OHUAUZx8+w64dQOf7qfHSzR1AmsQgsHLoHUCHiIiIiAgeQPk3Qhm9LR5ALbKd76dGHkCOUEZvy1oeQPcMuwLkXh5APnyGXQFyHkDvp8ZLN4keQLArQO41lx5ACPNE/RuhHkAmv1jyi6UeQAjzRP0boR5AJ79Y8oulHkACuddcSJoeQMm95kLSlB5AMN0kBoGVHkCJiIiIiIgeQA27AuRecx5AKDEIrBxaHkBwy1odEzweQC/dJAaBFR5AyuhtWavjHUCsY4IH88QdQBVnHz7Drh1AvALkXnOhHUD0RP0boYwdQA27AuRecx1AmwtJUypOHUAzMzMzMzMdQHKvuZA0JR1A0pSKsw8fHUDHveZC0hQdQJRDi2zn+xxAyehtWavjHECaC0lTKs4cQHYFyL3mwhxASsXZh8+wHEBuEoPAyqEcQC7dJAaBlRxA8kT9G6GMHEB9seQXS34cQCbq3whldBxArrmQNKViHEAKAiuHFlkcQIyXbhKDQBxAQ4ts5/spHEA4tMh2vh8cQCEiIiIiIhxA5on6N0IZHEBaZDvfTw0cQCijt2WtDhxAe82FpCkVHEAAuddcSBocQOaJ+jdCGRxA4uzDZ9gVHEB7zYWkKRUcQE6pOPvwGRxAhqQpFWcfHECKQWDl0CIcQKLTBjptIBxAQe41F5ImHEAmv1jyiyUcQFiA3GsuJBxAE8robVkrHEAt+cWSXywcQP/UeOkmMRxAyna+nxovHEDnQtKUijMcQIv6N0IZPRxAPQrXo3A9HECrY4IH80QcQAErhxbZThxAJzEIrBxaHEDGSzeJQWAcQGkDnTbQaRxA61G4HoVrHEBLN4lBYGUcQEiaUnH2YRxAaQOdNtBpHEDa+X5qvHQcQBP1b4QyehxAAAAAAACAHEBuWatjgoccQF4Bcq+5kBxAFa5H4XqUHEAYS36x5JccQDJ6W9bqmBxAtMh2vp+aHEAb6LSBTpscQJJfLPnFkhxAsw+fYVeAHEBIUyrOPnwcQMRn2BUgdxxAILByaJFtHEC18/3UeGkcQMZLN4lBYBxAQmDl0CJbHEBs5/up8VIcQLWBThvoNBxAPVH/RigjHEBD0pSKsw8cQEa28/3U+BtALmt1TPDgG0B9PzVeuskbQAmsHFpkuxtAl7U6JniwG0CkcD0K16MbQKdUnH34jBtAF5KmVJx9G0DUvxHK6G0bQC1rdUzwYBtA1qNwPQpXG0BpSsXZh08bQJSKsw+fYRtAL90kBoGVG0BiEFg5tMgbQGq8dJMYBBxAKhVnHz5DHEA5+/AZdoUcQIR5ov6N0BxA5on6N0IZHUDe3d3d3V0dQNnO91PjpR1AY8kvlvziHUCamZmZmRkeQFK4HoXrUR5Ae82FpCmVHkAilNHbstYeQLWBThvoNB9AT42XbhKDH0DpmODBPNEfQELSlIqzDyBAwMqhRbYzIEBwhDJ6W1YgQLgehetReCBAJzEIrByaIEBGtvP91LggQFVVVVVV1SBASsXZh8/wIEClVJx9+AwhQNAi2/l+KiFAkTSl4uxDIUDwYJ6of2MhQI4JHswTdSFAw/UoXI+CIUDcslbHBI8hQAwCK4cWmSFAhaQpFWefIUAH80T9G6EhQAyQe82FpCFArKqqqqqqIUCsqqqqqqohQLmQNKXirCFAjwkezBO1IUDOPnyGXcEhQIwlv1jyyyFAwBHK6G3ZIUCqqqqqquohQFirY4IH8yFA8Bl2Bcj9IUA/NV66SQwiQBCfYVeAHCJAYVeA3GsuIkDcJAaBlUMiQPcMuwLkXiJAq9UxwYN5IkCU/GLJL5YiQHV3d3d3tyJALd0kBoHVIkATZx8+w+4iQMCDeaL+DSNAxNmHz7ArI0DZh8+wK0AjQMQgsHJoUSNAlIqzD59hI0AVZx8+w24jQJngwTxRfyNAC9ejcD2KI0DGILByaJEjQKbi7MNnmCNAHOi0gU6bI0BkyS+W/KIjQMM8Uf9GqCNA2VxImlKxI0DEZ9gVILcjQJVDi2znuyNAJXgwT9S/I0C+WPKLJb8jQIiIiIiIyCNATak4+/DZI0DVMcGDeeIjQPeaC0lT6iNAg8DKoUX2I0C2rNUxwQMkQE4b6LSBDiRAnTbQaQMdJEBVDi2ynS8kQKjGSzeJQSRA30+Nl25SJEBiyS+W/GIkQJIYBFYObSRAkKZUnH14JED3U+Olm4QkQGM730+NlyRAwTxR/0aoJEABcq+5kLQkQKQpFWcfviRA80T9G6HMJEBaHRM8mOckQBaSplSc/SRAUrgehesRJUApXI/C9SglQF1ImlJxNiVAkqZUnH04JUBYObTIdj4lQLGd76fGSyVA27JWxwRPJUBr5/up8VIlQLQ6JngwTyVAjsL1KFxPJUBAYOXQIlslQBRnHz7DbiVAmeDBPFF/JUBqSsXZh48lQIMH80T9myVA0SLb+X6qJUBsLiRNqbglQNV46SYxyCVAs53vp8bLJUDn+6nx0s0lQHcwT9S/0SVApOLsw2fYJUB2vp8aL90lQFXjpZvE4CVA6iYxCKzcJUATPJgn6t8lQDlCGb0t6yVA4Ja1Oib4JUBg5dAi2/klQCPb+X5q/CVAYHMhaUoFJkDxp8ZLNwkmQIuzD59hFyZA+zdCGb0tJkDW6pjgwTwmQIJOG+i0QSZArwC511xIJkB9zYWkKVUmQAyQe82FZCZAsbmQNKViJkANAiuHFlkmQIJOG+i0QSZAoGFXgNwrJkDfT42XbhImQKk4+/AZ9iVA9W+EMnrbJUAIrBxaZLslQL8RyuhtmSVAxpJfLPmFJUA9CtejcH0lQHyGXQFybyVAA1YOLbJdJUDQaQOdNlAlQFc5tMh2PiVAimzn+6kxJUA4tMh2vh8lQGq8dJMYBCVAfIZdAXLvJEB2vp8aL90kQC6yne+nxiRASCijt2WtJEA8JngwT5QkQAmsHFpkeyRA0pSKsw9fJEAWIPeaC0kkQFH/RiijNyRAiM+wK0AuJEDgehSuRyEkQCKU0duyFiRAe82FpCkVJEDXo3A9ChckQGp1TPBgHiRAuZA0peIsJEBVnH34DDskQJwLSVMqTiRAelvW6phgJEDByqFFtnMkQPJE/RuhjCRApg102kCnJECUQ4ts57skQAY6baDTxiRAx73mQtLUJEBImlJx9uEkQJe1OiZ48CRAYeXQItv5JED/jVBGbwslQOF6FK5HISVAS8XZh88wJUB/seQXSz4lQEZvy1odUyVAgJVDi2xnJUDhM+wKkHslQMCDeaL+jSVAhaQpFWefJUDb+X5qvLQlQMzMzMzMzCVAXyz5xZLfJUBl9Las1fElQCJpSsXZByZAXI/C9SgcJkCQe82FpCkmQPnFkl8sOSZAEeaJ+jdCJkA5+/AZdkUmQJE0peLsQyZAFfVvhDI6JkC2gU4b6DQmQG+g0wY6LSZAWYDcay4kJkBvEoPAyiEmQOxRuB6FKyZAAXKvuZA0JkBYObTIdj4mQNMGOm2gUyZA0k1iEFh5JkDi7MNn2JUmQCuHFtnOtyZAt2WtjgneJkAdzBP1bwQnQLmQNKXiLCdAgdxrLiRNJ0D3mgtJU2onQEt+seQXiydAOUIZvS2rJ0AiaUrF2ccnQCQiIiIi4idABg/mifr3J0CoVJx9+AwoQELuNReSJihANl66SQxCKECFMnpb1mooQOBPjZdukihAZvS2rNWxKEDMWh0TPNgoQMP1KFyPAilAQhm9LWs1KUCJQWDl0GIpQNR46SYxiClAILByaJGtKUAcWmQ7388pQOi0gU4b6ClAcmiR7Xz/KUBScfbhMywqQA502kCnTSpAQmDl0CJbKkC38/3UeGkqQDzfT42XbipAfIZdAXJvKkB02kCnDXQqQJi1OiZ4cCpAAnKvuZB0KkCHXQFyr3kqQFg5tMh2fipAcmiR7Xx/KkDztqzVMYEqQAKdNtBpgypAJ6O3Za2OKkA8w64AuZcqQLt0kxgElipAQtKUirOPKkDJL5b8YokqQEREREREhCpAOPvwGXaFKkCE61G4HoUqQMmhRbbzfSpA5kLSlIpzKkDBPFH/RmgqQBXZzvdTYypAObTIdr5fKkBzIWlKxVkqQLJWxwQPZipAG6GM3pZ1KkBScfbhM2wqQIhBYOXQYipAxks3iUFgKkAdEzyYJ2oqQC+W/GLJbypA3pa1OiZ4KkB8PzVeuokqQAqQe82FpCpAS/Bgnqi/KkAW2c73U+MqQL5Y8osl/ypANKXi7MMnK0DRlIqzD18rQG+EMnpblitACtejcD3KK0Bg5dAi2/krQGJXgNxrLixAeOkmMQhsLEC4Za2OCZ4sQEZvy1od0yxAwFjyiyX/LEBScfbhMywtQHe+nxovXS1AYxBYObSILUDu7u7u7q4tQCtA7jUX0i1ASCijt2XtLUDS27JWxwQuQCtA7jUXEi5Ai7MPn2EXLkDtw2fYFSAuQOAIZfS2LC5Ae82FpClVLkCYtTomeHAuQJsLSVMqji5A0CLb+X6qLkCs1THBg7kuQPdT46WbxC5AYxBYObTILkCmVJx9+MwuQO3DZ9gV4C5AbaDTBjrtLkAs+cWSX+wuQHRM8GCe6C5ABFYOLbLdLkB7zYWkKdUuQEt+seQXyy5AKocW2c63LkDP91PjpZsuQJjgwTxRfy5Ane+nxkt3LkBcukkMAmsuQAoCK4cWWS5ApFScffhMLkC95kLSlEouQFbHBA/mSS5AoUW28/1ULkCZmZmZmVkuQOzDZ9gVYC5A4aWbxCBwLkAFOm2g04YuQMjobVmroy5APnyGXQGyLkC2rNUxwcMuQC7dJAaB1S5Am8QgsHLoLkDZFSD3mgsvQAWBlUOLLC9AKkDuNRdSL0B1d3d3d3cvQPDSTWIQmC9AAHKvuZC0L0COwvUoXM8vQPeaC0lT6i9ATDeJQWAFMEAcoYzelhUwQIiIiIiIKDBAoNMGOm1AMEDOPnyGXWEwQM4+fIZdgTBAPcOuALmXMECKbOf7qbEwQHSTGARWzjBAME/UvxHqMEDUeOkmMQgxQHRM8GCeKDFA/kYoo7dFMUAYdgXIvWYxQCBpSsXZhzFAC9ejcD2qMUCIz7ArQM4xQKK3Za2O6TFAp38jlNH7MUAz7AqQew0yQAxJUyrOHjJA7TUXkqY0MkDZQKcNdFoyQBbZzvdTgzJAne+nxku3MkBI4XoUrucyQPUoXI/CFTNAiIiIiIhIM0Cm4uzDZ3gzQEOLbOf7qTNA8Bl2BcjdM0Ai2/l+ahw0QKQpFWcfXjRAPQrXo3CdNEC0yHa+n9o0QGjYFSD3GjVAlNHbslZnNUAoo7dlra41QNijcD0K9zVAsXJoke08NkCa4ME8UX82QEmaUnH2wTZAL7Kd76cGN0AIgZVDi0w3QEzF2YfPkDdAsuQXS37RN0DiCGX0tgw4QLBH4XoUTjhAJU2pOPuQOECQwvUoXO84QCmjt2WtTjlA50LSlIqzOUDS27JWxwQ6QJA0peLsYzpAhhbZzvezOkCaxCCwcgg7QCpA7jUXUjtAoP6NUEaPO0DgM+wKkNs7QC0kTak4GzxAn4zelrVaPEDmQtKUipM8QNtrLiRNyTxAdb6fGi/9PEDeT42XbjI9QDtR/0YoYz1AP3yGXQGSPUADVg4tsr09QPkMuwLk3j1AJb9Y8osFPkDo+6nx0i0+QDomeDBPVD5AtYFOG+h0PkA0elvW6pg+QMFY8oslvz5A/fAZdgXoPkB+hl0Bcg8/QL0ta3VMMD9A8DUXkqZUP0CCThvotGE/QI/C9Shcbz9Avp8aL92EP0DEZ9gVIJc/QOHBPFH/hj9AodMGOm2AP0BQ1L8Ryog/QCrOPnyGnT9AMMGDeaK+P0BUDi2ync8/QNmyVscE7z9AUirOPnwGQEAKkHvNhRRAQH8jlNHbIkBAK0DuNRcyQEDWXEiaUkFAQAKdNtBpU0BAWPKLJb9oQECSXyz5xYJAQOLsw2fYpUBAPFH/RijDQEDVMcGDeeJAQLoC5F5zAUFAgcDKoUUmQUAUrkfhekRBQNhcSJpSYUFADbsC5F6DQUBbZDvfT61BQMUgsHJo4UFANKXi7MMXQkDelrU6JkhCQHqi/o1QdkJAWh0TPJiXQkBfLPnFkr9CQCEiIiIi8kJAbOf7qfEiQ0A+NV66SUxDQB/3mgtJc0NAM6Xi7MOXQ0BWgNxrLrRDQNIGOm2g00NAkl8s+cXyQ0DelrU6JghEQM+wK0DuFURAVlVVVVUlRED/RiijtzVEQOdC0pSKQ0RAwoN5ov5NRED88Bl2BVhEQCMiIiIiYkRAbef7qfFyREDlF0t+sYREQLnXXEiakkRAG+i0gU6bREDCPFH/RqhEQJb8YskvtkRAcvbhM+y6RECoVJx9+LxEQNYxwYN5skRA/tR46SahREA5+/AZdpVEQLQ6Jngwj0RA1L8RyuiNREDXFSD3motEQHZM8GCeiERAyqFFtvN9REDIveZC0nREQF1ImlJxZkRARIts5/tJRECj/o1QRi9EQLwC5F5zEURATqk4+/D5Q0CG61G4HuVDQGatjgke3ENAHhM8mCfKQ0AGgZVDi7xDQP+NUEZvq0NAN9BpA52WQ0C2OiZ4MH9DQC7dJAaBZUNA415zIWlKQ0ARyuhtWStDQKyOCR7ME0NA/Y1QRm/7QkARg8DKoeVCQDvfT42XzkJAkqZUnH24QkC0yHa+n5pCQBvotIFOe0JAUrgehethQkBx9uEz7EpCQCZ4ME/UL0JAtYFOG+gUQkCDB/NE/ftBQP2p8dJN4kFA1E1iEFjZQUCUGARWDs1BQCJpSsXZx0FAhMDKoUXWQUCVQ4ts5+tBQIr6N0IZ/UFA415zIWkKQkB4vp8aLx1CQJ+ofyOUIUJA2RUg95orQkB0IWlKxSlCQM7MzMzMLEJAm1Jx9uEzQkCaJ+rfCDVCQDEIrBxaNEJAw/UoXI8yQkBwhDJ6WzZCQGkDnTbQOUJAeVvW6phAQkAhIiIiIkJCQOsKkHvNRUJAMcGDeaJOQkBJUyrOPlxCQBvotIFOa0JAq2OCB/N0QkA/NV66SXxCQJa1OiZ4gEJAFK5H4XqEQkDipZvEIIBCQFG4HoXrgUJA8dJNYhB4QkByaJHtfG9CQALkXnMhaUJAmgtJUypeQkAKkHvNhVRCQCejt2WtTkJAgnmi/o1QQkAFOm2g01ZCQDkmeDBPZEJAGxM8mCd6QkBiO99PjZdCQEiaUnH2sUJAPzVeuknMQkAz7AqQe+1CQCCwcmiRDUNAHoXrUbguQ0DjXnMhaUpDQPAZdgXIXUNA0GkDnTZwQ0CU0duyVodDQCCwcmiRnUNAASuHFtmuQ0AcWmQ7379DQFeA3Gsu1ENA7cNn2BXwQ0Dmifo3QglEQDJ6W9bqKERAe4ZdAXJPREDn+6nx0n1EQOOlm8QgoERAbC4kTanIREDyRP0boexEQG/LWh0TDEVANheSplQsRUD+jVBGb0tFQBP1b4QyakVAxUs3iUGARUCUirMPn5FFQMnobVmro0VAgU4b6LSxRUCsHFpkO79FQOEz7AqQy0VA0tuyVsfURUC38/3UeOlFQGJXgNxr/kVAXkiaUnEWRkAdoYzeljVGQFnHBA/mWUZACqwcWmR7RkC0VscED5ZGQIxs5/upsUZAtYFOG+jURkCmVJx9+PxGQGEQWDm0KEdASn6x5BdLR0BXObTIdm5HQO01F5KmlEdA0duyVse0R0DpJjEIrMxHQF0Bcq+54EdAjN6WtTr2R0ABcq+5kBRIQLgehetROEhAID7DrgBZSECN3pa1OnZIQAMrhxbZjkhAAXKvuZCkSEArhxbZzrdIQE3wYJ6oz0hAjlBGb8vaSECoDXTaQPdIQIuzD59hF0lAVlVVVVU1SUDxYJ6of0NJQDXsCpB7XUlAGUt+seR3SUBOqTj78IlJQL0ta3VMoElAlvxiyS+2SUCrY4IH89RJQI0lv1jy60lAt/P91Hj5SUDCg3mi/g1KQB1aZDvfH0pAqvHSTWJASkCRe82FpGlKQLXIdr6fikpAfM2FpCmlSkABAAAAAMBKQDr78Bl25UpAHxM8mCcKS0BVnH34DCtLQOi0gU4bSEtA7FG4HoVrS0C4Za2OCZ5LQCoVZx8+00tAALnXXEgKTEAHOm2g00ZMQNHbslbHhExA+Ay7AuTOTEBVDi2ynQ9NQHpb1uqYUE1APArXo3CNTUCQ7Xw/Nc5NQBbZzvdTE05ANaXi7MNXTkCFMnpb1ppOQNUxwYN54k5AB4GVQ4ssT0AW2c73U3NPQGX0tqzVwU9AFtnO91MLUECFpCkVZy9QQC/dJAaBTVBA+Qy7AuRmUEAnMQisHHpQQJTR27JWj1BABA/mifqnUEBXgNxrLsRQQBUg95oL4VBA+6nx0k36UEDzRP0boRRRQPEZdgXILVFASsXZh89AUUCxK0DuNU9RQB7ME/VvZFFAOm2g0wZ6UUAhsHJokY1RQFrW6pjgoVFAI9v5fmq0UUA6JngwT8xRQGDl0CLb6VFA+n5qvHQLUkC4HoXrUTBSQOtRuB6FS1JAAw/mifpfUkDp3whl9G5SQDhCGb0tc1JAdgXIveZ6UkDq3whl9H5SQCijt2WtflJA2FxImlJ5UkAzMzMzM3NSQMQgsHJoeVJAtx6F61GAUkDkifo3QolSQJZuEoPAilJADuaJ+jeKUkBRRm/LWn1SQPzwGXYFcFJAPN9PjZdmUkASyuhtWVNSQHCEMnpbRlJArwC511w4UkBpSsXZhy9SQHTaQKcNJFJAcfbhM+waUkDfT42XbhJSQP6NUEZvA1JAlIqzD5/5UUAehetRuOZRQLOBThvozFFA3GsuJE2xUUDn+6nx0o1RQD0K16NwbVFAoIzelrVSUUAuJE2pODtRQHKvuZA0JVFAEoPAyqENUUDotIFOG/hQQIlBYOXQ4lBAHVpkO9/PUEChjN6WtcJQQJNfLPnFslBAb1mrY4KfUECcxCCwcohQQBsv3SQGeVBAYhBYObRoUEBbZDvfT11QQBsv3SQGUVBAzoWkKRU/UEDgCGX0tjRQQAaBlUOLJFBA6LSBThsYUECK+jdCGQ1QQJDC9Shc/09AC0lTKs7eT0DIdr6fGr9PQH2x5BdLnk9AY4IH80SNT0BCYOXQIotPQFeA3GsuhE9AveZC0pR6T0CRplScfXhPQDvfT42Xbk9Anqh/I5RhT0Av3SQGgVVPQH9qvHSTWE9A4uzDZ9hVT0DBg3mi/l1PQHsUrkfhak9AL90kBoF1T0BuWatjgndPQGjYFSD3ek9ABA/mifqHT0DqmODBPKFPQP5GKKO3tU9ASzeJQWDVT0BkrY4JHvxPQIZdAXKvEVBAOm2g0wYqUECNUEZvy0JQQKWbxCCwWlBAEcrobVlzUECAlUOLbH9QQIZdAXKviVBAUXH24TOUUEAVIPeaC5lQQKfGSzeJoVBA+cWSXyyZUEAuJE2pOItQQM+wK0DufVBA1THBg3lyUEBGtvP91GhQQJtScfbhY1BA6Pup8dJdUEBrdUzwYFZQQCA+w64ASVBAcyFpSsVBUEBHKKO3ZTVQQBFYObTIJlBABsi95kIaUEDWMcGDeQpQQIPAyqFF9k9ASVMqzj7MT0DlF0t+sZRPQNCwK0DuZU9AqX8jlNErT0BeukkMAvtOQKabxCCwwk5A/0Yoo7eFTkBg5dAi20lOQDMzMzMzE05AOfvwGXblTUAMSVMqzr5NQKyqqqqqmk1ATfBgnqhvTUDbQKcNdEpNQLQPn2FXME1ALIcW2c4XTUD+YskvlvxMQCQiIiIi4kxA8mCeqH/DTEDE9Shcj6JMQKFhV4Dce0xAVpx9+AxbTEBQ1L8RyjhMQJuZmZmZGUxAWMcED+bpS0AY2c73U8NLQNrO91PjpUtAO99PjZeOS0Ausp3vp5ZLQFQqzj58lktAakrF2YefS0CIFtnO97NLQGjYFSD3yktAY8kvlvziS0DX6pjgwfxLQBlLfrHkJ0xA11xImlJRTEAEVg4tsn1MQGp1TPBgrkxAuddcSJrSTEBMN4lBYPVMQEcoo7dlDU1A6t8IZfQmTUCuALnXXEhNQLGd76fGW01Ad3d3d3d3TUCXbhKDwJpNQME8Uf9GyE1A3GsuJE35TUBsoNMGOi1OQHa+nxovXU5AAiuHFtmOTkDufD81XspOQHH24TPsCk9Az7ArQO5VT0DC9Shcj5JPQHD24TPsyk9A46WbxCAAUECKsw+fYQ9QQKL+jVBGH1BAXI/C9Sg0UECmVJx9+ERQQHJoke18V1BA5F5zIWlqUEBZ8oslv3hQQNpApw10glBAHz7DrgCRUEA4+/AZdp1QQAY6baDTplBA5F5zIWmyUED78Bl2BcBQQPUoXI/C1VBA3whl9LbsUECmDXTaQP9QQK8AuddcGFFA4Ahl9LY0UUDPPnyGXUlRQGatjgkeXFFAVg4tsp1vUUC4Za2OCX5RQA502kCnjVFA9ihcj8KdUUBMN4lBYK1RQKuqqqqqulFA/RuhjN7GUUCYJ+rfCNVRQFirY4IH41FASFMqzj70UUBGb8taHQNSQIZdAXKvEVJAbVmrY4IXUkBEtvP91CBSQAhl9LasLVJAifo3Qhk9UkBH4XoUrk9SQP3UeOkmYVJAZh8+w65wUkDXXEiaUoFSQGZmZmZmjlJAjCW/WPKbUkBKfrHkF6tSQDIzMzMzs1JAVoDcay68UkC9WPKLJcdSQI7C9Shcz1JASzeJQWDVUkBRuB6F6+FSQNajcD0K71JAsp3vp8b7UkB8hl0Bcg9TQKk4+/AZJlNA7cNn2BU4U0BdSJpScU5TQEDuNReSZlNAv1jyiyV/U0Dh7MNn2J1TQOB6FK5HwVNAJAaBlUPjU0DIL5b8YgFUQP2NUEZvI1RANKXi7MNHVEAa6LSBTmtUQLmQNKXihFRAc9pApw2cVECl4uzDZ7BUQLrXXEiawlRAAUcoo7fNVED4mgtJU9pUQNQGOm2g61RAblmrY4L3VEDy0k1iEAhVQOdC0pSKG1VACWX0tqwtVUABcq+5kDxVQATIveZCSlVAT42XbhJTVUCCB/NE/VNVQJSKsw+fUVVAgsDKoUVOVUCl4uzDZ0hVQCV4ME/UP1VAtvP91HhBVUD+Riijtz1VQFVVVVVVPVVA6m1Zq2M6VUCcUnH24TNVQIBqvHSTOFVAwcqhRbZDVUBkEFg5tFBVQEsMAiuHVlVArdUxwYNhVUC0D59hV2hVQMbZh8+wY1VAiM+wK0BeVUCmVJx9+FRVQCPb+X5qTFVAwMqhRbZLVUBpSsXZh0dVQIN5ov6NQFVA46WbxCBAVUBCpw102jhVQF26SQwCM1VAyL3mQtIsVUAW2c73UytVQGFXgNxrJlVAes2FpCklVUCQNKXi7CtVQFaA3GsuNFVAJXgwT9Q3VUAKSVMqzj5VQBRnHz7DRlVAPcOuALlHVUCuuZA0pUpVQDF6W9bqSFVAqaqqqqpKVUDjXnMhaVJVQHTaQKcNTFVA2BUg95o7VUAUrkfheixVQHqi/o1QFlVAItv5fmr8VEBz2kCnDexUQBi9LWt15FRADi2yne/fVECEMnpb1uJUQNuyVscE51RAgU4b6LTpVEBecyFpSu1UQDrfT42X9lRAxNmHz7D7VECvcmiR7QRVQLmQNKXiDFVA6d8IZfQWVUBScfbhMyRVQKNwPQrXM1VA//////9HVUDVeOkmMVhVQIGVQ4tsZ1VAqMZLN4mBVUBzaJHtfJdVQPW2rNUxqVVAnX34DLu6VUChjN6WtcpVQJ020GkD3VVA/BuhjN7uVUDIL5b8YvlVQGWtjgkeBFZAFpKmVJwNVkCs1THBgxlWQPVvhDJ6K1ZAMjMzMzM7VkBtEoPAykFWQILAyqFFTlZAMcGDeaJWVkAuJE2pOFtWQI2XbhKDYFZAJ6O3Za1mVkAcEzyYJ3JWQP3UeOkmeVZAXyz5xZKHVkBSuB6F65lWQIWkKRVnr1ZA/GLJL5bEVkDZzvdT49VWQK8Auddc6FZA1L8Ryuj1VkBlrY4JHgRXQIFOG+i0GVdAyL3mQtIsV0ALkHvNhURXQHQhaUrFYVdAPZgn6t+AV0BfukkMAqNXQDCW/GLJv1dA5F5zIWnaV0BYxwQP5vlXQH4/NV66GVhANqXi7MM/WEAwlvxiyWdYQFfHBA/mkVhAwTxR/0a4WEBR1L8RyuhYQLUPn2FXGFlAHei0gU5TWUA5Qhm9LZNZQCe/WPKLzVlACIGVQ4sMWkAYIPeaC0laQOSlm8QgiFpAwcqhRbbDWkA0elvW6vhaQGrYFSD3IltACWX0tqxNW0BRjZduEnNbQPrFkl8smVtAexSuR+HCW0BkggfzRPVbQI3elrU6HlxAoNMGOm1AXEC7u7u7u2NcQE5iEFg5hFxAoNMGOm2gXEDwGXYFyLVcQN0kBoGV01xA3LJWxwTvXED+1HjpJgldQJe1OiZ4IF1ABQ/mifo/XUAiaUrF2WddQOOlm8QgkF1AO5gn6t+4XUA5tMh2vt9dQHe+nxovBV5AsHJoke0kXkCnDXTaQEdeQOSlm8QgcF5A+FPjpZuUXkDpJjEIrLReQDfQaQOd1l5AfIZdAXL/XkCY4ME8USdfQOf7qfHSRV9ARrbz/dRoX0CIFtnO96NfQPbhM+wK2F9A+zdCGb0BYEDuNReSpghgQKXi7MNnFGBAlUOLbOcjYEDelrU6JixgQL6fGi/dOGBAOm2g0wZGYEAyelvW6lRgQByhjN6WWWBAFPVvhDJeYEBcj8L1KGRgQNajcD0KZ2BA8GCeqH9fYECwK0DuNU9gQP1iyS+WRGBAWIDcay48YEAvJE2pODdgQJXR27JWN2BATmIQWDk0YECCThvotDFgQFH/RiijK2BAS36x5BcfYEB2Bci95hpgQF66SQwCF2BAJb9Y8osRYEC9dJMYBBJgQAkezBP1E2BAlIqzD58RYECAI5TR2wJgQPT91Hjp9l9AvOZC0pTqX0CB3GsuJPVfQINOG+i0+V9ASQwCK4f+X0AwT9S/EQZgQIwlv1jyC2BA1L8RyugRYECbxCCwchhgQP0boYzeKmBA27JWxwRDYEDOPnyGXV1gQDdCGb0te2BAT42XbhKfYEBApw102sRgQCLb+X5q6GBAwIN5ov4NYUAz7AqQey1hQKg4+/AZRmFAlYqzD59lYUB9hl0BcodhQKrx0k1irGFA4+zDZ9jVYUBVnH34DPNhQLErQO41E2JA0duyVscwYkA8Uf9GKEtiQJKmVJx9cGJAoNMGOm2YYkAJkHvNhcBiQF4s+cWS52JAX56ofyMcY0DRlIqzD09jQPKLJb9YfmNAyqFFtvOtY0BrdUzwYN5jQJb8YskvDmRAca+5kDRBZECoOPvwGXJkQPh+arx0n2RAkF8s+cXGZEAEOm2g0+5kQBaSplScEWVAjsL1KFwnZUBC0pSKszNlQBov3SQGMWVAplScffg8ZUA4+/AZdkVlQOf7qfHSTWVAbOf7qfFSZUCEMnpb1k5lQBxaZDvfT2VAFpKmVJxRZUAkBoGVQ1tlQFnyiyW/YGVAv58aL91oZUAYS36x5HNlQKBhV4Dcf2VAtYFOG+iIZUCMbOf7qZFlQJrgwTxRl2VAMsGDeaKWZUAMSVMqzpplQBVnHz7DpmVA80T9G6GwZUDQaQOdNrRlQNBpA502uGVAHRM8mCe6ZUBxr7mQNL1lQBeSplScuWVAfrHkF0u2ZUBecyFpSq1lQIvelrU6rmVAzj58hl3BZUD24TPsCuRlQHH24TPsEmZAeVvW6pgwZkDcJAaBlVNmQLPIdr6fdmZAYZ6ofyOUZkDCPFH/RrRmQBhLfrHkv2ZAxSCwcmjJZkAH80T9G8lmQMxaHRM80GZA4jPsCpDTZkC3rNUxwctmQLhlrY4JxmZArwC511y4ZkCg0wY6baRmQMzMzMzMkGZAtqzVMcF3ZkBcj8L1KFRmQH8jlNHbGmZAslbHBA/eZUBUVVVVVaFlQJDtfD81YmVAyehtWasjZUAf95oLSedkQKTi7MNntGRAVFVVVVWBZECLJb9Y8ktkQA4tsp3vD2RAVlVVVVXFY0A8mCfq33RjQG0uJE2pKGNAKVyPwvXgYkA3Qhm9LZNiQA0tsp3vS2JAt2WtjgkGYkAI80T9G71hQJAJHswTgWFAapHtfD9JYUAKZfS2rBVhQHRoke1812BAWatjggebYEByaJHtfGNgQByhjN6WKWBAokW28/0AYEAdEzyYJ7pfQDF6W9bqaF9A4xdLfrEcX0Bz2kCnDdxeQGFXgNxrtl5An4zelrWaXkBccyFpSoVeQDOl4uzDf15ANBeSplR0XkDlQtKUimteQMkvlvxiWV5AiUFg5dBKXkBsoNMGOk1eQN3d3d3dTV5AZ5HtfD9lXkAyMzMzM4teQBDK6G1Zq15Auru7u7vLXkDJ6G1Zq+teQBdLfrHkB19A+cWSXywpX0DDrgC511xfQNNNYhBYkV9AXrpJDALLX0CN3pa1OgZgQPzwGXYFLGBAcIQyeltOYEAiaUrF2W9gQHZM8GCekGBA0iLb+X6iYECqOPvwGbpgQHkwT9S/1WBAFDyYJ+rzYEDXo3A9ChNhQO41F5KmPGFAwjxR/0ZsYUD8qfHSTZZhQDhCGb0tu2FAxdmHz7DnYUDWo3A9ChNiQGp1TPBgQmJAjJduEoN0YkC0OiZ4MJ9iQISkKRVn02JAP6cNdNoEY0A3tMh2vjNjQEBg5dAiY2NAL0/UvxGKY0CDeaL+jbhjQE0b6LSB4mNAw64AudcQZEAQWDm0yDpkQF66SQwCY2RARP0boYyKZEBqdUzwYK5kQMNn2BUgy2RAvxHK6G3tZEB2vp8aLwllQAqQe82FIGVAJngwT9RDZUCRNKXi7GtlQAAAAAAAlGVAjd6WtTq2ZUBzIWlKxdllQDSl4uzD82VAlYqzD58FZkBlO99PjR9mQM2FpCkVO2ZApeLsw2dMZkDb+X5qvFhmQDHBg3miZmZA+FPjpZtsZkCbUnH24WtmQIgW2c73Y2ZAP8OuALlfZkC9LWt1TFxmQO3DZ9gVVGZA95oLSVNSZkDZh8+wK0hmQC7dJAaBPWZAOW2g0wYuZkAiTak4+yBmQPqp8dJNDmZAzrArQO75ZUCgRbbz/eRlQDm0yHa+22VAUUZvy1rJZUAkTak4+8BlQNyyVscEv2VAVVVVVVW9ZUBiEFg5tLBlQM+wK0DupWVAHveaC0mXZUCdYVeA3IdlQA9YObTIdmVA9Chcj8JpZUAbWmQ731tlQKWbxCCwQmVAtMh2vp8uZUB+seQXSxplQBP1b4QyBmVA1xUg95rvZEBz2kCnDeRkQMMgsHJo0WRAs4FOG+i8ZEBD/RuhjKZkQLp0kxgEkmRAO5gn6t94ZEA+fIZdAWJkQJw20GkDVWRAVQ4tsp1LZEDgehSuRz1kQLLIdr6fPmRAjN6WtTpCZEAcWmQ730tkQGsuJE2pUGRATWIQWDlcZECyVscED2JkQPup8dJNYmRA8tJNYhBcZECCThvotF1kQCD3mgtJW2RATPBgnqhfZECDwMqhRV5kQGFXgNxrYmRAMQisHFpkZEBvhDJ6W2ZkQHUFyL3mamRAjVBGb8tqZECQNKXi7G9kQKWbxCCwamRAHFpkO99rZEDsUbgehWdkQGMQWDm0ZGRAWqtjggdfZEBpSsXZh1dkQIDcay4kTWRAy1odEzw8ZEDobVmrYy5kQDAIrBxaDGRAAeRecyHtY0CUirMPn9VjQAhl9LasrWNAc6+5kDR9Y0AIrBxaZEtjQIfPsCtAGmNA5Yn6N0LlYkBfnqh/I5xiQGi8dJMYXGJAYoIH80QZYkAilNHbssphQDvfT42XemFAHz7DrgApYUDRItv5ftJgQOxRuB6Fe2BA7nw/NV4iYECL+jdCGaVfQCgxCKwcKl9A65jgwTypXkA1XrpJDBpeQOrfCGX0nl1A4Qhl9LYcXUDday4kTaFcQCPb+X5qJFxAgzJ6W9ayW0BQuB6F60FbQL2fGi/d1FpAYBBYObRwWkDvGXYFyB1aQDPsCpB77VlADXTaQKe9WUCIiIiIiHhZQET9G6GMRllADXTaQKclWUAyelvW6vBYQM3MzMzMrFhARv0boYxuWEBLfrHkF1tYQJRDi2znM1hAD59hV4AMWEC0gU4b6ARYQB6F61G49ldAR5pScfbhV0DsUbgeheNXQEhTKs4+3FdAQWDl0CLLV0ASg8DKoa1XQHw/NV66iVdAlvxiyS9uV0Dx0k1iEGhXQKtjggfzVFdADbsC5F5DV0Dm0CLb+TZXQOSlm8QgQFdAzszMzMw0V0B46SYxCCxXQGjYFSD3MldA72CeqH9DV0AIHswT9T9XQGCeqH8jLFdAkHvNhaQRV0DhwTxR//ZWQM6FpCkV31ZAbhKDwMqxVkCZJ+rfCJVWQB0TPJgnglZAy1odEzxoVkAKkHvNhVRWQLQPn2FXQFZAi7MPn2E3VkBjyS+W/CJWQI1QRm/LGlZAnDbQaQMVVkAUZx8+wxZWQAgezBP1J1ZAR5pScfZBVkD5fmq8dFNWQGvn+6nxUlZA1jHBg3lSVkBWVVVVVUVWQFqrY4IHO1ZA5DPsCpAzVkBkEFg5tCBWQAiBlUOLBFZABeRecyHpVUBKmlJx9tFVQOltWatjulVAJzEIrByiVUC0D59hV5BVQHJoke18h1VA2KNwPQp/VUAEnTbQaXtVQKHTBjptcFVAW2Q73091VUDrJjEIrHxVQHrpJjEIhFVABsi95kKaVUDQsCtA7rVVQBkEVg4t2lVAR2/LWh3zVUC9LWt1TAhWQCsVZx8+I1ZAGEt+seQ/VkA5tMh2vkdWQJrgwTxRR1ZA7nw/NV5CVkCTXyz5xUJWQAc6baDTNlZAoBov3SQ2VkAX2c73UztWQGdmZmZmPlZALLKd76dGVkDkpZvEIFBWQO41F5KmXFZAYCz5xZJ3VkB66SYxCIRWQARWDi2yfVZAiEFg5dByVkBcAXKvuXBWQNHbslbHdFZA5on6N0J5VkCU0duyVn9WQPyp8dJNilZAMzMzMzObVkC1gU4b6KxWQAx02kCnvVZAvC1rdUzIVkBP1L8RythWQBIRERER4VZAVZx9+AzzVkCkKRVnHw5XQOPsw2fYHVdAN4lBYOUoV0ACK4cW2T5XQAJyr7mQXFdA7nw/NV6KV0DrCpB7zb1XQLpJDAIr/1dAzBP1b4QyWEAfhetRuGZYQPYoXI/CpVhA2s73U+PlWEC6kDSl4iRZQJSKsw+fYVlAm8QgsHKgWUDUeOkmMehZQPCnxks3MVpAxSCwcmiBWkAYkqZUnMVaQLHkF0t+CVtAsLmQNKVCW0BmZmZmZn5bQLHkF0t+uVtAanVM8GDuW0BFtvP91CBcQMGDeaL+VVxAaZHtfD+VXEDvp8ZLN8lcQL9Y8osl/1xAx5JfLPktXUCzVscED1ZdQHe+nxovhV1ARf0boYyuXUAs+cWSX8xdQEmaUnH26V1AqTj78Bn+XUBScfbhMxReQPwboYzeJl5APQrXo3A9XkD6N0IZvU1eQKh/I5TRU15AfD81XrppXkC4HoXrUYheQBSuR+F6rF5ABMi95kLKXkAV2c73U+teQJx9+Ay7El9AxwQP5ok6X0BrLiRNqWhfQHA9CtejkF9AOW2g0wa6X0CU0duyVt9fQPJE/RuhAGBAggfzRP0PYEDnQtKUihtgQOAIZfS2JGBA/tR46SYpYEDjpZvEICxgQFH/RiijL2BAXUiaUnE6YEDu7u7u7kJgQOZC0pSKR2BAsZ3vp8ZTYEC0gU4b6GhgQIXrUbgefWBARiijt2WRYEBzIWlKxaFgQH0/NV66sWBApeLsw2fAYECKsw+fYc9gQNXqmODB3GBA/41QRm/jYED+G6GM3uZgQNtApw106mBAbaDTBjrxYEDHSzeJQfRgQJE0peLs+2BAGnYFyL0CYUBVnH34DAthQFsdEzyYE2FA50LSlIobYUAsQO41FyphQLgehetRPGFAB/NE/RtRYUAH80T9G2lhQFK4HoXrgWFAUyrOPnyaYUCgjN6WtbZhQKYNdNpA02FAsCtA7jXvYUCaxCCwcgxiQN4IZfS2LGJAPArXo3BJYkB02kCnDWRiQLtJDAIre2JASsXZh8+QYkAHgZVDi6hiQEx+seQXw2JAAyuHFtneYkD5U+Olm/RiQAC511xIEmNAppvEILAuY0BzIWlKxU1jQJSKsw+fbWNA001iEFiJY0A07AqQe6VjQBBYObTIumNAqMZLN4nRY0ALkHvNheRjQCjq3whl9GNAI5TR27ICZED5fmq8dAtkQI2XbhKDFGRALiRNqTgfZEALkHvNhSxkQG/LWh0TOGRAERERERFFZEAQWDm0yE5kQLHkF0t+WWRARP0boYxiZED0b4QyenNkQFD/Riijh2RApsZLN4mdZEDa+X5qvLBkQOuY4ME8xWRA1eqY4MHcZEAIHswT9e9kQGFXgNxr/mRAzBP1b4QSZUBlggfzRC1lQAWdNtBpQ2VAPzVeuklUZUDkM+wKkGdlQCVNqTj7eGVAoozelrWOZUC0D59hV6RlQN2yVscEu2VAyb3mQtLQZUBwhDJ6W+ZlQCNNqTj7/GVAjCW/WPIXZkCCwMqhRTJmQH1qvHSTSGZAQKcNdNpcZkDO91PjpXdmQCOU0duymmZAAXKvuZC8ZkCnxks3id1mQAy7AuRe+2ZA415zIWkSZ0BWVVVVVR1nQJ6ofyOUKWdA9Las1TEtZ0Aoo7dlrTJnQMh2vp8aN2dA91PjpZs8Z0AyMzMzM0dnQNIGOm2gU2dAbFmrY4JjZ0BxIWlKxXVnQLIPn2FXiGdABci95kKeZ0DIBA/mibJnQJI0peLsx2dApLdlrY7ZZ0Bh5dAi2+lnQK3VMcGD9WdAmeDBPFH/Z0Dp3whl9A5oQFK4HoXrHWhAGui0gU4raECBThvotDVoQD58hl0BQmhASzeJQWBJaECXbhKDwEZoQMGDeaL+PWhAi2zn+6kxaEAnMQisHCJoQJkn6t8IFWhANOwKkHsVaECMbOf7qRloQJE0peLsF2hA4Qhl9LYgaED2KFyPwiVoQMI8Uf9GLGhAzj58hl0taEAHOm2g0y5oQIAjlNHbMmhA/kYoo7cxaEDMzMzMzDBoQAxJUyrONmhA0tuyVsdAaECbmZmZmUVoQI5QRm/LSmhArKqqqqpOaEDcslbHBFdoQMUgsHJoZWhAPZgn6t9waEB5ME/Uv3VoQCCwcmiRfWhAQtKUirODaEDHdr6fGotoQIfPsCtAlmhAN0IZvS2jaEBnke18P61oQA6fYVeAwGhA1xUg95rTaEB6hl0BcudoQFQOLbKd72hACwIrhxb1aEDp3whl9P5oQO41F5KmDGlAVJx9+AwPaUC+nxov3QxpQIJ5ov6NDGlAYRBYObQQaUBwPQrXoxRpQIzelrU6DmlA/tR46SYJaUA9mCfq3wBpQGU730+N82hAXUiaUnHiaEDTBjptoNdoQIwlv1jyy2hAsw+fYVfEaECcxCCwcrhoQAJyr7mQrGhA9f3UeOmiaEAt+cWSX5hoQDeJQWDliGhAS36x5Bd/aEB7zYWkKXloQHUFyL3mcmhAXEiaUnFyaEC28/3UeHVoQOZC0pSKb2hAUirOPnxuaEByIWlKxXloQJRDi2znj2hAeVvW6pikaEBRcfbhM7hoQFIqzj58ymhAiUFg5dDmaEAvlvxiyQdpQDbQaQOdJmlADi2yne9DaUD8qfHSTV5pQBODwMqhfWlAfvgMuwKcaUBpSsXZh79pQE6pOPvw4WlALrKd76cCakDtw2fYFSRqQF9zIWlKRWpA6t8IZfRmakB2TPBgnohqQPgMuwLkqmpADAIrhxbRakAJZfS2rPlqQAIrhxbZJmtA2hUg95pPa0A9mCfq33hrQAsezBP1n2tALrKd76fCa0A+mCfq3+hrQMyhRbbzEWxAf/gMuwI4bEB4vp8aL1VsQNH3U+Olb2xAdK+5kDSVbEAq6t8IZcBsQIOVQ4ts72xAkzSl4uwbbUBlO99PjUNtQC5A7jUXam1AxDxR/0aYbUCwR+F6FL5tQCl4ME/U621AXKtjggcPbkDH2YfPsCtuQHOvuZA0PW5AFmcfPsNGbkAfhetRuF5uQLis1THBd25A59Ai2/mSbkCyK0DuNatuQH0/NV66vW5ANV66SQzObkCV0duyVttuQJDC9Shc425ADAIrhxbhbkCQe82FpOFuQAC511xI5m5A+sWSXyzpbkBpSsXZh+duQOSlm8Qg7G5ASZpScfb1bkDMWh0TPARvQLgehetRGG9ArwC511wcb0C7AuRecxFvQErF2YfP/G5AF0t+seTnbkCyD59hV9RuQEW28/3UyG5AAuRecyG5bkAwT9S/EbJuQD1R/0Yoq25A9uEz7Aq0bkAKkHvNhcRuQMgvlvxi4W5AplScffgEb0AhsHJokRlvQIN5ov6NKG9AP8OuALkvb0As+cWSXzhvQIWkKRVnR29AvxHK6G1Jb0B/arx0k0hvQF4Bcq+5SG9AiM+wK0BSb0DMzMzMzFhvQP7UeOkmZW9ATxvotIFyb0A730+Nl4JvQCmjt2Wthm9AxSCwcmiBb0AgPsOuAHlvQHvpJjEIbG9AfaL+jVBeb0BmO99PjVNvQAiBlUOLVG9AE4PAyqFZb0A3XrpJDGpvQKZwPQrXc29A6fup8dJ5b0CEB/NE/YNvQFxkO99PhW9ApXA9Ctd7b0DqJjEIrGxvQIMH80T9X29AfIZdAXJXb0DZh8+wK0xvQML1KFyPQm9AWmQ73085b0BXgNxrLjRvQOrfCGX0Km9AW/KLJb8kb0CfNtBpAyVvQA102kCnJW9AbHVM8GAmb0Bl9Las1SlvQPvwGXYFJG9A72CeqH8bb0D+1HjpJhFvQG2g0wY6BW9AtIFOG+j4bkAhlNHbsu5uQEVvy1od425ASgwCK4fabkAW2c73U9duQJDtfD81zm5AGxM8mCfKbkBTnH34DMNuQGT0tqzVwW5AOyZ4ME/AbkDIdr6fGr9uQF9zIWlKwW5AEVg5tMjGbkAua3VM8NBuQIuzD59h125ABQ/mifrfbkCuR+F6FO5uQMhLN4lB/G5ARUREREQUb0DJdr6fGitvQBCfYVeASG9AaB8+w65wb0CbffgMu5pvQOx8PzVexm9A0pSKsw/vb0AXS36x5AlwQCqHFtnOGXBAGnYFyL0qcEDwGXYFyDlwQFyPwvUoUHBAwMqhRbZpcEA4tMh2voFwQJB7zYWknXBArNUxwYO5cED8YskvltZwQNmHz7Ar9HBAA+RecyEPcUDdJAaBlS9xQPyp8dJNTnFARm/LWh1pcUBqA5020IFxQJVDi2znmXFA1uqY4MGwcUAdzBP1b8ZxQDhCGb0t23FAppvEILDucUCjt2Wtjv1xQMOuALnXCnJAgU4b6LQVckAkTak4+yJyQMaSXyz5L3JA9Las1TE/ckDx0k1iEExyQPyp8dJNWnJA+X5qvHRpckCPwvUoXHlyQKDTBjptinJATPBgnqiXckDobVmrY6ZyQKpjggfzrHJAiUFg5dCyckDS27JWx7xyQNNNYhBYw3JAZx8+w67MckCGFtnO99FyQF8s+cWS2XJAHBM8mCfgckDlifo3QuFyQIFOG+i03XJAX3MhaUrhckAqFWcfPuVyQFFGb8ta6XJA0LArQO7vckCPUEZvy/RyQOxRuB6F+3JAgk4b6LQBc0ANdNpApwlzQKnx0k1iFHNAGXYFyL0cc0CcxCCwciJzQEW28/3UJnNANV66SQwoc0BnHz7DripzQJ+ofyOULXNAfrHkF0syc0B2vp8aLzVzQBHK6G1ZOXNAKOrfCGVCc0CfYVeA3EtzQFlkO99PV3NA1uqY4MFic0A+w64AuW1zQFk5tMh2enNAu0kMAiuFc0AjIiIiIpJzQLc6JngwnXNAwhHK6G2rc0DDPFH/RrhzQKjGSzeJyXNAIIXrUbjYc0DaQKcNdOhzQJGmVJx99HNAlPxiyS/+c0DF2YfPsAV0QO41F5KmCHRAJngwT9QRdEBwPQrXoxx0QJ8aL90kKHRAd+kmMQg0dEAS9W+EMjx0QF4s+cWSRXRACtejcD1SdECBThvotF10QIddAXKvZ3RAmG4Sg8BydEBCGb0ta4F0QGeR7Xw/kXRAUXH24TOidEBLN4lBYLF0QDvfT42XwnRA3CQGgZXVdECY4ME8UeV0QCV4ME/U9XRAHcwT9W8CdUC6SQwCKwt1QFc5tMh2DHVAgXmi/o0MdUAwMzMzMw11QEBg5dAiD3VAFCD3mgsTdUC18/3UeBN1QIGVQ4tsGXVA2ofPsCskdUCzD59hVzJ1QDMzMzMzQXVAJJTR27JKdUBdSJpScVB1QJVDi2znUXVAGr0ta3VWdUCu1THBg191QGcfPsOuYnVA+Qy7AuRadUAdWmQ731V1QGiR7Xw/T3VArNUxwYNLdUAED+aJ+kV1QAhl9LasPXVARbbz/dQ2dUCi/o1QRjV1QIslv1jyMXVAhV0Bcq8tdUCjcD0K1yd1QMZLN4lBIHVAxGfYFSAZdUBERERERBR1QONecyFpFHVAeOkmMQgSdUDmQtKUig91QFnyiyW/CHVAhetRuB79dEAxCKwcWvR0QHPaQKcN7HRABA/mifrddECJ+jdCGc10QHUFyL3mwHRAVA4tsp23dEAl6t8IZbJ0QFIqzj58tHRAmzbQaQO1dECJsw+fYbN0QCZ4ME/UtXRAjpduEoO+dEAHgZVDi8Z0QLG5kDSlznRA54n6N0LTdECamZmZmdd0QOxRuB6F23RAZ2ZmZmbcdEBwhDJ6W9p0QOLsw2fY2XRA1L8RyujXdEDDrgC519Z0QKebxCCw0nRAAyuHFtnMdEBOYhBYOcp0QJ59+Ay7ynRA/fAZdgXMdEDIBA/micp0QBP1b4QyynRAMXpb1urKdEC1OiZ4MM10QPhT46WbzHRA9Las1THPdED2KFyPwtl0QAMrhxbZ4HRAh+tRuB7ldEAPdNpAp+V0QA0CK4cW33RA0WkDnTbUdEASWDm0yMp0QMp2vp8awXRAf7HkF0u2dEAsQO41F6p0QPX91HjponRAMJb8YsmXdEDEZ9gVIIt0QMsvlvxifXRAA+RecyFtdEDiM+wKkGF0QJB7zYWkU3RA001iEFhLdEBApw102kB0QJa1OiZ4PHRAc2iR7Xw9dEBmZmZmZjx0QE5iEFg5OnRAkHvNhaQ7dECdNtBpA0N0QPvwGXYFTHRA38E8Uf9YdED3DLsC5GR0QBl2Bci9bnRA76fGSzd3dEAPn2FXgHx0QIAjlNHbgnRAdkzwYJ6MdEDufD81Xpx0QBCfYVeAsHRA6t8IZfTMdEBtWatjgul0QF8s+cWSCXVAbKDTBjovdUAQEREREVd1QATIveZCdnVAu3STGASYdUAWS36x5Ll1QCGwcmiR4XVA+jdCGb0HdkAxwYN5oip2QJgn6t8IR3ZAGi/dJAZddkApXI/C9Wp2QF4Bcq+5gHZAt/P91HiPdkD34TPsCqR2QLfz/dR4uXZAvS1rdUzOdkCm4uzDZ952QOB6FK5H7XZA3d3d3d3xdkAJHswT9e92QG2g0wY68XZAKs4+fIb7dkBt5/up8QR3QPCnxks3DXdAOIlBYOUWd0Ag95oLSR93QKo4+/AZJndAWatjggcld0DyGXYFyCF3QG4Sg8DKF3dA8dJNYhAOd0AJHswT9QN3QJ6ofyOU/3ZAX56ofyP4dkDpJjEIrPJ2QGp1TPBg7HZAfmq8dJPsdkCSXyz5xex2QJJfLPnF+HZAUyrOPnwMd0B7PzVeuit3QG1Zq2OCP3dAIPeaC0lTd0A8Uf9GKGN3QNz5fmq8cHdA698IZfR4d0Arzj58hoF3QNLbslbHhndAJJTR27KOd0A3F5KmVJh3QG4uJE2poHdAUo2XbhKjd0DH2YfPsKN3QE7wYJ6ooXdALvnFkl+kd0BAw64Aual3QDdeukkMsHdAQTVeukm8d0DoQtKUitF3QA+7AuRe6XdABp020Gn/d0CZJ+rfCAd4QAc6baDTDHhATMXZh88UeECT7Xw/NSJ4QFmrY4IHKXhA+Qy7AuQueEDl0CLb+TR4QCD3mgtJN3hAvLu7u7szeECsY4IH8yp4QBvotIFOI3hACR7ME/UjeEAiaUrF2SF4QDBP1L8RIHhAh10Bcq8jeEBP1L8RyiJ4QL10kxgEIHhAfj81XroheECgGi/dJCR4QDbQaQOdLHhAwIN5ov4veEC8dJMYBDB4QGYfPsOuMnhA5F5zIWkoeECuR+F6FBx4QOj7qfHSCXhAhHmi/o3yd0DX6pjgwdp3QJOmVJx9wndAPsOuALmtd0AZBFYOLah3QCUGgZVDpXdAVVVVVVWld0DO91PjpZ13QL9Y8oslmXdAwYN5ov6Td0DGSzeJQY53QPl+arx0h3dA+sWSXyx/d0BiEFg5tHZ3QMNn2BUgbXdAhl0Bcq9hd0B0kxgEVlh3QCz5xZJfVndA3GsuJE1Rd0DhwTxR/1J3QOltWatjXHdAtqzVMcFnd0CbUnH24XN3QDUXkqZUfHdAx73mQtKGd0CuALnXXJh3QDYXkqZUrHdA9ihcj8LFd0DiM+wKkN13QMuhRbbz+XdAdgXIveYYeEAlTak4+zB4QMWSXyz5SXhANOwKkHtdeECEeaL+jXB4QOHBPFH/hHhA3LJWxwSXeEAL16NwPaZ4QGWtjgkeunhAJb9Y8ovJeECVGARWDuV4QB7ME/VvAHlAFmcfPsMeeUDHBA/miUR5QNfqmODBbHlAeDBP1L+TeUAhsHJokbl5QLPIdr6f2nlAzvdT46X9eUCpOPvwGSJ6QN6WtTomSHpACwIrhxZ1ekAXBFYOLaR6QBh2Bci91npAr3Joke0Me0A0peLswzl7QGkDnTbQZ3tAvxHK6G2Te0CKsw+fYcN7QFnyiyW/8ntAEBEREREjfEC/nxov3VZ8QCA+w64AjXxAKFyPwvXIfEB56SYxCAZ9QB5aZDvfQX1AEFg5tMh+fUAX2c73U7l9QCmjt2Wt7n1AXNbqmOAnfkDYXEiaUll+QLbz/dR4jX5AbhKDwMrDfkBzaJHtfP9+QEkMAiuHRH9AEoPAyqGHf0Ce76fGS8t/QPeaC0lTCoBA35a1OiYvgECJQWDl0FGAQNQGOm2gcYBAOyZ4ME+MgED2KFyPwqmAQJNfLPnFxoBA5/up8dLigEBSuB6F6/+AQHvNhaQpGYFAanVM8GA3gUAQEREREVWBQHH24TPscYFAtA+fYVeQgUCfYVeA3K2BQJKmVJx9yIFAuGWtjgnggUAdWmQ73/SBQPRE/RuhBIJA5RdLfrENgkAHgZVDiyGCQG4Sg8DKNYJAjZduEoNEgkBF/RuhjEyCQMARyuhtU4JAf2q8dJNVgkBeSJpScWCCQIHcay4kZYJAi2zn+6lpgkCHz7ArQGmCQDUXkqZUZIJA3pa1OiZfgkAwlvxiyVmCQIwlv1jyUIJAkxgEVg5KgkDBg3mi/j+CQGmR7Xw/NIJAeekmMQgogkDCrgC51xyCQMRn2BUgEoJA3pa1OiYBgkDC9Shcj+uBQCIiIiIi04FAsg+fYVe4gUB1Bci95qSBQM4+fIZdkoFADi2yne+DgUCZJ+rfCHWBQFfHBA/maYFAgSOU0dtngUAua3VM8F+BQAAAAAAAWIFAYp6ofyNRgUC5kDSl4k6BQN0kBoGVTIFAUyrOPnxPgUCit2WtjkWBQPl+arx0PoFAMzMzMzM2gUD5xZJfLDSBQBuhjN6WMYFApHA9CtctgUDj7MNn2CuBQLtJDAIrMYFAqX8jlNE1gUANuwLkXjqBQEDuNReSPIFAYCz5xZI/gUC1yHa+n0CBQHKvuZA0RIFA2/l+arxJgUDlF0t+sU+BQKuqqqqqXYFAEFg5tMhtgUAIZfS2rHeBQAKdNtBphYFAXiz5xZKOgUDZh8+wK5uBQK5H4XoUp4FAYVeA3GuvgUDHBA/mibSBQNgVIPeau4FArNUxwYPHgUB+arx0k9KBQKNwPQrX3YFA6t8IZfTogUCGpCkVZ/GBQBCfYVeA94FADuaJ+jf/gUDUvxHK6P6BQDfQaQOd/4FA35a1OiYDgkA/7jUXkgiCQFOcffgMD4JArEfhehQUgkDLzMzMzBmCQIps5/upI4JAHRM8mCcugkBdj8L1KDuCQAFyr7mQR4JASVMqzj5UgkA830+Nl2KCQE5iEFg5b4JA7sNn2BV6gkAPLbKd74KCQJOmVJx9ioJAmwtJUyqWgkAzMzMzM6SCQJPR27JWsYJAjVBGb8vCgkDSlIqzD9SCQLSBThvo44JAzyLb+X72gkACK4cW2QiDQFirY4IHG4NAdUzwYJ4og0CbC0lTKjmDQM8+fIZdTINA7cNn2BVfg0AH80T9G3qDQElTKs4+loNAyHa+nxqrg0DDrgC517yDQDaJQWDlzINAAp020Gnhg0Bj9Las1feDQGFXgNxrDoRAL5b8YskjhECyyHa+nzmEQAIrhxbZToRA7FG4HoVjhECs1THBg3WEQF/l0CLbgIRAnah/I5SJhEB8PzVeupaEQBl2Bci9noRAR+F6FK6hhEBH4XoUrqCEQKebxCCwpIRA35a1OiakhECKiIiIiKGEQF+6SQwCm4RAFIPAyqGQhEANSVMqzoeEQGTJL5b8e4RAK0DuNRdzhED+1HjpJmuEQFsdEzyYZIRAcfbhM+xdhEDC9Shcj1KEQNqHz7ArQIRA5RdLfrE4hEAIrBxaZCyEQJqZmZmZHoRAtvP91HgLhED6N0IZvfSDQGlKxdmH2YNA7sNn2BW+g0C7AuRec52DQPs3Qhm9f4NAU3H24TNhg0DhehSuRz+DQEX9G6GMHINA/41QRm/+gkB/+Ay7AtuCQBzotIFOu4JAmSfq3wicgkCa4ME8UXmCQPJgnqh/VIJABCuHFtk6gkBS/0YooyOCQMovlvxiEIJAG+i0gU4AgkC0yHa+n/OBQLhlrY4J6YFAJb9Y8ovdgUBgV4Dca9KBQHmi/o1QwoFAjVBGb8uzgUClm8QgsKWBQOb7qfHSk4FA/BuhjN59gUBR/0Yoo2mBQLnXXEiaU4FA0SLb+X5CgUCR7Xw/NTKBQDm0yHa+IYFAtqzVMcELgUCEwMqhRf2AQAVWDi2y8IBAXB0TPJjigEDptIFOG9mAQD81XrpJ1IBAqA102kDNgECcxCCwcsWAQHzNhaQpvoBA+/AZdgW3gEDc+X5qvLiAQNlcSJpSvoBAYZ6ofyO4gEBERERERK+AQGp1TPBgpYBAfrHkF0uZgECzD59hV4aAQDomeDBPdoBAUrgehetlgEDgwTxR/06AQP//////NIBA9uEz7AoggEA3iUFg5QyAQDm0yHa+AoBAJAaBlUPvf0D0tqzVMeV/QMTZh8+wu39AP+41F5KGf0DUvxHK6Fd/QIiIiIiIMn9AyL3mQtIWf0AIZfS2rPV+QIts5/upy35AwMqhRbaffkDCPFH/Rn5+QOHsw2fYXX5A7cNn2BVEfkBQ/0YoozF+QB+F61G4IH5ANheSplQMfkBN8GCeqOt9QE6pOPvwwX1AmLU6JniYfUAMSVMqznZ9QDiJQWDlUH1AEVg5tMgofUC38/3UeAd9QP1iyS+W3nxA9ET9G6G6fEDy0k1iEJ58QCgxCKwciHxAIWlKxdlhfEDNzMzMzFp7QP3UeOkmVXpAHz7DrgBNeUD78Bl2BUB4QIPAyqFFVHdArUfhehRudkBnHz7DroJ1QP0boYzeknRAK4cW2c6jc0C7AuRec7VyQDFP1L8RyHFAuddcSJrgcEA6baDTBuJvQJDC9ShcA25A\",\"dtype\":\"float64\",\"shape\":[3270]}},\"selected\":{\"id\":\"c3149b4d-25dd-4f4e-8d27-ef76ba5b28a8\",\"type\":\"Selection\"},\"selection_policy\":{\"id\":\"c0ab6bc8-3957-453c-9127-7bb5630d0ee3\",\"type\":\"UnionRenderers\"}},\"id\":\"a06b8cfb-8595-41f5-ab53-3715fc64b4ac\",\"type\":\"ColumnDataSource\"},{\"attributes\":{\"label\":{\"value\":\"avg\"},\"renderers\":[{\"id\":\"8c7a9f59-3017-497a-a943-3386358cc411\",\"type\":\"GlyphRenderer\"}]},\"id\":\"7639b834-868f-4748-8945-75f4847469a4\",\"type\":\"LegendItem\"},{\"attributes\":{\"line_color\":\"red\",\"x\":{\"field\":\"x\"},\"y\":{\"field\":\"y\"}},\"id\":\"a0062014-c779-4fdb-a296-8fa289541aa1\",\"type\":\"Line\"},{\"attributes\":{\"source\":{\"id\":\"a06b8cfb-8595-41f5-ab53-3715fc64b4ac\",\"type\":\"ColumnDataSource\"}},\"id\":\"02caa5fa-a45c-4984-87af-3ae87a51a778\",\"type\":\"CDSView\"},{\"attributes\":{},\"id\":\"80998788-ba5f-4343-b0fe-9ba2bd4efc3f\",\"type\":\"PanTool\"},{\"attributes\":{\"data_source\":{\"id\":\"9731cbc9-dd55-4f2a-93f9-6a94b4319907\",\"type\":\"ColumnDataSource\"},\"glyph\":{\"id\":\"b15aad1c-a7bc-4b21-baff-0de167929b2b\",\"type\":\"Circle\"},\"hover_glyph\":null,\"muted_glyph\":null,\"nonselection_glyph\":{\"id\":\"fc9cd918-8ce1-4a56-a103-ce611b127830\",\"type\":\"Circle\"},\"selection_glyph\":null,\"view\":{\"id\":\"6ba3f8dc-f900-45c9-b535-9c5106910da6\",\"type\":\"CDSView\"}},\"id\":\"15833aaa-9be6-4205-a1f0-ae38dba36f15\",\"type\":\"GlyphRenderer\"},{\"attributes\":{},\"id\":\"c3149b4d-25dd-4f4e-8d27-ef76ba5b28a8\",\"type\":\"Selection\"},{\"attributes\":{\"num_minor_ticks\":5,\"tickers\":[{\"id\":\"3e24b575-5d53-44b7-b49d-b61957fec110\",\"type\":\"AdaptiveTicker\"},{\"id\":\"5aea69dd-81c4-4102-b066-70cdf3160fe4\",\"type\":\"AdaptiveTicker\"},{\"id\":\"6c37a153-90aa-475e-bc14-90d4746e86bf\",\"type\":\"AdaptiveTicker\"},{\"id\":\"59e7c764-1d7d-48ad-82bc-bb81de09ddb1\",\"type\":\"DaysTicker\"},{\"id\":\"09e8ccd3-0c48-4253-974e-969fcdb680a4\",\"type\":\"DaysTicker\"},{\"id\":\"c8a7142b-584d-40b6-9c57-3e403ba7f827\",\"type\":\"DaysTicker\"},{\"id\":\"8bb6ed09-4b5a-44b0-8d3a-1c69a7d34770\",\"type\":\"DaysTicker\"},{\"id\":\"db452650-9215-45d4-865f-6b0a744d9a8f\",\"type\":\"MonthsTicker\"},{\"id\":\"e8e90468-b76b-4cf7-91d9-40c49499b4d7\",\"type\":\"MonthsTicker\"},{\"id\":\"065bf2d5-88c0-40a2-a77f-49ec9142986f\",\"type\":\"MonthsTicker\"},{\"id\":\"93f0e32d-c3e2-4544-844e-d38243048d51\",\"type\":\"MonthsTicker\"},{\"id\":\"c6eb7007-2d56-4300-aad5-b3243f06b807\",\"type\":\"YearsTicker\"}]},\"id\":\"eff012f9-1714-4af9-a818-bfcdd43d8e4f\",\"type\":\"DatetimeTicker\"},{\"attributes\":{\"axis_label\":\"Price\",\"formatter\":{\"id\":\"e6c35ef0-9df0-4ae0-bba2-922d2391a71f\",\"type\":\"BasicTickFormatter\"},\"plot\":{\"id\":\"1024ac3a-646e-4e23-ad5a-f36c3d21df85\",\"subtype\":\"Figure\",\"type\":\"Plot\"},\"ticker\":{\"id\":\"81891d8b-b1a6-4ce1-a0e1-bcb45249b374\",\"type\":\"BasicTicker\"}},\"id\":\"414acc42-4dca-4244-8a19-b093454560e3\",\"type\":\"LinearAxis\"},{\"attributes\":{\"axis_label\":\"Date\",\"formatter\":{\"id\":\"afa30513-290a-43f6-be46-c96dbac098c7\",\"type\":\"DatetimeTickFormatter\"},\"plot\":{\"id\":\"1024ac3a-646e-4e23-ad5a-f36c3d21df85\",\"subtype\":\"Figure\",\"type\":\"Plot\"},\"ticker\":{\"id\":\"eff012f9-1714-4af9-a818-bfcdd43d8e4f\",\"type\":\"DatetimeTicker\"}},\"id\":\"7d78e952-1574-4a3f-b96a-f58ce5bd3e22\",\"type\":\"DatetimeAxis\"},{\"attributes\":{},\"id\":\"c0ab6bc8-3957-453c-9127-7bb5630d0ee3\",\"type\":\"UnionRenderers\"},{\"attributes\":{\"grid_line_alpha\":{\"value\":0},\"plot\":{\"id\":\"1024ac3a-646e-4e23-ad5a-f36c3d21df85\",\"subtype\":\"Figure\",\"type\":\"Plot\"},\"ticker\":{\"id\":\"eff012f9-1714-4af9-a818-bfcdd43d8e4f\",\"type\":\"DatetimeTicker\"}},\"id\":\"1cc96433-f8e3-440f-8b7f-fcb954d64fb9\",\"type\":\"Grid\"},{\"attributes\":{},\"id\":\"8bc9e2d0-f340-47c1-adf0-a147ea22d2ef\",\"type\":\"LinearScale\"},{\"attributes\":{},\"id\":\"d70a0614-3f86-4440-baeb-c3f475b1294f\",\"type\":\"UnionRenderers\"},{\"attributes\":{\"below\":[{\"id\":\"7d78e952-1574-4a3f-b96a-f58ce5bd3e22\",\"type\":\"DatetimeAxis\"}],\"left\":[{\"id\":\"414acc42-4dca-4244-8a19-b093454560e3\",\"type\":\"LinearAxis\"}],\"plot_height\":350,\"plot_width\":800,\"renderers\":[{\"id\":\"7d78e952-1574-4a3f-b96a-f58ce5bd3e22\",\"type\":\"DatetimeAxis\"},{\"id\":\"1cc96433-f8e3-440f-8b7f-fcb954d64fb9\",\"type\":\"Grid\"},{\"id\":\"414acc42-4dca-4244-8a19-b093454560e3\",\"type\":\"LinearAxis\"},{\"id\":\"5a639726-5de0-48fc-acc6-b46fcd646513\",\"type\":\"Grid\"},{\"id\":\"b34de3af-dfa5-4444-9d2b-bcc5e795907c\",\"type\":\"BoxAnnotation\"},{\"id\":\"31da0edc-c812-45f5-ad2b-7ff79800d3a1\",\"type\":\"Legend\"},{\"id\":\"15833aaa-9be6-4205-a1f0-ae38dba36f15\",\"type\":\"GlyphRenderer\"},{\"id\":\"8c7a9f59-3017-497a-a943-3386358cc411\",\"type\":\"GlyphRenderer\"}],\"title\":{\"id\":\"d42374c2-b8a6-4cf9-a17c-19e3aa99f535\",\"type\":\"Title\"},\"toolbar\":{\"id\":\"754d117e-54ce-430d-bf9f-f2e888f7df59\",\"type\":\"Toolbar\"},\"x_range\":{\"id\":\"2f63ecff-411c-4ade-ab0a-372e838dcc95\",\"type\":\"DataRange1d\"},\"x_scale\":{\"id\":\"5aa1ff2b-efa4-4581-a755-030653049836\",\"type\":\"LinearScale\"},\"y_range\":{\"id\":\"fce7a037-97cc-463c-a576-dacf3f046e0a\",\"type\":\"DataRange1d\"},\"y_scale\":{\"id\":\"8bc9e2d0-f340-47c1-adf0-a147ea22d2ef\",\"type\":\"LinearScale\"}},\"id\":\"1024ac3a-646e-4e23-ad5a-f36c3d21df85\",\"subtype\":\"Figure\",\"type\":\"Plot\"},{\"attributes\":{\"callback\":null},\"id\":\"fce7a037-97cc-463c-a576-dacf3f046e0a\",\"type\":\"DataRange1d\"},{\"attributes\":{},\"id\":\"a0bef874-2011-4fcb-941d-f645755f5b4e\",\"type\":\"WheelZoomTool\"},{\"attributes\":{\"click_policy\":\"hide\",\"items\":[{\"id\":\"490db68c-1839-4a47-821f-0868df7033a1\",\"type\":\"LegendItem\"},{\"id\":\"7639b834-868f-4748-8945-75f4847469a4\",\"type\":\"LegendItem\"}],\"location\":\"top_left\",\"plot\":{\"id\":\"1024ac3a-646e-4e23-ad5a-f36c3d21df85\",\"subtype\":\"Figure\",\"type\":\"Plot\"}},\"id\":\"31da0edc-c812-45f5-ad2b-7ff79800d3a1\",\"type\":\"Legend\"}],\"root_ids\":[\"1024ac3a-646e-4e23-ad5a-f36c3d21df85\"]},\"title\":\"Bokeh Application\",\"version\":\"0.13.0\"}};\n",
       "  var render_items = [{\"docid\":\"88819390-8a7e-474e-9d9c-07e6cfcdb2b3\",\"roots\":{\"1024ac3a-646e-4e23-ad5a-f36c3d21df85\":\"ad4ed2a5-5375-4d82-b9af-e88b128a5bde\"}}];\n",
       "  root.Bokeh.embed.embed_items_notebook(docs_json, render_items);\n",
       "\n",
       "  }\n",
       "  if (root.Bokeh !== undefined) {\n",
       "    embed_document(root);\n",
       "  } else {\n",
       "    var attempts = 0;\n",
       "    var timer = setInterval(function(root) {\n",
       "      if (root.Bokeh !== undefined) {\n",
       "        embed_document(root);\n",
       "        clearInterval(timer);\n",
       "      }\n",
       "      attempts++;\n",
       "      if (attempts > 100) {\n",
       "        console.log(\"Bokeh: ERROR: Unable to run BokehJS code because BokehJS library is missing\")\n",
       "        clearInterval(timer);\n",
       "      }\n",
       "    }, 10, root)\n",
       "  }\n",
       "})(window);"
      ],
      "application/vnd.bokehjs_exec.v0+json": ""
     },
     "metadata": {
      "application/vnd.bokehjs_exec.v0+json": {
       "id": "1024ac3a-646e-4e23-ad5a-f36c3d21df85"
      }
     },
     "output_type": "display_data"
    }
   ],
   "source": [
    "# prepare some data\n",
    "aapl = np.array(AAPL['adj_close'])\n",
    "aapl_dates = np.array(AAPL['date'], dtype=np.datetime64)\n",
    "\n",
    "window_size = 30\n",
    "window = np.ones(window_size)/float(window_size)\n",
    "aapl_avg = np.convolve(aapl, window, 'same')\n",
    "\n",
    "# create a new plot with a a datetime axis type\n",
    "p = figure(width=800, height=350, x_axis_type=\"datetime\")\n",
    "\n",
    "# add renderers\n",
    "p.circle(aapl_dates, aapl, size=4, color='darkgrey', alpha=0.2, legend='close')\n",
    "p.line(aapl_dates, aapl_avg, color='red', legend='avg')\n",
    "\n",
    "# NEW: customize by setting attributes\n",
    "p.title.text = \"AAPL One-Month Average\"\n",
    "p.legend.location = \"top_left\"\n",
    "p.grid.grid_line_alpha=0\n",
    "p.xaxis.axis_label = 'Date'\n",
    "p.yaxis.axis_label = 'Price'\n",
    "\n",
    "p.ygrid.band_fill_color=\"gray\"\n",
    "p.ygrid.band_fill_alpha = 0.1\n",
    "\n",
    "p.legend.click_policy=\"hide\" # enable the click policy on the legend\n",
    "\n",
    "# show the results\n",
    "show(p)"
   ]
  },
  {
   "cell_type": "markdown",
   "metadata": {},
   "source": [
    "## Categorical axes\n",
    "To inform Bokeh that the `x-axis` is `categorical`, we pass this list of factors as the `x_range` argument to bokeh plotting figure:\n",
    "\n",
    "```python\n",
    "p = figure(x_range=fruits, ... )\n",
    "```\n",
    "\n",
    "Note that passing the list of factors is a convenient shorthand notation for creating a FactorRange. The equivalent explicit notation is:\n",
    "```python\n",
    "p = figure(x_range=FactorRange(field=fruits), ... )\n",
    "```\n",
    "This more explicit for is useful when you want to customize the FactorRange, e.g. by changing the range or category padding.\n",
    "\n",
    "Next we can call vbar with the list of fruit name factors as the x coordinate, the bar height as the top coordinate, and optionally any width or other properties that we would like to set:\n",
    "```python\n",
    "p.vbar(x=fruits, top=[5, 3, 4, 2, 4, 6], width=0.9)\n",
    "```\n",
    "\n",
    "Now putting this stuff together we will see the output:"
   ]
  },
  {
   "cell_type": "code",
   "execution_count": 14,
   "metadata": {},
   "outputs": [
    {
     "data": {
      "text/html": [
       "\n",
       "\n",
       "\n",
       "\n",
       "\n",
       "\n",
       "  <div class=\"bk-root\" id=\"f3f94fdf-6f9d-47bd-b2ed-f78866dae7a7\"></div>\n"
      ]
     },
     "metadata": {},
     "output_type": "display_data"
    },
    {
     "data": {
      "application/javascript": [
       "(function(root) {\n",
       "  function embed_document(root) {\n",
       "    \n",
       "  var docs_json = {\"f1fcd9e7-e0f1-4fae-a70a-af1d7c9db807\":{\"roots\":{\"references\":[{\"attributes\":{\"formatter\":{\"id\":\"d6e52d6d-b53c-4fac-bdcb-65aa83341c0b\",\"type\":\"CategoricalTickFormatter\"},\"plot\":{\"id\":\"ee9901d2-7f54-4258-98a3-6aeb7ff4477c\",\"subtype\":\"Figure\",\"type\":\"Plot\"},\"ticker\":{\"id\":\"b4db716d-621a-45f9-95b0-7ed8b775284f\",\"type\":\"CategoricalTicker\"}},\"id\":\"ab9a9502-7ff8-4356-b1d8-645615352370\",\"type\":\"CategoricalAxis\"},{\"attributes\":{},\"id\":\"67186aad-6c57-483f-9a1b-4e28778216a6\",\"type\":\"CategoricalScale\"},{\"attributes\":{\"grid_line_color\":{\"value\":null},\"plot\":{\"id\":\"ee9901d2-7f54-4258-98a3-6aeb7ff4477c\",\"subtype\":\"Figure\",\"type\":\"Plot\"},\"ticker\":{\"id\":\"b4db716d-621a-45f9-95b0-7ed8b775284f\",\"type\":\"CategoricalTicker\"}},\"id\":\"0565db28-bd34-47f7-bb99-2395ff8f4bd6\",\"type\":\"Grid\"},{\"attributes\":{\"active_drag\":\"auto\",\"active_inspect\":\"auto\",\"active_multi\":null,\"active_scroll\":\"auto\",\"active_tap\":\"auto\"},\"id\":\"94257a64-79d8-4a8c-a0bb-a59ee1338101\",\"type\":\"Toolbar\"},{\"attributes\":{},\"id\":\"d6e52d6d-b53c-4fac-bdcb-65aa83341c0b\",\"type\":\"CategoricalTickFormatter\"},{\"attributes\":{\"data_source\":{\"id\":\"ce614cce-dec3-48ca-957d-ff6e3a8c19b6\",\"type\":\"ColumnDataSource\"},\"glyph\":{\"id\":\"06c4b315-6ba4-485b-95a0-7f185b4d7a03\",\"type\":\"VBar\"},\"hover_glyph\":null,\"muted_glyph\":null,\"nonselection_glyph\":{\"id\":\"db8e0fa1-7c4c-4a32-944a-747faf4ba410\",\"type\":\"VBar\"},\"selection_glyph\":null,\"view\":{\"id\":\"26ca2272-63c9-48ba-bc92-d1596c2599aa\",\"type\":\"CDSView\"}},\"id\":\"7f3c1cc2-d11a-419b-ba53-a95aaa93aa5e\",\"type\":\"GlyphRenderer\"},{\"attributes\":{\"callback\":null,\"factors\":[\"Apples\",\"Pears\",\"Nectarines\",\"Plums\",\"Grapes\",\"Strawberries\"]},\"id\":\"9e1b2e8e-6ef6-4dc4-b7fd-38cc8807c9e7\",\"type\":\"FactorRange\"},{\"attributes\":{},\"id\":\"b4db716d-621a-45f9-95b0-7ed8b775284f\",\"type\":\"CategoricalTicker\"},{\"attributes\":{\"dimension\":1,\"plot\":{\"id\":\"ee9901d2-7f54-4258-98a3-6aeb7ff4477c\",\"subtype\":\"Figure\",\"type\":\"Plot\"},\"ticker\":{\"id\":\"39c750e8-9f8f-4a28-9319-6f3a465575be\",\"type\":\"BasicTicker\"}},\"id\":\"6ccc6f78-3f5d-4a2a-ae80-76be7d3b17bf\",\"type\":\"Grid\"},{\"attributes\":{\"fill_alpha\":{\"value\":0.1},\"fill_color\":{\"value\":\"#1f77b4\"},\"line_alpha\":{\"value\":0.1},\"line_color\":{\"value\":\"#1f77b4\"},\"top\":{\"field\":\"top\"},\"width\":{\"value\":0.6},\"x\":{\"field\":\"x\"}},\"id\":\"db8e0fa1-7c4c-4a32-944a-747faf4ba410\",\"type\":\"VBar\"},{\"attributes\":{\"plot\":null,\"text\":\"Fruit Counts\"},\"id\":\"407d6ef2-db38-4a3c-9dc2-def42a92b368\",\"type\":\"Title\"},{\"attributes\":{\"source\":{\"id\":\"ce614cce-dec3-48ca-957d-ff6e3a8c19b6\",\"type\":\"ColumnDataSource\"}},\"id\":\"26ca2272-63c9-48ba-bc92-d1596c2599aa\",\"type\":\"CDSView\"},{\"attributes\":{},\"id\":\"39c750e8-9f8f-4a28-9319-6f3a465575be\",\"type\":\"BasicTicker\"},{\"attributes\":{},\"id\":\"c0ba79f7-b7f7-47f0-b02f-916e18107313\",\"type\":\"UnionRenderers\"},{\"attributes\":{\"formatter\":{\"id\":\"b049ea88-74e3-4bc6-adc5-d9a6a865d381\",\"type\":\"BasicTickFormatter\"},\"plot\":{\"id\":\"ee9901d2-7f54-4258-98a3-6aeb7ff4477c\",\"subtype\":\"Figure\",\"type\":\"Plot\"},\"ticker\":{\"id\":\"39c750e8-9f8f-4a28-9319-6f3a465575be\",\"type\":\"BasicTicker\"}},\"id\":\"0928677c-9707-4e75-a603-95ac0056483f\",\"type\":\"LinearAxis\"},{\"attributes\":{\"callback\":null,\"start\":0},\"id\":\"1eca8dd2-820e-4c9e-9eb2-e67b655f1ae7\",\"type\":\"DataRange1d\"},{\"attributes\":{},\"id\":\"b049ea88-74e3-4bc6-adc5-d9a6a865d381\",\"type\":\"BasicTickFormatter\"},{\"attributes\":{},\"id\":\"74d0b8a1-82f1-4d31-8b8c-d4819d57f762\",\"type\":\"Selection\"},{\"attributes\":{\"fill_color\":{\"value\":\"#1f77b4\"},\"line_color\":{\"value\":\"#1f77b4\"},\"top\":{\"field\":\"top\"},\"width\":{\"value\":0.6},\"x\":{\"field\":\"x\"}},\"id\":\"06c4b315-6ba4-485b-95a0-7f185b4d7a03\",\"type\":\"VBar\"},{\"attributes\":{\"below\":[{\"id\":\"ab9a9502-7ff8-4356-b1d8-645615352370\",\"type\":\"CategoricalAxis\"}],\"left\":[{\"id\":\"0928677c-9707-4e75-a603-95ac0056483f\",\"type\":\"LinearAxis\"}],\"plot_height\":250,\"renderers\":[{\"id\":\"ab9a9502-7ff8-4356-b1d8-645615352370\",\"type\":\"CategoricalAxis\"},{\"id\":\"0565db28-bd34-47f7-bb99-2395ff8f4bd6\",\"type\":\"Grid\"},{\"id\":\"0928677c-9707-4e75-a603-95ac0056483f\",\"type\":\"LinearAxis\"},{\"id\":\"6ccc6f78-3f5d-4a2a-ae80-76be7d3b17bf\",\"type\":\"Grid\"},{\"id\":\"7f3c1cc2-d11a-419b-ba53-a95aaa93aa5e\",\"type\":\"GlyphRenderer\"}],\"title\":{\"id\":\"407d6ef2-db38-4a3c-9dc2-def42a92b368\",\"type\":\"Title\"},\"toolbar\":{\"id\":\"94257a64-79d8-4a8c-a0bb-a59ee1338101\",\"type\":\"Toolbar\"},\"toolbar_location\":null,\"x_range\":{\"id\":\"9e1b2e8e-6ef6-4dc4-b7fd-38cc8807c9e7\",\"type\":\"FactorRange\"},\"x_scale\":{\"id\":\"67186aad-6c57-483f-9a1b-4e28778216a6\",\"type\":\"CategoricalScale\"},\"y_range\":{\"id\":\"1eca8dd2-820e-4c9e-9eb2-e67b655f1ae7\",\"type\":\"DataRange1d\"},\"y_scale\":{\"id\":\"036a5f2a-359d-41b5-b2c4-a6643d5af90c\",\"type\":\"LinearScale\"}},\"id\":\"ee9901d2-7f54-4258-98a3-6aeb7ff4477c\",\"subtype\":\"Figure\",\"type\":\"Plot\"},{\"attributes\":{\"callback\":null,\"data\":{\"top\":[5,3,4,2,4,6],\"x\":[\"Apples\",\"Pears\",\"Nectarines\",\"Plums\",\"Grapes\",\"Strawberries\"]},\"selected\":{\"id\":\"74d0b8a1-82f1-4d31-8b8c-d4819d57f762\",\"type\":\"Selection\"},\"selection_policy\":{\"id\":\"c0ba79f7-b7f7-47f0-b02f-916e18107313\",\"type\":\"UnionRenderers\"}},\"id\":\"ce614cce-dec3-48ca-957d-ff6e3a8c19b6\",\"type\":\"ColumnDataSource\"},{\"attributes\":{},\"id\":\"036a5f2a-359d-41b5-b2c4-a6643d5af90c\",\"type\":\"LinearScale\"}],\"root_ids\":[\"ee9901d2-7f54-4258-98a3-6aeb7ff4477c\"]},\"title\":\"Bokeh Application\",\"version\":\"0.13.0\"}};\n",
       "  var render_items = [{\"docid\":\"f1fcd9e7-e0f1-4fae-a70a-af1d7c9db807\",\"roots\":{\"ee9901d2-7f54-4258-98a3-6aeb7ff4477c\":\"f3f94fdf-6f9d-47bd-b2ed-f78866dae7a7\"}}];\n",
       "  root.Bokeh.embed.embed_items_notebook(docs_json, render_items);\n",
       "\n",
       "  }\n",
       "  if (root.Bokeh !== undefined) {\n",
       "    embed_document(root);\n",
       "  } else {\n",
       "    var attempts = 0;\n",
       "    var timer = setInterval(function(root) {\n",
       "      if (root.Bokeh !== undefined) {\n",
       "        embed_document(root);\n",
       "        clearInterval(timer);\n",
       "      }\n",
       "      attempts++;\n",
       "      if (attempts > 100) {\n",
       "        console.log(\"Bokeh: ERROR: Unable to run BokehJS code because BokehJS library is missing\")\n",
       "        clearInterval(timer);\n",
       "      }\n",
       "    }, 10, root)\n",
       "  }\n",
       "})(window);"
      ],
      "application/vnd.bokehjs_exec.v0+json": ""
     },
     "metadata": {
      "application/vnd.bokehjs_exec.v0+json": {
       "id": "ee9901d2-7f54-4258-98a3-6aeb7ff4477c"
      }
     },
     "output_type": "display_data"
    }
   ],
   "source": [
    "fruits = ['Apples', 'Pears', 'Nectarines', 'Plums', 'Grapes', 'Strawberries']\n",
    "\n",
    "p = figure(x_range=fruits, plot_height=250, title=\"Fruit Counts\",\n",
    "           toolbar_location=None, tools=\"\")\n",
    "\n",
    "p.vbar(x=fruits, top=[5, 3, 4, 2, 4, 6], width=0.6)\n",
    "\n",
    "p.xgrid.grid_line_color = None\n",
    "p.y_range.start = 0\n",
    "\n",
    "show(p)"
   ]
  },
  {
   "cell_type": "markdown",
   "metadata": {},
   "source": [
    "Often times we may want to have bars that are shaded some color. One way is to supply all the colors up front. This can be done by putting all the data, including the colors for each bar, in a `ColumnDataSource`. Then the name of the column containing the colors is passed to figure as the color (or line_color/fill_color) arguments. This is shown below:"
   ]
  },
  {
   "cell_type": "code",
   "execution_count": 15,
   "metadata": {},
   "outputs": [],
   "source": [
    "# EXERCISE 1: Create your own simple bar chart"
   ]
  },
  {
   "cell_type": "code",
   "execution_count": 17,
   "metadata": {},
   "outputs": [
    {
     "data": {
      "text/html": [
       "\n",
       "\n",
       "\n",
       "\n",
       "\n",
       "\n",
       "  <div class=\"bk-root\" id=\"64d5a1d3-a586-4a74-ad3d-781b37aa3f1e\"></div>\n"
      ]
     },
     "metadata": {},
     "output_type": "display_data"
    },
    {
     "data": {
      "application/javascript": [
       "(function(root) {\n",
       "  function embed_document(root) {\n",
       "    \n",
       "  var docs_json = {\"8617bef6-14fa-482a-9ed1-81296ddf6ad7\":{\"roots\":{\"references\":[{\"attributes\":{},\"id\":\"92ee0961-bf80-4f0e-a4f5-d76ed296536e\",\"type\":\"Selection\"},{\"attributes\":{\"label\":{\"field\":\"fruits\"},\"renderers\":[{\"id\":\"015d826a-b94f-4086-a905-4e1d93d81ad2\",\"type\":\"GlyphRenderer\"}]},\"id\":\"acbe90ec-f0f4-4c93-8556-c47d4988bc94\",\"type\":\"LegendItem\"},{\"attributes\":{\"formatter\":{\"id\":\"b4b7acf4-80da-4d0f-92a4-0d8acae4c13e\",\"type\":\"BasicTickFormatter\"},\"plot\":{\"id\":\"698b0f1a-1908-47cb-857f-d4fac7f9928d\",\"subtype\":\"Figure\",\"type\":\"Plot\"},\"ticker\":{\"id\":\"a0a89847-a3c3-461e-afe7-51f30fe09d70\",\"type\":\"BasicTicker\"}},\"id\":\"3f5041ae-916e-46ad-a76d-220d14b05ebd\",\"type\":\"LinearAxis\"},{\"attributes\":{},\"id\":\"b4b7acf4-80da-4d0f-92a4-0d8acae4c13e\",\"type\":\"BasicTickFormatter\"},{\"attributes\":{\"dimension\":1,\"plot\":{\"id\":\"698b0f1a-1908-47cb-857f-d4fac7f9928d\",\"subtype\":\"Figure\",\"type\":\"Plot\"},\"ticker\":{\"id\":\"a0a89847-a3c3-461e-afe7-51f30fe09d70\",\"type\":\"BasicTicker\"}},\"id\":\"6411367d-9389-4877-80f5-91b365a89a9c\",\"type\":\"Grid\"},{\"attributes\":{},\"id\":\"a0a89847-a3c3-461e-afe7-51f30fe09d70\",\"type\":\"BasicTicker\"},{\"attributes\":{},\"id\":\"1a6ff061-fcbc-4fd1-b267-1fb20d334ce8\",\"type\":\"UnionRenderers\"},{\"attributes\":{\"plot\":null,\"text\":\"Fruit Counts\"},\"id\":\"841068bc-1a5b-4573-aa7a-a8d6bd82476c\",\"type\":\"Title\"},{\"attributes\":{},\"id\":\"307ccd94-697a-4468-a23d-71194203c3b1\",\"type\":\"CategoricalTickFormatter\"},{\"attributes\":{},\"id\":\"ebd36652-9a7d-4e46-9c38-9dbaba1b2e14\",\"type\":\"CategoricalScale\"},{\"attributes\":{\"data_source\":{\"id\":\"bd541b02-ca0a-4fbe-b192-90d6bf3755e9\",\"type\":\"ColumnDataSource\"},\"glyph\":{\"id\":\"e449086e-5c55-44b5-9a0a-b038f42dfe97\",\"type\":\"VBar\"},\"hover_glyph\":null,\"muted_glyph\":null,\"nonselection_glyph\":{\"id\":\"10675d30-ba5f-4959-99e6-ffa562de65fc\",\"type\":\"VBar\"},\"selection_glyph\":null,\"view\":{\"id\":\"725e8317-7792-4b60-8015-8e7b50a7e26d\",\"type\":\"CDSView\"}},\"id\":\"015d826a-b94f-4086-a905-4e1d93d81ad2\",\"type\":\"GlyphRenderer\"},{\"attributes\":{},\"id\":\"7d9b669d-981c-4126-b8ab-d8c9c7d9250c\",\"type\":\"LinearScale\"},{\"attributes\":{\"below\":[{\"id\":\"0de05db5-e911-4b56-b4ce-9b8fcd366d08\",\"type\":\"CategoricalAxis\"}],\"left\":[{\"id\":\"3f5041ae-916e-46ad-a76d-220d14b05ebd\",\"type\":\"LinearAxis\"}],\"plot_height\":250,\"renderers\":[{\"id\":\"0de05db5-e911-4b56-b4ce-9b8fcd366d08\",\"type\":\"CategoricalAxis\"},{\"id\":\"975ddfb1-97ff-4e95-9d31-abbb99e21431\",\"type\":\"Grid\"},{\"id\":\"3f5041ae-916e-46ad-a76d-220d14b05ebd\",\"type\":\"LinearAxis\"},{\"id\":\"6411367d-9389-4877-80f5-91b365a89a9c\",\"type\":\"Grid\"},{\"id\":\"512e3d4a-fdd4-4c87-a967-4429f07b8085\",\"type\":\"Legend\"},{\"id\":\"015d826a-b94f-4086-a905-4e1d93d81ad2\",\"type\":\"GlyphRenderer\"}],\"title\":{\"id\":\"841068bc-1a5b-4573-aa7a-a8d6bd82476c\",\"type\":\"Title\"},\"toolbar\":{\"id\":\"a459a848-cc1b-475d-a8e2-820d778ee49b\",\"type\":\"Toolbar\"},\"toolbar_location\":null,\"x_range\":{\"id\":\"0e168197-3f3c-4746-b3b5-aa1cdbd72367\",\"type\":\"FactorRange\"},\"x_scale\":{\"id\":\"ebd36652-9a7d-4e46-9c38-9dbaba1b2e14\",\"type\":\"CategoricalScale\"},\"y_range\":{\"id\":\"b19f398d-32e0-4f24-a759-68ee2ae8a720\",\"type\":\"Range1d\"},\"y_scale\":{\"id\":\"7d9b669d-981c-4126-b8ab-d8c9c7d9250c\",\"type\":\"LinearScale\"}},\"id\":\"698b0f1a-1908-47cb-857f-d4fac7f9928d\",\"subtype\":\"Figure\",\"type\":\"Plot\"},{\"attributes\":{\"source\":{\"id\":\"bd541b02-ca0a-4fbe-b192-90d6bf3755e9\",\"type\":\"ColumnDataSource\"}},\"id\":\"725e8317-7792-4b60-8015-8e7b50a7e26d\",\"type\":\"CDSView\"},{\"attributes\":{\"active_drag\":\"auto\",\"active_inspect\":\"auto\",\"active_multi\":null,\"active_scroll\":\"auto\",\"active_tap\":\"auto\"},\"id\":\"a459a848-cc1b-475d-a8e2-820d778ee49b\",\"type\":\"Toolbar\"},{\"attributes\":{\"formatter\":{\"id\":\"307ccd94-697a-4468-a23d-71194203c3b1\",\"type\":\"CategoricalTickFormatter\"},\"plot\":{\"id\":\"698b0f1a-1908-47cb-857f-d4fac7f9928d\",\"subtype\":\"Figure\",\"type\":\"Plot\"},\"ticker\":{\"id\":\"5752bf69-f81a-47cf-aac8-8a5e65f01b55\",\"type\":\"CategoricalTicker\"}},\"id\":\"0de05db5-e911-4b56-b4ce-9b8fcd366d08\",\"type\":\"CategoricalAxis\"},{\"attributes\":{\"callback\":null,\"data\":{\"color\":[\"#3288bd\",\"#99d594\",\"#e6f598\",\"#fee08b\",\"#fc8d59\",\"#d53e4f\"],\"counts\":[5,3,4,2,4,6],\"fruits\":[\"Apples\",\"Pears\",\"Nectarines\",\"Plums\",\"Grapes\",\"Strawberries\"]},\"selected\":{\"id\":\"92ee0961-bf80-4f0e-a4f5-d76ed296536e\",\"type\":\"Selection\"},\"selection_policy\":{\"id\":\"1a6ff061-fcbc-4fd1-b267-1fb20d334ce8\",\"type\":\"UnionRenderers\"}},\"id\":\"bd541b02-ca0a-4fbe-b192-90d6bf3755e9\",\"type\":\"ColumnDataSource\"},{\"attributes\":{\"items\":[{\"id\":\"acbe90ec-f0f4-4c93-8556-c47d4988bc94\",\"type\":\"LegendItem\"}],\"location\":\"top_center\",\"orientation\":\"horizontal\",\"plot\":{\"id\":\"698b0f1a-1908-47cb-857f-d4fac7f9928d\",\"subtype\":\"Figure\",\"type\":\"Plot\"}},\"id\":\"512e3d4a-fdd4-4c87-a967-4429f07b8085\",\"type\":\"Legend\"},{\"attributes\":{\"grid_line_color\":{\"value\":null},\"plot\":{\"id\":\"698b0f1a-1908-47cb-857f-d4fac7f9928d\",\"subtype\":\"Figure\",\"type\":\"Plot\"},\"ticker\":{\"id\":\"5752bf69-f81a-47cf-aac8-8a5e65f01b55\",\"type\":\"CategoricalTicker\"}},\"id\":\"975ddfb1-97ff-4e95-9d31-abbb99e21431\",\"type\":\"Grid\"},{\"attributes\":{\"fill_alpha\":{\"value\":0.1},\"fill_color\":{\"value\":\"#1f77b4\"},\"line_alpha\":{\"value\":0.1},\"line_color\":{\"value\":\"#1f77b4\"},\"top\":{\"field\":\"counts\"},\"width\":{\"value\":0.6},\"x\":{\"field\":\"fruits\"}},\"id\":\"10675d30-ba5f-4959-99e6-ffa562de65fc\",\"type\":\"VBar\"},{\"attributes\":{\"callback\":null,\"factors\":[\"Apples\",\"Pears\",\"Nectarines\",\"Plums\",\"Grapes\",\"Strawberries\"]},\"id\":\"0e168197-3f3c-4746-b3b5-aa1cdbd72367\",\"type\":\"FactorRange\"},{\"attributes\":{\"callback\":null,\"end\":9},\"id\":\"b19f398d-32e0-4f24-a759-68ee2ae8a720\",\"type\":\"Range1d\"},{\"attributes\":{\"fill_color\":{\"field\":\"color\"},\"line_color\":{\"field\":\"color\"},\"top\":{\"field\":\"counts\"},\"width\":{\"value\":0.6},\"x\":{\"field\":\"fruits\"}},\"id\":\"e449086e-5c55-44b5-9a0a-b038f42dfe97\",\"type\":\"VBar\"},{\"attributes\":{},\"id\":\"5752bf69-f81a-47cf-aac8-8a5e65f01b55\",\"type\":\"CategoricalTicker\"}],\"root_ids\":[\"698b0f1a-1908-47cb-857f-d4fac7f9928d\"]},\"title\":\"Bokeh Application\",\"version\":\"0.13.0\"}};\n",
       "  var render_items = [{\"docid\":\"8617bef6-14fa-482a-9ed1-81296ddf6ad7\",\"roots\":{\"698b0f1a-1908-47cb-857f-d4fac7f9928d\":\"64d5a1d3-a586-4a74-ad3d-781b37aa3f1e\"}}];\n",
       "  root.Bokeh.embed.embed_items_notebook(docs_json, render_items);\n",
       "\n",
       "  }\n",
       "  if (root.Bokeh !== undefined) {\n",
       "    embed_document(root);\n",
       "  } else {\n",
       "    var attempts = 0;\n",
       "    var timer = setInterval(function(root) {\n",
       "      if (root.Bokeh !== undefined) {\n",
       "        embed_document(root);\n",
       "        clearInterval(timer);\n",
       "      }\n",
       "      attempts++;\n",
       "      if (attempts > 100) {\n",
       "        console.log(\"Bokeh: ERROR: Unable to run BokehJS code because BokehJS library is missing\")\n",
       "        clearInterval(timer);\n",
       "      }\n",
       "    }, 10, root)\n",
       "  }\n",
       "})(window);"
      ],
      "application/vnd.bokehjs_exec.v0+json": ""
     },
     "metadata": {
      "application/vnd.bokehjs_exec.v0+json": {
       "id": "698b0f1a-1908-47cb-857f-d4fac7f9928d"
      }
     },
     "output_type": "display_data"
    }
   ],
   "source": [
    "from bokeh.models import ColumnDataSource\n",
    "from bokeh.palettes import Spectral6\n",
    "\n",
    "fruits = ['Apples', 'Pears', 'Nectarines', 'Plums', 'Grapes', 'Strawberries']\n",
    "counts = [5, 3, 4, 2, 4, 6]\n",
    "\n",
    "source = ColumnDataSource(data=dict(fruits=fruits, counts=counts, color=Spectral6))\n",
    "\n",
    "p = figure(x_range=fruits, y_range=(0,9), plot_height=250, title=\"Fruit Counts\",\n",
    "           toolbar_location=None, tools=\"\")\n",
    "\n",
    "p.vbar(x='fruits', top='counts', width=0.6, color='color', legend=\"fruits\", source=source)\n",
    "\n",
    "p.xgrid.grid_line_color = None\n",
    "p.legend.orientation = \"horizontal\"\n",
    "p.legend.location = \"top_center\"\n",
    "\n",
    "show(p)"
   ]
  },
  {
   "cell_type": "code",
   "execution_count": 18,
   "metadata": {},
   "outputs": [],
   "source": [
    "# EXERCISE 2: Create your own simple bar chart driven by a ColumnDataSource"
   ]
  },
  {
   "cell_type": "markdown",
   "metadata": {},
   "source": [
    "### Grouped\n",
    "\n",
    "When creating bar charts, it is often desirable to visually display the data according to sub-groups. There are two basic methods that can be used, depending on your use case: using nested categorical coordinates, or applying vidual dodges.\n",
    "\n",
    "### Nested Categories\n",
    "\n",
    "If the coordinates of a plot range and data have two or three levels, then Bokeh will automatically group the factors on the axis, including a hierarchical tick labeling with separators between the groups. In the case of bar charts, this results in bars grouped together by the top-level factors. This is probably the most common way to achieve grouped bars, especially if you are starting from “tidy” data.\n",
    "\n",
    "The example below shows this approach by creating a single column of coordinates that are each 2-tuples of the form (fruit, year). Accordingly, the plot groups the axes by fruit type, with a single call to vbar:"
   ]
  },
  {
   "cell_type": "code",
   "execution_count": 19,
   "metadata": {},
   "outputs": [
    {
     "data": {
      "text/html": [
       "\n",
       "\n",
       "\n",
       "\n",
       "\n",
       "\n",
       "  <div class=\"bk-root\" id=\"2ab48f23-cf90-4e48-bbaa-3361d74386fd\"></div>\n"
      ]
     },
     "metadata": {},
     "output_type": "display_data"
    },
    {
     "data": {
      "application/javascript": [
       "(function(root) {\n",
       "  function embed_document(root) {\n",
       "    \n",
       "  var docs_json = {\"02459f44-e57b-4fdf-b9f8-07cf228e75de\":{\"roots\":{\"references\":[{\"attributes\":{\"dimension\":1,\"plot\":{\"id\":\"d76552cf-7320-4001-ba36-bf3b8948f785\",\"subtype\":\"Figure\",\"type\":\"Plot\"},\"ticker\":{\"id\":\"42ceeaa1-e06e-4c52-9109-9b419362f077\",\"type\":\"BasicTicker\"}},\"id\":\"715d1919-c361-42d4-95dc-81c9294a614e\",\"type\":\"Grid\"},{\"attributes\":{\"source\":{\"id\":\"0e2b639b-df22-449e-ab85-a70daa8ef856\",\"type\":\"ColumnDataSource\"}},\"id\":\"1f38644b-521c-476e-9571-b9bd9fc5cb44\",\"type\":\"CDSView\"},{\"attributes\":{\"fill_alpha\":{\"value\":0.1},\"fill_color\":{\"value\":\"#1f77b4\"},\"line_alpha\":{\"value\":0.1},\"line_color\":{\"value\":\"#1f77b4\"},\"top\":{\"field\":\"counts\"},\"width\":{\"value\":0.9},\"x\":{\"field\":\"x\"}},\"id\":\"e91477d2-255f-42c2-af9a-b76081465134\",\"type\":\"VBar\"},{\"attributes\":{\"callback\":null,\"data\":{\"counts\":[2,5,3,1,3,2,4,3,4,3,2,4,2,4,5,4,6,3],\"x\":[[\"Apples\",\"2015\"],[\"Apples\",\"2016\"],[\"Apples\",\"2017\"],[\"Pears\",\"2015\"],[\"Pears\",\"2016\"],[\"Pears\",\"2017\"],[\"Nectarines\",\"2015\"],[\"Nectarines\",\"2016\"],[\"Nectarines\",\"2017\"],[\"Plums\",\"2015\"],[\"Plums\",\"2016\"],[\"Plums\",\"2017\"],[\"Grapes\",\"2015\"],[\"Grapes\",\"2016\"],[\"Grapes\",\"2017\"],[\"Strawberries\",\"2015\"],[\"Strawberries\",\"2016\"],[\"Strawberries\",\"2017\"]]},\"selected\":{\"id\":\"ef43a6cb-a16c-4315-8d8d-0cf70e93807b\",\"type\":\"Selection\"},\"selection_policy\":{\"id\":\"34615422-96f8-421a-a48c-f5c70180730d\",\"type\":\"UnionRenderers\"}},\"id\":\"0e2b639b-df22-449e-ab85-a70daa8ef856\",\"type\":\"ColumnDataSource\"},{\"attributes\":{\"data_source\":{\"id\":\"0e2b639b-df22-449e-ab85-a70daa8ef856\",\"type\":\"ColumnDataSource\"},\"glyph\":{\"id\":\"735ea7fd-2e52-447e-ab38-ade4b526f851\",\"type\":\"VBar\"},\"hover_glyph\":null,\"muted_glyph\":null,\"nonselection_glyph\":{\"id\":\"e91477d2-255f-42c2-af9a-b76081465134\",\"type\":\"VBar\"},\"selection_glyph\":null,\"view\":{\"id\":\"1f38644b-521c-476e-9571-b9bd9fc5cb44\",\"type\":\"CDSView\"}},\"id\":\"88026256-8450-464e-b413-9dda424ac5c1\",\"type\":\"GlyphRenderer\"},{\"attributes\":{},\"id\":\"34615422-96f8-421a-a48c-f5c70180730d\",\"type\":\"UnionRenderers\"},{\"attributes\":{\"callback\":null,\"factors\":[[\"Apples\",\"2015\"],[\"Apples\",\"2016\"],[\"Apples\",\"2017\"],[\"Pears\",\"2015\"],[\"Pears\",\"2016\"],[\"Pears\",\"2017\"],[\"Nectarines\",\"2015\"],[\"Nectarines\",\"2016\"],[\"Nectarines\",\"2017\"],[\"Plums\",\"2015\"],[\"Plums\",\"2016\"],[\"Plums\",\"2017\"],[\"Grapes\",\"2015\"],[\"Grapes\",\"2016\"],[\"Grapes\",\"2017\"],[\"Strawberries\",\"2015\"],[\"Strawberries\",\"2016\"],[\"Strawberries\",\"2017\"]],\"range_padding\":0.1},\"id\":\"bd911b38-3bfd-4452-a4ac-8da14b1cb361\",\"type\":\"FactorRange\"},{\"attributes\":{},\"id\":\"b9b06d64-b834-45e1-84db-dd9c0b5bb608\",\"type\":\"CategoricalTickFormatter\"},{\"attributes\":{},\"id\":\"b8a80a38-43a3-4975-9349-65d18a859ec7\",\"type\":\"BasicTickFormatter\"},{\"attributes\":{\"below\":[{\"id\":\"d902fac2-7fd8-41a8-bd2a-35be173ce994\",\"type\":\"CategoricalAxis\"}],\"left\":[{\"id\":\"e47b9073-1481-447b-8421-e4a9499529ee\",\"type\":\"LinearAxis\"}],\"plot_height\":250,\"renderers\":[{\"id\":\"d902fac2-7fd8-41a8-bd2a-35be173ce994\",\"type\":\"CategoricalAxis\"},{\"id\":\"6698260c-7fcb-4ccc-aea4-a0411fd6d4da\",\"type\":\"Grid\"},{\"id\":\"e47b9073-1481-447b-8421-e4a9499529ee\",\"type\":\"LinearAxis\"},{\"id\":\"715d1919-c361-42d4-95dc-81c9294a614e\",\"type\":\"Grid\"},{\"id\":\"88026256-8450-464e-b413-9dda424ac5c1\",\"type\":\"GlyphRenderer\"}],\"title\":{\"id\":\"6520ac1b-f56f-4c0c-a906-5f60019f0bd2\",\"type\":\"Title\"},\"toolbar\":{\"id\":\"e8af0d8a-9c02-4b64-a778-cfeb4335137f\",\"type\":\"Toolbar\"},\"toolbar_location\":null,\"x_range\":{\"id\":\"bd911b38-3bfd-4452-a4ac-8da14b1cb361\",\"type\":\"FactorRange\"},\"x_scale\":{\"id\":\"1452fbb2-e1a0-4fe7-9801-335619287265\",\"type\":\"CategoricalScale\"},\"y_range\":{\"id\":\"c6e064c0-3ebc-4f24-be87-05e9f012bdc2\",\"type\":\"DataRange1d\"},\"y_scale\":{\"id\":\"e4f95eb1-37b3-4df3-9b78-f4e27d34eb6e\",\"type\":\"LinearScale\"}},\"id\":\"d76552cf-7320-4001-ba36-bf3b8948f785\",\"subtype\":\"Figure\",\"type\":\"Plot\"},{\"attributes\":{},\"id\":\"ef43a6cb-a16c-4315-8d8d-0cf70e93807b\",\"type\":\"Selection\"},{\"attributes\":{\"plot\":null,\"text\":\"Fruit Counts by Year\"},\"id\":\"6520ac1b-f56f-4c0c-a906-5f60019f0bd2\",\"type\":\"Title\"},{\"attributes\":{\"callback\":null,\"start\":0},\"id\":\"c6e064c0-3ebc-4f24-be87-05e9f012bdc2\",\"type\":\"DataRange1d\"},{\"attributes\":{\"active_drag\":\"auto\",\"active_inspect\":\"auto\",\"active_multi\":null,\"active_scroll\":\"auto\",\"active_tap\":\"auto\"},\"id\":\"e8af0d8a-9c02-4b64-a778-cfeb4335137f\",\"type\":\"Toolbar\"},{\"attributes\":{\"fill_color\":{\"value\":\"#1f77b4\"},\"line_color\":{\"value\":\"#1f77b4\"},\"top\":{\"field\":\"counts\"},\"width\":{\"value\":0.9},\"x\":{\"field\":\"x\"}},\"id\":\"735ea7fd-2e52-447e-ab38-ade4b526f851\",\"type\":\"VBar\"},{\"attributes\":{\"formatter\":{\"id\":\"b8a80a38-43a3-4975-9349-65d18a859ec7\",\"type\":\"BasicTickFormatter\"},\"plot\":{\"id\":\"d76552cf-7320-4001-ba36-bf3b8948f785\",\"subtype\":\"Figure\",\"type\":\"Plot\"},\"ticker\":{\"id\":\"42ceeaa1-e06e-4c52-9109-9b419362f077\",\"type\":\"BasicTicker\"}},\"id\":\"e47b9073-1481-447b-8421-e4a9499529ee\",\"type\":\"LinearAxis\"},{\"attributes\":{},\"id\":\"e4f95eb1-37b3-4df3-9b78-f4e27d34eb6e\",\"type\":\"LinearScale\"},{\"attributes\":{},\"id\":\"1452fbb2-e1a0-4fe7-9801-335619287265\",\"type\":\"CategoricalScale\"},{\"attributes\":{\"grid_line_color\":{\"value\":null},\"plot\":{\"id\":\"d76552cf-7320-4001-ba36-bf3b8948f785\",\"subtype\":\"Figure\",\"type\":\"Plot\"},\"ticker\":{\"id\":\"1efb4df3-eae6-486c-afde-734f7bf5562e\",\"type\":\"CategoricalTicker\"}},\"id\":\"6698260c-7fcb-4ccc-aea4-a0411fd6d4da\",\"type\":\"Grid\"},{\"attributes\":{\"formatter\":{\"id\":\"b9b06d64-b834-45e1-84db-dd9c0b5bb608\",\"type\":\"CategoricalTickFormatter\"},\"major_label_orientation\":1,\"plot\":{\"id\":\"d76552cf-7320-4001-ba36-bf3b8948f785\",\"subtype\":\"Figure\",\"type\":\"Plot\"},\"ticker\":{\"id\":\"1efb4df3-eae6-486c-afde-734f7bf5562e\",\"type\":\"CategoricalTicker\"}},\"id\":\"d902fac2-7fd8-41a8-bd2a-35be173ce994\",\"type\":\"CategoricalAxis\"},{\"attributes\":{},\"id\":\"1efb4df3-eae6-486c-afde-734f7bf5562e\",\"type\":\"CategoricalTicker\"},{\"attributes\":{},\"id\":\"42ceeaa1-e06e-4c52-9109-9b419362f077\",\"type\":\"BasicTicker\"}],\"root_ids\":[\"d76552cf-7320-4001-ba36-bf3b8948f785\"]},\"title\":\"Bokeh Application\",\"version\":\"0.13.0\"}};\n",
       "  var render_items = [{\"docid\":\"02459f44-e57b-4fdf-b9f8-07cf228e75de\",\"roots\":{\"d76552cf-7320-4001-ba36-bf3b8948f785\":\"2ab48f23-cf90-4e48-bbaa-3361d74386fd\"}}];\n",
       "  root.Bokeh.embed.embed_items_notebook(docs_json, render_items);\n",
       "\n",
       "  }\n",
       "  if (root.Bokeh !== undefined) {\n",
       "    embed_document(root);\n",
       "  } else {\n",
       "    var attempts = 0;\n",
       "    var timer = setInterval(function(root) {\n",
       "      if (root.Bokeh !== undefined) {\n",
       "        embed_document(root);\n",
       "        clearInterval(timer);\n",
       "      }\n",
       "      attempts++;\n",
       "      if (attempts > 100) {\n",
       "        console.log(\"Bokeh: ERROR: Unable to run BokehJS code because BokehJS library is missing\")\n",
       "        clearInterval(timer);\n",
       "      }\n",
       "    }, 10, root)\n",
       "  }\n",
       "})(window);"
      ],
      "application/vnd.bokehjs_exec.v0+json": ""
     },
     "metadata": {
      "application/vnd.bokehjs_exec.v0+json": {
       "id": "d76552cf-7320-4001-ba36-bf3b8948f785"
      }
     },
     "output_type": "display_data"
    }
   ],
   "source": [
    "from bokeh.models import ColumnDataSource, FactorRange\n",
    "from bokeh.plotting import figure\n",
    "\n",
    "fruits = ['Apples', 'Pears', 'Nectarines', 'Plums', 'Grapes', 'Strawberries']\n",
    "years = ['2015', '2016', '2017']\n",
    "\n",
    "data = {'fruits' : fruits,\n",
    "        '2015'   : [2, 1, 4, 3, 2, 4],\n",
    "        '2016'   : [5, 3, 3, 2, 4, 6],\n",
    "        '2017'   : [3, 2, 4, 4, 5, 3]}\n",
    "\n",
    "# this creates [ (\"Apples\", \"2015\"), (\"Apples\", \"2016\"), (\"Apples\", \"2017\"), (\"Pears\", \"2015), ... ]\n",
    "x = [ (fruit, year) for fruit in fruits for year in years ]\n",
    "counts = sum(zip(data['2015'], data['2016'], data['2017']), ()) # like an hstack in numpy\n",
    "\n",
    "source = ColumnDataSource(data=dict(x=x, counts=counts))\n",
    "\n",
    "p = figure(x_range=FactorRange(*x), plot_height=250, title=\"Fruit Counts by Year\",\n",
    "           toolbar_location=None, tools=\"\")\n",
    "\n",
    "p.vbar(x='x', top='counts', width=0.9, source=source)\n",
    "\n",
    "p.y_range.start = 0\n",
    "p.x_range.range_padding = 0.1\n",
    "p.xaxis.major_label_orientation = 1\n",
    "p.xgrid.grid_line_color = None\n",
    "\n",
    "show(p)"
   ]
  },
  {
   "cell_type": "code",
   "execution_count": 21,
   "metadata": {},
   "outputs": [],
   "source": [
    "# EXERCISE 3: Make the chart above have a different color for each year by adding colors to the ColumnDataSource"
   ]
  },
  {
   "cell_type": "markdown",
   "metadata": {},
   "source": [
    "We can also apply a color mapping, similar to the earlier example. To obtain same grouped bar plot of fruits data as above, except with the bars shaded by the year, changethe vbar function call to use `factor_cmap` for the fill_color:"
   ]
  },
  {
   "cell_type": "code",
   "execution_count": 20,
   "metadata": {},
   "outputs": [
    {
     "data": {
      "text/html": [
       "\n",
       "\n",
       "\n",
       "\n",
       "\n",
       "\n",
       "  <div class=\"bk-root\" id=\"27887035-80cb-45e7-9d13-22cf63708b5c\"></div>\n"
      ]
     },
     "metadata": {},
     "output_type": "display_data"
    },
    {
     "data": {
      "application/javascript": [
       "(function(root) {\n",
       "  function embed_document(root) {\n",
       "    \n",
       "  var docs_json = {\"0319a746-4396-4558-abb3-cb80b901ef21\":{\"roots\":{\"references\":[{\"attributes\":{\"dimension\":1,\"plot\":{\"id\":\"d76552cf-7320-4001-ba36-bf3b8948f785\",\"subtype\":\"Figure\",\"type\":\"Plot\"},\"ticker\":{\"id\":\"42ceeaa1-e06e-4c52-9109-9b419362f077\",\"type\":\"BasicTicker\"}},\"id\":\"715d1919-c361-42d4-95dc-81c9294a614e\",\"type\":\"Grid\"},{\"attributes\":{\"source\":{\"id\":\"0e2b639b-df22-449e-ab85-a70daa8ef856\",\"type\":\"ColumnDataSource\"}},\"id\":\"1f38644b-521c-476e-9571-b9bd9fc5cb44\",\"type\":\"CDSView\"},{\"attributes\":{\"fill_alpha\":{\"value\":0.1},\"fill_color\":{\"value\":\"#1f77b4\"},\"line_alpha\":{\"value\":0.1},\"line_color\":{\"value\":\"#1f77b4\"},\"top\":{\"field\":\"counts\"},\"width\":{\"value\":0.9},\"x\":{\"field\":\"x\"}},\"id\":\"c35b6266-86c1-4bf1-955b-a2ac104bb0a4\",\"type\":\"VBar\"},{\"attributes\":{\"fill_alpha\":{\"value\":0.1},\"fill_color\":{\"value\":\"#1f77b4\"},\"line_alpha\":{\"value\":0.1},\"line_color\":{\"value\":\"#1f77b4\"},\"top\":{\"field\":\"counts\"},\"width\":{\"value\":0.9},\"x\":{\"field\":\"x\"}},\"id\":\"e91477d2-255f-42c2-af9a-b76081465134\",\"type\":\"VBar\"},{\"attributes\":{\"callback\":null,\"data\":{\"counts\":[2,5,3,1,3,2,4,3,4,3,2,4,2,4,5,4,6,3],\"x\":[[\"Apples\",\"2015\"],[\"Apples\",\"2016\"],[\"Apples\",\"2017\"],[\"Pears\",\"2015\"],[\"Pears\",\"2016\"],[\"Pears\",\"2017\"],[\"Nectarines\",\"2015\"],[\"Nectarines\",\"2016\"],[\"Nectarines\",\"2017\"],[\"Plums\",\"2015\"],[\"Plums\",\"2016\"],[\"Plums\",\"2017\"],[\"Grapes\",\"2015\"],[\"Grapes\",\"2016\"],[\"Grapes\",\"2017\"],[\"Strawberries\",\"2015\"],[\"Strawberries\",\"2016\"],[\"Strawberries\",\"2017\"]]},\"selected\":{\"id\":\"ef43a6cb-a16c-4315-8d8d-0cf70e93807b\",\"type\":\"Selection\"},\"selection_policy\":{\"id\":\"34615422-96f8-421a-a48c-f5c70180730d\",\"type\":\"UnionRenderers\"}},\"id\":\"0e2b639b-df22-449e-ab85-a70daa8ef856\",\"type\":\"ColumnDataSource\"},{\"attributes\":{\"data_source\":{\"id\":\"0e2b639b-df22-449e-ab85-a70daa8ef856\",\"type\":\"ColumnDataSource\"},\"glyph\":{\"id\":\"735ea7fd-2e52-447e-ab38-ade4b526f851\",\"type\":\"VBar\"},\"hover_glyph\":null,\"muted_glyph\":null,\"nonselection_glyph\":{\"id\":\"e91477d2-255f-42c2-af9a-b76081465134\",\"type\":\"VBar\"},\"selection_glyph\":null,\"view\":{\"id\":\"1f38644b-521c-476e-9571-b9bd9fc5cb44\",\"type\":\"CDSView\"}},\"id\":\"88026256-8450-464e-b413-9dda424ac5c1\",\"type\":\"GlyphRenderer\"},{\"attributes\":{\"end\":2,\"factors\":[\"2015\",\"2016\",\"2017\"],\"palette\":[\"#5e4fa2\",\"#3288bd\",\"#66c2a5\",\"#abdda4\",\"#e6f598\",\"#fee08b\",\"#fdae61\",\"#f46d43\",\"#d53e4f\",\"#9e0142\"],\"start\":1},\"id\":\"07f56b49-20f7-455f-8e64-8e6fb1cde5f0\",\"type\":\"CategoricalColorMapper\"},{\"attributes\":{},\"id\":\"34615422-96f8-421a-a48c-f5c70180730d\",\"type\":\"UnionRenderers\"},{\"attributes\":{\"callback\":null,\"factors\":[[\"Apples\",\"2015\"],[\"Apples\",\"2016\"],[\"Apples\",\"2017\"],[\"Pears\",\"2015\"],[\"Pears\",\"2016\"],[\"Pears\",\"2017\"],[\"Nectarines\",\"2015\"],[\"Nectarines\",\"2016\"],[\"Nectarines\",\"2017\"],[\"Plums\",\"2015\"],[\"Plums\",\"2016\"],[\"Plums\",\"2017\"],[\"Grapes\",\"2015\"],[\"Grapes\",\"2016\"],[\"Grapes\",\"2017\"],[\"Strawberries\",\"2015\"],[\"Strawberries\",\"2016\"],[\"Strawberries\",\"2017\"]],\"range_padding\":0.1},\"id\":\"bd911b38-3bfd-4452-a4ac-8da14b1cb361\",\"type\":\"FactorRange\"},{\"attributes\":{},\"id\":\"b9b06d64-b834-45e1-84db-dd9c0b5bb608\",\"type\":\"CategoricalTickFormatter\"},{\"attributes\":{},\"id\":\"b8a80a38-43a3-4975-9349-65d18a859ec7\",\"type\":\"BasicTickFormatter\"},{\"attributes\":{\"below\":[{\"id\":\"d902fac2-7fd8-41a8-bd2a-35be173ce994\",\"type\":\"CategoricalAxis\"}],\"left\":[{\"id\":\"e47b9073-1481-447b-8421-e4a9499529ee\",\"type\":\"LinearAxis\"}],\"plot_height\":250,\"renderers\":[{\"id\":\"d902fac2-7fd8-41a8-bd2a-35be173ce994\",\"type\":\"CategoricalAxis\"},{\"id\":\"6698260c-7fcb-4ccc-aea4-a0411fd6d4da\",\"type\":\"Grid\"},{\"id\":\"e47b9073-1481-447b-8421-e4a9499529ee\",\"type\":\"LinearAxis\"},{\"id\":\"715d1919-c361-42d4-95dc-81c9294a614e\",\"type\":\"Grid\"},{\"id\":\"88026256-8450-464e-b413-9dda424ac5c1\",\"type\":\"GlyphRenderer\"},{\"id\":\"fcfcd110-2522-461a-9b07-140f74a770ac\",\"type\":\"GlyphRenderer\"}],\"title\":{\"id\":\"6520ac1b-f56f-4c0c-a906-5f60019f0bd2\",\"type\":\"Title\"},\"toolbar\":{\"id\":\"e8af0d8a-9c02-4b64-a778-cfeb4335137f\",\"type\":\"Toolbar\"},\"toolbar_location\":null,\"x_range\":{\"id\":\"bd911b38-3bfd-4452-a4ac-8da14b1cb361\",\"type\":\"FactorRange\"},\"x_scale\":{\"id\":\"1452fbb2-e1a0-4fe7-9801-335619287265\",\"type\":\"CategoricalScale\"},\"y_range\":{\"id\":\"c6e064c0-3ebc-4f24-be87-05e9f012bdc2\",\"type\":\"DataRange1d\"},\"y_scale\":{\"id\":\"e4f95eb1-37b3-4df3-9b78-f4e27d34eb6e\",\"type\":\"LinearScale\"}},\"id\":\"d76552cf-7320-4001-ba36-bf3b8948f785\",\"subtype\":\"Figure\",\"type\":\"Plot\"},{\"attributes\":{},\"id\":\"ef43a6cb-a16c-4315-8d8d-0cf70e93807b\",\"type\":\"Selection\"},{\"attributes\":{\"plot\":null,\"text\":\"Fruit Counts by Year\"},\"id\":\"6520ac1b-f56f-4c0c-a906-5f60019f0bd2\",\"type\":\"Title\"},{\"attributes\":{\"callback\":null,\"start\":0},\"id\":\"c6e064c0-3ebc-4f24-be87-05e9f012bdc2\",\"type\":\"DataRange1d\"},{\"attributes\":{\"fill_color\":{\"field\":\"x\",\"transform\":{\"id\":\"07f56b49-20f7-455f-8e64-8e6fb1cde5f0\",\"type\":\"CategoricalColorMapper\"}},\"line_color\":{\"value\":\"white\"},\"top\":{\"field\":\"counts\"},\"width\":{\"value\":0.9},\"x\":{\"field\":\"x\"}},\"id\":\"0265bf3e-241c-4d09-8379-c002d0e66e01\",\"type\":\"VBar\"},{\"attributes\":{\"active_drag\":\"auto\",\"active_inspect\":\"auto\",\"active_multi\":null,\"active_scroll\":\"auto\",\"active_tap\":\"auto\"},\"id\":\"e8af0d8a-9c02-4b64-a778-cfeb4335137f\",\"type\":\"Toolbar\"},{\"attributes\":{\"fill_color\":{\"value\":\"#1f77b4\"},\"line_color\":{\"value\":\"#1f77b4\"},\"top\":{\"field\":\"counts\"},\"width\":{\"value\":0.9},\"x\":{\"field\":\"x\"}},\"id\":\"735ea7fd-2e52-447e-ab38-ade4b526f851\",\"type\":\"VBar\"},{\"attributes\":{\"formatter\":{\"id\":\"b8a80a38-43a3-4975-9349-65d18a859ec7\",\"type\":\"BasicTickFormatter\"},\"plot\":{\"id\":\"d76552cf-7320-4001-ba36-bf3b8948f785\",\"subtype\":\"Figure\",\"type\":\"Plot\"},\"ticker\":{\"id\":\"42ceeaa1-e06e-4c52-9109-9b419362f077\",\"type\":\"BasicTicker\"}},\"id\":\"e47b9073-1481-447b-8421-e4a9499529ee\",\"type\":\"LinearAxis\"},{\"attributes\":{\"data_source\":{\"id\":\"0e2b639b-df22-449e-ab85-a70daa8ef856\",\"type\":\"ColumnDataSource\"},\"glyph\":{\"id\":\"0265bf3e-241c-4d09-8379-c002d0e66e01\",\"type\":\"VBar\"},\"hover_glyph\":null,\"muted_glyph\":null,\"nonselection_glyph\":{\"id\":\"c35b6266-86c1-4bf1-955b-a2ac104bb0a4\",\"type\":\"VBar\"},\"selection_glyph\":null,\"view\":{\"id\":\"d642374d-cd8a-4a34-b024-2d6a5b78f054\",\"type\":\"CDSView\"}},\"id\":\"fcfcd110-2522-461a-9b07-140f74a770ac\",\"type\":\"GlyphRenderer\"},{\"attributes\":{},\"id\":\"e4f95eb1-37b3-4df3-9b78-f4e27d34eb6e\",\"type\":\"LinearScale\"},{\"attributes\":{\"source\":{\"id\":\"0e2b639b-df22-449e-ab85-a70daa8ef856\",\"type\":\"ColumnDataSource\"}},\"id\":\"d642374d-cd8a-4a34-b024-2d6a5b78f054\",\"type\":\"CDSView\"},{\"attributes\":{},\"id\":\"1452fbb2-e1a0-4fe7-9801-335619287265\",\"type\":\"CategoricalScale\"},{\"attributes\":{\"grid_line_color\":{\"value\":null},\"plot\":{\"id\":\"d76552cf-7320-4001-ba36-bf3b8948f785\",\"subtype\":\"Figure\",\"type\":\"Plot\"},\"ticker\":{\"id\":\"1efb4df3-eae6-486c-afde-734f7bf5562e\",\"type\":\"CategoricalTicker\"}},\"id\":\"6698260c-7fcb-4ccc-aea4-a0411fd6d4da\",\"type\":\"Grid\"},{\"attributes\":{\"formatter\":{\"id\":\"b9b06d64-b834-45e1-84db-dd9c0b5bb608\",\"type\":\"CategoricalTickFormatter\"},\"major_label_orientation\":1,\"plot\":{\"id\":\"d76552cf-7320-4001-ba36-bf3b8948f785\",\"subtype\":\"Figure\",\"type\":\"Plot\"},\"ticker\":{\"id\":\"1efb4df3-eae6-486c-afde-734f7bf5562e\",\"type\":\"CategoricalTicker\"}},\"id\":\"d902fac2-7fd8-41a8-bd2a-35be173ce994\",\"type\":\"CategoricalAxis\"},{\"attributes\":{},\"id\":\"1efb4df3-eae6-486c-afde-734f7bf5562e\",\"type\":\"CategoricalTicker\"},{\"attributes\":{},\"id\":\"42ceeaa1-e06e-4c52-9109-9b419362f077\",\"type\":\"BasicTicker\"}],\"root_ids\":[\"d76552cf-7320-4001-ba36-bf3b8948f785\"]},\"title\":\"Bokeh Application\",\"version\":\"0.13.0\"}};\n",
       "  var render_items = [{\"docid\":\"0319a746-4396-4558-abb3-cb80b901ef21\",\"roots\":{\"d76552cf-7320-4001-ba36-bf3b8948f785\":\"27887035-80cb-45e7-9d13-22cf63708b5c\"}}];\n",
       "  root.Bokeh.embed.embed_items_notebook(docs_json, render_items);\n",
       "\n",
       "  }\n",
       "  if (root.Bokeh !== undefined) {\n",
       "    embed_document(root);\n",
       "  } else {\n",
       "    var attempts = 0;\n",
       "    var timer = setInterval(function(root) {\n",
       "      if (root.Bokeh !== undefined) {\n",
       "        embed_document(root);\n",
       "        clearInterval(timer);\n",
       "      }\n",
       "      attempts++;\n",
       "      if (attempts > 100) {\n",
       "        console.log(\"Bokeh: ERROR: Unable to run BokehJS code because BokehJS library is missing\")\n",
       "        clearInterval(timer);\n",
       "      }\n",
       "    }, 10, root)\n",
       "  }\n",
       "})(window);"
      ],
      "application/vnd.bokehjs_exec.v0+json": ""
     },
     "metadata": {
      "application/vnd.bokehjs_exec.v0+json": {
       "id": "d76552cf-7320-4001-ba36-bf3b8948f785"
      }
     },
     "output_type": "display_data"
    }
   ],
   "source": [
    "from bokeh.transform import factor_cmap\n",
    "from bokeh.palettes import Spectral10\n",
    "\n",
    "# use the palette to colormap based on the the x[1:2] values\n",
    "p.vbar(x='x', top='counts', width=0.9, source=source, line_color=\"white\",\n",
    "       fill_color=factor_cmap('x', palette=Spectral10, factors=years, start=1, end=2))\n",
    "show(p)"
   ]
  },
  {
   "cell_type": "markdown",
   "metadata": {},
   "source": [
    "Another method for achieving grouped bars is to explicitly specify a visual displacement for the bars. Such a visual offset is also referred to as a dodge.\n",
    "\n",
    "In this scenario, our data is not “tidy”. Instead a single table with rows indexed by factors (fruit, year), we have separate series for each year. We can plot all the year series using separate calls to vbar but since every bar in each group has the same fruit factor, the bars would overlap visually. We can prevent this overlap and distinguish the bars visually by using the dodge() function to provide an offset for each different call to vbar:"
   ]
  },
  {
   "cell_type": "code",
   "execution_count": 22,
   "metadata": {},
   "outputs": [
    {
     "data": {
      "text/html": [
       "\n",
       "\n",
       "\n",
       "\n",
       "\n",
       "\n",
       "  <div class=\"bk-root\" id=\"bcd4fd49-18a8-494a-abe4-755946d2bd9a\"></div>\n"
      ]
     },
     "metadata": {},
     "output_type": "display_data"
    },
    {
     "data": {
      "application/javascript": [
       "(function(root) {\n",
       "  function embed_document(root) {\n",
       "    \n",
       "  var docs_json = {\"6963d371-2720-4dfe-9251-390847bac8cc\":{\"roots\":{\"references\":[{\"attributes\":{\"below\":[{\"id\":\"fe9e0ada-f90d-4374-9371-3284300fd8d8\",\"type\":\"CategoricalAxis\"}],\"left\":[{\"id\":\"927e3c74-b087-4bcf-bf81-9c1ecfb43e02\",\"type\":\"LinearAxis\"}],\"plot_height\":250,\"renderers\":[{\"id\":\"fe9e0ada-f90d-4374-9371-3284300fd8d8\",\"type\":\"CategoricalAxis\"},{\"id\":\"881e4001-3d59-4d8b-9221-32bf3dfb7478\",\"type\":\"Grid\"},{\"id\":\"927e3c74-b087-4bcf-bf81-9c1ecfb43e02\",\"type\":\"LinearAxis\"},{\"id\":\"c3bb5be4-0ca7-40ad-bd82-91e9f67bb396\",\"type\":\"Grid\"},{\"id\":\"d7de1113-648f-4e65-a8d1-5194f196a483\",\"type\":\"Legend\"},{\"id\":\"506234b7-fa95-4156-86b2-296cc44dce5f\",\"type\":\"GlyphRenderer\"},{\"id\":\"cf0b3e66-56d1-4c56-86d0-5e7df104ea2c\",\"type\":\"GlyphRenderer\"},{\"id\":\"1f91bee5-bb24-4e35-a489-5204b25e8e36\",\"type\":\"GlyphRenderer\"}],\"title\":{\"id\":\"25ac37bb-74a8-4924-b54c-2a4fc1a8e1ee\",\"type\":\"Title\"},\"toolbar\":{\"id\":\"abe3bd90-2ac8-4438-92b2-bd17f4b9f10b\",\"type\":\"Toolbar\"},\"toolbar_location\":null,\"x_range\":{\"id\":\"e16983f2-30cd-400d-a69c-987b6203eb32\",\"type\":\"FactorRange\"},\"x_scale\":{\"id\":\"ec0e5f95-eb47-42fe-84f7-3067b9f01ee1\",\"type\":\"CategoricalScale\"},\"y_range\":{\"id\":\"5e59f1c6-9564-45d4-ad21-ccbd911512bd\",\"type\":\"Range1d\"},\"y_scale\":{\"id\":\"cf1d343c-839f-4a24-81e3-c26806709f51\",\"type\":\"LinearScale\"}},\"id\":\"09690aab-74d8-4e83-b278-783f0fa1cf34\",\"subtype\":\"Figure\",\"type\":\"Plot\"},{\"attributes\":{\"callback\":null,\"data\":{\"2015\":[2,1,4,3,2,4],\"2016\":[5,3,3,2,4,6],\"2017\":[3,2,4,4,5,3],\"fruits\":[\"Apples\",\"Pears\",\"Nectarines\",\"Plums\",\"Grapes\",\"Strawberries\"]},\"selected\":{\"id\":\"77b3bff9-b6b4-4637-87a3-077f31163e14\",\"type\":\"Selection\"},\"selection_policy\":{\"id\":\"dfb4f7a0-181b-458e-a0b6-5438df482501\",\"type\":\"UnionRenderers\"}},\"id\":\"a1a6db8b-2a45-4d01-bebf-4ffbd4971279\",\"type\":\"ColumnDataSource\"},{\"attributes\":{},\"id\":\"4e09e939-ef63-4f00-a269-1dfb2bd0e4fc\",\"type\":\"CategoricalTickFormatter\"},{\"attributes\":{\"range\":{\"id\":\"e16983f2-30cd-400d-a69c-987b6203eb32\",\"type\":\"FactorRange\"},\"value\":-0.25},\"id\":\"7f2a64e7-7a96-40c6-9768-a5c26cf12305\",\"type\":\"Dodge\"},{\"attributes\":{\"range\":{\"id\":\"e16983f2-30cd-400d-a69c-987b6203eb32\",\"type\":\"FactorRange\"}},\"id\":\"cfc254c6-bdc6-411f-833f-e630e6712b9b\",\"type\":\"Dodge\"},{\"attributes\":{\"plot\":null,\"text\":\"Fruit Counts by Year\"},\"id\":\"25ac37bb-74a8-4924-b54c-2a4fc1a8e1ee\",\"type\":\"Title\"},{\"attributes\":{\"callback\":null,\"factors\":[\"Apples\",\"Pears\",\"Nectarines\",\"Plums\",\"Grapes\",\"Strawberries\"],\"range_padding\":0.1},\"id\":\"e16983f2-30cd-400d-a69c-987b6203eb32\",\"type\":\"FactorRange\"},{\"attributes\":{\"data_source\":{\"id\":\"a1a6db8b-2a45-4d01-bebf-4ffbd4971279\",\"type\":\"ColumnDataSource\"},\"glyph\":{\"id\":\"9c2a6669-8334-4938-bd55-b18b76c72385\",\"type\":\"VBar\"},\"hover_glyph\":null,\"muted_glyph\":null,\"nonselection_glyph\":{\"id\":\"054cf0b9-bdf2-4ede-aa4f-bd934f8d3f57\",\"type\":\"VBar\"},\"selection_glyph\":null,\"view\":{\"id\":\"e0b52e2c-9a4a-44fd-82c3-b29c1190273a\",\"type\":\"CDSView\"}},\"id\":\"506234b7-fa95-4156-86b2-296cc44dce5f\",\"type\":\"GlyphRenderer\"},{\"attributes\":{\"active_drag\":\"auto\",\"active_inspect\":\"auto\",\"active_multi\":null,\"active_scroll\":\"auto\",\"active_tap\":\"auto\"},\"id\":\"abe3bd90-2ac8-4438-92b2-bd17f4b9f10b\",\"type\":\"Toolbar\"},{\"attributes\":{\"formatter\":{\"id\":\"c963eb42-5744-4c27-97e9-10bd6d3579d2\",\"type\":\"BasicTickFormatter\"},\"plot\":{\"id\":\"09690aab-74d8-4e83-b278-783f0fa1cf34\",\"subtype\":\"Figure\",\"type\":\"Plot\"},\"ticker\":{\"id\":\"b2864618-ce75-443c-923a-5c0c7ef02776\",\"type\":\"BasicTicker\"}},\"id\":\"927e3c74-b087-4bcf-bf81-9c1ecfb43e02\",\"type\":\"LinearAxis\"},{\"attributes\":{},\"id\":\"ec0e5f95-eb47-42fe-84f7-3067b9f01ee1\",\"type\":\"CategoricalScale\"},{\"attributes\":{\"callback\":null,\"end\":10},\"id\":\"5e59f1c6-9564-45d4-ad21-ccbd911512bd\",\"type\":\"Range1d\"},{\"attributes\":{},\"id\":\"cf1d343c-839f-4a24-81e3-c26806709f51\",\"type\":\"LinearScale\"},{\"attributes\":{\"grid_line_color\":{\"value\":null},\"plot\":{\"id\":\"09690aab-74d8-4e83-b278-783f0fa1cf34\",\"subtype\":\"Figure\",\"type\":\"Plot\"},\"ticker\":{\"id\":\"6a9affef-2edc-41a4-8165-8f048461fb4a\",\"type\":\"CategoricalTicker\"}},\"id\":\"881e4001-3d59-4d8b-9221-32bf3dfb7478\",\"type\":\"Grid\"},{\"attributes\":{\"fill_alpha\":{\"value\":0.1},\"fill_color\":{\"value\":\"#1f77b4\"},\"line_alpha\":{\"value\":0.1},\"line_color\":{\"value\":\"#1f77b4\"},\"top\":{\"field\":\"2015\"},\"width\":{\"value\":0.2},\"x\":{\"field\":\"fruits\",\"transform\":{\"id\":\"7f2a64e7-7a96-40c6-9768-a5c26cf12305\",\"type\":\"Dodge\"}}},\"id\":\"054cf0b9-bdf2-4ede-aa4f-bd934f8d3f57\",\"type\":\"VBar\"},{\"attributes\":{\"fill_color\":{\"value\":\"#c9d9d3\"},\"line_color\":{\"value\":\"#c9d9d3\"},\"top\":{\"field\":\"2015\"},\"width\":{\"value\":0.2},\"x\":{\"field\":\"fruits\",\"transform\":{\"id\":\"7f2a64e7-7a96-40c6-9768-a5c26cf12305\",\"type\":\"Dodge\"}}},\"id\":\"9c2a6669-8334-4938-bd55-b18b76c72385\",\"type\":\"VBar\"},{\"attributes\":{\"formatter\":{\"id\":\"4e09e939-ef63-4f00-a269-1dfb2bd0e4fc\",\"type\":\"CategoricalTickFormatter\"},\"plot\":{\"id\":\"09690aab-74d8-4e83-b278-783f0fa1cf34\",\"subtype\":\"Figure\",\"type\":\"Plot\"},\"ticker\":{\"id\":\"6a9affef-2edc-41a4-8165-8f048461fb4a\",\"type\":\"CategoricalTicker\"}},\"id\":\"fe9e0ada-f90d-4374-9371-3284300fd8d8\",\"type\":\"CategoricalAxis\"},{\"attributes\":{},\"id\":\"6a9affef-2edc-41a4-8165-8f048461fb4a\",\"type\":\"CategoricalTicker\"},{\"attributes\":{\"items\":[{\"id\":\"29bc754b-41f3-43d6-9612-4a5fcb626b45\",\"type\":\"LegendItem\"},{\"id\":\"6b4d0e30-0a9e-4dff-9d09-4a07f16c7967\",\"type\":\"LegendItem\"},{\"id\":\"be92ca9f-d5ec-4b20-bff2-b2ca50af3841\",\"type\":\"LegendItem\"}],\"location\":\"top_left\",\"orientation\":\"horizontal\",\"plot\":{\"id\":\"09690aab-74d8-4e83-b278-783f0fa1cf34\",\"subtype\":\"Figure\",\"type\":\"Plot\"}},\"id\":\"d7de1113-648f-4e65-a8d1-5194f196a483\",\"type\":\"Legend\"},{\"attributes\":{},\"id\":\"b2864618-ce75-443c-923a-5c0c7ef02776\",\"type\":\"BasicTicker\"},{\"attributes\":{\"dimension\":1,\"plot\":{\"id\":\"09690aab-74d8-4e83-b278-783f0fa1cf34\",\"subtype\":\"Figure\",\"type\":\"Plot\"},\"ticker\":{\"id\":\"b2864618-ce75-443c-923a-5c0c7ef02776\",\"type\":\"BasicTicker\"}},\"id\":\"c3bb5be4-0ca7-40ad-bd82-91e9f67bb396\",\"type\":\"Grid\"},{\"attributes\":{\"label\":{\"value\":\"2017\"},\"renderers\":[{\"id\":\"1f91bee5-bb24-4e35-a489-5204b25e8e36\",\"type\":\"GlyphRenderer\"}]},\"id\":\"be92ca9f-d5ec-4b20-bff2-b2ca50af3841\",\"type\":\"LegendItem\"},{\"attributes\":{\"label\":{\"value\":\"2015\"},\"renderers\":[{\"id\":\"506234b7-fa95-4156-86b2-296cc44dce5f\",\"type\":\"GlyphRenderer\"}]},\"id\":\"29bc754b-41f3-43d6-9612-4a5fcb626b45\",\"type\":\"LegendItem\"},{\"attributes\":{\"range\":{\"id\":\"e16983f2-30cd-400d-a69c-987b6203eb32\",\"type\":\"FactorRange\"},\"value\":0.25},\"id\":\"c6bed992-4019-4fc8-a6de-7012b9bfa862\",\"type\":\"Dodge\"},{\"attributes\":{\"fill_color\":{\"value\":\"#718dbf\"},\"line_color\":{\"value\":\"#718dbf\"},\"top\":{\"field\":\"2016\"},\"width\":{\"value\":0.2},\"x\":{\"field\":\"fruits\",\"transform\":{\"id\":\"cfc254c6-bdc6-411f-833f-e630e6712b9b\",\"type\":\"Dodge\"}}},\"id\":\"ccd92f69-b49e-45b1-9a36-1ce08cf1c51c\",\"type\":\"VBar\"},{\"attributes\":{\"fill_alpha\":{\"value\":0.1},\"fill_color\":{\"value\":\"#1f77b4\"},\"line_alpha\":{\"value\":0.1},\"line_color\":{\"value\":\"#1f77b4\"},\"top\":{\"field\":\"2016\"},\"width\":{\"value\":0.2},\"x\":{\"field\":\"fruits\",\"transform\":{\"id\":\"cfc254c6-bdc6-411f-833f-e630e6712b9b\",\"type\":\"Dodge\"}}},\"id\":\"c069fcbb-9498-4c49-beab-d0ab72025af4\",\"type\":\"VBar\"},{\"attributes\":{\"data_source\":{\"id\":\"a1a6db8b-2a45-4d01-bebf-4ffbd4971279\",\"type\":\"ColumnDataSource\"},\"glyph\":{\"id\":\"ccd92f69-b49e-45b1-9a36-1ce08cf1c51c\",\"type\":\"VBar\"},\"hover_glyph\":null,\"muted_glyph\":null,\"nonselection_glyph\":{\"id\":\"c069fcbb-9498-4c49-beab-d0ab72025af4\",\"type\":\"VBar\"},\"selection_glyph\":null,\"view\":{\"id\":\"ab295d94-130a-4700-8508-cf62c8c12e31\",\"type\":\"CDSView\"}},\"id\":\"cf0b3e66-56d1-4c56-86d0-5e7df104ea2c\",\"type\":\"GlyphRenderer\"},{\"attributes\":{},\"id\":\"c963eb42-5744-4c27-97e9-10bd6d3579d2\",\"type\":\"BasicTickFormatter\"},{\"attributes\":{\"source\":{\"id\":\"a1a6db8b-2a45-4d01-bebf-4ffbd4971279\",\"type\":\"ColumnDataSource\"}},\"id\":\"ab295d94-130a-4700-8508-cf62c8c12e31\",\"type\":\"CDSView\"},{\"attributes\":{\"source\":{\"id\":\"a1a6db8b-2a45-4d01-bebf-4ffbd4971279\",\"type\":\"ColumnDataSource\"}},\"id\":\"e0b52e2c-9a4a-44fd-82c3-b29c1190273a\",\"type\":\"CDSView\"},{\"attributes\":{},\"id\":\"dfb4f7a0-181b-458e-a0b6-5438df482501\",\"type\":\"UnionRenderers\"},{\"attributes\":{},\"id\":\"77b3bff9-b6b4-4637-87a3-077f31163e14\",\"type\":\"Selection\"},{\"attributes\":{\"label\":{\"value\":\"2016\"},\"renderers\":[{\"id\":\"cf0b3e66-56d1-4c56-86d0-5e7df104ea2c\",\"type\":\"GlyphRenderer\"}]},\"id\":\"6b4d0e30-0a9e-4dff-9d09-4a07f16c7967\",\"type\":\"LegendItem\"},{\"attributes\":{\"fill_color\":{\"value\":\"#e84d60\"},\"line_color\":{\"value\":\"#e84d60\"},\"top\":{\"field\":\"2017\"},\"width\":{\"value\":0.2},\"x\":{\"field\":\"fruits\",\"transform\":{\"id\":\"c6bed992-4019-4fc8-a6de-7012b9bfa862\",\"type\":\"Dodge\"}}},\"id\":\"371e6763-fadb-45e5-ad97-201222776ec2\",\"type\":\"VBar\"},{\"attributes\":{\"fill_alpha\":{\"value\":0.1},\"fill_color\":{\"value\":\"#1f77b4\"},\"line_alpha\":{\"value\":0.1},\"line_color\":{\"value\":\"#1f77b4\"},\"top\":{\"field\":\"2017\"},\"width\":{\"value\":0.2},\"x\":{\"field\":\"fruits\",\"transform\":{\"id\":\"c6bed992-4019-4fc8-a6de-7012b9bfa862\",\"type\":\"Dodge\"}}},\"id\":\"83344eed-2210-4497-a7d1-d1f54c4f20bb\",\"type\":\"VBar\"},{\"attributes\":{\"data_source\":{\"id\":\"a1a6db8b-2a45-4d01-bebf-4ffbd4971279\",\"type\":\"ColumnDataSource\"},\"glyph\":{\"id\":\"371e6763-fadb-45e5-ad97-201222776ec2\",\"type\":\"VBar\"},\"hover_glyph\":null,\"muted_glyph\":null,\"nonselection_glyph\":{\"id\":\"83344eed-2210-4497-a7d1-d1f54c4f20bb\",\"type\":\"VBar\"},\"selection_glyph\":null,\"view\":{\"id\":\"aa051d76-2c1b-4c1d-917a-3182495e23bd\",\"type\":\"CDSView\"}},\"id\":\"1f91bee5-bb24-4e35-a489-5204b25e8e36\",\"type\":\"GlyphRenderer\"},{\"attributes\":{\"source\":{\"id\":\"a1a6db8b-2a45-4d01-bebf-4ffbd4971279\",\"type\":\"ColumnDataSource\"}},\"id\":\"aa051d76-2c1b-4c1d-917a-3182495e23bd\",\"type\":\"CDSView\"}],\"root_ids\":[\"09690aab-74d8-4e83-b278-783f0fa1cf34\"]},\"title\":\"Bokeh Application\",\"version\":\"0.13.0\"}};\n",
       "  var render_items = [{\"docid\":\"6963d371-2720-4dfe-9251-390847bac8cc\",\"roots\":{\"09690aab-74d8-4e83-b278-783f0fa1cf34\":\"bcd4fd49-18a8-494a-abe4-755946d2bd9a\"}}];\n",
       "  root.Bokeh.embed.embed_items_notebook(docs_json, render_items);\n",
       "\n",
       "  }\n",
       "  if (root.Bokeh !== undefined) {\n",
       "    embed_document(root);\n",
       "  } else {\n",
       "    var attempts = 0;\n",
       "    var timer = setInterval(function(root) {\n",
       "      if (root.Bokeh !== undefined) {\n",
       "        embed_document(root);\n",
       "        clearInterval(timer);\n",
       "      }\n",
       "      attempts++;\n",
       "      if (attempts > 100) {\n",
       "        console.log(\"Bokeh: ERROR: Unable to run BokehJS code because BokehJS library is missing\")\n",
       "        clearInterval(timer);\n",
       "      }\n",
       "    }, 10, root)\n",
       "  }\n",
       "})(window);"
      ],
      "application/vnd.bokehjs_exec.v0+json": ""
     },
     "metadata": {
      "application/vnd.bokehjs_exec.v0+json": {
       "id": "09690aab-74d8-4e83-b278-783f0fa1cf34"
      }
     },
     "output_type": "display_data"
    }
   ],
   "source": [
    "from bokeh.core.properties import value\n",
    "from bokeh.models import ColumnDataSource\n",
    "from bokeh.transform import dodge\n",
    "\n",
    "fruits = ['Apples', 'Pears', 'Nectarines', 'Plums', 'Grapes', 'Strawberries']\n",
    "years = ['2015', '2016', '2017']\n",
    "\n",
    "data = {'fruits' : fruits,\n",
    "        '2015'   : [2, 1, 4, 3, 2, 4],\n",
    "        '2016'   : [5, 3, 3, 2, 4, 6],\n",
    "        '2017'   : [3, 2, 4, 4, 5, 3]}\n",
    "\n",
    "source = ColumnDataSource(data=data)\n",
    "\n",
    "p = figure(x_range=fruits, y_range=(0, 10), plot_height=250, title=\"Fruit Counts by Year\",\n",
    "           toolbar_location=None, tools=\"\")\n",
    "\n",
    "p.vbar(x=dodge('fruits', -0.25, range=p.x_range), top='2015', width=0.2, source=source,\n",
    "       color=\"#c9d9d3\", legend=value(\"2015\"))\n",
    "\n",
    "p.vbar(x=dodge('fruits',  0.0,  range=p.x_range), top='2016', width=0.2, source=source,\n",
    "       color=\"#718dbf\", legend=value(\"2016\"))\n",
    "\n",
    "p.vbar(x=dodge('fruits',  0.25, range=p.x_range), top='2017', width=0.2, source=source,\n",
    "       color=\"#e84d60\", legend=value(\"2017\"))\n",
    "\n",
    "p.x_range.range_padding = 0.1\n",
    "p.xgrid.grid_line_color = None\n",
    "p.legend.location = \"top_left\"\n",
    "p.legend.orientation = \"horizontal\"\n",
    "\n",
    "show(p)"
   ]
  },
  {
   "cell_type": "markdown",
   "metadata": {},
   "source": [
    "Another common operation or bar charts is to stack bars on top of one another. Bokeh makes this easy to do with the specialized hbar_stack() and vbar_stack() functions. The example below shows the fruits data from above, but with the bars for each fruit type stacked instead of grouped:"
   ]
  },
  {
   "cell_type": "code",
   "execution_count": 23,
   "metadata": {},
   "outputs": [
    {
     "data": {
      "text/html": [
       "\n",
       "\n",
       "\n",
       "\n",
       "\n",
       "\n",
       "  <div class=\"bk-root\" id=\"6493d8d2-766b-4196-8f46-85ba907d8787\"></div>\n"
      ]
     },
     "metadata": {},
     "output_type": "display_data"
    },
    {
     "data": {
      "application/javascript": [
       "(function(root) {\n",
       "  function embed_document(root) {\n",
       "    \n",
       "  var docs_json = {\"064c972e-9e4d-4933-94b5-46704c5f3cf1\":{\"roots\":{\"references\":[{\"attributes\":{\"bottom\":{\"expr\":{\"id\":\"4a9995d9-7dd2-4870-a780-e2a429ba881c\",\"type\":\"Stack\"}},\"fill_alpha\":{\"value\":0.1},\"fill_color\":{\"value\":\"#1f77b4\"},\"line_alpha\":{\"value\":0.1},\"line_color\":{\"value\":\"#1f77b4\"},\"top\":{\"expr\":{\"id\":\"4ff8c5b4-d460-4dbf-8a26-a28bcbc568ba\",\"type\":\"Stack\"}},\"width\":{\"value\":0.9},\"x\":{\"field\":\"fruits\"}},\"id\":\"22748cc0-8e79-4f5c-9ded-ca5ea465bea1\",\"type\":\"VBar\"},{\"attributes\":{\"fields\":[]},\"id\":\"f41d85eb-715d-4578-a317-c11c86a43e80\",\"type\":\"Stack\"},{\"attributes\":{\"callback\":null,\"data\":{\"2015\":[2,1,4,3,2,4],\"2016\":[5,3,4,2,4,6],\"2017\":[3,2,4,4,5,3],\"fruits\":[\"Apples\",\"Pears\",\"Nectarines\",\"Plums\",\"Grapes\",\"Strawberries\"]},\"selected\":{\"id\":\"85bb44a7-0bca-4de2-93cf-1fada8affcff\",\"type\":\"Selection\"},\"selection_policy\":{\"id\":\"d9e3ef3e-2923-485b-8b06-6d7fa15162e0\",\"type\":\"UnionRenderers\"}},\"id\":\"7f138235-ae44-41f8-9dca-6676a313d022\",\"type\":\"ColumnDataSource\"},{\"attributes\":{\"below\":[{\"id\":\"60a6304e-5cfa-44d0-aecb-effe533716bf\",\"type\":\"CategoricalAxis\"}],\"left\":[{\"id\":\"79c65ac2-eda2-4130-ba5f-d9eea42ef3c7\",\"type\":\"LinearAxis\"}],\"outline_line_color\":{\"value\":null},\"plot_height\":250,\"renderers\":[{\"id\":\"60a6304e-5cfa-44d0-aecb-effe533716bf\",\"type\":\"CategoricalAxis\"},{\"id\":\"fe28cda3-fb24-4692-b7f7-edc21cfa1b65\",\"type\":\"Grid\"},{\"id\":\"79c65ac2-eda2-4130-ba5f-d9eea42ef3c7\",\"type\":\"LinearAxis\"},{\"id\":\"351d0369-5e3c-4c6c-ab92-86b1dfb7484c\",\"type\":\"Grid\"},{\"id\":\"da8f05a2-d8b9-4e3e-a214-d11a29349191\",\"type\":\"Legend\"},{\"id\":\"86d2b004-1e26-45e6-843f-c809234aabda\",\"type\":\"GlyphRenderer\"},{\"id\":\"e61ce51a-4a72-4ec8-b31d-8212d8094179\",\"type\":\"GlyphRenderer\"},{\"id\":\"4bfed251-59ca-470e-bc70-4c23db2f6f48\",\"type\":\"GlyphRenderer\"}],\"title\":{\"id\":\"4d82efeb-c988-4244-b0db-5a8e16b2e5cd\",\"type\":\"Title\"},\"toolbar\":{\"id\":\"12c57b57-73de-4704-9dd9-966f6e33a903\",\"type\":\"Toolbar\"},\"toolbar_location\":null,\"x_range\":{\"id\":\"11d36ce1-e78d-479c-8699-131cd09ffca2\",\"type\":\"FactorRange\"},\"x_scale\":{\"id\":\"056891ec-9210-43b9-a1e1-52a9bbee2a9f\",\"type\":\"CategoricalScale\"},\"y_range\":{\"id\":\"8039626e-b48f-4864-a35e-5290f6b43216\",\"type\":\"DataRange1d\"},\"y_scale\":{\"id\":\"0e20493c-4a54-47be-b658-3178dfe06c86\",\"type\":\"LinearScale\"}},\"id\":\"6eb56ed2-ae01-40f8-807b-987c68b1b877\",\"subtype\":\"Figure\",\"type\":\"Plot\"},{\"attributes\":{\"data_source\":{\"id\":\"7f138235-ae44-41f8-9dca-6676a313d022\",\"type\":\"ColumnDataSource\"},\"glyph\":{\"id\":\"b89a0502-e0cf-4b0c-90ef-23dc79dbf256\",\"type\":\"VBar\"},\"hover_glyph\":null,\"muted_glyph\":null,\"name\":\"2017\",\"nonselection_glyph\":{\"id\":\"22748cc0-8e79-4f5c-9ded-ca5ea465bea1\",\"type\":\"VBar\"},\"selection_glyph\":null,\"view\":{\"id\":\"ee8ba88b-d758-4b2a-b458-b4321fe92e92\",\"type\":\"CDSView\"}},\"id\":\"4bfed251-59ca-470e-bc70-4c23db2f6f48\",\"type\":\"GlyphRenderer\"},{\"attributes\":{\"formatter\":{\"id\":\"a31d52ad-4c66-4b49-95b9-fcfdac4629c0\",\"type\":\"CategoricalTickFormatter\"},\"minor_tick_line_color\":{\"value\":null},\"plot\":{\"id\":\"6eb56ed2-ae01-40f8-807b-987c68b1b877\",\"subtype\":\"Figure\",\"type\":\"Plot\"},\"ticker\":{\"id\":\"ad8ef3e0-63d6-4108-a99b-9a99b63c92f5\",\"type\":\"CategoricalTicker\"}},\"id\":\"60a6304e-5cfa-44d0-aecb-effe533716bf\",\"type\":\"CategoricalAxis\"},{\"attributes\":{\"grid_line_color\":{\"value\":null},\"plot\":{\"id\":\"6eb56ed2-ae01-40f8-807b-987c68b1b877\",\"subtype\":\"Figure\",\"type\":\"Plot\"},\"ticker\":{\"id\":\"ad8ef3e0-63d6-4108-a99b-9a99b63c92f5\",\"type\":\"CategoricalTicker\"}},\"id\":\"fe28cda3-fb24-4692-b7f7-edc21cfa1b65\",\"type\":\"Grid\"},{\"attributes\":{\"plot\":null,\"text\":\"Fruit Counts by Year\"},\"id\":\"4d82efeb-c988-4244-b0db-5a8e16b2e5cd\",\"type\":\"Title\"},{\"attributes\":{\"callback\":null,\"factors\":[\"Apples\",\"Pears\",\"Nectarines\",\"Plums\",\"Grapes\",\"Strawberries\"],\"range_padding\":0.1},\"id\":\"11d36ce1-e78d-479c-8699-131cd09ffca2\",\"type\":\"FactorRange\"},{\"attributes\":{\"bottom\":{\"expr\":{\"id\":\"4a9995d9-7dd2-4870-a780-e2a429ba881c\",\"type\":\"Stack\"}},\"fill_color\":{\"value\":\"#98F5FF\"},\"line_color\":{\"value\":\"#98F5FF\"},\"top\":{\"expr\":{\"id\":\"4ff8c5b4-d460-4dbf-8a26-a28bcbc568ba\",\"type\":\"Stack\"}},\"width\":{\"value\":0.9},\"x\":{\"field\":\"fruits\"}},\"id\":\"b89a0502-e0cf-4b0c-90ef-23dc79dbf256\",\"type\":\"VBar\"},{\"attributes\":{\"formatter\":{\"id\":\"d4814a9e-1e39-453a-ac05-9846e8ff097d\",\"type\":\"BasicTickFormatter\"},\"minor_tick_line_color\":{\"value\":null},\"plot\":{\"id\":\"6eb56ed2-ae01-40f8-807b-987c68b1b877\",\"subtype\":\"Figure\",\"type\":\"Plot\"},\"ticker\":{\"id\":\"02c9ef1c-0c5c-418a-842c-08f4e9db2a79\",\"type\":\"BasicTicker\"}},\"id\":\"79c65ac2-eda2-4130-ba5f-d9eea42ef3c7\",\"type\":\"LinearAxis\"},{\"attributes\":{\"active_drag\":\"auto\",\"active_inspect\":\"auto\",\"active_multi\":null,\"active_scroll\":\"auto\",\"active_tap\":\"auto\"},\"id\":\"12c57b57-73de-4704-9dd9-966f6e33a903\",\"type\":\"Toolbar\"},{\"attributes\":{},\"id\":\"056891ec-9210-43b9-a1e1-52a9bbee2a9f\",\"type\":\"CategoricalScale\"},{\"attributes\":{},\"id\":\"0e20493c-4a54-47be-b658-3178dfe06c86\",\"type\":\"LinearScale\"},{\"attributes\":{\"fields\":[\"2015\"]},\"id\":\"79cb27a1-e99a-4051-ba5b-dde81bf86dc2\",\"type\":\"Stack\"},{\"attributes\":{\"dimension\":1,\"plot\":{\"id\":\"6eb56ed2-ae01-40f8-807b-987c68b1b877\",\"subtype\":\"Figure\",\"type\":\"Plot\"},\"ticker\":{\"id\":\"02c9ef1c-0c5c-418a-842c-08f4e9db2a79\",\"type\":\"BasicTicker\"}},\"id\":\"351d0369-5e3c-4c6c-ab92-86b1dfb7484c\",\"type\":\"Grid\"},{\"attributes\":{\"callback\":null,\"start\":0},\"id\":\"8039626e-b48f-4864-a35e-5290f6b43216\",\"type\":\"DataRange1d\"},{\"attributes\":{\"label\":{\"value\":\"2017\"},\"renderers\":[{\"id\":\"4bfed251-59ca-470e-bc70-4c23db2f6f48\",\"type\":\"GlyphRenderer\"}]},\"id\":\"53f7a153-1982-470b-84ea-280ad6d1215e\",\"type\":\"LegendItem\"},{\"attributes\":{},\"id\":\"a31d52ad-4c66-4b49-95b9-fcfdac4629c0\",\"type\":\"CategoricalTickFormatter\"},{\"attributes\":{},\"id\":\"02c9ef1c-0c5c-418a-842c-08f4e9db2a79\",\"type\":\"BasicTicker\"},{\"attributes\":{\"fields\":[\"2015\"]},\"id\":\"6699255e-5347-4068-b9b4-a414912db938\",\"type\":\"Stack\"},{\"attributes\":{},\"id\":\"ad8ef3e0-63d6-4108-a99b-9a99b63c92f5\",\"type\":\"CategoricalTicker\"},{\"attributes\":{\"fields\":[\"2015\",\"2016\"]},\"id\":\"bec6f290-c1cf-45cb-ba34-53be7b5ad5d7\",\"type\":\"Stack\"},{\"attributes\":{\"bottom\":{\"expr\":{\"id\":\"6699255e-5347-4068-b9b4-a414912db938\",\"type\":\"Stack\"}},\"fill_color\":{\"value\":\"#D3F543\"},\"line_color\":{\"value\":\"#D3F543\"},\"top\":{\"expr\":{\"id\":\"bec6f290-c1cf-45cb-ba34-53be7b5ad5d7\",\"type\":\"Stack\"}},\"width\":{\"value\":0.9},\"x\":{\"field\":\"fruits\"}},\"id\":\"91bc11e2-f57f-4d0f-acc5-f7257fec3556\",\"type\":\"VBar\"},{\"attributes\":{\"fields\":[\"2015\",\"2016\",\"2017\"]},\"id\":\"4ff8c5b4-d460-4dbf-8a26-a28bcbc568ba\",\"type\":\"Stack\"},{\"attributes\":{},\"id\":\"85bb44a7-0bca-4de2-93cf-1fada8affcff\",\"type\":\"Selection\"},{\"attributes\":{\"bottom\":{\"expr\":{\"id\":\"f41d85eb-715d-4578-a317-c11c86a43e80\",\"type\":\"Stack\"}},\"fill_color\":{\"value\":\"#34A212\"},\"line_color\":{\"value\":\"#34A212\"},\"top\":{\"expr\":{\"id\":\"79cb27a1-e99a-4051-ba5b-dde81bf86dc2\",\"type\":\"Stack\"}},\"width\":{\"value\":0.9},\"x\":{\"field\":\"fruits\"}},\"id\":\"ad7a4540-ec8a-496e-8645-4c0828b3ccfd\",\"type\":\"VBar\"},{\"attributes\":{\"fields\":[\"2015\",\"2016\"]},\"id\":\"4a9995d9-7dd2-4870-a780-e2a429ba881c\",\"type\":\"Stack\"},{\"attributes\":{\"label\":{\"value\":\"2016\"},\"renderers\":[{\"id\":\"e61ce51a-4a72-4ec8-b31d-8212d8094179\",\"type\":\"GlyphRenderer\"}]},\"id\":\"54533bfe-3614-4c14-ad3b-b4f81234ccf1\",\"type\":\"LegendItem\"},{\"attributes\":{\"bottom\":{\"expr\":{\"id\":\"f41d85eb-715d-4578-a317-c11c86a43e80\",\"type\":\"Stack\"}},\"fill_alpha\":{\"value\":0.1},\"fill_color\":{\"value\":\"#1f77b4\"},\"line_alpha\":{\"value\":0.1},\"line_color\":{\"value\":\"#1f77b4\"},\"top\":{\"expr\":{\"id\":\"79cb27a1-e99a-4051-ba5b-dde81bf86dc2\",\"type\":\"Stack\"}},\"width\":{\"value\":0.9},\"x\":{\"field\":\"fruits\"}},\"id\":\"4ae8db78-7557-490c-97db-9ada3d0bd04f\",\"type\":\"VBar\"},{\"attributes\":{\"source\":{\"id\":\"7f138235-ae44-41f8-9dca-6676a313d022\",\"type\":\"ColumnDataSource\"}},\"id\":\"72a8f38d-a4b2-4eb3-9aac-8cdfc51d2341\",\"type\":\"CDSView\"},{\"attributes\":{\"source\":{\"id\":\"7f138235-ae44-41f8-9dca-6676a313d022\",\"type\":\"ColumnDataSource\"}},\"id\":\"ee8ba88b-d758-4b2a-b458-b4321fe92e92\",\"type\":\"CDSView\"},{\"attributes\":{},\"id\":\"d4814a9e-1e39-453a-ac05-9846e8ff097d\",\"type\":\"BasicTickFormatter\"},{\"attributes\":{\"items\":[{\"id\":\"a124f000-17e8-448e-9c6c-215c2f16f6d2\",\"type\":\"LegendItem\"},{\"id\":\"54533bfe-3614-4c14-ad3b-b4f81234ccf1\",\"type\":\"LegendItem\"},{\"id\":\"53f7a153-1982-470b-84ea-280ad6d1215e\",\"type\":\"LegendItem\"}],\"location\":\"top_left\",\"orientation\":\"horizontal\",\"plot\":{\"id\":\"6eb56ed2-ae01-40f8-807b-987c68b1b877\",\"subtype\":\"Figure\",\"type\":\"Plot\"}},\"id\":\"da8f05a2-d8b9-4e3e-a214-d11a29349191\",\"type\":\"Legend\"},{\"attributes\":{\"data_source\":{\"id\":\"7f138235-ae44-41f8-9dca-6676a313d022\",\"type\":\"ColumnDataSource\"},\"glyph\":{\"id\":\"ad7a4540-ec8a-496e-8645-4c0828b3ccfd\",\"type\":\"VBar\"},\"hover_glyph\":null,\"muted_glyph\":null,\"name\":\"2015\",\"nonselection_glyph\":{\"id\":\"4ae8db78-7557-490c-97db-9ada3d0bd04f\",\"type\":\"VBar\"},\"selection_glyph\":null,\"view\":{\"id\":\"72a8f38d-a4b2-4eb3-9aac-8cdfc51d2341\",\"type\":\"CDSView\"}},\"id\":\"86d2b004-1e26-45e6-843f-c809234aabda\",\"type\":\"GlyphRenderer\"},{\"attributes\":{\"label\":{\"value\":\"2015\"},\"renderers\":[{\"id\":\"86d2b004-1e26-45e6-843f-c809234aabda\",\"type\":\"GlyphRenderer\"}]},\"id\":\"a124f000-17e8-448e-9c6c-215c2f16f6d2\",\"type\":\"LegendItem\"},{\"attributes\":{\"bottom\":{\"expr\":{\"id\":\"6699255e-5347-4068-b9b4-a414912db938\",\"type\":\"Stack\"}},\"fill_alpha\":{\"value\":0.1},\"fill_color\":{\"value\":\"#1f77b4\"},\"line_alpha\":{\"value\":0.1},\"line_color\":{\"value\":\"#1f77b4\"},\"top\":{\"expr\":{\"id\":\"bec6f290-c1cf-45cb-ba34-53be7b5ad5d7\",\"type\":\"Stack\"}},\"width\":{\"value\":0.9},\"x\":{\"field\":\"fruits\"}},\"id\":\"23d56e94-418f-4541-92dd-6b30c09e291f\",\"type\":\"VBar\"},{\"attributes\":{\"source\":{\"id\":\"7f138235-ae44-41f8-9dca-6676a313d022\",\"type\":\"ColumnDataSource\"}},\"id\":\"658371c4-4518-453b-af47-6167dbdc2a07\",\"type\":\"CDSView\"},{\"attributes\":{\"data_source\":{\"id\":\"7f138235-ae44-41f8-9dca-6676a313d022\",\"type\":\"ColumnDataSource\"},\"glyph\":{\"id\":\"91bc11e2-f57f-4d0f-acc5-f7257fec3556\",\"type\":\"VBar\"},\"hover_glyph\":null,\"muted_glyph\":null,\"name\":\"2016\",\"nonselection_glyph\":{\"id\":\"23d56e94-418f-4541-92dd-6b30c09e291f\",\"type\":\"VBar\"},\"selection_glyph\":null,\"view\":{\"id\":\"658371c4-4518-453b-af47-6167dbdc2a07\",\"type\":\"CDSView\"}},\"id\":\"e61ce51a-4a72-4ec8-b31d-8212d8094179\",\"type\":\"GlyphRenderer\"},{\"attributes\":{},\"id\":\"d9e3ef3e-2923-485b-8b06-6d7fa15162e0\",\"type\":\"UnionRenderers\"}],\"root_ids\":[\"6eb56ed2-ae01-40f8-807b-987c68b1b877\"]},\"title\":\"Bokeh Application\",\"version\":\"0.13.0\"}};\n",
       "  var render_items = [{\"docid\":\"064c972e-9e4d-4933-94b5-46704c5f3cf1\",\"roots\":{\"6eb56ed2-ae01-40f8-807b-987c68b1b877\":\"6493d8d2-766b-4196-8f46-85ba907d8787\"}}];\n",
       "  root.Bokeh.embed.embed_items_notebook(docs_json, render_items);\n",
       "\n",
       "  }\n",
       "  if (root.Bokeh !== undefined) {\n",
       "    embed_document(root);\n",
       "  } else {\n",
       "    var attempts = 0;\n",
       "    var timer = setInterval(function(root) {\n",
       "      if (root.Bokeh !== undefined) {\n",
       "        embed_document(root);\n",
       "        clearInterval(timer);\n",
       "      }\n",
       "      attempts++;\n",
       "      if (attempts > 100) {\n",
       "        console.log(\"Bokeh: ERROR: Unable to run BokehJS code because BokehJS library is missing\")\n",
       "        clearInterval(timer);\n",
       "      }\n",
       "    }, 10, root)\n",
       "  }\n",
       "})(window);"
      ],
      "application/vnd.bokehjs_exec.v0+json": ""
     },
     "metadata": {
      "application/vnd.bokehjs_exec.v0+json": {
       "id": "6eb56ed2-ae01-40f8-807b-987c68b1b877"
      }
     },
     "output_type": "display_data"
    }
   ],
   "source": [
    "fruits = ['Apples', 'Pears', 'Nectarines', 'Plums', 'Grapes', 'Strawberries']\n",
    "years = [\"2015\", \"2016\", \"2017\"]\n",
    "colors = [\"#34A212\", \"#D3F543\", \"#98F5FF\"]\n",
    "\n",
    "data = {'fruits' : fruits,\n",
    "        '2015'   : [2, 1, 4, 3, 2, 4],\n",
    "        '2016'   : [5, 3, 4, 2, 4, 6],\n",
    "        '2017'   : [3, 2, 4, 4, 5, 3]}\n",
    "\n",
    "source = ColumnDataSource(data=data)\n",
    "\n",
    "p = figure(x_range=fruits, plot_height=250, title=\"Fruit Counts by Year\",\n",
    "           toolbar_location=None, tools=\"\")\n",
    "\n",
    "p.vbar_stack(years, x='fruits', width=0.9, color=colors, source=source,\n",
    "             legend=[value(x) for x in years])\n",
    "\n",
    "p.y_range.start = 0\n",
    "p.x_range.range_padding = 0.1\n",
    "p.xgrid.grid_line_color = None\n",
    "p.axis.minor_tick_line_color = None\n",
    "p.outline_line_color = None\n",
    "p.legend.location = \"top_left\"\n",
    "p.legend.orientation = \"horizontal\"\n",
    "\n",
    "show(p)"
   ]
  },
  {
   "cell_type": "markdown",
   "metadata": {},
   "source": [
    "Sometimes we may want to stack bars that have both positive and negative extents. The example below shows how it is possible to create such a stacked bar chart that is split by positive and negative values:"
   ]
  },
  {
   "cell_type": "code",
   "execution_count": 24,
   "metadata": {},
   "outputs": [
    {
     "data": {
      "text/html": [
       "\n",
       "\n",
       "\n",
       "\n",
       "\n",
       "\n",
       "  <div class=\"bk-root\" id=\"c1841b28-1c7b-4c2f-af50-18bf916caae1\"></div>\n"
      ]
     },
     "metadata": {},
     "output_type": "display_data"
    },
    {
     "data": {
      "application/javascript": [
       "(function(root) {\n",
       "  function embed_document(root) {\n",
       "    \n",
       "  var docs_json = {\"3075a88c-5733-493f-b068-d84f6e71e9a1\":{\"roots\":{\"references\":[{\"attributes\":{\"formatter\":{\"id\":\"fddcd9cc-e36a-4011-9041-40f355e836ed\",\"type\":\"CategoricalTickFormatter\"},\"minor_tick_line_color\":{\"value\":null},\"plot\":{\"id\":\"df164a57-77eb-40ba-9b28-dd612a1291d7\",\"subtype\":\"Figure\",\"type\":\"Plot\"},\"ticker\":{\"id\":\"88816c6a-c173-466c-a52c-a0f0f9c9a7f9\",\"type\":\"CategoricalTicker\"}},\"id\":\"d62d44af-de42-4dd9-9c86-dee97877b2bd\",\"type\":\"CategoricalAxis\"},{\"attributes\":{},\"id\":\"8d6a27db-7296-4cf9-9a71-5aa945175281\",\"type\":\"BasicTickFormatter\"},{\"attributes\":{\"bottom_units\":\"screen\",\"fill_alpha\":{\"value\":0.5},\"fill_color\":{\"value\":\"lightgrey\"},\"left_units\":\"screen\",\"level\":\"overlay\",\"line_alpha\":{\"value\":1.0},\"line_color\":{\"value\":\"black\"},\"line_dash\":[4,4],\"line_width\":{\"value\":2},\"plot\":null,\"render_mode\":\"css\",\"right_units\":\"screen\",\"top_units\":\"screen\"},\"id\":\"419b083f-0e59-4139-8c18-6d2e114c1fcb\",\"type\":\"BoxAnnotation\"},{\"attributes\":{},\"id\":\"d3b72058-3246-4938-8d07-42d123617505\",\"type\":\"PanTool\"},{\"attributes\":{\"fields\":[\"2015\",\"2016\"]},\"id\":\"4552ba68-c879-4bea-8e27-cb054a6a2a10\",\"type\":\"Stack\"},{\"attributes\":{\"callback\":null,\"data\":{\"2015\":[2,1,4,3,2,4],\"2016\":[5,3,4,2,4,6],\"2017\":[3,2,4,4,5,3],\"fruits\":[\"Apples\",\"Pears\",\"Nectarines\",\"Plums\",\"Grapes\",\"Strawberries\"]},\"selected\":{\"id\":\"0b635ed7-fd20-49dc-88b2-48dc92c87f84\",\"type\":\"Selection\"},\"selection_policy\":{\"id\":\"4a6c571d-089e-4ba2-88ec-cbcb92ce2f7a\",\"type\":\"UnionRenderers\"}},\"id\":\"5a778817-1cb6-42be-9489-80111e764bd4\",\"type\":\"ColumnDataSource\"},{\"attributes\":{},\"id\":\"e9065bac-0776-49b9-b762-15be0af76377\",\"type\":\"WheelZoomTool\"},{\"attributes\":{},\"id\":\"3d3f7a2a-5023-479c-9584-ea308af0f23f\",\"type\":\"HelpTool\"},{\"attributes\":{\"fill_alpha\":{\"value\":0.1},\"fill_color\":{\"value\":\"#1f77b4\"},\"height\":{\"value\":0.9},\"left\":{\"expr\":{\"id\":\"4c6732a3-3fb9-44d0-896c-36d9796d885c\",\"type\":\"Stack\"}},\"line_alpha\":{\"value\":0.1},\"line_color\":{\"value\":\"#1f77b4\"},\"right\":{\"expr\":{\"id\":\"5a06bb39-4c14-4abc-a9e7-14faa130b6bd\",\"type\":\"Stack\"}},\"y\":{\"field\":\"fruits\"}},\"id\":\"73fbaf8d-38df-4aed-8438-385b4ce03928\",\"type\":\"HBar\"},{\"attributes\":{\"fields\":[\"2015\",\"2016\"]},\"id\":\"e904a010-4067-45ea-8b44-b26ed2b651e8\",\"type\":\"Stack\"},{\"attributes\":{\"fields\":[\"2015\",\"2016\",\"2017\"]},\"id\":\"1bad4588-b0a8-450d-978e-c841654d3fcc\",\"type\":\"Stack\"},{\"attributes\":{\"fill_color\":{\"value\":\"#43a2ca\"},\"height\":{\"value\":0.9},\"left\":{\"expr\":{\"id\":\"4596b436-ee72-472f-bb8d-ec227c42bf24\",\"type\":\"Stack\"}},\"line_color\":{\"value\":\"#43a2ca\"},\"right\":{\"expr\":{\"id\":\"cf3d5402-8fe2-42a3-ae3c-3e3a4ea4eb3b\",\"type\":\"Stack\"}},\"y\":{\"field\":\"fruits\"}},\"id\":\"44f77cf7-b31f-40ae-836b-83ebaaa560a9\",\"type\":\"HBar\"},{\"attributes\":{\"fill_alpha\":{\"value\":0.1},\"fill_color\":{\"value\":\"#1f77b4\"},\"height\":{\"value\":0.9},\"left\":{\"expr\":{\"id\":\"4596b436-ee72-472f-bb8d-ec227c42bf24\",\"type\":\"Stack\"}},\"line_alpha\":{\"value\":0.1},\"line_color\":{\"value\":\"#1f77b4\"},\"right\":{\"expr\":{\"id\":\"cf3d5402-8fe2-42a3-ae3c-3e3a4ea4eb3b\",\"type\":\"Stack\"}},\"y\":{\"field\":\"fruits\"}},\"id\":\"e25a5a94-c8d4-4042-bb2a-37c725592c1d\",\"type\":\"HBar\"},{\"attributes\":{\"data_source\":{\"id\":\"5a778817-1cb6-42be-9489-80111e764bd4\",\"type\":\"ColumnDataSource\"},\"glyph\":{\"id\":\"44f77cf7-b31f-40ae-836b-83ebaaa560a9\",\"type\":\"HBar\"},\"hover_glyph\":null,\"muted_glyph\":null,\"name\":\"2015\",\"nonselection_glyph\":{\"id\":\"e25a5a94-c8d4-4042-bb2a-37c725592c1d\",\"type\":\"HBar\"},\"selection_glyph\":null,\"view\":{\"id\":\"c5639a2b-f4ff-4875-86ac-601dd1356a47\",\"type\":\"CDSView\"}},\"id\":\"0f66b637-272f-4f0f-81f0-9177c67a41cf\",\"type\":\"GlyphRenderer\"},{\"attributes\":{\"source\":{\"id\":\"5a778817-1cb6-42be-9489-80111e764bd4\",\"type\":\"ColumnDataSource\"}},\"id\":\"c5639a2b-f4ff-4875-86ac-601dd1356a47\",\"type\":\"CDSView\"},{\"attributes\":{},\"id\":\"fddcd9cc-e36a-4011-9041-40f355e836ed\",\"type\":\"CategoricalTickFormatter\"},{\"attributes\":{\"items\":[{\"id\":\"ce7e9fa6-2253-4b74-95ad-f7d3735692cb\",\"type\":\"LegendItem\"},{\"id\":\"ccdf96a4-fece-4a54-a0a7-6b569ad2569d\",\"type\":\"LegendItem\"},{\"id\":\"caf58053-d3af-4cfc-8722-e560254ef344\",\"type\":\"LegendItem\"},{\"id\":\"ca549551-bc3d-448e-a7bf-eccfb74c55ae\",\"type\":\"LegendItem\"},{\"id\":\"122ddf6f-aa55-4460-8631-d37eb7a5c92c\",\"type\":\"LegendItem\"},{\"id\":\"4fba6656-ba34-4251-bd13-498b6beda9dd\",\"type\":\"LegendItem\"}],\"location\":\"top_left\",\"plot\":{\"id\":\"df164a57-77eb-40ba-9b28-dd612a1291d7\",\"subtype\":\"Figure\",\"type\":\"Plot\"}},\"id\":\"d4ef3c3a-35f9-4341-8ac5-132e6b804662\",\"type\":\"Legend\"},{\"attributes\":{\"label\":{\"value\":\"2015 exports\"},\"renderers\":[{\"id\":\"0f66b637-272f-4f0f-81f0-9177c67a41cf\",\"type\":\"GlyphRenderer\"}]},\"id\":\"ce7e9fa6-2253-4b74-95ad-f7d3735692cb\",\"type\":\"LegendItem\"},{\"attributes\":{\"fill_color\":{\"value\":\"#fdbb84\"},\"height\":{\"value\":0.9},\"left\":{\"expr\":{\"id\":\"4c6732a3-3fb9-44d0-896c-36d9796d885c\",\"type\":\"Stack\"}},\"line_color\":{\"value\":\"#fdbb84\"},\"right\":{\"expr\":{\"id\":\"5a06bb39-4c14-4abc-a9e7-14faa130b6bd\",\"type\":\"Stack\"}},\"y\":{\"field\":\"fruits\"}},\"id\":\"23261f1b-dffd-4c6d-967f-e42e207a91ee\",\"type\":\"HBar\"},{\"attributes\":{\"dimension\":1,\"grid_line_color\":{\"value\":null},\"plot\":{\"id\":\"df164a57-77eb-40ba-9b28-dd612a1291d7\",\"subtype\":\"Figure\",\"type\":\"Plot\"},\"ticker\":{\"id\":\"88816c6a-c173-466c-a52c-a0f0f9c9a7f9\",\"type\":\"CategoricalTicker\"}},\"id\":\"13740da3-87de-4995-95d4-8e6014315df6\",\"type\":\"Grid\"},{\"attributes\":{\"fill_color\":{\"value\":\"#a8ddb5\"},\"height\":{\"value\":0.9},\"left\":{\"expr\":{\"id\":\"6f709c2d-8cf1-416e-891e-051b98c81b92\",\"type\":\"Stack\"}},\"line_color\":{\"value\":\"#a8ddb5\"},\"right\":{\"expr\":{\"id\":\"4552ba68-c879-4bea-8e27-cb054a6a2a10\",\"type\":\"Stack\"}},\"y\":{\"field\":\"fruits\"}},\"id\":\"813d6a53-6521-4ee3-aa7c-e6d14daa8014\",\"type\":\"HBar\"},{\"attributes\":{\"fill_alpha\":{\"value\":0.1},\"fill_color\":{\"value\":\"#1f77b4\"},\"height\":{\"value\":0.9},\"left\":{\"expr\":{\"id\":\"6f709c2d-8cf1-416e-891e-051b98c81b92\",\"type\":\"Stack\"}},\"line_alpha\":{\"value\":0.1},\"line_color\":{\"value\":\"#1f77b4\"},\"right\":{\"expr\":{\"id\":\"4552ba68-c879-4bea-8e27-cb054a6a2a10\",\"type\":\"Stack\"}},\"y\":{\"field\":\"fruits\"}},\"id\":\"f2a51a65-5aff-4d1b-9b5c-1533363647da\",\"type\":\"HBar\"},{\"attributes\":{\"data_source\":{\"id\":\"5a778817-1cb6-42be-9489-80111e764bd4\",\"type\":\"ColumnDataSource\"},\"glyph\":{\"id\":\"813d6a53-6521-4ee3-aa7c-e6d14daa8014\",\"type\":\"HBar\"},\"hover_glyph\":null,\"muted_glyph\":null,\"name\":\"2016\",\"nonselection_glyph\":{\"id\":\"f2a51a65-5aff-4d1b-9b5c-1533363647da\",\"type\":\"HBar\"},\"selection_glyph\":null,\"view\":{\"id\":\"4e9ac910-db1b-4769-96ec-dd7afa8148e5\",\"type\":\"CDSView\"}},\"id\":\"4fe8e559-34a4-4cb7-85c3-334844f860c3\",\"type\":\"GlyphRenderer\"},{\"attributes\":{\"source\":{\"id\":\"5a778817-1cb6-42be-9489-80111e764bd4\",\"type\":\"ColumnDataSource\"}},\"id\":\"4e9ac910-db1b-4769-96ec-dd7afa8148e5\",\"type\":\"CDSView\"},{\"attributes\":{},\"id\":\"4a6c571d-089e-4ba2-88ec-cbcb92ce2f7a\",\"type\":\"UnionRenderers\"},{\"attributes\":{},\"id\":\"0b635ed7-fd20-49dc-88b2-48dc92c87f84\",\"type\":\"Selection\"},{\"attributes\":{\"label\":{\"value\":\"2016 exports\"},\"renderers\":[{\"id\":\"4fe8e559-34a4-4cb7-85c3-334844f860c3\",\"type\":\"GlyphRenderer\"}]},\"id\":\"ccdf96a4-fece-4a54-a0a7-6b569ad2569d\",\"type\":\"LegendItem\"},{\"attributes\":{\"fields\":[]},\"id\":\"9610f2ee-4c26-45f1-9bdd-a3bd2da0e94f\",\"type\":\"Stack\"},{\"attributes\":{\"fill_color\":{\"value\":\"#e0f3db\"},\"height\":{\"value\":0.9},\"left\":{\"expr\":{\"id\":\"e904a010-4067-45ea-8b44-b26ed2b651e8\",\"type\":\"Stack\"}},\"line_color\":{\"value\":\"#e0f3db\"},\"right\":{\"expr\":{\"id\":\"1bad4588-b0a8-450d-978e-c841654d3fcc\",\"type\":\"Stack\"}},\"y\":{\"field\":\"fruits\"}},\"id\":\"836c91b6-4bf4-4c28-8947-0c6002e30eaf\",\"type\":\"HBar\"},{\"attributes\":{\"fill_alpha\":{\"value\":0.1},\"fill_color\":{\"value\":\"#1f77b4\"},\"height\":{\"value\":0.9},\"left\":{\"expr\":{\"id\":\"e904a010-4067-45ea-8b44-b26ed2b651e8\",\"type\":\"Stack\"}},\"line_alpha\":{\"value\":0.1},\"line_color\":{\"value\":\"#1f77b4\"},\"right\":{\"expr\":{\"id\":\"1bad4588-b0a8-450d-978e-c841654d3fcc\",\"type\":\"Stack\"}},\"y\":{\"field\":\"fruits\"}},\"id\":\"e6a3d924-bbb4-4dfb-97d9-bf7c4370b86d\",\"type\":\"HBar\"},{\"attributes\":{\"data_source\":{\"id\":\"5a778817-1cb6-42be-9489-80111e764bd4\",\"type\":\"ColumnDataSource\"},\"glyph\":{\"id\":\"836c91b6-4bf4-4c28-8947-0c6002e30eaf\",\"type\":\"HBar\"},\"hover_glyph\":null,\"muted_glyph\":null,\"name\":\"2017\",\"nonselection_glyph\":{\"id\":\"e6a3d924-bbb4-4dfb-97d9-bf7c4370b86d\",\"type\":\"HBar\"},\"selection_glyph\":null,\"view\":{\"id\":\"4bae0e4e-4640-48c4-b330-5b1c3fe74acc\",\"type\":\"CDSView\"}},\"id\":\"5d0ff177-ecc9-4983-9ba0-d276cadb9c4f\",\"type\":\"GlyphRenderer\"},{\"attributes\":{},\"id\":\"88816c6a-c173-466c-a52c-a0f0f9c9a7f9\",\"type\":\"CategoricalTicker\"},{\"attributes\":{\"source\":{\"id\":\"5a778817-1cb6-42be-9489-80111e764bd4\",\"type\":\"ColumnDataSource\"}},\"id\":\"4bae0e4e-4640-48c4-b330-5b1c3fe74acc\",\"type\":\"CDSView\"},{\"attributes\":{\"label\":{\"value\":\"2017 exports\"},\"renderers\":[{\"id\":\"5d0ff177-ecc9-4983-9ba0-d276cadb9c4f\",\"type\":\"GlyphRenderer\"}]},\"id\":\"caf58053-d3af-4cfc-8722-e560254ef344\",\"type\":\"LegendItem\"},{\"attributes\":{\"data_source\":{\"id\":\"6df2bf4e-cd53-48fe-b504-4d84504be5ce\",\"type\":\"ColumnDataSource\"},\"glyph\":{\"id\":\"23261f1b-dffd-4c6d-967f-e42e207a91ee\",\"type\":\"HBar\"},\"hover_glyph\":null,\"muted_glyph\":null,\"name\":\"2016\",\"nonselection_glyph\":{\"id\":\"73fbaf8d-38df-4aed-8438-385b4ce03928\",\"type\":\"HBar\"},\"selection_glyph\":null,\"view\":{\"id\":\"5625ebd9-b3e6-444c-985d-52f8c53156cf\",\"type\":\"CDSView\"}},\"id\":\"82d9ad92-5b9d-4ebf-aa5c-f30954089f88\",\"type\":\"GlyphRenderer\"},{\"attributes\":{\"fields\":[\"2015\"]},\"id\":\"1e287b7f-f04d-43fa-ba1d-d7eb40cd4a27\",\"type\":\"Stack\"},{\"attributes\":{\"fields\":[\"2015\"]},\"id\":\"4c6732a3-3fb9-44d0-896c-36d9796d885c\",\"type\":\"Stack\"},{\"attributes\":{\"fields\":[\"2015\",\"2016\"]},\"id\":\"5a06bb39-4c14-4abc-a9e7-14faa130b6bd\",\"type\":\"Stack\"},{\"attributes\":{\"fields\":[\"2015\",\"2016\"]},\"id\":\"5bef9764-376d-445c-82e0-67054f043ea9\",\"type\":\"Stack\"},{\"attributes\":{\"overlay\":{\"id\":\"419b083f-0e59-4139-8c18-6d2e114c1fcb\",\"type\":\"BoxAnnotation\"}},\"id\":\"bc9196ac-72b8-42a6-beae-40b317d2dd67\",\"type\":\"BoxZoomTool\"},{\"attributes\":{\"fields\":[\"2015\",\"2016\",\"2017\"]},\"id\":\"8a924514-01e1-4ba8-a6ef-755146c3392c\",\"type\":\"Stack\"},{\"attributes\":{\"fill_color\":{\"value\":\"#e34a33\"},\"height\":{\"value\":0.9},\"left\":{\"expr\":{\"id\":\"9610f2ee-4c26-45f1-9bdd-a3bd2da0e94f\",\"type\":\"Stack\"}},\"line_color\":{\"value\":\"#e34a33\"},\"right\":{\"expr\":{\"id\":\"1e287b7f-f04d-43fa-ba1d-d7eb40cd4a27\",\"type\":\"Stack\"}},\"y\":{\"field\":\"fruits\"}},\"id\":\"5372d424-a5db-41e6-9323-9525b3ad9d7a\",\"type\":\"HBar\"},{\"attributes\":{\"fill_alpha\":{\"value\":0.1},\"fill_color\":{\"value\":\"#1f77b4\"},\"height\":{\"value\":0.9},\"left\":{\"expr\":{\"id\":\"9610f2ee-4c26-45f1-9bdd-a3bd2da0e94f\",\"type\":\"Stack\"}},\"line_alpha\":{\"value\":0.1},\"line_color\":{\"value\":\"#1f77b4\"},\"right\":{\"expr\":{\"id\":\"1e287b7f-f04d-43fa-ba1d-d7eb40cd4a27\",\"type\":\"Stack\"}},\"y\":{\"field\":\"fruits\"}},\"id\":\"4df1a811-dce3-4429-b4ce-ce3513ebbf05\",\"type\":\"HBar\"},{\"attributes\":{\"data_source\":{\"id\":\"6df2bf4e-cd53-48fe-b504-4d84504be5ce\",\"type\":\"ColumnDataSource\"},\"glyph\":{\"id\":\"5372d424-a5db-41e6-9323-9525b3ad9d7a\",\"type\":\"HBar\"},\"hover_glyph\":null,\"muted_glyph\":null,\"name\":\"2015\",\"nonselection_glyph\":{\"id\":\"4df1a811-dce3-4429-b4ce-ce3513ebbf05\",\"type\":\"HBar\"},\"selection_glyph\":null,\"view\":{\"id\":\"eeafbe09-0b2d-43f6-99ef-d6f20dade397\",\"type\":\"CDSView\"}},\"id\":\"e5626971-5b66-4336-9892-32c0c520d2bd\",\"type\":\"GlyphRenderer\"},{\"attributes\":{\"source\":{\"id\":\"6df2bf4e-cd53-48fe-b504-4d84504be5ce\",\"type\":\"ColumnDataSource\"}},\"id\":\"eeafbe09-0b2d-43f6-99ef-d6f20dade397\",\"type\":\"CDSView\"},{\"attributes\":{\"label\":{\"value\":\"2015 imports\"},\"renderers\":[{\"id\":\"e5626971-5b66-4336-9892-32c0c520d2bd\",\"type\":\"GlyphRenderer\"}]},\"id\":\"ca549551-bc3d-448e-a7bf-eccfb74c55ae\",\"type\":\"LegendItem\"},{\"attributes\":{\"source\":{\"id\":\"6df2bf4e-cd53-48fe-b504-4d84504be5ce\",\"type\":\"ColumnDataSource\"}},\"id\":\"5625ebd9-b3e6-444c-985d-52f8c53156cf\",\"type\":\"CDSView\"},{\"attributes\":{},\"id\":\"ed5d1b8b-dcfa-4e05-9734-ec0ac3933c1f\",\"type\":\"UnionRenderers\"},{\"attributes\":{},\"id\":\"09c82b67-7b27-4804-9191-49bbf2235d78\",\"type\":\"Selection\"},{\"attributes\":{\"label\":{\"value\":\"2016 imports\"},\"renderers\":[{\"id\":\"82d9ad92-5b9d-4ebf-aa5c-f30954089f88\",\"type\":\"GlyphRenderer\"}]},\"id\":\"122ddf6f-aa55-4460-8631-d37eb7a5c92c\",\"type\":\"LegendItem\"},{\"attributes\":{\"fill_color\":{\"value\":\"#fee8c8\"},\"height\":{\"value\":0.9},\"left\":{\"expr\":{\"id\":\"5bef9764-376d-445c-82e0-67054f043ea9\",\"type\":\"Stack\"}},\"line_color\":{\"value\":\"#fee8c8\"},\"right\":{\"expr\":{\"id\":\"8a924514-01e1-4ba8-a6ef-755146c3392c\",\"type\":\"Stack\"}},\"y\":{\"field\":\"fruits\"}},\"id\":\"453d05d6-b781-4962-8381-3e56bfdb7383\",\"type\":\"HBar\"},{\"attributes\":{\"fill_alpha\":{\"value\":0.1},\"fill_color\":{\"value\":\"#1f77b4\"},\"height\":{\"value\":0.9},\"left\":{\"expr\":{\"id\":\"5bef9764-376d-445c-82e0-67054f043ea9\",\"type\":\"Stack\"}},\"line_alpha\":{\"value\":0.1},\"line_color\":{\"value\":\"#1f77b4\"},\"right\":{\"expr\":{\"id\":\"8a924514-01e1-4ba8-a6ef-755146c3392c\",\"type\":\"Stack\"}},\"y\":{\"field\":\"fruits\"}},\"id\":\"67071184-baf2-4fa6-b6c5-8c1aecd1768d\",\"type\":\"HBar\"},{\"attributes\":{\"data_source\":{\"id\":\"6df2bf4e-cd53-48fe-b504-4d84504be5ce\",\"type\":\"ColumnDataSource\"},\"glyph\":{\"id\":\"453d05d6-b781-4962-8381-3e56bfdb7383\",\"type\":\"HBar\"},\"hover_glyph\":null,\"muted_glyph\":null,\"name\":\"2017\",\"nonselection_glyph\":{\"id\":\"67071184-baf2-4fa6-b6c5-8c1aecd1768d\",\"type\":\"HBar\"},\"selection_glyph\":null,\"view\":{\"id\":\"39e27465-5e8e-421e-af30-8e1fb149158c\",\"type\":\"CDSView\"}},\"id\":\"d2fe9588-52a0-4703-a7ff-362531960b83\",\"type\":\"GlyphRenderer\"},{\"attributes\":{\"source\":{\"id\":\"6df2bf4e-cd53-48fe-b504-4d84504be5ce\",\"type\":\"ColumnDataSource\"}},\"id\":\"39e27465-5e8e-421e-af30-8e1fb149158c\",\"type\":\"CDSView\"},{\"attributes\":{\"label\":{\"value\":\"2017 imports\"},\"renderers\":[{\"id\":\"d2fe9588-52a0-4703-a7ff-362531960b83\",\"type\":\"GlyphRenderer\"}]},\"id\":\"4fba6656-ba34-4251-bd13-498b6beda9dd\",\"type\":\"LegendItem\"},{\"attributes\":{\"fields\":[\"2015\"]},\"id\":\"cf3d5402-8fe2-42a3-ae3c-3e3a4ea4eb3b\",\"type\":\"Stack\"},{\"attributes\":{\"below\":[{\"id\":\"ca86aab6-3372-49f7-b839-7c6795a5c2dc\",\"type\":\"LinearAxis\"}],\"left\":[{\"id\":\"d62d44af-de42-4dd9-9c86-dee97877b2bd\",\"type\":\"CategoricalAxis\"}],\"outline_line_color\":{\"value\":null},\"plot_height\":250,\"renderers\":[{\"id\":\"ca86aab6-3372-49f7-b839-7c6795a5c2dc\",\"type\":\"LinearAxis\"},{\"id\":\"bbb77386-be87-4d59-b634-d5cd3c9f4ea3\",\"type\":\"Grid\"},{\"id\":\"d62d44af-de42-4dd9-9c86-dee97877b2bd\",\"type\":\"CategoricalAxis\"},{\"id\":\"13740da3-87de-4995-95d4-8e6014315df6\",\"type\":\"Grid\"},{\"id\":\"419b083f-0e59-4139-8c18-6d2e114c1fcb\",\"type\":\"BoxAnnotation\"},{\"id\":\"d4ef3c3a-35f9-4341-8ac5-132e6b804662\",\"type\":\"Legend\"},{\"id\":\"0f66b637-272f-4f0f-81f0-9177c67a41cf\",\"type\":\"GlyphRenderer\"},{\"id\":\"4fe8e559-34a4-4cb7-85c3-334844f860c3\",\"type\":\"GlyphRenderer\"},{\"id\":\"5d0ff177-ecc9-4983-9ba0-d276cadb9c4f\",\"type\":\"GlyphRenderer\"},{\"id\":\"e5626971-5b66-4336-9892-32c0c520d2bd\",\"type\":\"GlyphRenderer\"},{\"id\":\"82d9ad92-5b9d-4ebf-aa5c-f30954089f88\",\"type\":\"GlyphRenderer\"},{\"id\":\"d2fe9588-52a0-4703-a7ff-362531960b83\",\"type\":\"GlyphRenderer\"}],\"title\":{\"id\":\"dd50f347-6193-40ad-b149-cb8b4cdb72ca\",\"type\":\"Title\"},\"toolbar\":{\"id\":\"be0eea60-1d3c-4335-b19b-271359e777cd\",\"type\":\"Toolbar\"},\"toolbar_location\":null,\"x_range\":{\"id\":\"4b5b2d49-c54e-4dbb-b741-65a9d5f97192\",\"type\":\"Range1d\"},\"x_scale\":{\"id\":\"47679fc8-4a69-41a2-92b9-fa2b5b236e96\",\"type\":\"LinearScale\"},\"y_range\":{\"id\":\"513e63d3-10ad-43db-8d37-fe9fd8ea7abd\",\"type\":\"FactorRange\"},\"y_scale\":{\"id\":\"5a6a51bf-4aba-47dc-9e1f-cde0109a5d96\",\"type\":\"CategoricalScale\"}},\"id\":\"df164a57-77eb-40ba-9b28-dd612a1291d7\",\"subtype\":\"Figure\",\"type\":\"Plot\"},{\"attributes\":{\"fields\":[]},\"id\":\"4596b436-ee72-472f-bb8d-ec227c42bf24\",\"type\":\"Stack\"},{\"attributes\":{\"fields\":[\"2015\"]},\"id\":\"6f709c2d-8cf1-416e-891e-051b98c81b92\",\"type\":\"Stack\"},{\"attributes\":{\"plot\":null,\"text\":\"Fruit import/export, by year\"},\"id\":\"dd50f347-6193-40ad-b149-cb8b4cdb72ca\",\"type\":\"Title\"},{\"attributes\":{\"callback\":null,\"end\":16,\"start\":-16},\"id\":\"4b5b2d49-c54e-4dbb-b741-65a9d5f97192\",\"type\":\"Range1d\"},{\"attributes\":{\"active_drag\":\"auto\",\"active_inspect\":\"auto\",\"active_multi\":null,\"active_scroll\":\"auto\",\"active_tap\":\"auto\",\"tools\":[{\"id\":\"d3b72058-3246-4938-8d07-42d123617505\",\"type\":\"PanTool\"},{\"id\":\"e9065bac-0776-49b9-b762-15be0af76377\",\"type\":\"WheelZoomTool\"},{\"id\":\"bc9196ac-72b8-42a6-beae-40b317d2dd67\",\"type\":\"BoxZoomTool\"},{\"id\":\"813d1b5f-f308-40e6-8246-b708c1369545\",\"type\":\"SaveTool\"},{\"id\":\"addb9a66-f153-4b6f-b9bc-c07f0297d932\",\"type\":\"ResetTool\"},{\"id\":\"3d3f7a2a-5023-479c-9584-ea308af0f23f\",\"type\":\"HelpTool\"}]},\"id\":\"be0eea60-1d3c-4335-b19b-271359e777cd\",\"type\":\"Toolbar\"},{\"attributes\":{\"plot\":{\"id\":\"df164a57-77eb-40ba-9b28-dd612a1291d7\",\"subtype\":\"Figure\",\"type\":\"Plot\"},\"ticker\":{\"id\":\"2453365e-6b8a-42d5-b0e7-bb0b51979fd1\",\"type\":\"BasicTicker\"}},\"id\":\"bbb77386-be87-4d59-b634-d5cd3c9f4ea3\",\"type\":\"Grid\"},{\"attributes\":{},\"id\":\"47679fc8-4a69-41a2-92b9-fa2b5b236e96\",\"type\":\"LinearScale\"},{\"attributes\":{\"callback\":null,\"factors\":[\"Apples\",\"Pears\",\"Nectarines\",\"Plums\",\"Grapes\",\"Strawberries\"],\"range_padding\":0.1},\"id\":\"513e63d3-10ad-43db-8d37-fe9fd8ea7abd\",\"type\":\"FactorRange\"},{\"attributes\":{},\"id\":\"5a6a51bf-4aba-47dc-9e1f-cde0109a5d96\",\"type\":\"CategoricalScale\"},{\"attributes\":{\"callback\":null,\"data\":{\"2015\":[-1,0,-1,-3,-2,-1],\"2016\":[-2,-1,-3,-1,-2,-2],\"2017\":[-1,-2,-1,0,-2,-2],\"fruits\":[\"Apples\",\"Pears\",\"Nectarines\",\"Plums\",\"Grapes\",\"Strawberries\"]},\"selected\":{\"id\":\"09c82b67-7b27-4804-9191-49bbf2235d78\",\"type\":\"Selection\"},\"selection_policy\":{\"id\":\"ed5d1b8b-dcfa-4e05-9734-ec0ac3933c1f\",\"type\":\"UnionRenderers\"}},\"id\":\"6df2bf4e-cd53-48fe-b504-4d84504be5ce\",\"type\":\"ColumnDataSource\"},{\"attributes\":{},\"id\":\"addb9a66-f153-4b6f-b9bc-c07f0297d932\",\"type\":\"ResetTool\"},{\"attributes\":{\"formatter\":{\"id\":\"8d6a27db-7296-4cf9-9a71-5aa945175281\",\"type\":\"BasicTickFormatter\"},\"minor_tick_line_color\":{\"value\":null},\"plot\":{\"id\":\"df164a57-77eb-40ba-9b28-dd612a1291d7\",\"subtype\":\"Figure\",\"type\":\"Plot\"},\"ticker\":{\"id\":\"2453365e-6b8a-42d5-b0e7-bb0b51979fd1\",\"type\":\"BasicTicker\"}},\"id\":\"ca86aab6-3372-49f7-b839-7c6795a5c2dc\",\"type\":\"LinearAxis\"},{\"attributes\":{},\"id\":\"813d1b5f-f308-40e6-8246-b708c1369545\",\"type\":\"SaveTool\"},{\"attributes\":{},\"id\":\"2453365e-6b8a-42d5-b0e7-bb0b51979fd1\",\"type\":\"BasicTicker\"}],\"root_ids\":[\"df164a57-77eb-40ba-9b28-dd612a1291d7\"]},\"title\":\"Bokeh Application\",\"version\":\"0.13.0\"}};\n",
       "  var render_items = [{\"docid\":\"3075a88c-5733-493f-b068-d84f6e71e9a1\",\"roots\":{\"df164a57-77eb-40ba-9b28-dd612a1291d7\":\"c1841b28-1c7b-4c2f-af50-18bf916caae1\"}}];\n",
       "  root.Bokeh.embed.embed_items_notebook(docs_json, render_items);\n",
       "\n",
       "  }\n",
       "  if (root.Bokeh !== undefined) {\n",
       "    embed_document(root);\n",
       "  } else {\n",
       "    var attempts = 0;\n",
       "    var timer = setInterval(function(root) {\n",
       "      if (root.Bokeh !== undefined) {\n",
       "        embed_document(root);\n",
       "        clearInterval(timer);\n",
       "      }\n",
       "      attempts++;\n",
       "      if (attempts > 100) {\n",
       "        console.log(\"Bokeh: ERROR: Unable to run BokehJS code because BokehJS library is missing\")\n",
       "        clearInterval(timer);\n",
       "      }\n",
       "    }, 10, root)\n",
       "  }\n",
       "})(window);"
      ],
      "application/vnd.bokehjs_exec.v0+json": ""
     },
     "metadata": {
      "application/vnd.bokehjs_exec.v0+json": {
       "id": "df164a57-77eb-40ba-9b28-dd612a1291d7"
      }
     },
     "output_type": "display_data"
    }
   ],
   "source": [
    "from bokeh.palettes import GnBu3, OrRd3\n",
    "\n",
    "fruits = ['Apples', 'Pears', 'Nectarines', 'Plums', 'Grapes', 'Strawberries']\n",
    "years = [\"2015\", \"2016\", \"2017\"]\n",
    "\n",
    "exports = {'fruits' : fruits,\n",
    "           '2015'   : [2, 1, 4, 3, 2, 4],\n",
    "           '2016'   : [5, 3, 4, 2, 4, 6],\n",
    "           '2017'   : [3, 2, 4, 4, 5, 3]}\n",
    "imports = {'fruits' : fruits,\n",
    "           '2015'   : [-1, 0, -1, -3, -2, -1],\n",
    "           '2016'   : [-2, -1, -3, -1, -2, -2],\n",
    "           '2017'   : [-1, -2, -1, 0, -2, -2]}\n",
    "\n",
    "p = figure(y_range=fruits, plot_height=250, x_range=(-16, 16), title=\"Fruit import/export, by year\",\n",
    "           toolbar_location=None)\n",
    "\n",
    "p.hbar_stack(years, y='fruits', height=0.9, color=GnBu3, source=ColumnDataSource(exports),\n",
    "             legend=[\"%s exports\" % x for x in years])\n",
    "\n",
    "p.hbar_stack(years, y='fruits', height=0.9, color=OrRd3, source=ColumnDataSource(imports),\n",
    "             legend=[\"%s imports\" % x for x in years])\n",
    "\n",
    "p.y_range.range_padding = 0.1\n",
    "p.ygrid.grid_line_color = None\n",
    "p.legend.location = \"top_left\"\n",
    "p.axis.minor_tick_line_color = None\n",
    "p.outline_line_color = None\n",
    "\n",
    "show(p)"
   ]
  },
  {
   "cell_type": "markdown",
   "metadata": {},
   "source": [
    "## Mixing Categorical Levels\n",
    "\n",
    "If you have created a range with nested categories as above, it is possible to plot glyphs using only the \"outer\" categories, if desired. The plot below shows monthly values grouped by quarter as bars. The data for these are in the famliar format:\n",
    "\n",
    "    factors = [(\"Q1\", \"jan\"), (\"Q1\", \"feb\"), (\"Q1\", \"mar\"), ....]\n",
    "\n",
    "The plot also overlays a line representing average quarterly values, and this is accomplished by using only the \"quarter\" part of each nexted category:\n",
    "\n",
    "    p.line(x=[\"Q1\", \"Q2\", \"Q3\", \"Q4\"], y=....)"
   ]
  },
  {
   "cell_type": "code",
   "execution_count": 25,
   "metadata": {},
   "outputs": [
    {
     "data": {
      "text/html": [
       "\n",
       "\n",
       "\n",
       "\n",
       "\n",
       "\n",
       "  <div class=\"bk-root\" id=\"6ac5d956-eaf9-4454-bdbe-613eb3b24429\"></div>\n"
      ]
     },
     "metadata": {},
     "output_type": "display_data"
    },
    {
     "data": {
      "application/javascript": [
       "(function(root) {\n",
       "  function embed_document(root) {\n",
       "    \n",
       "  var docs_json = {\"638b9843-7f4a-4701-86cf-acb92a15d4ef\":{\"roots\":{\"references\":[{\"attributes\":{\"active_drag\":\"auto\",\"active_inspect\":\"auto\",\"active_multi\":null,\"active_scroll\":\"auto\",\"active_tap\":\"auto\",\"tools\":[{\"id\":\"2b071eae-89bb-43af-aec8-16fe9eb255e0\",\"type\":\"PanTool\"},{\"id\":\"f2c99c1b-fa3f-4d1d-a205-d4f733d0cf4a\",\"type\":\"WheelZoomTool\"},{\"id\":\"44338591-5fe6-4ed2-b1f4-b7eca977f1fa\",\"type\":\"BoxZoomTool\"},{\"id\":\"3ce7b408-850b-4b74-ace9-f02e2a1d4a3b\",\"type\":\"SaveTool\"},{\"id\":\"1e70c50f-a1e6-4e42-9191-fbd4f0af22fb\",\"type\":\"ResetTool\"},{\"id\":\"631f5b2e-cfe4-4140-b4fd-9bbe23c81462\",\"type\":\"HelpTool\"}]},\"id\":\"d0958350-8279-499a-958e-b6665f07a48b\",\"type\":\"Toolbar\"},{\"attributes\":{},\"id\":\"1e70c50f-a1e6-4e42-9191-fbd4f0af22fb\",\"type\":\"ResetTool\"},{\"attributes\":{\"formatter\":{\"id\":\"db8bba6c-795d-4075-ba73-bb0982957944\",\"type\":\"BasicTickFormatter\"},\"plot\":{\"id\":\"2e85c535-5859-4e30-8f66-c5d31d8ef5ca\",\"subtype\":\"Figure\",\"type\":\"Plot\"},\"ticker\":{\"id\":\"2c0549c6-4c17-4239-b602-845d7321a2ad\",\"type\":\"BasicTicker\"}},\"id\":\"9c9acba8-e684-467f-bf01-cfadeee27b69\",\"type\":\"LinearAxis\"},{\"attributes\":{\"callback\":null,\"start\":0},\"id\":\"0855e1cd-656c-470a-862c-a7fa6a7c58ae\",\"type\":\"DataRange1d\"},{\"attributes\":{},\"id\":\"064a11ca-20cb-4df8-a157-67b1af0a6383\",\"type\":\"CategoricalScale\"},{\"attributes\":{},\"id\":\"2d21ec19-1236-4206-831b-68cc295174c3\",\"type\":\"CategoricalTicker\"},{\"attributes\":{\"fill_alpha\":{\"value\":0.5},\"fill_color\":{\"value\":\"#1f77b4\"},\"line_alpha\":{\"value\":0.5},\"line_color\":{\"value\":\"#1f77b4\"},\"top\":{\"field\":\"top\"},\"width\":{\"value\":0.9},\"x\":{\"field\":\"x\"}},\"id\":\"7bf5d837-e927-4cef-a1a9-71313cc8dc39\",\"type\":\"VBar\"},{\"attributes\":{\"formatter\":{\"id\":\"3b146b57-cfe8-436a-a30f-7ee13de229d8\",\"type\":\"CategoricalTickFormatter\"},\"plot\":{\"id\":\"2e85c535-5859-4e30-8f66-c5d31d8ef5ca\",\"subtype\":\"Figure\",\"type\":\"Plot\"},\"ticker\":{\"id\":\"2d21ec19-1236-4206-831b-68cc295174c3\",\"type\":\"CategoricalTicker\"}},\"id\":\"29e2fe1d-489a-4181-bdfc-cc85cc745bb7\",\"type\":\"CategoricalAxis\"},{\"attributes\":{},\"id\":\"2c0549c6-4c17-4239-b602-845d7321a2ad\",\"type\":\"BasicTicker\"},{\"attributes\":{\"fill_alpha\":{\"value\":0.1},\"fill_color\":{\"value\":\"#1f77b4\"},\"line_alpha\":{\"value\":0.1},\"line_color\":{\"value\":\"#1f77b4\"},\"top\":{\"field\":\"top\"},\"width\":{\"value\":0.9},\"x\":{\"field\":\"x\"}},\"id\":\"f301fa69-5670-4a94-a521-131efff604c7\",\"type\":\"VBar\"},{\"attributes\":{\"fill_color\":{\"value\":\"white\"},\"line_color\":{\"value\":\"red\"},\"size\":{\"units\":\"screen\",\"value\":10},\"x\":{\"field\":\"x\"},\"y\":{\"field\":\"y\"}},\"id\":\"b5c7e0c0-fbc7-4851-b5e8-d19d3f13f8c5\",\"type\":\"Circle\"},{\"attributes\":{\"source\":{\"id\":\"e682f06c-f110-416b-a9f6-0b15b6f5219b\",\"type\":\"ColumnDataSource\"}},\"id\":\"6b826946-dadd-41f9-a8ec-9d5eb3e95fdf\",\"type\":\"CDSView\"},{\"attributes\":{\"callback\":null,\"data\":{\"top\":[10,12,16,9,10,8,12,13,14,14,12,16],\"x\":[[\"Q1\",\"jan\"],[\"Q1\",\"feb\"],[\"Q1\",\"mar\"],[\"Q2\",\"apr\"],[\"Q2\",\"may\"],[\"Q2\",\"jun\"],[\"Q3\",\"jul\"],[\"Q3\",\"aug\"],[\"Q3\",\"sep\"],[\"Q4\",\"oct\"],[\"Q4\",\"nov\"],[\"Q4\",\"dec\"]]},\"selected\":{\"id\":\"2e1ca558-22a3-42ee-b0bb-212c15994ece\",\"type\":\"Selection\"},\"selection_policy\":{\"id\":\"9a1280e7-04d2-4ddd-8f08-5faa6cc67ba8\",\"type\":\"UnionRenderers\"}},\"id\":\"879f536d-5070-4b46-a8ef-747a2c543b0f\",\"type\":\"ColumnDataSource\"},{\"attributes\":{\"dimension\":1,\"plot\":{\"id\":\"2e85c535-5859-4e30-8f66-c5d31d8ef5ca\",\"subtype\":\"Figure\",\"type\":\"Plot\"},\"ticker\":{\"id\":\"2c0549c6-4c17-4239-b602-845d7321a2ad\",\"type\":\"BasicTicker\"}},\"id\":\"87d4817f-67d7-4fed-b780-0dd3a7fd4bfc\",\"type\":\"Grid\"},{\"attributes\":{\"bottom_units\":\"screen\",\"fill_alpha\":{\"value\":0.5},\"fill_color\":{\"value\":\"lightgrey\"},\"left_units\":\"screen\",\"level\":\"overlay\",\"line_alpha\":{\"value\":1.0},\"line_color\":{\"value\":\"black\"},\"line_dash\":[4,4],\"line_width\":{\"value\":2},\"plot\":null,\"render_mode\":\"css\",\"right_units\":\"screen\",\"top_units\":\"screen\"},\"id\":\"ed576148-c195-4b6d-b10b-3a563f4531d6\",\"type\":\"BoxAnnotation\"},{\"attributes\":{\"source\":{\"id\":\"879f536d-5070-4b46-a8ef-747a2c543b0f\",\"type\":\"ColumnDataSource\"}},\"id\":\"1f15b25d-838c-4cac-bf7a-c36f68bd26f1\",\"type\":\"CDSView\"},{\"attributes\":{},\"id\":\"f2c99c1b-fa3f-4d1d-a205-d4f733d0cf4a\",\"type\":\"WheelZoomTool\"},{\"attributes\":{},\"id\":\"2b071eae-89bb-43af-aec8-16fe9eb255e0\",\"type\":\"PanTool\"},{\"attributes\":{\"overlay\":{\"id\":\"ed576148-c195-4b6d-b10b-3a563f4531d6\",\"type\":\"BoxAnnotation\"}},\"id\":\"44338591-5fe6-4ed2-b1f4-b7eca977f1fa\",\"type\":\"BoxZoomTool\"},{\"attributes\":{},\"id\":\"3ce7b408-850b-4b74-ace9-f02e2a1d4a3b\",\"type\":\"SaveTool\"},{\"attributes\":{\"line_color\":\"red\",\"line_width\":3,\"x\":{\"field\":\"x\"},\"y\":{\"field\":\"y\"}},\"id\":\"2fd3d220-f7c9-4d51-b563-2d724387da42\",\"type\":\"Line\"},{\"attributes\":{},\"id\":\"631f5b2e-cfe4-4140-b4fd-9bbe23c81462\",\"type\":\"HelpTool\"},{\"attributes\":{},\"id\":\"700b8b37-3533-48d4-bbd5-4c219899f0eb\",\"type\":\"LinearScale\"},{\"attributes\":{\"callback\":null,\"data\":{\"x\":[\"Q1\",\"Q2\",\"Q3\",\"Q4\"],\"y\":[12,9,13,14]},\"selected\":{\"id\":\"d9e6df0d-8835-499e-83af-3dbc3f3bbba7\",\"type\":\"Selection\"},\"selection_policy\":{\"id\":\"ec91873a-9f39-4015-9dee-dc1813ba2023\",\"type\":\"UnionRenderers\"}},\"id\":\"e682f06c-f110-416b-a9f6-0b15b6f5219b\",\"type\":\"ColumnDataSource\"},{\"attributes\":{},\"id\":\"9a1280e7-04d2-4ddd-8f08-5faa6cc67ba8\",\"type\":\"UnionRenderers\"},{\"attributes\":{\"data_source\":{\"id\":\"32ea4096-cf3a-40ff-87e2-724ebafc70d0\",\"type\":\"ColumnDataSource\"},\"glyph\":{\"id\":\"b5c7e0c0-fbc7-4851-b5e8-d19d3f13f8c5\",\"type\":\"Circle\"},\"hover_glyph\":null,\"muted_glyph\":null,\"nonselection_glyph\":{\"id\":\"552ddde6-c1ab-4a82-9202-f5cb74ed8b45\",\"type\":\"Circle\"},\"selection_glyph\":null,\"view\":{\"id\":\"ba44fa0b-60a4-4915-8d14-f683e0b8daaa\",\"type\":\"CDSView\"}},\"id\":\"c63bf387-e0d0-4cf8-9c5b-f629a1c62b7e\",\"type\":\"GlyphRenderer\"},{\"attributes\":{\"plot\":null,\"text\":\"\"},\"id\":\"79357861-fb9f-449a-82b9-9690bb038bee\",\"type\":\"Title\"},{\"attributes\":{},\"id\":\"d9e6df0d-8835-499e-83af-3dbc3f3bbba7\",\"type\":\"Selection\"},{\"attributes\":{\"source\":{\"id\":\"32ea4096-cf3a-40ff-87e2-724ebafc70d0\",\"type\":\"ColumnDataSource\"}},\"id\":\"ba44fa0b-60a4-4915-8d14-f683e0b8daaa\",\"type\":\"CDSView\"},{\"attributes\":{\"fill_alpha\":{\"value\":0.1},\"fill_color\":{\"value\":\"#1f77b4\"},\"line_alpha\":{\"value\":0.1},\"line_color\":{\"value\":\"#1f77b4\"},\"size\":{\"units\":\"screen\",\"value\":10},\"x\":{\"field\":\"x\"},\"y\":{\"field\":\"y\"}},\"id\":\"552ddde6-c1ab-4a82-9202-f5cb74ed8b45\",\"type\":\"Circle\"},{\"attributes\":{\"callback\":null,\"factors\":[[\"Q1\",\"jan\"],[\"Q1\",\"feb\"],[\"Q1\",\"mar\"],[\"Q2\",\"apr\"],[\"Q2\",\"may\"],[\"Q2\",\"jun\"],[\"Q3\",\"jul\"],[\"Q3\",\"aug\"],[\"Q3\",\"sep\"],[\"Q4\",\"oct\"],[\"Q4\",\"nov\"],[\"Q4\",\"dec\"]],\"range_padding\":0.1},\"id\":\"cce075c3-565e-4461-a18b-71a6eee305d2\",\"type\":\"FactorRange\"},{\"attributes\":{},\"id\":\"db8bba6c-795d-4075-ba73-bb0982957944\",\"type\":\"BasicTickFormatter\"},{\"attributes\":{\"data_source\":{\"id\":\"e682f06c-f110-416b-a9f6-0b15b6f5219b\",\"type\":\"ColumnDataSource\"},\"glyph\":{\"id\":\"2fd3d220-f7c9-4d51-b563-2d724387da42\",\"type\":\"Line\"},\"hover_glyph\":null,\"muted_glyph\":null,\"nonselection_glyph\":{\"id\":\"9decf0ba-4654-4b13-9e6f-2f1c85c25c36\",\"type\":\"Line\"},\"selection_glyph\":null,\"view\":{\"id\":\"6b826946-dadd-41f9-a8ec-9d5eb3e95fdf\",\"type\":\"CDSView\"}},\"id\":\"44a070a9-1b77-46cf-bd1c-a390dc4a3b07\",\"type\":\"GlyphRenderer\"},{\"attributes\":{\"callback\":null,\"data\":{\"x\":[\"Q1\",\"Q2\",\"Q3\",\"Q4\"],\"y\":[12,9,13,14]},\"selected\":{\"id\":\"1dc864d6-114f-4d71-a73e-736265cc5939\",\"type\":\"Selection\"},\"selection_policy\":{\"id\":\"c663a534-7107-49b3-94e5-1247d69ff7aa\",\"type\":\"UnionRenderers\"}},\"id\":\"32ea4096-cf3a-40ff-87e2-724ebafc70d0\",\"type\":\"ColumnDataSource\"},{\"attributes\":{},\"id\":\"ec91873a-9f39-4015-9dee-dc1813ba2023\",\"type\":\"UnionRenderers\"},{\"attributes\":{\"line_alpha\":0.1,\"line_color\":\"#1f77b4\",\"line_width\":3,\"x\":{\"field\":\"x\"},\"y\":{\"field\":\"y\"}},\"id\":\"9decf0ba-4654-4b13-9e6f-2f1c85c25c36\",\"type\":\"Line\"},{\"attributes\":{},\"id\":\"3b146b57-cfe8-436a-a30f-7ee13de229d8\",\"type\":\"CategoricalTickFormatter\"},{\"attributes\":{},\"id\":\"1dc864d6-114f-4d71-a73e-736265cc5939\",\"type\":\"Selection\"},{\"attributes\":{\"data_source\":{\"id\":\"879f536d-5070-4b46-a8ef-747a2c543b0f\",\"type\":\"ColumnDataSource\"},\"glyph\":{\"id\":\"7bf5d837-e927-4cef-a1a9-71313cc8dc39\",\"type\":\"VBar\"},\"hover_glyph\":null,\"muted_glyph\":null,\"nonselection_glyph\":{\"id\":\"f301fa69-5670-4a94-a521-131efff604c7\",\"type\":\"VBar\"},\"selection_glyph\":null,\"view\":{\"id\":\"1f15b25d-838c-4cac-bf7a-c36f68bd26f1\",\"type\":\"CDSView\"}},\"id\":\"dec7c97a-73cc-451c-a345-fda2a7174ff4\",\"type\":\"GlyphRenderer\"},{\"attributes\":{},\"id\":\"c663a534-7107-49b3-94e5-1247d69ff7aa\",\"type\":\"UnionRenderers\"},{\"attributes\":{\"grid_line_color\":{\"value\":null},\"plot\":{\"id\":\"2e85c535-5859-4e30-8f66-c5d31d8ef5ca\",\"subtype\":\"Figure\",\"type\":\"Plot\"},\"ticker\":{\"id\":\"2d21ec19-1236-4206-831b-68cc295174c3\",\"type\":\"CategoricalTicker\"}},\"id\":\"b5dd5ade-5f90-4b99-b4bf-fcfc9bb4a8ae\",\"type\":\"Grid\"},{\"attributes\":{},\"id\":\"2e1ca558-22a3-42ee-b0bb-212c15994ece\",\"type\":\"Selection\"},{\"attributes\":{\"below\":[{\"id\":\"29e2fe1d-489a-4181-bdfc-cc85cc745bb7\",\"type\":\"CategoricalAxis\"}],\"left\":[{\"id\":\"9c9acba8-e684-467f-bf01-cfadeee27b69\",\"type\":\"LinearAxis\"}],\"plot_height\":250,\"renderers\":[{\"id\":\"29e2fe1d-489a-4181-bdfc-cc85cc745bb7\",\"type\":\"CategoricalAxis\"},{\"id\":\"b5dd5ade-5f90-4b99-b4bf-fcfc9bb4a8ae\",\"type\":\"Grid\"},{\"id\":\"9c9acba8-e684-467f-bf01-cfadeee27b69\",\"type\":\"LinearAxis\"},{\"id\":\"87d4817f-67d7-4fed-b780-0dd3a7fd4bfc\",\"type\":\"Grid\"},{\"id\":\"ed576148-c195-4b6d-b10b-3a563f4531d6\",\"type\":\"BoxAnnotation\"},{\"id\":\"dec7c97a-73cc-451c-a345-fda2a7174ff4\",\"type\":\"GlyphRenderer\"},{\"id\":\"44a070a9-1b77-46cf-bd1c-a390dc4a3b07\",\"type\":\"GlyphRenderer\"},{\"id\":\"c63bf387-e0d0-4cf8-9c5b-f629a1c62b7e\",\"type\":\"GlyphRenderer\"}],\"title\":{\"id\":\"79357861-fb9f-449a-82b9-9690bb038bee\",\"type\":\"Title\"},\"toolbar\":{\"id\":\"d0958350-8279-499a-958e-b6665f07a48b\",\"type\":\"Toolbar\"},\"x_range\":{\"id\":\"cce075c3-565e-4461-a18b-71a6eee305d2\",\"type\":\"FactorRange\"},\"x_scale\":{\"id\":\"064a11ca-20cb-4df8-a157-67b1af0a6383\",\"type\":\"CategoricalScale\"},\"y_range\":{\"id\":\"0855e1cd-656c-470a-862c-a7fa6a7c58ae\",\"type\":\"DataRange1d\"},\"y_scale\":{\"id\":\"700b8b37-3533-48d4-bbd5-4c219899f0eb\",\"type\":\"LinearScale\"}},\"id\":\"2e85c535-5859-4e30-8f66-c5d31d8ef5ca\",\"subtype\":\"Figure\",\"type\":\"Plot\"}],\"root_ids\":[\"2e85c535-5859-4e30-8f66-c5d31d8ef5ca\"]},\"title\":\"Bokeh Application\",\"version\":\"0.13.0\"}};\n",
       "  var render_items = [{\"docid\":\"638b9843-7f4a-4701-86cf-acb92a15d4ef\",\"roots\":{\"2e85c535-5859-4e30-8f66-c5d31d8ef5ca\":\"6ac5d956-eaf9-4454-bdbe-613eb3b24429\"}}];\n",
       "  root.Bokeh.embed.embed_items_notebook(docs_json, render_items);\n",
       "\n",
       "  }\n",
       "  if (root.Bokeh !== undefined) {\n",
       "    embed_document(root);\n",
       "  } else {\n",
       "    var attempts = 0;\n",
       "    var timer = setInterval(function(root) {\n",
       "      if (root.Bokeh !== undefined) {\n",
       "        embed_document(root);\n",
       "        clearInterval(timer);\n",
       "      }\n",
       "      attempts++;\n",
       "      if (attempts > 100) {\n",
       "        console.log(\"Bokeh: ERROR: Unable to run BokehJS code because BokehJS library is missing\")\n",
       "        clearInterval(timer);\n",
       "      }\n",
       "    }, 10, root)\n",
       "  }\n",
       "})(window);"
      ],
      "application/vnd.bokehjs_exec.v0+json": ""
     },
     "metadata": {
      "application/vnd.bokehjs_exec.v0+json": {
       "id": "2e85c535-5859-4e30-8f66-c5d31d8ef5ca"
      }
     },
     "output_type": "display_data"
    }
   ],
   "source": [
    "factors = [(\"Q1\", \"jan\"), (\"Q1\", \"feb\"), (\"Q1\", \"mar\"),\n",
    "           (\"Q2\", \"apr\"), (\"Q2\", \"may\"), (\"Q2\", \"jun\"),\n",
    "           (\"Q3\", \"jul\"), (\"Q3\", \"aug\"), (\"Q3\", \"sep\"),\n",
    "           (\"Q4\", \"oct\"), (\"Q4\", \"nov\"), (\"Q4\", \"dec\")]\n",
    "\n",
    "p = figure(x_range=FactorRange(*factors), plot_height=250)\n",
    "\n",
    "x = [ 10, 12, 16, 9, 10, 8, 12, 13, 14, 14, 12, 16 ]\n",
    "p.vbar(x=factors, top=x, width=0.9, alpha=0.5)\n",
    "\n",
    "qs, aves = [\"Q1\", \"Q2\", \"Q3\", \"Q4\"], [12, 9, 13, 14]\n",
    "p.line(x=qs, y=aves, color=\"red\", line_width=3)\n",
    "p.circle(x=qs, y=aves, line_color=\"red\", fill_color=\"white\", size=10)\n",
    "\n",
    "p.y_range.start = 0\n",
    "p.x_range.range_padding = 0.1\n",
    "p.xgrid.grid_line_color = None\n",
    "\n",
    "show(p)"
   ]
  },
  {
   "cell_type": "markdown",
   "metadata": {},
   "source": [
    "## Using Pandas `GroupBy`\n",
    "\n",
    "We may want to make charts based on the results of \"group by\" operations. Bokeh can utilize Pandas `GroupBy` objects directly to make this simpler. Let's take a look at how Bokeh deals with `GroupBy` objects by examining the \"cars\" data set."
   ]
  },
  {
   "cell_type": "code",
   "execution_count": 27,
   "metadata": {},
   "outputs": [
    {
     "data": {
      "text/html": [
       "<div>\n",
       "<style scoped>\n",
       "    .dataframe tbody tr th:only-of-type {\n",
       "        vertical-align: middle;\n",
       "    }\n",
       "\n",
       "    .dataframe tbody tr th {\n",
       "        vertical-align: top;\n",
       "    }\n",
       "\n",
       "    .dataframe thead th {\n",
       "        text-align: right;\n",
       "    }\n",
       "</style>\n",
       "<table border=\"1\" class=\"dataframe\">\n",
       "  <thead>\n",
       "    <tr style=\"text-align: right;\">\n",
       "      <th></th>\n",
       "      <th>mpg</th>\n",
       "      <th>cyl</th>\n",
       "      <th>displ</th>\n",
       "      <th>hp</th>\n",
       "      <th>weight</th>\n",
       "      <th>accel</th>\n",
       "      <th>yr</th>\n",
       "      <th>origin</th>\n",
       "      <th>name</th>\n",
       "      <th>mfr</th>\n",
       "    </tr>\n",
       "  </thead>\n",
       "  <tbody>\n",
       "    <tr>\n",
       "      <th>0</th>\n",
       "      <td>18.0</td>\n",
       "      <td>8</td>\n",
       "      <td>307.0</td>\n",
       "      <td>130</td>\n",
       "      <td>3504</td>\n",
       "      <td>12.0</td>\n",
       "      <td>70</td>\n",
       "      <td>North America</td>\n",
       "      <td>chevrolet chevelle malibu</td>\n",
       "      <td>chevrolet</td>\n",
       "    </tr>\n",
       "    <tr>\n",
       "      <th>1</th>\n",
       "      <td>15.0</td>\n",
       "      <td>8</td>\n",
       "      <td>350.0</td>\n",
       "      <td>165</td>\n",
       "      <td>3693</td>\n",
       "      <td>11.5</td>\n",
       "      <td>70</td>\n",
       "      <td>North America</td>\n",
       "      <td>buick skylark 320</td>\n",
       "      <td>buick</td>\n",
       "    </tr>\n",
       "    <tr>\n",
       "      <th>2</th>\n",
       "      <td>18.0</td>\n",
       "      <td>8</td>\n",
       "      <td>318.0</td>\n",
       "      <td>150</td>\n",
       "      <td>3436</td>\n",
       "      <td>11.0</td>\n",
       "      <td>70</td>\n",
       "      <td>North America</td>\n",
       "      <td>plymouth satellite</td>\n",
       "      <td>plymouth</td>\n",
       "    </tr>\n",
       "    <tr>\n",
       "      <th>3</th>\n",
       "      <td>16.0</td>\n",
       "      <td>8</td>\n",
       "      <td>304.0</td>\n",
       "      <td>150</td>\n",
       "      <td>3433</td>\n",
       "      <td>12.0</td>\n",
       "      <td>70</td>\n",
       "      <td>North America</td>\n",
       "      <td>amc rebel sst</td>\n",
       "      <td>amc</td>\n",
       "    </tr>\n",
       "    <tr>\n",
       "      <th>4</th>\n",
       "      <td>17.0</td>\n",
       "      <td>8</td>\n",
       "      <td>302.0</td>\n",
       "      <td>140</td>\n",
       "      <td>3449</td>\n",
       "      <td>10.5</td>\n",
       "      <td>70</td>\n",
       "      <td>North America</td>\n",
       "      <td>ford torino</td>\n",
       "      <td>ford</td>\n",
       "    </tr>\n",
       "  </tbody>\n",
       "</table>\n",
       "</div>"
      ],
      "text/plain": [
       "    mpg cyl  displ   hp  weight  accel  yr         origin  \\\n",
       "0  18.0   8  307.0  130    3504   12.0  70  North America   \n",
       "1  15.0   8  350.0  165    3693   11.5  70  North America   \n",
       "2  18.0   8  318.0  150    3436   11.0  70  North America   \n",
       "3  16.0   8  304.0  150    3433   12.0  70  North America   \n",
       "4  17.0   8  302.0  140    3449   10.5  70  North America   \n",
       "\n",
       "                        name        mfr  \n",
       "0  chevrolet chevelle malibu  chevrolet  \n",
       "1          buick skylark 320      buick  \n",
       "2         plymouth satellite   plymouth  \n",
       "3              amc rebel sst        amc  \n",
       "4                ford torino       ford  "
      ]
     },
     "execution_count": 27,
     "metadata": {},
     "output_type": "execute_result"
    }
   ],
   "source": [
    "from bokeh.sampledata.autompg import autompg_clean as df\n",
    "\n",
    "df.cyl = df.cyl.astype(str)\n",
    "df.head()"
   ]
  },
  {
   "cell_type": "markdown",
   "metadata": {},
   "source": [
    "Suppose we would like to display some values grouped according to `\"cyl\"`. If we create `df.groupby(('cyl'))` then call `group.describe()` we can see that Pandas automatically computes various statistics for each group. "
   ]
  },
  {
   "cell_type": "code",
   "execution_count": 28,
   "metadata": {},
   "outputs": [
    {
     "data": {
      "text/html": [
       "<div>\n",
       "<style scoped>\n",
       "    .dataframe tbody tr th:only-of-type {\n",
       "        vertical-align: middle;\n",
       "    }\n",
       "\n",
       "    .dataframe tbody tr th {\n",
       "        vertical-align: top;\n",
       "    }\n",
       "\n",
       "    .dataframe thead tr th {\n",
       "        text-align: left;\n",
       "    }\n",
       "\n",
       "    .dataframe thead tr:last-of-type th {\n",
       "        text-align: right;\n",
       "    }\n",
       "</style>\n",
       "<table border=\"1\" class=\"dataframe\">\n",
       "  <thead>\n",
       "    <tr>\n",
       "      <th></th>\n",
       "      <th colspan=\"8\" halign=\"left\">accel</th>\n",
       "      <th colspan=\"2\" halign=\"left\">displ</th>\n",
       "      <th>...</th>\n",
       "      <th colspan=\"2\" halign=\"left\">weight</th>\n",
       "      <th colspan=\"8\" halign=\"left\">yr</th>\n",
       "    </tr>\n",
       "    <tr>\n",
       "      <th></th>\n",
       "      <th>count</th>\n",
       "      <th>mean</th>\n",
       "      <th>std</th>\n",
       "      <th>min</th>\n",
       "      <th>25%</th>\n",
       "      <th>50%</th>\n",
       "      <th>75%</th>\n",
       "      <th>max</th>\n",
       "      <th>count</th>\n",
       "      <th>mean</th>\n",
       "      <th>...</th>\n",
       "      <th>75%</th>\n",
       "      <th>max</th>\n",
       "      <th>count</th>\n",
       "      <th>mean</th>\n",
       "      <th>std</th>\n",
       "      <th>min</th>\n",
       "      <th>25%</th>\n",
       "      <th>50%</th>\n",
       "      <th>75%</th>\n",
       "      <th>max</th>\n",
       "    </tr>\n",
       "    <tr>\n",
       "      <th>cyl</th>\n",
       "      <th></th>\n",
       "      <th></th>\n",
       "      <th></th>\n",
       "      <th></th>\n",
       "      <th></th>\n",
       "      <th></th>\n",
       "      <th></th>\n",
       "      <th></th>\n",
       "      <th></th>\n",
       "      <th></th>\n",
       "      <th></th>\n",
       "      <th></th>\n",
       "      <th></th>\n",
       "      <th></th>\n",
       "      <th></th>\n",
       "      <th></th>\n",
       "      <th></th>\n",
       "      <th></th>\n",
       "      <th></th>\n",
       "      <th></th>\n",
       "      <th></th>\n",
       "    </tr>\n",
       "  </thead>\n",
       "  <tbody>\n",
       "    <tr>\n",
       "      <th>3</th>\n",
       "      <td>4.0</td>\n",
       "      <td>13.250000</td>\n",
       "      <td>0.500000</td>\n",
       "      <td>12.5</td>\n",
       "      <td>13.25</td>\n",
       "      <td>13.5</td>\n",
       "      <td>13.5</td>\n",
       "      <td>13.5</td>\n",
       "      <td>4.0</td>\n",
       "      <td>72.500000</td>\n",
       "      <td>...</td>\n",
       "      <td>2495.0</td>\n",
       "      <td>2720.0</td>\n",
       "      <td>4.0</td>\n",
       "      <td>75.500000</td>\n",
       "      <td>3.696846</td>\n",
       "      <td>72.0</td>\n",
       "      <td>72.75</td>\n",
       "      <td>75.0</td>\n",
       "      <td>77.75</td>\n",
       "      <td>80.0</td>\n",
       "    </tr>\n",
       "    <tr>\n",
       "      <th>4</th>\n",
       "      <td>199.0</td>\n",
       "      <td>16.581910</td>\n",
       "      <td>2.383185</td>\n",
       "      <td>11.6</td>\n",
       "      <td>14.80</td>\n",
       "      <td>16.2</td>\n",
       "      <td>18.0</td>\n",
       "      <td>24.8</td>\n",
       "      <td>199.0</td>\n",
       "      <td>109.670854</td>\n",
       "      <td>...</td>\n",
       "      <td>2562.5</td>\n",
       "      <td>3270.0</td>\n",
       "      <td>199.0</td>\n",
       "      <td>77.030151</td>\n",
       "      <td>3.737484</td>\n",
       "      <td>70.0</td>\n",
       "      <td>74.00</td>\n",
       "      <td>77.0</td>\n",
       "      <td>80.00</td>\n",
       "      <td>82.0</td>\n",
       "    </tr>\n",
       "    <tr>\n",
       "      <th>5</th>\n",
       "      <td>3.0</td>\n",
       "      <td>18.633333</td>\n",
       "      <td>2.369247</td>\n",
       "      <td>15.9</td>\n",
       "      <td>17.90</td>\n",
       "      <td>19.9</td>\n",
       "      <td>20.0</td>\n",
       "      <td>20.1</td>\n",
       "      <td>3.0</td>\n",
       "      <td>145.000000</td>\n",
       "      <td>...</td>\n",
       "      <td>3240.0</td>\n",
       "      <td>3530.0</td>\n",
       "      <td>3.0</td>\n",
       "      <td>79.000000</td>\n",
       "      <td>1.000000</td>\n",
       "      <td>78.0</td>\n",
       "      <td>78.50</td>\n",
       "      <td>79.0</td>\n",
       "      <td>79.50</td>\n",
       "      <td>80.0</td>\n",
       "    </tr>\n",
       "    <tr>\n",
       "      <th>6</th>\n",
       "      <td>83.0</td>\n",
       "      <td>16.254217</td>\n",
       "      <td>2.031778</td>\n",
       "      <td>11.3</td>\n",
       "      <td>15.05</td>\n",
       "      <td>16.0</td>\n",
       "      <td>17.6</td>\n",
       "      <td>21.0</td>\n",
       "      <td>83.0</td>\n",
       "      <td>218.361446</td>\n",
       "      <td>...</td>\n",
       "      <td>3431.0</td>\n",
       "      <td>3907.0</td>\n",
       "      <td>83.0</td>\n",
       "      <td>75.951807</td>\n",
       "      <td>3.264381</td>\n",
       "      <td>70.0</td>\n",
       "      <td>74.00</td>\n",
       "      <td>76.0</td>\n",
       "      <td>78.00</td>\n",
       "      <td>82.0</td>\n",
       "    </tr>\n",
       "    <tr>\n",
       "      <th>8</th>\n",
       "      <td>103.0</td>\n",
       "      <td>12.955340</td>\n",
       "      <td>2.224759</td>\n",
       "      <td>8.0</td>\n",
       "      <td>11.50</td>\n",
       "      <td>13.0</td>\n",
       "      <td>14.0</td>\n",
       "      <td>22.2</td>\n",
       "      <td>103.0</td>\n",
       "      <td>345.009709</td>\n",
       "      <td>...</td>\n",
       "      <td>4403.5</td>\n",
       "      <td>5140.0</td>\n",
       "      <td>103.0</td>\n",
       "      <td>73.902913</td>\n",
       "      <td>3.021214</td>\n",
       "      <td>70.0</td>\n",
       "      <td>72.00</td>\n",
       "      <td>73.0</td>\n",
       "      <td>76.00</td>\n",
       "      <td>81.0</td>\n",
       "    </tr>\n",
       "  </tbody>\n",
       "</table>\n",
       "<p>5 rows × 48 columns</p>\n",
       "</div>"
      ],
      "text/plain": [
       "     accel                                                      displ  \\\n",
       "     count       mean       std   min    25%   50%   75%   max  count   \n",
       "cyl                                                                     \n",
       "3      4.0  13.250000  0.500000  12.5  13.25  13.5  13.5  13.5    4.0   \n",
       "4    199.0  16.581910  2.383185  11.6  14.80  16.2  18.0  24.8  199.0   \n",
       "5      3.0  18.633333  2.369247  15.9  17.90  19.9  20.0  20.1    3.0   \n",
       "6     83.0  16.254217  2.031778  11.3  15.05  16.0  17.6  21.0   83.0   \n",
       "8    103.0  12.955340  2.224759   8.0  11.50  13.0  14.0  22.2  103.0   \n",
       "\n",
       "                 ...   weight             yr                             \\\n",
       "           mean  ...      75%     max  count       mean       std   min   \n",
       "cyl              ...                                                      \n",
       "3     72.500000  ...   2495.0  2720.0    4.0  75.500000  3.696846  72.0   \n",
       "4    109.670854  ...   2562.5  3270.0  199.0  77.030151  3.737484  70.0   \n",
       "5    145.000000  ...   3240.0  3530.0    3.0  79.000000  1.000000  78.0   \n",
       "6    218.361446  ...   3431.0  3907.0   83.0  75.951807  3.264381  70.0   \n",
       "8    345.009709  ...   4403.5  5140.0  103.0  73.902913  3.021214  70.0   \n",
       "\n",
       "                               \n",
       "       25%   50%    75%   max  \n",
       "cyl                            \n",
       "3    72.75  75.0  77.75  80.0  \n",
       "4    74.00  77.0  80.00  82.0  \n",
       "5    78.50  79.0  79.50  80.0  \n",
       "6    74.00  76.0  78.00  82.0  \n",
       "8    72.00  73.0  76.00  81.0  \n",
       "\n",
       "[5 rows x 48 columns]"
      ]
     },
     "execution_count": 28,
     "metadata": {},
     "output_type": "execute_result"
    }
   ],
   "source": [
    "group = df.groupby(('cyl'))\n",
    "\n",
    "group.describe()"
   ]
  },
  {
   "cell_type": "markdown",
   "metadata": {},
   "source": [
    "Bokeh allows us to create a `ColumnDataSource` directly from Pandas `GroupBy` objects, and when this happens, the data source is automatically filled with the summary values from `group.desribe()`. Observe the column names below, which correspond to the output above."
   ]
  },
  {
   "cell_type": "code",
   "execution_count": 30,
   "metadata": {},
   "outputs": [
    {
     "data": {
      "text/plain": [
       "'accel_count,accel_mean,accel_std,accel_min,accel_25%,accel_50%,accel_75%,accel_max,displ_count,displ_mean,displ_std,displ_min,displ_25%,displ_50%,displ_75%,displ_max,hp_count,hp_mean,hp_std,hp_min,hp_25%,hp_50%,hp_75%,hp_max,mpg_count,mpg_mean,mpg_std,mpg_min,mpg_25%,mpg_50%,mpg_75%,mpg_max,weight_count,weight_mean,weight_std,weight_min,weight_25%,weight_50%,weight_75%,weight_max,yr_count,yr_mean,yr_std,yr_min,yr_25%,yr_50%,yr_75%,yr_max,cyl'"
      ]
     },
     "execution_count": 30,
     "metadata": {},
     "output_type": "execute_result"
    }
   ],
   "source": [
    "source = ColumnDataSource(group)\n",
    "\n",
    "\",\".join(source.column_names)"
   ]
  },
  {
   "cell_type": "markdown",
   "metadata": {},
   "source": [
    "Knowing these column names, we can immediately create bar charts based on Pandas `GroupBy` objects. The example below plots the aveage MPG per cylinder, i.e. columns `\"mpg_mean\"` vs `\"cyl\"`"
   ]
  },
  {
   "cell_type": "code",
   "execution_count": 31,
   "metadata": {},
   "outputs": [
    {
     "data": {
      "text/html": [
       "\n",
       "\n",
       "\n",
       "\n",
       "\n",
       "\n",
       "  <div class=\"bk-root\" id=\"4862a97a-31c6-4c6e-8a12-2d0eb3ad61e0\"></div>\n"
      ]
     },
     "metadata": {},
     "output_type": "display_data"
    },
    {
     "data": {
      "application/javascript": [
       "(function(root) {\n",
       "  function embed_document(root) {\n",
       "    \n",
       "  var docs_json = {\"eedc47e6-5ec5-440d-aa49-85c199bc79a6\":{\"roots\":{\"references\":[{\"attributes\":{},\"id\":\"952d703d-738b-44c6-9ad0-5a502a382e84\",\"type\":\"HelpTool\"},{\"attributes\":{\"callback\":null,\"start\":0},\"id\":\"e28acdb2-dd12-4c50-aab1-b11b47cd469c\",\"type\":\"DataRange1d\"},{\"attributes\":{},\"id\":\"541b3b92-ba9c-42b8-b200-8cd636c80323\",\"type\":\"LinearScale\"},{\"attributes\":{},\"id\":\"7b6ec817-086b-40a2-86da-1dd087e1a61e\",\"type\":\"CategoricalTickFormatter\"},{\"attributes\":{\"grid_line_color\":{\"value\":null},\"plot\":{\"id\":\"960937b2-3ba1-4cc8-a31e-985f33c7bae0\",\"subtype\":\"Figure\",\"type\":\"Plot\"},\"ticker\":{\"id\":\"1238a083-3d6a-4b80-ad2d-84990ee3f15f\",\"type\":\"CategoricalTicker\"}},\"id\":\"19fdc32c-8af7-4e5d-a245-cc481b27a08a\",\"type\":\"Grid\"},{\"attributes\":{},\"id\":\"afe0a01c-faa7-4432-ab51-d27d744dda9e\",\"type\":\"BasicTickFormatter\"},{\"attributes\":{\"axis_label\":\"number of cylinders\",\"formatter\":{\"id\":\"7b6ec817-086b-40a2-86da-1dd087e1a61e\",\"type\":\"CategoricalTickFormatter\"},\"plot\":{\"id\":\"960937b2-3ba1-4cc8-a31e-985f33c7bae0\",\"subtype\":\"Figure\",\"type\":\"Plot\"},\"ticker\":{\"id\":\"1238a083-3d6a-4b80-ad2d-84990ee3f15f\",\"type\":\"CategoricalTicker\"}},\"id\":\"2ee22c45-988e-48ca-8f3b-1a6b0c079279\",\"type\":\"CategoricalAxis\"},{\"attributes\":{},\"id\":\"1238a083-3d6a-4b80-ad2d-84990ee3f15f\",\"type\":\"CategoricalTicker\"},{\"attributes\":{\"below\":[{\"id\":\"2ee22c45-988e-48ca-8f3b-1a6b0c079279\",\"type\":\"CategoricalAxis\"}],\"left\":[{\"id\":\"07bcd614-dd9c-4f18-b8ca-b189b88712f0\",\"type\":\"LinearAxis\"}],\"plot_height\":350,\"renderers\":[{\"id\":\"2ee22c45-988e-48ca-8f3b-1a6b0c079279\",\"type\":\"CategoricalAxis\"},{\"id\":\"19fdc32c-8af7-4e5d-a245-cc481b27a08a\",\"type\":\"Grid\"},{\"id\":\"07bcd614-dd9c-4f18-b8ca-b189b88712f0\",\"type\":\"LinearAxis\"},{\"id\":\"cf3c8ac0-0f60-4832-8a0d-6c8b2ee96dd4\",\"type\":\"Grid\"},{\"id\":\"b25384e0-735e-42a0-9648-1ecbefe1975b\",\"type\":\"BoxAnnotation\"},{\"id\":\"1ac4c44f-be5c-4560-ad78-9bddc4935e2e\",\"type\":\"GlyphRenderer\"}],\"title\":{\"id\":\"5799d49b-411f-49b2-9f73-f41237ac9d96\",\"type\":\"Title\"},\"toolbar\":{\"id\":\"05fab04f-664e-41cf-a3c2-f58f0be0f869\",\"type\":\"Toolbar\"},\"x_range\":{\"id\":\"d3ed9c67-8058-4ef4-9283-bb79efb51e72\",\"type\":\"FactorRange\"},\"x_scale\":{\"id\":\"8d44c199-79ea-4e48-886f-8c74580d6195\",\"type\":\"CategoricalScale\"},\"y_range\":{\"id\":\"e28acdb2-dd12-4c50-aab1-b11b47cd469c\",\"type\":\"DataRange1d\"},\"y_scale\":{\"id\":\"541b3b92-ba9c-42b8-b200-8cd636c80323\",\"type\":\"LinearScale\"}},\"id\":\"960937b2-3ba1-4cc8-a31e-985f33c7bae0\",\"subtype\":\"Figure\",\"type\":\"Plot\"},{\"attributes\":{},\"id\":\"58c9be60-dd82-46bb-a618-85b5cdc3db58\",\"type\":\"UnionRenderers\"},{\"attributes\":{\"fill_alpha\":{\"value\":0.1},\"fill_color\":{\"value\":\"#1f77b4\"},\"line_alpha\":{\"value\":0.1},\"line_color\":{\"value\":\"#1f77b4\"},\"top\":{\"field\":\"mpg_mean\"},\"width\":{\"value\":1},\"x\":{\"field\":\"cyl\"}},\"id\":\"50b88098-54b6-4006-97a6-d744532094b3\",\"type\":\"VBar\"},{\"attributes\":{},\"id\":\"2af637fc-139d-4eb7-be89-2deeddb6fe87\",\"type\":\"BasicTicker\"},{\"attributes\":{\"factors\":[\"3\",\"4\",\"5\",\"6\",\"8\"],\"palette\":[\"#2b83ba\",\"#abdda4\",\"#ffffbf\",\"#fdae61\",\"#d7191c\"]},\"id\":\"9e504835-04eb-42a9-b1d9-aa77bde08e76\",\"type\":\"CategoricalColorMapper\"},{\"attributes\":{},\"id\":\"ffc9405f-4f37-44b8-a009-9e6c6ccb8922\",\"type\":\"Selection\"},{\"attributes\":{\"dimension\":1,\"plot\":{\"id\":\"960937b2-3ba1-4cc8-a31e-985f33c7bae0\",\"subtype\":\"Figure\",\"type\":\"Plot\"},\"ticker\":{\"id\":\"2af637fc-139d-4eb7-be89-2deeddb6fe87\",\"type\":\"BasicTicker\"}},\"id\":\"cf3c8ac0-0f60-4832-8a0d-6c8b2ee96dd4\",\"type\":\"Grid\"},{\"attributes\":{\"data_source\":{\"id\":\"91d550bf-b307-40c0-a297-3e1cd1aa460d\",\"type\":\"ColumnDataSource\"},\"glyph\":{\"id\":\"c92318d9-7b5b-4d6e-9267-2463cc08d98e\",\"type\":\"VBar\"},\"hover_glyph\":null,\"muted_glyph\":null,\"nonselection_glyph\":{\"id\":\"50b88098-54b6-4006-97a6-d744532094b3\",\"type\":\"VBar\"},\"selection_glyph\":null,\"view\":{\"id\":\"e22a8c32-9ff1-4212-a436-687208adb3ec\",\"type\":\"CDSView\"}},\"id\":\"1ac4c44f-be5c-4560-ad78-9bddc4935e2e\",\"type\":\"GlyphRenderer\"},{\"attributes\":{\"plot\":null,\"text\":\"\"},\"id\":\"5799d49b-411f-49b2-9f73-f41237ac9d96\",\"type\":\"Title\"},{\"attributes\":{\"fill_color\":{\"field\":\"cyl\",\"transform\":{\"id\":\"9e504835-04eb-42a9-b1d9-aa77bde08e76\",\"type\":\"CategoricalColorMapper\"}},\"line_color\":{\"value\":\"white\"},\"top\":{\"field\":\"mpg_mean\"},\"width\":{\"value\":1},\"x\":{\"field\":\"cyl\"}},\"id\":\"c92318d9-7b5b-4d6e-9267-2463cc08d98e\",\"type\":\"VBar\"},{\"attributes\":{\"source\":{\"id\":\"91d550bf-b307-40c0-a297-3e1cd1aa460d\",\"type\":\"ColumnDataSource\"}},\"id\":\"e22a8c32-9ff1-4212-a436-687208adb3ec\",\"type\":\"CDSView\"},{\"attributes\":{\"callback\":null,\"data\":{\"accel_25%\":{\"__ndarray__\":\"AAAAAACAKkCamZmZmZktQGZmZmZm5jFAmpmZmZkZLkAAAAAAAAAnQA==\",\"dtype\":\"float64\",\"shape\":[5]},\"accel_50%\":{\"__ndarray__\":\"AAAAAAAAK0AzMzMzMzMwQGZmZmZm5jNAAAAAAAAAMEAAAAAAAAAqQA==\",\"dtype\":\"float64\",\"shape\":[5]},\"accel_75%\":{\"__ndarray__\":\"AAAAAAAAK0AAAAAAAAAyQAAAAAAAADRAmpmZmZmZMUAAAAAAAAAsQA==\",\"dtype\":\"float64\",\"shape\":[5]},\"accel_count\":{\"__ndarray__\":\"AAAAAAAAEEAAAAAAAOBoQAAAAAAAAAhAAAAAAADAVEAAAAAAAMBZQA==\",\"dtype\":\"float64\",\"shape\":[5]},\"accel_max\":{\"__ndarray__\":\"AAAAAAAAK0DNzMzMzMw4QJqZmZmZGTRAAAAAAAAANUAzMzMzMzM2QA==\",\"dtype\":\"float64\",\"shape\":[5]},\"accel_mean\":{\"__ndarray__\":\"AAAAAACAKkCRxCwG+JQwQCIiIiIiojJA7d9LWxRBMEA+LI1MIukpQA==\",\"dtype\":\"float64\",\"shape\":[5]},\"accel_min\":{\"__ndarray__\":\"AAAAAAAAKUAzMzMzMzMnQM3MzMzMzC9AmpmZmZmZJkAAAAAAAAAgQA==\",\"dtype\":\"float64\",\"shape\":[5]},\"accel_std\":{\"__ndarray__\":\"AAAAAAAA4D+b1TA5wxADQO1jrP039AJA0StM4BRBAED/ZpysTswBQA==\",\"dtype\":\"float64\",\"shape\":[5]},\"cyl\":[\"3\",\"4\",\"5\",\"6\",\"8\"],\"displ_25%\":{\"__ndarray__\":\"AAAAAACAUUAAAAAAAMBWQAAAAAAAgF9AAAAAAADwaEAAAAAAABBzQA==\",\"dtype\":\"float64\",\"shape\":[5]},\"displ_50%\":{\"__ndarray__\":\"AAAAAACAUUAAAAAAAEBaQAAAAAAAYGBAAAAAAADgbEAAAAAAAOB1QA==\",\"dtype\":\"float64\",\"shape\":[5]},\"displ_75%\":{\"__ndarray__\":\"AAAAAAAgUkAAAAAAAEBeQAAAAAAAoGNAAAAAAABAb0AAAAAAAIB2QA==\",\"dtype\":\"float64\",\"shape\":[5]},\"displ_count\":{\"__ndarray__\":\"AAAAAAAAEEAAAAAAAOBoQAAAAAAAAAhAAAAAAADAVEAAAAAAAMBZQA==\",\"dtype\":\"float64\",\"shape\":[5]},\"displ_max\":{\"__ndarray__\":\"AAAAAAAAVEAAAAAAAIBjQAAAAAAA4GZAAAAAAABgcEAAAAAAAHB8QA==\",\"dtype\":\"float64\",\"shape\":[5]},\"displ_mean\":{\"__ndarray__\":\"AAAAAAAgUkD/9sBG72pbQAAAAAAAIGJAmjq/9pBLa0DJeVnEJ5B1QA==\",\"dtype\":\"float64\",\"shape\":[5]},\"displ_min\":{\"__ndarray__\":\"AAAAAACAUUAAAAAAAABRQAAAAAAAQF5AAAAAAAAgYkAAAAAAAEBwQA==\",\"dtype\":\"float64\",\"shape\":[5]},\"displ_std\":{\"__ndarray__\":\"AAAAAAAAFEC8furRdmA1QLmT4WuwpEBAT4BvAbA2QEDXs8ZGYGNHQA==\",\"dtype\":\"float64\",\"shape\":[5]},\"hp_25%\":{\"__ndarray__\":\"AAAAAADQV0AAAAAAAABRQAAAAAAAAFJAAAAAAAAgV0AAAAAAAIBhQA==\",\"dtype\":\"float64\",\"shape\":[5]},\"hp_50%\":{\"__ndarray__\":\"AAAAAACgWEAAAAAAAIBTQAAAAAAAQFNAAAAAAAAAWUAAAAAAAMBiQA==\",\"dtype\":\"float64\",\"shape\":[5]},\"hp_75%\":{\"__ndarray__\":\"AAAAAACgWUAAAAAAAABWQAAAAAAAgFZAAAAAAACAW0AAAAAAAOBlQA==\",\"dtype\":\"float64\",\"shape\":[5]},\"hp_count\":{\"__ndarray__\":\"AAAAAAAAEEAAAAAAAOBoQAAAAAAAAAhAAAAAAADAVEAAAAAAAMBZQA==\",\"dtype\":\"float64\",\"shape\":[5]},\"hp_max\":{\"__ndarray__\":\"AAAAAACAW0AAAAAAAMBcQAAAAAAAwFlAAAAAAACgZEAAAAAAAMBsQA==\",\"dtype\":\"float64\",\"shape\":[5]},\"hp_mean\":{\"__ndarray__\":\"AAAAAADQWEB2PKeSApJTQFVVVVVVlVRAsD3ksmJgWUDCfquNocljQA==\",\"dtype\":\"float64\",\"shape\":[5]},\"hp_min\":{\"__ndarray__\":\"AAAAAACAVkAAAAAAAABHQAAAAAAAwFBAAAAAAAAAUkAAAAAAAIBWQA==\",\"dtype\":\"float64\",\"shape\":[5]},\"hp_std\":{\"__ndarray__\":\"sTIWI2yaIECGr0Go0wstQDKsjxZJlTJAxZAwIvaeLEBQwZb3G3Q8QA==\",\"dtype\":\"float64\",\"shape\":[5]},\"mpg_25%\":{\"__ndarray__\":\"AAAAAADAMkAAAAAAAAA5QJqZmZmZ2TZAAAAAAAAAMkAAAAAAAAAqQA==\",\"dtype\":\"float64\",\"shape\":[5]},\"mpg_50%\":{\"__ndarray__\":\"AAAAAABANEBmZmZmZmY8QGZmZmZmZjlAAAAAAAAAM0AAAAAAAAAsQA==\",\"dtype\":\"float64\",\"shape\":[5]},\"mpg_75%\":{\"__ndarray__\":\"zczMzMwMNkCamZmZmXlAQGZmZmZm5j5AAAAAAAAANUAAAAAAAAAwQA==\",\"dtype\":\"float64\",\"shape\":[5]},\"mpg_count\":{\"__ndarray__\":\"AAAAAAAAEEAAAAAAAOBoQAAAAAAAAAhAAAAAAADAVEAAAAAAAMBZQA==\",\"dtype\":\"float64\",\"shape\":[5]},\"mpg_max\":{\"__ndarray__\":\"MzMzMzOzN0DNzMzMzExHQDMzMzMzM0JAAAAAAAAAQ0CamZmZmZk6QA==\",\"dtype\":\"float64\",\"shape\":[5]},\"mpg_mean\":{\"__ndarray__\":\"zczMzMyMNEBwD2z0rkg9QN3d3d3dXTtA6lu15jb5M0BgwH9VHO0tQA==\",\"dtype\":\"float64\",\"shape\":[5]},\"mpg_min\":{\"__ndarray__\":\"AAAAAAAAMkAAAAAAAAAyQM3MzMzMTDRAAAAAAAAALkAAAAAAAAAiQA==\",\"dtype\":\"float64\",\"shape\":[5]},\"mpg_std\":{\"__ndarray__\":\"ca9eOxmEBECNLXOmo64WQOWG1RfXdCBALURKf2ahDkC0cW7BtbAGQA==\",\"dtype\":\"float64\",\"shape\":[5]},\"weight_25%\":{\"__ndarray__\":\"AAAAAADNoUAAAAAAAP6fQAAAAAAAlKZAAAAAAAACp0AAAAAAAK6tQA==\",\"dtype\":\"float64\",\"shape\":[5]},\"weight_50%\":{\"__ndarray__\":\"AAAAAACOokAAAAAAAGyhQAAAAAAADKdAAAAAAAAUqUAAAAAAACywQA==\",\"dtype\":\"float64\",\"shape\":[5]},\"weight_75%\":{\"__ndarray__\":\"AAAAAAB+o0AAAAAAAAWkQAAAAAAAUKlAAAAAAADOqkAAAAAAgDOxQA==\",\"dtype\":\"float64\",\"shape\":[5]},\"weight_count\":{\"__ndarray__\":\"AAAAAAAAEEAAAAAAAOBoQAAAAAAAAAhAAAAAAADAVEAAAAAAAMBZQA==\",\"dtype\":\"float64\",\"shape\":[5]},\"weight_max\":{\"__ndarray__\":\"AAAAAABApUAAAAAAAIypQAAAAAAAlKtAAAAAAACGrkAAAAAAABS0QA==\",\"dtype\":\"float64\",\"shape\":[5]},\"weight_mean\":{\"__ndarray__\":\"AAAAAAC9okAsMl+aOAKiQKuqqqqqPqhAjqbOrz0EqUBD0x3stxKwQA==\",\"dtype\":\"float64\",\"shape\":[5]},\"weight_min\":{\"__ndarray__\":\"AAAAAACYoEAAAAAAADSZQAAAAAAAHKZAAAAAAABQo0AAAAAAAByoQA==\",\"dtype\":\"float64\",\"shape\":[5]},\"weight_std\":{\"__ndarray__\":\"udhs7B3ybkC6+VSg9G11QA9pSX6AZXdAdmeNgiLGdEC+UR6eVA18QA==\",\"dtype\":\"float64\",\"shape\":[5]},\"yr_25%\":{\"__ndarray__\":\"AAAAAAAwUkAAAAAAAIBSQAAAAAAAoFNAAAAAAACAUkAAAAAAAABSQA==\",\"dtype\":\"float64\",\"shape\":[5]},\"yr_50%\":{\"__ndarray__\":\"AAAAAADAUkAAAAAAAEBTQAAAAAAAwFNAAAAAAAAAU0AAAAAAAEBSQA==\",\"dtype\":\"float64\",\"shape\":[5]},\"yr_75%\":{\"__ndarray__\":\"AAAAAABwU0AAAAAAAABUQAAAAAAA4FNAAAAAAACAU0AAAAAAAABTQA==\",\"dtype\":\"float64\",\"shape\":[5]},\"yr_count\":{\"__ndarray__\":\"AAAAAAAAEEAAAAAAAOBoQAAAAAAAAAhAAAAAAADAVEAAAAAAAMBZQA==\",\"dtype\":\"float64\",\"shape\":[5]},\"yr_max\":{\"__ndarray__\":\"AAAAAAAAVEAAAAAAAIBUQAAAAAAAAFRAAAAAAACAVEAAAAAAAEBUQA==\",\"dtype\":\"float64\",\"shape\":[5]},\"yr_mean\":{\"__ndarray__\":\"AAAAAADgUkDEWG397UFTQAAAAAAAwFNAghLeaOr8UkCL+ARSyXlSQA==\",\"dtype\":\"float64\",\"shape\":[5]},\"yr_min\":{\"__ndarray__\":\"AAAAAAAAUkAAAAAAAIBRQAAAAAAAgFNAAAAAAACAUUAAAAAAAIBRQA==\",\"dtype\":\"float64\",\"shape\":[5]},\"yr_std\":{\"__ndarray__\":\"p1MQvCOTDUAd5PLGXeYNQAAAAAAAAPA/p0OY+nMdCkAEv1x2cisIQA==\",\"dtype\":\"float64\",\"shape\":[5]}},\"selected\":{\"id\":\"ffc9405f-4f37-44b8-a009-9e6c6ccb8922\",\"type\":\"Selection\"},\"selection_policy\":{\"id\":\"58c9be60-dd82-46bb-a618-85b5cdc3db58\",\"type\":\"UnionRenderers\"}},\"id\":\"91d550bf-b307-40c0-a297-3e1cd1aa460d\",\"type\":\"ColumnDataSource\"},{\"attributes\":{\"bottom_units\":\"screen\",\"fill_alpha\":{\"value\":0.5},\"fill_color\":{\"value\":\"lightgrey\"},\"left_units\":\"screen\",\"level\":\"overlay\",\"line_alpha\":{\"value\":1.0},\"line_color\":{\"value\":\"black\"},\"line_dash\":[4,4],\"line_width\":{\"value\":2},\"plot\":null,\"render_mode\":\"css\",\"right_units\":\"screen\",\"top_units\":\"screen\"},\"id\":\"b25384e0-735e-42a0-9648-1ecbefe1975b\",\"type\":\"BoxAnnotation\"},{\"attributes\":{\"active_drag\":\"auto\",\"active_inspect\":\"auto\",\"active_multi\":null,\"active_scroll\":\"auto\",\"active_tap\":\"auto\",\"tools\":[{\"id\":\"a70ffaa9-6b97-4d80-b14f-6c4c2e4a34a3\",\"type\":\"PanTool\"},{\"id\":\"5008cc95-3d60-4b77-97d6-db26f67daf8d\",\"type\":\"WheelZoomTool\"},{\"id\":\"2f65d22b-0380-4ce3-8447-b7dc21e39db3\",\"type\":\"BoxZoomTool\"},{\"id\":\"ef895e96-2e98-4dc2-95b3-19d610e0575d\",\"type\":\"SaveTool\"},{\"id\":\"3cedf222-f68d-4e7f-be08-fbd1c32d4953\",\"type\":\"ResetTool\"},{\"id\":\"952d703d-738b-44c6-9ad0-5a502a382e84\",\"type\":\"HelpTool\"}]},\"id\":\"05fab04f-664e-41cf-a3c2-f58f0be0f869\",\"type\":\"Toolbar\"},{\"attributes\":{},\"id\":\"a70ffaa9-6b97-4d80-b14f-6c4c2e4a34a3\",\"type\":\"PanTool\"},{\"attributes\":{},\"id\":\"8d44c199-79ea-4e48-886f-8c74580d6195\",\"type\":\"CategoricalScale\"},{\"attributes\":{},\"id\":\"5008cc95-3d60-4b77-97d6-db26f67daf8d\",\"type\":\"WheelZoomTool\"},{\"attributes\":{\"overlay\":{\"id\":\"b25384e0-735e-42a0-9648-1ecbefe1975b\",\"type\":\"BoxAnnotation\"}},\"id\":\"2f65d22b-0380-4ce3-8447-b7dc21e39db3\",\"type\":\"BoxZoomTool\"},{\"attributes\":{\"callback\":null,\"factors\":[\"3\",\"4\",\"5\",\"6\",\"8\"]},\"id\":\"d3ed9c67-8058-4ef4-9283-bb79efb51e72\",\"type\":\"FactorRange\"},{\"attributes\":{},\"id\":\"ef895e96-2e98-4dc2-95b3-19d610e0575d\",\"type\":\"SaveTool\"},{\"attributes\":{\"axis_label\":\"Mean MPG\",\"formatter\":{\"id\":\"afe0a01c-faa7-4432-ab51-d27d744dda9e\",\"type\":\"BasicTickFormatter\"},\"plot\":{\"id\":\"960937b2-3ba1-4cc8-a31e-985f33c7bae0\",\"subtype\":\"Figure\",\"type\":\"Plot\"},\"ticker\":{\"id\":\"2af637fc-139d-4eb7-be89-2deeddb6fe87\",\"type\":\"BasicTicker\"}},\"id\":\"07bcd614-dd9c-4f18-b8ca-b189b88712f0\",\"type\":\"LinearAxis\"},{\"attributes\":{},\"id\":\"3cedf222-f68d-4e7f-be08-fbd1c32d4953\",\"type\":\"ResetTool\"}],\"root_ids\":[\"960937b2-3ba1-4cc8-a31e-985f33c7bae0\"]},\"title\":\"Bokeh Application\",\"version\":\"0.13.0\"}};\n",
       "  var render_items = [{\"docid\":\"eedc47e6-5ec5-440d-aa49-85c199bc79a6\",\"roots\":{\"960937b2-3ba1-4cc8-a31e-985f33c7bae0\":\"4862a97a-31c6-4c6e-8a12-2d0eb3ad61e0\"}}];\n",
       "  root.Bokeh.embed.embed_items_notebook(docs_json, render_items);\n",
       "\n",
       "  }\n",
       "  if (root.Bokeh !== undefined) {\n",
       "    embed_document(root);\n",
       "  } else {\n",
       "    var attempts = 0;\n",
       "    var timer = setInterval(function(root) {\n",
       "      if (root.Bokeh !== undefined) {\n",
       "        embed_document(root);\n",
       "        clearInterval(timer);\n",
       "      }\n",
       "      attempts++;\n",
       "      if (attempts > 100) {\n",
       "        console.log(\"Bokeh: ERROR: Unable to run BokehJS code because BokehJS library is missing\")\n",
       "        clearInterval(timer);\n",
       "      }\n",
       "    }, 10, root)\n",
       "  }\n",
       "})(window);"
      ],
      "application/vnd.bokehjs_exec.v0+json": ""
     },
     "metadata": {
      "application/vnd.bokehjs_exec.v0+json": {
       "id": "960937b2-3ba1-4cc8-a31e-985f33c7bae0"
      }
     },
     "output_type": "display_data"
    }
   ],
   "source": [
    "from bokeh.palettes import Spectral5\n",
    "\n",
    "cyl_cmap = factor_cmap('cyl', palette=Spectral5, factors=sorted(df.cyl.unique()))\n",
    "\n",
    "p = figure(plot_height=350, x_range=group)\n",
    "p.vbar(x='cyl', top='mpg_mean', width=1, line_color=\"white\", \n",
    "       fill_color=cyl_cmap, source=source)\n",
    "\n",
    "p.xgrid.grid_line_color = None\n",
    "p.xaxis.axis_label = \"number of cylinders\"\n",
    "p.yaxis.axis_label = \"Mean MPG\"\n",
    "p.y_range.start = 0\n",
    "\n",
    "show(p)"
   ]
  },
  {
   "cell_type": "code",
   "execution_count": 32,
   "metadata": {},
   "outputs": [],
   "source": [
    "# EXERCISE 4: Use the same dataset to make a similar plot of mean horsepower (hp) by origin"
   ]
  },
  {
   "cell_type": "code",
   "execution_count": null,
   "metadata": {},
   "outputs": [],
   "source": []
  }
 ],
 "metadata": {
  "kernelspec": {
   "display_name": "Python 3",
   "language": "python",
   "name": "python3"
  },
  "language_info": {
   "codemirror_mode": {
    "name": "ipython",
    "version": 3
   },
   "file_extension": ".py",
   "mimetype": "text/x-python",
   "name": "python",
   "nbconvert_exporter": "python",
   "pygments_lexer": "ipython3",
   "version": "3.6.5"
  }
 },
 "nbformat": 4,
 "nbformat_minor": 2
}
