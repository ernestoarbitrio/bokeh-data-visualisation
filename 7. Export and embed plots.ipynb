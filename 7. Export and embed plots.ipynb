{
 "cells": [
  {
   "cell_type": "markdown",
   "metadata": {},
   "source": [
    "# Export and Embed plots"
   ]
  },
  {
   "cell_type": "markdown",
   "metadata": {},
   "source": [
    "## Exporting plots"
   ]
  },
  {
   "cell_type": "markdown",
   "metadata": {},
   "source": [
    "### PNG Generation\n",
    "Bokeh can generate RGBA-format Portable Network Graphics (PNG) images from layouts using the export() function. This functionality uses a headless browser called WebKit to render the layout in memory and then capture a screenshot. The generated image will be of the same dimensions as the source layout."
   ]
  },
  {
   "cell_type": "markdown",
   "metadata": {},
   "source": [
    "#### Additional dependencies\n",
    "In order to use the export() function, users have to install some additional dependencies. These dependencies can be installed via conda or pip:\n",
    "\n",
    "`conda install selenium phantomjs pillow`\n",
    "\n",
    "`pip install selenium pillow`\n",
    "\n",
    "Alternatively, you can install phantomjs from npm via\n",
    "\n",
    "`npm install -g phantomjs-prebuilt`\n",
    "\n",
    "\n",
    "Note that the minimum compatible version of PhantomJS is 2.1, regardless of how it is installed."
   ]
  },
  {
   "cell_type": "markdown",
   "metadata": {},
   "source": [
    "### Example usage"
   ]
  },
  {
   "cell_type": "code",
   "execution_count": null,
   "metadata": {},
   "outputs": [],
   "source": [
    "from bokeh.plotting import figure, output_notebook, show\n",
    "\n",
    "# prepare some data\n",
    "x = [1, 2, 3, 4, 5]\n",
    "y = [6, 7, 2, 4, 5]\n",
    "\n",
    "# create a new plot with a title and axis labels\n",
    "p = figure(title=\"simple line example\", x_axis_label='x', y_axis_label='y')\n",
    "\n",
    "# add a line renderer with legend and line thickness\n",
    "p.line(x, y, legend=\"Temp.\", line_width=2)\n",
    "\n",
    "# show the results\n",
    "output_notebook()\n",
    "show(p)"
   ]
  },
  {
   "cell_type": "code",
   "execution_count": null,
   "metadata": {},
   "outputs": [],
   "source": [
    "from bokeh.io import export_png\n",
    "\n",
    "export_png(p, filename=\"plot.png\")"
   ]
  },
  {
   "cell_type": "markdown",
   "metadata": {},
   "source": [
    "**Change the output backend**"
   ]
  },
  {
   "cell_type": "code",
   "execution_count": null,
   "metadata": {},
   "outputs": [],
   "source": [
    "p.output_backend = \"svg\""
   ]
  },
  {
   "cell_type": "code",
   "execution_count": null,
   "metadata": {},
   "outputs": [],
   "source": [
    "from bokeh.io import export_svgs\n",
    "\n",
    "export_svgs(p, filename=\"plot.svg\")"
   ]
  },
  {
   "cell_type": "markdown",
   "metadata": {},
   "source": [
    "## Embedding plots"
   ]
  },
  {
   "cell_type": "markdown",
   "metadata": {},
   "source": [
    "### Embedding Plots and Apps\n",
    "Bokeh provides a variety of ways to embed plots and data into HTML documents. First, a reminder of the distinction between standalone documents and apps:\n",
    "\n",
    "\n",
    "#### Standalone Documents\n",
    "These are Bokeh documents that are not backed by a Bokeh server. They may have many tools and interactions (e.g. from CustomJS callbacks) but are self-contained HTML, JavaScript, and CSS. They can be embedded into other HTML pages as one large document, or as a set of sub-components templated individually.\n",
    "#### Bokeh Applications\n",
    "These are Bokeh documents that are backed by a Bokeh Server. In addition to all the features of standalone documents, it is also possible to connect events and tools to real Python callbacks, to execute that execute in the Bokeh server. See Running a Bokeh Server for more information about creating and running Bokeh apps.\n",
    "\n",
    "### Standalone Documents\n",
    "This section describes how Bokeh standalone documents (i.e. those that are not linked to a Bokeh server) may be published or embedded in a variety of ways."
   ]
  },
  {
   "cell_type": "markdown",
   "metadata": {},
   "source": [
    "#### HTML files\n",
    "Bokeh can generate complete HTML pages for Bokeh documents using the file_html() function. This function can emit HTML from its own generic template, or a template you provide. These files contain the data for the plot inline and are completely transportable, while still providing interactive tools (pan, zoom, etc.) for your plot. Here is an example:"
   ]
  },
  {
   "cell_type": "code",
   "execution_count": null,
   "metadata": {},
   "outputs": [],
   "source": [
    "from bokeh.plotting import figure\n",
    "from bokeh.resources import CDN\n",
    "from bokeh.embed import file_html\n",
    "\n",
    "plot = figure()\n",
    "plot.circle([1,2], [3,4])\n",
    "\n",
    "html = file_html(plot, CDN, \"my plot\")"
   ]
  },
  {
   "cell_type": "code",
   "execution_count": null,
   "metadata": {},
   "outputs": [],
   "source": [
    "print(html[:100])"
   ]
  },
  {
   "cell_type": "markdown",
   "metadata": {},
   "source": [
    "The returned HTML text can be saved to a file using standard python file operations. You can also provide your own template and pass in custom, or additional, template variables. See the file_html() documentation for more details."
   ]
  },
  {
   "cell_type": "markdown",
   "metadata": {},
   "source": [
    "### Components"
   ]
  },
  {
   "cell_type": "markdown",
   "metadata": {},
   "source": [
    "It is also possible to ask Bokeh to return the individual components of a standalone document for individual embedding using the `components()` function. This function returns a `<script>` that contains the data for your plot, together with an accompanying `<div>` tag that the plot view is loaded into. These tags can be used in HTML documents however you like:"
   ]
  },
  {
   "cell_type": "code",
   "execution_count": null,
   "metadata": {},
   "outputs": [],
   "source": [
    "from bokeh.plotting import figure\n",
    "from bokeh.embed import components\n",
    "\n",
    "plot = figure()\n",
    "plot.circle([1,2], [3,4])\n",
    "\n",
    "script, div = components(plot)"
   ]
  },
  {
   "cell_type": "code",
   "execution_count": null,
   "metadata": {},
   "outputs": [],
   "source": [
    "print(script)"
   ]
  },
  {
   "cell_type": "code",
   "execution_count": null,
   "metadata": {},
   "outputs": [],
   "source": [
    "print(div)"
   ]
  },
  {
   "cell_type": "markdown",
   "metadata": {},
   "source": [
    "These two elements can be inserted or templated into your HTML text, and the script, when executed, will replace the div with the plot.\n",
    "\n",
    "Using these components assumes that BokehJS has already been loaded, for instance either inline in the document text, or from CDN. To load BokehJS from CDN, add the following lines in your HTML text or template with the appropriate version replacing x.y.z:\n",
    "\n",
    "```html\n",
    "<link\n",
    "    href=\"https://cdn.pydata.org/bokeh/release/bokeh-x.y.z.min.css\"\n",
    "    rel=\"stylesheet\" type=\"text/css\">\n",
    "<link\n",
    "    href=\"https://cdn.pydata.org/bokeh/release/bokeh-widgets-x.y.z.min.css\"\n",
    "    rel=\"stylesheet\" type=\"text/css\">\n",
    "<link\n",
    "    href=\"https://cdn.pydata.org/bokeh/release/bokeh-tables-x.y.z.min.css\"\n",
    "    rel=\"stylesheet\" type=\"text/css\">\n",
    "\n",
    "<script src=\"https://cdn.pydata.org/bokeh/release/bokeh-x.y.z.min.js\"></script>\n",
    "<script src=\"https://cdn.pydata.org/bokeh/release/bokeh-widgets-x.y.z.min.js\"></script>\n",
    "<script src=\"https://cdn.pydata.org/bokeh/release/bokeh-tables-x.y.z.min.js\"></script>\n",
    "``` \n",
    "\n",
    "The \"-widgets\" files are only necessary if your document includes Bokeh widgets. Similarly, the \"-tables\" files are only necessary if you are using Bokeh data tables in your document.\n",
    "\n",
    "For example, to use version 0.12.13, including widgets and tables support:\n",
    "\n",
    "```html\n",
    "<link\n",
    "    href=\"https://cdn.pydata.org/bokeh/release/bokeh-0.12.13.min.css\"\n",
    "    rel=\"stylesheet\" type=\"text/css\">\n",
    "<link\n",
    "    href=\"https://cdn.pydata.org/bokeh/release/bokeh-widgets-0.12.13.min.css\"\n",
    "    rel=\"stylesheet\" type=\"text/css\">\n",
    "<link\n",
    "    href=\"https://cdn.pydata.org/bokeh/release/bokeh-tables-0.12.13.min.css\"\n",
    "    rel=\"stylesheet\" type=\"text/css\">\n",
    "\n",
    "<script src=\"https://cdn.pydata.org/bokeh/release/bokeh-0.12.13.min.js\"></script>\n",
    "<script src=\"https://cdn.pydata.org/bokeh/release/bokeh-widgets-0.12.13.min.js\"></script>\n",
    "<script src=\"https://cdn.pydata.org/bokeh/release/bokeh-tables-0.12.13.min.js\"></script>\n",
    "```"
   ]
  },
  {
   "cell_type": "markdown",
   "metadata": {},
   "source": [
    "### Autoload Scripts\n",
    "A final way to embed standalone documents is the autoload_static() function. This function with provide a `<script>` tag that will replace itself with a Bokeh plot, wherever the tag happens to be located. The script will also check f or BokehJS and load it, if necessary. Using this function it is possible to embed a plot by placing this script tag alone in your document.\n",
    "\n",
    "This function takes a Bokeh model (e.g. a plot) that you want to display, a Resources object, and a path to load a script from. Then autoload_static() will return a self-contained `<script>` tag, and a block of JavaScript code. The JavaScript code should be saved to the path you provided. The `<script>` tag, when it is included in a page, will load and run the saved JavaScript in order to realize your plot in the browser.\n",
    "\n",
    "Here is how you might use `autoload_static()` with a simple plot:"
   ]
  },
  {
   "cell_type": "code",
   "execution_count": null,
   "metadata": {},
   "outputs": [],
   "source": [
    "from bokeh.resources import CDN\n",
    "from bokeh.plotting import figure\n",
    "from bokeh.embed import autoload_static\n",
    "\n",
    "plot = figure()\n",
    "plot.circle([1,2], [3,4])\n",
    "\n",
    "js, tag = autoload_static(plot, CDN, \"some/path\")"
   ]
  }
 ],
 "metadata": {
  "kernelspec": {
   "display_name": "Python 3",
   "language": "python",
   "name": "python3"
  },
  "language_info": {
   "codemirror_mode": {
    "name": "ipython",
    "version": 3
   },
   "file_extension": ".py",
   "mimetype": "text/x-python",
   "name": "python",
   "nbconvert_exporter": "python",
   "pygments_lexer": "ipython3",
   "version": "3.6.5"
  }
 },
 "nbformat": 4,
 "nbformat_minor": 2
}
