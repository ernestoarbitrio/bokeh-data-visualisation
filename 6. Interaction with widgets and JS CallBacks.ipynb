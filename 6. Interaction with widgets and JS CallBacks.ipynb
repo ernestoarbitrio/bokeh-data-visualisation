{
 "cells": [
  {
   "cell_type": "markdown",
   "metadata": {},
   "source": [
    "# Interaction with widgets and JS CallBacks"
   ]
  },
  {
   "cell_type": "markdown",
   "metadata": {},
   "source": [
    "## Adding Widgets"
   ]
  },
  {
   "cell_type": "markdown",
   "metadata": {},
   "source": [
    "Widgets are interactive controls that can be added to Bokeh applications to provide a front end user interface to a visualization. They can drive new computations, update plots, and connect to other programmatic functionality.\n",
    "Widgets can be added directly to the document root or nested inside a layout. There are two ways to program a widget’s functionality:\n",
    "\n",
    "- Use the `CustomJS` callback. This will work in standalone HTML documents.\n",
    "- Use `bokeh serve` to start the Bokeh server and set up event handlers. *[DESCRIBED IN OTHER NOTEBOOKS]*"
   ]
  },
  {
   "cell_type": "markdown",
   "metadata": {},
   "source": [
    "### Buttons"
   ]
  },
  {
   "cell_type": "code",
   "execution_count": 19,
   "metadata": {},
   "outputs": [
    {
     "data": {
      "text/html": [
       "\n",
       "    <div class=\"bk-root\">\n",
       "        <a href=\"https://bokeh.pydata.org\" target=\"_blank\" class=\"bk-logo bk-logo-small bk-logo-notebook\"></a>\n",
       "        <span id=\"b11f4064-5c0c-468b-8fea-118a037fe949\">Loading BokehJS ...</span>\n",
       "    </div>"
      ]
     },
     "metadata": {},
     "output_type": "display_data"
    },
    {
     "data": {
      "application/javascript": [
       "\n",
       "(function(root) {\n",
       "  function now() {\n",
       "    return new Date();\n",
       "  }\n",
       "\n",
       "  var force = true;\n",
       "\n",
       "  if (typeof (root._bokeh_onload_callbacks) === \"undefined\" || force === true) {\n",
       "    root._bokeh_onload_callbacks = [];\n",
       "    root._bokeh_is_loading = undefined;\n",
       "  }\n",
       "\n",
       "  var JS_MIME_TYPE = 'application/javascript';\n",
       "  var HTML_MIME_TYPE = 'text/html';\n",
       "  var EXEC_MIME_TYPE = 'application/vnd.bokehjs_exec.v0+json';\n",
       "  var CLASS_NAME = 'output_bokeh rendered_html';\n",
       "\n",
       "  /**\n",
       "   * Render data to the DOM node\n",
       "   */\n",
       "  function render(props, node) {\n",
       "    var script = document.createElement(\"script\");\n",
       "    node.appendChild(script);\n",
       "  }\n",
       "\n",
       "  /**\n",
       "   * Handle when an output is cleared or removed\n",
       "   */\n",
       "  function handleClearOutput(event, handle) {\n",
       "    var cell = handle.cell;\n",
       "\n",
       "    var id = cell.output_area._bokeh_element_id;\n",
       "    var server_id = cell.output_area._bokeh_server_id;\n",
       "    // Clean up Bokeh references\n",
       "    if (id != null && id in Bokeh.index) {\n",
       "      Bokeh.index[id].model.document.clear();\n",
       "      delete Bokeh.index[id];\n",
       "    }\n",
       "\n",
       "    if (server_id !== undefined) {\n",
       "      // Clean up Bokeh references\n",
       "      var cmd = \"from bokeh.io.state import curstate; print(curstate().uuid_to_server['\" + server_id + \"'].get_sessions()[0].document.roots[0]._id)\";\n",
       "      cell.notebook.kernel.execute(cmd, {\n",
       "        iopub: {\n",
       "          output: function(msg) {\n",
       "            var id = msg.content.text.trim();\n",
       "            if (id in Bokeh.index) {\n",
       "              Bokeh.index[id].model.document.clear();\n",
       "              delete Bokeh.index[id];\n",
       "            }\n",
       "          }\n",
       "        }\n",
       "      });\n",
       "      // Destroy server and session\n",
       "      var cmd = \"import bokeh.io.notebook as ion; ion.destroy_server('\" + server_id + \"')\";\n",
       "      cell.notebook.kernel.execute(cmd);\n",
       "    }\n",
       "  }\n",
       "\n",
       "  /**\n",
       "   * Handle when a new output is added\n",
       "   */\n",
       "  function handleAddOutput(event, handle) {\n",
       "    var output_area = handle.output_area;\n",
       "    var output = handle.output;\n",
       "\n",
       "    // limit handleAddOutput to display_data with EXEC_MIME_TYPE content only\n",
       "    if ((output.output_type != \"display_data\") || (!output.data.hasOwnProperty(EXEC_MIME_TYPE))) {\n",
       "      return\n",
       "    }\n",
       "\n",
       "    var toinsert = output_area.element.find(\".\" + CLASS_NAME.split(' ')[0]);\n",
       "\n",
       "    if (output.metadata[EXEC_MIME_TYPE][\"id\"] !== undefined) {\n",
       "      toinsert[toinsert.length - 1].firstChild.textContent = output.data[JS_MIME_TYPE];\n",
       "      // store reference to embed id on output_area\n",
       "      output_area._bokeh_element_id = output.metadata[EXEC_MIME_TYPE][\"id\"];\n",
       "    }\n",
       "    if (output.metadata[EXEC_MIME_TYPE][\"server_id\"] !== undefined) {\n",
       "      var bk_div = document.createElement(\"div\");\n",
       "      bk_div.innerHTML = output.data[HTML_MIME_TYPE];\n",
       "      var script_attrs = bk_div.children[0].attributes;\n",
       "      for (var i = 0; i < script_attrs.length; i++) {\n",
       "        toinsert[toinsert.length - 1].firstChild.setAttribute(script_attrs[i].name, script_attrs[i].value);\n",
       "      }\n",
       "      // store reference to server id on output_area\n",
       "      output_area._bokeh_server_id = output.metadata[EXEC_MIME_TYPE][\"server_id\"];\n",
       "    }\n",
       "  }\n",
       "\n",
       "  function register_renderer(events, OutputArea) {\n",
       "\n",
       "    function append_mime(data, metadata, element) {\n",
       "      // create a DOM node to render to\n",
       "      var toinsert = this.create_output_subarea(\n",
       "        metadata,\n",
       "        CLASS_NAME,\n",
       "        EXEC_MIME_TYPE\n",
       "      );\n",
       "      this.keyboard_manager.register_events(toinsert);\n",
       "      // Render to node\n",
       "      var props = {data: data, metadata: metadata[EXEC_MIME_TYPE]};\n",
       "      render(props, toinsert[toinsert.length - 1]);\n",
       "      element.append(toinsert);\n",
       "      return toinsert\n",
       "    }\n",
       "\n",
       "    /* Handle when an output is cleared or removed */\n",
       "    events.on('clear_output.CodeCell', handleClearOutput);\n",
       "    events.on('delete.Cell', handleClearOutput);\n",
       "\n",
       "    /* Handle when a new output is added */\n",
       "    events.on('output_added.OutputArea', handleAddOutput);\n",
       "\n",
       "    /**\n",
       "     * Register the mime type and append_mime function with output_area\n",
       "     */\n",
       "    OutputArea.prototype.register_mime_type(EXEC_MIME_TYPE, append_mime, {\n",
       "      /* Is output safe? */\n",
       "      safe: true,\n",
       "      /* Index of renderer in `output_area.display_order` */\n",
       "      index: 0\n",
       "    });\n",
       "  }\n",
       "\n",
       "  // register the mime type if in Jupyter Notebook environment and previously unregistered\n",
       "  if (root.Jupyter !== undefined) {\n",
       "    var events = require('base/js/events');\n",
       "    var OutputArea = require('notebook/js/outputarea').OutputArea;\n",
       "\n",
       "    if (OutputArea.prototype.mime_types().indexOf(EXEC_MIME_TYPE) == -1) {\n",
       "      register_renderer(events, OutputArea);\n",
       "    }\n",
       "  }\n",
       "\n",
       "  \n",
       "  if (typeof (root._bokeh_timeout) === \"undefined\" || force === true) {\n",
       "    root._bokeh_timeout = Date.now() + 5000;\n",
       "    root._bokeh_failed_load = false;\n",
       "  }\n",
       "\n",
       "  var NB_LOAD_WARNING = {'data': {'text/html':\n",
       "     \"<div style='background-color: #fdd'>\\n\"+\n",
       "     \"<p>\\n\"+\n",
       "     \"BokehJS does not appear to have successfully loaded. If loading BokehJS from CDN, this \\n\"+\n",
       "     \"may be due to a slow or bad network connection. Possible fixes:\\n\"+\n",
       "     \"</p>\\n\"+\n",
       "     \"<ul>\\n\"+\n",
       "     \"<li>re-rerun `output_notebook()` to attempt to load from CDN again, or</li>\\n\"+\n",
       "     \"<li>use INLINE resources instead, as so:</li>\\n\"+\n",
       "     \"</ul>\\n\"+\n",
       "     \"<code>\\n\"+\n",
       "     \"from bokeh.resources import INLINE\\n\"+\n",
       "     \"output_notebook(resources=INLINE)\\n\"+\n",
       "     \"</code>\\n\"+\n",
       "     \"</div>\"}};\n",
       "\n",
       "  function display_loaded() {\n",
       "    var el = document.getElementById(\"b11f4064-5c0c-468b-8fea-118a037fe949\");\n",
       "    if (el != null) {\n",
       "      el.textContent = \"BokehJS is loading...\";\n",
       "    }\n",
       "    if (root.Bokeh !== undefined) {\n",
       "      if (el != null) {\n",
       "        el.textContent = \"BokehJS \" + root.Bokeh.version + \" successfully loaded.\";\n",
       "      }\n",
       "    } else if (Date.now() < root._bokeh_timeout) {\n",
       "      setTimeout(display_loaded, 100)\n",
       "    }\n",
       "  }\n",
       "\n",
       "\n",
       "  function run_callbacks() {\n",
       "    try {\n",
       "      root._bokeh_onload_callbacks.forEach(function(callback) { callback() });\n",
       "    }\n",
       "    finally {\n",
       "      delete root._bokeh_onload_callbacks\n",
       "    }\n",
       "    console.info(\"Bokeh: all callbacks have finished\");\n",
       "  }\n",
       "\n",
       "  function load_libs(js_urls, callback) {\n",
       "    root._bokeh_onload_callbacks.push(callback);\n",
       "    if (root._bokeh_is_loading > 0) {\n",
       "      console.log(\"Bokeh: BokehJS is being loaded, scheduling callback at\", now());\n",
       "      return null;\n",
       "    }\n",
       "    if (js_urls == null || js_urls.length === 0) {\n",
       "      run_callbacks();\n",
       "      return null;\n",
       "    }\n",
       "    console.log(\"Bokeh: BokehJS not loaded, scheduling load and callback at\", now());\n",
       "    root._bokeh_is_loading = js_urls.length;\n",
       "    for (var i = 0; i < js_urls.length; i++) {\n",
       "      var url = js_urls[i];\n",
       "      var s = document.createElement('script');\n",
       "      s.src = url;\n",
       "      s.async = false;\n",
       "      s.onreadystatechange = s.onload = function() {\n",
       "        root._bokeh_is_loading--;\n",
       "        if (root._bokeh_is_loading === 0) {\n",
       "          console.log(\"Bokeh: all BokehJS libraries loaded\");\n",
       "          run_callbacks()\n",
       "        }\n",
       "      };\n",
       "      s.onerror = function() {\n",
       "        console.warn(\"failed to load library \" + url);\n",
       "      };\n",
       "      console.log(\"Bokeh: injecting script tag for BokehJS library: \", url);\n",
       "      document.getElementsByTagName(\"head\")[0].appendChild(s);\n",
       "    }\n",
       "  };var element = document.getElementById(\"b11f4064-5c0c-468b-8fea-118a037fe949\");\n",
       "  if (element == null) {\n",
       "    console.log(\"Bokeh: ERROR: autoload.js configured with elementid 'b11f4064-5c0c-468b-8fea-118a037fe949' but no matching script tag was found. \")\n",
       "    return false;\n",
       "  }\n",
       "\n",
       "  var js_urls = [\"https://cdn.pydata.org/bokeh/release/bokeh-0.13.0.min.js\", \"https://cdn.pydata.org/bokeh/release/bokeh-widgets-0.13.0.min.js\", \"https://cdn.pydata.org/bokeh/release/bokeh-tables-0.13.0.min.js\", \"https://cdn.pydata.org/bokeh/release/bokeh-gl-0.13.0.min.js\"];\n",
       "\n",
       "  var inline_js = [\n",
       "    function(Bokeh) {\n",
       "      Bokeh.set_log_level(\"info\");\n",
       "    },\n",
       "    \n",
       "    function(Bokeh) {\n",
       "      \n",
       "    },\n",
       "    function(Bokeh) {\n",
       "      console.log(\"Bokeh: injecting CSS: https://cdn.pydata.org/bokeh/release/bokeh-0.13.0.min.css\");\n",
       "      Bokeh.embed.inject_css(\"https://cdn.pydata.org/bokeh/release/bokeh-0.13.0.min.css\");\n",
       "      console.log(\"Bokeh: injecting CSS: https://cdn.pydata.org/bokeh/release/bokeh-widgets-0.13.0.min.css\");\n",
       "      Bokeh.embed.inject_css(\"https://cdn.pydata.org/bokeh/release/bokeh-widgets-0.13.0.min.css\");\n",
       "      console.log(\"Bokeh: injecting CSS: https://cdn.pydata.org/bokeh/release/bokeh-tables-0.13.0.min.css\");\n",
       "      Bokeh.embed.inject_css(\"https://cdn.pydata.org/bokeh/release/bokeh-tables-0.13.0.min.css\");\n",
       "    }\n",
       "  ];\n",
       "\n",
       "  function run_inline_js() {\n",
       "    \n",
       "    if ((root.Bokeh !== undefined) || (force === true)) {\n",
       "      for (var i = 0; i < inline_js.length; i++) {\n",
       "        inline_js[i].call(root, root.Bokeh);\n",
       "      }if (force === true) {\n",
       "        display_loaded();\n",
       "      }} else if (Date.now() < root._bokeh_timeout) {\n",
       "      setTimeout(run_inline_js, 100);\n",
       "    } else if (!root._bokeh_failed_load) {\n",
       "      console.log(\"Bokeh: BokehJS failed to load within specified timeout.\");\n",
       "      root._bokeh_failed_load = true;\n",
       "    } else if (force !== true) {\n",
       "      var cell = $(document.getElementById(\"b11f4064-5c0c-468b-8fea-118a037fe949\")).parents('.cell').data().cell;\n",
       "      cell.output_area.append_execute_result(NB_LOAD_WARNING)\n",
       "    }\n",
       "\n",
       "  }\n",
       "\n",
       "  if (root._bokeh_is_loading === 0) {\n",
       "    console.log(\"Bokeh: BokehJS loaded, going straight to plotting\");\n",
       "    run_inline_js();\n",
       "  } else {\n",
       "    load_libs(js_urls, function() {\n",
       "      console.log(\"Bokeh: BokehJS plotting callback run at\", now());\n",
       "      run_inline_js();\n",
       "    });\n",
       "  }\n",
       "}(window));"
      ],
      "application/vnd.bokehjs_load.v0+json": "\n(function(root) {\n  function now() {\n    return new Date();\n  }\n\n  var force = true;\n\n  if (typeof (root._bokeh_onload_callbacks) === \"undefined\" || force === true) {\n    root._bokeh_onload_callbacks = [];\n    root._bokeh_is_loading = undefined;\n  }\n\n  \n\n  \n  if (typeof (root._bokeh_timeout) === \"undefined\" || force === true) {\n    root._bokeh_timeout = Date.now() + 5000;\n    root._bokeh_failed_load = false;\n  }\n\n  var NB_LOAD_WARNING = {'data': {'text/html':\n     \"<div style='background-color: #fdd'>\\n\"+\n     \"<p>\\n\"+\n     \"BokehJS does not appear to have successfully loaded. If loading BokehJS from CDN, this \\n\"+\n     \"may be due to a slow or bad network connection. Possible fixes:\\n\"+\n     \"</p>\\n\"+\n     \"<ul>\\n\"+\n     \"<li>re-rerun `output_notebook()` to attempt to load from CDN again, or</li>\\n\"+\n     \"<li>use INLINE resources instead, as so:</li>\\n\"+\n     \"</ul>\\n\"+\n     \"<code>\\n\"+\n     \"from bokeh.resources import INLINE\\n\"+\n     \"output_notebook(resources=INLINE)\\n\"+\n     \"</code>\\n\"+\n     \"</div>\"}};\n\n  function display_loaded() {\n    var el = document.getElementById(\"b11f4064-5c0c-468b-8fea-118a037fe949\");\n    if (el != null) {\n      el.textContent = \"BokehJS is loading...\";\n    }\n    if (root.Bokeh !== undefined) {\n      if (el != null) {\n        el.textContent = \"BokehJS \" + root.Bokeh.version + \" successfully loaded.\";\n      }\n    } else if (Date.now() < root._bokeh_timeout) {\n      setTimeout(display_loaded, 100)\n    }\n  }\n\n\n  function run_callbacks() {\n    try {\n      root._bokeh_onload_callbacks.forEach(function(callback) { callback() });\n    }\n    finally {\n      delete root._bokeh_onload_callbacks\n    }\n    console.info(\"Bokeh: all callbacks have finished\");\n  }\n\n  function load_libs(js_urls, callback) {\n    root._bokeh_onload_callbacks.push(callback);\n    if (root._bokeh_is_loading > 0) {\n      console.log(\"Bokeh: BokehJS is being loaded, scheduling callback at\", now());\n      return null;\n    }\n    if (js_urls == null || js_urls.length === 0) {\n      run_callbacks();\n      return null;\n    }\n    console.log(\"Bokeh: BokehJS not loaded, scheduling load and callback at\", now());\n    root._bokeh_is_loading = js_urls.length;\n    for (var i = 0; i < js_urls.length; i++) {\n      var url = js_urls[i];\n      var s = document.createElement('script');\n      s.src = url;\n      s.async = false;\n      s.onreadystatechange = s.onload = function() {\n        root._bokeh_is_loading--;\n        if (root._bokeh_is_loading === 0) {\n          console.log(\"Bokeh: all BokehJS libraries loaded\");\n          run_callbacks()\n        }\n      };\n      s.onerror = function() {\n        console.warn(\"failed to load library \" + url);\n      };\n      console.log(\"Bokeh: injecting script tag for BokehJS library: \", url);\n      document.getElementsByTagName(\"head\")[0].appendChild(s);\n    }\n  };var element = document.getElementById(\"b11f4064-5c0c-468b-8fea-118a037fe949\");\n  if (element == null) {\n    console.log(\"Bokeh: ERROR: autoload.js configured with elementid 'b11f4064-5c0c-468b-8fea-118a037fe949' but no matching script tag was found. \")\n    return false;\n  }\n\n  var js_urls = [\"https://cdn.pydata.org/bokeh/release/bokeh-0.13.0.min.js\", \"https://cdn.pydata.org/bokeh/release/bokeh-widgets-0.13.0.min.js\", \"https://cdn.pydata.org/bokeh/release/bokeh-tables-0.13.0.min.js\", \"https://cdn.pydata.org/bokeh/release/bokeh-gl-0.13.0.min.js\"];\n\n  var inline_js = [\n    function(Bokeh) {\n      Bokeh.set_log_level(\"info\");\n    },\n    \n    function(Bokeh) {\n      \n    },\n    function(Bokeh) {\n      console.log(\"Bokeh: injecting CSS: https://cdn.pydata.org/bokeh/release/bokeh-0.13.0.min.css\");\n      Bokeh.embed.inject_css(\"https://cdn.pydata.org/bokeh/release/bokeh-0.13.0.min.css\");\n      console.log(\"Bokeh: injecting CSS: https://cdn.pydata.org/bokeh/release/bokeh-widgets-0.13.0.min.css\");\n      Bokeh.embed.inject_css(\"https://cdn.pydata.org/bokeh/release/bokeh-widgets-0.13.0.min.css\");\n      console.log(\"Bokeh: injecting CSS: https://cdn.pydata.org/bokeh/release/bokeh-tables-0.13.0.min.css\");\n      Bokeh.embed.inject_css(\"https://cdn.pydata.org/bokeh/release/bokeh-tables-0.13.0.min.css\");\n    }\n  ];\n\n  function run_inline_js() {\n    \n    if ((root.Bokeh !== undefined) || (force === true)) {\n      for (var i = 0; i < inline_js.length; i++) {\n        inline_js[i].call(root, root.Bokeh);\n      }if (force === true) {\n        display_loaded();\n      }} else if (Date.now() < root._bokeh_timeout) {\n      setTimeout(run_inline_js, 100);\n    } else if (!root._bokeh_failed_load) {\n      console.log(\"Bokeh: BokehJS failed to load within specified timeout.\");\n      root._bokeh_failed_load = true;\n    } else if (force !== true) {\n      var cell = $(document.getElementById(\"b11f4064-5c0c-468b-8fea-118a037fe949\")).parents('.cell').data().cell;\n      cell.output_area.append_execute_result(NB_LOAD_WARNING)\n    }\n\n  }\n\n  if (root._bokeh_is_loading === 0) {\n    console.log(\"Bokeh: BokehJS loaded, going straight to plotting\");\n    run_inline_js();\n  } else {\n    load_libs(js_urls, function() {\n      console.log(\"Bokeh: BokehJS plotting callback run at\", now());\n      run_inline_js();\n    });\n  }\n}(window));"
     },
     "metadata": {},
     "output_type": "display_data"
    }
   ],
   "source": [
    "from bokeh.io import output_notebook, show\n",
    "from bokeh.layouts import widgetbox\n",
    "output_notebook()"
   ]
  },
  {
   "cell_type": "code",
   "execution_count": 20,
   "metadata": {},
   "outputs": [
    {
     "data": {
      "text/html": [
       "\n",
       "\n",
       "\n",
       "\n",
       "\n",
       "\n",
       "  <div class=\"bk-root\" id=\"f52a716b-c937-464c-a7da-81117e20962e\"></div>\n"
      ]
     },
     "metadata": {},
     "output_type": "display_data"
    },
    {
     "data": {
      "application/javascript": [
       "(function(root) {\n",
       "  function embed_document(root) {\n",
       "    \n",
       "  var docs_json = {\"5ecac471-9daa-4038-9960-ca860b01c74e\":{\"roots\":{\"references\":[{\"attributes\":{\"children\":[{\"id\":\"6331a435-390a-480d-82d4-9ca300c666a9\",\"type\":\"Button\"},{\"id\":\"59e8b63f-3e13-40aa-8d2e-8f198ad765f1\",\"type\":\"Button\"}]},\"id\":\"2ff40ba5-a5c6-41a0-9c2e-38c32f1a976d\",\"type\":\"WidgetBox\"},{\"attributes\":{\"button_type\":\"warning\",\"callback\":null,\"icon\":null,\"label\":\"Foo Warning\"},\"id\":\"6331a435-390a-480d-82d4-9ca300c666a9\",\"type\":\"Button\"},{\"attributes\":{\"button_type\":\"success\",\"callback\":null,\"icon\":null,\"label\":\"Foo Success\"},\"id\":\"59e8b63f-3e13-40aa-8d2e-8f198ad765f1\",\"type\":\"Button\"}],\"root_ids\":[\"2ff40ba5-a5c6-41a0-9c2e-38c32f1a976d\"]},\"title\":\"Bokeh Application\",\"version\":\"0.13.0\"}};\n",
       "  var render_items = [{\"docid\":\"5ecac471-9daa-4038-9960-ca860b01c74e\",\"roots\":{\"2ff40ba5-a5c6-41a0-9c2e-38c32f1a976d\":\"f52a716b-c937-464c-a7da-81117e20962e\"}}];\n",
       "  root.Bokeh.embed.embed_items_notebook(docs_json, render_items);\n",
       "\n",
       "  }\n",
       "  if (root.Bokeh !== undefined) {\n",
       "    embed_document(root);\n",
       "  } else {\n",
       "    var attempts = 0;\n",
       "    var timer = setInterval(function(root) {\n",
       "      if (root.Bokeh !== undefined) {\n",
       "        embed_document(root);\n",
       "        clearInterval(timer);\n",
       "      }\n",
       "      attempts++;\n",
       "      if (attempts > 100) {\n",
       "        console.log(\"Bokeh: ERROR: Unable to run BokehJS code because BokehJS library is missing\")\n",
       "        clearInterval(timer);\n",
       "      }\n",
       "    }, 10, root)\n",
       "  }\n",
       "})(window);"
      ],
      "application/vnd.bokehjs_exec.v0+json": ""
     },
     "metadata": {
      "application/vnd.bokehjs_exec.v0+json": {
       "id": "2ff40ba5-a5c6-41a0-9c2e-38c32f1a976d"
      }
     },
     "output_type": "display_data"
    }
   ],
   "source": [
    "from bokeh.models.widgets import Button\n",
    "\n",
    "button_warning = Button(label=\"Foo Warning\", button_type=\"warning\")\n",
    "button_success = Button(label=\"Foo Success\", button_type=\"success\")\n",
    "\n",
    "show(widgetbox(button_warning, button_success))"
   ]
  },
  {
   "cell_type": "markdown",
   "metadata": {},
   "source": [
    "### Checkbox button group"
   ]
  },
  {
   "cell_type": "code",
   "execution_count": 21,
   "metadata": {},
   "outputs": [
    {
     "data": {
      "text/html": [
       "\n",
       "\n",
       "\n",
       "\n",
       "\n",
       "\n",
       "  <div class=\"bk-root\" id=\"ef67f337-6a81-40e2-a84b-5b3da2649dea\"></div>\n"
      ]
     },
     "metadata": {},
     "output_type": "display_data"
    },
    {
     "data": {
      "application/javascript": [
       "(function(root) {\n",
       "  function embed_document(root) {\n",
       "    \n",
       "  var docs_json = {\"eae4fc9e-04e4-423f-98d1-4e2f206423fc\":{\"roots\":{\"references\":[{\"attributes\":{\"children\":[{\"id\":\"ff584326-ccf8-4db9-a854-4a6e15b84116\",\"type\":\"CheckboxButtonGroup\"}]},\"id\":\"9a6dda0d-e34e-4b8e-8c46-d9498b383d3b\",\"type\":\"WidgetBox\"},{\"attributes\":{\"active\":[1,2],\"callback\":null,\"labels\":[\"Option 1\",\"Option 2\",\"Option 3\"]},\"id\":\"ff584326-ccf8-4db9-a854-4a6e15b84116\",\"type\":\"CheckboxButtonGroup\"}],\"root_ids\":[\"9a6dda0d-e34e-4b8e-8c46-d9498b383d3b\"]},\"title\":\"Bokeh Application\",\"version\":\"0.13.0\"}};\n",
       "  var render_items = [{\"docid\":\"eae4fc9e-04e4-423f-98d1-4e2f206423fc\",\"roots\":{\"9a6dda0d-e34e-4b8e-8c46-d9498b383d3b\":\"ef67f337-6a81-40e2-a84b-5b3da2649dea\"}}];\n",
       "  root.Bokeh.embed.embed_items_notebook(docs_json, render_items);\n",
       "\n",
       "  }\n",
       "  if (root.Bokeh !== undefined) {\n",
       "    embed_document(root);\n",
       "  } else {\n",
       "    var attempts = 0;\n",
       "    var timer = setInterval(function(root) {\n",
       "      if (root.Bokeh !== undefined) {\n",
       "        embed_document(root);\n",
       "        clearInterval(timer);\n",
       "      }\n",
       "      attempts++;\n",
       "      if (attempts > 100) {\n",
       "        console.log(\"Bokeh: ERROR: Unable to run BokehJS code because BokehJS library is missing\")\n",
       "        clearInterval(timer);\n",
       "      }\n",
       "    }, 10, root)\n",
       "  }\n",
       "})(window);"
      ],
      "application/vnd.bokehjs_exec.v0+json": ""
     },
     "metadata": {
      "application/vnd.bokehjs_exec.v0+json": {
       "id": "9a6dda0d-e34e-4b8e-8c46-d9498b383d3b"
      }
     },
     "output_type": "display_data"
    }
   ],
   "source": [
    "from bokeh.models.widgets import CheckboxButtonGroup\n",
    "\n",
    "checkbox_button_group = CheckboxButtonGroup(\n",
    "        labels=[\"Option 1\", \"Option 2\", \"Option 3\"], \n",
    "        active=[1, 2]) # active param show selected the slice you specify\n",
    "\n",
    "show(widgetbox(checkbox_button_group))"
   ]
  },
  {
   "cell_type": "markdown",
   "metadata": {},
   "source": [
    "### Checkbox group"
   ]
  },
  {
   "cell_type": "code",
   "execution_count": 4,
   "metadata": {},
   "outputs": [
    {
     "data": {
      "text/html": [
       "\n",
       "\n",
       "\n",
       "\n",
       "\n",
       "\n",
       "  <div class=\"bk-root\" id=\"d5734837-4d66-4ece-a71f-1e4f82911718\"></div>\n"
      ]
     },
     "metadata": {},
     "output_type": "display_data"
    },
    {
     "data": {
      "application/javascript": [
       "(function(root) {\n",
       "  function embed_document(root) {\n",
       "    \n",
       "  var docs_json = {\"41f27a4a-3064-490e-a7f1-80599ed41656\":{\"roots\":{\"references\":[{\"attributes\":{\"active\":[0,1],\"callback\":null,\"labels\":[\"Option 1\",\"Option 2\",\"Option 3\"]},\"id\":\"17458123-9c01-4ccc-8b64-03901bf7920e\",\"type\":\"CheckboxGroup\"},{\"attributes\":{\"children\":[{\"id\":\"17458123-9c01-4ccc-8b64-03901bf7920e\",\"type\":\"CheckboxGroup\"}]},\"id\":\"53efee9d-e674-422a-b96d-730e3d8b5a47\",\"type\":\"WidgetBox\"}],\"root_ids\":[\"53efee9d-e674-422a-b96d-730e3d8b5a47\"]},\"title\":\"Bokeh Application\",\"version\":\"0.13.0\"}};\n",
       "  var render_items = [{\"docid\":\"41f27a4a-3064-490e-a7f1-80599ed41656\",\"roots\":{\"53efee9d-e674-422a-b96d-730e3d8b5a47\":\"d5734837-4d66-4ece-a71f-1e4f82911718\"}}];\n",
       "  root.Bokeh.embed.embed_items_notebook(docs_json, render_items);\n",
       "\n",
       "  }\n",
       "  if (root.Bokeh !== undefined) {\n",
       "    embed_document(root);\n",
       "  } else {\n",
       "    var attempts = 0;\n",
       "    var timer = setInterval(function(root) {\n",
       "      if (root.Bokeh !== undefined) {\n",
       "        embed_document(root);\n",
       "        clearInterval(timer);\n",
       "      }\n",
       "      attempts++;\n",
       "      if (attempts > 100) {\n",
       "        console.log(\"Bokeh: ERROR: Unable to run BokehJS code because BokehJS library is missing\")\n",
       "        clearInterval(timer);\n",
       "      }\n",
       "    }, 10, root)\n",
       "  }\n",
       "})(window);"
      ],
      "application/vnd.bokehjs_exec.v0+json": ""
     },
     "metadata": {
      "application/vnd.bokehjs_exec.v0+json": {
       "id": "53efee9d-e674-422a-b96d-730e3d8b5a47"
      }
     },
     "output_type": "display_data"
    }
   ],
   "source": [
    "from bokeh.models.widgets import CheckboxGroup\n",
    "\n",
    "checkbox_group = CheckboxGroup(\n",
    "        labels=[\"Option 1\", \"Option 2\", \"Option 3\"], active=[0, 1])\n",
    "\n",
    "show(widgetbox(checkbox_group))"
   ]
  },
  {
   "cell_type": "markdown",
   "metadata": {},
   "source": [
    "## Data Table\n",
    "Bokeh provides a sophisticated data table widget based on SlickGrid. Note that since the table is configured with a data source object, any plots that share this data source will automatically have selections linked between the plot and the table (even in static HTML documents). \n",
    "\n",
    "*The data table is sortable by clicking on the column name*"
   ]
  },
  {
   "cell_type": "code",
   "execution_count": 11,
   "metadata": {},
   "outputs": [
    {
     "data": {
      "text/html": [
       "\n",
       "\n",
       "\n",
       "\n",
       "\n",
       "\n",
       "  <div class=\"bk-root\" id=\"8945c948-7c09-4227-bf49-f0604d84a027\"></div>\n"
      ]
     },
     "metadata": {},
     "output_type": "display_data"
    },
    {
     "data": {
      "application/javascript": [
       "(function(root) {\n",
       "  function embed_document(root) {\n",
       "    \n",
       "  var docs_json = {\"88b61b39-09e2-4bb4-af39-592020de049b\":{\"roots\":{\"references\":[{\"attributes\":{\"columns\":[{\"id\":\"9359589f-a539-4c5d-953e-344b50ba2d49\",\"type\":\"TableColumn\"},{\"id\":\"5394f427-b212-4230-9d61-ccd70c90d336\",\"type\":\"TableColumn\"}],\"height\":280,\"source\":{\"id\":\"18576da2-ce9c-4e7a-b168-6e18fc83d9c6\",\"type\":\"ColumnDataSource\"},\"view\":{\"id\":\"e88fdad6-7df0-4dc6-962a-4de09c9716bb\",\"type\":\"CDSView\"},\"width\":400},\"id\":\"dfb65254-380f-44cb-9bf0-f31b1aa71f79\",\"type\":\"DataTable\"},{\"attributes\":{\"callback\":null,\"data\":{\"dates\":[1488326400000.0,1488412800000.0,1488499200000.0,1488585600000.0,1488672000000.0,1488758400000.0,1488844800000.0,1488931200000.0,1489017600000.0,1489104000000.0],\"downloads\":[36,46,33,29,92,75,3,36,70,9]},\"selected\":{\"id\":\"fa8f35f6-a9fb-4181-8543-5ac77feed1b4\",\"type\":\"Selection\"},\"selection_policy\":{\"id\":\"b87b05d9-ccc7-40ab-8d54-bc00ce546c6b\",\"type\":\"UnionRenderers\"}},\"id\":\"18576da2-ce9c-4e7a-b168-6e18fc83d9c6\",\"type\":\"ColumnDataSource\"},{\"attributes\":{},\"id\":\"97e84eae-a8fe-4735-a31e-0de57f1d0187\",\"type\":\"StringEditor\"},{\"attributes\":{\"children\":[{\"id\":\"dfb65254-380f-44cb-9bf0-f31b1aa71f79\",\"type\":\"DataTable\"}]},\"id\":\"300d5145-2c77-4a1b-ac4f-55ceee767678\",\"type\":\"WidgetBox\"},{\"attributes\":{\"editor\":{\"id\":\"4d4f30d4-d869-415f-9b4e-3f2c797c3b76\",\"type\":\"StringEditor\"},\"field\":\"dates\",\"formatter\":{\"id\":\"18d57e69-b70f-4c05-a140-2a56e2d1de0d\",\"type\":\"DateFormatter\"},\"title\":\"Date\"},\"id\":\"9359589f-a539-4c5d-953e-344b50ba2d49\",\"type\":\"TableColumn\"},{\"attributes\":{\"source\":{\"id\":\"18576da2-ce9c-4e7a-b168-6e18fc83d9c6\",\"type\":\"ColumnDataSource\"}},\"id\":\"e88fdad6-7df0-4dc6-962a-4de09c9716bb\",\"type\":\"CDSView\"},{\"attributes\":{},\"id\":\"4d4f30d4-d869-415f-9b4e-3f2c797c3b76\",\"type\":\"StringEditor\"},{\"attributes\":{\"editor\":{\"id\":\"97e84eae-a8fe-4735-a31e-0de57f1d0187\",\"type\":\"StringEditor\"},\"field\":\"downloads\",\"formatter\":{\"id\":\"802d0756-3264-42d2-898b-55474350c733\",\"type\":\"StringFormatter\"},\"title\":\"Downloads\"},\"id\":\"5394f427-b212-4230-9d61-ccd70c90d336\",\"type\":\"TableColumn\"},{\"attributes\":{},\"id\":\"802d0756-3264-42d2-898b-55474350c733\",\"type\":\"StringFormatter\"},{\"attributes\":{},\"id\":\"b87b05d9-ccc7-40ab-8d54-bc00ce546c6b\",\"type\":\"UnionRenderers\"},{\"attributes\":{},\"id\":\"18d57e69-b70f-4c05-a140-2a56e2d1de0d\",\"type\":\"DateFormatter\"},{\"attributes\":{},\"id\":\"fa8f35f6-a9fb-4181-8543-5ac77feed1b4\",\"type\":\"Selection\"}],\"root_ids\":[\"300d5145-2c77-4a1b-ac4f-55ceee767678\"]},\"title\":\"Bokeh Application\",\"version\":\"0.13.0\"}};\n",
       "  var render_items = [{\"docid\":\"88b61b39-09e2-4bb4-af39-592020de049b\",\"roots\":{\"300d5145-2c77-4a1b-ac4f-55ceee767678\":\"8945c948-7c09-4227-bf49-f0604d84a027\"}}];\n",
       "  root.Bokeh.embed.embed_items_notebook(docs_json, render_items);\n",
       "\n",
       "  }\n",
       "  if (root.Bokeh !== undefined) {\n",
       "    embed_document(root);\n",
       "  } else {\n",
       "    var attempts = 0;\n",
       "    var timer = setInterval(function(root) {\n",
       "      if (root.Bokeh !== undefined) {\n",
       "        embed_document(root);\n",
       "        clearInterval(timer);\n",
       "      }\n",
       "      attempts++;\n",
       "      if (attempts > 100) {\n",
       "        console.log(\"Bokeh: ERROR: Unable to run BokehJS code because BokehJS library is missing\")\n",
       "        clearInterval(timer);\n",
       "      }\n",
       "    }, 10, root)\n",
       "  }\n",
       "})(window);"
      ],
      "application/vnd.bokehjs_exec.v0+json": ""
     },
     "metadata": {
      "application/vnd.bokehjs_exec.v0+json": {
       "id": "300d5145-2c77-4a1b-ac4f-55ceee767678"
      }
     },
     "output_type": "display_data"
    }
   ],
   "source": [
    "from datetime import date\n",
    "from random import randint\n",
    "from bokeh.models import ColumnDataSource\n",
    "from bokeh.models.widgets import DataTable, DateFormatter, TableColumn\n",
    "\n",
    "data = dict(\n",
    "        dates=[date(2017, 3, i+1) for i in range(10)],\n",
    "        downloads=[randint(0, 100) for i in range(10)],\n",
    "    )\n",
    "source = ColumnDataSource(data)\n",
    "\n",
    "columns = [\n",
    "        TableColumn(field=\"dates\", title=\"Date\", formatter=DateFormatter()),\n",
    "        TableColumn(field=\"downloads\", title=\"Downloads\"),\n",
    "    ]\n",
    "data_table = DataTable(source=source, columns=columns, width=400, height=280)\n",
    "\n",
    "show(widgetbox(data_table))"
   ]
  },
  {
   "cell_type": "markdown",
   "metadata": {},
   "source": [
    "## Sliders"
   ]
  },
  {
   "cell_type": "code",
   "execution_count": 12,
   "metadata": {},
   "outputs": [
    {
     "data": {
      "text/html": [
       "\n",
       "\n",
       "\n",
       "\n",
       "\n",
       "\n",
       "  <div class=\"bk-root\" id=\"c5598cea-c41f-4d65-9a5a-8ce156fc5d3b\"></div>\n"
      ]
     },
     "metadata": {},
     "output_type": "display_data"
    },
    {
     "data": {
      "application/javascript": [
       "(function(root) {\n",
       "  function embed_document(root) {\n",
       "    \n",
       "  var docs_json = {\"1d314255-bad8-4069-b686-4dc72a879ef8\":{\"roots\":{\"references\":[{\"attributes\":{\"callback\":null,\"end\":10,\"start\":0,\"step\":0.1,\"title\":\"Range Slider\",\"value\":[5,9]},\"id\":\"4d3fa145-fe6e-4608-bf5c-04183e0b3d04\",\"type\":\"RangeSlider\"},{\"attributes\":{\"callback\":null,\"end\":10,\"start\":0,\"step\":0.1,\"title\":\"Slider\",\"value\":3},\"id\":\"e446989d-ed62-4515-b263-d770672b4951\",\"type\":\"Slider\"},{\"attributes\":{\"children\":[{\"id\":\"e446989d-ed62-4515-b263-d770672b4951\",\"type\":\"Slider\"},{\"id\":\"4d3fa145-fe6e-4608-bf5c-04183e0b3d04\",\"type\":\"RangeSlider\"}]},\"id\":\"25a61756-b131-4b9f-8866-c802ec565af3\",\"type\":\"WidgetBox\"}],\"root_ids\":[\"25a61756-b131-4b9f-8866-c802ec565af3\"]},\"title\":\"Bokeh Application\",\"version\":\"0.13.0\"}};\n",
       "  var render_items = [{\"docid\":\"1d314255-bad8-4069-b686-4dc72a879ef8\",\"roots\":{\"25a61756-b131-4b9f-8866-c802ec565af3\":\"c5598cea-c41f-4d65-9a5a-8ce156fc5d3b\"}}];\n",
       "  root.Bokeh.embed.embed_items_notebook(docs_json, render_items);\n",
       "\n",
       "  }\n",
       "  if (root.Bokeh !== undefined) {\n",
       "    embed_document(root);\n",
       "  } else {\n",
       "    var attempts = 0;\n",
       "    var timer = setInterval(function(root) {\n",
       "      if (root.Bokeh !== undefined) {\n",
       "        embed_document(root);\n",
       "        clearInterval(timer);\n",
       "      }\n",
       "      attempts++;\n",
       "      if (attempts > 100) {\n",
       "        console.log(\"Bokeh: ERROR: Unable to run BokehJS code because BokehJS library is missing\")\n",
       "        clearInterval(timer);\n",
       "      }\n",
       "    }, 10, root)\n",
       "  }\n",
       "})(window);"
      ],
      "application/vnd.bokehjs_exec.v0+json": ""
     },
     "metadata": {
      "application/vnd.bokehjs_exec.v0+json": {
       "id": "25a61756-b131-4b9f-8866-c802ec565af3"
      }
     },
     "output_type": "display_data"
    }
   ],
   "source": [
    "from bokeh.models.widgets import Slider, RangeSlider\n",
    "\n",
    "slider = Slider(start=0, end=10, value=3, step=.1, title=\"Slider\")\n",
    "range_slider = RangeSlider(start=0, end=10, value=(5,9), step=.1, title=\"Range Slider\")\n",
    "\n",
    "show(widgetbox(slider, range_slider))"
   ]
  },
  {
   "cell_type": "markdown",
   "metadata": {},
   "source": [
    "## Tab panes"
   ]
  },
  {
   "cell_type": "code",
   "execution_count": 14,
   "metadata": {},
   "outputs": [
    {
     "data": {
      "text/html": [
       "\n",
       "\n",
       "\n",
       "\n",
       "\n",
       "\n",
       "  <div class=\"bk-root\" id=\"f5789721-4bf9-4f94-8182-346596e68d08\"></div>\n"
      ]
     },
     "metadata": {},
     "output_type": "display_data"
    },
    {
     "data": {
      "application/javascript": [
       "(function(root) {\n",
       "  function embed_document(root) {\n",
       "    \n",
       "  var docs_json = {\"36bb41f6-8acf-45f2-b41a-0f30bf19ee0a\":{\"roots\":{\"references\":[{\"attributes\":{\"below\":[{\"id\":\"b79a979e-0561-465d-a82e-1960b303674b\",\"type\":\"LinearAxis\"}],\"left\":[{\"id\":\"c2a56f62-2d9f-456c-9173-81dea6fbb305\",\"type\":\"LinearAxis\"}],\"plot_height\":300,\"plot_width\":300,\"renderers\":[{\"id\":\"b79a979e-0561-465d-a82e-1960b303674b\",\"type\":\"LinearAxis\"},{\"id\":\"848acccb-8d88-46b9-9e30-13c036fc75c3\",\"type\":\"Grid\"},{\"id\":\"c2a56f62-2d9f-456c-9173-81dea6fbb305\",\"type\":\"LinearAxis\"},{\"id\":\"1e73f2b7-8db7-4e7a-8c02-19074f566597\",\"type\":\"Grid\"},{\"id\":\"4bddffd9-f777-4bc0-ad46-1f9aca4d1160\",\"type\":\"BoxAnnotation\"},{\"id\":\"f8955693-605a-4a6a-a0f0-37a67e810250\",\"type\":\"GlyphRenderer\"}],\"title\":{\"id\":\"4b1806c5-5687-4494-9edb-3f85ffceec33\",\"type\":\"Title\"},\"toolbar\":{\"id\":\"f25f33cc-2bc1-4c16-a107-bafac38bf2c2\",\"type\":\"Toolbar\"},\"x_range\":{\"id\":\"932cb970-d1ee-4d19-b88f-3f20801c5982\",\"type\":\"DataRange1d\"},\"x_scale\":{\"id\":\"08d5883f-a8a4-476b-aedd-6108d113f595\",\"type\":\"LinearScale\"},\"y_range\":{\"id\":\"187d47c9-4f56-40c8-aa66-9f6bcdba1c42\",\"type\":\"DataRange1d\"},\"y_scale\":{\"id\":\"88f2e7b1-7fb0-4e3f-84e8-c81d18eaa9f8\",\"type\":\"LinearScale\"}},\"id\":\"e27c6dba-fe97-4d28-b1de-57aa14562f87\",\"subtype\":\"Figure\",\"type\":\"Plot\"},{\"attributes\":{\"dimension\":1,\"plot\":{\"id\":\"5a691453-baae-4492-8e5d-8c837747b207\",\"subtype\":\"Figure\",\"type\":\"Plot\"},\"ticker\":{\"id\":\"23c9e547-239c-4665-ac5a-e43f4c5b5625\",\"type\":\"BasicTicker\"}},\"id\":\"6a224f80-76bf-4bd0-8e99-ce331f3cdcea\",\"type\":\"Grid\"},{\"attributes\":{\"active_drag\":\"auto\",\"active_inspect\":\"auto\",\"active_multi\":null,\"active_scroll\":\"auto\",\"active_tap\":\"auto\",\"tools\":[{\"id\":\"bfafe874-d594-41ac-be4a-d0dc50e18bf8\",\"type\":\"PanTool\"},{\"id\":\"a1b65f92-df4a-49d3-a292-629b9a30b5dd\",\"type\":\"WheelZoomTool\"},{\"id\":\"7f259754-75e3-4071-ba23-8f9b00f54b9c\",\"type\":\"BoxZoomTool\"},{\"id\":\"aba6ee6b-7c95-4d7a-9a39-012f0646867e\",\"type\":\"SaveTool\"},{\"id\":\"ee9599f0-1a2b-4991-93fc-e842167f0ec4\",\"type\":\"ResetTool\"},{\"id\":\"9d0221d0-d039-40d4-a0b7-f70c97bbe685\",\"type\":\"HelpTool\"}]},\"id\":\"f25f33cc-2bc1-4c16-a107-bafac38bf2c2\",\"type\":\"Toolbar\"},{\"attributes\":{\"data_source\":{\"id\":\"6ad7ca3d-f1ab-43c2-a954-2c987258aaa3\",\"type\":\"ColumnDataSource\"},\"glyph\":{\"id\":\"c43f6dcc-8d66-40e2-9c94-807cb377a466\",\"type\":\"Line\"},\"hover_glyph\":null,\"muted_glyph\":null,\"nonselection_glyph\":{\"id\":\"78f09420-0100-4c69-b44c-9a2791f80de2\",\"type\":\"Line\"},\"selection_glyph\":null,\"view\":{\"id\":\"31756d77-4470-428f-99e5-461c3b1960f4\",\"type\":\"CDSView\"}},\"id\":\"59ac7c0f-139f-425e-9a44-5c1842a1a744\",\"type\":\"GlyphRenderer\"},{\"attributes\":{\"callback\":null},\"id\":\"932cb970-d1ee-4d19-b88f-3f20801c5982\",\"type\":\"DataRange1d\"},{\"attributes\":{\"line_alpha\":0.5,\"line_color\":\"blue\",\"line_width\":3,\"x\":{\"field\":\"x\"},\"y\":{\"field\":\"y\"}},\"id\":\"c43f6dcc-8d66-40e2-9c94-807cb377a466\",\"type\":\"Line\"},{\"attributes\":{\"data_source\":{\"id\":\"4fde2584-ef98-454a-aa1c-54171da21ba6\",\"type\":\"ColumnDataSource\"},\"glyph\":{\"id\":\"8734bef4-81ac-4080-8f7f-d6038f0b271b\",\"type\":\"Circle\"},\"hover_glyph\":null,\"muted_glyph\":null,\"nonselection_glyph\":{\"id\":\"d3e2f4a4-38db-4b08-8db4-25de036b8995\",\"type\":\"Circle\"},\"selection_glyph\":null,\"view\":{\"id\":\"758565c3-227f-4ea7-9d72-312dfd7d749e\",\"type\":\"CDSView\"}},\"id\":\"f8955693-605a-4a6a-a0f0-37a67e810250\",\"type\":\"GlyphRenderer\"},{\"attributes\":{\"child\":{\"id\":\"5a691453-baae-4492-8e5d-8c837747b207\",\"subtype\":\"Figure\",\"type\":\"Plot\"},\"title\":\"line\"},\"id\":\"be7eac2f-290c-4f1d-9d7e-f07a4c2fb294\",\"type\":\"Panel\"},{\"attributes\":{\"callback\":null},\"id\":\"187d47c9-4f56-40c8-aa66-9f6bcdba1c42\",\"type\":\"DataRange1d\"},{\"attributes\":{\"bottom_units\":\"screen\",\"fill_alpha\":{\"value\":0.5},\"fill_color\":{\"value\":\"lightgrey\"},\"left_units\":\"screen\",\"level\":\"overlay\",\"line_alpha\":{\"value\":1.0},\"line_color\":{\"value\":\"black\"},\"line_dash\":[4,4],\"line_width\":{\"value\":2},\"plot\":null,\"render_mode\":\"css\",\"right_units\":\"screen\",\"top_units\":\"screen\"},\"id\":\"b59e1c81-aa42-475d-a45a-40d0693b84a0\",\"type\":\"BoxAnnotation\"},{\"attributes\":{},\"id\":\"08d5883f-a8a4-476b-aedd-6108d113f595\",\"type\":\"LinearScale\"},{\"attributes\":{},\"id\":\"f5defec0-0778-4311-8980-a65af629da24\",\"type\":\"PanTool\"},{\"attributes\":{},\"id\":\"88f2e7b1-7fb0-4e3f-84e8-c81d18eaa9f8\",\"type\":\"LinearScale\"},{\"attributes\":{\"plot\":null,\"text\":\"\"},\"id\":\"4b1806c5-5687-4494-9edb-3f85ffceec33\",\"type\":\"Title\"},{\"attributes\":{\"formatter\":{\"id\":\"f6911796-17a4-4efa-8407-22cc07b0c375\",\"type\":\"BasicTickFormatter\"},\"plot\":{\"id\":\"e27c6dba-fe97-4d28-b1de-57aa14562f87\",\"subtype\":\"Figure\",\"type\":\"Plot\"},\"ticker\":{\"id\":\"cd411d0d-9958-46a4-b3a6-06b0069687b9\",\"type\":\"BasicTicker\"}},\"id\":\"c2a56f62-2d9f-456c-9173-81dea6fbb305\",\"type\":\"LinearAxis\"},{\"attributes\":{},\"id\":\"90c3aa99-5dcc-428e-ba4a-298fc9ec5340\",\"type\":\"WheelZoomTool\"},{\"attributes\":{\"formatter\":{\"id\":\"e8410e8e-7f5d-4c07-b4eb-fe3d5dfc563f\",\"type\":\"BasicTickFormatter\"},\"plot\":{\"id\":\"e27c6dba-fe97-4d28-b1de-57aa14562f87\",\"subtype\":\"Figure\",\"type\":\"Plot\"},\"ticker\":{\"id\":\"2c9ad31c-496a-4494-917c-b3e7d066ee1c\",\"type\":\"BasicTicker\"}},\"id\":\"b79a979e-0561-465d-a82e-1960b303674b\",\"type\":\"LinearAxis\"},{\"attributes\":{\"overlay\":{\"id\":\"b59e1c81-aa42-475d-a45a-40d0693b84a0\",\"type\":\"BoxAnnotation\"}},\"id\":\"c2626ed6-088d-4714-b4cb-167be8138df7\",\"type\":\"BoxZoomTool\"},{\"attributes\":{\"plot\":{\"id\":\"e27c6dba-fe97-4d28-b1de-57aa14562f87\",\"subtype\":\"Figure\",\"type\":\"Plot\"},\"ticker\":{\"id\":\"2c9ad31c-496a-4494-917c-b3e7d066ee1c\",\"type\":\"BasicTicker\"}},\"id\":\"848acccb-8d88-46b9-9e30-13c036fc75c3\",\"type\":\"Grid\"},{\"attributes\":{},\"id\":\"1059be81-4121-4a91-822b-c4d6a76853be\",\"type\":\"SaveTool\"},{\"attributes\":{\"fill_alpha\":{\"value\":0.5},\"fill_color\":{\"value\":\"red\"},\"line_alpha\":{\"value\":0.5},\"line_color\":{\"value\":\"red\"},\"size\":{\"units\":\"screen\",\"value\":20},\"x\":{\"field\":\"x\"},\"y\":{\"field\":\"y\"}},\"id\":\"8734bef4-81ac-4080-8f7f-d6038f0b271b\",\"type\":\"Circle\"},{\"attributes\":{},\"id\":\"2c9ad31c-496a-4494-917c-b3e7d066ee1c\",\"type\":\"BasicTicker\"},{\"attributes\":{},\"id\":\"d055e188-a120-4024-9fe6-fb10975c60ce\",\"type\":\"ResetTool\"},{\"attributes\":{},\"id\":\"a1b65f92-df4a-49d3-a292-629b9a30b5dd\",\"type\":\"WheelZoomTool\"},{\"attributes\":{},\"id\":\"bdcd05c8-09b5-440e-aceb-5c752dad3bad\",\"type\":\"HelpTool\"},{\"attributes\":{\"overlay\":{\"id\":\"4bddffd9-f777-4bc0-ad46-1f9aca4d1160\",\"type\":\"BoxAnnotation\"}},\"id\":\"7f259754-75e3-4071-ba23-8f9b00f54b9c\",\"type\":\"BoxZoomTool\"},{\"attributes\":{},\"id\":\"f6911796-17a4-4efa-8407-22cc07b0c375\",\"type\":\"BasicTickFormatter\"},{\"attributes\":{},\"id\":\"cd411d0d-9958-46a4-b3a6-06b0069687b9\",\"type\":\"BasicTicker\"},{\"attributes\":{},\"id\":\"503b2bd8-6ac9-4c71-9664-22fd77d79073\",\"type\":\"BasicTickFormatter\"},{\"attributes\":{\"dimension\":1,\"plot\":{\"id\":\"e27c6dba-fe97-4d28-b1de-57aa14562f87\",\"subtype\":\"Figure\",\"type\":\"Plot\"},\"ticker\":{\"id\":\"cd411d0d-9958-46a4-b3a6-06b0069687b9\",\"type\":\"BasicTicker\"}},\"id\":\"1e73f2b7-8db7-4e7a-8c02-19074f566597\",\"type\":\"Grid\"},{\"attributes\":{\"source\":{\"id\":\"4fde2584-ef98-454a-aa1c-54171da21ba6\",\"type\":\"ColumnDataSource\"}},\"id\":\"758565c3-227f-4ea7-9d72-312dfd7d749e\",\"type\":\"CDSView\"},{\"attributes\":{},\"id\":\"e8410e8e-7f5d-4c07-b4eb-fe3d5dfc563f\",\"type\":\"BasicTickFormatter\"},{\"attributes\":{\"fill_alpha\":{\"value\":0.1},\"fill_color\":{\"value\":\"#1f77b4\"},\"line_alpha\":{\"value\":0.1},\"line_color\":{\"value\":\"#1f77b4\"},\"size\":{\"units\":\"screen\",\"value\":20},\"x\":{\"field\":\"x\"},\"y\":{\"field\":\"y\"}},\"id\":\"d3e2f4a4-38db-4b08-8db4-25de036b8995\",\"type\":\"Circle\"},{\"attributes\":{},\"id\":\"b5f980cb-c4aa-44e3-9089-1c88c8df9d6d\",\"type\":\"BasicTickFormatter\"},{\"attributes\":{\"below\":[{\"id\":\"5a0f6714-9b6b-43f3-afda-49c9a9e21765\",\"type\":\"LinearAxis\"}],\"left\":[{\"id\":\"626d050a-4200-4e83-85c3-bb185541f38f\",\"type\":\"LinearAxis\"}],\"plot_height\":300,\"plot_width\":300,\"renderers\":[{\"id\":\"5a0f6714-9b6b-43f3-afda-49c9a9e21765\",\"type\":\"LinearAxis\"},{\"id\":\"599f2e71-87ad-4ebf-87fb-4a9bdd9bc4d8\",\"type\":\"Grid\"},{\"id\":\"626d050a-4200-4e83-85c3-bb185541f38f\",\"type\":\"LinearAxis\"},{\"id\":\"6a224f80-76bf-4bd0-8e99-ce331f3cdcea\",\"type\":\"Grid\"},{\"id\":\"b59e1c81-aa42-475d-a45a-40d0693b84a0\",\"type\":\"BoxAnnotation\"},{\"id\":\"59ac7c0f-139f-425e-9a44-5c1842a1a744\",\"type\":\"GlyphRenderer\"}],\"title\":{\"id\":\"b5c9d483-e4bf-4126-b054-7981363b6b9b\",\"type\":\"Title\"},\"toolbar\":{\"id\":\"739deaf5-8d48-486b-95d7-1bf878bce45a\",\"type\":\"Toolbar\"},\"x_range\":{\"id\":\"0ee93100-5289-421b-82a4-7a9752ac2d76\",\"type\":\"DataRange1d\"},\"x_scale\":{\"id\":\"b8bba020-7ae9-40ce-9f76-92293eb4735a\",\"type\":\"LinearScale\"},\"y_range\":{\"id\":\"f974da3f-12be-4f04-be1e-035cfa69638d\",\"type\":\"DataRange1d\"},\"y_scale\":{\"id\":\"99c62d8b-489e-4aed-9591-2ffaad23ca89\",\"type\":\"LinearScale\"}},\"id\":\"5a691453-baae-4492-8e5d-8c837747b207\",\"subtype\":\"Figure\",\"type\":\"Plot\"},{\"attributes\":{},\"id\":\"d52baea5-a5c0-4c29-b974-662af1d5f26b\",\"type\":\"UnionRenderers\"},{\"attributes\":{\"bottom_units\":\"screen\",\"fill_alpha\":{\"value\":0.5},\"fill_color\":{\"value\":\"lightgrey\"},\"left_units\":\"screen\",\"level\":\"overlay\",\"line_alpha\":{\"value\":1.0},\"line_color\":{\"value\":\"black\"},\"line_dash\":[4,4],\"line_width\":{\"value\":2},\"plot\":null,\"render_mode\":\"css\",\"right_units\":\"screen\",\"top_units\":\"screen\"},\"id\":\"4bddffd9-f777-4bc0-ad46-1f9aca4d1160\",\"type\":\"BoxAnnotation\"},{\"attributes\":{},\"id\":\"381e9bb7-86d6-4561-8922-3fac19ec4601\",\"type\":\"Selection\"},{\"attributes\":{},\"id\":\"bfafe874-d594-41ac-be4a-d0dc50e18bf8\",\"type\":\"PanTool\"},{\"attributes\":{},\"id\":\"57ace381-6373-4aa2-a657-f92650e73e54\",\"type\":\"Selection\"},{\"attributes\":{\"source\":{\"id\":\"6ad7ca3d-f1ab-43c2-a954-2c987258aaa3\",\"type\":\"ColumnDataSource\"}},\"id\":\"31756d77-4470-428f-99e5-461c3b1960f4\",\"type\":\"CDSView\"},{\"attributes\":{},\"id\":\"7755bd03-1dab-43d8-94dd-2ac4845c0cdc\",\"type\":\"UnionRenderers\"},{\"attributes\":{},\"id\":\"aba6ee6b-7c95-4d7a-9a39-012f0646867e\",\"type\":\"SaveTool\"},{\"attributes\":{},\"id\":\"ee9599f0-1a2b-4991-93fc-e842167f0ec4\",\"type\":\"ResetTool\"},{\"attributes\":{},\"id\":\"9d0221d0-d039-40d4-a0b7-f70c97bbe685\",\"type\":\"HelpTool\"},{\"attributes\":{\"active_drag\":\"auto\",\"active_inspect\":\"auto\",\"active_multi\":null,\"active_scroll\":\"auto\",\"active_tap\":\"auto\",\"tools\":[{\"id\":\"f5defec0-0778-4311-8980-a65af629da24\",\"type\":\"PanTool\"},{\"id\":\"90c3aa99-5dcc-428e-ba4a-298fc9ec5340\",\"type\":\"WheelZoomTool\"},{\"id\":\"c2626ed6-088d-4714-b4cb-167be8138df7\",\"type\":\"BoxZoomTool\"},{\"id\":\"1059be81-4121-4a91-822b-c4d6a76853be\",\"type\":\"SaveTool\"},{\"id\":\"d055e188-a120-4024-9fe6-fb10975c60ce\",\"type\":\"ResetTool\"},{\"id\":\"bdcd05c8-09b5-440e-aceb-5c752dad3bad\",\"type\":\"HelpTool\"}]},\"id\":\"739deaf5-8d48-486b-95d7-1bf878bce45a\",\"type\":\"Toolbar\"},{\"attributes\":{\"callback\":null,\"data\":{\"x\":[1,2,3,4,5],\"y\":[6,7,2,4,5]},\"selected\":{\"id\":\"57ace381-6373-4aa2-a657-f92650e73e54\",\"type\":\"Selection\"},\"selection_policy\":{\"id\":\"7755bd03-1dab-43d8-94dd-2ac4845c0cdc\",\"type\":\"UnionRenderers\"}},\"id\":\"6ad7ca3d-f1ab-43c2-a954-2c987258aaa3\",\"type\":\"ColumnDataSource\"},{\"attributes\":{\"callback\":null,\"tabs\":[{\"id\":\"e5da1e62-1f47-4ab0-a21f-c3ae9f699804\",\"type\":\"Panel\"},{\"id\":\"be7eac2f-290c-4f1d-9d7e-f07a4c2fb294\",\"type\":\"Panel\"}]},\"id\":\"c5911d84-d9d1-4233-9f19-d4f58cc4359f\",\"type\":\"Tabs\"},{\"attributes\":{\"plot\":null,\"text\":\"\"},\"id\":\"b5c9d483-e4bf-4126-b054-7981363b6b9b\",\"type\":\"Title\"},{\"attributes\":{\"callback\":null},\"id\":\"0ee93100-5289-421b-82a4-7a9752ac2d76\",\"type\":\"DataRange1d\"},{\"attributes\":{\"line_alpha\":0.1,\"line_color\":\"#1f77b4\",\"line_width\":3,\"x\":{\"field\":\"x\"},\"y\":{\"field\":\"y\"}},\"id\":\"78f09420-0100-4c69-b44c-9a2791f80de2\",\"type\":\"Line\"},{\"attributes\":{\"callback\":null},\"id\":\"f974da3f-12be-4f04-be1e-035cfa69638d\",\"type\":\"DataRange1d\"},{\"attributes\":{},\"id\":\"b8bba020-7ae9-40ce-9f76-92293eb4735a\",\"type\":\"LinearScale\"},{\"attributes\":{},\"id\":\"058c5dc4-9d39-4283-b342-3e3b489845ff\",\"type\":\"BasicTicker\"},{\"attributes\":{},\"id\":\"99c62d8b-489e-4aed-9591-2ffaad23ca89\",\"type\":\"LinearScale\"},{\"attributes\":{\"plot\":{\"id\":\"5a691453-baae-4492-8e5d-8c837747b207\",\"subtype\":\"Figure\",\"type\":\"Plot\"},\"ticker\":{\"id\":\"058c5dc4-9d39-4283-b342-3e3b489845ff\",\"type\":\"BasicTicker\"}},\"id\":\"599f2e71-87ad-4ebf-87fb-4a9bdd9bc4d8\",\"type\":\"Grid\"},{\"attributes\":{\"formatter\":{\"id\":\"b5f980cb-c4aa-44e3-9089-1c88c8df9d6d\",\"type\":\"BasicTickFormatter\"},\"plot\":{\"id\":\"5a691453-baae-4492-8e5d-8c837747b207\",\"subtype\":\"Figure\",\"type\":\"Plot\"},\"ticker\":{\"id\":\"058c5dc4-9d39-4283-b342-3e3b489845ff\",\"type\":\"BasicTicker\"}},\"id\":\"5a0f6714-9b6b-43f3-afda-49c9a9e21765\",\"type\":\"LinearAxis\"},{\"attributes\":{\"child\":{\"id\":\"e27c6dba-fe97-4d28-b1de-57aa14562f87\",\"subtype\":\"Figure\",\"type\":\"Plot\"},\"title\":\"circle\"},\"id\":\"e5da1e62-1f47-4ab0-a21f-c3ae9f699804\",\"type\":\"Panel\"},{\"attributes\":{\"callback\":null,\"data\":{\"x\":[1,2,3,4,5],\"y\":[6,7,2,4,5]},\"selected\":{\"id\":\"381e9bb7-86d6-4561-8922-3fac19ec4601\",\"type\":\"Selection\"},\"selection_policy\":{\"id\":\"d52baea5-a5c0-4c29-b974-662af1d5f26b\",\"type\":\"UnionRenderers\"}},\"id\":\"4fde2584-ef98-454a-aa1c-54171da21ba6\",\"type\":\"ColumnDataSource\"},{\"attributes\":{\"formatter\":{\"id\":\"503b2bd8-6ac9-4c71-9664-22fd77d79073\",\"type\":\"BasicTickFormatter\"},\"plot\":{\"id\":\"5a691453-baae-4492-8e5d-8c837747b207\",\"subtype\":\"Figure\",\"type\":\"Plot\"},\"ticker\":{\"id\":\"23c9e547-239c-4665-ac5a-e43f4c5b5625\",\"type\":\"BasicTicker\"}},\"id\":\"626d050a-4200-4e83-85c3-bb185541f38f\",\"type\":\"LinearAxis\"},{\"attributes\":{},\"id\":\"23c9e547-239c-4665-ac5a-e43f4c5b5625\",\"type\":\"BasicTicker\"}],\"root_ids\":[\"c5911d84-d9d1-4233-9f19-d4f58cc4359f\"]},\"title\":\"Bokeh Application\",\"version\":\"0.13.0\"}};\n",
       "  var render_items = [{\"docid\":\"36bb41f6-8acf-45f2-b41a-0f30bf19ee0a\",\"roots\":{\"c5911d84-d9d1-4233-9f19-d4f58cc4359f\":\"f5789721-4bf9-4f94-8182-346596e68d08\"}}];\n",
       "  root.Bokeh.embed.embed_items_notebook(docs_json, render_items);\n",
       "\n",
       "  }\n",
       "  if (root.Bokeh !== undefined) {\n",
       "    embed_document(root);\n",
       "  } else {\n",
       "    var attempts = 0;\n",
       "    var timer = setInterval(function(root) {\n",
       "      if (root.Bokeh !== undefined) {\n",
       "        embed_document(root);\n",
       "        clearInterval(timer);\n",
       "      }\n",
       "      attempts++;\n",
       "      if (attempts > 100) {\n",
       "        console.log(\"Bokeh: ERROR: Unable to run BokehJS code because BokehJS library is missing\")\n",
       "        clearInterval(timer);\n",
       "      }\n",
       "    }, 10, root)\n",
       "  }\n",
       "})(window);"
      ],
      "application/vnd.bokehjs_exec.v0+json": ""
     },
     "metadata": {
      "application/vnd.bokehjs_exec.v0+json": {
       "id": "c5911d84-d9d1-4233-9f19-d4f58cc4359f"
      }
     },
     "output_type": "display_data"
    }
   ],
   "source": [
    "from bokeh.models.widgets import Panel, Tabs\n",
    "from bokeh.plotting import figure\n",
    "\n",
    "p1 = figure(plot_width=300, plot_height=300)\n",
    "p1.circle([1, 2, 3, 4, 5], [6, 7, 2, 4, 5], size=20, color=\"red\", alpha=0.5)\n",
    "tab1 = Panel(child=p1, title=\"circle\")\n",
    "\n",
    "p2 = figure(plot_width=300, plot_height=300)\n",
    "p2.line([1, 2, 3, 4, 5], [6, 7, 2, 4, 5], line_width=3, color=\"blue\", alpha=0.5)\n",
    "tab2 = Panel(child=p2, title=\"line\")\n",
    "\n",
    "tabs = Tabs(tabs=[ tab1, tab2 ])\n",
    "\n",
    "show(tabs)"
   ]
  },
  {
   "cell_type": "markdown",
   "metadata": {},
   "source": [
    "## JavaScript CallBacks\n",
    "While the main goal of Bokeh is to provide a path to create rich interactive visualizations in the browser, purely from python, there will always be specialized use-cases that are outside the capabilities of the core library. For this reason, Bokeh provides different ways for users to supply custom JavaScript when necessary, so that users may add custom or specialized behaviours in response to property changes and other events.\n",
    "To supply a snippet of JavaScript code that should be executed (in the browser) when some event occurs, use the `CustomJS model`:\n",
    "```python\n",
    "from bokeh.models.callbacks import CustomJS\n",
    "\n",
    "callback = CustomJS(args=dict(xr=plot.x_range), code=\"\"\"\n",
    "\n",
    "// JavaScript code goes here\n",
    "\n",
    "var a = 10;\n",
    "\n",
    "// the model that triggered the callback is cb_obj:\n",
    "var b = cb_obj.value;\n",
    "\n",
    "// models passed as args are automagically available\n",
    "xr.start = a;\n",
    "xr.end = b;\n",
    "\n",
    "\"\"\")\n",
    "```"
   ]
  },
  {
   "cell_type": "markdown",
   "metadata": {},
   "source": [
    "### CustomJS for Model Property Events¶\n",
    "These CustomJS callbacks can be attached to property change events on any Bokeh model, using the `js_on_change` method of Bokeh models:"
   ]
  },
  {
   "cell_type": "code",
   "execution_count": 16,
   "metadata": {},
   "outputs": [
    {
     "data": {
      "text/html": [
       "\n",
       "\n",
       "\n",
       "\n",
       "\n",
       "\n",
       "  <div class=\"bk-root\" id=\"e02e6492-eca1-457c-89b4-ab902a9bf028\"></div>\n"
      ]
     },
     "metadata": {},
     "output_type": "display_data"
    },
    {
     "data": {
      "application/javascript": [
       "(function(root) {\n",
       "  function embed_document(root) {\n",
       "    \n",
       "  var docs_json = {\"25f0c3c4-6467-4952-9228-0a233df90735\":{\"roots\":{\"references\":[{\"attributes\":{\"active_drag\":\"auto\",\"active_inspect\":\"auto\",\"active_multi\":null,\"active_scroll\":\"auto\",\"active_tap\":\"auto\",\"tools\":[{\"id\":\"7d55f88e-7452-4801-8321-6a85217c1681\",\"type\":\"PanTool\"},{\"id\":\"a3c12d99-44c2-4974-87c5-10b1f5ef8bdf\",\"type\":\"WheelZoomTool\"},{\"id\":\"9a790a0d-1292-40fc-9b39-fae5ddeea2ed\",\"type\":\"BoxZoomTool\"},{\"id\":\"de27b01d-bd1a-4450-9bbe-57fbcde0b830\",\"type\":\"SaveTool\"},{\"id\":\"e46bf6dd-5f21-4e14-97ca-0430898ab231\",\"type\":\"ResetTool\"},{\"id\":\"c70cc70f-7cbf-428e-ab0d-5e56a7d8d5e4\",\"type\":\"HelpTool\"}]},\"id\":\"5d245888-42a2-4c55-b3d6-d9598193a9c1\",\"type\":\"Toolbar\"},{\"attributes\":{\"below\":[{\"id\":\"d7b5dab2-140d-4d72-ba39-823f053aecca\",\"type\":\"LinearAxis\"}],\"left\":[{\"id\":\"24a2580d-d9bb-40cb-ad84-497fc5bab0dc\",\"type\":\"LinearAxis\"}],\"plot_height\":400,\"plot_width\":400,\"renderers\":[{\"id\":\"d7b5dab2-140d-4d72-ba39-823f053aecca\",\"type\":\"LinearAxis\"},{\"id\":\"4dae6d9f-5ee2-4222-a53d-9fdd711ecccc\",\"type\":\"Grid\"},{\"id\":\"24a2580d-d9bb-40cb-ad84-497fc5bab0dc\",\"type\":\"LinearAxis\"},{\"id\":\"73b8475f-4381-4e4c-9b39-db152e1ff234\",\"type\":\"Grid\"},{\"id\":\"f6888334-6b1c-4e3a-8326-783020070fc3\",\"type\":\"BoxAnnotation\"},{\"id\":\"010b939b-44e9-4e75-a153-ad30298f3c98\",\"type\":\"GlyphRenderer\"}],\"title\":{\"id\":\"e7403121-482d-4fa8-9256-35bf343df6d1\",\"type\":\"Title\"},\"toolbar\":{\"id\":\"5d245888-42a2-4c55-b3d6-d9598193a9c1\",\"type\":\"Toolbar\"},\"x_range\":{\"id\":\"f66028eb-9258-4335-90ce-74538646747c\",\"type\":\"DataRange1d\"},\"x_scale\":{\"id\":\"ed803da6-e29a-4d7b-9739-f14b1fda0608\",\"type\":\"LinearScale\"},\"y_range\":{\"id\":\"614dd44a-17f4-4f5e-a08f-89b5637e8d80\",\"type\":\"DataRange1d\"},\"y_scale\":{\"id\":\"610a8c2c-9ad9-4901-9a7d-b91b13f3975f\",\"type\":\"LinearScale\"}},\"id\":\"1d59c505-4a5d-44a0-a086-d6ace47e3171\",\"subtype\":\"Figure\",\"type\":\"Plot\"},{\"attributes\":{\"callback\":null,\"data\":{\"x\":[0.0,0.005,0.01,0.015,0.02,0.025,0.03,0.035,0.04,0.045,0.05,0.055,0.06,0.065,0.07,0.075,0.08,0.085,0.09,0.095,0.1,0.105,0.11,0.115,0.12,0.125,0.13,0.135,0.14,0.145,0.15,0.155,0.16,0.165,0.17,0.17500000000000002,0.18,0.185,0.19,0.195,0.2,0.20500000000000002,0.21,0.215,0.22,0.225,0.23,0.23500000000000001,0.24,0.245,0.25,0.255,0.26,0.265,0.27,0.275,0.28,0.28500000000000003,0.29,0.295,0.3,0.305,0.31,0.315,0.32,0.325,0.33,0.335,0.34,0.34500000000000003,0.35000000000000003,0.355,0.36,0.365,0.37,0.375,0.38,0.385,0.39,0.395,0.4,0.405,0.41000000000000003,0.41500000000000004,0.42,0.425,0.43,0.435,0.44,0.445,0.45,0.455,0.46,0.465,0.47000000000000003,0.47500000000000003,0.48,0.485,0.49,0.495,0.5,0.505,0.51,0.515,0.52,0.525,0.53,0.535,0.54,0.545,0.55,0.555,0.56,0.5650000000000001,0.5700000000000001,0.5750000000000001,0.58,0.585,0.59,0.595,0.6,0.605,0.61,0.615,0.62,0.625,0.63,0.635,0.64,0.645,0.65,0.655,0.66,0.665,0.67,0.675,0.68,0.685,0.6900000000000001,0.6950000000000001,0.7000000000000001,0.705,0.71,0.715,0.72,0.725,0.73,0.735,0.74,0.745,0.75,0.755,0.76,0.765,0.77,0.775,0.78,0.785,0.79,0.795,0.8,0.805,0.81,0.8150000000000001,0.8200000000000001,0.8250000000000001,0.8300000000000001,0.835,0.84,0.845,0.85,0.855,0.86,0.865,0.87,0.875,0.88,0.885,0.89,0.895,0.9,0.905,0.91,0.915,0.92,0.925,0.93,0.935,0.9400000000000001,0.9450000000000001,0.9500000000000001,0.9550000000000001,0.96,0.965,0.97,0.975,0.98,0.985,0.99,0.995],\"y\":[0.0,0.005,0.01,0.015,0.02,0.025,0.03,0.035,0.04,0.045,0.05,0.055,0.06,0.065,0.07,0.075,0.08,0.085,0.09,0.095,0.1,0.105,0.11,0.115,0.12,0.125,0.13,0.135,0.14,0.145,0.15,0.155,0.16,0.165,0.17,0.17500000000000002,0.18,0.185,0.19,0.195,0.2,0.20500000000000002,0.21,0.215,0.22,0.225,0.23,0.23500000000000001,0.24,0.245,0.25,0.255,0.26,0.265,0.27,0.275,0.28,0.28500000000000003,0.29,0.295,0.3,0.305,0.31,0.315,0.32,0.325,0.33,0.335,0.34,0.34500000000000003,0.35000000000000003,0.355,0.36,0.365,0.37,0.375,0.38,0.385,0.39,0.395,0.4,0.405,0.41000000000000003,0.41500000000000004,0.42,0.425,0.43,0.435,0.44,0.445,0.45,0.455,0.46,0.465,0.47000000000000003,0.47500000000000003,0.48,0.485,0.49,0.495,0.5,0.505,0.51,0.515,0.52,0.525,0.53,0.535,0.54,0.545,0.55,0.555,0.56,0.5650000000000001,0.5700000000000001,0.5750000000000001,0.58,0.585,0.59,0.595,0.6,0.605,0.61,0.615,0.62,0.625,0.63,0.635,0.64,0.645,0.65,0.655,0.66,0.665,0.67,0.675,0.68,0.685,0.6900000000000001,0.6950000000000001,0.7000000000000001,0.705,0.71,0.715,0.72,0.725,0.73,0.735,0.74,0.745,0.75,0.755,0.76,0.765,0.77,0.775,0.78,0.785,0.79,0.795,0.8,0.805,0.81,0.8150000000000001,0.8200000000000001,0.8250000000000001,0.8300000000000001,0.835,0.84,0.845,0.85,0.855,0.86,0.865,0.87,0.875,0.88,0.885,0.89,0.895,0.9,0.905,0.91,0.915,0.92,0.925,0.93,0.935,0.9400000000000001,0.9450000000000001,0.9500000000000001,0.9550000000000001,0.96,0.965,0.97,0.975,0.98,0.985,0.99,0.995]},\"selected\":{\"id\":\"cd7df3db-f59f-44f0-8d75-608e0d3b00c0\",\"type\":\"Selection\"},\"selection_policy\":{\"id\":\"1fadf49a-37da-48dd-9317-2828635ed3d5\",\"type\":\"UnionRenderers\"}},\"id\":\"6d7987b8-6364-4fd0-ba36-380a8cddec77\",\"type\":\"ColumnDataSource\"},{\"attributes\":{\"source\":{\"id\":\"6d7987b8-6364-4fd0-ba36-380a8cddec77\",\"type\":\"ColumnDataSource\"}},\"id\":\"1ae65684-28f6-4d13-97fc-7e28a99db970\",\"type\":\"CDSView\"},{\"attributes\":{},\"id\":\"ce2f1881-fc28-49d3-94b2-b36fc5abed6a\",\"type\":\"BasicTicker\"},{\"attributes\":{},\"id\":\"610a8c2c-9ad9-4901-9a7d-b91b13f3975f\",\"type\":\"LinearScale\"},{\"attributes\":{\"formatter\":{\"id\":\"a28409b6-1d41-4bc5-8a9a-8d59df0a1aeb\",\"type\":\"BasicTickFormatter\"},\"plot\":{\"id\":\"1d59c505-4a5d-44a0-a086-d6ace47e3171\",\"subtype\":\"Figure\",\"type\":\"Plot\"},\"ticker\":{\"id\":\"ce2f1881-fc28-49d3-94b2-b36fc5abed6a\",\"type\":\"BasicTicker\"}},\"id\":\"d7b5dab2-140d-4d72-ba39-823f053aecca\",\"type\":\"LinearAxis\"},{\"attributes\":{\"line_alpha\":0.1,\"line_color\":\"#1f77b4\",\"line_width\":3,\"x\":{\"field\":\"x\"},\"y\":{\"field\":\"y\"}},\"id\":\"9da8e1c2-a107-406d-98c7-24aaa6982678\",\"type\":\"Line\"},{\"attributes\":{\"callback\":null},\"id\":\"f66028eb-9258-4335-90ce-74538646747c\",\"type\":\"DataRange1d\"},{\"attributes\":{},\"id\":\"9de2c777-3ef1-4e13-9562-ba29df980bdb\",\"type\":\"BasicTicker\"},{\"attributes\":{\"plot\":{\"id\":\"1d59c505-4a5d-44a0-a086-d6ace47e3171\",\"subtype\":\"Figure\",\"type\":\"Plot\"},\"ticker\":{\"id\":\"ce2f1881-fc28-49d3-94b2-b36fc5abed6a\",\"type\":\"BasicTicker\"}},\"id\":\"4dae6d9f-5ee2-4222-a53d-9fdd711ecccc\",\"type\":\"Grid\"},{\"attributes\":{\"callback\":null},\"id\":\"614dd44a-17f4-4f5e-a08f-89b5637e8d80\",\"type\":\"DataRange1d\"},{\"attributes\":{\"formatter\":{\"id\":\"b75e8876-d031-4372-9e94-22a7727f8c26\",\"type\":\"BasicTickFormatter\"},\"plot\":{\"id\":\"1d59c505-4a5d-44a0-a086-d6ace47e3171\",\"subtype\":\"Figure\",\"type\":\"Plot\"},\"ticker\":{\"id\":\"9de2c777-3ef1-4e13-9562-ba29df980bdb\",\"type\":\"BasicTicker\"}},\"id\":\"24a2580d-d9bb-40cb-ad84-497fc5bab0dc\",\"type\":\"LinearAxis\"},{\"attributes\":{\"callback\":null,\"end\":4,\"js_property_callbacks\":{\"change:value\":[{\"id\":\"1371d51c-b7d0-4dd3-b9c1-59a7fbd1d889\",\"type\":\"CustomJS\"}]},\"start\":0.1,\"step\":0.1,\"title\":\"power\",\"value\":1},\"id\":\"63718da2-a2c1-48ea-83ae-ec682a8a1ea2\",\"type\":\"Slider\"},{\"attributes\":{\"children\":[{\"id\":\"63718da2-a2c1-48ea-83ae-ec682a8a1ea2\",\"type\":\"Slider\"}]},\"id\":\"01f4fa44-4ff4-4f3a-bd40-a58fda4d0546\",\"type\":\"WidgetBox\"},{\"attributes\":{},\"id\":\"ed803da6-e29a-4d7b-9739-f14b1fda0608\",\"type\":\"LinearScale\"},{\"attributes\":{},\"id\":\"e46bf6dd-5f21-4e14-97ca-0430898ab231\",\"type\":\"ResetTool\"},{\"attributes\":{\"data_source\":{\"id\":\"6d7987b8-6364-4fd0-ba36-380a8cddec77\",\"type\":\"ColumnDataSource\"},\"glyph\":{\"id\":\"d476b732-eb46-48b0-b25f-3dcbb2804868\",\"type\":\"Line\"},\"hover_glyph\":null,\"muted_glyph\":null,\"nonselection_glyph\":{\"id\":\"9da8e1c2-a107-406d-98c7-24aaa6982678\",\"type\":\"Line\"},\"selection_glyph\":null,\"view\":{\"id\":\"1ae65684-28f6-4d13-97fc-7e28a99db970\",\"type\":\"CDSView\"}},\"id\":\"010b939b-44e9-4e75-a153-ad30298f3c98\",\"type\":\"GlyphRenderer\"},{\"attributes\":{\"dimension\":1,\"plot\":{\"id\":\"1d59c505-4a5d-44a0-a086-d6ace47e3171\",\"subtype\":\"Figure\",\"type\":\"Plot\"},\"ticker\":{\"id\":\"9de2c777-3ef1-4e13-9562-ba29df980bdb\",\"type\":\"BasicTicker\"}},\"id\":\"73b8475f-4381-4e4c-9b39-db152e1ff234\",\"type\":\"Grid\"},{\"attributes\":{\"args\":{\"source\":{\"id\":\"6d7987b8-6364-4fd0-ba36-380a8cddec77\",\"type\":\"ColumnDataSource\"}},\"code\":\"\\n    var data = source.data;\\n    var f = cb_obj.value\\n    x = data['x']\\n    y = data['y']\\n    for (i = 0; i < x.length; i++) {\\n        y[i] = Math.pow(x[i], f)\\n    }\\n    source.change.emit();\\n\"},\"id\":\"1371d51c-b7d0-4dd3-b9c1-59a7fbd1d889\",\"type\":\"CustomJS\"},{\"attributes\":{},\"id\":\"7d55f88e-7452-4801-8321-6a85217c1681\",\"type\":\"PanTool\"},{\"attributes\":{},\"id\":\"1fadf49a-37da-48dd-9317-2828635ed3d5\",\"type\":\"UnionRenderers\"},{\"attributes\":{},\"id\":\"de27b01d-bd1a-4450-9bbe-57fbcde0b830\",\"type\":\"SaveTool\"},{\"attributes\":{\"overlay\":{\"id\":\"f6888334-6b1c-4e3a-8326-783020070fc3\",\"type\":\"BoxAnnotation\"}},\"id\":\"9a790a0d-1292-40fc-9b39-fae5ddeea2ed\",\"type\":\"BoxZoomTool\"},{\"attributes\":{},\"id\":\"a28409b6-1d41-4bc5-8a9a-8d59df0a1aeb\",\"type\":\"BasicTickFormatter\"},{\"attributes\":{},\"id\":\"a3c12d99-44c2-4974-87c5-10b1f5ef8bdf\",\"type\":\"WheelZoomTool\"},{\"attributes\":{\"children\":[{\"id\":\"01f4fa44-4ff4-4f3a-bd40-a58fda4d0546\",\"type\":\"WidgetBox\"},{\"id\":\"1d59c505-4a5d-44a0-a086-d6ace47e3171\",\"subtype\":\"Figure\",\"type\":\"Plot\"}]},\"id\":\"772d3a53-505b-4785-be37-e08a09b75c0d\",\"type\":\"Column\"},{\"attributes\":{\"bottom_units\":\"screen\",\"fill_alpha\":{\"value\":0.5},\"fill_color\":{\"value\":\"lightgrey\"},\"left_units\":\"screen\",\"level\":\"overlay\",\"line_alpha\":{\"value\":1.0},\"line_color\":{\"value\":\"black\"},\"line_dash\":[4,4],\"line_width\":{\"value\":2},\"plot\":null,\"render_mode\":\"css\",\"right_units\":\"screen\",\"top_units\":\"screen\"},\"id\":\"f6888334-6b1c-4e3a-8326-783020070fc3\",\"type\":\"BoxAnnotation\"},{\"attributes\":{},\"id\":\"b75e8876-d031-4372-9e94-22a7727f8c26\",\"type\":\"BasicTickFormatter\"},{\"attributes\":{},\"id\":\"cd7df3db-f59f-44f0-8d75-608e0d3b00c0\",\"type\":\"Selection\"},{\"attributes\":{\"line_alpha\":0.6,\"line_color\":\"#1f77b4\",\"line_width\":3,\"x\":{\"field\":\"x\"},\"y\":{\"field\":\"y\"}},\"id\":\"d476b732-eb46-48b0-b25f-3dcbb2804868\",\"type\":\"Line\"},{\"attributes\":{},\"id\":\"c70cc70f-7cbf-428e-ab0d-5e56a7d8d5e4\",\"type\":\"HelpTool\"},{\"attributes\":{\"plot\":null,\"text\":\"\"},\"id\":\"e7403121-482d-4fa8-9256-35bf343df6d1\",\"type\":\"Title\"}],\"root_ids\":[\"772d3a53-505b-4785-be37-e08a09b75c0d\"]},\"title\":\"Bokeh Application\",\"version\":\"0.13.0\"}};\n",
       "  var render_items = [{\"docid\":\"25f0c3c4-6467-4952-9228-0a233df90735\",\"roots\":{\"772d3a53-505b-4785-be37-e08a09b75c0d\":\"e02e6492-eca1-457c-89b4-ab902a9bf028\"}}];\n",
       "  root.Bokeh.embed.embed_items_notebook(docs_json, render_items);\n",
       "\n",
       "  }\n",
       "  if (root.Bokeh !== undefined) {\n",
       "    embed_document(root);\n",
       "  } else {\n",
       "    var attempts = 0;\n",
       "    var timer = setInterval(function(root) {\n",
       "      if (root.Bokeh !== undefined) {\n",
       "        embed_document(root);\n",
       "        clearInterval(timer);\n",
       "      }\n",
       "      attempts++;\n",
       "      if (attempts > 100) {\n",
       "        console.log(\"Bokeh: ERROR: Unable to run BokehJS code because BokehJS library is missing\")\n",
       "        clearInterval(timer);\n",
       "      }\n",
       "    }, 10, root)\n",
       "  }\n",
       "})(window);"
      ],
      "application/vnd.bokehjs_exec.v0+json": ""
     },
     "metadata": {
      "application/vnd.bokehjs_exec.v0+json": {
       "id": "772d3a53-505b-4785-be37-e08a09b75c0d"
      }
     },
     "output_type": "display_data"
    }
   ],
   "source": [
    "from bokeh.layouts import column\n",
    "from bokeh.models import CustomJS, ColumnDataSource, Slider\n",
    "from bokeh.plotting import figure\n",
    "\n",
    "x = [x*0.005 for x in range(0, 200)]\n",
    "y = x\n",
    "\n",
    "source = ColumnDataSource(data=dict(x=x, y=y))\n",
    "\n",
    "plot = figure(plot_width=400, plot_height=400)\n",
    "plot.line('x', 'y', source=source, line_width=3, line_alpha=0.6)\n",
    "\n",
    "callback = CustomJS(args=dict(source=source), code=\"\"\"\n",
    "    var data = source.data;\n",
    "    var f = cb_obj.value\n",
    "    x = data['x']\n",
    "    y = data['y']\n",
    "    for (i = 0; i < x.length; i++) {\n",
    "        y[i] = Math.pow(x[i], f)\n",
    "    }\n",
    "    source.change.emit();\n",
    "\"\"\")\n",
    "\n",
    "slider = Slider(start=0.1, end=4, value=1, step=.1, title=\"power\")\n",
    "slider.js_on_change('value', callback)\n",
    "\n",
    "layout = column(slider, plot)\n",
    "\n",
    "show(layout)"
   ]
  },
  {
   "cell_type": "markdown",
   "metadata": {},
   "source": [
    "The above example shows how to attach a CustomJS callback to a Slider widget, so that whenever the slider value updates, the callback is executed to update some data."
   ]
  },
  {
   "cell_type": "markdown",
   "metadata": {},
   "source": [
    "### CustomJS with a Python function\n",
    "A CustomJS callback can also be implemented as a Python function, which is then translated to JavaScript using PyScript. This makes it easier for users to define client-side interactions without having to learn JavaScript. \n",
    "\n",
    "To use this functionality you need the Flexx library (install with `conda install -c bokeh flexx` or `pip install flexx`)."
   ]
  },
  {
   "cell_type": "code",
   "execution_count": 17,
   "metadata": {},
   "outputs": [
    {
     "data": {
      "text/html": [
       "\n",
       "\n",
       "\n",
       "\n",
       "\n",
       "\n",
       "  <div class=\"bk-root\" id=\"3fe452c2-9041-4c17-bf2b-e2d58dd7ab8a\"></div>\n"
      ]
     },
     "metadata": {},
     "output_type": "display_data"
    },
    {
     "data": {
      "application/javascript": [
       "(function(root) {\n",
       "  function embed_document(root) {\n",
       "    \n",
       "  var docs_json = {\"c31e925a-3079-4a4e-9ff9-b31695a7e918\":{\"roots\":{\"references\":[{\"attributes\":{\"children\":[{\"id\":\"ce08fe1d-a593-4b3a-9f19-ee0f37273a03\",\"type\":\"WidgetBox\"},{\"id\":\"ab8eed08-cdb6-4347-82b2-aa24365eee3e\",\"subtype\":\"Figure\",\"type\":\"Plot\"}]},\"id\":\"3f83f6d2-09dc-44ba-aae6-2587765f82ca\",\"type\":\"Column\"},{\"attributes\":{\"active_drag\":\"auto\",\"active_inspect\":\"auto\",\"active_multi\":null,\"active_scroll\":\"auto\",\"active_tap\":\"auto\",\"tools\":[{\"id\":\"ab9f003f-e5d8-4e2c-a767-454e82fc5fd3\",\"type\":\"PanTool\"},{\"id\":\"18b81b68-75c6-457c-8fa0-729106f2f913\",\"type\":\"WheelZoomTool\"},{\"id\":\"a741412e-06a5-403c-a0dd-44f0e1076f31\",\"type\":\"BoxZoomTool\"},{\"id\":\"9b867189-2d8c-4767-bac0-2520026fe65a\",\"type\":\"SaveTool\"},{\"id\":\"b6be0029-aa3f-4768-a75b-8b7dba4e6823\",\"type\":\"ResetTool\"},{\"id\":\"f3978f47-4d77-4b98-a153-7fe5eceaba8b\",\"type\":\"HelpTool\"}]},\"id\":\"06106cdd-9dcf-4cb2-9de9-acb2996faed8\",\"type\":\"Toolbar\"},{\"attributes\":{\"callback\":null},\"id\":\"47c6865b-6be1-4682-a47f-411183ab47ef\",\"type\":\"DataRange1d\"},{\"attributes\":{\"line_alpha\":0.1,\"line_color\":\"#1f77b4\",\"line_width\":3,\"x\":{\"field\":\"x\"},\"y\":{\"field\":\"y\"}},\"id\":\"502f62dd-e047-4564-bc7c-a1595bff9c15\",\"type\":\"Line\"},{\"attributes\":{\"callback\":null},\"id\":\"375c49fc-9edd-4135-9c06-318f536e85cf\",\"type\":\"DataRange1d\"},{\"attributes\":{},\"id\":\"5e224a02-2547-4baf-a0bf-43986fa5b9de\",\"type\":\"LinearScale\"},{\"attributes\":{\"dimension\":1,\"plot\":{\"id\":\"ab8eed08-cdb6-4347-82b2-aa24365eee3e\",\"subtype\":\"Figure\",\"type\":\"Plot\"},\"ticker\":{\"id\":\"facf2b00-1465-4c27-9cf6-6e553e722073\",\"type\":\"BasicTicker\"}},\"id\":\"d4e13325-4eda-4865-aef6-33ee70ef3740\",\"type\":\"Grid\"},{\"attributes\":{\"data_source\":{\"id\":\"8eec72d2-ffe0-406b-b6e5-c3e58dc5ae89\",\"type\":\"ColumnDataSource\"},\"glyph\":{\"id\":\"4c8814dd-5022-41ee-8762-64118185d899\",\"type\":\"Line\"},\"hover_glyph\":null,\"muted_glyph\":null,\"nonselection_glyph\":{\"id\":\"502f62dd-e047-4564-bc7c-a1595bff9c15\",\"type\":\"Line\"},\"selection_glyph\":null,\"view\":{\"id\":\"81d16d66-1888-4686-ad27-b06b34ca4bdc\",\"type\":\"CDSView\"}},\"id\":\"e97cf580-57c8-458a-a41f-84dbd04b8749\",\"type\":\"GlyphRenderer\"},{\"attributes\":{\"children\":[{\"id\":\"bb13e52e-30cc-4956-913a-183516fb9446\",\"type\":\"Slider\"}]},\"id\":\"ce08fe1d-a593-4b3a-9f19-ee0f37273a03\",\"type\":\"WidgetBox\"},{\"attributes\":{},\"id\":\"5c1b9b3f-7eac-4d93-9557-04ecafd502ac\",\"type\":\"LinearScale\"},{\"attributes\":{},\"id\":\"e65b932b-5e28-4a80-a7bd-8a7751f8c554\",\"type\":\"BasicTicker\"},{\"attributes\":{\"formatter\":{\"id\":\"b9496822-03b6-413c-8b22-331961c9e11e\",\"type\":\"BasicTickFormatter\"},\"plot\":{\"id\":\"ab8eed08-cdb6-4347-82b2-aa24365eee3e\",\"subtype\":\"Figure\",\"type\":\"Plot\"},\"ticker\":{\"id\":\"facf2b00-1465-4c27-9cf6-6e553e722073\",\"type\":\"BasicTicker\"}},\"id\":\"83e463e7-f3af-4441-b59e-6d0118a3b851\",\"type\":\"LinearAxis\"},{\"attributes\":{},\"id\":\"facf2b00-1465-4c27-9cf6-6e553e722073\",\"type\":\"BasicTicker\"},{\"attributes\":{\"line_alpha\":0.6,\"line_color\":\"#1f77b4\",\"line_width\":3,\"x\":{\"field\":\"x\"},\"y\":{\"field\":\"y\"}},\"id\":\"4c8814dd-5022-41ee-8762-64118185d899\",\"type\":\"Line\"},{\"attributes\":{\"bottom_units\":\"screen\",\"fill_alpha\":{\"value\":0.5},\"fill_color\":{\"value\":\"lightgrey\"},\"left_units\":\"screen\",\"level\":\"overlay\",\"line_alpha\":{\"value\":1.0},\"line_color\":{\"value\":\"black\"},\"line_dash\":[4,4],\"line_width\":{\"value\":2},\"plot\":null,\"render_mode\":\"css\",\"right_units\":\"screen\",\"top_units\":\"screen\"},\"id\":\"31515f83-0662-4f10-ba1b-f00dff2f18ac\",\"type\":\"BoxAnnotation\"},{\"attributes\":{},\"id\":\"ab9f003f-e5d8-4e2c-a767-454e82fc5fd3\",\"type\":\"PanTool\"},{\"attributes\":{},\"id\":\"18b81b68-75c6-457c-8fa0-729106f2f913\",\"type\":\"WheelZoomTool\"},{\"attributes\":{\"overlay\":{\"id\":\"31515f83-0662-4f10-ba1b-f00dff2f18ac\",\"type\":\"BoxAnnotation\"}},\"id\":\"a741412e-06a5-403c-a0dd-44f0e1076f31\",\"type\":\"BoxZoomTool\"},{\"attributes\":{},\"id\":\"9b867189-2d8c-4767-bac0-2520026fe65a\",\"type\":\"SaveTool\"},{\"attributes\":{},\"id\":\"b6be0029-aa3f-4768-a75b-8b7dba4e6823\",\"type\":\"ResetTool\"},{\"attributes\":{},\"id\":\"f3978f47-4d77-4b98-a153-7fe5eceaba8b\",\"type\":\"HelpTool\"},{\"attributes\":{\"args\":{\"source\":{\"id\":\"8eec72d2-ffe0-406b-b6e5-c3e58dc5ae89\",\"type\":\"ColumnDataSource\"}},\"code\":\"var cb;\\ncb = function flx_cb (source, window) {\\n    var data, f, i, stub1_, x, y;\\n    source = (source === undefined) ? source: source;\\n    window = (window === undefined) ? null: window;\\n    data = source.data;\\n    f = cb_obj.value;\\n    stub1_ = [data[\\\"x\\\"], data[\\\"y\\\"]];\\n    x = stub1_[0];y = stub1_[1];\\n    for (i = 0; i < x.length; i += 1) {\\n        y[i] = window.Math.pow(x[i], f);\\n    }\\n    source.change.emit();\\n    return null;\\n};\\ncb(source, window);\\n\"},\"id\":\"449dcb36-3a5a-4906-bbc4-46b39441ce1f\",\"type\":\"CustomJS\"},{\"attributes\":{\"callback\":{\"id\":\"449dcb36-3a5a-4906-bbc4-46b39441ce1f\",\"type\":\"CustomJS\"},\"end\":4,\"start\":0.1,\"step\":0.1,\"title\":\"power\",\"value\":1},\"id\":\"bb13e52e-30cc-4956-913a-183516fb9446\",\"type\":\"Slider\"},{\"attributes\":{\"plot\":null,\"text\":\"\"},\"id\":\"774e2f75-75da-4359-9a38-88fdb718959d\",\"type\":\"Title\"},{\"attributes\":{\"callback\":null,\"data\":{\"x\":[0.0,0.05,0.1,0.15000000000000002,0.2,0.25,0.30000000000000004,0.35000000000000003,0.4,0.45,0.5,0.55,0.6000000000000001,0.65,0.7000000000000001,0.75,0.8,0.8500000000000001,0.9,0.9500000000000001,1.0,1.05,1.1,1.1500000000000001,1.2000000000000002,1.25,1.3,1.35,1.4000000000000001,1.4500000000000002,1.5,1.55,1.6,1.6500000000000001,1.7000000000000002,1.75,1.8,1.85,1.9000000000000001,1.9500000000000002,2.0,2.0500000000000003,2.1,2.15,2.2,2.25,2.3000000000000003,2.35,2.4000000000000004,2.45,2.5,2.5500000000000003,2.6,2.6500000000000004,2.7,2.75,2.8000000000000003,2.85,2.9000000000000004,2.95,3.0,3.0500000000000003,3.1,3.1500000000000004,3.2,3.25,3.3000000000000003,3.35,3.4000000000000004,3.45,3.5,3.5500000000000003,3.6,3.6500000000000004,3.7,3.75,3.8000000000000003,3.85,3.9000000000000004,3.95,4.0,4.05,4.1000000000000005,4.15,4.2,4.25,4.3,4.3500000000000005,4.4,4.45,4.5,4.55,4.6000000000000005,4.65,4.7,4.75,4.800000000000001,4.8500000000000005,4.9,4.95,5.0,5.050000000000001,5.1000000000000005,5.15,5.2,5.25,5.300000000000001,5.3500000000000005,5.4,5.45,5.5,5.550000000000001,5.6000000000000005,5.65,5.7,5.75,5.800000000000001,5.8500000000000005,5.9,5.95,6.0,6.050000000000001,6.1000000000000005,6.15,6.2,6.25,6.300000000000001,6.3500000000000005,6.4,6.45,6.5,6.550000000000001,6.6000000000000005,6.65,6.7,6.75,6.800000000000001,6.8500000000000005,6.9,6.95,7.0,7.050000000000001,7.1000000000000005,7.15,7.2,7.25,7.300000000000001,7.3500000000000005,7.4,7.45,7.5,7.550000000000001,7.6000000000000005,7.65,7.7,7.75,7.800000000000001,7.8500000000000005,7.9,7.95,8.0,8.05,8.1,8.15,8.200000000000001,8.25,8.3,8.35,8.4,8.450000000000001,8.5,8.55,8.6,8.65,8.700000000000001,8.75,8.8,8.85,8.9,8.950000000000001,9.0,9.05,9.1,9.15,9.200000000000001,9.25,9.3,9.35,9.4,9.450000000000001,9.5,9.55,9.600000000000001,9.65,9.700000000000001,9.75,9.8,9.850000000000001,9.9,9.950000000000001],\"y\":[0.0,0.05,0.1,0.15000000000000002,0.2,0.25,0.30000000000000004,0.35000000000000003,0.4,0.45,0.5,0.55,0.6000000000000001,0.65,0.7000000000000001,0.75,0.8,0.8500000000000001,0.9,0.9500000000000001,1.0,1.05,1.1,1.1500000000000001,1.2000000000000002,1.25,1.3,1.35,1.4000000000000001,1.4500000000000002,1.5,1.55,1.6,1.6500000000000001,1.7000000000000002,1.75,1.8,1.85,1.9000000000000001,1.9500000000000002,2.0,2.0500000000000003,2.1,2.15,2.2,2.25,2.3000000000000003,2.35,2.4000000000000004,2.45,2.5,2.5500000000000003,2.6,2.6500000000000004,2.7,2.75,2.8000000000000003,2.85,2.9000000000000004,2.95,3.0,3.0500000000000003,3.1,3.1500000000000004,3.2,3.25,3.3000000000000003,3.35,3.4000000000000004,3.45,3.5,3.5500000000000003,3.6,3.6500000000000004,3.7,3.75,3.8000000000000003,3.85,3.9000000000000004,3.95,4.0,4.05,4.1000000000000005,4.15,4.2,4.25,4.3,4.3500000000000005,4.4,4.45,4.5,4.55,4.6000000000000005,4.65,4.7,4.75,4.800000000000001,4.8500000000000005,4.9,4.95,5.0,5.050000000000001,5.1000000000000005,5.15,5.2,5.25,5.300000000000001,5.3500000000000005,5.4,5.45,5.5,5.550000000000001,5.6000000000000005,5.65,5.7,5.75,5.800000000000001,5.8500000000000005,5.9,5.95,6.0,6.050000000000001,6.1000000000000005,6.15,6.2,6.25,6.300000000000001,6.3500000000000005,6.4,6.45,6.5,6.550000000000001,6.6000000000000005,6.65,6.7,6.75,6.800000000000001,6.8500000000000005,6.9,6.95,7.0,7.050000000000001,7.1000000000000005,7.15,7.2,7.25,7.300000000000001,7.3500000000000005,7.4,7.45,7.5,7.550000000000001,7.6000000000000005,7.65,7.7,7.75,7.800000000000001,7.8500000000000005,7.9,7.95,8.0,8.05,8.1,8.15,8.200000000000001,8.25,8.3,8.35,8.4,8.450000000000001,8.5,8.55,8.6,8.65,8.700000000000001,8.75,8.8,8.85,8.9,8.950000000000001,9.0,9.05,9.1,9.15,9.200000000000001,9.25,9.3,9.35,9.4,9.450000000000001,9.5,9.55,9.600000000000001,9.65,9.700000000000001,9.75,9.8,9.850000000000001,9.9,9.950000000000001]},\"selected\":{\"id\":\"4803ff53-cdae-47e3-ab3f-2005e4425f31\",\"type\":\"Selection\"},\"selection_policy\":{\"id\":\"71b0ad33-5ac2-40bf-b843-706307f2d5fe\",\"type\":\"UnionRenderers\"}},\"id\":\"8eec72d2-ffe0-406b-b6e5-c3e58dc5ae89\",\"type\":\"ColumnDataSource\"},{\"attributes\":{},\"id\":\"b9496822-03b6-413c-8b22-331961c9e11e\",\"type\":\"BasicTickFormatter\"},{\"attributes\":{\"below\":[{\"id\":\"967aca4b-eef4-4da4-9b40-e51c7d4d7157\",\"type\":\"LinearAxis\"}],\"left\":[{\"id\":\"83e463e7-f3af-4441-b59e-6d0118a3b851\",\"type\":\"LinearAxis\"}],\"plot_height\":400,\"plot_width\":400,\"renderers\":[{\"id\":\"967aca4b-eef4-4da4-9b40-e51c7d4d7157\",\"type\":\"LinearAxis\"},{\"id\":\"6c81cb9a-5497-43fc-a506-7727ede22245\",\"type\":\"Grid\"},{\"id\":\"83e463e7-f3af-4441-b59e-6d0118a3b851\",\"type\":\"LinearAxis\"},{\"id\":\"d4e13325-4eda-4865-aef6-33ee70ef3740\",\"type\":\"Grid\"},{\"id\":\"31515f83-0662-4f10-ba1b-f00dff2f18ac\",\"type\":\"BoxAnnotation\"},{\"id\":\"e97cf580-57c8-458a-a41f-84dbd04b8749\",\"type\":\"GlyphRenderer\"}],\"title\":{\"id\":\"774e2f75-75da-4359-9a38-88fdb718959d\",\"type\":\"Title\"},\"toolbar\":{\"id\":\"06106cdd-9dcf-4cb2-9de9-acb2996faed8\",\"type\":\"Toolbar\"},\"x_range\":{\"id\":\"47c6865b-6be1-4682-a47f-411183ab47ef\",\"type\":\"DataRange1d\"},\"x_scale\":{\"id\":\"5e224a02-2547-4baf-a0bf-43986fa5b9de\",\"type\":\"LinearScale\"},\"y_range\":{\"id\":\"375c49fc-9edd-4135-9c06-318f536e85cf\",\"type\":\"DataRange1d\"},\"y_scale\":{\"id\":\"5c1b9b3f-7eac-4d93-9557-04ecafd502ac\",\"type\":\"LinearScale\"}},\"id\":\"ab8eed08-cdb6-4347-82b2-aa24365eee3e\",\"subtype\":\"Figure\",\"type\":\"Plot\"},{\"attributes\":{},\"id\":\"71b0ad33-5ac2-40bf-b843-706307f2d5fe\",\"type\":\"UnionRenderers\"},{\"attributes\":{},\"id\":\"4803ff53-cdae-47e3-ab3f-2005e4425f31\",\"type\":\"Selection\"},{\"attributes\":{\"plot\":{\"id\":\"ab8eed08-cdb6-4347-82b2-aa24365eee3e\",\"subtype\":\"Figure\",\"type\":\"Plot\"},\"ticker\":{\"id\":\"e65b932b-5e28-4a80-a7bd-8a7751f8c554\",\"type\":\"BasicTicker\"}},\"id\":\"6c81cb9a-5497-43fc-a506-7727ede22245\",\"type\":\"Grid\"},{\"attributes\":{\"formatter\":{\"id\":\"adb80a6d-7aca-41a1-bdf2-9aadcd1ea6b9\",\"type\":\"BasicTickFormatter\"},\"plot\":{\"id\":\"ab8eed08-cdb6-4347-82b2-aa24365eee3e\",\"subtype\":\"Figure\",\"type\":\"Plot\"},\"ticker\":{\"id\":\"e65b932b-5e28-4a80-a7bd-8a7751f8c554\",\"type\":\"BasicTicker\"}},\"id\":\"967aca4b-eef4-4da4-9b40-e51c7d4d7157\",\"type\":\"LinearAxis\"},{\"attributes\":{},\"id\":\"adb80a6d-7aca-41a1-bdf2-9aadcd1ea6b9\",\"type\":\"BasicTickFormatter\"},{\"attributes\":{\"source\":{\"id\":\"8eec72d2-ffe0-406b-b6e5-c3e58dc5ae89\",\"type\":\"ColumnDataSource\"}},\"id\":\"81d16d66-1888-4686-ad27-b06b34ca4bdc\",\"type\":\"CDSView\"}],\"root_ids\":[\"3f83f6d2-09dc-44ba-aae6-2587765f82ca\"]},\"title\":\"Bokeh Application\",\"version\":\"0.13.0\"}};\n",
       "  var render_items = [{\"docid\":\"c31e925a-3079-4a4e-9ff9-b31695a7e918\",\"roots\":{\"3f83f6d2-09dc-44ba-aae6-2587765f82ca\":\"3fe452c2-9041-4c17-bf2b-e2d58dd7ab8a\"}}];\n",
       "  root.Bokeh.embed.embed_items_notebook(docs_json, render_items);\n",
       "\n",
       "  }\n",
       "  if (root.Bokeh !== undefined) {\n",
       "    embed_document(root);\n",
       "  } else {\n",
       "    var attempts = 0;\n",
       "    var timer = setInterval(function(root) {\n",
       "      if (root.Bokeh !== undefined) {\n",
       "        embed_document(root);\n",
       "        clearInterval(timer);\n",
       "      }\n",
       "      attempts++;\n",
       "      if (attempts > 100) {\n",
       "        console.log(\"Bokeh: ERROR: Unable to run BokehJS code because BokehJS library is missing\")\n",
       "        clearInterval(timer);\n",
       "      }\n",
       "    }, 10, root)\n",
       "  }\n",
       "})(window);"
      ],
      "application/vnd.bokehjs_exec.v0+json": ""
     },
     "metadata": {
      "application/vnd.bokehjs_exec.v0+json": {
       "id": "3f83f6d2-09dc-44ba-aae6-2587765f82ca"
      }
     },
     "output_type": "display_data"
    }
   ],
   "source": [
    "from bokeh.layouts import column\n",
    "from bokeh.models import CustomJS, ColumnDataSource, Slider\n",
    "from bokeh.plotting import figure\n",
    "\n",
    "x = [x*0.05 for x in range(0, 200)]\n",
    "y = x\n",
    "\n",
    "source = ColumnDataSource(data=dict(x=x, y=y))\n",
    "\n",
    "plot = figure(plot_width=400, plot_height=400)\n",
    "plot.line('x', 'y', source=source, line_width=3, line_alpha=0.6)\n",
    "\n",
    "def callback(source=source, window=None):\n",
    "    data = source.data\n",
    "    f = cb_obj.value\n",
    "    x, y = data['x'], data['y']\n",
    "    for i in range(len(x)):\n",
    "        y[i] = window.Math.pow(x[i], f)\n",
    "    source.change.emit()\n",
    "\n",
    "slider = Slider(start=0.1, end=4, value=1, step=.1, title=\"power\",\n",
    "                callback=CustomJS.from_py_func(callback))\n",
    "\n",
    "layout = column(slider, plot)\n",
    "\n",
    "show(layout)"
   ]
  },
  {
   "cell_type": "markdown",
   "metadata": {},
   "source": [
    "### CustomJS for Selections\n",
    "Bokeh also provides the means to specify the same kind of callback to be executed whenever a selection changes. As a simple demonstration, the example below simply copies selected points on the first plot to the second. However, more sophisticated actions and computations are easily constructed in a similar way."
   ]
  },
  {
   "cell_type": "code",
   "execution_count": 18,
   "metadata": {},
   "outputs": [
    {
     "data": {
      "text/html": [
       "\n",
       "\n",
       "\n",
       "\n",
       "\n",
       "\n",
       "  <div class=\"bk-root\" id=\"5b859199-972d-4bc4-bdce-130d783edac0\"></div>\n"
      ]
     },
     "metadata": {},
     "output_type": "display_data"
    },
    {
     "data": {
      "application/javascript": [
       "(function(root) {\n",
       "  function embed_document(root) {\n",
       "    \n",
       "  var docs_json = {\"ae456f1a-332b-41e1-b91c-66b4b015e080\":{\"roots\":{\"references\":[{\"attributes\":{\"plot\":null,\"text\":\"Select Here\"},\"id\":\"b78a02f5-2840-43a3-8ce4-4804693534f1\",\"type\":\"Title\"},{\"attributes\":{},\"id\":\"16ebdbbd-a575-4aea-acc1-b0cfd5bf5b2e\",\"type\":\"Selection\"},{\"attributes\":{},\"id\":\"c5b2c51b-2222-4d64-b6bf-3d70dc6bce92\",\"type\":\"Selection\"},{\"attributes\":{},\"id\":\"cfb0e3de-1e0c-41ad-b1fb-b26e756408f0\",\"type\":\"UnionRenderers\"},{\"attributes\":{},\"id\":\"44a00ad9-b73d-4f02-b9f5-bf28a21f269a\",\"type\":\"BasicTickFormatter\"},{\"attributes\":{\"data_source\":{\"id\":\"d380d55c-062b-4972-b4c4-0bb44681b11c\",\"type\":\"ColumnDataSource\"},\"glyph\":{\"id\":\"29c0990c-b604-492c-8387-8ce047a6a054\",\"type\":\"Circle\"},\"hover_glyph\":null,\"muted_glyph\":null,\"nonselection_glyph\":{\"id\":\"55ce25b6-ea3d-4dc8-89e7-b6431ad6368c\",\"type\":\"Circle\"},\"selection_glyph\":null,\"view\":{\"id\":\"9099c2b0-b2ac-47aa-80e9-3fbf468ba7fd\",\"type\":\"CDSView\"}},\"id\":\"89354936-6f08-4310-9d0d-1d5339632b25\",\"type\":\"GlyphRenderer\"},{\"attributes\":{\"fill_alpha\":{\"value\":0.1},\"fill_color\":{\"value\":\"#1f77b4\"},\"line_alpha\":{\"value\":0.1},\"line_color\":{\"value\":\"#1f77b4\"},\"x\":{\"field\":\"x\"},\"y\":{\"field\":\"y\"}},\"id\":\"55ce25b6-ea3d-4dc8-89e7-b6431ad6368c\",\"type\":\"Circle\"},{\"attributes\":{\"fill_alpha\":{\"value\":0.6},\"fill_color\":{\"value\":\"#1f77b4\"},\"line_alpha\":{\"value\":0.6},\"line_color\":{\"value\":\"#1f77b4\"},\"x\":{\"field\":\"x\"},\"y\":{\"field\":\"y\"}},\"id\":\"29c0990c-b604-492c-8387-8ce047a6a054\",\"type\":\"Circle\"},{\"attributes\":{},\"id\":\"f6d680df-021f-478a-abfa-bd0cfde76af1\",\"type\":\"BasicTickFormatter\"},{\"attributes\":{\"dimension\":1,\"plot\":{\"id\":\"06d3aad8-411e-44df-9f6a-4eb4421d4065\",\"subtype\":\"Figure\",\"type\":\"Plot\"},\"ticker\":{\"id\":\"d471c3d5-4121-4518-b81f-083a7333f013\",\"type\":\"BasicTicker\"}},\"id\":\"c95c6dc0-2aa5-407c-a374-e0cad8fee58c\",\"type\":\"Grid\"},{\"attributes\":{\"formatter\":{\"id\":\"44a00ad9-b73d-4f02-b9f5-bf28a21f269a\",\"type\":\"BasicTickFormatter\"},\"plot\":{\"id\":\"06d3aad8-411e-44df-9f6a-4eb4421d4065\",\"subtype\":\"Figure\",\"type\":\"Plot\"},\"ticker\":{\"id\":\"6411b9fa-36e3-46f1-aed7-16ab5f298efd\",\"type\":\"BasicTicker\"}},\"id\":\"43d335a0-7ae0-4965-b04a-b8ed75c44ff3\",\"type\":\"LinearAxis\"},{\"attributes\":{\"plot\":{\"id\":\"06d3aad8-411e-44df-9f6a-4eb4421d4065\",\"subtype\":\"Figure\",\"type\":\"Plot\"},\"ticker\":{\"id\":\"6411b9fa-36e3-46f1-aed7-16ab5f298efd\",\"type\":\"BasicTicker\"}},\"id\":\"23992959-4fbe-4654-b985-f1d47ef7983d\",\"type\":\"Grid\"},{\"attributes\":{\"callback\":null,\"overlay\":{\"id\":\"cd7b959e-8811-4104-87cb-4dd9ef95ba33\",\"type\":\"PolyAnnotation\"}},\"id\":\"57274dc6-d5fd-4f77-807f-eff625936e27\",\"type\":\"LassoSelectTool\"},{\"attributes\":{},\"id\":\"13ffadb2-6e40-48d5-97a0-4be2cddf6dd3\",\"type\":\"LinearScale\"},{\"attributes\":{},\"id\":\"877d7e59-fa1c-4185-99ff-015305be1770\",\"type\":\"BasicTickFormatter\"},{\"attributes\":{\"callback\":null},\"id\":\"6329697f-77ab-4517-976f-b904c8661d64\",\"type\":\"Range1d\"},{\"attributes\":{\"formatter\":{\"id\":\"877d7e59-fa1c-4185-99ff-015305be1770\",\"type\":\"BasicTickFormatter\"},\"plot\":{\"id\":\"06d3aad8-411e-44df-9f6a-4eb4421d4065\",\"subtype\":\"Figure\",\"type\":\"Plot\"},\"ticker\":{\"id\":\"d471c3d5-4121-4518-b81f-083a7333f013\",\"type\":\"BasicTicker\"}},\"id\":\"a3855526-8480-40fb-8625-cb2d831e08be\",\"type\":\"LinearAxis\"},{\"attributes\":{\"below\":[{\"id\":\"43d335a0-7ae0-4965-b04a-b8ed75c44ff3\",\"type\":\"LinearAxis\"}],\"left\":[{\"id\":\"a3855526-8480-40fb-8625-cb2d831e08be\",\"type\":\"LinearAxis\"}],\"plot_height\":400,\"plot_width\":400,\"renderers\":[{\"id\":\"43d335a0-7ae0-4965-b04a-b8ed75c44ff3\",\"type\":\"LinearAxis\"},{\"id\":\"23992959-4fbe-4654-b985-f1d47ef7983d\",\"type\":\"Grid\"},{\"id\":\"a3855526-8480-40fb-8625-cb2d831e08be\",\"type\":\"LinearAxis\"},{\"id\":\"c95c6dc0-2aa5-407c-a374-e0cad8fee58c\",\"type\":\"Grid\"},{\"id\":\"89354936-6f08-4310-9d0d-1d5339632b25\",\"type\":\"GlyphRenderer\"}],\"title\":{\"id\":\"8339c0f4-fd59-41f2-a1cb-0282ec30acf0\",\"type\":\"Title\"},\"toolbar\":{\"id\":\"5d31426f-0804-4cb1-acfa-17a6c70c0788\",\"type\":\"Toolbar\"},\"x_range\":{\"id\":\"6329697f-77ab-4517-976f-b904c8661d64\",\"type\":\"Range1d\"},\"x_scale\":{\"id\":\"93b06c15-8ffd-41e5-970d-468257b76dee\",\"type\":\"LinearScale\"},\"y_range\":{\"id\":\"d331b76a-3fa8-4b6f-bd54-17ae8789259f\",\"type\":\"Range1d\"},\"y_scale\":{\"id\":\"13ffadb2-6e40-48d5-97a0-4be2cddf6dd3\",\"type\":\"LinearScale\"}},\"id\":\"06d3aad8-411e-44df-9f6a-4eb4421d4065\",\"subtype\":\"Figure\",\"type\":\"Plot\"},{\"attributes\":{},\"id\":\"6411b9fa-36e3-46f1-aed7-16ab5f298efd\",\"type\":\"BasicTicker\"},{\"attributes\":{\"data_source\":{\"id\":\"bf4739c3-3828-4ccf-9f3b-a2d2d2e34dca\",\"type\":\"ColumnDataSource\"},\"glyph\":{\"id\":\"b03cb1ed-e2ad-4af3-a6bb-aa63f2bd6036\",\"type\":\"Circle\"},\"hover_glyph\":null,\"muted_glyph\":null,\"nonselection_glyph\":{\"id\":\"c6b97da3-428b-4595-a4cd-540d1379d0b6\",\"type\":\"Circle\"},\"selection_glyph\":null,\"view\":{\"id\":\"6221cda9-03f6-4131-8f55-56a569ec84c1\",\"type\":\"CDSView\"}},\"id\":\"7b93132e-0495-4b59-9262-ca4abd146058\",\"type\":\"GlyphRenderer\"},{\"attributes\":{\"active_drag\":\"auto\",\"active_inspect\":\"auto\",\"active_multi\":null,\"active_scroll\":\"auto\",\"active_tap\":\"auto\",\"tools\":[{\"id\":\"57274dc6-d5fd-4f77-807f-eff625936e27\",\"type\":\"LassoSelectTool\"}]},\"id\":\"8346964c-f1b7-413e-8d80-2a0fdf07897b\",\"type\":\"Toolbar\"},{\"attributes\":{\"fill_alpha\":{\"value\":0.6},\"fill_color\":{\"value\":\"#1f77b4\"},\"line_alpha\":{\"value\":0.6},\"line_color\":{\"value\":\"#1f77b4\"},\"x\":{\"field\":\"x\"},\"y\":{\"field\":\"y\"}},\"id\":\"b03cb1ed-e2ad-4af3-a6bb-aa63f2bd6036\",\"type\":\"Circle\"},{\"attributes\":{\"plot\":null,\"text\":\"Watch Here\"},\"id\":\"8339c0f4-fd59-41f2-a1cb-0282ec30acf0\",\"type\":\"Title\"},{\"attributes\":{\"callback\":null},\"id\":\"d331b76a-3fa8-4b6f-bd54-17ae8789259f\",\"type\":\"Range1d\"},{\"attributes\":{\"source\":{\"id\":\"d380d55c-062b-4972-b4c4-0bb44681b11c\",\"type\":\"ColumnDataSource\"}},\"id\":\"9099c2b0-b2ac-47aa-80e9-3fbf468ba7fd\",\"type\":\"CDSView\"},{\"attributes\":{\"callback\":null},\"id\":\"f3540673-9d1d-4b61-81f1-6b54a8146430\",\"type\":\"DataRange1d\"},{\"attributes\":{\"active_drag\":\"auto\",\"active_inspect\":\"auto\",\"active_multi\":null,\"active_scroll\":\"auto\",\"active_tap\":\"auto\"},\"id\":\"5d31426f-0804-4cb1-acfa-17a6c70c0788\",\"type\":\"Toolbar\"},{\"attributes\":{\"callback\":{\"id\":\"cf69b3a3-5059-4ce0-92fe-328c00237d92\",\"type\":\"CustomJS\"},\"data\":{\"x\":[0.26410397812661357,0.1959085575104509,0.10486078663601894,0.3257950849015575,0.2958357602556144,0.3046087468884572,0.10048826130386179,0.771807673409106,0.21966845435025817,0.3469693225275854,0.8309258849107711,0.3922002503889187,0.2879475210030933,0.06392444450546941,0.5223741818354454,0.7993799446574451,0.6801659730824242,0.21722696220211146,0.8546326428731514,0.011464116971732774,0.6840479241438258,0.0708116820394804,0.6820887406679551,0.400496886390148,0.15789712068530415,0.7500235769877873,0.8293259244282734,0.21344759764815757,0.04405614631718191,0.1250114487272792,0.5525024131243378,0.007399003289598416,0.3412341200982527,0.25320952448229195,0.12063030256307705,0.1739619513197962,0.9641393252125916,0.4148521020295812,0.06185193069823347,0.43643095417411304,0.8106440164291062,0.3377896294883782,0.7251917320786837,0.9793966529874156,0.6535856970623439,0.35041010031997943,0.1366020144322455,0.2579794536201221,0.921493736698232,0.8170797969507011,0.7145121307487915,0.14966690873826782,0.14517412891228165,0.6716037819399574,0.8711435754481819,0.6131404464551776,0.1504148213014448,0.4341047021154111,0.7718618944563144,0.8797381790825299,0.12707703725759578,0.4925350112291531,0.31987804460421576,0.33586860671112195,0.8195245949030419,0.8746543981366719,0.6813977720334604,0.6100375936472642,0.30320881994306514,0.8565433441056355,0.328161922495664,0.9918141598070024,0.6915242321868394,0.044221717247210246,0.531820623449139,0.38523896791579004,0.09592478237218072,0.22074663654413018,0.923526875942908,0.6815622284076265,0.5615086889612618,0.8547652809019185,0.09478952177973099,0.7422081557062897,0.8683352724468806,0.7013038886480965,0.8563470569159425,0.7010526139912568,0.06766648513898543,0.6338745963433474,0.6924429467098169,0.8604172494597894,0.24351459024974953,0.6216857333999323,0.5154991493066486,0.7015358202451937,0.41789129270162073,0.3018251140348832,0.003002755967481674,0.6830329590698287,0.40611985937490325,0.7171001327169965,0.5528995497095187,0.3250791901981017,0.7825512717780743,0.9412363882000523,0.41919082351793713,0.7759365960478135,0.09383166032486734,0.04932816007177798,0.13800885234511484,0.3905990707274346,0.9031979797019729,0.6328019934583108,0.5336538541399386,0.8599983795389653,0.9254754712831942,0.4045587510029065,0.24283278252502805,0.24822801996559685,0.863996608813609,0.48267293688012536,0.8645861922542535,0.8756635107477586,0.1509749484531825,0.04880529951225154,0.05619287964096509,0.796183047698614,0.798237814443515,0.009165691856958258,0.015489751245421068,0.6303284376625232,0.441257052809384,0.21527838136886823,0.4696574559740826,0.3946561266638684,0.1711029702624195,0.8979048779570239,0.6032176938603493,0.26307361067271584,0.9135187739607359,0.09948704631514138,0.8028172419517652,0.05276718389714574,0.695182936967675,0.22960218089653572,0.9924480011029245,0.6131731036199832,0.6290325420409867,0.3099813956737316,0.38511271952009796,0.2006353324214658,0.7514021551199973,0.31346455881236857,0.03815954548760403,0.6658735235007803,0.9080462848629517,0.5585192609504539,0.6627672107139339,0.17916680750413683,0.29691609603241953,0.8492410624955087,0.6923045226519533,0.7548687568000362,0.8896752338763044,0.14186514147632134,0.9936568558462344,0.22377356779190383,0.7911795122612055,0.8516966501705462,0.5569285346235968,0.35925245291409635,0.13536402083182197,0.000823947897436228,0.29686583436961733,0.5340536385815746,0.5754555205231029,0.871448325596714,0.4309463564347261,0.29268087018524025,0.29959532291427804,0.3276276154182868,0.7384652204101614,0.5390916847751163,0.008063107616644749,0.025453538646243667,0.43167032145938566,0.5718980017121976,0.46435689096597,0.3509250292097179,0.1291229790674283,0.8334697158184333,0.624764269803559,0.11673448947010046,0.9285263264392756,0.8990089973010199,0.6347884193684743,0.768806611133149,0.47294072677166854,0.6648670164385744,0.1577629433074499,0.10112965812498953,0.5157496641114659,0.9040868905316615,0.7199039821469553,0.200274047586671,0.4823866814556077,0.36230323097596395,0.9848969006755796,0.15990936302394654,0.3668716160294332,0.2121899957581136,0.2141912812698349,0.15831901530803572,0.75162814178865,0.17903508365055498,0.09799753450302551,0.9660682343243068,0.29861712213412506,0.4496622936806115,0.07472188578391747,0.9141847045441102,0.28167287758721393,0.9054679491182401,0.455701372854624,0.16865986624603435,0.49729483110854067,0.20789497835955484,0.47386002183233333,0.5192828137793757,0.2958618810520366,0.524484514768733,0.27087287875874244,0.7032550770300882,0.5884277531192058,0.23366153514338217,0.506275974239981,0.6190280178445623,0.6248721601142158,0.4487920596287399,0.22505713280253292,0.36986623676079067,0.8402528489694159,0.9352138639701324,0.15289531370150722,0.26677443459857786,0.4795224233193961,0.04833288797068569,0.9946687003887059,0.6042084850883156,0.3507383595339689,0.3125821966495139,0.4028224047315748,0.5395508413772149,0.22154645427297648,0.9234709604560579,0.2515644394217701,0.9724524658310767,0.7316046227908546,0.20069581859681374,0.825214201976758,0.9362483215187656,0.9839902623693461,0.2990465550420306,0.9135989857577703,0.890970087766391,0.4895129311043368,0.5853673073891514,0.8113588085671323,0.4473596148589636,0.19118107912611193,0.23850546990954358,0.7055434553754472,0.5348924614961379,0.7937160649745202,0.6060981734752975,0.43600255343229244,0.9444594749025876,0.22014509785308223,0.7187092762641288,0.5150284054987456,0.9717938599287432,0.8560782844461174,0.5550214784004308,0.6321252606596501,0.4727629410370754,0.3804758402457993,0.9127052591226932,0.6401426793120102,0.5120197295957648,0.37752210343146797,0.7976427332044125,0.8867338435324836,0.43788016364102866,0.06821756799169287,0.9366979161926131,0.15836638296382588,0.5124596263024699,0.8585518869416984,0.1422620063204637,0.5153214689854477,0.8018005997941591,0.46830343360148363,0.7725577746997002,0.6773411755504777,0.15795888013531767,0.46326725582295436,0.6345610927892725,0.9614071242408979,0.3035129614714245,0.8524797756151037,0.5538150835165894,0.9739562690691497,0.3843222191403314,0.8350929766183002,0.4239204048583508,0.33438487733721745,0.7553188348655212,0.6383920014501481,0.628894220600867,0.3827840828065596,0.9924996875783982,0.37029744380651286,0.7697258808540857,0.5595325416770301,0.18894911957891214,0.4967074809226847,0.08381964014097043,0.8462286197854058,0.6244968248950988,0.7861358271973327,0.03256519141267833,0.7693954200995312,0.10018715586398863,0.8666060907529396,0.683424289063769,0.10891599943966146,0.25372484389573813,0.028639811669975646,0.9312905145273658,0.8828017342198274,0.7634111221284307,0.1733676877874114,0.5940404597740132,0.9045508506031151,0.2594464144956049,0.8613705750591683,0.8788845994416854,0.5809709803001241,0.47688531346381613,0.23590794594600017,0.8992016269461068,0.9014001476054694,0.9671511770663462,0.6056344969093608,0.7899630388728783,0.8624352006470765,0.16923381323643427,0.06841694712290258,0.2688288492889628,0.1799924788436198,0.2369681919341089,0.01074349569541666,0.10870049061896436,0.6984527318252036,0.16652530124006604,0.6741433226233582,0.07561246601263472,0.6603814776474963,0.9845054895989804,0.04551902711940492,0.7614360866043163,0.6550681635324118,0.17982448619380254,0.8764942559881823,0.3851875920394785,0.7014546921025212,0.6887553902158072,0.23722104854135884,0.8166746873020183,0.9148789630023048,0.7389917443577178,0.567255368151638,0.2159714162871217,0.6785811829194202,0.2866154756374495,0.0015352200008130756,0.36657714375172845,0.8835359687679353,0.5512227383097476,0.5282953478550941,0.6459186700033814,0.5155598001496197,0.8245042182435528,0.806274163539949,0.7256388526042069,0.5870371827450525,0.3084180658250403,0.8714289539147498,0.3068819617248172,0.05655122863701989,0.951972628684451,0.530456328551295,0.4798104174887311,0.6491201955375372,0.3004615947595376,0.8065556021948226,0.43902001485682585,0.5177944745502988,0.9224790414662667,0.5276338374215068,0.9420252278793873,0.4244283020692208,0.08259104992218058,0.08796418547757745,0.5104326581827485,0.48424446911271213,0.14901053306856393,0.29229383815278887,0.5715856843921772,0.9514291197002724,0.9693464964113354,0.738948805346224,0.7322313745133642,0.38700497026365444,0.25904913095355564,0.682527330834185,0.8688613304747483,0.33499163129503207,0.35974334616885406,0.4732069956168501,0.15069296192498594,0.7568821546046725,0.767195656217045,0.8964141167879558,0.007925849318562772,0.1161995628357908,0.7918649546928991,0.36042096300021575,0.8261938713196851,0.4770674556929686,0.8576614839487062,0.0858173751971274,0.8112499027349575,0.5414755656678365,0.6979118383275686,0.9736948807601487,0.1960269972996883,0.26316196029838856,0.12806271424896398,0.20892101790076478,0.13410950790026377,0.8381982618886382,0.5514295563684455,0.20875195669673519,0.9818218244176729,0.12240193524062248,0.4198582985821169,0.20407337424100147,0.5001669266245912,0.6815714450914889,0.370920718196166,0.49923116498092557,0.9093604969285242,0.07908941857178298,0.307178913024316,0.1926440029018116,0.744952869307187,0.1404551560960715,0.7239543341333939,0.5371738773481316,0.6452938146297406,0.3118449116430898,0.919934676497586,0.39957133591698757,0.19981542093120264,0.8667746714544198,0.9433819054455896,0.30129697386616383,0.7297935200385421,0.6490324672259971,0.7220431086467213,0.7206035665771761,0.6594163472549256,0.34384724622144025,0.6856323177092781,0.3516114672426427,0.11007002082750295,0.8286052191269161,0.9885829976830757,0.5109172304539569,0.8845807351087107,0.8649340421065363,0.9763385673235139,0.8692443225309272,0.6711617161512684,0.9713264606649423,0.017492536788958568,0.6693391902797059,0.6611513261032385],\"y\":[0.8364786467418865,0.10464868551033946,0.36916917124424087,0.9497463457319011,0.8462324276586303,0.20416878458307874,0.49920308796974644,0.621415770891613,0.25253835107142464,0.8851193153123519,0.19227759708330872,0.940273385124971,0.8522605659321807,0.32438412409271444,0.1611212990308858,0.15011998381440905,0.2756488600902379,0.11068641829419612,0.0454969680405104,0.09638718818903469,0.7057963916890054,0.8507624320093562,0.6328283363594008,0.7437877198099999,0.5101722548063525,0.9538265181776556,0.655966630302441,0.9728708566524821,0.9839930610538988,0.1570142090681108,0.11258200499518467,0.487940396212002,0.9975256114304827,0.13423787406177523,0.1731683429558637,0.3020851465277423,0.9827004635540665,0.5241484651951134,0.12991374680281487,0.3051292082542384,0.8043433923749767,0.9140496122749837,0.630672434755113,0.6692676049960159,0.77154828899473,0.8448747747058203,0.2634280407422115,0.9141596137705377,0.23186167337810049,0.09678964380220334,0.7832458996768916,0.8736733542120907,0.2940537372103873,0.9575247169794092,0.8467793938266777,0.8221136258866928,0.4371636862207625,0.6302727871501085,0.8491908428805391,0.5587415394023433,0.923740217064994,0.6253909185773937,0.5650161518960092,0.9360211666366763,0.24458361346928148,0.5532130856785714,0.9509861897858907,0.4874972802822045,0.6917508612831037,0.9737160222336353,0.7052907325575036,0.7826691042671899,0.7374045482284226,0.04211160456241225,0.2697272273809438,0.2757712020284261,0.7462204972260247,0.3867660880986523,0.31024566501789275,0.3915623570283465,0.03186710572427154,0.055366814787534024,0.8278073931435951,0.592959139357333,0.7468121481788791,0.7275882631196448,0.9242641535837745,0.23325765797555875,0.058908595025859545,0.4025841780058006,0.13796242528469815,0.19014095179280888,0.853146559834896,0.6818405821804848,0.031077804219870053,0.9588430440687841,0.9455647727173236,0.20197894078096468,0.7926595338097153,0.6359036682916012,0.8168882574572128,0.16732327976778028,0.16565345540931908,0.010721470253945986,0.6296419539733642,0.45642838901574556,0.6695112000877644,0.4590495573272738,0.3359994125857393,0.38837819084120273,0.1944923831121611,0.5850171736799971,0.7890828804735917,0.9443687195943091,0.5763682327553851,0.22374400805405092,0.46690666196792663,0.3288306293549432,0.6603878626864069,0.8767837922170024,0.5745852645819549,0.47933974563944204,0.6774516937903506,0.804105114110642,0.5800590866993267,0.5644550422869177,0.9529215192826079,0.16258047864265346,0.6582079105785966,0.45215602747666883,0.41050383176294003,0.5075944192101537,0.10659677559114866,0.3505844963880722,0.4345721405036598,0.4644262372553788,0.7748000162297788,0.24233082027192399,0.7298434938287537,0.20280564340312424,0.9211098465332214,0.3302575952097827,0.8287275444398051,0.3861817950799714,0.3434333232650246,0.8320222698152854,0.48427058673617074,0.7293873927330531,0.0008549329368612302,0.8717389608131861,0.44278124251824447,0.18318638027938905,0.1460675811974853,0.8867601051942448,0.016455683418715616,0.35582360779950484,0.6271897414765628,0.9712307446722923,0.42895751497408485,0.5898313750769005,0.7919965011060124,0.14251644249716489,0.5086014488271219,0.8789894524875863,0.9599949483749545,0.34407435634514794,0.5537115830004693,0.7269779462051166,0.26101376440972246,0.05410375066181139,0.30246017391543645,0.933723223943642,0.7249308210394783,0.6811301422578172,0.23784148129936566,0.7362316541263879,0.9033179903142697,0.22385884856191784,0.737015273850694,0.5039911165933365,0.1906247081112954,0.5661698855125356,0.0009612684274662442,0.19170714287135981,0.372786814086458,0.9918391304839937,0.6033314636467151,0.5718022590263652,0.8283660405522477,0.9841562110246421,0.7466892433081177,0.012636468666865297,0.5666806895050647,0.5160053337741749,0.34668620491337854,0.28995721305974786,0.7158409909531265,0.5233977718413302,0.5904032311590252,0.506416495026122,0.6276046663325793,0.902681591372663,0.4248526244563994,0.10081917729797119,0.5961311771434412,0.1555332947153899,0.7547210400401525,0.124357093752412,0.432766590349293,0.4222637437608543,0.038863991679414234,0.6779027328863251,0.774062409208264,0.008946259720817418,0.3003964695661354,0.8113493882953952,0.04425834264943507,0.1601249444376882,0.8854724696632508,0.49644953956430893,0.9868088526238702,0.9574453941611222,0.7024880186257315,0.4145073322817132,0.4585734365104799,0.07589080650625146,0.5581608208362675,0.9517384766013985,0.5498025836125532,0.6804575964418819,0.6151105648359957,0.12922752959891048,0.07619520723153372,0.7510382390175823,0.8595546290273922,0.5616164331443624,0.9123981627737762,0.5489518833065276,0.9397914754859428,0.9978151973461109,0.9880204598229979,0.8924875473570432,0.8768848176855778,0.7993374246254705,0.25813581127875096,0.7368314625034035,0.11470221275376413,0.5038388873807204,0.6253270407946911,0.14273602388372364,0.011082961943507108,0.6803883915807966,0.2957878074232132,0.6558714044232032,0.24783933810496372,0.459519108186623,0.5149724447507577,0.7180299976546072,0.47729790472392863,0.30631583399484574,0.9605992588580029,0.7874281113365514,0.4724163856568825,0.7586753796183442,0.8864707626087025,0.340458754495527,0.17565879442815502,0.04337216643641917,0.014046824673894842,0.8709449448001223,0.41922041378619024,0.3969652587650787,0.6479344848706157,0.6180732771968509,0.19452089854730104,0.19310753360699207,0.9693499336583048,0.9447245780451837,0.35931147209034986,0.8508846484327766,0.3126592670655053,0.3181100912195487,0.9907215579688015,0.9618672213240723,0.6537997947565486,0.4400226784110258,0.1381531311537002,0.2853456215034814,0.5506864178544962,0.13715446039754664,0.3890867202601803,0.8666963666417301,0.20319512155023878,0.9550399398466161,0.04843719428022231,0.8083622367007078,0.299845805263121,0.960689147123154,0.40285271031943415,0.7345746377346587,0.9397349568620428,0.8846558141294436,0.7709865465615576,0.6066366258345282,0.5797648494434487,0.9700874748377109,0.27821869110016073,0.027774063886269906,0.3702710020737421,0.05523967033484278,0.8665699112084453,0.5065435210027915,0.24176584693632064,0.6258749686534116,0.744990296798711,0.18965976301076204,0.5598472455116594,0.4023588195832122,0.08585410979239416,0.3156038949638763,0.8007879054379236,0.02932360485278318,0.11364954901524738,0.904388936064338,0.8628075560691989,0.8900249622841202,0.2781429826947638,0.03940726661424865,0.1851840368210247,0.12715000787348263,0.47806199551844863,0.9565799292845072,0.9606474313854736,0.20598220643504717,0.1326956790195034,0.9524154448538206,0.5917251738310605,0.7711694510897664,0.039204206480849546,0.07370268793172319,0.045639101179579145,0.15484467842834548,0.22791726871781204,0.9959897919144,0.03010789364620603,0.7461784367607942,0.7599692531881007,0.37552672706859547,0.9637816235410543,0.8916027657786628,0.9165607232133881,0.1825223986319251,0.4197726198743571,0.5952876022211694,0.7052587619734915,0.996641292010645,0.2491663329526851,0.09847665615522305,0.7739447733280542,0.029624817517853952,0.4606528483545621,0.41516023443082994,0.33103536940435907,0.6428157840736627,0.677440533187592,0.23966757502398284,0.45261056548242873,0.40237336456604067,0.2420855753402691,0.13113303496692208,0.8546233614193657,0.6617614262169152,0.9175179283084444,0.7957260260300693,0.4823884598499273,0.40147523894352954,0.020438094578936084,0.47929396024614146,0.35766927689781647,0.8718814997450934,0.40076741005427574,0.9896063670401173,0.2998654597877942,0.6514176621870613,0.8529306380645414,0.48443264907841865,0.20163371454471246,0.9824100769751022,0.759967763888176,0.966030173239205,0.6548271438682239,0.18341453513035444,0.29563703796950114,0.2556110501713268,0.7157799841458364,0.5196099541533232,0.40039601343367526,0.13512759782825423,0.4046180370202396,0.17446308829870127,0.9733620408342778,0.4783736393325826,0.7461997830383024,0.2151571506672293,0.19016766649488293,0.8038016834743592,0.013829290382016635,0.28866532331243244,0.9760698499643917,0.43286519800863965,0.19018380571703264,0.2628194066028684,0.4967373385744356,0.6860531417041769,0.9610806575553092,0.9767874256458392,0.5652930754010534,0.07707720633924875,0.8203931584721142,0.7919596437168512,0.13853343345777613,0.242391777126167,0.7707651214113896,0.12290423704697506,0.09777756483283606,0.7412471641118695,0.43010996856112493,0.21988484605081537,0.6859822030024534,0.3874179633197655,0.42175873703738775,0.133243919680328,0.12686290194362315,0.44566086204483724,0.21066912346611144,0.9658234858923205,0.703101662294909,0.16586097207647132,0.15964080882411358,0.6054138651739551,0.11179321230338701,0.7759708364042242,0.8595513320631898,0.5097179860415451,0.6916980665097141,0.8679907117797682,0.6315167002618042,0.8113351027756285,0.26522710240164726,0.24000413733590065,0.6829460293722693,0.8365127503072152,0.08893379256597911,0.6012177071896384,0.4304399930843822,0.3990621001145913,0.06757182700876507,0.29926650609495076,0.18745719223951574,0.6195307956971832,0.014373435020274994,0.8949543868990907,0.019603128816883197,0.017879797891761973,0.9757565015687312,0.4714917393826378,0.43678128746104494,0.5584760816154113,0.9694451526204624,0.5120884840397267,0.08846121844419341,0.8003688737795667,0.5660625051917361,0.7635681654500652,0.5172772446577427,0.5419263578707209,0.578101429206227,0.2045234570432598,0.6079704908110444,0.5108027137802642,0.00045293099610854703,0.7760803091149846,0.3833345228668711,0.5812772895441101,0.10593858658096877,0.6982820391676996,0.9255352377363474,0.7365592702475408,0.7167548443502803,0.2537715119155346,0.1740438751930422,0.9574066640821122,0.13912493921737268,0.2515105543319941,0.9260801961780853,0.328650949212165,0.735505670698758,0.367259822391208,0.7372291754047665,0.31516335974806153]},\"selected\":{\"id\":\"c5b2c51b-2222-4d64-b6bf-3d70dc6bce92\",\"type\":\"Selection\"},\"selection_policy\":{\"id\":\"cfb0e3de-1e0c-41ad-b1fb-b26e756408f0\",\"type\":\"UnionRenderers\"}},\"id\":\"bf4739c3-3828-4ccf-9f3b-a2d2d2e34dca\",\"type\":\"ColumnDataSource\"},{\"attributes\":{\"formatter\":{\"id\":\"6ca48caf-643f-4e81-b2b1-24c0c91ceac7\",\"type\":\"BasicTickFormatter\"},\"plot\":{\"id\":\"cf216178-00da-4cbb-a579-0fe7607876ab\",\"subtype\":\"Figure\",\"type\":\"Plot\"},\"ticker\":{\"id\":\"8e838115-2a6e-4c88-89a5-05aa0a730828\",\"type\":\"BasicTicker\"}},\"id\":\"ab44927a-82a0-47c7-ad28-8a1708199aeb\",\"type\":\"LinearAxis\"},{\"attributes\":{},\"id\":\"6ca48caf-643f-4e81-b2b1-24c0c91ceac7\",\"type\":\"BasicTickFormatter\"},{\"attributes\":{\"below\":[{\"id\":\"ab44927a-82a0-47c7-ad28-8a1708199aeb\",\"type\":\"LinearAxis\"}],\"left\":[{\"id\":\"4f7f9094-c074-4bcc-a4e1-33e6cb796260\",\"type\":\"LinearAxis\"}],\"plot_height\":400,\"plot_width\":400,\"renderers\":[{\"id\":\"ab44927a-82a0-47c7-ad28-8a1708199aeb\",\"type\":\"LinearAxis\"},{\"id\":\"25b0901a-961a-4bb1-8966-0a37275013ba\",\"type\":\"Grid\"},{\"id\":\"4f7f9094-c074-4bcc-a4e1-33e6cb796260\",\"type\":\"LinearAxis\"},{\"id\":\"c6f04ea0-e2d7-4ef5-b922-d5dda537c0e6\",\"type\":\"Grid\"},{\"id\":\"cd7b959e-8811-4104-87cb-4dd9ef95ba33\",\"type\":\"PolyAnnotation\"},{\"id\":\"7b93132e-0495-4b59-9262-ca4abd146058\",\"type\":\"GlyphRenderer\"}],\"title\":{\"id\":\"b78a02f5-2840-43a3-8ce4-4804693534f1\",\"type\":\"Title\"},\"toolbar\":{\"id\":\"8346964c-f1b7-413e-8d80-2a0fdf07897b\",\"type\":\"Toolbar\"},\"x_range\":{\"id\":\"f3540673-9d1d-4b61-81f1-6b54a8146430\",\"type\":\"DataRange1d\"},\"x_scale\":{\"id\":\"d253c155-e033-4189-85be-ecc1295d6559\",\"type\":\"LinearScale\"},\"y_range\":{\"id\":\"685f007f-1b02-43e5-b66b-9979c27b7a15\",\"type\":\"DataRange1d\"},\"y_scale\":{\"id\":\"525f7d68-7a76-475c-b093-0b9822b06646\",\"type\":\"LinearScale\"}},\"id\":\"cf216178-00da-4cbb-a579-0fe7607876ab\",\"subtype\":\"Figure\",\"type\":\"Plot\"},{\"attributes\":{},\"id\":\"26d05ed5-c2e2-4e5e-8d4b-0cc6c01f9c92\",\"type\":\"UnionRenderers\"},{\"attributes\":{\"children\":[{\"id\":\"cf216178-00da-4cbb-a579-0fe7607876ab\",\"subtype\":\"Figure\",\"type\":\"Plot\"},{\"id\":\"06d3aad8-411e-44df-9f6a-4eb4421d4065\",\"subtype\":\"Figure\",\"type\":\"Plot\"}]},\"id\":\"86ba2d54-4a58-48ee-afad-22d05de22397\",\"type\":\"Row\"},{\"attributes\":{\"plot\":{\"id\":\"cf216178-00da-4cbb-a579-0fe7607876ab\",\"subtype\":\"Figure\",\"type\":\"Plot\"},\"ticker\":{\"id\":\"8e838115-2a6e-4c88-89a5-05aa0a730828\",\"type\":\"BasicTicker\"}},\"id\":\"25b0901a-961a-4bb1-8966-0a37275013ba\",\"type\":\"Grid\"},{\"attributes\":{},\"id\":\"93b06c15-8ffd-41e5-970d-468257b76dee\",\"type\":\"LinearScale\"},{\"attributes\":{\"callback\":null},\"id\":\"685f007f-1b02-43e5-b66b-9979c27b7a15\",\"type\":\"DataRange1d\"},{\"attributes\":{\"formatter\":{\"id\":\"f6d680df-021f-478a-abfa-bd0cfde76af1\",\"type\":\"BasicTickFormatter\"},\"plot\":{\"id\":\"cf216178-00da-4cbb-a579-0fe7607876ab\",\"subtype\":\"Figure\",\"type\":\"Plot\"},\"ticker\":{\"id\":\"75158aab-600f-46a0-8b03-c24a6e586935\",\"type\":\"BasicTicker\"}},\"id\":\"4f7f9094-c074-4bcc-a4e1-33e6cb796260\",\"type\":\"LinearAxis\"},{\"attributes\":{},\"id\":\"d253c155-e033-4189-85be-ecc1295d6559\",\"type\":\"LinearScale\"},{\"attributes\":{},\"id\":\"75158aab-600f-46a0-8b03-c24a6e586935\",\"type\":\"BasicTicker\"},{\"attributes\":{},\"id\":\"525f7d68-7a76-475c-b093-0b9822b06646\",\"type\":\"LinearScale\"},{\"attributes\":{\"dimension\":1,\"plot\":{\"id\":\"cf216178-00da-4cbb-a579-0fe7607876ab\",\"subtype\":\"Figure\",\"type\":\"Plot\"},\"ticker\":{\"id\":\"75158aab-600f-46a0-8b03-c24a6e586935\",\"type\":\"BasicTicker\"}},\"id\":\"c6f04ea0-e2d7-4ef5-b922-d5dda537c0e6\",\"type\":\"Grid\"},{\"attributes\":{\"fill_alpha\":{\"value\":0.5},\"fill_color\":{\"value\":\"lightgrey\"},\"level\":\"overlay\",\"line_alpha\":{\"value\":1.0},\"line_color\":{\"value\":\"black\"},\"line_dash\":[4,4],\"line_width\":{\"value\":2},\"plot\":null,\"xs_units\":\"screen\",\"ys_units\":\"screen\"},\"id\":\"cd7b959e-8811-4104-87cb-4dd9ef95ba33\",\"type\":\"PolyAnnotation\"},{\"attributes\":{\"args\":{\"s2\":{\"id\":\"d380d55c-062b-4972-b4c4-0bb44681b11c\",\"type\":\"ColumnDataSource\"}},\"code\":\"\\n        var inds = cb_obj.selected['1d'].indices;\\n        var d1 = cb_obj.data;\\n        var d2 = s2.data;\\n        d2['x'] = []\\n        d2['y'] = []\\n        for (i = 0; i < inds.length; i++) {\\n            d2['x'].push(d1['x'][inds[i]])\\n            d2['y'].push(d1['y'][inds[i]])\\n        }\\n        s2.change.emit();\\n    \"},\"id\":\"cf69b3a3-5059-4ce0-92fe-328c00237d92\",\"type\":\"CustomJS\"},{\"attributes\":{},\"id\":\"d471c3d5-4121-4518-b81f-083a7333f013\",\"type\":\"BasicTicker\"},{\"attributes\":{\"callback\":null,\"data\":{\"x\":[],\"y\":[]},\"selected\":{\"id\":\"16ebdbbd-a575-4aea-acc1-b0cfd5bf5b2e\",\"type\":\"Selection\"},\"selection_policy\":{\"id\":\"26d05ed5-c2e2-4e5e-8d4b-0cc6c01f9c92\",\"type\":\"UnionRenderers\"}},\"id\":\"d380d55c-062b-4972-b4c4-0bb44681b11c\",\"type\":\"ColumnDataSource\"},{\"attributes\":{\"fill_alpha\":{\"value\":0.1},\"fill_color\":{\"value\":\"#1f77b4\"},\"line_alpha\":{\"value\":0.1},\"line_color\":{\"value\":\"#1f77b4\"},\"x\":{\"field\":\"x\"},\"y\":{\"field\":\"y\"}},\"id\":\"c6b97da3-428b-4595-a4cd-540d1379d0b6\",\"type\":\"Circle\"},{\"attributes\":{},\"id\":\"8e838115-2a6e-4c88-89a5-05aa0a730828\",\"type\":\"BasicTicker\"},{\"attributes\":{\"source\":{\"id\":\"bf4739c3-3828-4ccf-9f3b-a2d2d2e34dca\",\"type\":\"ColumnDataSource\"}},\"id\":\"6221cda9-03f6-4131-8f55-56a569ec84c1\",\"type\":\"CDSView\"}],\"root_ids\":[\"86ba2d54-4a58-48ee-afad-22d05de22397\"]},\"title\":\"Bokeh Application\",\"version\":\"0.13.0\"}};\n",
       "  var render_items = [{\"docid\":\"ae456f1a-332b-41e1-b91c-66b4b015e080\",\"roots\":{\"86ba2d54-4a58-48ee-afad-22d05de22397\":\"5b859199-972d-4bc4-bdce-130d783edac0\"}}];\n",
       "  root.Bokeh.embed.embed_items_notebook(docs_json, render_items);\n",
       "\n",
       "  }\n",
       "  if (root.Bokeh !== undefined) {\n",
       "    embed_document(root);\n",
       "  } else {\n",
       "    var attempts = 0;\n",
       "    var timer = setInterval(function(root) {\n",
       "      if (root.Bokeh !== undefined) {\n",
       "        embed_document(root);\n",
       "        clearInterval(timer);\n",
       "      }\n",
       "      attempts++;\n",
       "      if (attempts > 100) {\n",
       "        console.log(\"Bokeh: ERROR: Unable to run BokehJS code because BokehJS library is missing\")\n",
       "        clearInterval(timer);\n",
       "      }\n",
       "    }, 10, root)\n",
       "  }\n",
       "})(window);"
      ],
      "application/vnd.bokehjs_exec.v0+json": ""
     },
     "metadata": {
      "application/vnd.bokehjs_exec.v0+json": {
       "id": "86ba2d54-4a58-48ee-afad-22d05de22397"
      }
     },
     "output_type": "display_data"
    }
   ],
   "source": [
    "from random import random\n",
    "from bokeh.layouts import row\n",
    "from bokeh.models import CustomJS, ColumnDataSource\n",
    "from bokeh.plotting import figure\n",
    "\n",
    "x = [random() for x in range(500)]\n",
    "y = [random() for y in range(500)]\n",
    "\n",
    "s1 = ColumnDataSource(data=dict(x=x, y=y))\n",
    "p1 = figure(plot_width=400, plot_height=400, tools=\"lasso_select\", title=\"Select Here\")\n",
    "p1.circle('x', 'y', source=s1, alpha=0.6)\n",
    "\n",
    "s2 = ColumnDataSource(data=dict(x=[], y=[]))\n",
    "p2 = figure(plot_width=400, plot_height=400, x_range=(0, 1), y_range=(0, 1),\n",
    "            tools=\"\", title=\"Watch Here\")\n",
    "p2.circle('x', 'y', source=s2, alpha=0.6)\n",
    "\n",
    "s1.callback = CustomJS(args=dict(s2=s2), code=\"\"\"\n",
    "        var inds = cb_obj.selected['1d'].indices;\n",
    "        var d1 = cb_obj.data;\n",
    "        var d2 = s2.data;\n",
    "        d2['x'] = []\n",
    "        d2['y'] = []\n",
    "        for (i = 0; i < inds.length; i++) {\n",
    "            d2['x'].push(d1['x'][inds[i]])\n",
    "            d2['y'].push(d1['y'][inds[i]])\n",
    "        }\n",
    "        s2.change.emit();\n",
    "    \"\"\")\n",
    "\n",
    "layout = row(p1, p2)\n",
    "\n",
    "show(layout)"
   ]
  }
 ],
 "metadata": {
  "kernelspec": {
   "display_name": "Python 3",
   "language": "python",
   "name": "python3"
  },
  "language_info": {
   "codemirror_mode": {
    "name": "ipython",
    "version": 3
   },
   "file_extension": ".py",
   "mimetype": "text/x-python",
   "name": "python",
   "nbconvert_exporter": "python",
   "pygments_lexer": "ipython3",
   "version": "3.6.5"
  }
 },
 "nbformat": 4,
 "nbformat_minor": 2
}
