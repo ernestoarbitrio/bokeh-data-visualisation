{
 "cells": [
  {
   "cell_type": "markdown",
   "metadata": {},
   "source": [
    "# Interaction with widgets and JS CallBacks"
   ]
  },
  {
   "cell_type": "markdown",
   "metadata": {},
   "source": [
    "## Adding Widgets"
   ]
  },
  {
   "cell_type": "markdown",
   "metadata": {},
   "source": [
    "Widgets are interactive controls that can be added to Bokeh applications to provide a front end user interface to a visualization. They can drive new computations, update plots, and connect to other programmatic functionality.\n",
    "Widgets can be added directly to the document root or nested inside a layout. There are two ways to program a widget’s functionality:\n",
    "\n",
    "- Use the `CustomJS` callback. This will work in standalone HTML documents.\n",
    "- Use `bokeh serve` to start the Bokeh server and set up event handlers. *[DESCRIBED IN OTHER NOTEBOOKS]*"
   ]
  },
  {
   "cell_type": "markdown",
   "metadata": {},
   "source": [
    "### Buttons"
   ]
  },
  {
   "cell_type": "code",
   "execution_count": null,
   "metadata": {},
   "outputs": [],
   "source": [
    "from bokeh.io import output_notebook, show\n",
    "from bokeh.layouts import widgetbox\n",
    "output_notebook()"
   ]
  },
  {
   "cell_type": "code",
   "execution_count": null,
   "metadata": {},
   "outputs": [],
   "source": [
    "from bokeh.models.widgets import Button\n",
    "\n",
    "button_warning = Button(label=\"Foo Warning\", button_type=\"warning\")\n",
    "button_success = Button(label=\"Foo Success\", button_type=\"success\")\n",
    "\n",
    "show(widgetbox(button_warning, button_success))"
   ]
  },
  {
   "cell_type": "markdown",
   "metadata": {},
   "source": [
    "### Checkbox button group"
   ]
  },
  {
   "cell_type": "code",
   "execution_count": null,
   "metadata": {},
   "outputs": [],
   "source": [
    "from bokeh.models.widgets import CheckboxButtonGroup\n",
    "\n",
    "checkbox_button_group = CheckboxButtonGroup(\n",
    "        labels=[\"Option 1\", \"Option 2\", \"Option 3\"], \n",
    "        active=[1, 2]) # active param show selected the slice you specify\n",
    "\n",
    "show(widgetbox(checkbox_button_group))"
   ]
  },
  {
   "cell_type": "markdown",
   "metadata": {},
   "source": [
    "### Checkbox group"
   ]
  },
  {
   "cell_type": "code",
   "execution_count": null,
   "metadata": {},
   "outputs": [],
   "source": [
    "from bokeh.models.widgets import CheckboxGroup\n",
    "\n",
    "checkbox_group = CheckboxGroup(\n",
    "        labels=[\"Option 1\", \"Option 2\", \"Option 3\"], active=[0, 1])\n",
    "\n",
    "show(widgetbox(checkbox_group))"
   ]
  },
  {
   "cell_type": "markdown",
   "metadata": {},
   "source": [
    "## Data Table\n",
    "Bokeh provides a sophisticated data table widget based on SlickGrid. Note that since the table is configured with a data source object, any plots that share this data source will automatically have selections linked between the plot and the table (even in static HTML documents). \n",
    "\n",
    "*The data table is sortable by clicking on the column name*"
   ]
  },
  {
   "cell_type": "code",
   "execution_count": null,
   "metadata": {},
   "outputs": [],
   "source": [
    "from datetime import date\n",
    "from random import randint\n",
    "from bokeh.models import ColumnDataSource\n",
    "from bokeh.models.widgets import DataTable, DateFormatter, TableColumn\n",
    "\n",
    "data = dict(\n",
    "        dates=[date(2017, 3, i+1) for i in range(10)],\n",
    "        downloads=[randint(0, 100) for i in range(10)],\n",
    "    )\n",
    "source = ColumnDataSource(data)\n",
    "\n",
    "columns = [\n",
    "        TableColumn(field=\"dates\", title=\"Date\", formatter=DateFormatter()),\n",
    "        TableColumn(field=\"downloads\", title=\"Downloads\"),\n",
    "    ]\n",
    "data_table = DataTable(source=source, columns=columns, width=400, height=280)\n",
    "\n",
    "show(widgetbox(data_table))"
   ]
  },
  {
   "cell_type": "markdown",
   "metadata": {},
   "source": [
    "## Sliders"
   ]
  },
  {
   "cell_type": "code",
   "execution_count": null,
   "metadata": {},
   "outputs": [],
   "source": [
    "from bokeh.models.widgets import Slider, RangeSlider\n",
    "\n",
    "slider = Slider(start=0, end=10, value=3, step=.1, title=\"Slider\")\n",
    "range_slider = RangeSlider(start=0, end=10, value=(5,9), step=.1, title=\"Range Slider\")\n",
    "\n",
    "show(widgetbox(slider, range_slider))"
   ]
  },
  {
   "cell_type": "markdown",
   "metadata": {},
   "source": [
    "## Tab panes"
   ]
  },
  {
   "cell_type": "code",
   "execution_count": null,
   "metadata": {},
   "outputs": [],
   "source": [
    "from bokeh.models.widgets import Panel, Tabs\n",
    "from bokeh.plotting import figure\n",
    "\n",
    "p1 = figure(plot_width=300, plot_height=300)\n",
    "p1.circle([1, 2, 3, 4, 5], [6, 7, 2, 4, 5], size=20, color=\"red\", alpha=0.5)\n",
    "tab1 = Panel(child=p1, title=\"circle\")\n",
    "\n",
    "p2 = figure(plot_width=300, plot_height=300)\n",
    "p2.line([1, 2, 3, 4, 5], [6, 7, 2, 4, 5], line_width=3, color=\"blue\", alpha=0.5)\n",
    "tab2 = Panel(child=p2, title=\"line\")\n",
    "\n",
    "tabs = Tabs(tabs=[ tab1, tab2 ])\n",
    "\n",
    "show(tabs)"
   ]
  },
  {
   "cell_type": "markdown",
   "metadata": {},
   "source": [
    "## JavaScript CallBacks\n",
    "While the main goal of Bokeh is to provide a path to create rich interactive visualizations in the browser, purely from python, there will always be specialized use-cases that are outside the capabilities of the core library. For this reason, Bokeh provides different ways for users to supply custom JavaScript when necessary, so that users may add custom or specialized behaviours in response to property changes and other events.\n",
    "To supply a snippet of JavaScript code that should be executed (in the browser) when some event occurs, use the `CustomJS model`:\n",
    "```python\n",
    "from bokeh.models.callbacks import CustomJS\n",
    "\n",
    "callback = CustomJS(args=dict(xr=plot.x_range), code=\"\"\"\n",
    "\n",
    "// JavaScript code goes here\n",
    "\n",
    "var a = 10;\n",
    "\n",
    "// the model that triggered the callback is cb_obj:\n",
    "var b = cb_obj.value;\n",
    "\n",
    "// models passed as args are automagically available\n",
    "xr.start = a;\n",
    "xr.end = b;\n",
    "\n",
    "\"\"\")\n",
    "```"
   ]
  },
  {
   "cell_type": "markdown",
   "metadata": {},
   "source": [
    "### CustomJS for Model Property Events¶\n",
    "These CustomJS callbacks can be attached to property change events on any Bokeh model, using the `js_on_change` method of Bokeh models:"
   ]
  },
  {
   "cell_type": "code",
   "execution_count": null,
   "metadata": {},
   "outputs": [],
   "source": [
    "from bokeh.layouts import column\n",
    "from bokeh.models import CustomJS, ColumnDataSource, Slider\n",
    "from bokeh.plotting import figure\n",
    "\n",
    "x = [x*0.005 for x in range(0, 200)]\n",
    "y = x\n",
    "\n",
    "source = ColumnDataSource(data=dict(x=x, y=y))\n",
    "\n",
    "plot = figure(plot_width=400, plot_height=400)\n",
    "plot.line('x', 'y', source=source, line_width=3, line_alpha=0.6)\n",
    "\n",
    "callback = CustomJS(args=dict(source=source), code=\"\"\"\n",
    "    var data = source.data;\n",
    "    var f = cb_obj.value\n",
    "    x = data['x']\n",
    "    y = data['y']\n",
    "    for (i = 0; i < x.length; i++) {\n",
    "        y[i] = Math.pow(x[i], f)\n",
    "    }\n",
    "    source.change.emit();\n",
    "\"\"\")\n",
    "\n",
    "slider = Slider(start=0.1, end=4, value=1, step=.1, title=\"power\")\n",
    "slider.js_on_change('value', callback)\n",
    "\n",
    "layout = column(slider, plot)\n",
    "\n",
    "show(layout)"
   ]
  },
  {
   "cell_type": "markdown",
   "metadata": {},
   "source": [
    "The above example shows how to attach a CustomJS callback to a Slider widget, so that whenever the slider value updates, the callback is executed to update some data."
   ]
  },
  {
   "cell_type": "markdown",
   "metadata": {},
   "source": [
    "### CustomJS with a Python function\n",
    "A CustomJS callback can also be implemented as a Python function, which is then translated to JavaScript using PyScript. This makes it easier for users to define client-side interactions without having to learn JavaScript. \n",
    "\n",
    "To use this functionality you need the Flexx library (install with `conda install -c bokeh flexx` or `pip install flexx`)."
   ]
  },
  {
   "cell_type": "code",
   "execution_count": null,
   "metadata": {},
   "outputs": [],
   "source": [
    "from bokeh.layouts import column\n",
    "from bokeh.models import CustomJS, ColumnDataSource, Slider\n",
    "from bokeh.plotting import figure\n",
    "\n",
    "x = [x*0.05 for x in range(0, 200)]\n",
    "y = x\n",
    "\n",
    "source = ColumnDataSource(data=dict(x=x, y=y))\n",
    "\n",
    "plot = figure(plot_width=400, plot_height=400)\n",
    "plot.line('x', 'y', source=source, line_width=3, line_alpha=0.6)\n",
    "\n",
    "def callback(source=source, window=None):\n",
    "    data = source.data\n",
    "    f = cb_obj.value\n",
    "    x, y = data['x'], data['y']\n",
    "    for i in range(len(x)):\n",
    "        y[i] = window.Math.pow(x[i], f)\n",
    "    source.change.emit()\n",
    "\n",
    "slider = Slider(start=0.1, end=4, value=1, step=.1, title=\"power\",\n",
    "                callback=CustomJS.from_py_func(callback))\n",
    "\n",
    "layout = column(slider, plot)\n",
    "\n",
    "show(layout)"
   ]
  },
  {
   "cell_type": "markdown",
   "metadata": {},
   "source": [
    "### CustomJS for Selections\n",
    "Bokeh also provides the means to specify the same kind of callback to be executed whenever a selection changes. As a simple demonstration, the example below simply copies selected points on the first plot to the second. However, more sophisticated actions and computations are easily constructed in a similar way."
   ]
  },
  {
   "cell_type": "code",
   "execution_count": null,
   "metadata": {},
   "outputs": [],
   "source": [
    "from random import random\n",
    "from bokeh.layouts import row\n",
    "from bokeh.models import CustomJS, ColumnDataSource\n",
    "from bokeh.plotting import figure\n",
    "\n",
    "x = [random() for x in range(500)]\n",
    "y = [random() for y in range(500)]\n",
    "\n",
    "s1 = ColumnDataSource(data=dict(x=x, y=y))\n",
    "p1 = figure(plot_width=400, plot_height=400, tools=\"lasso_select\", title=\"Select Here\")\n",
    "p1.circle('x', 'y', source=s1, alpha=0.6)\n",
    "\n",
    "s2 = ColumnDataSource(data=dict(x=[], y=[]))\n",
    "p2 = figure(plot_width=400, plot_height=400, x_range=(0, 1), y_range=(0, 1),\n",
    "            tools=\"\", title=\"Watch Here\")\n",
    "p2.circle('x', 'y', source=s2, alpha=0.6)\n",
    "\n",
    "s1.callback = CustomJS(args=dict(s2=s2), code=\"\"\"\n",
    "        var inds = cb_obj.selected['1d'].indices;\n",
    "        var d1 = cb_obj.data;\n",
    "        var d2 = s2.data;\n",
    "        d2['x'] = []\n",
    "        d2['y'] = []\n",
    "        for (i = 0; i < inds.length; i++) {\n",
    "            d2['x'].push(d1['x'][inds[i]])\n",
    "            d2['y'].push(d1['y'][inds[i]])\n",
    "        }\n",
    "        s2.change.emit();\n",
    "    \"\"\")\n",
    "\n",
    "layout = row(p1, p2)\n",
    "\n",
    "show(layout)"
   ]
  }
 ],
 "metadata": {
  "kernelspec": {
   "display_name": "Python 3",
   "language": "python",
   "name": "python3"
  },
  "language_info": {
   "codemirror_mode": {
    "name": "ipython",
    "version": 3
   },
   "file_extension": ".py",
   "mimetype": "text/x-python",
   "name": "python",
   "nbconvert_exporter": "python",
   "pygments_lexer": "ipython3",
   "version": "3.6.5"
  }
 },
 "nbformat": 4,
 "nbformat_minor": 2
}
