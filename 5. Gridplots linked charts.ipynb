{
 "cells": [
  {
   "cell_type": "markdown",
   "metadata": {},
   "source": [
    "## Gridplots and linked charts\n",
    "In this notebook i will figure out some layout options for `bokeh` charts. The `gridplot()` function can be used to arrange Bokeh Plots in grid layout. Linking together various aspects of different plots can be a useful technique for data visualization. In Bokeh, such linkages are typically accomplished by sharing some plot component between plots."
   ]
  },
  {
   "cell_type": "markdown",
   "metadata": {},
   "source": [
    "### Gridplots\n",
    "gridplot() allows to create a N x M layout for visualise several plots in an ordered way. It also collects all tools into a single toolbar, and the currently active tool is the same for all plots in the grid. **It is possible to leave “empty” spaces in the grid by passing None instead of a plot object.**"
   ]
  },
  {
   "cell_type": "code",
   "execution_count": 8,
   "metadata": {},
   "outputs": [
    {
     "data": {
      "text/html": [
       "\n",
       "    <div class=\"bk-root\">\n",
       "        <a href=\"https://bokeh.pydata.org\" target=\"_blank\" class=\"bk-logo bk-logo-small bk-logo-notebook\"></a>\n",
       "        <span id=\"7a7fd7eb-12be-4ea0-b4d5-366efce4ec9e\">Loading BokehJS ...</span>\n",
       "    </div>"
      ]
     },
     "metadata": {},
     "output_type": "display_data"
    },
    {
     "data": {
      "application/javascript": [
       "\n",
       "(function(root) {\n",
       "  function now() {\n",
       "    return new Date();\n",
       "  }\n",
       "\n",
       "  var force = true;\n",
       "\n",
       "  if (typeof (root._bokeh_onload_callbacks) === \"undefined\" || force === true) {\n",
       "    root._bokeh_onload_callbacks = [];\n",
       "    root._bokeh_is_loading = undefined;\n",
       "  }\n",
       "\n",
       "  var JS_MIME_TYPE = 'application/javascript';\n",
       "  var HTML_MIME_TYPE = 'text/html';\n",
       "  var EXEC_MIME_TYPE = 'application/vnd.bokehjs_exec.v0+json';\n",
       "  var CLASS_NAME = 'output_bokeh rendered_html';\n",
       "\n",
       "  /**\n",
       "   * Render data to the DOM node\n",
       "   */\n",
       "  function render(props, node) {\n",
       "    var script = document.createElement(\"script\");\n",
       "    node.appendChild(script);\n",
       "  }\n",
       "\n",
       "  /**\n",
       "   * Handle when an output is cleared or removed\n",
       "   */\n",
       "  function handleClearOutput(event, handle) {\n",
       "    var cell = handle.cell;\n",
       "\n",
       "    var id = cell.output_area._bokeh_element_id;\n",
       "    var server_id = cell.output_area._bokeh_server_id;\n",
       "    // Clean up Bokeh references\n",
       "    if (id != null && id in Bokeh.index) {\n",
       "      Bokeh.index[id].model.document.clear();\n",
       "      delete Bokeh.index[id];\n",
       "    }\n",
       "\n",
       "    if (server_id !== undefined) {\n",
       "      // Clean up Bokeh references\n",
       "      var cmd = \"from bokeh.io.state import curstate; print(curstate().uuid_to_server['\" + server_id + \"'].get_sessions()[0].document.roots[0]._id)\";\n",
       "      cell.notebook.kernel.execute(cmd, {\n",
       "        iopub: {\n",
       "          output: function(msg) {\n",
       "            var id = msg.content.text.trim();\n",
       "            if (id in Bokeh.index) {\n",
       "              Bokeh.index[id].model.document.clear();\n",
       "              delete Bokeh.index[id];\n",
       "            }\n",
       "          }\n",
       "        }\n",
       "      });\n",
       "      // Destroy server and session\n",
       "      var cmd = \"import bokeh.io.notebook as ion; ion.destroy_server('\" + server_id + \"')\";\n",
       "      cell.notebook.kernel.execute(cmd);\n",
       "    }\n",
       "  }\n",
       "\n",
       "  /**\n",
       "   * Handle when a new output is added\n",
       "   */\n",
       "  function handleAddOutput(event, handle) {\n",
       "    var output_area = handle.output_area;\n",
       "    var output = handle.output;\n",
       "\n",
       "    // limit handleAddOutput to display_data with EXEC_MIME_TYPE content only\n",
       "    if ((output.output_type != \"display_data\") || (!output.data.hasOwnProperty(EXEC_MIME_TYPE))) {\n",
       "      return\n",
       "    }\n",
       "\n",
       "    var toinsert = output_area.element.find(\".\" + CLASS_NAME.split(' ')[0]);\n",
       "\n",
       "    if (output.metadata[EXEC_MIME_TYPE][\"id\"] !== undefined) {\n",
       "      toinsert[toinsert.length - 1].firstChild.textContent = output.data[JS_MIME_TYPE];\n",
       "      // store reference to embed id on output_area\n",
       "      output_area._bokeh_element_id = output.metadata[EXEC_MIME_TYPE][\"id\"];\n",
       "    }\n",
       "    if (output.metadata[EXEC_MIME_TYPE][\"server_id\"] !== undefined) {\n",
       "      var bk_div = document.createElement(\"div\");\n",
       "      bk_div.innerHTML = output.data[HTML_MIME_TYPE];\n",
       "      var script_attrs = bk_div.children[0].attributes;\n",
       "      for (var i = 0; i < script_attrs.length; i++) {\n",
       "        toinsert[toinsert.length - 1].firstChild.setAttribute(script_attrs[i].name, script_attrs[i].value);\n",
       "      }\n",
       "      // store reference to server id on output_area\n",
       "      output_area._bokeh_server_id = output.metadata[EXEC_MIME_TYPE][\"server_id\"];\n",
       "    }\n",
       "  }\n",
       "\n",
       "  function register_renderer(events, OutputArea) {\n",
       "\n",
       "    function append_mime(data, metadata, element) {\n",
       "      // create a DOM node to render to\n",
       "      var toinsert = this.create_output_subarea(\n",
       "        metadata,\n",
       "        CLASS_NAME,\n",
       "        EXEC_MIME_TYPE\n",
       "      );\n",
       "      this.keyboard_manager.register_events(toinsert);\n",
       "      // Render to node\n",
       "      var props = {data: data, metadata: metadata[EXEC_MIME_TYPE]};\n",
       "      render(props, toinsert[toinsert.length - 1]);\n",
       "      element.append(toinsert);\n",
       "      return toinsert\n",
       "    }\n",
       "\n",
       "    /* Handle when an output is cleared or removed */\n",
       "    events.on('clear_output.CodeCell', handleClearOutput);\n",
       "    events.on('delete.Cell', handleClearOutput);\n",
       "\n",
       "    /* Handle when a new output is added */\n",
       "    events.on('output_added.OutputArea', handleAddOutput);\n",
       "\n",
       "    /**\n",
       "     * Register the mime type and append_mime function with output_area\n",
       "     */\n",
       "    OutputArea.prototype.register_mime_type(EXEC_MIME_TYPE, append_mime, {\n",
       "      /* Is output safe? */\n",
       "      safe: true,\n",
       "      /* Index of renderer in `output_area.display_order` */\n",
       "      index: 0\n",
       "    });\n",
       "  }\n",
       "\n",
       "  // register the mime type if in Jupyter Notebook environment and previously unregistered\n",
       "  if (root.Jupyter !== undefined) {\n",
       "    var events = require('base/js/events');\n",
       "    var OutputArea = require('notebook/js/outputarea').OutputArea;\n",
       "\n",
       "    if (OutputArea.prototype.mime_types().indexOf(EXEC_MIME_TYPE) == -1) {\n",
       "      register_renderer(events, OutputArea);\n",
       "    }\n",
       "  }\n",
       "\n",
       "  \n",
       "  if (typeof (root._bokeh_timeout) === \"undefined\" || force === true) {\n",
       "    root._bokeh_timeout = Date.now() + 5000;\n",
       "    root._bokeh_failed_load = false;\n",
       "  }\n",
       "\n",
       "  var NB_LOAD_WARNING = {'data': {'text/html':\n",
       "     \"<div style='background-color: #fdd'>\\n\"+\n",
       "     \"<p>\\n\"+\n",
       "     \"BokehJS does not appear to have successfully loaded. If loading BokehJS from CDN, this \\n\"+\n",
       "     \"may be due to a slow or bad network connection. Possible fixes:\\n\"+\n",
       "     \"</p>\\n\"+\n",
       "     \"<ul>\\n\"+\n",
       "     \"<li>re-rerun `output_notebook()` to attempt to load from CDN again, or</li>\\n\"+\n",
       "     \"<li>use INLINE resources instead, as so:</li>\\n\"+\n",
       "     \"</ul>\\n\"+\n",
       "     \"<code>\\n\"+\n",
       "     \"from bokeh.resources import INLINE\\n\"+\n",
       "     \"output_notebook(resources=INLINE)\\n\"+\n",
       "     \"</code>\\n\"+\n",
       "     \"</div>\"}};\n",
       "\n",
       "  function display_loaded() {\n",
       "    var el = document.getElementById(\"7a7fd7eb-12be-4ea0-b4d5-366efce4ec9e\");\n",
       "    if (el != null) {\n",
       "      el.textContent = \"BokehJS is loading...\";\n",
       "    }\n",
       "    if (root.Bokeh !== undefined) {\n",
       "      if (el != null) {\n",
       "        el.textContent = \"BokehJS \" + root.Bokeh.version + \" successfully loaded.\";\n",
       "      }\n",
       "    } else if (Date.now() < root._bokeh_timeout) {\n",
       "      setTimeout(display_loaded, 100)\n",
       "    }\n",
       "  }\n",
       "\n",
       "\n",
       "  function run_callbacks() {\n",
       "    try {\n",
       "      root._bokeh_onload_callbacks.forEach(function(callback) { callback() });\n",
       "    }\n",
       "    finally {\n",
       "      delete root._bokeh_onload_callbacks\n",
       "    }\n",
       "    console.info(\"Bokeh: all callbacks have finished\");\n",
       "  }\n",
       "\n",
       "  function load_libs(js_urls, callback) {\n",
       "    root._bokeh_onload_callbacks.push(callback);\n",
       "    if (root._bokeh_is_loading > 0) {\n",
       "      console.log(\"Bokeh: BokehJS is being loaded, scheduling callback at\", now());\n",
       "      return null;\n",
       "    }\n",
       "    if (js_urls == null || js_urls.length === 0) {\n",
       "      run_callbacks();\n",
       "      return null;\n",
       "    }\n",
       "    console.log(\"Bokeh: BokehJS not loaded, scheduling load and callback at\", now());\n",
       "    root._bokeh_is_loading = js_urls.length;\n",
       "    for (var i = 0; i < js_urls.length; i++) {\n",
       "      var url = js_urls[i];\n",
       "      var s = document.createElement('script');\n",
       "      s.src = url;\n",
       "      s.async = false;\n",
       "      s.onreadystatechange = s.onload = function() {\n",
       "        root._bokeh_is_loading--;\n",
       "        if (root._bokeh_is_loading === 0) {\n",
       "          console.log(\"Bokeh: all BokehJS libraries loaded\");\n",
       "          run_callbacks()\n",
       "        }\n",
       "      };\n",
       "      s.onerror = function() {\n",
       "        console.warn(\"failed to load library \" + url);\n",
       "      };\n",
       "      console.log(\"Bokeh: injecting script tag for BokehJS library: \", url);\n",
       "      document.getElementsByTagName(\"head\")[0].appendChild(s);\n",
       "    }\n",
       "  };var element = document.getElementById(\"7a7fd7eb-12be-4ea0-b4d5-366efce4ec9e\");\n",
       "  if (element == null) {\n",
       "    console.log(\"Bokeh: ERROR: autoload.js configured with elementid '7a7fd7eb-12be-4ea0-b4d5-366efce4ec9e' but no matching script tag was found. \")\n",
       "    return false;\n",
       "  }\n",
       "\n",
       "  var js_urls = [\"https://cdn.pydata.org/bokeh/release/bokeh-0.13.0.min.js\", \"https://cdn.pydata.org/bokeh/release/bokeh-widgets-0.13.0.min.js\", \"https://cdn.pydata.org/bokeh/release/bokeh-tables-0.13.0.min.js\", \"https://cdn.pydata.org/bokeh/release/bokeh-gl-0.13.0.min.js\"];\n",
       "\n",
       "  var inline_js = [\n",
       "    function(Bokeh) {\n",
       "      Bokeh.set_log_level(\"info\");\n",
       "    },\n",
       "    \n",
       "    function(Bokeh) {\n",
       "      \n",
       "    },\n",
       "    function(Bokeh) {\n",
       "      console.log(\"Bokeh: injecting CSS: https://cdn.pydata.org/bokeh/release/bokeh-0.13.0.min.css\");\n",
       "      Bokeh.embed.inject_css(\"https://cdn.pydata.org/bokeh/release/bokeh-0.13.0.min.css\");\n",
       "      console.log(\"Bokeh: injecting CSS: https://cdn.pydata.org/bokeh/release/bokeh-widgets-0.13.0.min.css\");\n",
       "      Bokeh.embed.inject_css(\"https://cdn.pydata.org/bokeh/release/bokeh-widgets-0.13.0.min.css\");\n",
       "      console.log(\"Bokeh: injecting CSS: https://cdn.pydata.org/bokeh/release/bokeh-tables-0.13.0.min.css\");\n",
       "      Bokeh.embed.inject_css(\"https://cdn.pydata.org/bokeh/release/bokeh-tables-0.13.0.min.css\");\n",
       "    }\n",
       "  ];\n",
       "\n",
       "  function run_inline_js() {\n",
       "    \n",
       "    if ((root.Bokeh !== undefined) || (force === true)) {\n",
       "      for (var i = 0; i < inline_js.length; i++) {\n",
       "        inline_js[i].call(root, root.Bokeh);\n",
       "      }if (force === true) {\n",
       "        display_loaded();\n",
       "      }} else if (Date.now() < root._bokeh_timeout) {\n",
       "      setTimeout(run_inline_js, 100);\n",
       "    } else if (!root._bokeh_failed_load) {\n",
       "      console.log(\"Bokeh: BokehJS failed to load within specified timeout.\");\n",
       "      root._bokeh_failed_load = true;\n",
       "    } else if (force !== true) {\n",
       "      var cell = $(document.getElementById(\"7a7fd7eb-12be-4ea0-b4d5-366efce4ec9e\")).parents('.cell').data().cell;\n",
       "      cell.output_area.append_execute_result(NB_LOAD_WARNING)\n",
       "    }\n",
       "\n",
       "  }\n",
       "\n",
       "  if (root._bokeh_is_loading === 0) {\n",
       "    console.log(\"Bokeh: BokehJS loaded, going straight to plotting\");\n",
       "    run_inline_js();\n",
       "  } else {\n",
       "    load_libs(js_urls, function() {\n",
       "      console.log(\"Bokeh: BokehJS plotting callback run at\", now());\n",
       "      run_inline_js();\n",
       "    });\n",
       "  }\n",
       "}(window));"
      ],
      "application/vnd.bokehjs_load.v0+json": "\n(function(root) {\n  function now() {\n    return new Date();\n  }\n\n  var force = true;\n\n  if (typeof (root._bokeh_onload_callbacks) === \"undefined\" || force === true) {\n    root._bokeh_onload_callbacks = [];\n    root._bokeh_is_loading = undefined;\n  }\n\n  \n\n  \n  if (typeof (root._bokeh_timeout) === \"undefined\" || force === true) {\n    root._bokeh_timeout = Date.now() + 5000;\n    root._bokeh_failed_load = false;\n  }\n\n  var NB_LOAD_WARNING = {'data': {'text/html':\n     \"<div style='background-color: #fdd'>\\n\"+\n     \"<p>\\n\"+\n     \"BokehJS does not appear to have successfully loaded. If loading BokehJS from CDN, this \\n\"+\n     \"may be due to a slow or bad network connection. Possible fixes:\\n\"+\n     \"</p>\\n\"+\n     \"<ul>\\n\"+\n     \"<li>re-rerun `output_notebook()` to attempt to load from CDN again, or</li>\\n\"+\n     \"<li>use INLINE resources instead, as so:</li>\\n\"+\n     \"</ul>\\n\"+\n     \"<code>\\n\"+\n     \"from bokeh.resources import INLINE\\n\"+\n     \"output_notebook(resources=INLINE)\\n\"+\n     \"</code>\\n\"+\n     \"</div>\"}};\n\n  function display_loaded() {\n    var el = document.getElementById(\"7a7fd7eb-12be-4ea0-b4d5-366efce4ec9e\");\n    if (el != null) {\n      el.textContent = \"BokehJS is loading...\";\n    }\n    if (root.Bokeh !== undefined) {\n      if (el != null) {\n        el.textContent = \"BokehJS \" + root.Bokeh.version + \" successfully loaded.\";\n      }\n    } else if (Date.now() < root._bokeh_timeout) {\n      setTimeout(display_loaded, 100)\n    }\n  }\n\n\n  function run_callbacks() {\n    try {\n      root._bokeh_onload_callbacks.forEach(function(callback) { callback() });\n    }\n    finally {\n      delete root._bokeh_onload_callbacks\n    }\n    console.info(\"Bokeh: all callbacks have finished\");\n  }\n\n  function load_libs(js_urls, callback) {\n    root._bokeh_onload_callbacks.push(callback);\n    if (root._bokeh_is_loading > 0) {\n      console.log(\"Bokeh: BokehJS is being loaded, scheduling callback at\", now());\n      return null;\n    }\n    if (js_urls == null || js_urls.length === 0) {\n      run_callbacks();\n      return null;\n    }\n    console.log(\"Bokeh: BokehJS not loaded, scheduling load and callback at\", now());\n    root._bokeh_is_loading = js_urls.length;\n    for (var i = 0; i < js_urls.length; i++) {\n      var url = js_urls[i];\n      var s = document.createElement('script');\n      s.src = url;\n      s.async = false;\n      s.onreadystatechange = s.onload = function() {\n        root._bokeh_is_loading--;\n        if (root._bokeh_is_loading === 0) {\n          console.log(\"Bokeh: all BokehJS libraries loaded\");\n          run_callbacks()\n        }\n      };\n      s.onerror = function() {\n        console.warn(\"failed to load library \" + url);\n      };\n      console.log(\"Bokeh: injecting script tag for BokehJS library: \", url);\n      document.getElementsByTagName(\"head\")[0].appendChild(s);\n    }\n  };var element = document.getElementById(\"7a7fd7eb-12be-4ea0-b4d5-366efce4ec9e\");\n  if (element == null) {\n    console.log(\"Bokeh: ERROR: autoload.js configured with elementid '7a7fd7eb-12be-4ea0-b4d5-366efce4ec9e' but no matching script tag was found. \")\n    return false;\n  }\n\n  var js_urls = [\"https://cdn.pydata.org/bokeh/release/bokeh-0.13.0.min.js\", \"https://cdn.pydata.org/bokeh/release/bokeh-widgets-0.13.0.min.js\", \"https://cdn.pydata.org/bokeh/release/bokeh-tables-0.13.0.min.js\", \"https://cdn.pydata.org/bokeh/release/bokeh-gl-0.13.0.min.js\"];\n\n  var inline_js = [\n    function(Bokeh) {\n      Bokeh.set_log_level(\"info\");\n    },\n    \n    function(Bokeh) {\n      \n    },\n    function(Bokeh) {\n      console.log(\"Bokeh: injecting CSS: https://cdn.pydata.org/bokeh/release/bokeh-0.13.0.min.css\");\n      Bokeh.embed.inject_css(\"https://cdn.pydata.org/bokeh/release/bokeh-0.13.0.min.css\");\n      console.log(\"Bokeh: injecting CSS: https://cdn.pydata.org/bokeh/release/bokeh-widgets-0.13.0.min.css\");\n      Bokeh.embed.inject_css(\"https://cdn.pydata.org/bokeh/release/bokeh-widgets-0.13.0.min.css\");\n      console.log(\"Bokeh: injecting CSS: https://cdn.pydata.org/bokeh/release/bokeh-tables-0.13.0.min.css\");\n      Bokeh.embed.inject_css(\"https://cdn.pydata.org/bokeh/release/bokeh-tables-0.13.0.min.css\");\n    }\n  ];\n\n  function run_inline_js() {\n    \n    if ((root.Bokeh !== undefined) || (force === true)) {\n      for (var i = 0; i < inline_js.length; i++) {\n        inline_js[i].call(root, root.Bokeh);\n      }if (force === true) {\n        display_loaded();\n      }} else if (Date.now() < root._bokeh_timeout) {\n      setTimeout(run_inline_js, 100);\n    } else if (!root._bokeh_failed_load) {\n      console.log(\"Bokeh: BokehJS failed to load within specified timeout.\");\n      root._bokeh_failed_load = true;\n    } else if (force !== true) {\n      var cell = $(document.getElementById(\"7a7fd7eb-12be-4ea0-b4d5-366efce4ec9e\")).parents('.cell').data().cell;\n      cell.output_area.append_execute_result(NB_LOAD_WARNING)\n    }\n\n  }\n\n  if (root._bokeh_is_loading === 0) {\n    console.log(\"Bokeh: BokehJS loaded, going straight to plotting\");\n    run_inline_js();\n  } else {\n    load_libs(js_urls, function() {\n      console.log(\"Bokeh: BokehJS plotting callback run at\", now());\n      run_inline_js();\n    });\n  }\n}(window));"
     },
     "metadata": {},
     "output_type": "display_data"
    }
   ],
   "source": [
    "from bokeh.io import output_notebook, show\n",
    "from bokeh.layouts import gridplot\n",
    "from bokeh.palettes import Viridis3\n",
    "from bokeh.plotting import figure\n",
    "import numpy as np\n",
    "\n",
    "output_notebook()"
   ]
  },
  {
   "cell_type": "code",
   "execution_count": 9,
   "metadata": {},
   "outputs": [
    {
     "data": {
      "text/html": [
       "\n",
       "\n",
       "\n",
       "\n",
       "\n",
       "\n",
       "  <div class=\"bk-root\" id=\"2d0f6d74-c1b5-46b1-90e3-3efde5056cdb\"></div>\n"
      ]
     },
     "metadata": {},
     "output_type": "display_data"
    },
    {
     "data": {
      "application/javascript": [
       "(function(root) {\n",
       "  function embed_document(root) {\n",
       "    \n",
       "  var docs_json = {\"6bba0235-95c7-4a41-b0e1-5b71288f0b25\":{\"roots\":{\"references\":[{\"attributes\":{\"overlay\":{\"id\":\"2b2f7618-91aa-4bee-ba53-5f3218a6d4b0\",\"type\":\"BoxAnnotation\"}},\"id\":\"d411fb7f-2124-447c-95c5-a88bb1f73581\",\"type\":\"BoxZoomTool\"},{\"attributes\":{\"bottom_units\":\"screen\",\"fill_alpha\":{\"value\":0.5},\"fill_color\":{\"value\":\"lightgrey\"},\"left_units\":\"screen\",\"level\":\"overlay\",\"line_alpha\":{\"value\":1.0},\"line_color\":{\"value\":\"black\"},\"line_dash\":[4,4],\"line_width\":{\"value\":2},\"plot\":null,\"render_mode\":\"css\",\"right_units\":\"screen\",\"top_units\":\"screen\"},\"id\":\"2b2f7618-91aa-4bee-ba53-5f3218a6d4b0\",\"type\":\"BoxAnnotation\"},{\"attributes\":{\"active_drag\":\"auto\",\"active_inspect\":\"auto\",\"active_multi\":null,\"active_scroll\":\"auto\",\"active_tap\":\"auto\",\"tools\":[{\"id\":\"51342e46-7b6e-421f-a7cf-f49b272741f9\",\"type\":\"PanTool\"},{\"id\":\"218240fb-91bf-4f1e-94f3-e69d4ee1a371\",\"type\":\"WheelZoomTool\"},{\"id\":\"12d6dfb2-30cf-4dfa-863e-e33b9c871ec8\",\"type\":\"BoxZoomTool\"},{\"id\":\"16e1bd72-6c93-420e-b115-3a37932ff892\",\"type\":\"SaveTool\"},{\"id\":\"434780be-4524-49a5-9291-4f5fd9d7ac45\",\"type\":\"ResetTool\"},{\"id\":\"732b4579-6cdc-4003-ad00-c79ce4b0df27\",\"type\":\"HelpTool\"}]},\"id\":\"d6dc604f-d54e-46e0-ab09-41180e948f34\",\"type\":\"Toolbar\"},{\"attributes\":{},\"id\":\"6e8cae97-c9bd-481b-8d54-6f3dc6cc9746\",\"type\":\"SaveTool\"},{\"attributes\":{\"callback\":null},\"id\":\"716c3e65-c507-40d1-8380-de780b091d07\",\"type\":\"DataRange1d\"},{\"attributes\":{},\"id\":\"cce4857c-594b-4bef-a070-55f57eeebd59\",\"type\":\"ResetTool\"},{\"attributes\":{},\"id\":\"83925b5d-34f6-4c5b-bfad-65ec3b3080a7\",\"type\":\"HelpTool\"},{\"attributes\":{\"callback\":null},\"id\":\"57773ddc-f72a-4cb6-902f-613ca9a93f7a\",\"type\":\"DataRange1d\"},{\"attributes\":{\"source\":{\"id\":\"98bad63f-bf8e-47f0-b1e8-44636fb18d70\",\"type\":\"ColumnDataSource\"}},\"id\":\"2fbd87ae-7302-49d7-80cd-3f6665358e98\",\"type\":\"CDSView\"},{\"attributes\":{\"active_drag\":\"auto\",\"active_inspect\":\"auto\",\"active_multi\":null,\"active_scroll\":\"auto\",\"active_tap\":\"auto\",\"tools\":[{\"id\":\"4a47d2c3-a32b-4db3-acc8-0ce799b66be1\",\"type\":\"PanTool\"},{\"id\":\"7f5236b7-3e2e-42b7-b5ac-fc264e8897cc\",\"type\":\"WheelZoomTool\"},{\"id\":\"ce6b2727-38e3-4226-bfef-c9585cd4d9a6\",\"type\":\"BoxZoomTool\"},{\"id\":\"b7465515-7244-46f7-98e1-20c66f1d83b1\",\"type\":\"SaveTool\"},{\"id\":\"2a9009d9-4518-4e4e-a3df-6e0156b6de70\",\"type\":\"ResetTool\"},{\"id\":\"ac384ecd-a815-484a-a320-7073dba2c8ce\",\"type\":\"HelpTool\"}]},\"id\":\"09f2fbb4-b44b-4324-a66b-094ecbdf17c1\",\"type\":\"Toolbar\"},{\"attributes\":{},\"id\":\"e0f48860-f5f1-458f-9725-ad9b0580a594\",\"type\":\"BasicTicker\"},{\"attributes\":{},\"id\":\"36ce7bf9-bd89-4503-8660-0bbb8a8ec08a\",\"type\":\"LinearScale\"},{\"attributes\":{\"callback\":null},\"id\":\"25c22463-8b10-4e10-bd86-d737d60ab41c\",\"type\":\"DataRange1d\"},{\"attributes\":{},\"id\":\"c93978e9-db9c-4487-985f-dce239dfdeaa\",\"type\":\"WheelZoomTool\"},{\"attributes\":{},\"id\":\"c7fa4219-ba55-4326-9780-deaee4023bb5\",\"type\":\"LinearScale\"},{\"attributes\":{\"dimension\":1,\"plot\":{\"id\":\"7086d40e-1159-40c8-af3a-e8c0b176d074\",\"subtype\":\"Figure\",\"type\":\"Plot\"},\"ticker\":{\"id\":\"e0f48860-f5f1-458f-9725-ad9b0580a594\",\"type\":\"BasicTicker\"}},\"id\":\"badd64bd-58a9-40ee-9b94-290e44020320\",\"type\":\"Grid\"},{\"attributes\":{\"fill_alpha\":{\"value\":0.1},\"fill_color\":{\"value\":\"#1f77b4\"},\"line_alpha\":{\"value\":0.1},\"line_color\":{\"value\":\"#1f77b4\"},\"size\":{\"units\":\"screen\",\"value\":3},\"x\":{\"field\":\"x\"},\"y\":{\"field\":\"y\"}},\"id\":\"3311ee05-fec5-48a7-b57d-ca64bd51011a\",\"type\":\"Circle\"},{\"attributes\":{\"data_source\":{\"id\":\"98bad63f-bf8e-47f0-b1e8-44636fb18d70\",\"type\":\"ColumnDataSource\"},\"glyph\":{\"id\":\"c4833e9d-0fe7-4a50-8908-a38598af4616\",\"type\":\"Circle\"},\"hover_glyph\":null,\"muted_glyph\":null,\"nonselection_glyph\":{\"id\":\"3311ee05-fec5-48a7-b57d-ca64bd51011a\",\"type\":\"Circle\"},\"selection_glyph\":null,\"view\":{\"id\":\"2fbd87ae-7302-49d7-80cd-3f6665358e98\",\"type\":\"CDSView\"}},\"id\":\"c402b7f9-f692-4a8f-9756-90e5ccfba2ed\",\"type\":\"GlyphRenderer\"},{\"attributes\":{\"children\":[{\"id\":\"ebd8ff2f-ab24-4b7b-9e97-1df32d337343\",\"subtype\":\"Figure\",\"type\":\"Plot\"},{\"id\":\"5a4e660d-2f4f-4d08-8a35-2d4012d8403a\",\"subtype\":\"Figure\",\"type\":\"Plot\"}]},\"id\":\"baf08a74-d7b1-46a4-80b9-15baa0848263\",\"type\":\"Row\"},{\"attributes\":{\"children\":[{\"id\":\"baf08a74-d7b1-46a4-80b9-15baa0848263\",\"type\":\"Row\"},{\"id\":\"afd7a111-54b3-456b-b707-305fc9954bc4\",\"type\":\"Row\"}]},\"id\":\"551a0238-2deb-4e9c-b7ad-500a65012bc6\",\"type\":\"Column\"},{\"attributes\":{\"bottom_units\":\"screen\",\"fill_alpha\":{\"value\":0.5},\"fill_color\":{\"value\":\"lightgrey\"},\"left_units\":\"screen\",\"level\":\"overlay\",\"line_alpha\":{\"value\":1.0},\"line_color\":{\"value\":\"black\"},\"line_dash\":[4,4],\"line_width\":{\"value\":2},\"plot\":null,\"render_mode\":\"css\",\"right_units\":\"screen\",\"top_units\":\"screen\"},\"id\":\"f1c300f5-4ae4-41dc-9806-9a78b321306d\",\"type\":\"BoxAnnotation\"},{\"attributes\":{},\"id\":\"4a47d2c3-a32b-4db3-acc8-0ce799b66be1\",\"type\":\"PanTool\"},{\"attributes\":{},\"id\":\"7f5236b7-3e2e-42b7-b5ac-fc264e8897cc\",\"type\":\"WheelZoomTool\"},{\"attributes\":{\"overlay\":{\"id\":\"f1c300f5-4ae4-41dc-9806-9a78b321306d\",\"type\":\"BoxAnnotation\"}},\"id\":\"ce6b2727-38e3-4226-bfef-c9585cd4d9a6\",\"type\":\"BoxZoomTool\"},{\"attributes\":{},\"id\":\"b7465515-7244-46f7-98e1-20c66f1d83b1\",\"type\":\"SaveTool\"},{\"attributes\":{},\"id\":\"2a9009d9-4518-4e4e-a3df-6e0156b6de70\",\"type\":\"ResetTool\"},{\"attributes\":{},\"id\":\"ac384ecd-a815-484a-a320-7073dba2c8ce\",\"type\":\"HelpTool\"},{\"attributes\":{},\"id\":\"6d917b9f-e798-448c-b90c-1feaa050af18\",\"type\":\"UnionRenderers\"},{\"attributes\":{},\"id\":\"b0028629-db7c-46c5-9462-3f7e31dbb8e6\",\"type\":\"BasicTicker\"},{\"attributes\":{},\"id\":\"ca43c4a9-8084-4957-be94-7d8af7fb416d\",\"type\":\"BasicTickFormatter\"},{\"attributes\":{},\"id\":\"abaf7b04-7a5b-4290-bf05-9f01ad26792b\",\"type\":\"BasicTickFormatter\"},{\"attributes\":{},\"id\":\"c80bf077-16d2-4be8-abe0-7a07f6c55825\",\"type\":\"Selection\"},{\"attributes\":{},\"id\":\"f4e0fefe-b7bb-436d-884b-40153ae99982\",\"type\":\"LinearScale\"},{\"attributes\":{},\"id\":\"130dc1de-0502-4bb6-8213-963e2354963c\",\"type\":\"BasicTickFormatter\"},{\"attributes\":{},\"id\":\"faa6923c-72e1-4efc-8fc7-6c3f7c5cf4be\",\"type\":\"BasicTickFormatter\"},{\"attributes\":{\"formatter\":{\"id\":\"ca43c4a9-8084-4957-be94-7d8af7fb416d\",\"type\":\"BasicTickFormatter\"},\"plot\":{\"id\":\"ebd8ff2f-ab24-4b7b-9e97-1df32d337343\",\"subtype\":\"Figure\",\"type\":\"Plot\"},\"ticker\":{\"id\":\"27f4be9a-6adc-468b-b127-262f031537b4\",\"type\":\"BasicTicker\"}},\"id\":\"01616c60-9d4f-4beb-8798-ec0dcc8a1943\",\"type\":\"LinearAxis\"},{\"attributes\":{},\"id\":\"93dd77b4-659b-4a2c-8df2-227d3621f6d1\",\"type\":\"UnionRenderers\"},{\"attributes\":{\"plot\":{\"id\":\"ebd8ff2f-ab24-4b7b-9e97-1df32d337343\",\"subtype\":\"Figure\",\"type\":\"Plot\"},\"ticker\":{\"id\":\"27f4be9a-6adc-468b-b127-262f031537b4\",\"type\":\"BasicTicker\"}},\"id\":\"4d9b47d9-b226-4f2a-a168-31fa02273342\",\"type\":\"Grid\"},{\"attributes\":{},\"id\":\"b4dba908-e1e8-46a4-9662-cc3121d2f70e\",\"type\":\"Selection\"},{\"attributes\":{\"callback\":null},\"id\":\"3ca724fa-8851-4912-ae45-58aab4184bf7\",\"type\":\"DataRange1d\"},{\"attributes\":{\"children\":[{\"id\":\"4112367d-7440-45bc-9bc8-3c717dacfe0d\",\"type\":\"Spacer\"},{\"id\":\"7086d40e-1159-40c8-af3a-e8c0b176d074\",\"subtype\":\"Figure\",\"type\":\"Plot\"}]},\"id\":\"afd7a111-54b3-456b-b707-305fc9954bc4\",\"type\":\"Row\"},{\"attributes\":{\"bottom_units\":\"screen\",\"fill_alpha\":{\"value\":0.5},\"fill_color\":{\"value\":\"lightgrey\"},\"left_units\":\"screen\",\"level\":\"overlay\",\"line_alpha\":{\"value\":1.0},\"line_color\":{\"value\":\"black\"},\"line_dash\":[4,4],\"line_width\":{\"value\":2},\"plot\":null,\"render_mode\":\"css\",\"right_units\":\"screen\",\"top_units\":\"screen\"},\"id\":\"0aedb2b7-46dc-44cc-9a56-d971b0eab796\",\"type\":\"BoxAnnotation\"},{\"attributes\":{\"height\":250,\"width\":250},\"id\":\"4112367d-7440-45bc-9bc8-3c717dacfe0d\",\"type\":\"Spacer\"},{\"attributes\":{\"formatter\":{\"id\":\"6cc24b50-9f3a-4ec6-9f6a-2fd3a3ae3d0a\",\"type\":\"BasicTickFormatter\"},\"plot\":{\"id\":\"7086d40e-1159-40c8-af3a-e8c0b176d074\",\"subtype\":\"Figure\",\"type\":\"Plot\"},\"ticker\":{\"id\":\"b0028629-db7c-46c5-9462-3f7e31dbb8e6\",\"type\":\"BasicTicker\"}},\"id\":\"166ec21b-ebed-4c6d-a85a-798695d6188f\",\"type\":\"LinearAxis\"},{\"attributes\":{},\"id\":\"1e272d9d-a81a-44f2-bfb1-5009dcfa5407\",\"type\":\"BasicTickFormatter\"},{\"attributes\":{},\"id\":\"ea892002-8f0e-496a-9a01-51a229a53191\",\"type\":\"LinearScale\"},{\"attributes\":{},\"id\":\"6cc24b50-9f3a-4ec6-9f6a-2fd3a3ae3d0a\",\"type\":\"BasicTickFormatter\"},{\"attributes\":{},\"id\":\"51342e46-7b6e-421f-a7cf-f49b272741f9\",\"type\":\"PanTool\"},{\"attributes\":{},\"id\":\"ff59355b-90b1-49c3-a8e8-9d3c33787445\",\"type\":\"UnionRenderers\"},{\"attributes\":{\"fill_alpha\":{\"value\":0.1},\"fill_color\":{\"value\":\"#1f77b4\"},\"line_alpha\":{\"value\":0.1},\"line_color\":{\"value\":\"#1f77b4\"},\"size\":{\"units\":\"screen\",\"value\":3},\"x\":{\"field\":\"x\"},\"y\":{\"field\":\"y\"}},\"id\":\"b51fe720-d6ca-4072-ad3d-f93cdbd3928f\",\"type\":\"Circle\"},{\"attributes\":{},\"id\":\"617e7160-4b0f-4112-ba4f-f50b22dc8767\",\"type\":\"Selection\"},{\"attributes\":{\"formatter\":{\"id\":\"1e272d9d-a81a-44f2-bfb1-5009dcfa5407\",\"type\":\"BasicTickFormatter\"},\"plot\":{\"id\":\"7086d40e-1159-40c8-af3a-e8c0b176d074\",\"subtype\":\"Figure\",\"type\":\"Plot\"},\"ticker\":{\"id\":\"e0f48860-f5f1-458f-9725-ad9b0580a594\",\"type\":\"BasicTicker\"}},\"id\":\"9af6406e-69e3-43bf-86bd-fc182d85690a\",\"type\":\"LinearAxis\"},{\"attributes\":{\"callback\":null,\"data\":{\"x\":{\"__ndarray__\":\"AAAAAAAAAACRGkt8Vz/AP5EaS3xXP9A/2qdwOgNf2D+RGkt8Vz/gPzXhXVstT+Q/2qdwOgNf6D9+boMZ2W7sP5EaS3xXP/A/433Ua0JH8j814V1bLU/0P4dE50oYV/Y/2qdwOgNf+D8sC/op7mb6P35ugxnZbvw/0NEMCcR2/j+RGkt8Vz8AQDrMD/RMQwFA433Ua0JHAkCML5njN0sDQDXhXVstTwRA3pIi0yJTBUCHROdKGFcGQDD2q8INWwdA2qdwOgNfCECDWTWy+GIJQCwL+inuZgpA1by+oeNqC0B+boMZ2W4MQCcgSJHOcg1A0NEMCcR2DkB5g9GAuXoPQJEaS3xXPxBAZnMtOFLBEEA6zA/0TEMRQA8l8q9HxRFA433Ua0JHEkC41rYnPckSQIwvmeM3SxNAYYh7nzLNE0A14V1bLU8UQAo6QBco0RRA3pIi0yJTFUCz6wSPHdUVQIdE50oYVxZAXJ3JBhPZFkAw9qvCDVsXQAVPjn4I3RdA2qdwOgNfGECuAFP2/eAYQINZNbL4YhlAV7IXbvPkGUAsC/op7mYaQABk3OXo6BpA1by+oeNqG0CpFaFd3uwbQH5ugxnZbhxAUsdl1dPwHEAnIEiRznIdQPt4Kk3J9B1A0NEMCcR2HkCkKu/EvvgeQHmD0YC5eh9ATdyzPLT8H0CRGkt8Vz8gQPtGPNpUgCBAZnMtOFLBIEDQnx6WTwIhQDrMD/RMQyFApPgAUkqEIUAPJfKvR8UhQHlR4w1FBiJA433Ua0JHIkBNqsXJP4giQLjWtic9ySJAIgOohToKI0CML5njN0sjQPZbikE1jCNAYYh7nzLNI0DLtGz9Lw4kQDXhXVstTyRAoA1PuSqQJEAKOkAXKNEkQHRmMXUlEiVA3pIi0yJTJUBJvxMxIJQlQLPrBI8d1SVAHRj27BoWJkCHROdKGFcmQPJw2KgVmCZAXJ3JBhPZJkDGybpkEBonQDD2q8INWydAmyKdIAucJ0AFT45+CN0nQG97f9wFHihA2qdwOgNfKEBE1GGYAKAoQK4AU/b94ChAGC1EVPshKUA=\",\"dtype\":\"float64\",\"shape\":[100]},\"y\":{\"__ndarray__\":\"AAAAAAAA8D9o+gYFGL7vPyN/Fo5v+e4/XLHeqjC17T9foQT4kvbrP1YykSHGxOk/tDkVSdQo5z9AE3HJfC3kP10soPEH3+A/thLH2SiW2j9bQ2NRvgDTP4xzC34aOsY/cyCwKKhcqD8NyeikuUm0v0/eq9oaN8q/PSGBd67u1L+LyZhelmvcv8/m3JG2ueG/hlh3f5705L9dUsfUNNnnv10cd/2OW+q/wfLvCVdx7L8bLVJC9hHuv0PyRoe4Nu+/XjTx7ufa778HB0As4PvvvwQ9tXAZme+/V1DNmyq07r/ZTwivwlDtv4lZi6GZdOu/JeDa0Vgn6b/aPrV2e3Lmv820DJEnYeO/+v//////3783i/Tn4LnYv4yAwi7oDdG/30QPZF83wr9U+ijPKj+QvxHsuGvkX7w/k1rgSlktzj+GU4hOOdfWP1q1P3WwOd4/AasNgtOP4j+XUJVeWbblPzhQz6Jvg+g/uvBkh4zr6j99NRQyxuTsP/FJcov7Zu4/Juk3u/Vr7z+VSynBge/vP5RLKcGB7+8/Jek3u/Vr7z/vSXKL+2buP381FDLG5Ow/uPBkh4zr6j86UM+ib4PoP5VQlV5ZtuU/BasNgtOP4j9UtT91sDneP45TiE4519Y/hVrgSlktzj807Lhr5F+8P8f6KM8qP5C/zUQPZF83wr+SgMIu6A3Rvy6L9Ofgudi/BgAAAAAA4L/PtAyRJ2Hjv9k+tXZ7cua/I+Da0Vgn6b+NWYuhmXTrv9pPCK/CUO2/V1DNmyq07r8EPbVwGZnvvwgHQCzg+++/XjTx7ufa779E8kaHuDbvvx4tUkL2Ee6/wPLvCVdx7L9dHHf9jlvqv2BSx9Q02ee/gVh3f5705L/M5tyRtrnhv4zJmF6Wa9y/RiGBd67u1L8x3qvaGjfKv/DI6KS5SbS/bCCwKKhcqD90cwt+GjrGP2VDY1G+ANM/uRLH2SiW2j9aLKDxB9/gPzoTccl8LeQ/uDkVSdQo5z9WMpEhxsTpP16hBPiS9us/X7HeqjC17T8kfxaOb/nuP2j6BgUYvu8/AAAAAAAA8D8=\",\"dtype\":\"float64\",\"shape\":[100]}},\"selected\":{\"id\":\"b4dba908-e1e8-46a4-9662-cc3121d2f70e\",\"type\":\"Selection\"},\"selection_policy\":{\"id\":\"93dd77b4-659b-4a2c-8df2-227d3621f6d1\",\"type\":\"UnionRenderers\"}},\"id\":\"f58221aa-a47f-499d-9cf5-b52df0cd244d\",\"type\":\"ColumnDataSource\"},{\"attributes\":{\"tools\":[{\"id\":\"51342e46-7b6e-421f-a7cf-f49b272741f9\",\"type\":\"PanTool\"},{\"id\":\"218240fb-91bf-4f1e-94f3-e69d4ee1a371\",\"type\":\"WheelZoomTool\"},{\"id\":\"12d6dfb2-30cf-4dfa-863e-e33b9c871ec8\",\"type\":\"BoxZoomTool\"},{\"id\":\"16e1bd72-6c93-420e-b115-3a37932ff892\",\"type\":\"SaveTool\"},{\"id\":\"434780be-4524-49a5-9291-4f5fd9d7ac45\",\"type\":\"ResetTool\"},{\"id\":\"732b4579-6cdc-4003-ad00-c79ce4b0df27\",\"type\":\"HelpTool\"},{\"id\":\"4dd173c1-52d4-41b6-bd65-e49a2d182ebd\",\"type\":\"PanTool\"},{\"id\":\"c93978e9-db9c-4487-985f-dce239dfdeaa\",\"type\":\"WheelZoomTool\"},{\"id\":\"d411fb7f-2124-447c-95c5-a88bb1f73581\",\"type\":\"BoxZoomTool\"},{\"id\":\"6e8cae97-c9bd-481b-8d54-6f3dc6cc9746\",\"type\":\"SaveTool\"},{\"id\":\"cce4857c-594b-4bef-a070-55f57eeebd59\",\"type\":\"ResetTool\"},{\"id\":\"83925b5d-34f6-4c5b-bfad-65ec3b3080a7\",\"type\":\"HelpTool\"},{\"id\":\"4a47d2c3-a32b-4db3-acc8-0ce799b66be1\",\"type\":\"PanTool\"},{\"id\":\"7f5236b7-3e2e-42b7-b5ac-fc264e8897cc\",\"type\":\"WheelZoomTool\"},{\"id\":\"ce6b2727-38e3-4226-bfef-c9585cd4d9a6\",\"type\":\"BoxZoomTool\"},{\"id\":\"b7465515-7244-46f7-98e1-20c66f1d83b1\",\"type\":\"SaveTool\"},{\"id\":\"2a9009d9-4518-4e4e-a3df-6e0156b6de70\",\"type\":\"ResetTool\"},{\"id\":\"ac384ecd-a815-484a-a320-7073dba2c8ce\",\"type\":\"HelpTool\"}]},\"id\":\"8067f1d5-b8e5-4a09-8583-ba4ca2121139\",\"type\":\"ProxyToolbar\"},{\"attributes\":{\"callback\":null,\"data\":{\"x\":{\"__ndarray__\":\"AAAAAAAAAACRGkt8Vz/AP5EaS3xXP9A/2qdwOgNf2D+RGkt8Vz/gPzXhXVstT+Q/2qdwOgNf6D9+boMZ2W7sP5EaS3xXP/A/433Ua0JH8j814V1bLU/0P4dE50oYV/Y/2qdwOgNf+D8sC/op7mb6P35ugxnZbvw/0NEMCcR2/j+RGkt8Vz8AQDrMD/RMQwFA433Ua0JHAkCML5njN0sDQDXhXVstTwRA3pIi0yJTBUCHROdKGFcGQDD2q8INWwdA2qdwOgNfCECDWTWy+GIJQCwL+inuZgpA1by+oeNqC0B+boMZ2W4MQCcgSJHOcg1A0NEMCcR2DkB5g9GAuXoPQJEaS3xXPxBAZnMtOFLBEEA6zA/0TEMRQA8l8q9HxRFA433Ua0JHEkC41rYnPckSQIwvmeM3SxNAYYh7nzLNE0A14V1bLU8UQAo6QBco0RRA3pIi0yJTFUCz6wSPHdUVQIdE50oYVxZAXJ3JBhPZFkAw9qvCDVsXQAVPjn4I3RdA2qdwOgNfGECuAFP2/eAYQINZNbL4YhlAV7IXbvPkGUAsC/op7mYaQABk3OXo6BpA1by+oeNqG0CpFaFd3uwbQH5ugxnZbhxAUsdl1dPwHEAnIEiRznIdQPt4Kk3J9B1A0NEMCcR2HkCkKu/EvvgeQHmD0YC5eh9ATdyzPLT8H0CRGkt8Vz8gQPtGPNpUgCBAZnMtOFLBIEDQnx6WTwIhQDrMD/RMQyFApPgAUkqEIUAPJfKvR8UhQHlR4w1FBiJA433Ua0JHIkBNqsXJP4giQLjWtic9ySJAIgOohToKI0CML5njN0sjQPZbikE1jCNAYYh7nzLNI0DLtGz9Lw4kQDXhXVstTyRAoA1PuSqQJEAKOkAXKNEkQHRmMXUlEiVA3pIi0yJTJUBJvxMxIJQlQLPrBI8d1SVAHRj27BoWJkCHROdKGFcmQPJw2KgVmCZAXJ3JBhPZJkDGybpkEBonQDD2q8INWydAmyKdIAucJ0AFT45+CN0nQG97f9wFHihA2qdwOgNfKEBE1GGYAKAoQK4AU/b94ChAGC1EVPshKUA=\",\"dtype\":\"float64\",\"shape\":[100]},\"y\":{\"__ndarray__\":\"AAAAAAAAAADwgwJ4LjTAP5qI2QHPEtA/+5MNU1HJ1z8ZTT7q2B3fP0aFmgwa+eI/ABg/lCAV5j+IQCEcMdboP3fOhmLzMOs/EyzujrQb7T/9Izwlj47uPxccgYyLg+8/g6xao7j27z9mZrL8O+bvP7+X94FZUu8/xVNiW3I97j9RB8Ai+6vsP5FWKYlppOo/oig6uxkv6D/Sh2bxK1blPyZGRbpaJeI/8qg+VZVT3T/4C4p0qOPVP+UppLIiM8w/3FNHxZdVuD/I23zJpD6gv+3ENsZjOcS/wo12/ecH0r/egWKM2KjZv2MTsJELcOC/83ixWvXH47+258MBZM7mv5eCD4nhdum/rExY6Hq267+TIxAn7YPtvwSssILL1+6/70I4BJ6s77/vOc8G+P7vvzTGy1KGze+/3176khQZ77/C8a4NiuTtvzGcHq/dNOy/mEFFlgER6r+EGZN4xoHnvx8WPFK3keS/Cli7+O1M4b+HQNqEwoHbv9kfIiFb+NO/gKyggGI5yL8EhrXMjDywvyCGtcyMPLA/jqyggGI5yD/gHyIhW/jTP4BA2oTCgds/Dli7+O1M4T8cFjxSt5HkP4cZk3jGgec/lEFFlgER6j8ynB6v3TTsP8Hxrg2K5O0/4F76khQZ7z80xstShs3vP+85zwb4/u8/8EI4BJ6s7z8DrLCCy9fuP5UjECftg+0/p0xY6Hq26z+Vgg+J4XbpP7fnwwFkzuY/9nixWvXH4z9cE7CRC3DgP9eBYozYqNk/w412/ecH0j/+xDbGYznEP0/bfMmkPqA/+VNHxZdVuL/UKaSyIjPMv+gLinSo49W/+Kg+VZVT3b8mRkW6WiXiv8+HZvErVuW/pig6uxkv6L+TVimJaaTqv1EHwCL7q+y/xFNiW3I97r/Al/eBWVLvv2Zmsvw75u+/g6xao7j2778YHIGMi4Pvv/sjPCWPju6/EyzujrQb7b94zoZi8zDrv4xAIRwx1ui//Bc/lCAV5r9GhZoMGvnivx5NPurYHd+/65MNU1HJ17+SiNkBzxLQv/GDAnguNMC/B1wUMyamwbw=\",\"dtype\":\"float64\",\"shape\":[100]}},\"selected\":{\"id\":\"c80bf077-16d2-4be8-abe0-7a07f6c55825\",\"type\":\"Selection\"},\"selection_policy\":{\"id\":\"6d917b9f-e798-448c-b90c-1feaa050af18\",\"type\":\"UnionRenderers\"}},\"id\":\"85846ebc-ac52-4300-bab2-8ce42c48dea7\",\"type\":\"ColumnDataSource\"},{\"attributes\":{\"dimension\":1,\"plot\":{\"id\":\"ebd8ff2f-ab24-4b7b-9e97-1df32d337343\",\"subtype\":\"Figure\",\"type\":\"Plot\"},\"ticker\":{\"id\":\"6a90d0e3-d739-4169-9d25-c97455e95ad0\",\"type\":\"BasicTicker\"}},\"id\":\"06054fd5-49de-4ea7-9d36-83c7b4102459\",\"type\":\"Grid\"},{\"attributes\":{\"toolbar\":{\"id\":\"8067f1d5-b8e5-4a09-8583-ba4ca2121139\",\"type\":\"ProxyToolbar\"},\"toolbar_location\":\"above\"},\"id\":\"33f7fa32-4f94-4f99-90ae-e91c31f9a11b\",\"type\":\"ToolbarBox\"},{\"attributes\":{\"below\":[{\"id\":\"2babb489-19ce-4db9-bc23-059579c5f56f\",\"type\":\"LinearAxis\"}],\"left\":[{\"id\":\"5ecdc737-93fb-4a99-96dd-23600dabba1a\",\"type\":\"LinearAxis\"}],\"plot_height\":250,\"plot_width\":250,\"renderers\":[{\"id\":\"2babb489-19ce-4db9-bc23-059579c5f56f\",\"type\":\"LinearAxis\"},{\"id\":\"0fa7a072-ecd1-4efb-977e-6acf8d3839e0\",\"type\":\"Grid\"},{\"id\":\"5ecdc737-93fb-4a99-96dd-23600dabba1a\",\"type\":\"LinearAxis\"},{\"id\":\"f8a6faa4-7216-49c8-9d76-36706df68aa5\",\"type\":\"Grid\"},{\"id\":\"2b2f7618-91aa-4bee-ba53-5f3218a6d4b0\",\"type\":\"BoxAnnotation\"},{\"id\":\"a8ed362a-8b08-46ac-8b0d-3fb8a90a5c69\",\"type\":\"GlyphRenderer\"}],\"title\":null,\"toolbar\":{\"id\":\"1fe5596e-07f6-436f-9ce9-a4641e9b73a1\",\"type\":\"Toolbar\"},\"toolbar_location\":null,\"x_range\":{\"id\":\"861fabf0-1c66-4deb-82cf-a32537356f56\",\"type\":\"DataRange1d\"},\"x_scale\":{\"id\":\"ff53b5cb-a7b2-4629-8178-30990cadfffb\",\"type\":\"LinearScale\"},\"y_range\":{\"id\":\"5d9a571e-99c3-41fd-bdaa-d82b6a977d90\",\"type\":\"DataRange1d\"},\"y_scale\":{\"id\":\"8ae473be-907e-4c0a-8c49-1df8d422b50b\",\"type\":\"LinearScale\"}},\"id\":\"5a4e660d-2f4f-4d08-8a35-2d4012d8403a\",\"subtype\":\"Figure\",\"type\":\"Plot\"},{\"attributes\":{},\"id\":\"6a90d0e3-d739-4169-9d25-c97455e95ad0\",\"type\":\"BasicTicker\"},{\"attributes\":{\"children\":[{\"id\":\"33f7fa32-4f94-4f99-90ae-e91c31f9a11b\",\"type\":\"ToolbarBox\"},{\"id\":\"551a0238-2deb-4e9c-b7ad-500a65012bc6\",\"type\":\"Column\"}]},\"id\":\"5ef03b77-b3a1-426a-9736-b808a4dd98df\",\"type\":\"Column\"},{\"attributes\":{\"fill_color\":{\"value\":\"#440154\"},\"line_color\":{\"value\":\"#440154\"},\"size\":{\"units\":\"screen\",\"value\":3},\"x\":{\"field\":\"x\"},\"y\":{\"field\":\"y\"}},\"id\":\"9d6a8e15-7df4-464b-a542-9efcf6e949c8\",\"type\":\"Circle\"},{\"attributes\":{\"formatter\":{\"id\":\"abaf7b04-7a5b-4290-bf05-9f01ad26792b\",\"type\":\"BasicTickFormatter\"},\"plot\":{\"id\":\"ebd8ff2f-ab24-4b7b-9e97-1df32d337343\",\"subtype\":\"Figure\",\"type\":\"Plot\"},\"ticker\":{\"id\":\"6a90d0e3-d739-4169-9d25-c97455e95ad0\",\"type\":\"BasicTicker\"}},\"id\":\"707bce83-fe80-48bc-889e-2402304cca5a\",\"type\":\"LinearAxis\"},{\"attributes\":{},\"id\":\"27f4be9a-6adc-468b-b127-262f031537b4\",\"type\":\"BasicTicker\"},{\"attributes\":{\"data_source\":{\"id\":\"85846ebc-ac52-4300-bab2-8ce42c48dea7\",\"type\":\"ColumnDataSource\"},\"glyph\":{\"id\":\"9d6a8e15-7df4-464b-a542-9efcf6e949c8\",\"type\":\"Circle\"},\"hover_glyph\":null,\"muted_glyph\":null,\"nonselection_glyph\":{\"id\":\"b51fe720-d6ca-4072-ad3d-f93cdbd3928f\",\"type\":\"Circle\"},\"selection_glyph\":null,\"view\":{\"id\":\"b0dce8f2-75a9-4b65-9f72-6fc9af68d416\",\"type\":\"CDSView\"}},\"id\":\"99d6db4a-f669-4646-9f75-43ae0a464ce7\",\"type\":\"GlyphRenderer\"},{\"attributes\":{\"plot\":{\"id\":\"7086d40e-1159-40c8-af3a-e8c0b176d074\",\"subtype\":\"Figure\",\"type\":\"Plot\"},\"ticker\":{\"id\":\"b0028629-db7c-46c5-9462-3f7e31dbb8e6\",\"type\":\"BasicTicker\"}},\"id\":\"5fc6d4b9-5cb8-41da-96ea-fc18e933c444\",\"type\":\"Grid\"},{\"attributes\":{},\"id\":\"218240fb-91bf-4f1e-94f3-e69d4ee1a371\",\"type\":\"WheelZoomTool\"},{\"attributes\":{\"below\":[{\"id\":\"166ec21b-ebed-4c6d-a85a-798695d6188f\",\"type\":\"LinearAxis\"}],\"left\":[{\"id\":\"9af6406e-69e3-43bf-86bd-fc182d85690a\",\"type\":\"LinearAxis\"}],\"plot_height\":250,\"plot_width\":250,\"renderers\":[{\"id\":\"166ec21b-ebed-4c6d-a85a-798695d6188f\",\"type\":\"LinearAxis\"},{\"id\":\"5fc6d4b9-5cb8-41da-96ea-fc18e933c444\",\"type\":\"Grid\"},{\"id\":\"9af6406e-69e3-43bf-86bd-fc182d85690a\",\"type\":\"LinearAxis\"},{\"id\":\"badd64bd-58a9-40ee-9b94-290e44020320\",\"type\":\"Grid\"},{\"id\":\"f1c300f5-4ae4-41dc-9806-9a78b321306d\",\"type\":\"BoxAnnotation\"},{\"id\":\"c402b7f9-f692-4a8f-9756-90e5ccfba2ed\",\"type\":\"GlyphRenderer\"}],\"title\":null,\"toolbar\":{\"id\":\"09f2fbb4-b44b-4324-a66b-094ecbdf17c1\",\"type\":\"Toolbar\"},\"toolbar_location\":null,\"x_range\":{\"id\":\"57773ddc-f72a-4cb6-902f-613ca9a93f7a\",\"type\":\"DataRange1d\"},\"x_scale\":{\"id\":\"36ce7bf9-bd89-4503-8660-0bbb8a8ec08a\",\"type\":\"LinearScale\"},\"y_range\":{\"id\":\"25c22463-8b10-4e10-bd86-d737d60ab41c\",\"type\":\"DataRange1d\"},\"y_scale\":{\"id\":\"c7fa4219-ba55-4326-9780-deaee4023bb5\",\"type\":\"LinearScale\"}},\"id\":\"7086d40e-1159-40c8-af3a-e8c0b176d074\",\"subtype\":\"Figure\",\"type\":\"Plot\"},{\"attributes\":{},\"id\":\"732b4579-6cdc-4003-ad00-c79ce4b0df27\",\"type\":\"HelpTool\"},{\"attributes\":{},\"id\":\"16e1bd72-6c93-420e-b115-3a37932ff892\",\"type\":\"SaveTool\"},{\"attributes\":{},\"id\":\"6524a822-4d6a-40b6-86c8-f1e3f38245e5\",\"type\":\"BasicTicker\"},{\"attributes\":{\"overlay\":{\"id\":\"0aedb2b7-46dc-44cc-9a56-d971b0eab796\",\"type\":\"BoxAnnotation\"}},\"id\":\"12d6dfb2-30cf-4dfa-863e-e33b9c871ec8\",\"type\":\"BoxZoomTool\"},{\"attributes\":{\"fill_color\":{\"value\":\"#208F8C\"},\"line_color\":{\"value\":\"#208F8C\"},\"size\":{\"units\":\"screen\",\"value\":3},\"x\":{\"field\":\"x\"},\"y\":{\"field\":\"y\"}},\"id\":\"46ca2599-56b8-4063-b4e2-1906d74f2714\",\"type\":\"Circle\"},{\"attributes\":{},\"id\":\"434780be-4524-49a5-9291-4f5fd9d7ac45\",\"type\":\"ResetTool\"},{\"attributes\":{\"data_source\":{\"id\":\"f58221aa-a47f-499d-9cf5-b52df0cd244d\",\"type\":\"ColumnDataSource\"},\"glyph\":{\"id\":\"46ca2599-56b8-4063-b4e2-1906d74f2714\",\"type\":\"Circle\"},\"hover_glyph\":null,\"muted_glyph\":null,\"nonselection_glyph\":{\"id\":\"ab952780-195d-4fcf-9e71-f6a50535b1c6\",\"type\":\"Circle\"},\"selection_glyph\":null,\"view\":{\"id\":\"5b8c1f55-bfbd-4a38-b74f-4f929a45abaf\",\"type\":\"CDSView\"}},\"id\":\"a8ed362a-8b08-46ac-8b0d-3fb8a90a5c69\",\"type\":\"GlyphRenderer\"},{\"attributes\":{\"source\":{\"id\":\"f58221aa-a47f-499d-9cf5-b52df0cd244d\",\"type\":\"ColumnDataSource\"}},\"id\":\"5b8c1f55-bfbd-4a38-b74f-4f929a45abaf\",\"type\":\"CDSView\"},{\"attributes\":{\"plot\":{\"id\":\"5a4e660d-2f4f-4d08-8a35-2d4012d8403a\",\"subtype\":\"Figure\",\"type\":\"Plot\"},\"ticker\":{\"id\":\"6524a822-4d6a-40b6-86c8-f1e3f38245e5\",\"type\":\"BasicTicker\"}},\"id\":\"0fa7a072-ecd1-4efb-977e-6acf8d3839e0\",\"type\":\"Grid\"},{\"attributes\":{\"formatter\":{\"id\":\"faa6923c-72e1-4efc-8fc7-6c3f7c5cf4be\",\"type\":\"BasicTickFormatter\"},\"plot\":{\"id\":\"5a4e660d-2f4f-4d08-8a35-2d4012d8403a\",\"subtype\":\"Figure\",\"type\":\"Plot\"},\"ticker\":{\"id\":\"6524a822-4d6a-40b6-86c8-f1e3f38245e5\",\"type\":\"BasicTicker\"}},\"id\":\"2babb489-19ce-4db9-bc23-059579c5f56f\",\"type\":\"LinearAxis\"},{\"attributes\":{\"source\":{\"id\":\"85846ebc-ac52-4300-bab2-8ce42c48dea7\",\"type\":\"ColumnDataSource\"}},\"id\":\"b0dce8f2-75a9-4b65-9f72-6fc9af68d416\",\"type\":\"CDSView\"},{\"attributes\":{},\"id\":\"8ae473be-907e-4c0a-8c49-1df8d422b50b\",\"type\":\"LinearScale\"},{\"attributes\":{\"fill_alpha\":{\"value\":0.1},\"fill_color\":{\"value\":\"#1f77b4\"},\"line_alpha\":{\"value\":0.1},\"line_color\":{\"value\":\"#1f77b4\"},\"size\":{\"units\":\"screen\",\"value\":3},\"x\":{\"field\":\"x\"},\"y\":{\"field\":\"y\"}},\"id\":\"ab952780-195d-4fcf-9e71-f6a50535b1c6\",\"type\":\"Circle\"},{\"attributes\":{\"callback\":null,\"data\":{\"x\":{\"__ndarray__\":\"AAAAAAAAAACRGkt8Vz/AP5EaS3xXP9A/2qdwOgNf2D+RGkt8Vz/gPzXhXVstT+Q/2qdwOgNf6D9+boMZ2W7sP5EaS3xXP/A/433Ua0JH8j814V1bLU/0P4dE50oYV/Y/2qdwOgNf+D8sC/op7mb6P35ugxnZbvw/0NEMCcR2/j+RGkt8Vz8AQDrMD/RMQwFA433Ua0JHAkCML5njN0sDQDXhXVstTwRA3pIi0yJTBUCHROdKGFcGQDD2q8INWwdA2qdwOgNfCECDWTWy+GIJQCwL+inuZgpA1by+oeNqC0B+boMZ2W4MQCcgSJHOcg1A0NEMCcR2DkB5g9GAuXoPQJEaS3xXPxBAZnMtOFLBEEA6zA/0TEMRQA8l8q9HxRFA433Ua0JHEkC41rYnPckSQIwvmeM3SxNAYYh7nzLNE0A14V1bLU8UQAo6QBco0RRA3pIi0yJTFUCz6wSPHdUVQIdE50oYVxZAXJ3JBhPZFkAw9qvCDVsXQAVPjn4I3RdA2qdwOgNfGECuAFP2/eAYQINZNbL4YhlAV7IXbvPkGUAsC/op7mYaQABk3OXo6BpA1by+oeNqG0CpFaFd3uwbQH5ugxnZbhxAUsdl1dPwHEAnIEiRznIdQPt4Kk3J9B1A0NEMCcR2HkCkKu/EvvgeQHmD0YC5eh9ATdyzPLT8H0CRGkt8Vz8gQPtGPNpUgCBAZnMtOFLBIEDQnx6WTwIhQDrMD/RMQyFApPgAUkqEIUAPJfKvR8UhQHlR4w1FBiJA433Ua0JHIkBNqsXJP4giQLjWtic9ySJAIgOohToKI0CML5njN0sjQPZbikE1jCNAYYh7nzLNI0DLtGz9Lw4kQDXhXVstTyRAoA1PuSqQJEAKOkAXKNEkQHRmMXUlEiVA3pIi0yJTJUBJvxMxIJQlQLPrBI8d1SVAHRj27BoWJkCHROdKGFcmQPJw2KgVmCZAXJ3JBhPZJkDGybpkEBonQDD2q8INWydAmyKdIAucJ0AFT45+CN0nQG97f9wFHihA2qdwOgNfKEBE1GGYAKAoQK4AU/b94ChAGC1EVPshKUA=\",\"dtype\":\"float64\",\"shape\":[100]},\"y\":{\"__ndarray__\":\"AAAAAAAA8D+yzYPRkeXxP7ihgYdrgfM/rb0yquzM9D/245G2v8L1P87bFRfwXvY/2iiqbvqe9j/kKcny1oH2P2p9E6r9B/Y/t9rofWQz9T/V4vYmdwf0P338ARYJifI/RdfykkG+8D9ETRXIBF3tPyugTMuSxOg/JsOhHxvG4z8XRefmX+zcP4TfmO5l1dE/4IAW3tnTuT9YVAYbRxi0v26sY4ZobNC/kDyhvhiP278fJw0IIiDjv8rnndrvKei/4klI9jTQ7L9i6ms85X/wvyB3ITG5U/K/nEtETQ/c879kyJx6lxL1v3a2nZlS8vW/jCxGFqd39r9Ikzy8b6D2v7IbDo0EbPa/VCYsdD3b9b+XNIXNbvD0vyX2CM1fr/O/Ewqe7jod8r/hQKSueEDwv7KoVMWJQey/OkhCQL6N57//x2pm7XjivwiD/egKMNq/XFreULgEzr/Qjtyf0basv8jQmYTCjb8/YDFTHT090z9zKk7fyUfePwQ64frNauQ/Br4PG51d6T/UmpIn8OftPyz+X62J+/A/JAqwLSe98j/wrAGOlDH0P+CqQLrTUvU/YyQQQD0c9j8rs4V6k4r2Pw41lOsPnPY/THYpjGpQ9j9uO9/02qj1P8SNeVoTqPQ/wTrZcjVS8z/dcSFwwazxPxnyVbD+fO8/vXE0K8Ye6z+6a09r11DmP/7dFbP8JuE/Qpmw0PVs1z8YNwvg51bIP4A3qsMi+oY/tJyl3I19xb9ijLYfHAnWv+4O12hWfOC/dgkSnTaw5b/Eiyd/wIrqv1M5qN/19+6/bw/Nc81y8b9c/veZwCHzv4mZSz7lgfS/nqNH2pCN9b9CMd7bdED2vxjtFmOwl/a/lMBYHdyR9r+wHoMNEC/2vww2BinjcPW/NHKRy2Ra9L+mR1EcEPDyv8K/p5i5N/G/fKrPIO5w7r87P/7sBPXpv0iCivwvDuW/bUUVRECh3788RM3h1qPUv0i1wErRosK/wBtiTTs7oT9AtNpTsC7LP571ygVNz9g/audXAYjQ4T/buikNCPDmP2xZBmcMses//P//////7z8=\",\"dtype\":\"float64\",\"shape\":[100]}},\"selected\":{\"id\":\"617e7160-4b0f-4112-ba4f-f50b22dc8767\",\"type\":\"Selection\"},\"selection_policy\":{\"id\":\"ff59355b-90b1-49c3-a8e8-9d3c33787445\",\"type\":\"UnionRenderers\"}},\"id\":\"98bad63f-bf8e-47f0-b1e8-44636fb18d70\",\"type\":\"ColumnDataSource\"},{\"attributes\":{},\"id\":\"ff53b5cb-a7b2-4629-8178-30990cadfffb\",\"type\":\"LinearScale\"},{\"attributes\":{\"callback\":null},\"id\":\"5d9a571e-99c3-41fd-bdaa-d82b6a977d90\",\"type\":\"DataRange1d\"},{\"attributes\":{},\"id\":\"d43bc883-f25d-440e-a6d2-d9c2ef68cc87\",\"type\":\"BasicTicker\"},{\"attributes\":{\"dimension\":1,\"plot\":{\"id\":\"5a4e660d-2f4f-4d08-8a35-2d4012d8403a\",\"subtype\":\"Figure\",\"type\":\"Plot\"},\"ticker\":{\"id\":\"d43bc883-f25d-440e-a6d2-d9c2ef68cc87\",\"type\":\"BasicTicker\"}},\"id\":\"f8a6faa4-7216-49c8-9d76-36706df68aa5\",\"type\":\"Grid\"},{\"attributes\":{\"formatter\":{\"id\":\"130dc1de-0502-4bb6-8213-963e2354963c\",\"type\":\"BasicTickFormatter\"},\"plot\":{\"id\":\"5a4e660d-2f4f-4d08-8a35-2d4012d8403a\",\"subtype\":\"Figure\",\"type\":\"Plot\"},\"ticker\":{\"id\":\"d43bc883-f25d-440e-a6d2-d9c2ef68cc87\",\"type\":\"BasicTicker\"}},\"id\":\"5ecdc737-93fb-4a99-96dd-23600dabba1a\",\"type\":\"LinearAxis\"},{\"attributes\":{\"below\":[{\"id\":\"01616c60-9d4f-4beb-8798-ec0dcc8a1943\",\"type\":\"LinearAxis\"}],\"left\":[{\"id\":\"707bce83-fe80-48bc-889e-2402304cca5a\",\"type\":\"LinearAxis\"}],\"plot_height\":250,\"plot_width\":250,\"renderers\":[{\"id\":\"01616c60-9d4f-4beb-8798-ec0dcc8a1943\",\"type\":\"LinearAxis\"},{\"id\":\"4d9b47d9-b226-4f2a-a168-31fa02273342\",\"type\":\"Grid\"},{\"id\":\"707bce83-fe80-48bc-889e-2402304cca5a\",\"type\":\"LinearAxis\"},{\"id\":\"06054fd5-49de-4ea7-9d36-83c7b4102459\",\"type\":\"Grid\"},{\"id\":\"0aedb2b7-46dc-44cc-9a56-d971b0eab796\",\"type\":\"BoxAnnotation\"},{\"id\":\"99d6db4a-f669-4646-9f75-43ae0a464ce7\",\"type\":\"GlyphRenderer\"}],\"title\":null,\"toolbar\":{\"id\":\"d6dc604f-d54e-46e0-ab09-41180e948f34\",\"type\":\"Toolbar\"},\"toolbar_location\":null,\"x_range\":{\"id\":\"716c3e65-c507-40d1-8380-de780b091d07\",\"type\":\"DataRange1d\"},\"x_scale\":{\"id\":\"f4e0fefe-b7bb-436d-884b-40153ae99982\",\"type\":\"LinearScale\"},\"y_range\":{\"id\":\"3ca724fa-8851-4912-ae45-58aab4184bf7\",\"type\":\"DataRange1d\"},\"y_scale\":{\"id\":\"ea892002-8f0e-496a-9a01-51a229a53191\",\"type\":\"LinearScale\"}},\"id\":\"ebd8ff2f-ab24-4b7b-9e97-1df32d337343\",\"subtype\":\"Figure\",\"type\":\"Plot\"},{\"attributes\":{\"active_drag\":\"auto\",\"active_inspect\":\"auto\",\"active_multi\":null,\"active_scroll\":\"auto\",\"active_tap\":\"auto\",\"tools\":[{\"id\":\"4dd173c1-52d4-41b6-bd65-e49a2d182ebd\",\"type\":\"PanTool\"},{\"id\":\"c93978e9-db9c-4487-985f-dce239dfdeaa\",\"type\":\"WheelZoomTool\"},{\"id\":\"d411fb7f-2124-447c-95c5-a88bb1f73581\",\"type\":\"BoxZoomTool\"},{\"id\":\"6e8cae97-c9bd-481b-8d54-6f3dc6cc9746\",\"type\":\"SaveTool\"},{\"id\":\"cce4857c-594b-4bef-a070-55f57eeebd59\",\"type\":\"ResetTool\"},{\"id\":\"83925b5d-34f6-4c5b-bfad-65ec3b3080a7\",\"type\":\"HelpTool\"}]},\"id\":\"1fe5596e-07f6-436f-9ce9-a4641e9b73a1\",\"type\":\"Toolbar\"},{\"attributes\":{\"fill_color\":{\"value\":\"#FDE724\"},\"line_color\":{\"value\":\"#FDE724\"},\"size\":{\"units\":\"screen\",\"value\":3},\"x\":{\"field\":\"x\"},\"y\":{\"field\":\"y\"}},\"id\":\"c4833e9d-0fe7-4a50-8908-a38598af4616\",\"type\":\"Circle\"},{\"attributes\":{},\"id\":\"4dd173c1-52d4-41b6-bd65-e49a2d182ebd\",\"type\":\"PanTool\"},{\"attributes\":{\"callback\":null},\"id\":\"861fabf0-1c66-4deb-82cf-a32537356f56\",\"type\":\"DataRange1d\"}],\"root_ids\":[\"5ef03b77-b3a1-426a-9736-b808a4dd98df\"]},\"title\":\"Bokeh Application\",\"version\":\"0.13.0\"}};\n",
       "  var render_items = [{\"docid\":\"6bba0235-95c7-4a41-b0e1-5b71288f0b25\",\"roots\":{\"5ef03b77-b3a1-426a-9736-b808a4dd98df\":\"2d0f6d74-c1b5-46b1-90e3-3efde5056cdb\"}}];\n",
       "  root.Bokeh.embed.embed_items_notebook(docs_json, render_items);\n",
       "\n",
       "  }\n",
       "  if (root.Bokeh !== undefined) {\n",
       "    embed_document(root);\n",
       "  } else {\n",
       "    var attempts = 0;\n",
       "    var timer = setInterval(function(root) {\n",
       "      if (root.Bokeh !== undefined) {\n",
       "        embed_document(root);\n",
       "        clearInterval(timer);\n",
       "      }\n",
       "      attempts++;\n",
       "      if (attempts > 100) {\n",
       "        console.log(\"Bokeh: ERROR: Unable to run BokehJS code because BokehJS library is missing\")\n",
       "        clearInterval(timer);\n",
       "      }\n",
       "    }, 10, root)\n",
       "  }\n",
       "})(window);"
      ],
      "application/vnd.bokehjs_exec.v0+json": ""
     },
     "metadata": {
      "application/vnd.bokehjs_exec.v0+json": {
       "id": "5ef03b77-b3a1-426a-9736-b808a4dd98df"
      }
     },
     "output_type": "display_data"
    }
   ],
   "source": [
    "N = 100\n",
    "x = np.linspace(0, 4*np.pi, N)\n",
    "y0 = np.sin(x)\n",
    "y1 = np.cos(x)\n",
    "y2 = np.sin(x) + np.cos(x)\n",
    "\n",
    "# create three plots\n",
    "p1 = figure(plot_width=250, plot_height=250, title=None)\n",
    "p1.circle(x, y0, size=3, color=Viridis3[0])\n",
    "\n",
    "p2 = figure(plot_width=250, plot_height=250, title=None)\n",
    "p2.circle(x, y1, size=3, color=Viridis3[1])\n",
    "\n",
    "p3 = figure(plot_width=250, plot_height=250, title=None)\n",
    "p3.circle(x, y2, size=3, color=Viridis3[2])\n",
    "\n",
    "# make a grid\n",
    "grid = gridplot([[p1, p2], [None, p3]])\n",
    "\n",
    "# show the results\n",
    "show(grid)"
   ]
  },
  {
   "cell_type": "markdown",
   "metadata": {},
   "source": [
    "For convenience you can also just pass a list of plots, and specify the number of columns you want in your grid. For example,\n",
    "\n",
    "`gridplot([[s1, s2], [s3, None]])`\n",
    "\n",
    "and\n",
    "\n",
    "`gridplot([s1, s2, s3], ncols=2)`\n",
    "\n",
    "Furthermore, you can specify the size of the plots in the gridplot istruction."
   ]
  },
  {
   "cell_type": "code",
   "execution_count": 10,
   "metadata": {},
   "outputs": [],
   "source": [
    "# EXERCISE 1: create two plots in a gridplot, and link their ranges"
   ]
  },
  {
   "cell_type": "code",
   "execution_count": 11,
   "metadata": {},
   "outputs": [
    {
     "data": {
      "text/html": [
       "\n",
       "\n",
       "\n",
       "\n",
       "\n",
       "\n",
       "  <div class=\"bk-root\" id=\"e8e836ff-1634-4428-a246-aaf4d2c0f5d8\"></div>\n"
      ]
     },
     "metadata": {},
     "output_type": "display_data"
    },
    {
     "data": {
      "application/javascript": [
       "(function(root) {\n",
       "  function embed_document(root) {\n",
       "    \n",
       "  var docs_json = {\"f1dae4c6-5eab-48cb-97a8-6edbaa625883\":{\"roots\":{\"references\":[{\"attributes\":{\"plot\":{\"id\":\"f9840466-056c-4303-88e6-bcff8031b82a\",\"subtype\":\"Figure\",\"type\":\"Plot\"},\"ticker\":{\"id\":\"6e5dc668-d90b-4b2a-a30a-5c6035703dcb\",\"type\":\"BasicTicker\"}},\"id\":\"14cbad4b-0450-44b8-91a3-69fa3fb82ffc\",\"type\":\"Grid\"},{\"attributes\":{\"fill_alpha\":{\"value\":0.1},\"fill_color\":{\"value\":\"#1f77b4\"},\"line_alpha\":{\"value\":0.1},\"line_color\":{\"value\":\"#1f77b4\"},\"size\":{\"units\":\"screen\",\"value\":3},\"x\":{\"field\":\"x\"},\"y\":{\"field\":\"y\"}},\"id\":\"06ff6b1c-7b36-414d-9d11-9f7313d108ea\",\"type\":\"Circle\"},{\"attributes\":{},\"id\":\"6e5dc668-d90b-4b2a-a30a-5c6035703dcb\",\"type\":\"BasicTicker\"},{\"attributes\":{\"formatter\":{\"id\":\"16cfc9de-c94b-4b55-8118-1b740fc1c590\",\"type\":\"BasicTickFormatter\"},\"plot\":{\"id\":\"f9840466-056c-4303-88e6-bcff8031b82a\",\"subtype\":\"Figure\",\"type\":\"Plot\"},\"ticker\":{\"id\":\"ad699c30-d07e-4316-b6ab-1d9a81402da5\",\"type\":\"BasicTicker\"}},\"id\":\"ea5a470c-9195-4dec-bd65-5638c6f26b17\",\"type\":\"LinearAxis\"},{\"attributes\":{},\"id\":\"ad699c30-d07e-4316-b6ab-1d9a81402da5\",\"type\":\"BasicTicker\"},{\"attributes\":{},\"id\":\"1d4913fa-b1f5-4626-94a4-9cc31431a220\",\"type\":\"LinearScale\"},{\"attributes\":{\"dimension\":1,\"plot\":{\"id\":\"f9840466-056c-4303-88e6-bcff8031b82a\",\"subtype\":\"Figure\",\"type\":\"Plot\"},\"ticker\":{\"id\":\"ad699c30-d07e-4316-b6ab-1d9a81402da5\",\"type\":\"BasicTicker\"}},\"id\":\"a130a46e-849b-4de7-8204-5d25ff233e6d\",\"type\":\"Grid\"},{\"attributes\":{\"plot\":{\"id\":\"3086ffd1-6b6f-4a35-a97f-08cde0db8d57\",\"subtype\":\"Figure\",\"type\":\"Plot\"},\"ticker\":{\"id\":\"4f6b9ffa-8d7b-42a0-a358-d133fac30c87\",\"type\":\"BasicTicker\"}},\"id\":\"262e2268-5742-4af8-93cd-9b58f28e3e52\",\"type\":\"Grid\"},{\"attributes\":{\"data_source\":{\"id\":\"31632930-6d17-4f49-b796-cb68214cf97b\",\"type\":\"ColumnDataSource\"},\"glyph\":{\"id\":\"ad6e0ce4-4796-4d32-954c-33f0f84f7858\",\"type\":\"Circle\"},\"hover_glyph\":null,\"muted_glyph\":null,\"nonselection_glyph\":{\"id\":\"06ff6b1c-7b36-414d-9d11-9f7313d108ea\",\"type\":\"Circle\"},\"selection_glyph\":null,\"view\":{\"id\":\"bb74ac72-6f2e-442d-b30f-d8f8b032e81a\",\"type\":\"CDSView\"}},\"id\":\"128716e0-d882-4664-827f-9ede5799a45b\",\"type\":\"GlyphRenderer\"},{\"attributes\":{\"fill_color\":{\"value\":\"#208F8C\"},\"line_color\":{\"value\":\"#208F8C\"},\"size\":{\"units\":\"screen\",\"value\":3},\"x\":{\"field\":\"x\"},\"y\":{\"field\":\"y\"}},\"id\":\"ad6e0ce4-4796-4d32-954c-33f0f84f7858\",\"type\":\"Circle\"},{\"attributes\":{\"data_source\":{\"id\":\"6ca03352-3d77-4f7f-9e4d-8b71c6163ce1\",\"type\":\"ColumnDataSource\"},\"glyph\":{\"id\":\"44099aa1-e6d0-4a0f-b529-337ba9c3f3a6\",\"type\":\"Circle\"},\"hover_glyph\":null,\"muted_glyph\":null,\"nonselection_glyph\":{\"id\":\"7ef58deb-4d39-4303-8187-fc4ebee5030c\",\"type\":\"Circle\"},\"selection_glyph\":null,\"view\":{\"id\":\"8a413cbb-a626-4909-a85b-31a33ad7547a\",\"type\":\"CDSView\"}},\"id\":\"b159b91e-0f12-4770-8490-e3a4c6781ee1\",\"type\":\"GlyphRenderer\"},{\"attributes\":{\"bottom_units\":\"screen\",\"fill_alpha\":{\"value\":0.5},\"fill_color\":{\"value\":\"lightgrey\"},\"left_units\":\"screen\",\"level\":\"overlay\",\"line_alpha\":{\"value\":1.0},\"line_color\":{\"value\":\"black\"},\"line_dash\":[4,4],\"line_width\":{\"value\":2},\"plot\":null,\"render_mode\":\"css\",\"right_units\":\"screen\",\"top_units\":\"screen\"},\"id\":\"26735d5b-1df3-478b-aa14-f36663f61354\",\"type\":\"BoxAnnotation\"},{\"attributes\":{\"callback\":null},\"id\":\"4388ddb0-6694-4c69-a010-3db81589860c\",\"type\":\"DataRange1d\"},{\"attributes\":{},\"id\":\"7492489c-26b9-4680-a0bb-5b7368f02d28\",\"type\":\"PanTool\"},{\"attributes\":{\"source\":{\"id\":\"31632930-6d17-4f49-b796-cb68214cf97b\",\"type\":\"ColumnDataSource\"}},\"id\":\"bb74ac72-6f2e-442d-b30f-d8f8b032e81a\",\"type\":\"CDSView\"},{\"attributes\":{},\"id\":\"4874b278-fab0-4e5c-838b-86b06c7b678d\",\"type\":\"WheelZoomTool\"},{\"attributes\":{\"overlay\":{\"id\":\"26735d5b-1df3-478b-aa14-f36663f61354\",\"type\":\"BoxAnnotation\"}},\"id\":\"8a7fb2a7-adbe-45f3-9ac7-e4d17e1d6c13\",\"type\":\"BoxZoomTool\"},{\"attributes\":{},\"id\":\"5edc18e4-9f30-456e-b3e4-1a3d66afe82f\",\"type\":\"SaveTool\"},{\"attributes\":{},\"id\":\"d299c7d0-b815-4a40-958c-fbaa6deabe78\",\"type\":\"ResetTool\"},{\"attributes\":{},\"id\":\"5f8511e3-eeb5-4032-b3fb-b97efd4e1909\",\"type\":\"HelpTool\"},{\"attributes\":{\"callback\":null},\"id\":\"36490a1e-7372-40bf-84bc-a43d4ccc7c71\",\"type\":\"DataRange1d\"},{\"attributes\":{\"callback\":null,\"data\":{\"x\":{\"__ndarray__\":\"AAAAAAAAAACRGkt8Vz/AP5EaS3xXP9A/2qdwOgNf2D+RGkt8Vz/gPzXhXVstT+Q/2qdwOgNf6D9+boMZ2W7sP5EaS3xXP/A/433Ua0JH8j814V1bLU/0P4dE50oYV/Y/2qdwOgNf+D8sC/op7mb6P35ugxnZbvw/0NEMCcR2/j+RGkt8Vz8AQDrMD/RMQwFA433Ua0JHAkCML5njN0sDQDXhXVstTwRA3pIi0yJTBUCHROdKGFcGQDD2q8INWwdA2qdwOgNfCECDWTWy+GIJQCwL+inuZgpA1by+oeNqC0B+boMZ2W4MQCcgSJHOcg1A0NEMCcR2DkB5g9GAuXoPQJEaS3xXPxBAZnMtOFLBEEA6zA/0TEMRQA8l8q9HxRFA433Ua0JHEkC41rYnPckSQIwvmeM3SxNAYYh7nzLNE0A14V1bLU8UQAo6QBco0RRA3pIi0yJTFUCz6wSPHdUVQIdE50oYVxZAXJ3JBhPZFkAw9qvCDVsXQAVPjn4I3RdA2qdwOgNfGECuAFP2/eAYQINZNbL4YhlAV7IXbvPkGUAsC/op7mYaQABk3OXo6BpA1by+oeNqG0CpFaFd3uwbQH5ugxnZbhxAUsdl1dPwHEAnIEiRznIdQPt4Kk3J9B1A0NEMCcR2HkCkKu/EvvgeQHmD0YC5eh9ATdyzPLT8H0CRGkt8Vz8gQPtGPNpUgCBAZnMtOFLBIEDQnx6WTwIhQDrMD/RMQyFApPgAUkqEIUAPJfKvR8UhQHlR4w1FBiJA433Ua0JHIkBNqsXJP4giQLjWtic9ySJAIgOohToKI0CML5njN0sjQPZbikE1jCNAYYh7nzLNI0DLtGz9Lw4kQDXhXVstTyRAoA1PuSqQJEAKOkAXKNEkQHRmMXUlEiVA3pIi0yJTJUBJvxMxIJQlQLPrBI8d1SVAHRj27BoWJkCHROdKGFcmQPJw2KgVmCZAXJ3JBhPZJkDGybpkEBonQDD2q8INWydAmyKdIAucJ0AFT45+CN0nQG97f9wFHihA2qdwOgNfKEBE1GGYAKAoQK4AU/b94ChAGC1EVPshKUA=\",\"dtype\":\"float64\",\"shape\":[100]},\"y\":{\"__ndarray__\":\"AAAAAAAA8D+yzYPRkeXxP7ihgYdrgfM/rb0yquzM9D/245G2v8L1P87bFRfwXvY/2iiqbvqe9j/kKcny1oH2P2p9E6r9B/Y/t9rofWQz9T/V4vYmdwf0P338ARYJifI/RdfykkG+8D9ETRXIBF3tPyugTMuSxOg/JsOhHxvG4z8XRefmX+zcP4TfmO5l1dE/4IAW3tnTuT9YVAYbRxi0v26sY4ZobNC/kDyhvhiP278fJw0IIiDjv8rnndrvKei/4klI9jTQ7L9i6ms85X/wvyB3ITG5U/K/nEtETQ/c879kyJx6lxL1v3a2nZlS8vW/jCxGFqd39r9Ikzy8b6D2v7IbDo0EbPa/VCYsdD3b9b+XNIXNbvD0vyX2CM1fr/O/Ewqe7jod8r/hQKSueEDwv7KoVMWJQey/OkhCQL6N57//x2pm7XjivwiD/egKMNq/XFreULgEzr/Qjtyf0basv8jQmYTCjb8/YDFTHT090z9zKk7fyUfePwQ64frNauQ/Br4PG51d6T/UmpIn8OftPyz+X62J+/A/JAqwLSe98j/wrAGOlDH0P+CqQLrTUvU/YyQQQD0c9j8rs4V6k4r2Pw41lOsPnPY/THYpjGpQ9j9uO9/02qj1P8SNeVoTqPQ/wTrZcjVS8z/dcSFwwazxPxnyVbD+fO8/vXE0K8Ye6z+6a09r11DmP/7dFbP8JuE/Qpmw0PVs1z8YNwvg51bIP4A3qsMi+oY/tJyl3I19xb9ijLYfHAnWv+4O12hWfOC/dgkSnTaw5b/Eiyd/wIrqv1M5qN/19+6/bw/Nc81y8b9c/veZwCHzv4mZSz7lgfS/nqNH2pCN9b9CMd7bdED2vxjtFmOwl/a/lMBYHdyR9r+wHoMNEC/2vww2BinjcPW/NHKRy2Ra9L+mR1EcEPDyv8K/p5i5N/G/fKrPIO5w7r87P/7sBPXpv0iCivwvDuW/bUUVRECh3788RM3h1qPUv0i1wErRosK/wBtiTTs7oT9AtNpTsC7LP571ygVNz9g/audXAYjQ4T/buikNCPDmP2xZBmcMses//P//////7z8=\",\"dtype\":\"float64\",\"shape\":[100]}},\"selected\":{\"id\":\"6bbe2995-431d-4b93-8ffe-fcd0ee336066\",\"type\":\"Selection\"},\"selection_policy\":{\"id\":\"7ad52741-8832-4fcc-b2a4-8b4df8122b50\",\"type\":\"UnionRenderers\"}},\"id\":\"6ca03352-3d77-4f7f-9e4d-8b71c6163ce1\",\"type\":\"ColumnDataSource\"},{\"attributes\":{\"active_drag\":\"auto\",\"active_inspect\":\"auto\",\"active_multi\":null,\"active_scroll\":\"auto\",\"active_tap\":\"auto\",\"tools\":[{\"id\":\"05705661-a743-4eb4-aaa3-67149a03d316\",\"type\":\"PanTool\"},{\"id\":\"7242cedc-1dea-48fe-81b5-ca6960b5adf6\",\"type\":\"WheelZoomTool\"},{\"id\":\"dcc0e559-ea46-42ec-aee3-fadf88ba6ab5\",\"type\":\"BoxZoomTool\"},{\"id\":\"64beeb53-e80a-4910-ac0c-17f32bc9ec16\",\"type\":\"SaveTool\"},{\"id\":\"99516a0e-1b9f-45d8-9e8e-c56f9f4b9b62\",\"type\":\"ResetTool\"},{\"id\":\"70638fc1-a5e5-4696-8a86-ce2dcfb3cedb\",\"type\":\"HelpTool\"}]},\"id\":\"c26e077e-5860-4a1b-b7c7-c74f5b3fffa2\",\"type\":\"Toolbar\"},{\"attributes\":{\"fill_color\":{\"value\":\"#FDE724\"},\"line_color\":{\"value\":\"#FDE724\"},\"size\":{\"units\":\"screen\",\"value\":3},\"x\":{\"field\":\"x\"},\"y\":{\"field\":\"y\"}},\"id\":\"44099aa1-e6d0-4a0f-b529-337ba9c3f3a6\",\"type\":\"Circle\"},{\"attributes\":{\"callback\":null},\"id\":\"c0310f52-9dbe-48fe-a93f-d1a3ff8dbc0f\",\"type\":\"DataRange1d\"},{\"attributes\":{},\"id\":\"62afb5d1-9d0c-4495-82fd-05f543c986c8\",\"type\":\"LinearScale\"},{\"attributes\":{},\"id\":\"cf1ea56c-0b37-41d2-9a81-c692b5cc97a1\",\"type\":\"LinearScale\"},{\"attributes\":{\"plot\":{\"id\":\"7f9cb786-665d-49f3-8e21-a13d938071c7\",\"subtype\":\"Figure\",\"type\":\"Plot\"},\"ticker\":{\"id\":\"78d8bd8c-39e4-422f-8be8-01fd6e994bf2\",\"type\":\"BasicTicker\"}},\"id\":\"9aa3f3d0-cb53-4462-8501-3c939d8a4e77\",\"type\":\"Grid\"},{\"attributes\":{\"formatter\":{\"id\":\"6a8dee83-f856-4128-aace-917bed3b6584\",\"type\":\"BasicTickFormatter\"},\"plot\":{\"id\":\"7f9cb786-665d-49f3-8e21-a13d938071c7\",\"subtype\":\"Figure\",\"type\":\"Plot\"},\"ticker\":{\"id\":\"78d8bd8c-39e4-422f-8be8-01fd6e994bf2\",\"type\":\"BasicTicker\"}},\"id\":\"2a47e5fb-62ce-4b04-8bce-0a7e22e44c11\",\"type\":\"LinearAxis\"},{\"attributes\":{},\"id\":\"78d8bd8c-39e4-422f-8be8-01fd6e994bf2\",\"type\":\"BasicTicker\"},{\"attributes\":{\"formatter\":{\"id\":\"3934f4de-a119-4ced-a9ae-b856528f9c25\",\"type\":\"BasicTickFormatter\"},\"plot\":{\"id\":\"7f9cb786-665d-49f3-8e21-a13d938071c7\",\"subtype\":\"Figure\",\"type\":\"Plot\"},\"ticker\":{\"id\":\"e75b5736-9628-44f0-a333-29d907c88667\",\"type\":\"BasicTicker\"}},\"id\":\"7e17b37d-1ec4-4870-b3c5-a0a2fca38694\",\"type\":\"LinearAxis\"},{\"attributes\":{},\"id\":\"e75b5736-9628-44f0-a333-29d907c88667\",\"type\":\"BasicTicker\"},{\"attributes\":{\"dimension\":1,\"plot\":{\"id\":\"7f9cb786-665d-49f3-8e21-a13d938071c7\",\"subtype\":\"Figure\",\"type\":\"Plot\"},\"ticker\":{\"id\":\"e75b5736-9628-44f0-a333-29d907c88667\",\"type\":\"BasicTicker\"}},\"id\":\"83dc8449-0628-425c-a4fa-3f3e1668bc21\",\"type\":\"Grid\"},{\"attributes\":{\"fill_alpha\":{\"value\":0.1},\"fill_color\":{\"value\":\"#1f77b4\"},\"line_alpha\":{\"value\":0.1},\"line_color\":{\"value\":\"#1f77b4\"},\"size\":{\"units\":\"screen\",\"value\":3},\"x\":{\"field\":\"x\"},\"y\":{\"field\":\"y\"}},\"id\":\"7ef58deb-4d39-4303-8187-fc4ebee5030c\",\"type\":\"Circle\"},{\"attributes\":{\"children\":[{\"id\":\"3086ffd1-6b6f-4a35-a97f-08cde0db8d57\",\"subtype\":\"Figure\",\"type\":\"Plot\"},{\"id\":\"f9840466-056c-4303-88e6-bcff8031b82a\",\"subtype\":\"Figure\",\"type\":\"Plot\"}]},\"id\":\"b10ebacf-c97e-4b37-a0f6-ac780327690d\",\"type\":\"Row\"},{\"attributes\":{\"children\":[{\"id\":\"b10ebacf-c97e-4b37-a0f6-ac780327690d\",\"type\":\"Row\"},{\"id\":\"ec518415-46b3-444f-a2e5-39e37dbfca8b\",\"type\":\"Row\"}]},\"id\":\"6a2385b3-c995-4598-878f-8298182f7041\",\"type\":\"Column\"},{\"attributes\":{\"bottom_units\":\"screen\",\"fill_alpha\":{\"value\":0.5},\"fill_color\":{\"value\":\"lightgrey\"},\"left_units\":\"screen\",\"level\":\"overlay\",\"line_alpha\":{\"value\":1.0},\"line_color\":{\"value\":\"black\"},\"line_dash\":[4,4],\"line_width\":{\"value\":2},\"plot\":null,\"render_mode\":\"css\",\"right_units\":\"screen\",\"top_units\":\"screen\"},\"id\":\"b989a7b5-be0f-4d8c-a1ec-337d4f743f72\",\"type\":\"BoxAnnotation\"},{\"attributes\":{\"fill_alpha\":{\"value\":0.1},\"fill_color\":{\"value\":\"#1f77b4\"},\"line_alpha\":{\"value\":0.1},\"line_color\":{\"value\":\"#1f77b4\"},\"size\":{\"units\":\"screen\",\"value\":3},\"x\":{\"field\":\"x\"},\"y\":{\"field\":\"y\"}},\"id\":\"20e5fbde-d287-44e7-b77c-f45aa1d42059\",\"type\":\"Circle\"},{\"attributes\":{},\"id\":\"05705661-a743-4eb4-aaa3-67149a03d316\",\"type\":\"PanTool\"},{\"attributes\":{\"source\":{\"id\":\"6ca03352-3d77-4f7f-9e4d-8b71c6163ce1\",\"type\":\"ColumnDataSource\"}},\"id\":\"8a413cbb-a626-4909-a85b-31a33ad7547a\",\"type\":\"CDSView\"},{\"attributes\":{},\"id\":\"7242cedc-1dea-48fe-81b5-ca6960b5adf6\",\"type\":\"WheelZoomTool\"},{\"attributes\":{\"overlay\":{\"id\":\"b989a7b5-be0f-4d8c-a1ec-337d4f743f72\",\"type\":\"BoxAnnotation\"}},\"id\":\"dcc0e559-ea46-42ec-aee3-fadf88ba6ab5\",\"type\":\"BoxZoomTool\"},{\"attributes\":{\"active_drag\":\"auto\",\"active_inspect\":\"auto\",\"active_multi\":null,\"active_scroll\":\"auto\",\"active_tap\":\"auto\",\"tools\":[{\"id\":\"2cace4a9-d512-4986-8496-497524ae1397\",\"type\":\"PanTool\"},{\"id\":\"03560554-5660-4e55-979e-977d6f4b1886\",\"type\":\"WheelZoomTool\"},{\"id\":\"6cc0f574-69f3-4cd8-aafd-bf3a5675b1a8\",\"type\":\"BoxZoomTool\"},{\"id\":\"65ed426a-a5ec-4dba-972d-6d1ec624547b\",\"type\":\"SaveTool\"},{\"id\":\"65b476dd-91fe-4110-9dbe-a3705fd449af\",\"type\":\"ResetTool\"},{\"id\":\"b5c8a751-f0c5-461e-9875-f2be6a632dc7\",\"type\":\"HelpTool\"}]},\"id\":\"d3690ec4-ec73-4ee0-8758-bf1eca5a6b16\",\"type\":\"Toolbar\"},{\"attributes\":{},\"id\":\"64beeb53-e80a-4910-ac0c-17f32bc9ec16\",\"type\":\"SaveTool\"},{\"attributes\":{},\"id\":\"99516a0e-1b9f-45d8-9e8e-c56f9f4b9b62\",\"type\":\"ResetTool\"},{\"attributes\":{},\"id\":\"70638fc1-a5e5-4696-8a86-ce2dcfb3cedb\",\"type\":\"HelpTool\"},{\"attributes\":{},\"id\":\"99e82cc6-e5a3-4c08-bda1-8bd428ae3ff2\",\"type\":\"BasicTickFormatter\"},{\"attributes\":{},\"id\":\"cea71ece-cba5-4916-9c84-1db935bdaace\",\"type\":\"BasicTicker\"},{\"attributes\":{\"plot\":null,\"text\":\"\"},\"id\":\"de07c512-006b-4efe-944e-8c22088c6c97\",\"type\":\"Title\"},{\"attributes\":{},\"id\":\"4f6b9ffa-8d7b-42a0-a358-d133fac30c87\",\"type\":\"BasicTicker\"},{\"attributes\":{},\"id\":\"93a65487-ff3e-4281-9e52-3d67824e960e\",\"type\":\"BasicTickFormatter\"},{\"attributes\":{\"formatter\":{\"id\":\"93a65487-ff3e-4281-9e52-3d67824e960e\",\"type\":\"BasicTickFormatter\"},\"plot\":{\"id\":\"3086ffd1-6b6f-4a35-a97f-08cde0db8d57\",\"subtype\":\"Figure\",\"type\":\"Plot\"},\"ticker\":{\"id\":\"4f6b9ffa-8d7b-42a0-a358-d133fac30c87\",\"type\":\"BasicTicker\"}},\"id\":\"cac81b89-2154-4843-b6bf-0779af79c06f\",\"type\":\"LinearAxis\"},{\"attributes\":{},\"id\":\"3aef4cf0-b08b-4e01-a833-34567aff6124\",\"type\":\"UnionRenderers\"},{\"attributes\":{\"below\":[{\"id\":\"cac81b89-2154-4843-b6bf-0779af79c06f\",\"type\":\"LinearAxis\"}],\"left\":[{\"id\":\"a5a6ffc9-0f5c-46ea-a35e-32e7ed29e0dc\",\"type\":\"LinearAxis\"}],\"plot_height\":250,\"plot_width\":250,\"renderers\":[{\"id\":\"cac81b89-2154-4843-b6bf-0779af79c06f\",\"type\":\"LinearAxis\"},{\"id\":\"262e2268-5742-4af8-93cd-9b58f28e3e52\",\"type\":\"Grid\"},{\"id\":\"a5a6ffc9-0f5c-46ea-a35e-32e7ed29e0dc\",\"type\":\"LinearAxis\"},{\"id\":\"e10680af-accf-4e54-8485-8bfa4bd7a0ef\",\"type\":\"Grid\"},{\"id\":\"30883d2c-99ea-4b88-8f4f-8f36bf602559\",\"type\":\"BoxAnnotation\"},{\"id\":\"c7b8949f-9829-482b-bc65-da735433c997\",\"type\":\"GlyphRenderer\"}],\"title\":{\"id\":\"de07c512-006b-4efe-944e-8c22088c6c97\",\"type\":\"Title\"},\"toolbar\":{\"id\":\"d3690ec4-ec73-4ee0-8758-bf1eca5a6b16\",\"type\":\"Toolbar\"},\"toolbar_location\":null,\"x_range\":{\"id\":\"9d28cf53-fc96-492c-8616-1a900a45af81\",\"type\":\"DataRange1d\"},\"x_scale\":{\"id\":\"06dbdf4f-df36-49d6-b46f-97d565a28fb2\",\"type\":\"LinearScale\"},\"y_range\":{\"id\":\"4388ddb0-6694-4c69-a010-3db81589860c\",\"type\":\"DataRange1d\"},\"y_scale\":{\"id\":\"4d974ed6-0624-4bd4-936e-9d3288f94ca5\",\"type\":\"LinearScale\"}},\"id\":\"3086ffd1-6b6f-4a35-a97f-08cde0db8d57\",\"subtype\":\"Figure\",\"type\":\"Plot\"},{\"attributes\":{},\"id\":\"78f209c9-9b53-45ec-a73c-4af134d237e7\",\"type\":\"Selection\"},{\"attributes\":{},\"id\":\"2cace4a9-d512-4986-8496-497524ae1397\",\"type\":\"PanTool\"},{\"attributes\":{},\"id\":\"16cfc9de-c94b-4b55-8118-1b740fc1c590\",\"type\":\"BasicTickFormatter\"},{\"attributes\":{\"source\":{\"id\":\"8842e504-9269-4c79-bdc6-1f0f2c82a0d6\",\"type\":\"ColumnDataSource\"}},\"id\":\"b1b03719-272e-48ea-bce1-0179686c6676\",\"type\":\"CDSView\"},{\"attributes\":{\"plot\":null,\"text\":\"\"},\"id\":\"8dd5ec40-47b5-4bbd-801f-910f013938a3\",\"type\":\"Title\"},{\"attributes\":{},\"id\":\"ed65030f-01ba-416a-ac4f-484938478fcb\",\"type\":\"BasicTickFormatter\"},{\"attributes\":{\"callback\":null},\"id\":\"9d28cf53-fc96-492c-8616-1a900a45af81\",\"type\":\"DataRange1d\"},{\"attributes\":{},\"id\":\"84dc9550-303f-4c38-a7d2-a71f8d8a0cec\",\"type\":\"UnionRenderers\"},{\"attributes\":{\"data_source\":{\"id\":\"8842e504-9269-4c79-bdc6-1f0f2c82a0d6\",\"type\":\"ColumnDataSource\"},\"glyph\":{\"id\":\"8fd0a782-6d3c-4357-914a-c6eab5ccb2a7\",\"type\":\"Circle\"},\"hover_glyph\":null,\"muted_glyph\":null,\"nonselection_glyph\":{\"id\":\"20e5fbde-d287-44e7-b77c-f45aa1d42059\",\"type\":\"Circle\"},\"selection_glyph\":null,\"view\":{\"id\":\"b1b03719-272e-48ea-bce1-0179686c6676\",\"type\":\"CDSView\"}},\"id\":\"c7b8949f-9829-482b-bc65-da735433c997\",\"type\":\"GlyphRenderer\"},{\"attributes\":{},\"id\":\"1f667efe-3285-44a3-8a7a-475edaa7f4df\",\"type\":\"Selection\"},{\"attributes\":{},\"id\":\"06dbdf4f-df36-49d6-b46f-97d565a28fb2\",\"type\":\"LinearScale\"},{\"attributes\":{\"children\":[{\"id\":\"7f9cb786-665d-49f3-8e21-a13d938071c7\",\"subtype\":\"Figure\",\"type\":\"Plot\"}]},\"id\":\"ec518415-46b3-444f-a2e5-39e37dbfca8b\",\"type\":\"Row\"},{\"attributes\":{\"callback\":null,\"data\":{\"x\":{\"__ndarray__\":\"AAAAAAAAAACRGkt8Vz/AP5EaS3xXP9A/2qdwOgNf2D+RGkt8Vz/gPzXhXVstT+Q/2qdwOgNf6D9+boMZ2W7sP5EaS3xXP/A/433Ua0JH8j814V1bLU/0P4dE50oYV/Y/2qdwOgNf+D8sC/op7mb6P35ugxnZbvw/0NEMCcR2/j+RGkt8Vz8AQDrMD/RMQwFA433Ua0JHAkCML5njN0sDQDXhXVstTwRA3pIi0yJTBUCHROdKGFcGQDD2q8INWwdA2qdwOgNfCECDWTWy+GIJQCwL+inuZgpA1by+oeNqC0B+boMZ2W4MQCcgSJHOcg1A0NEMCcR2DkB5g9GAuXoPQJEaS3xXPxBAZnMtOFLBEEA6zA/0TEMRQA8l8q9HxRFA433Ua0JHEkC41rYnPckSQIwvmeM3SxNAYYh7nzLNE0A14V1bLU8UQAo6QBco0RRA3pIi0yJTFUCz6wSPHdUVQIdE50oYVxZAXJ3JBhPZFkAw9qvCDVsXQAVPjn4I3RdA2qdwOgNfGECuAFP2/eAYQINZNbL4YhlAV7IXbvPkGUAsC/op7mYaQABk3OXo6BpA1by+oeNqG0CpFaFd3uwbQH5ugxnZbhxAUsdl1dPwHEAnIEiRznIdQPt4Kk3J9B1A0NEMCcR2HkCkKu/EvvgeQHmD0YC5eh9ATdyzPLT8H0CRGkt8Vz8gQPtGPNpUgCBAZnMtOFLBIEDQnx6WTwIhQDrMD/RMQyFApPgAUkqEIUAPJfKvR8UhQHlR4w1FBiJA433Ua0JHIkBNqsXJP4giQLjWtic9ySJAIgOohToKI0CML5njN0sjQPZbikE1jCNAYYh7nzLNI0DLtGz9Lw4kQDXhXVstTyRAoA1PuSqQJEAKOkAXKNEkQHRmMXUlEiVA3pIi0yJTJUBJvxMxIJQlQLPrBI8d1SVAHRj27BoWJkCHROdKGFcmQPJw2KgVmCZAXJ3JBhPZJkDGybpkEBonQDD2q8INWydAmyKdIAucJ0AFT45+CN0nQG97f9wFHihA2qdwOgNfKEBE1GGYAKAoQK4AU/b94ChAGC1EVPshKUA=\",\"dtype\":\"float64\",\"shape\":[100]},\"y\":{\"__ndarray__\":\"AAAAAAAAAADwgwJ4LjTAP5qI2QHPEtA/+5MNU1HJ1z8ZTT7q2B3fP0aFmgwa+eI/ABg/lCAV5j+IQCEcMdboP3fOhmLzMOs/EyzujrQb7T/9Izwlj47uPxccgYyLg+8/g6xao7j27z9mZrL8O+bvP7+X94FZUu8/xVNiW3I97j9RB8Ai+6vsP5FWKYlppOo/oig6uxkv6D/Sh2bxK1blPyZGRbpaJeI/8qg+VZVT3T/4C4p0qOPVP+UppLIiM8w/3FNHxZdVuD/I23zJpD6gv+3ENsZjOcS/wo12/ecH0r/egWKM2KjZv2MTsJELcOC/83ixWvXH47+258MBZM7mv5eCD4nhdum/rExY6Hq267+TIxAn7YPtvwSssILL1+6/70I4BJ6s77/vOc8G+P7vvzTGy1KGze+/3176khQZ77/C8a4NiuTtvzGcHq/dNOy/mEFFlgER6r+EGZN4xoHnvx8WPFK3keS/Cli7+O1M4b+HQNqEwoHbv9kfIiFb+NO/gKyggGI5yL8EhrXMjDywvyCGtcyMPLA/jqyggGI5yD/gHyIhW/jTP4BA2oTCgds/Dli7+O1M4T8cFjxSt5HkP4cZk3jGgec/lEFFlgER6j8ynB6v3TTsP8Hxrg2K5O0/4F76khQZ7z80xstShs3vP+85zwb4/u8/8EI4BJ6s7z8DrLCCy9fuP5UjECftg+0/p0xY6Hq26z+Vgg+J4XbpP7fnwwFkzuY/9nixWvXH4z9cE7CRC3DgP9eBYozYqNk/w412/ecH0j/+xDbGYznEP0/bfMmkPqA/+VNHxZdVuL/UKaSyIjPMv+gLinSo49W/+Kg+VZVT3b8mRkW6WiXiv8+HZvErVuW/pig6uxkv6L+TVimJaaTqv1EHwCL7q+y/xFNiW3I97r/Al/eBWVLvv2Zmsvw75u+/g6xao7j2778YHIGMi4Pvv/sjPCWPju6/EyzujrQb7b94zoZi8zDrv4xAIRwx1ui//Bc/lCAV5r9GhZoMGvnivx5NPurYHd+/65MNU1HJ17+SiNkBzxLQv/GDAnguNMC/B1wUMyamwbw=\",\"dtype\":\"float64\",\"shape\":[100]}},\"selected\":{\"id\":\"78f209c9-9b53-45ec-a73c-4af134d237e7\",\"type\":\"Selection\"},\"selection_policy\":{\"id\":\"3aef4cf0-b08b-4e01-a833-34567aff6124\",\"type\":\"UnionRenderers\"}},\"id\":\"8842e504-9269-4c79-bdc6-1f0f2c82a0d6\",\"type\":\"ColumnDataSource\"},{\"attributes\":{\"plot\":null,\"text\":\"\"},\"id\":\"883a51ca-a395-4322-a4f2-f34a9a811d49\",\"type\":\"Title\"},{\"attributes\":{},\"id\":\"4d974ed6-0624-4bd4-936e-9d3288f94ca5\",\"type\":\"LinearScale\"},{\"attributes\":{},\"id\":\"3934f4de-a119-4ced-a9ae-b856528f9c25\",\"type\":\"BasicTickFormatter\"},{\"attributes\":{\"dimension\":1,\"plot\":{\"id\":\"3086ffd1-6b6f-4a35-a97f-08cde0db8d57\",\"subtype\":\"Figure\",\"type\":\"Plot\"},\"ticker\":{\"id\":\"cea71ece-cba5-4916-9c84-1db935bdaace\",\"type\":\"BasicTicker\"}},\"id\":\"e10680af-accf-4e54-8485-8bfa4bd7a0ef\",\"type\":\"Grid\"},{\"attributes\":{},\"id\":\"6a8dee83-f856-4128-aace-917bed3b6584\",\"type\":\"BasicTickFormatter\"},{\"attributes\":{\"fill_color\":{\"value\":\"#440154\"},\"line_color\":{\"value\":\"#440154\"},\"size\":{\"units\":\"screen\",\"value\":3},\"x\":{\"field\":\"x\"},\"y\":{\"field\":\"y\"}},\"id\":\"8fd0a782-6d3c-4357-914a-c6eab5ccb2a7\",\"type\":\"Circle\"},{\"attributes\":{},\"id\":\"7ad52741-8832-4fcc-b2a4-8b4df8122b50\",\"type\":\"UnionRenderers\"},{\"attributes\":{},\"id\":\"b5c8a751-f0c5-461e-9875-f2be6a632dc7\",\"type\":\"HelpTool\"},{\"attributes\":{},\"id\":\"6bbe2995-431d-4b93-8ffe-fcd0ee336066\",\"type\":\"Selection\"},{\"attributes\":{},\"id\":\"65ed426a-a5ec-4dba-972d-6d1ec624547b\",\"type\":\"SaveTool\"},{\"attributes\":{\"callback\":null},\"id\":\"02dea397-ce69-44c5-8c0a-b756cde324b0\",\"type\":\"DataRange1d\"},{\"attributes\":{\"tools\":[{\"id\":\"2cace4a9-d512-4986-8496-497524ae1397\",\"type\":\"PanTool\"},{\"id\":\"03560554-5660-4e55-979e-977d6f4b1886\",\"type\":\"WheelZoomTool\"},{\"id\":\"6cc0f574-69f3-4cd8-aafd-bf3a5675b1a8\",\"type\":\"BoxZoomTool\"},{\"id\":\"65ed426a-a5ec-4dba-972d-6d1ec624547b\",\"type\":\"SaveTool\"},{\"id\":\"65b476dd-91fe-4110-9dbe-a3705fd449af\",\"type\":\"ResetTool\"},{\"id\":\"b5c8a751-f0c5-461e-9875-f2be6a632dc7\",\"type\":\"HelpTool\"},{\"id\":\"7492489c-26b9-4680-a0bb-5b7368f02d28\",\"type\":\"PanTool\"},{\"id\":\"4874b278-fab0-4e5c-838b-86b06c7b678d\",\"type\":\"WheelZoomTool\"},{\"id\":\"8a7fb2a7-adbe-45f3-9ac7-e4d17e1d6c13\",\"type\":\"BoxZoomTool\"},{\"id\":\"5edc18e4-9f30-456e-b3e4-1a3d66afe82f\",\"type\":\"SaveTool\"},{\"id\":\"d299c7d0-b815-4a40-958c-fbaa6deabe78\",\"type\":\"ResetTool\"},{\"id\":\"5f8511e3-eeb5-4032-b3fb-b97efd4e1909\",\"type\":\"HelpTool\"},{\"id\":\"05705661-a743-4eb4-aaa3-67149a03d316\",\"type\":\"PanTool\"},{\"id\":\"7242cedc-1dea-48fe-81b5-ca6960b5adf6\",\"type\":\"WheelZoomTool\"},{\"id\":\"dcc0e559-ea46-42ec-aee3-fadf88ba6ab5\",\"type\":\"BoxZoomTool\"},{\"id\":\"64beeb53-e80a-4910-ac0c-17f32bc9ec16\",\"type\":\"SaveTool\"},{\"id\":\"99516a0e-1b9f-45d8-9e8e-c56f9f4b9b62\",\"type\":\"ResetTool\"},{\"id\":\"70638fc1-a5e5-4696-8a86-ce2dcfb3cedb\",\"type\":\"HelpTool\"}]},\"id\":\"e0c038fe-bdef-476c-a872-92b4d4c71cfa\",\"type\":\"ProxyToolbar\"},{\"attributes\":{\"active_drag\":\"auto\",\"active_inspect\":\"auto\",\"active_multi\":null,\"active_scroll\":\"auto\",\"active_tap\":\"auto\",\"tools\":[{\"id\":\"7492489c-26b9-4680-a0bb-5b7368f02d28\",\"type\":\"PanTool\"},{\"id\":\"4874b278-fab0-4e5c-838b-86b06c7b678d\",\"type\":\"WheelZoomTool\"},{\"id\":\"8a7fb2a7-adbe-45f3-9ac7-e4d17e1d6c13\",\"type\":\"BoxZoomTool\"},{\"id\":\"5edc18e4-9f30-456e-b3e4-1a3d66afe82f\",\"type\":\"SaveTool\"},{\"id\":\"d299c7d0-b815-4a40-958c-fbaa6deabe78\",\"type\":\"ResetTool\"},{\"id\":\"5f8511e3-eeb5-4032-b3fb-b97efd4e1909\",\"type\":\"HelpTool\"}]},\"id\":\"ad0c4875-bb83-4d05-9c89-3b6bd0da1938\",\"type\":\"Toolbar\"},{\"attributes\":{\"toolbar\":{\"id\":\"e0c038fe-bdef-476c-a872-92b4d4c71cfa\",\"type\":\"ProxyToolbar\"},\"toolbar_location\":\"above\"},\"id\":\"941f6350-b629-422a-b9b1-8839391fb85b\",\"type\":\"ToolbarBox\"},{\"attributes\":{\"below\":[{\"id\":\"2a858cab-44ec-4a36-8976-4eae42fd905d\",\"type\":\"LinearAxis\"}],\"left\":[{\"id\":\"ea5a470c-9195-4dec-bd65-5638c6f26b17\",\"type\":\"LinearAxis\"}],\"plot_height\":250,\"plot_width\":250,\"renderers\":[{\"id\":\"2a858cab-44ec-4a36-8976-4eae42fd905d\",\"type\":\"LinearAxis\"},{\"id\":\"14cbad4b-0450-44b8-91a3-69fa3fb82ffc\",\"type\":\"Grid\"},{\"id\":\"ea5a470c-9195-4dec-bd65-5638c6f26b17\",\"type\":\"LinearAxis\"},{\"id\":\"a130a46e-849b-4de7-8204-5d25ff233e6d\",\"type\":\"Grid\"},{\"id\":\"26735d5b-1df3-478b-aa14-f36663f61354\",\"type\":\"BoxAnnotation\"},{\"id\":\"128716e0-d882-4664-827f-9ede5799a45b\",\"type\":\"GlyphRenderer\"}],\"title\":{\"id\":\"8dd5ec40-47b5-4bbd-801f-910f013938a3\",\"type\":\"Title\"},\"toolbar\":{\"id\":\"ad0c4875-bb83-4d05-9c89-3b6bd0da1938\",\"type\":\"Toolbar\"},\"toolbar_location\":null,\"x_range\":{\"id\":\"fd795f55-a809-4b9e-afc7-f89c67260b99\",\"type\":\"DataRange1d\"},\"x_scale\":{\"id\":\"9af16104-2124-4dc4-85c5-d7f04815cfe2\",\"type\":\"LinearScale\"},\"y_range\":{\"id\":\"02dea397-ce69-44c5-8c0a-b756cde324b0\",\"type\":\"DataRange1d\"},\"y_scale\":{\"id\":\"1d4913fa-b1f5-4626-94a4-9cc31431a220\",\"type\":\"LinearScale\"}},\"id\":\"f9840466-056c-4303-88e6-bcff8031b82a\",\"subtype\":\"Figure\",\"type\":\"Plot\"},{\"attributes\":{\"children\":[{\"id\":\"941f6350-b629-422a-b9b1-8839391fb85b\",\"type\":\"ToolbarBox\"},{\"id\":\"6a2385b3-c995-4598-878f-8298182f7041\",\"type\":\"Column\"}]},\"id\":\"1407132c-b292-4cc5-ae7f-b87cadb93399\",\"type\":\"Column\"},{\"attributes\":{\"callback\":null,\"data\":{\"x\":{\"__ndarray__\":\"AAAAAAAAAACRGkt8Vz/AP5EaS3xXP9A/2qdwOgNf2D+RGkt8Vz/gPzXhXVstT+Q/2qdwOgNf6D9+boMZ2W7sP5EaS3xXP/A/433Ua0JH8j814V1bLU/0P4dE50oYV/Y/2qdwOgNf+D8sC/op7mb6P35ugxnZbvw/0NEMCcR2/j+RGkt8Vz8AQDrMD/RMQwFA433Ua0JHAkCML5njN0sDQDXhXVstTwRA3pIi0yJTBUCHROdKGFcGQDD2q8INWwdA2qdwOgNfCECDWTWy+GIJQCwL+inuZgpA1by+oeNqC0B+boMZ2W4MQCcgSJHOcg1A0NEMCcR2DkB5g9GAuXoPQJEaS3xXPxBAZnMtOFLBEEA6zA/0TEMRQA8l8q9HxRFA433Ua0JHEkC41rYnPckSQIwvmeM3SxNAYYh7nzLNE0A14V1bLU8UQAo6QBco0RRA3pIi0yJTFUCz6wSPHdUVQIdE50oYVxZAXJ3JBhPZFkAw9qvCDVsXQAVPjn4I3RdA2qdwOgNfGECuAFP2/eAYQINZNbL4YhlAV7IXbvPkGUAsC/op7mYaQABk3OXo6BpA1by+oeNqG0CpFaFd3uwbQH5ugxnZbhxAUsdl1dPwHEAnIEiRznIdQPt4Kk3J9B1A0NEMCcR2HkCkKu/EvvgeQHmD0YC5eh9ATdyzPLT8H0CRGkt8Vz8gQPtGPNpUgCBAZnMtOFLBIEDQnx6WTwIhQDrMD/RMQyFApPgAUkqEIUAPJfKvR8UhQHlR4w1FBiJA433Ua0JHIkBNqsXJP4giQLjWtic9ySJAIgOohToKI0CML5njN0sjQPZbikE1jCNAYYh7nzLNI0DLtGz9Lw4kQDXhXVstTyRAoA1PuSqQJEAKOkAXKNEkQHRmMXUlEiVA3pIi0yJTJUBJvxMxIJQlQLPrBI8d1SVAHRj27BoWJkCHROdKGFcmQPJw2KgVmCZAXJ3JBhPZJkDGybpkEBonQDD2q8INWydAmyKdIAucJ0AFT45+CN0nQG97f9wFHihA2qdwOgNfKEBE1GGYAKAoQK4AU/b94ChAGC1EVPshKUA=\",\"dtype\":\"float64\",\"shape\":[100]},\"y\":{\"__ndarray__\":\"AAAAAAAA8D9o+gYFGL7vPyN/Fo5v+e4/XLHeqjC17T9foQT4kvbrP1YykSHGxOk/tDkVSdQo5z9AE3HJfC3kP10soPEH3+A/thLH2SiW2j9bQ2NRvgDTP4xzC34aOsY/cyCwKKhcqD8NyeikuUm0v0/eq9oaN8q/PSGBd67u1L+LyZhelmvcv8/m3JG2ueG/hlh3f5705L9dUsfUNNnnv10cd/2OW+q/wfLvCVdx7L8bLVJC9hHuv0PyRoe4Nu+/XjTx7ufa778HB0As4PvvvwQ9tXAZme+/V1DNmyq07r/ZTwivwlDtv4lZi6GZdOu/JeDa0Vgn6b/aPrV2e3Lmv820DJEnYeO/+v//////3783i/Tn4LnYv4yAwi7oDdG/30QPZF83wr9U+ijPKj+QvxHsuGvkX7w/k1rgSlktzj+GU4hOOdfWP1q1P3WwOd4/AasNgtOP4j+XUJVeWbblPzhQz6Jvg+g/uvBkh4zr6j99NRQyxuTsP/FJcov7Zu4/Juk3u/Vr7z+VSynBge/vP5RLKcGB7+8/Jek3u/Vr7z/vSXKL+2buP381FDLG5Ow/uPBkh4zr6j86UM+ib4PoP5VQlV5ZtuU/BasNgtOP4j9UtT91sDneP45TiE4519Y/hVrgSlktzj807Lhr5F+8P8f6KM8qP5C/zUQPZF83wr+SgMIu6A3Rvy6L9Ofgudi/BgAAAAAA4L/PtAyRJ2Hjv9k+tXZ7cua/I+Da0Vgn6b+NWYuhmXTrv9pPCK/CUO2/V1DNmyq07r8EPbVwGZnvvwgHQCzg+++/XjTx7ufa779E8kaHuDbvvx4tUkL2Ee6/wPLvCVdx7L9dHHf9jlvqv2BSx9Q02ee/gVh3f5705L/M5tyRtrnhv4zJmF6Wa9y/RiGBd67u1L8x3qvaGjfKv/DI6KS5SbS/bCCwKKhcqD90cwt+GjrGP2VDY1G+ANM/uRLH2SiW2j9aLKDxB9/gPzoTccl8LeQ/uDkVSdQo5z9WMpEhxsTpP16hBPiS9us/X7HeqjC17T8kfxaOb/nuP2j6BgUYvu8/AAAAAAAA8D8=\",\"dtype\":\"float64\",\"shape\":[100]}},\"selected\":{\"id\":\"1f667efe-3285-44a3-8a7a-475edaa7f4df\",\"type\":\"Selection\"},\"selection_policy\":{\"id\":\"84dc9550-303f-4c38-a7d2-a71f8d8a0cec\",\"type\":\"UnionRenderers\"}},\"id\":\"31632930-6d17-4f49-b796-cb68214cf97b\",\"type\":\"ColumnDataSource\"},{\"attributes\":{\"formatter\":{\"id\":\"99e82cc6-e5a3-4c08-bda1-8bd428ae3ff2\",\"type\":\"BasicTickFormatter\"},\"plot\":{\"id\":\"3086ffd1-6b6f-4a35-a97f-08cde0db8d57\",\"subtype\":\"Figure\",\"type\":\"Plot\"},\"ticker\":{\"id\":\"cea71ece-cba5-4916-9c84-1db935bdaace\",\"type\":\"BasicTicker\"}},\"id\":\"a5a6ffc9-0f5c-46ea-a35e-32e7ed29e0dc\",\"type\":\"LinearAxis\"},{\"attributes\":{\"bottom_units\":\"screen\",\"fill_alpha\":{\"value\":0.5},\"fill_color\":{\"value\":\"lightgrey\"},\"left_units\":\"screen\",\"level\":\"overlay\",\"line_alpha\":{\"value\":1.0},\"line_color\":{\"value\":\"black\"},\"line_dash\":[4,4],\"line_width\":{\"value\":2},\"plot\":null,\"render_mode\":\"css\",\"right_units\":\"screen\",\"top_units\":\"screen\"},\"id\":\"30883d2c-99ea-4b88-8f4f-8f36bf602559\",\"type\":\"BoxAnnotation\"},{\"attributes\":{\"below\":[{\"id\":\"2a47e5fb-62ce-4b04-8bce-0a7e22e44c11\",\"type\":\"LinearAxis\"}],\"left\":[{\"id\":\"7e17b37d-1ec4-4870-b3c5-a0a2fca38694\",\"type\":\"LinearAxis\"}],\"plot_height\":250,\"plot_width\":250,\"renderers\":[{\"id\":\"2a47e5fb-62ce-4b04-8bce-0a7e22e44c11\",\"type\":\"LinearAxis\"},{\"id\":\"9aa3f3d0-cb53-4462-8501-3c939d8a4e77\",\"type\":\"Grid\"},{\"id\":\"7e17b37d-1ec4-4870-b3c5-a0a2fca38694\",\"type\":\"LinearAxis\"},{\"id\":\"83dc8449-0628-425c-a4fa-3f3e1668bc21\",\"type\":\"Grid\"},{\"id\":\"b989a7b5-be0f-4d8c-a1ec-337d4f743f72\",\"type\":\"BoxAnnotation\"},{\"id\":\"b159b91e-0f12-4770-8490-e3a4c6781ee1\",\"type\":\"GlyphRenderer\"}],\"title\":{\"id\":\"883a51ca-a395-4322-a4f2-f34a9a811d49\",\"type\":\"Title\"},\"toolbar\":{\"id\":\"c26e077e-5860-4a1b-b7c7-c74f5b3fffa2\",\"type\":\"Toolbar\"},\"toolbar_location\":null,\"x_range\":{\"id\":\"36490a1e-7372-40bf-84bc-a43d4ccc7c71\",\"type\":\"DataRange1d\"},\"x_scale\":{\"id\":\"62afb5d1-9d0c-4495-82fd-05f543c986c8\",\"type\":\"LinearScale\"},\"y_range\":{\"id\":\"c0310f52-9dbe-48fe-a93f-d1a3ff8dbc0f\",\"type\":\"DataRange1d\"},\"y_scale\":{\"id\":\"cf1ea56c-0b37-41d2-9a81-c692b5cc97a1\",\"type\":\"LinearScale\"}},\"id\":\"7f9cb786-665d-49f3-8e21-a13d938071c7\",\"subtype\":\"Figure\",\"type\":\"Plot\"},{\"attributes\":{},\"id\":\"65b476dd-91fe-4110-9dbe-a3705fd449af\",\"type\":\"ResetTool\"},{\"attributes\":{\"formatter\":{\"id\":\"ed65030f-01ba-416a-ac4f-484938478fcb\",\"type\":\"BasicTickFormatter\"},\"plot\":{\"id\":\"f9840466-056c-4303-88e6-bcff8031b82a\",\"subtype\":\"Figure\",\"type\":\"Plot\"},\"ticker\":{\"id\":\"6e5dc668-d90b-4b2a-a30a-5c6035703dcb\",\"type\":\"BasicTicker\"}},\"id\":\"2a858cab-44ec-4a36-8976-4eae42fd905d\",\"type\":\"LinearAxis\"},{\"attributes\":{},\"id\":\"03560554-5660-4e55-979e-977d6f4b1886\",\"type\":\"WheelZoomTool\"},{\"attributes\":{\"callback\":null},\"id\":\"fd795f55-a809-4b9e-afc7-f89c67260b99\",\"type\":\"DataRange1d\"},{\"attributes\":{\"overlay\":{\"id\":\"30883d2c-99ea-4b88-8f4f-8f36bf602559\",\"type\":\"BoxAnnotation\"}},\"id\":\"6cc0f574-69f3-4cd8-aafd-bf3a5675b1a8\",\"type\":\"BoxZoomTool\"},{\"attributes\":{},\"id\":\"9af16104-2124-4dc4-85c5-d7f04815cfe2\",\"type\":\"LinearScale\"}],\"root_ids\":[\"1407132c-b292-4cc5-ae7f-b87cadb93399\"]},\"title\":\"Bokeh Application\",\"version\":\"0.13.0\"}};\n",
       "  var render_items = [{\"docid\":\"f1dae4c6-5eab-48cb-97a8-6edbaa625883\",\"roots\":{\"1407132c-b292-4cc5-ae7f-b87cadb93399\":\"e8e836ff-1634-4428-a246-aaf4d2c0f5d8\"}}];\n",
       "  root.Bokeh.embed.embed_items_notebook(docs_json, render_items);\n",
       "\n",
       "  }\n",
       "  if (root.Bokeh !== undefined) {\n",
       "    embed_document(root);\n",
       "  } else {\n",
       "    var attempts = 0;\n",
       "    var timer = setInterval(function(root) {\n",
       "      if (root.Bokeh !== undefined) {\n",
       "        embed_document(root);\n",
       "        clearInterval(timer);\n",
       "      }\n",
       "      attempts++;\n",
       "      if (attempts > 100) {\n",
       "        console.log(\"Bokeh: ERROR: Unable to run BokehJS code because BokehJS library is missing\")\n",
       "        clearInterval(timer);\n",
       "      }\n",
       "    }, 10, root)\n",
       "  }\n",
       "})(window);"
      ],
      "application/vnd.bokehjs_exec.v0+json": ""
     },
     "metadata": {
      "application/vnd.bokehjs_exec.v0+json": {
       "id": "1407132c-b292-4cc5-ae7f-b87cadb93399"
      }
     },
     "output_type": "display_data"
    }
   ],
   "source": [
    "from bokeh.io import output_file, show\n",
    "from bokeh.layouts import gridplot\n",
    "from bokeh.palettes import Viridis3\n",
    "from bokeh.plotting import figure\n",
    "\n",
    "N = 100\n",
    "x = np.linspace(0, 4*np.pi, N)\n",
    "y0 = np.sin(x)\n",
    "y1 = np.cos(x)\n",
    "y2 = np.sin(x) + np.cos(x)\n",
    "\n",
    "# create three plots\n",
    "s1 = figure()\n",
    "s1.circle(x, y0, size=3, color=Viridis3[0])\n",
    "s2 = figure()\n",
    "s2.circle(x, y1, size=3, color=Viridis3[1])\n",
    "s3 = figure()\n",
    "s3.circle(x, y2, size=3, color=Viridis3[2])\n",
    "\n",
    "# make a grid\n",
    "grid = gridplot([s1, s2, s3], ncols=2, plot_width=250, plot_height=250)\n",
    "\n",
    "# show the results\n",
    "show(grid)"
   ]
  },
  {
   "cell_type": "markdown",
   "metadata": {},
   "source": [
    "### Linked panning and brushing\n",
    "\n",
    "Linking together various aspects of different plots can be a useful technique for data visualization. In Bokeh, such linkages are typically accomplished by sharing some plot component between plots. Below is an example that demonstrates linked panning (where changing the range of one plot causes others to update) by sharing range objects between the plots. Some other things to look out for in this example:\n",
    "\n",
    "- calling `figure()` multiple times to create multiple plots\n",
    "- using `gridplot()` to arrange several plots in an array\n",
    "- showing new glyphs using new glyph methods Figure.triangle and Figure.square\n",
    "- hiding the toolbar by setting toolbar_location to None\n",
    "- setting convenience arguments color (sets both line_color and fill_color) and alpha (sets both line_alpha and fill_alpha)\n"
   ]
  },
  {
   "cell_type": "code",
   "execution_count": 4,
   "metadata": {},
   "outputs": [
    {
     "data": {
      "text/html": [
       "\n",
       "\n",
       "\n",
       "\n",
       "\n",
       "\n",
       "  <div class=\"bk-root\" id=\"d9974fda-332b-4df8-be54-7c6e6b99efe9\"></div>\n"
      ]
     },
     "metadata": {},
     "output_type": "display_data"
    },
    {
     "data": {
      "application/javascript": [
       "(function(root) {\n",
       "  function embed_document(root) {\n",
       "    \n",
       "  var docs_json = {\"15e36c36-8401-473d-aa26-b6eda910a63a\":{\"roots\":{\"references\":[{\"attributes\":{\"source\":{\"id\":\"f76d7ad8-a7fe-45fb-9df3-da9e05abf1e6\",\"type\":\"ColumnDataSource\"}},\"id\":\"ce09bacb-303c-440a-b804-1b97dede8f83\",\"type\":\"CDSView\"},{\"attributes\":{\"data_source\":{\"id\":\"f76d7ad8-a7fe-45fb-9df3-da9e05abf1e6\",\"type\":\"ColumnDataSource\"},\"glyph\":{\"id\":\"0875147f-1adb-49a0-8268-efa8e5b3ce70\",\"type\":\"Circle\"},\"hover_glyph\":null,\"muted_glyph\":null,\"nonselection_glyph\":{\"id\":\"b003e6e8-1f45-4e81-acee-4d323cbf013f\",\"type\":\"Circle\"},\"selection_glyph\":null,\"view\":{\"id\":\"ce09bacb-303c-440a-b804-1b97dede8f83\",\"type\":\"CDSView\"}},\"id\":\"13df4a6f-5bdb-4115-a6a1-ca2ef95dea14\",\"type\":\"GlyphRenderer\"},{\"attributes\":{\"callback\":null,\"data\":{\"x\":{\"__ndarray__\":\"AAAAAAAAAACRGkt8Vz/AP5EaS3xXP9A/2qdwOgNf2D+RGkt8Vz/gPzXhXVstT+Q/2qdwOgNf6D9+boMZ2W7sP5EaS3xXP/A/433Ua0JH8j814V1bLU/0P4dE50oYV/Y/2qdwOgNf+D8sC/op7mb6P35ugxnZbvw/0NEMCcR2/j+RGkt8Vz8AQDrMD/RMQwFA433Ua0JHAkCML5njN0sDQDXhXVstTwRA3pIi0yJTBUCHROdKGFcGQDD2q8INWwdA2qdwOgNfCECDWTWy+GIJQCwL+inuZgpA1by+oeNqC0B+boMZ2W4MQCcgSJHOcg1A0NEMCcR2DkB5g9GAuXoPQJEaS3xXPxBAZnMtOFLBEEA6zA/0TEMRQA8l8q9HxRFA433Ua0JHEkC41rYnPckSQIwvmeM3SxNAYYh7nzLNE0A14V1bLU8UQAo6QBco0RRA3pIi0yJTFUCz6wSPHdUVQIdE50oYVxZAXJ3JBhPZFkAw9qvCDVsXQAVPjn4I3RdA2qdwOgNfGECuAFP2/eAYQINZNbL4YhlAV7IXbvPkGUAsC/op7mYaQABk3OXo6BpA1by+oeNqG0CpFaFd3uwbQH5ugxnZbhxAUsdl1dPwHEAnIEiRznIdQPt4Kk3J9B1A0NEMCcR2HkCkKu/EvvgeQHmD0YC5eh9ATdyzPLT8H0CRGkt8Vz8gQPtGPNpUgCBAZnMtOFLBIEDQnx6WTwIhQDrMD/RMQyFApPgAUkqEIUAPJfKvR8UhQHlR4w1FBiJA433Ua0JHIkBNqsXJP4giQLjWtic9ySJAIgOohToKI0CML5njN0sjQPZbikE1jCNAYYh7nzLNI0DLtGz9Lw4kQDXhXVstTyRAoA1PuSqQJEAKOkAXKNEkQHRmMXUlEiVA3pIi0yJTJUBJvxMxIJQlQLPrBI8d1SVAHRj27BoWJkCHROdKGFcmQPJw2KgVmCZAXJ3JBhPZJkDGybpkEBonQDD2q8INWydAmyKdIAucJ0AFT45+CN0nQG97f9wFHihA2qdwOgNfKEBE1GGYAKAoQK4AU/b94ChAGC1EVPshKUA=\",\"dtype\":\"float64\",\"shape\":[100]},\"y\":{\"__ndarray__\":\"AAAAAAAA8D+yzYPRkeXxP7ihgYdrgfM/rb0yquzM9D/245G2v8L1P87bFRfwXvY/2iiqbvqe9j/kKcny1oH2P2p9E6r9B/Y/t9rofWQz9T/V4vYmdwf0P338ARYJifI/RdfykkG+8D9ETRXIBF3tPyugTMuSxOg/JsOhHxvG4z8XRefmX+zcP4TfmO5l1dE/4IAW3tnTuT9YVAYbRxi0v26sY4ZobNC/kDyhvhiP278fJw0IIiDjv8rnndrvKei/4klI9jTQ7L9i6ms85X/wvyB3ITG5U/K/nEtETQ/c879kyJx6lxL1v3a2nZlS8vW/jCxGFqd39r9Ikzy8b6D2v7IbDo0EbPa/VCYsdD3b9b+XNIXNbvD0vyX2CM1fr/O/Ewqe7jod8r/hQKSueEDwv7KoVMWJQey/OkhCQL6N57//x2pm7XjivwiD/egKMNq/XFreULgEzr/Qjtyf0basv8jQmYTCjb8/YDFTHT090z9zKk7fyUfePwQ64frNauQ/Br4PG51d6T/UmpIn8OftPyz+X62J+/A/JAqwLSe98j/wrAGOlDH0P+CqQLrTUvU/YyQQQD0c9j8rs4V6k4r2Pw41lOsPnPY/THYpjGpQ9j9uO9/02qj1P8SNeVoTqPQ/wTrZcjVS8z/dcSFwwazxPxnyVbD+fO8/vXE0K8Ye6z+6a09r11DmP/7dFbP8JuE/Qpmw0PVs1z8YNwvg51bIP4A3qsMi+oY/tJyl3I19xb9ijLYfHAnWv+4O12hWfOC/dgkSnTaw5b/Eiyd/wIrqv1M5qN/19+6/bw/Nc81y8b9c/veZwCHzv4mZSz7lgfS/nqNH2pCN9b9CMd7bdED2vxjtFmOwl/a/lMBYHdyR9r+wHoMNEC/2vww2BinjcPW/NHKRy2Ra9L+mR1EcEPDyv8K/p5i5N/G/fKrPIO5w7r87P/7sBPXpv0iCivwvDuW/bUUVRECh3788RM3h1qPUv0i1wErRosK/wBtiTTs7oT9AtNpTsC7LP571ygVNz9g/audXAYjQ4T/buikNCPDmP2xZBmcMses//P//////7z8=\",\"dtype\":\"float64\",\"shape\":[100]}},\"selected\":{\"id\":\"b2eec44a-90c7-42d9-b44b-c46b7c34fba6\",\"type\":\"Selection\"},\"selection_policy\":{\"id\":\"721ad306-e5b0-4837-8e1b-50318b3be2f9\",\"type\":\"UnionRenderers\"}},\"id\":\"bb852b85-cfae-4a89-8f0a-18975e7c223f\",\"type\":\"ColumnDataSource\"},{\"attributes\":{\"bottom_units\":\"screen\",\"fill_alpha\":{\"value\":0.5},\"fill_color\":{\"value\":\"lightgrey\"},\"left_units\":\"screen\",\"level\":\"overlay\",\"line_alpha\":{\"value\":1.0},\"line_color\":{\"value\":\"black\"},\"line_dash\":[4,4],\"line_width\":{\"value\":2},\"plot\":null,\"render_mode\":\"css\",\"right_units\":\"screen\",\"top_units\":\"screen\"},\"id\":\"9742730f-9b09-40d9-92e3-5ba82b40d2ce\",\"type\":\"BoxAnnotation\"},{\"attributes\":{},\"id\":\"8ae541bc-c58b-4297-9d1f-d3d342464182\",\"type\":\"PanTool\"},{\"attributes\":{\"children\":[{\"id\":\"13c6ff83-7f63-4882-b92c-f6223478e784\",\"subtype\":\"Figure\",\"type\":\"Plot\"},{\"id\":\"d2124434-3338-4bf9-a610-80a168961581\",\"subtype\":\"Figure\",\"type\":\"Plot\"},{\"id\":\"0f707ab6-ba1c-419d-87d9-c190d9ad1f20\",\"subtype\":\"Figure\",\"type\":\"Plot\"}]},\"id\":\"b62603a6-f837-4b02-b1d4-8c66235b3f7a\",\"type\":\"Row\"},{\"attributes\":{},\"id\":\"9262ae05-ee52-4f10-8375-782272f65feb\",\"type\":\"WheelZoomTool\"},{\"attributes\":{\"overlay\":{\"id\":\"9742730f-9b09-40d9-92e3-5ba82b40d2ce\",\"type\":\"BoxAnnotation\"}},\"id\":\"00152ffd-7309-44a0-8a42-76c3a311a523\",\"type\":\"BoxZoomTool\"},{\"attributes\":{},\"id\":\"d1b1b5ce-1056-44dd-a09b-c51e5cac0e71\",\"type\":\"SaveTool\"},{\"attributes\":{},\"id\":\"c4ea7492-3b37-467d-86b5-92fcc9903cd6\",\"type\":\"ResetTool\"},{\"attributes\":{},\"id\":\"ba19ac69-2835-4a05-93ad-1b241e7c8f6a\",\"type\":\"HelpTool\"},{\"attributes\":{\"callback\":null},\"id\":\"a543cd6d-0d8e-40a4-be8f-adfcedeacfbe\",\"type\":\"DataRange1d\"},{\"attributes\":{\"source\":{\"id\":\"bb852b85-cfae-4a89-8f0a-18975e7c223f\",\"type\":\"ColumnDataSource\"}},\"id\":\"b5f15183-e94d-4e3c-b207-7a2e0f24c500\",\"type\":\"CDSView\"},{\"attributes\":{\"active_drag\":\"auto\",\"active_inspect\":\"auto\",\"active_multi\":null,\"active_scroll\":\"auto\",\"active_tap\":\"auto\",\"tools\":[{\"id\":\"9aea03c7-5edf-4783-b552-3c9b73dd5ad5\",\"type\":\"PanTool\"},{\"id\":\"de9e419e-3a14-4577-8de1-7a15bcff7d35\",\"type\":\"WheelZoomTool\"},{\"id\":\"085debc1-25d8-45c5-a4d6-126fbfbdad10\",\"type\":\"BoxZoomTool\"},{\"id\":\"250a1bd9-fb82-4217-9485-4d6894c08aa0\",\"type\":\"SaveTool\"},{\"id\":\"602bacd0-8802-478f-9757-e73d3dfb9436\",\"type\":\"ResetTool\"},{\"id\":\"8dc5b40c-93df-4a9b-bab2-2803a718e568\",\"type\":\"HelpTool\"}]},\"id\":\"e6ec3f36-1599-41d9-8949-d3540dc88b3f\",\"type\":\"Toolbar\"},{\"attributes\":{\"fill_alpha\":{\"value\":0.1},\"fill_color\":{\"value\":\"#1f77b4\"},\"line_alpha\":{\"value\":0.1},\"line_color\":{\"value\":\"#1f77b4\"},\"size\":{\"units\":\"screen\",\"value\":3},\"x\":{\"field\":\"x\"},\"y\":{\"field\":\"y\"}},\"id\":\"eee1c13e-cef5-4d25-8aef-69c6a7e96d62\",\"type\":\"Circle\"},{\"attributes\":{},\"id\":\"4b2b9809-bac7-4861-b30f-0d70dcb08e5e\",\"type\":\"LinearScale\"},{\"attributes\":{},\"id\":\"624ed461-a8dc-4e81-8ded-1522465e2f65\",\"type\":\"LinearScale\"},{\"attributes\":{},\"id\":\"69161b9b-6ab2-4162-93d2-09b57103f06a\",\"type\":\"BasicTicker\"},{\"attributes\":{\"plot\":{\"id\":\"0f707ab6-ba1c-419d-87d9-c190d9ad1f20\",\"subtype\":\"Figure\",\"type\":\"Plot\"},\"ticker\":{\"id\":\"3f3bdf35-5600-448e-b4ae-0373d01a92ee\",\"type\":\"BasicTicker\"}},\"id\":\"177d9f3e-a21b-403a-9270-71eb049b915d\",\"type\":\"Grid\"},{\"attributes\":{\"formatter\":{\"id\":\"f451746e-8516-455b-ab1d-cf4a17562ef5\",\"type\":\"BasicTickFormatter\"},\"plot\":{\"id\":\"0f707ab6-ba1c-419d-87d9-c190d9ad1f20\",\"subtype\":\"Figure\",\"type\":\"Plot\"},\"ticker\":{\"id\":\"3f3bdf35-5600-448e-b4ae-0373d01a92ee\",\"type\":\"BasicTicker\"}},\"id\":\"96161707-9b69-4596-9fd8-65a2601bd74e\",\"type\":\"LinearAxis\"},{\"attributes\":{},\"id\":\"3f3bdf35-5600-448e-b4ae-0373d01a92ee\",\"type\":\"BasicTicker\"},{\"attributes\":{\"formatter\":{\"id\":\"efe35a07-f68a-4f60-b17b-984515682320\",\"type\":\"BasicTickFormatter\"},\"plot\":{\"id\":\"0f707ab6-ba1c-419d-87d9-c190d9ad1f20\",\"subtype\":\"Figure\",\"type\":\"Plot\"},\"ticker\":{\"id\":\"df589e30-afd3-408c-baf1-2e302e6f9dca\",\"type\":\"BasicTicker\"}},\"id\":\"0eb2c97a-c641-4bf4-bd19-d985b9e0bdbe\",\"type\":\"LinearAxis\"},{\"attributes\":{},\"id\":\"df589e30-afd3-408c-baf1-2e302e6f9dca\",\"type\":\"BasicTicker\"},{\"attributes\":{\"dimension\":1,\"plot\":{\"id\":\"0f707ab6-ba1c-419d-87d9-c190d9ad1f20\",\"subtype\":\"Figure\",\"type\":\"Plot\"},\"ticker\":{\"id\":\"df589e30-afd3-408c-baf1-2e302e6f9dca\",\"type\":\"BasicTicker\"}},\"id\":\"01672cd3-196f-464d-85c7-86c40210b416\",\"type\":\"Grid\"},{\"attributes\":{\"data_source\":{\"id\":\"bb852b85-cfae-4a89-8f0a-18975e7c223f\",\"type\":\"ColumnDataSource\"},\"glyph\":{\"id\":\"5d4c35d4-08e7-4b8c-a86f-c910d2ab5189\",\"type\":\"Circle\"},\"hover_glyph\":null,\"muted_glyph\":null,\"nonselection_glyph\":{\"id\":\"eee1c13e-cef5-4d25-8aef-69c6a7e96d62\",\"type\":\"Circle\"},\"selection_glyph\":null,\"view\":{\"id\":\"b5f15183-e94d-4e3c-b207-7a2e0f24c500\",\"type\":\"CDSView\"}},\"id\":\"0ffe1cd7-7a82-4f5c-9e9a-9fb8b47c1036\",\"type\":\"GlyphRenderer\"},{\"attributes\":{\"formatter\":{\"id\":\"da9333c3-3757-44f3-8c50-c07d171843a6\",\"type\":\"BasicTickFormatter\"},\"plot\":{\"id\":\"d2124434-3338-4bf9-a610-80a168961581\",\"subtype\":\"Figure\",\"type\":\"Plot\"},\"ticker\":{\"id\":\"69161b9b-6ab2-4162-93d2-09b57103f06a\",\"type\":\"BasicTicker\"}},\"id\":\"19445e86-6515-4555-a6c3-5140b0f85da7\",\"type\":\"LinearAxis\"},{\"attributes\":{\"fill_alpha\":{\"value\":0.5},\"fill_color\":{\"value\":\"olive\"},\"line_alpha\":{\"value\":0.5},\"line_color\":{\"value\":\"olive\"},\"size\":{\"units\":\"screen\",\"value\":3},\"x\":{\"field\":\"x\"},\"y\":{\"field\":\"y\"}},\"id\":\"5d4c35d4-08e7-4b8c-a86f-c910d2ab5189\",\"type\":\"Circle\"},{\"attributes\":{\"plot\":{\"id\":\"d2124434-3338-4bf9-a610-80a168961581\",\"subtype\":\"Figure\",\"type\":\"Plot\"},\"ticker\":{\"id\":\"69161b9b-6ab2-4162-93d2-09b57103f06a\",\"type\":\"BasicTicker\"}},\"id\":\"940e9196-d146-46b3-84ee-04ee2ea5cfd0\",\"type\":\"Grid\"},{\"attributes\":{\"children\":[{\"id\":\"b62603a6-f837-4b02-b1d4-8c66235b3f7a\",\"type\":\"Row\"}]},\"id\":\"55f584b5-15d8-483a-9546-a7f32b5b6b52\",\"type\":\"Column\"},{\"attributes\":{\"bottom_units\":\"screen\",\"fill_alpha\":{\"value\":0.5},\"fill_color\":{\"value\":\"lightgrey\"},\"left_units\":\"screen\",\"level\":\"overlay\",\"line_alpha\":{\"value\":1.0},\"line_color\":{\"value\":\"black\"},\"line_dash\":[4,4],\"line_width\":{\"value\":2},\"plot\":null,\"render_mode\":\"css\",\"right_units\":\"screen\",\"top_units\":\"screen\"},\"id\":\"6413c0f7-0afb-4d36-9c44-bbc0b246e53c\",\"type\":\"BoxAnnotation\"},{\"attributes\":{},\"id\":\"976fb65e-b64d-4b34-854f-eab1a0fc3cf9\",\"type\":\"LinearScale\"},{\"attributes\":{},\"id\":\"9aea03c7-5edf-4783-b552-3c9b73dd5ad5\",\"type\":\"PanTool\"},{\"attributes\":{},\"id\":\"f2ab10c6-00b8-42d1-bf7b-c9acc6ffc89e\",\"type\":\"ResetTool\"},{\"attributes\":{},\"id\":\"de9e419e-3a14-4577-8de1-7a15bcff7d35\",\"type\":\"WheelZoomTool\"},{\"attributes\":{\"overlay\":{\"id\":\"6413c0f7-0afb-4d36-9c44-bbc0b246e53c\",\"type\":\"BoxAnnotation\"}},\"id\":\"085debc1-25d8-45c5-a4d6-126fbfbdad10\",\"type\":\"BoxZoomTool\"},{\"attributes\":{},\"id\":\"250a1bd9-fb82-4217-9485-4d6894c08aa0\",\"type\":\"SaveTool\"},{\"attributes\":{},\"id\":\"602bacd0-8802-478f-9757-e73d3dfb9436\",\"type\":\"ResetTool\"},{\"attributes\":{},\"id\":\"8dc5b40c-93df-4a9b-bab2-2803a718e568\",\"type\":\"HelpTool\"},{\"attributes\":{},\"id\":\"1f45b34d-8624-484a-b450-cfdf074956f4\",\"type\":\"SaveTool\"},{\"attributes\":{},\"id\":\"95ac0c38-92b8-457f-9d61-3b0b3097a556\",\"type\":\"UnionRenderers\"},{\"attributes\":{\"callback\":null,\"data\":{\"x\":{\"__ndarray__\":\"AAAAAAAAAACRGkt8Vz/AP5EaS3xXP9A/2qdwOgNf2D+RGkt8Vz/gPzXhXVstT+Q/2qdwOgNf6D9+boMZ2W7sP5EaS3xXP/A/433Ua0JH8j814V1bLU/0P4dE50oYV/Y/2qdwOgNf+D8sC/op7mb6P35ugxnZbvw/0NEMCcR2/j+RGkt8Vz8AQDrMD/RMQwFA433Ua0JHAkCML5njN0sDQDXhXVstTwRA3pIi0yJTBUCHROdKGFcGQDD2q8INWwdA2qdwOgNfCECDWTWy+GIJQCwL+inuZgpA1by+oeNqC0B+boMZ2W4MQCcgSJHOcg1A0NEMCcR2DkB5g9GAuXoPQJEaS3xXPxBAZnMtOFLBEEA6zA/0TEMRQA8l8q9HxRFA433Ua0JHEkC41rYnPckSQIwvmeM3SxNAYYh7nzLNE0A14V1bLU8UQAo6QBco0RRA3pIi0yJTFUCz6wSPHdUVQIdE50oYVxZAXJ3JBhPZFkAw9qvCDVsXQAVPjn4I3RdA2qdwOgNfGECuAFP2/eAYQINZNbL4YhlAV7IXbvPkGUAsC/op7mYaQABk3OXo6BpA1by+oeNqG0CpFaFd3uwbQH5ugxnZbhxAUsdl1dPwHEAnIEiRznIdQPt4Kk3J9B1A0NEMCcR2HkCkKu/EvvgeQHmD0YC5eh9ATdyzPLT8H0CRGkt8Vz8gQPtGPNpUgCBAZnMtOFLBIEDQnx6WTwIhQDrMD/RMQyFApPgAUkqEIUAPJfKvR8UhQHlR4w1FBiJA433Ua0JHIkBNqsXJP4giQLjWtic9ySJAIgOohToKI0CML5njN0sjQPZbikE1jCNAYYh7nzLNI0DLtGz9Lw4kQDXhXVstTyRAoA1PuSqQJEAKOkAXKNEkQHRmMXUlEiVA3pIi0yJTJUBJvxMxIJQlQLPrBI8d1SVAHRj27BoWJkCHROdKGFcmQPJw2KgVmCZAXJ3JBhPZJkDGybpkEBonQDD2q8INWydAmyKdIAucJ0AFT45+CN0nQG97f9wFHihA2qdwOgNfKEBE1GGYAKAoQK4AU/b94ChAGC1EVPshKUA=\",\"dtype\":\"float64\",\"shape\":[100]},\"y\":{\"__ndarray__\":\"AAAAAAAAAADwgwJ4LjTAP5qI2QHPEtA/+5MNU1HJ1z8ZTT7q2B3fP0aFmgwa+eI/ABg/lCAV5j+IQCEcMdboP3fOhmLzMOs/EyzujrQb7T/9Izwlj47uPxccgYyLg+8/g6xao7j27z9mZrL8O+bvP7+X94FZUu8/xVNiW3I97j9RB8Ai+6vsP5FWKYlppOo/oig6uxkv6D/Sh2bxK1blPyZGRbpaJeI/8qg+VZVT3T/4C4p0qOPVP+UppLIiM8w/3FNHxZdVuD/I23zJpD6gv+3ENsZjOcS/wo12/ecH0r/egWKM2KjZv2MTsJELcOC/83ixWvXH47+258MBZM7mv5eCD4nhdum/rExY6Hq267+TIxAn7YPtvwSssILL1+6/70I4BJ6s77/vOc8G+P7vvzTGy1KGze+/3176khQZ77/C8a4NiuTtvzGcHq/dNOy/mEFFlgER6r+EGZN4xoHnvx8WPFK3keS/Cli7+O1M4b+HQNqEwoHbv9kfIiFb+NO/gKyggGI5yL8EhrXMjDywvyCGtcyMPLA/jqyggGI5yD/gHyIhW/jTP4BA2oTCgds/Dli7+O1M4T8cFjxSt5HkP4cZk3jGgec/lEFFlgER6j8ynB6v3TTsP8Hxrg2K5O0/4F76khQZ7z80xstShs3vP+85zwb4/u8/8EI4BJ6s7z8DrLCCy9fuP5UjECftg+0/p0xY6Hq26z+Vgg+J4XbpP7fnwwFkzuY/9nixWvXH4z9cE7CRC3DgP9eBYozYqNk/w412/ecH0j/+xDbGYznEP0/bfMmkPqA/+VNHxZdVuL/UKaSyIjPMv+gLinSo49W/+Kg+VZVT3b8mRkW6WiXiv8+HZvErVuW/pig6uxkv6L+TVimJaaTqv1EHwCL7q+y/xFNiW3I97r/Al/eBWVLvv2Zmsvw75u+/g6xao7j2778YHIGMi4Pvv/sjPCWPju6/EyzujrQb7b94zoZi8zDrv4xAIRwx1ui//Bc/lCAV5r9GhZoMGvnivx5NPurYHd+/65MNU1HJ17+SiNkBzxLQv/GDAnguNMC/B1wUMyamwbw=\",\"dtype\":\"float64\",\"shape\":[100]}},\"selected\":{\"id\":\"8adeca67-d099-45e9-b47d-1767ef95edeb\",\"type\":\"Selection\"},\"selection_policy\":{\"id\":\"95ac0c38-92b8-457f-9d61-3b0b3097a556\",\"type\":\"UnionRenderers\"}},\"id\":\"98f0ef93-30f3-40d7-9174-0c3af09adc4d\",\"type\":\"ColumnDataSource\"},{\"attributes\":{},\"id\":\"2ad70fd1-a843-4f7a-9762-33a056090149\",\"type\":\"BasicTickFormatter\"},{\"attributes\":{},\"id\":\"75d7ae33-48c9-469a-ba96-3068475ef8ea\",\"type\":\"BasicTickFormatter\"},{\"attributes\":{\"active_drag\":\"auto\",\"active_inspect\":\"auto\",\"active_multi\":null,\"active_scroll\":\"auto\",\"active_tap\":\"auto\",\"tools\":[{\"id\":\"8ae541bc-c58b-4297-9d1f-d3d342464182\",\"type\":\"PanTool\"},{\"id\":\"9262ae05-ee52-4f10-8375-782272f65feb\",\"type\":\"WheelZoomTool\"},{\"id\":\"00152ffd-7309-44a0-8a42-76c3a311a523\",\"type\":\"BoxZoomTool\"},{\"id\":\"d1b1b5ce-1056-44dd-a09b-c51e5cac0e71\",\"type\":\"SaveTool\"},{\"id\":\"c4ea7492-3b37-467d-86b5-92fcc9903cd6\",\"type\":\"ResetTool\"},{\"id\":\"ba19ac69-2835-4a05-93ad-1b241e7c8f6a\",\"type\":\"HelpTool\"}]},\"id\":\"106772a8-37b9-47aa-9ed9-2c6ef477d647\",\"type\":\"Toolbar\"},{\"attributes\":{},\"id\":\"8adeca67-d099-45e9-b47d-1767ef95edeb\",\"type\":\"Selection\"},{\"attributes\":{\"data_source\":{\"id\":\"98f0ef93-30f3-40d7-9174-0c3af09adc4d\",\"type\":\"ColumnDataSource\"},\"glyph\":{\"id\":\"5e7bfad8-d5f6-4c1e-9d12-bbff142e63fc\",\"type\":\"Circle\"},\"hover_glyph\":null,\"muted_glyph\":null,\"nonselection_glyph\":{\"id\":\"9509f177-a50c-44b0-9bb6-15aaddab11b6\",\"type\":\"Circle\"},\"selection_glyph\":null,\"view\":{\"id\":\"ea1a11b6-8f54-4e42-aaac-295ffdbacc22\",\"type\":\"CDSView\"}},\"id\":\"cb63e033-612c-4877-94b9-2b746af0b406\",\"type\":\"GlyphRenderer\"},{\"attributes\":{},\"id\":\"6eeb2c99-e217-49db-b1ea-ee7f59496bdc\",\"type\":\"BasicTickFormatter\"},{\"attributes\":{},\"id\":\"04aad696-63ea-4e87-b187-7e3549a15da2\",\"type\":\"LinearScale\"},{\"attributes\":{},\"id\":\"da9333c3-3757-44f3-8c50-c07d171843a6\",\"type\":\"BasicTickFormatter\"},{\"attributes\":{},\"id\":\"88e254c2-334a-4b80-ae2b-826393ed0765\",\"type\":\"UnionRenderers\"},{\"attributes\":{},\"id\":\"ced39d79-1fe0-4530-94e3-ccda1c7672e3\",\"type\":\"LinearScale\"},{\"attributes\":{\"overlay\":{\"id\":\"5097dcc8-8443-4021-9827-3b85d52c212e\",\"type\":\"BoxAnnotation\"}},\"id\":\"2f693c44-18b4-423a-9960-13835c62a08b\",\"type\":\"BoxZoomTool\"},{\"attributes\":{},\"id\":\"15a3570a-a4d1-4140-938c-1230e451b3e3\",\"type\":\"Selection\"},{\"attributes\":{\"dimension\":1,\"plot\":{\"id\":\"d2124434-3338-4bf9-a610-80a168961581\",\"subtype\":\"Figure\",\"type\":\"Plot\"},\"ticker\":{\"id\":\"a7dab4c8-f39f-4b19-a604-9230ef175caf\",\"type\":\"BasicTicker\"}},\"id\":\"bc52fa36-bb73-4605-8b66-3d2711c25d38\",\"type\":\"Grid\"},{\"attributes\":{},\"id\":\"efe35a07-f68a-4f60-b17b-984515682320\",\"type\":\"BasicTickFormatter\"},{\"attributes\":{\"formatter\":{\"id\":\"6eeb2c99-e217-49db-b1ea-ee7f59496bdc\",\"type\":\"BasicTickFormatter\"},\"plot\":{\"id\":\"d2124434-3338-4bf9-a610-80a168961581\",\"subtype\":\"Figure\",\"type\":\"Plot\"},\"ticker\":{\"id\":\"a7dab4c8-f39f-4b19-a604-9230ef175caf\",\"type\":\"BasicTicker\"}},\"id\":\"5d562ce2-60ce-40df-94e3-2e1b4b453ef8\",\"type\":\"LinearAxis\"},{\"attributes\":{},\"id\":\"a7dab4c8-f39f-4b19-a604-9230ef175caf\",\"type\":\"BasicTicker\"},{\"attributes\":{},\"id\":\"f451746e-8516-455b-ab1d-cf4a17562ef5\",\"type\":\"BasicTickFormatter\"},{\"attributes\":{\"callback\":null},\"id\":\"9897d799-e96d-4e2a-bad0-f9ecb280734e\",\"type\":\"DataRange1d\"},{\"attributes\":{\"below\":[{\"id\":\"96161707-9b69-4596-9fd8-65a2601bd74e\",\"type\":\"LinearAxis\"}],\"left\":[{\"id\":\"0eb2c97a-c641-4bf4-bd19-d985b9e0bdbe\",\"type\":\"LinearAxis\"}],\"plot_height\":250,\"plot_width\":250,\"renderers\":[{\"id\":\"96161707-9b69-4596-9fd8-65a2601bd74e\",\"type\":\"LinearAxis\"},{\"id\":\"177d9f3e-a21b-403a-9270-71eb049b915d\",\"type\":\"Grid\"},{\"id\":\"0eb2c97a-c641-4bf4-bd19-d985b9e0bdbe\",\"type\":\"LinearAxis\"},{\"id\":\"01672cd3-196f-464d-85c7-86c40210b416\",\"type\":\"Grid\"},{\"id\":\"6413c0f7-0afb-4d36-9c44-bbc0b246e53c\",\"type\":\"BoxAnnotation\"},{\"id\":\"0ffe1cd7-7a82-4f5c-9e9a-9fb8b47c1036\",\"type\":\"GlyphRenderer\"}],\"title\":null,\"toolbar\":{\"id\":\"e6ec3f36-1599-41d9-8949-d3540dc88b3f\",\"type\":\"Toolbar\"},\"toolbar_location\":null,\"x_range\":{\"id\":\"bb1172ad-0698-46ca-88e8-2596ea10d394\",\"type\":\"DataRange1d\"},\"x_scale\":{\"id\":\"624ed461-a8dc-4e81-8ded-1522465e2f65\",\"type\":\"LinearScale\"},\"y_range\":{\"id\":\"a543cd6d-0d8e-40a4-be8f-adfcedeacfbe\",\"type\":\"DataRange1d\"},\"y_scale\":{\"id\":\"4b2b9809-bac7-4861-b30f-0d70dcb08e5e\",\"type\":\"LinearScale\"}},\"id\":\"0f707ab6-ba1c-419d-87d9-c190d9ad1f20\",\"subtype\":\"Figure\",\"type\":\"Plot\"},{\"attributes\":{},\"id\":\"721ad306-e5b0-4837-8e1b-50318b3be2f9\",\"type\":\"UnionRenderers\"},{\"attributes\":{},\"id\":\"b2eec44a-90c7-42d9-b44b-c46b7c34fba6\",\"type\":\"Selection\"},{\"attributes\":{\"dimension\":1,\"plot\":{\"id\":\"13c6ff83-7f63-4882-b92c-f6223478e784\",\"subtype\":\"Figure\",\"type\":\"Plot\"},\"ticker\":{\"id\":\"712cdfa7-9601-4a79-a23b-231cff1ac55c\",\"type\":\"BasicTicker\"}},\"id\":\"46787885-ac26-419c-ab2e-92e5e4f31f06\",\"type\":\"Grid\"},{\"attributes\":{\"below\":[{\"id\":\"146f8ce5-1802-4c62-a88d-22bfaa2692df\",\"type\":\"LinearAxis\"}],\"left\":[{\"id\":\"49aa0cfc-14bb-480f-8c57-84cc8f342308\",\"type\":\"LinearAxis\"}],\"plot_height\":250,\"plot_width\":250,\"renderers\":[{\"id\":\"146f8ce5-1802-4c62-a88d-22bfaa2692df\",\"type\":\"LinearAxis\"},{\"id\":\"8d5c8aae-095a-4655-b197-fa4f5a2879a1\",\"type\":\"Grid\"},{\"id\":\"49aa0cfc-14bb-480f-8c57-84cc8f342308\",\"type\":\"LinearAxis\"},{\"id\":\"46787885-ac26-419c-ab2e-92e5e4f31f06\",\"type\":\"Grid\"},{\"id\":\"5097dcc8-8443-4021-9827-3b85d52c212e\",\"type\":\"BoxAnnotation\"},{\"id\":\"cb63e033-612c-4877-94b9-2b746af0b406\",\"type\":\"GlyphRenderer\"}],\"title\":null,\"toolbar\":{\"id\":\"8265789a-6691-4da6-8da3-5128bac2ccc0\",\"type\":\"Toolbar\"},\"toolbar_location\":null,\"x_range\":{\"id\":\"bb1172ad-0698-46ca-88e8-2596ea10d394\",\"type\":\"DataRange1d\"},\"x_scale\":{\"id\":\"ced39d79-1fe0-4530-94e3-ccda1c7672e3\",\"type\":\"LinearScale\"},\"y_range\":{\"id\":\"9897d799-e96d-4e2a-bad0-f9ecb280734e\",\"type\":\"DataRange1d\"},\"y_scale\":{\"id\":\"119a04ac-1ae1-412f-98f1-1effa54c2a94\",\"type\":\"LinearScale\"}},\"id\":\"13c6ff83-7f63-4882-b92c-f6223478e784\",\"subtype\":\"Figure\",\"type\":\"Plot\"},{\"attributes\":{},\"id\":\"712cdfa7-9601-4a79-a23b-231cff1ac55c\",\"type\":\"BasicTicker\"},{\"attributes\":{\"plot\":{\"id\":\"13c6ff83-7f63-4882-b92c-f6223478e784\",\"subtype\":\"Figure\",\"type\":\"Plot\"},\"ticker\":{\"id\":\"fe5c73e9-ac4c-4d62-a6bc-80a01f9bad7f\",\"type\":\"BasicTicker\"}},\"id\":\"8d5c8aae-095a-4655-b197-fa4f5a2879a1\",\"type\":\"Grid\"},{\"attributes\":{\"formatter\":{\"id\":\"75d7ae33-48c9-469a-ba96-3068475ef8ea\",\"type\":\"BasicTickFormatter\"},\"plot\":{\"id\":\"13c6ff83-7f63-4882-b92c-f6223478e784\",\"subtype\":\"Figure\",\"type\":\"Plot\"},\"ticker\":{\"id\":\"712cdfa7-9601-4a79-a23b-231cff1ac55c\",\"type\":\"BasicTicker\"}},\"id\":\"49aa0cfc-14bb-480f-8c57-84cc8f342308\",\"type\":\"LinearAxis\"},{\"attributes\":{\"active_drag\":\"auto\",\"active_inspect\":\"auto\",\"active_multi\":null,\"active_scroll\":\"auto\",\"active_tap\":\"auto\",\"tools\":[{\"id\":\"e8d5fa28-d7b1-4bac-871e-14c32e4f12ca\",\"type\":\"PanTool\"},{\"id\":\"99fdd1ea-67d7-49e0-a534-9212f50cc5f3\",\"type\":\"WheelZoomTool\"},{\"id\":\"2f693c44-18b4-423a-9960-13835c62a08b\",\"type\":\"BoxZoomTool\"},{\"id\":\"1f45b34d-8624-484a-b450-cfdf074956f4\",\"type\":\"SaveTool\"},{\"id\":\"f2ab10c6-00b8-42d1-bf7b-c9acc6ffc89e\",\"type\":\"ResetTool\"},{\"id\":\"b1a4a1c4-bd16-4413-acdf-890f965a76b4\",\"type\":\"HelpTool\"}]},\"id\":\"8265789a-6691-4da6-8da3-5128bac2ccc0\",\"type\":\"Toolbar\"},{\"attributes\":{\"formatter\":{\"id\":\"2ad70fd1-a843-4f7a-9762-33a056090149\",\"type\":\"BasicTickFormatter\"},\"plot\":{\"id\":\"13c6ff83-7f63-4882-b92c-f6223478e784\",\"subtype\":\"Figure\",\"type\":\"Plot\"},\"ticker\":{\"id\":\"fe5c73e9-ac4c-4d62-a6bc-80a01f9bad7f\",\"type\":\"BasicTicker\"}},\"id\":\"146f8ce5-1802-4c62-a88d-22bfaa2692df\",\"type\":\"LinearAxis\"},{\"attributes\":{\"source\":{\"id\":\"98f0ef93-30f3-40d7-9174-0c3af09adc4d\",\"type\":\"ColumnDataSource\"}},\"id\":\"ea1a11b6-8f54-4e42-aaac-295ffdbacc22\",\"type\":\"CDSView\"},{\"attributes\":{\"callback\":null},\"id\":\"bb1172ad-0698-46ca-88e8-2596ea10d394\",\"type\":\"DataRange1d\"},{\"attributes\":{\"fill_alpha\":{\"value\":0.1},\"fill_color\":{\"value\":\"#1f77b4\"},\"line_alpha\":{\"value\":0.1},\"line_color\":{\"value\":\"#1f77b4\"},\"size\":{\"units\":\"screen\",\"value\":3},\"x\":{\"field\":\"x\"},\"y\":{\"field\":\"y\"}},\"id\":\"9509f177-a50c-44b0-9bb6-15aaddab11b6\",\"type\":\"Circle\"},{\"attributes\":{\"fill_alpha\":{\"value\":0.5},\"fill_color\":{\"value\":\"navy\"},\"line_alpha\":{\"value\":0.5},\"line_color\":{\"value\":\"navy\"},\"size\":{\"units\":\"screen\",\"value\":3},\"x\":{\"field\":\"x\"},\"y\":{\"field\":\"y\"}},\"id\":\"5e7bfad8-d5f6-4c1e-9d12-bbff142e63fc\",\"type\":\"Circle\"},{\"attributes\":{},\"id\":\"fe5c73e9-ac4c-4d62-a6bc-80a01f9bad7f\",\"type\":\"BasicTicker\"},{\"attributes\":{},\"id\":\"e8d5fa28-d7b1-4bac-871e-14c32e4f12ca\",\"type\":\"PanTool\"},{\"attributes\":{},\"id\":\"b1a4a1c4-bd16-4413-acdf-890f965a76b4\",\"type\":\"HelpTool\"},{\"attributes\":{},\"id\":\"99fdd1ea-67d7-49e0-a534-9212f50cc5f3\",\"type\":\"WheelZoomTool\"},{\"attributes\":{\"below\":[{\"id\":\"19445e86-6515-4555-a6c3-5140b0f85da7\",\"type\":\"LinearAxis\"}],\"left\":[{\"id\":\"5d562ce2-60ce-40df-94e3-2e1b4b453ef8\",\"type\":\"LinearAxis\"}],\"plot_height\":250,\"plot_width\":250,\"renderers\":[{\"id\":\"19445e86-6515-4555-a6c3-5140b0f85da7\",\"type\":\"LinearAxis\"},{\"id\":\"940e9196-d146-46b3-84ee-04ee2ea5cfd0\",\"type\":\"Grid\"},{\"id\":\"5d562ce2-60ce-40df-94e3-2e1b4b453ef8\",\"type\":\"LinearAxis\"},{\"id\":\"bc52fa36-bb73-4605-8b66-3d2711c25d38\",\"type\":\"Grid\"},{\"id\":\"9742730f-9b09-40d9-92e3-5ba82b40d2ce\",\"type\":\"BoxAnnotation\"},{\"id\":\"13df4a6f-5bdb-4115-a6a1-ca2ef95dea14\",\"type\":\"GlyphRenderer\"}],\"title\":null,\"toolbar\":{\"id\":\"106772a8-37b9-47aa-9ed9-2c6ef477d647\",\"type\":\"Toolbar\"},\"toolbar_location\":null,\"x_range\":{\"id\":\"bb1172ad-0698-46ca-88e8-2596ea10d394\",\"type\":\"DataRange1d\"},\"x_scale\":{\"id\":\"04aad696-63ea-4e87-b187-7e3549a15da2\",\"type\":\"LinearScale\"},\"y_range\":{\"id\":\"9897d799-e96d-4e2a-bad0-f9ecb280734e\",\"type\":\"DataRange1d\"},\"y_scale\":{\"id\":\"976fb65e-b64d-4b34-854f-eab1a0fc3cf9\",\"type\":\"LinearScale\"}},\"id\":\"d2124434-3338-4bf9-a610-80a168961581\",\"subtype\":\"Figure\",\"type\":\"Plot\"},{\"attributes\":{\"fill_alpha\":{\"value\":0.1},\"fill_color\":{\"value\":\"#1f77b4\"},\"line_alpha\":{\"value\":0.1},\"line_color\":{\"value\":\"#1f77b4\"},\"size\":{\"units\":\"screen\",\"value\":3},\"x\":{\"field\":\"x\"},\"y\":{\"field\":\"y\"}},\"id\":\"b003e6e8-1f45-4e81-acee-4d323cbf013f\",\"type\":\"Circle\"},{\"attributes\":{},\"id\":\"119a04ac-1ae1-412f-98f1-1effa54c2a94\",\"type\":\"LinearScale\"},{\"attributes\":{\"fill_alpha\":{\"value\":0.5},\"fill_color\":{\"value\":\"firebrick\"},\"line_alpha\":{\"value\":0.5},\"line_color\":{\"value\":\"firebrick\"},\"size\":{\"units\":\"screen\",\"value\":3},\"x\":{\"field\":\"x\"},\"y\":{\"field\":\"y\"}},\"id\":\"0875147f-1adb-49a0-8268-efa8e5b3ce70\",\"type\":\"Circle\"},{\"attributes\":{\"callback\":null,\"data\":{\"x\":{\"__ndarray__\":\"AAAAAAAAAACRGkt8Vz/AP5EaS3xXP9A/2qdwOgNf2D+RGkt8Vz/gPzXhXVstT+Q/2qdwOgNf6D9+boMZ2W7sP5EaS3xXP/A/433Ua0JH8j814V1bLU/0P4dE50oYV/Y/2qdwOgNf+D8sC/op7mb6P35ugxnZbvw/0NEMCcR2/j+RGkt8Vz8AQDrMD/RMQwFA433Ua0JHAkCML5njN0sDQDXhXVstTwRA3pIi0yJTBUCHROdKGFcGQDD2q8INWwdA2qdwOgNfCECDWTWy+GIJQCwL+inuZgpA1by+oeNqC0B+boMZ2W4MQCcgSJHOcg1A0NEMCcR2DkB5g9GAuXoPQJEaS3xXPxBAZnMtOFLBEEA6zA/0TEMRQA8l8q9HxRFA433Ua0JHEkC41rYnPckSQIwvmeM3SxNAYYh7nzLNE0A14V1bLU8UQAo6QBco0RRA3pIi0yJTFUCz6wSPHdUVQIdE50oYVxZAXJ3JBhPZFkAw9qvCDVsXQAVPjn4I3RdA2qdwOgNfGECuAFP2/eAYQINZNbL4YhlAV7IXbvPkGUAsC/op7mYaQABk3OXo6BpA1by+oeNqG0CpFaFd3uwbQH5ugxnZbhxAUsdl1dPwHEAnIEiRznIdQPt4Kk3J9B1A0NEMCcR2HkCkKu/EvvgeQHmD0YC5eh9ATdyzPLT8H0CRGkt8Vz8gQPtGPNpUgCBAZnMtOFLBIEDQnx6WTwIhQDrMD/RMQyFApPgAUkqEIUAPJfKvR8UhQHlR4w1FBiJA433Ua0JHIkBNqsXJP4giQLjWtic9ySJAIgOohToKI0CML5njN0sjQPZbikE1jCNAYYh7nzLNI0DLtGz9Lw4kQDXhXVstTyRAoA1PuSqQJEAKOkAXKNEkQHRmMXUlEiVA3pIi0yJTJUBJvxMxIJQlQLPrBI8d1SVAHRj27BoWJkCHROdKGFcmQPJw2KgVmCZAXJ3JBhPZJkDGybpkEBonQDD2q8INWydAmyKdIAucJ0AFT45+CN0nQG97f9wFHihA2qdwOgNfKEBE1GGYAKAoQK4AU/b94ChAGC1EVPshKUA=\",\"dtype\":\"float64\",\"shape\":[100]},\"y\":{\"__ndarray__\":\"AAAAAAAA8D9o+gYFGL7vPyN/Fo5v+e4/XLHeqjC17T9foQT4kvbrP1YykSHGxOk/tDkVSdQo5z9AE3HJfC3kP10soPEH3+A/thLH2SiW2j9bQ2NRvgDTP4xzC34aOsY/cyCwKKhcqD8NyeikuUm0v0/eq9oaN8q/PSGBd67u1L+LyZhelmvcv8/m3JG2ueG/hlh3f5705L9dUsfUNNnnv10cd/2OW+q/wfLvCVdx7L8bLVJC9hHuv0PyRoe4Nu+/XjTx7ufa778HB0As4PvvvwQ9tXAZme+/V1DNmyq07r/ZTwivwlDtv4lZi6GZdOu/JeDa0Vgn6b/aPrV2e3Lmv820DJEnYeO/+v//////3783i/Tn4LnYv4yAwi7oDdG/30QPZF83wr9U+ijPKj+QvxHsuGvkX7w/k1rgSlktzj+GU4hOOdfWP1q1P3WwOd4/AasNgtOP4j+XUJVeWbblPzhQz6Jvg+g/uvBkh4zr6j99NRQyxuTsP/FJcov7Zu4/Juk3u/Vr7z+VSynBge/vP5RLKcGB7+8/Jek3u/Vr7z/vSXKL+2buP381FDLG5Ow/uPBkh4zr6j86UM+ib4PoP5VQlV5ZtuU/BasNgtOP4j9UtT91sDneP45TiE4519Y/hVrgSlktzj807Lhr5F+8P8f6KM8qP5C/zUQPZF83wr+SgMIu6A3Rvy6L9Ofgudi/BgAAAAAA4L/PtAyRJ2Hjv9k+tXZ7cua/I+Da0Vgn6b+NWYuhmXTrv9pPCK/CUO2/V1DNmyq07r8EPbVwGZnvvwgHQCzg+++/XjTx7ufa779E8kaHuDbvvx4tUkL2Ee6/wPLvCVdx7L9dHHf9jlvqv2BSx9Q02ee/gVh3f5705L/M5tyRtrnhv4zJmF6Wa9y/RiGBd67u1L8x3qvaGjfKv/DI6KS5SbS/bCCwKKhcqD90cwt+GjrGP2VDY1G+ANM/uRLH2SiW2j9aLKDxB9/gPzoTccl8LeQ/uDkVSdQo5z9WMpEhxsTpP16hBPiS9us/X7HeqjC17T8kfxaOb/nuP2j6BgUYvu8/AAAAAAAA8D8=\",\"dtype\":\"float64\",\"shape\":[100]}},\"selected\":{\"id\":\"15a3570a-a4d1-4140-938c-1230e451b3e3\",\"type\":\"Selection\"},\"selection_policy\":{\"id\":\"88e254c2-334a-4b80-ae2b-826393ed0765\",\"type\":\"UnionRenderers\"}},\"id\":\"f76d7ad8-a7fe-45fb-9df3-da9e05abf1e6\",\"type\":\"ColumnDataSource\"},{\"attributes\":{\"bottom_units\":\"screen\",\"fill_alpha\":{\"value\":0.5},\"fill_color\":{\"value\":\"lightgrey\"},\"left_units\":\"screen\",\"level\":\"overlay\",\"line_alpha\":{\"value\":1.0},\"line_color\":{\"value\":\"black\"},\"line_dash\":[4,4],\"line_width\":{\"value\":2},\"plot\":null,\"render_mode\":\"css\",\"right_units\":\"screen\",\"top_units\":\"screen\"},\"id\":\"5097dcc8-8443-4021-9827-3b85d52c212e\",\"type\":\"BoxAnnotation\"}],\"root_ids\":[\"55f584b5-15d8-483a-9546-a7f32b5b6b52\"]},\"title\":\"Bokeh Application\",\"version\":\"0.13.0\"}};\n",
       "  var render_items = [{\"docid\":\"15e36c36-8401-473d-aa26-b6eda910a63a\",\"roots\":{\"55f584b5-15d8-483a-9546-a7f32b5b6b52\":\"d9974fda-332b-4df8-be54-7c6e6b99efe9\"}}];\n",
       "  root.Bokeh.embed.embed_items_notebook(docs_json, render_items);\n",
       "\n",
       "  }\n",
       "  if (root.Bokeh !== undefined) {\n",
       "    embed_document(root);\n",
       "  } else {\n",
       "    var attempts = 0;\n",
       "    var timer = setInterval(function(root) {\n",
       "      if (root.Bokeh !== undefined) {\n",
       "        embed_document(root);\n",
       "        clearInterval(timer);\n",
       "      }\n",
       "      attempts++;\n",
       "      if (attempts > 100) {\n",
       "        console.log(\"Bokeh: ERROR: Unable to run BokehJS code because BokehJS library is missing\")\n",
       "        clearInterval(timer);\n",
       "      }\n",
       "    }, 10, root)\n",
       "  }\n",
       "})(window);"
      ],
      "application/vnd.bokehjs_exec.v0+json": ""
     },
     "metadata": {
      "application/vnd.bokehjs_exec.v0+json": {
       "id": "55f584b5-15d8-483a-9546-a7f32b5b6b52"
      }
     },
     "output_type": "display_data"
    }
   ],
   "source": [
    "# prepare some data\n",
    "N = 100\n",
    "x = np.linspace(0, 4*np.pi, N)\n",
    "y0 = np.sin(x)\n",
    "y1 = np.cos(x)\n",
    "y2 = np.sin(x) + np.cos(x)\n",
    "\n",
    "# create a new plot\n",
    "s1 = figure(title=None)\n",
    "s1.circle(x, y0, size=3, color=\"navy\", alpha=0.5)\n",
    "\n",
    "# NEW: create a new plot and share both ranges\n",
    "s2 = figure(x_range=s1.x_range, y_range=s1.y_range, title=None)\n",
    "s2.circle(x, y1, size=3, color=\"firebrick\", alpha=0.5)\n",
    "\n",
    "# NEW: create a new plot and share only one range\n",
    "s3 = figure(x_range=s1.x_range, title=None)\n",
    "s3.circle(x, y2, size=3, color=\"olive\", alpha=0.5)\n",
    "\n",
    "# NEW: put the subplots in a gridplot\n",
    "p = gridplot([[s1, s2, s3]], toolbar_location=None, plot_width=250, plot_height=250)\n",
    "\n",
    "# show the results\n",
    "show(p)"
   ]
  },
  {
   "cell_type": "markdown",
   "metadata": {},
   "source": [
    "Another linkage that is often useful is linked brushing (where a selection on one plot causes a selection to update on other plots). Below is an example that demonstrates linked brushing by sharing a [ColumnDataSource](https://bokeh.pydata.org/en/latest/docs/reference/models/sources.html#bokeh.models.sources.ColumnDataSource) between two plots:"
   ]
  },
  {
   "cell_type": "code",
   "execution_count": 5,
   "metadata": {},
   "outputs": [
    {
     "data": {
      "text/html": [
       "\n",
       "\n",
       "\n",
       "\n",
       "\n",
       "\n",
       "  <div class=\"bk-root\" id=\"6a471eb4-a517-444a-8f07-8cc9f0442e82\"></div>\n"
      ]
     },
     "metadata": {},
     "output_type": "display_data"
    },
    {
     "data": {
      "application/javascript": [
       "(function(root) {\n",
       "  function embed_document(root) {\n",
       "    \n",
       "  var docs_json = {\"0bcfe8a0-d2a6-4512-bf6d-d6249ba19c98\":{\"roots\":{\"references\":[{\"attributes\":{},\"id\":\"136512d6-9f2a-4842-994d-ea90f6682749\",\"type\":\"PanTool\"},{\"attributes\":{},\"id\":\"fe7815ef-fb49-47ce-b947-dc9778a728e5\",\"type\":\"BasicTickFormatter\"},{\"attributes\":{},\"id\":\"27b75946-8188-4216-840c-f14dde61adf4\",\"type\":\"WheelZoomTool\"},{\"attributes\":{\"overlay\":{\"id\":\"980bb784-1e55-4ec1-a6f3-6670e0d95799\",\"type\":\"BoxAnnotation\"}},\"id\":\"dcd0578f-6f95-4f06-8c4e-bbc45ff3baa1\",\"type\":\"BoxZoomTool\"},{\"attributes\":{},\"id\":\"07500b35-7c36-48ac-be84-58a5b6244fce\",\"type\":\"ResetTool\"},{\"attributes\":{\"source\":{\"id\":\"4a8c4745-84f5-4fc3-b56d-cdfdedf1c244\",\"type\":\"ColumnDataSource\"}},\"id\":\"9fcfbefd-90b2-4e88-aee5-58bbce26e9f1\",\"type\":\"CDSView\"},{\"attributes\":{},\"id\":\"49782402-353e-4759-a602-01c307a82434\",\"type\":\"SaveTool\"},{\"attributes\":{\"callback\":null,\"overlay\":{\"id\":\"8706dc29-9a1e-4e6a-aafb-59a93150ab4a\",\"type\":\"BoxAnnotation\"}},\"id\":\"172d2545-42a8-4d50-b137-c7c38f73083e\",\"type\":\"BoxSelectTool\"},{\"attributes\":{\"callback\":null,\"overlay\":{\"id\":\"69c77e44-44c1-4bb2-8396-b6cf81d42742\",\"type\":\"PolyAnnotation\"}},\"id\":\"d534b229-1fdc-40a2-a224-fef7c5efca81\",\"type\":\"LassoSelectTool\"},{\"attributes\":{\"bottom_units\":\"screen\",\"fill_alpha\":{\"value\":0.5},\"fill_color\":{\"value\":\"lightgrey\"},\"left_units\":\"screen\",\"level\":\"overlay\",\"line_alpha\":{\"value\":1.0},\"line_color\":{\"value\":\"black\"},\"line_dash\":[4,4],\"line_width\":{\"value\":2},\"plot\":null,\"render_mode\":\"css\",\"right_units\":\"screen\",\"top_units\":\"screen\"},\"id\":\"980bb784-1e55-4ec1-a6f3-6670e0d95799\",\"type\":\"BoxAnnotation\"},{\"attributes\":{\"bottom_units\":\"screen\",\"fill_alpha\":{\"value\":0.5},\"fill_color\":{\"value\":\"lightgrey\"},\"left_units\":\"screen\",\"level\":\"overlay\",\"line_alpha\":{\"value\":1.0},\"line_color\":{\"value\":\"black\"},\"line_dash\":[4,4],\"line_width\":{\"value\":2},\"plot\":null,\"render_mode\":\"css\",\"right_units\":\"screen\",\"top_units\":\"screen\"},\"id\":\"8706dc29-9a1e-4e6a-aafb-59a93150ab4a\",\"type\":\"BoxAnnotation\"},{\"attributes\":{\"callback\":null},\"id\":\"d8918ce4-a198-470a-9cf4-0d23c4e6e0f0\",\"type\":\"DataRange1d\"},{\"attributes\":{},\"id\":\"1cdd0923-60f4-45df-9dbe-05d6f5b3c310\",\"type\":\"BasicTickFormatter\"},{\"attributes\":{},\"id\":\"36df223c-657c-4cfb-ab78-3f762c293005\",\"type\":\"UnionRenderers\"},{\"attributes\":{},\"id\":\"8ce19f1d-afbf-44a2-9a68-e69f77f19b91\",\"type\":\"Selection\"},{\"attributes\":{},\"id\":\"bdb20c17-60cd-4f71-a3e9-3a29efe3c5ba\",\"type\":\"BasicTickFormatter\"},{\"attributes\":{},\"id\":\"2133577c-fda0-471e-bc80-a468e990ef61\",\"type\":\"BasicTickFormatter\"},{\"attributes\":{\"tools\":[{\"id\":\"e3968530-8703-470d-bda5-b783c70ff4e7\",\"type\":\"PanTool\"},{\"id\":\"97a42ae8-791d-47dc-bad5-2ad8e84f51de\",\"type\":\"WheelZoomTool\"},{\"id\":\"d8973b1e-1349-4410-a73d-f30670181990\",\"type\":\"BoxZoomTool\"},{\"id\":\"9ba405ec-ae66-461c-aacd-d404812b1b1b\",\"type\":\"ResetTool\"},{\"id\":\"d8142b87-0a6a-4fec-a866-4e45a6c6a930\",\"type\":\"SaveTool\"},{\"id\":\"edc05dc5-a970-418a-be48-4447b7e315be\",\"type\":\"BoxSelectTool\"},{\"id\":\"5cbc9aee-086c-441f-b961-fd61106d0466\",\"type\":\"LassoSelectTool\"},{\"id\":\"136512d6-9f2a-4842-994d-ea90f6682749\",\"type\":\"PanTool\"},{\"id\":\"27b75946-8188-4216-840c-f14dde61adf4\",\"type\":\"WheelZoomTool\"},{\"id\":\"dcd0578f-6f95-4f06-8c4e-bbc45ff3baa1\",\"type\":\"BoxZoomTool\"},{\"id\":\"07500b35-7c36-48ac-be84-58a5b6244fce\",\"type\":\"ResetTool\"},{\"id\":\"49782402-353e-4759-a602-01c307a82434\",\"type\":\"SaveTool\"},{\"id\":\"172d2545-42a8-4d50-b137-c7c38f73083e\",\"type\":\"BoxSelectTool\"},{\"id\":\"d534b229-1fdc-40a2-a224-fef7c5efca81\",\"type\":\"LassoSelectTool\"}]},\"id\":\"9a8c443a-5b97-433a-ad26-398de98cdba6\",\"type\":\"ProxyToolbar\"},{\"attributes\":{\"children\":[{\"id\":\"a6f921df-3f2b-4244-93f1-cb0e85cefe3d\",\"type\":\"ToolbarBox\"},{\"id\":\"c13fd2fa-10d7-4879-a416-d80e6a5315d8\",\"type\":\"Column\"}]},\"id\":\"be1dc6f6-78dd-407a-b6ac-8a2c34285776\",\"type\":\"Column\"},{\"attributes\":{\"fill_color\":{\"value\":\"#1f77b4\"},\"line_color\":{\"value\":\"#1f77b4\"},\"x\":{\"field\":\"x\"},\"y\":{\"field\":\"y0\"}},\"id\":\"983e1ad6-883e-46e0-a430-ab3ad0b93bcf\",\"type\":\"Circle\"},{\"attributes\":{\"toolbar\":{\"id\":\"9a8c443a-5b97-433a-ad26-398de98cdba6\",\"type\":\"ProxyToolbar\"},\"toolbar_location\":\"above\"},\"id\":\"a6f921df-3f2b-4244-93f1-cb0e85cefe3d\",\"type\":\"ToolbarBox\"},{\"attributes\":{\"fill_alpha\":{\"value\":0.5},\"fill_color\":{\"value\":\"lightgrey\"},\"level\":\"overlay\",\"line_alpha\":{\"value\":1.0},\"line_color\":{\"value\":\"black\"},\"line_dash\":[4,4],\"line_width\":{\"value\":2},\"plot\":null,\"xs_units\":\"screen\",\"ys_units\":\"screen\"},\"id\":\"69c77e44-44c1-4bb2-8396-b6cf81d42742\",\"type\":\"PolyAnnotation\"},{\"attributes\":{\"active_drag\":\"auto\",\"active_inspect\":\"auto\",\"active_multi\":null,\"active_scroll\":\"auto\",\"active_tap\":\"auto\",\"tools\":[{\"id\":\"e3968530-8703-470d-bda5-b783c70ff4e7\",\"type\":\"PanTool\"},{\"id\":\"97a42ae8-791d-47dc-bad5-2ad8e84f51de\",\"type\":\"WheelZoomTool\"},{\"id\":\"d8973b1e-1349-4410-a73d-f30670181990\",\"type\":\"BoxZoomTool\"},{\"id\":\"9ba405ec-ae66-461c-aacd-d404812b1b1b\",\"type\":\"ResetTool\"},{\"id\":\"d8142b87-0a6a-4fec-a866-4e45a6c6a930\",\"type\":\"SaveTool\"},{\"id\":\"edc05dc5-a970-418a-be48-4447b7e315be\",\"type\":\"BoxSelectTool\"},{\"id\":\"5cbc9aee-086c-441f-b961-fd61106d0466\",\"type\":\"LassoSelectTool\"}]},\"id\":\"5103fb56-e9f4-42c1-9bc8-1c32344f7b45\",\"type\":\"Toolbar\"},{\"attributes\":{\"formatter\":{\"id\":\"bdb20c17-60cd-4f71-a3e9-3a29efe3c5ba\",\"type\":\"BasicTickFormatter\"},\"plot\":{\"id\":\"837bed07-b4aa-4cca-a42a-93d4ca5d0ca1\",\"subtype\":\"Figure\",\"type\":\"Plot\"},\"ticker\":{\"id\":\"136a86fc-cd37-4f23-809b-781240f81f7c\",\"type\":\"BasicTicker\"}},\"id\":\"49ea44a7-8380-4fe8-b9b6-15cdda032498\",\"type\":\"LinearAxis\"},{\"attributes\":{\"below\":[{\"id\":\"c93d2f68-a93a-4d9d-adfc-2c878809b76b\",\"type\":\"LinearAxis\"}],\"left\":[{\"id\":\"763e8657-7c8a-40b3-842d-9180bf38c6a7\",\"type\":\"LinearAxis\"}],\"plot_height\":350,\"plot_width\":350,\"renderers\":[{\"id\":\"c93d2f68-a93a-4d9d-adfc-2c878809b76b\",\"type\":\"LinearAxis\"},{\"id\":\"a4b8d7a5-3648-4909-b61b-fb1be474d114\",\"type\":\"Grid\"},{\"id\":\"763e8657-7c8a-40b3-842d-9180bf38c6a7\",\"type\":\"LinearAxis\"},{\"id\":\"9ee4a0aa-1f9d-4294-9965-5e09ac56961f\",\"type\":\"Grid\"},{\"id\":\"0ea2b5e5-4c01-4f9a-81be-ef273fb1bf35\",\"type\":\"BoxAnnotation\"},{\"id\":\"c863a886-d9d2-4e21-ae9e-811695eb9646\",\"type\":\"BoxAnnotation\"},{\"id\":\"3bbf1096-0483-4948-bd48-51ac85152f05\",\"type\":\"PolyAnnotation\"},{\"id\":\"b45d43c4-c0ef-4f06-861f-44e586ce5db8\",\"type\":\"GlyphRenderer\"}],\"title\":null,\"toolbar\":{\"id\":\"5103fb56-e9f4-42c1-9bc8-1c32344f7b45\",\"type\":\"Toolbar\"},\"toolbar_location\":null,\"x_range\":{\"id\":\"8cdc6aab-8507-456c-b5d9-36a129f45168\",\"type\":\"DataRange1d\"},\"x_scale\":{\"id\":\"37a24987-2fdb-4dcc-b30f-d5c0317020e0\",\"type\":\"LinearScale\"},\"y_range\":{\"id\":\"b594ddcb-c1c8-4b14-861d-aa5de4e31a0b\",\"type\":\"DataRange1d\"},\"y_scale\":{\"id\":\"20e5796f-d662-4c4f-8610-3fbd4dc9f586\",\"type\":\"LinearScale\"}},\"id\":\"4c989c94-7840-4cec-8439-54ecfc252443\",\"subtype\":\"Figure\",\"type\":\"Plot\"},{\"attributes\":{\"plot\":{\"id\":\"837bed07-b4aa-4cca-a42a-93d4ca5d0ca1\",\"subtype\":\"Figure\",\"type\":\"Plot\"},\"ticker\":{\"id\":\"136a86fc-cd37-4f23-809b-781240f81f7c\",\"type\":\"BasicTicker\"}},\"id\":\"78a4cf2b-35f4-48e6-a474-edafbdb3a670\",\"type\":\"Grid\"},{\"attributes\":{\"callback\":null,\"data\":{\"x\":{\"__ndarray__\":\"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\",\"dtype\":\"float64\",\"shape\":[300]},\"y0\":{\"__ndarray__\":\"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\",\"dtype\":\"float64\",\"shape\":[300]},\"y1\":{\"__ndarray__\":\"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\",\"dtype\":\"float64\",\"shape\":[300]}},\"selected\":{\"id\":\"8ce19f1d-afbf-44a2-9a68-e69f77f19b91\",\"type\":\"Selection\"},\"selection_policy\":{\"id\":\"36df223c-657c-4cfb-ab78-3f762c293005\",\"type\":\"UnionRenderers\"}},\"id\":\"4a8c4745-84f5-4fc3-b56d-cdfdedf1c244\",\"type\":\"ColumnDataSource\"},{\"attributes\":{\"formatter\":{\"id\":\"2133577c-fda0-471e-bc80-a468e990ef61\",\"type\":\"BasicTickFormatter\"},\"plot\":{\"id\":\"837bed07-b4aa-4cca-a42a-93d4ca5d0ca1\",\"subtype\":\"Figure\",\"type\":\"Plot\"},\"ticker\":{\"id\":\"30dd5edd-a966-48f4-89b3-4067f71a2e97\",\"type\":\"BasicTicker\"}},\"id\":\"98d18fc7-b8a6-4e63-bc5d-6f9dbc71bc04\",\"type\":\"LinearAxis\"},{\"attributes\":{\"bottom_units\":\"screen\",\"fill_alpha\":{\"value\":0.5},\"fill_color\":{\"value\":\"lightgrey\"},\"left_units\":\"screen\",\"level\":\"overlay\",\"line_alpha\":{\"value\":1.0},\"line_color\":{\"value\":\"black\"},\"line_dash\":[4,4],\"line_width\":{\"value\":2},\"plot\":null,\"render_mode\":\"css\",\"right_units\":\"screen\",\"top_units\":\"screen\"},\"id\":\"c863a886-d9d2-4e21-ae9e-811695eb9646\",\"type\":\"BoxAnnotation\"},{\"attributes\":{\"children\":[{\"id\":\"7df48e64-4ac4-476b-a94e-f8b6a7500ccd\",\"type\":\"Row\"}]},\"id\":\"c13fd2fa-10d7-4879-a416-d80e6a5315d8\",\"type\":\"Column\"},{\"attributes\":{},\"id\":\"136a86fc-cd37-4f23-809b-781240f81f7c\",\"type\":\"BasicTicker\"},{\"attributes\":{},\"id\":\"37a24987-2fdb-4dcc-b30f-d5c0317020e0\",\"type\":\"LinearScale\"},{\"attributes\":{},\"id\":\"30dd5edd-a966-48f4-89b3-4067f71a2e97\",\"type\":\"BasicTicker\"},{\"attributes\":{\"below\":[{\"id\":\"49ea44a7-8380-4fe8-b9b6-15cdda032498\",\"type\":\"LinearAxis\"}],\"left\":[{\"id\":\"98d18fc7-b8a6-4e63-bc5d-6f9dbc71bc04\",\"type\":\"LinearAxis\"}],\"plot_height\":350,\"plot_width\":350,\"renderers\":[{\"id\":\"49ea44a7-8380-4fe8-b9b6-15cdda032498\",\"type\":\"LinearAxis\"},{\"id\":\"78a4cf2b-35f4-48e6-a474-edafbdb3a670\",\"type\":\"Grid\"},{\"id\":\"98d18fc7-b8a6-4e63-bc5d-6f9dbc71bc04\",\"type\":\"LinearAxis\"},{\"id\":\"fda0d671-f71a-4d58-9a92-b87cdd726146\",\"type\":\"Grid\"},{\"id\":\"980bb784-1e55-4ec1-a6f3-6670e0d95799\",\"type\":\"BoxAnnotation\"},{\"id\":\"8706dc29-9a1e-4e6a-aafb-59a93150ab4a\",\"type\":\"BoxAnnotation\"},{\"id\":\"69c77e44-44c1-4bb2-8396-b6cf81d42742\",\"type\":\"PolyAnnotation\"},{\"id\":\"e71447d6-8208-473a-ac3c-6f089a468ed8\",\"type\":\"GlyphRenderer\"}],\"title\":null,\"toolbar\":{\"id\":\"bf74792c-58dc-414f-982b-558cf9d3c2bd\",\"type\":\"Toolbar\"},\"toolbar_location\":null,\"x_range\":{\"id\":\"b1632f15-8e57-4d6f-8ba7-a6a86a3873aa\",\"type\":\"DataRange1d\"},\"x_scale\":{\"id\":\"b9908c05-41cf-4335-ab01-d07902f09588\",\"type\":\"LinearScale\"},\"y_range\":{\"id\":\"d8918ce4-a198-470a-9cf4-0d23c4e6e0f0\",\"type\":\"DataRange1d\"},\"y_scale\":{\"id\":\"ddb54bc7-61ab-44bb-bcb9-088d5cf5d46d\",\"type\":\"LinearScale\"}},\"id\":\"837bed07-b4aa-4cca-a42a-93d4ca5d0ca1\",\"subtype\":\"Figure\",\"type\":\"Plot\"},{\"attributes\":{},\"id\":\"ddb54bc7-61ab-44bb-bcb9-088d5cf5d46d\",\"type\":\"LinearScale\"},{\"attributes\":{},\"id\":\"66b5e03d-554f-4194-9c90-fa8f0c02ed0e\",\"type\":\"BasicTicker\"},{\"attributes\":{\"data_source\":{\"id\":\"4a8c4745-84f5-4fc3-b56d-cdfdedf1c244\",\"type\":\"ColumnDataSource\"},\"glyph\":{\"id\":\"983e1ad6-883e-46e0-a430-ab3ad0b93bcf\",\"type\":\"Circle\"},\"hover_glyph\":null,\"muted_glyph\":null,\"nonselection_glyph\":{\"id\":\"ec74d09f-ba98-4d5b-8d7c-348d3ee09bd8\",\"type\":\"Circle\"},\"selection_glyph\":null,\"view\":{\"id\":\"f98cbf90-57e1-47ce-b8bb-8c07b5ac4665\",\"type\":\"CDSView\"}},\"id\":\"b45d43c4-c0ef-4f06-861f-44e586ce5db8\",\"type\":\"GlyphRenderer\"},{\"attributes\":{\"children\":[{\"id\":\"4c989c94-7840-4cec-8439-54ecfc252443\",\"subtype\":\"Figure\",\"type\":\"Plot\"},{\"id\":\"837bed07-b4aa-4cca-a42a-93d4ca5d0ca1\",\"subtype\":\"Figure\",\"type\":\"Plot\"}]},\"id\":\"7df48e64-4ac4-476b-a94e-f8b6a7500ccd\",\"type\":\"Row\"},{\"attributes\":{\"callback\":null},\"id\":\"b1632f15-8e57-4d6f-8ba7-a6a86a3873aa\",\"type\":\"DataRange1d\"},{\"attributes\":{\"formatter\":{\"id\":\"1cdd0923-60f4-45df-9dbe-05d6f5b3c310\",\"type\":\"BasicTickFormatter\"},\"plot\":{\"id\":\"4c989c94-7840-4cec-8439-54ecfc252443\",\"subtype\":\"Figure\",\"type\":\"Plot\"},\"ticker\":{\"id\":\"fb723a0c-e5c6-4d32-bfb0-13c5d1b5ca14\",\"type\":\"BasicTicker\"}},\"id\":\"763e8657-7c8a-40b3-842d-9180bf38c6a7\",\"type\":\"LinearAxis\"},{\"attributes\":{},\"id\":\"20e5796f-d662-4c4f-8610-3fbd4dc9f586\",\"type\":\"LinearScale\"},{\"attributes\":{\"callback\":null},\"id\":\"b594ddcb-c1c8-4b14-861d-aa5de4e31a0b\",\"type\":\"DataRange1d\"},{\"attributes\":{\"fill_alpha\":{\"value\":0.5},\"fill_color\":{\"value\":\"lightgrey\"},\"level\":\"overlay\",\"line_alpha\":{\"value\":1.0},\"line_color\":{\"value\":\"black\"},\"line_dash\":[4,4],\"line_width\":{\"value\":2},\"plot\":null,\"xs_units\":\"screen\",\"ys_units\":\"screen\"},\"id\":\"3bbf1096-0483-4948-bd48-51ac85152f05\",\"type\":\"PolyAnnotation\"},{\"attributes\":{\"callback\":null},\"id\":\"8cdc6aab-8507-456c-b5d9-36a129f45168\",\"type\":\"DataRange1d\"},{\"attributes\":{\"fill_color\":{\"value\":\"#1f77b4\"},\"line_color\":{\"value\":\"#1f77b4\"},\"x\":{\"field\":\"x\"},\"y\":{\"field\":\"y1\"}},\"id\":\"e6f9e96e-063e-472e-811a-69d673f265ac\",\"type\":\"Circle\"},{\"attributes\":{\"plot\":{\"id\":\"4c989c94-7840-4cec-8439-54ecfc252443\",\"subtype\":\"Figure\",\"type\":\"Plot\"},\"ticker\":{\"id\":\"66b5e03d-554f-4194-9c90-fa8f0c02ed0e\",\"type\":\"BasicTicker\"}},\"id\":\"a4b8d7a5-3648-4909-b61b-fb1be474d114\",\"type\":\"Grid\"},{\"attributes\":{\"active_drag\":\"auto\",\"active_inspect\":\"auto\",\"active_multi\":null,\"active_scroll\":\"auto\",\"active_tap\":\"auto\",\"tools\":[{\"id\":\"136512d6-9f2a-4842-994d-ea90f6682749\",\"type\":\"PanTool\"},{\"id\":\"27b75946-8188-4216-840c-f14dde61adf4\",\"type\":\"WheelZoomTool\"},{\"id\":\"dcd0578f-6f95-4f06-8c4e-bbc45ff3baa1\",\"type\":\"BoxZoomTool\"},{\"id\":\"07500b35-7c36-48ac-be84-58a5b6244fce\",\"type\":\"ResetTool\"},{\"id\":\"49782402-353e-4759-a602-01c307a82434\",\"type\":\"SaveTool\"},{\"id\":\"172d2545-42a8-4d50-b137-c7c38f73083e\",\"type\":\"BoxSelectTool\"},{\"id\":\"d534b229-1fdc-40a2-a224-fef7c5efca81\",\"type\":\"LassoSelectTool\"}]},\"id\":\"bf74792c-58dc-414f-982b-558cf9d3c2bd\",\"type\":\"Toolbar\"},{\"attributes\":{\"overlay\":{\"id\":\"0ea2b5e5-4c01-4f9a-81be-ef273fb1bf35\",\"type\":\"BoxAnnotation\"}},\"id\":\"d8973b1e-1349-4410-a73d-f30670181990\",\"type\":\"BoxZoomTool\"},{\"attributes\":{},\"id\":\"e3968530-8703-470d-bda5-b783c70ff4e7\",\"type\":\"PanTool\"},{\"attributes\":{\"bottom_units\":\"screen\",\"fill_alpha\":{\"value\":0.5},\"fill_color\":{\"value\":\"lightgrey\"},\"left_units\":\"screen\",\"level\":\"overlay\",\"line_alpha\":{\"value\":1.0},\"line_color\":{\"value\":\"black\"},\"line_dash\":[4,4],\"line_width\":{\"value\":2},\"plot\":null,\"render_mode\":\"css\",\"right_units\":\"screen\",\"top_units\":\"screen\"},\"id\":\"0ea2b5e5-4c01-4f9a-81be-ef273fb1bf35\",\"type\":\"BoxAnnotation\"},{\"attributes\":{\"dimension\":1,\"plot\":{\"id\":\"837bed07-b4aa-4cca-a42a-93d4ca5d0ca1\",\"subtype\":\"Figure\",\"type\":\"Plot\"},\"ticker\":{\"id\":\"30dd5edd-a966-48f4-89b3-4067f71a2e97\",\"type\":\"BasicTicker\"}},\"id\":\"fda0d671-f71a-4d58-9a92-b87cdd726146\",\"type\":\"Grid\"},{\"attributes\":{\"data_source\":{\"id\":\"4a8c4745-84f5-4fc3-b56d-cdfdedf1c244\",\"type\":\"ColumnDataSource\"},\"glyph\":{\"id\":\"e6f9e96e-063e-472e-811a-69d673f265ac\",\"type\":\"Circle\"},\"hover_glyph\":null,\"muted_glyph\":null,\"nonselection_glyph\":{\"id\":\"48998a08-a454-4732-8e12-eb9574a83fe8\",\"type\":\"Circle\"},\"selection_glyph\":null,\"view\":{\"id\":\"9fcfbefd-90b2-4e88-aee5-58bbce26e9f1\",\"type\":\"CDSView\"}},\"id\":\"e71447d6-8208-473a-ac3c-6f089a468ed8\",\"type\":\"GlyphRenderer\"},{\"attributes\":{\"fill_alpha\":{\"value\":0.1},\"fill_color\":{\"value\":\"#1f77b4\"},\"line_alpha\":{\"value\":0.1},\"line_color\":{\"value\":\"#1f77b4\"},\"x\":{\"field\":\"x\"},\"y\":{\"field\":\"y0\"}},\"id\":\"ec74d09f-ba98-4d5b-8d7c-348d3ee09bd8\",\"type\":\"Circle\"},{\"attributes\":{},\"id\":\"b9908c05-41cf-4335-ab01-d07902f09588\",\"type\":\"LinearScale\"},{\"attributes\":{\"formatter\":{\"id\":\"fe7815ef-fb49-47ce-b947-dc9778a728e5\",\"type\":\"BasicTickFormatter\"},\"plot\":{\"id\":\"4c989c94-7840-4cec-8439-54ecfc252443\",\"subtype\":\"Figure\",\"type\":\"Plot\"},\"ticker\":{\"id\":\"66b5e03d-554f-4194-9c90-fa8f0c02ed0e\",\"type\":\"BasicTicker\"}},\"id\":\"c93d2f68-a93a-4d9d-adfc-2c878809b76b\",\"type\":\"LinearAxis\"},{\"attributes\":{},\"id\":\"9ba405ec-ae66-461c-aacd-d404812b1b1b\",\"type\":\"ResetTool\"},{\"attributes\":{},\"id\":\"d8142b87-0a6a-4fec-a866-4e45a6c6a930\",\"type\":\"SaveTool\"},{\"attributes\":{\"dimension\":1,\"plot\":{\"id\":\"4c989c94-7840-4cec-8439-54ecfc252443\",\"subtype\":\"Figure\",\"type\":\"Plot\"},\"ticker\":{\"id\":\"fb723a0c-e5c6-4d32-bfb0-13c5d1b5ca14\",\"type\":\"BasicTicker\"}},\"id\":\"9ee4a0aa-1f9d-4294-9965-5e09ac56961f\",\"type\":\"Grid\"},{\"attributes\":{\"source\":{\"id\":\"4a8c4745-84f5-4fc3-b56d-cdfdedf1c244\",\"type\":\"ColumnDataSource\"}},\"id\":\"f98cbf90-57e1-47ce-b8bb-8c07b5ac4665\",\"type\":\"CDSView\"},{\"attributes\":{},\"id\":\"fb723a0c-e5c6-4d32-bfb0-13c5d1b5ca14\",\"type\":\"BasicTicker\"},{\"attributes\":{\"fill_alpha\":{\"value\":0.1},\"fill_color\":{\"value\":\"#1f77b4\"},\"line_alpha\":{\"value\":0.1},\"line_color\":{\"value\":\"#1f77b4\"},\"x\":{\"field\":\"x\"},\"y\":{\"field\":\"y1\"}},\"id\":\"48998a08-a454-4732-8e12-eb9574a83fe8\",\"type\":\"Circle\"},{\"attributes\":{\"callback\":null,\"overlay\":{\"id\":\"c863a886-d9d2-4e21-ae9e-811695eb9646\",\"type\":\"BoxAnnotation\"}},\"id\":\"edc05dc5-a970-418a-be48-4447b7e315be\",\"type\":\"BoxSelectTool\"},{\"attributes\":{\"callback\":null,\"overlay\":{\"id\":\"3bbf1096-0483-4948-bd48-51ac85152f05\",\"type\":\"PolyAnnotation\"}},\"id\":\"5cbc9aee-086c-441f-b961-fd61106d0466\",\"type\":\"LassoSelectTool\"},{\"attributes\":{},\"id\":\"97a42ae8-791d-47dc-bad5-2ad8e84f51de\",\"type\":\"WheelZoomTool\"}],\"root_ids\":[\"be1dc6f6-78dd-407a-b6ac-8a2c34285776\"]},\"title\":\"Bokeh Application\",\"version\":\"0.13.0\"}};\n",
       "  var render_items = [{\"docid\":\"0bcfe8a0-d2a6-4512-bf6d-d6249ba19c98\",\"roots\":{\"be1dc6f6-78dd-407a-b6ac-8a2c34285776\":\"6a471eb4-a517-444a-8f07-8cc9f0442e82\"}}];\n",
       "  root.Bokeh.embed.embed_items_notebook(docs_json, render_items);\n",
       "\n",
       "  }\n",
       "  if (root.Bokeh !== undefined) {\n",
       "    embed_document(root);\n",
       "  } else {\n",
       "    var attempts = 0;\n",
       "    var timer = setInterval(function(root) {\n",
       "      if (root.Bokeh !== undefined) {\n",
       "        embed_document(root);\n",
       "        clearInterval(timer);\n",
       "      }\n",
       "      attempts++;\n",
       "      if (attempts > 100) {\n",
       "        console.log(\"Bokeh: ERROR: Unable to run BokehJS code because BokehJS library is missing\")\n",
       "        clearInterval(timer);\n",
       "      }\n",
       "    }, 10, root)\n",
       "  }\n",
       "})(window);"
      ],
      "application/vnd.bokehjs_exec.v0+json": ""
     },
     "metadata": {
      "application/vnd.bokehjs_exec.v0+json": {
       "id": "be1dc6f6-78dd-407a-b6ac-8a2c34285776"
      }
     },
     "output_type": "display_data"
    }
   ],
   "source": [
    "from bokeh.models import ColumnDataSource\n",
    "# prepare some date\n",
    "N = 300\n",
    "x = np.linspace(0, 4*np.pi, N)\n",
    "y0 = np.sin(x)\n",
    "y1 = np.cos(x)\n",
    "\n",
    "# NEW: create a column data source for the plots to share\n",
    "source = ColumnDataSource(data=dict(x=x, y0=y0, y1=y1))\n",
    "\n",
    "TOOLS = \"pan,wheel_zoom,box_zoom,reset,save,box_select,lasso_select\"\n",
    "\n",
    "# create a new plot and add a renderer\n",
    "left = figure(tools=TOOLS, width=350, height=350, title=None)\n",
    "left.circle('x', 'y0', source=source)\n",
    "\n",
    "# create another new plot and add a renderer\n",
    "right = figure(tools=TOOLS, width=350, height=350, title=None)\n",
    "right.circle('x', 'y1', source=source)\n",
    "\n",
    "# put the subplots in a gridplot\n",
    "p = gridplot([[left, right]])\n",
    "\n",
    "# show the results\n",
    "show(p)"
   ]
  },
  {
   "cell_type": "markdown",
   "metadata": {},
   "source": [
    "### Linked Selection"
   ]
  },
  {
   "cell_type": "code",
   "execution_count": 13,
   "metadata": {},
   "outputs": [
    {
     "data": {
      "text/html": [
       "\n",
       "\n",
       "\n",
       "\n",
       "\n",
       "\n",
       "  <div class=\"bk-root\" id=\"5876e9a5-d42c-4e20-a3ff-df65bb4e9705\"></div>\n"
      ]
     },
     "metadata": {},
     "output_type": "display_data"
    },
    {
     "data": {
      "application/javascript": [
       "(function(root) {\n",
       "  function embed_document(root) {\n",
       "    \n",
       "  var docs_json = {\"8b3e6a59-0a99-4a6a-b80d-4fc1dedff479\":{\"roots\":{\"references\":[{\"attributes\":{},\"id\":\"4e2a8a7b-4da8-4b24-ae43-c6c6093bbbd2\",\"type\":\"BasicTickFormatter\"},{\"attributes\":{\"fill_alpha\":{\"value\":0.5},\"fill_color\":{\"value\":\"lightgrey\"},\"level\":\"overlay\",\"line_alpha\":{\"value\":1.0},\"line_color\":{\"value\":\"black\"},\"line_dash\":[4,4],\"line_width\":{\"value\":2},\"plot\":null,\"xs_units\":\"screen\",\"ys_units\":\"screen\"},\"id\":\"bcc6d018-70b0-44b1-ab54-450856b2ab8f\",\"type\":\"PolyAnnotation\"},{\"attributes\":{},\"id\":\"4921ff98-1705-4731-a277-85406a9872c4\",\"type\":\"LinearScale\"},{\"attributes\":{\"active_drag\":\"auto\",\"active_inspect\":\"auto\",\"active_multi\":null,\"active_scroll\":\"auto\",\"active_tap\":\"auto\",\"tools\":[{\"id\":\"08d15891-1ae0-438f-ad07-8fd839615032\",\"type\":\"BoxSelectTool\"},{\"id\":\"b5602c3a-2d32-44fa-8f4d-83b6680ab290\",\"type\":\"LassoSelectTool\"},{\"id\":\"2c0776a4-c0b4-4d33-a499-6dd6c7823ced\",\"type\":\"HelpTool\"}]},\"id\":\"6852246b-c2bd-4e98-b564-9b5c82e33dbf\",\"type\":\"Toolbar\"},{\"attributes\":{\"callback\":null,\"overlay\":{\"id\":\"d0702841-b7db-4d8f-80b8-fd0ea7b1adbc\",\"type\":\"BoxAnnotation\"}},\"id\":\"3dc1edbb-d1b8-4985-9e16-b2df6450b656\",\"type\":\"BoxSelectTool\"},{\"attributes\":{\"callback\":null},\"id\":\"3729bfbe-c061-4a14-be2a-bd165c5b5ab8\",\"type\":\"DataRange1d\"},{\"attributes\":{\"callback\":null,\"overlay\":{\"id\":\"6a3073a4-e30a-4c1b-bf02-07ade7c012dd\",\"type\":\"PolyAnnotation\"}},\"id\":\"fbd24ef1-f7bf-4ce9-aa78-36a501188067\",\"type\":\"LassoSelectTool\"},{\"attributes\":{\"callback\":null},\"id\":\"33185c26-c431-4c56-9154-57add687a9ba\",\"type\":\"DataRange1d\"},{\"attributes\":{\"fill_alpha\":{\"value\":0.1},\"fill_color\":{\"value\":\"#1f77b4\"},\"line_alpha\":{\"value\":0.1},\"line_color\":{\"value\":\"#1f77b4\"},\"x\":{\"field\":\"x\"},\"y\":{\"field\":\"y1\"}},\"id\":\"0c1fc48b-c041-4692-a86f-951ac94a0eb5\",\"type\":\"Circle\"},{\"attributes\":{\"formatter\":{\"id\":\"2ea57c7d-15da-4f16-bcb4-803e63de8c40\",\"type\":\"BasicTickFormatter\"},\"plot\":{\"id\":\"c435ac6d-c70f-496a-ae50-c1d2b267886e\",\"subtype\":\"Figure\",\"type\":\"Plot\"},\"ticker\":{\"id\":\"739ea61e-3efa-40b0-a385-76f08c36b0f2\",\"type\":\"BasicTicker\"}},\"id\":\"7bfc24c2-6aef-4cad-a8f2-fa1bad41e37c\",\"type\":\"LinearAxis\"},{\"attributes\":{},\"id\":\"4d9230f9-8a7a-417e-b52b-373ec578140c\",\"type\":\"HelpTool\"},{\"attributes\":{},\"id\":\"49a89f82-fab6-4233-bdae-f4690db51427\",\"type\":\"BasicTickFormatter\"},{\"attributes\":{\"children\":[{\"id\":\"38572d3a-83aa-434e-b688-50552b48dc14\",\"subtype\":\"Figure\",\"type\":\"Plot\"},{\"id\":\"c435ac6d-c70f-496a-ae50-c1d2b267886e\",\"subtype\":\"Figure\",\"type\":\"Plot\"}]},\"id\":\"f58c0e9b-5297-4785-af4d-44dfa2efa263\",\"type\":\"Row\"},{\"attributes\":{\"below\":[{\"id\":\"2d1e3fb8-b8d7-4ea5-8bc6-9191959dd5df\",\"type\":\"LinearAxis\"}],\"left\":[{\"id\":\"1b3a0c02-2f04-4f03-9472-b152907ef5d5\",\"type\":\"LinearAxis\"}],\"plot_height\":300,\"plot_width\":300,\"renderers\":[{\"id\":\"2d1e3fb8-b8d7-4ea5-8bc6-9191959dd5df\",\"type\":\"LinearAxis\"},{\"id\":\"8721afcf-1172-4b0a-bddc-c25769b38005\",\"type\":\"Grid\"},{\"id\":\"1b3a0c02-2f04-4f03-9472-b152907ef5d5\",\"type\":\"LinearAxis\"},{\"id\":\"f8350e7e-64ce-459e-9cba-b49a30a94c36\",\"type\":\"Grid\"},{\"id\":\"53ee5da7-651b-4afb-b79c-61bad398bdd0\",\"type\":\"BoxAnnotation\"},{\"id\":\"bcc6d018-70b0-44b1-ab54-450856b2ab8f\",\"type\":\"PolyAnnotation\"},{\"id\":\"c504b848-4c1b-4a31-9e60-f3908890ea75\",\"type\":\"GlyphRenderer\"}],\"title\":null,\"toolbar\":{\"id\":\"6852246b-c2bd-4e98-b564-9b5c82e33dbf\",\"type\":\"Toolbar\"},\"toolbar_location\":null,\"x_range\":{\"id\":\"33185c26-c431-4c56-9154-57add687a9ba\",\"type\":\"DataRange1d\"},\"x_scale\":{\"id\":\"99a2e158-4144-494a-a7de-b7125badbf62\",\"type\":\"LinearScale\"},\"y_range\":{\"id\":\"1d994fcf-29f4-4b4f-9e4a-783e0b8e2a0d\",\"type\":\"DataRange1d\"},\"y_scale\":{\"id\":\"c16943c1-72cd-41c9-9a07-0c92e999c889\",\"type\":\"LinearScale\"}},\"id\":\"38572d3a-83aa-434e-b688-50552b48dc14\",\"subtype\":\"Figure\",\"type\":\"Plot\"},{\"attributes\":{},\"id\":\"276e09e3-03f8-4714-81e9-7cffa167dc9b\",\"type\":\"BasicTicker\"},{\"attributes\":{\"plot\":{\"id\":\"38572d3a-83aa-434e-b688-50552b48dc14\",\"subtype\":\"Figure\",\"type\":\"Plot\"},\"ticker\":{\"id\":\"27ef4b12-fcd6-44c1-a937-55b748e011e3\",\"type\":\"BasicTicker\"}},\"id\":\"8721afcf-1172-4b0a-bddc-c25769b38005\",\"type\":\"Grid\"},{\"attributes\":{\"bottom_units\":\"screen\",\"fill_alpha\":{\"value\":0.5},\"fill_color\":{\"value\":\"lightgrey\"},\"left_units\":\"screen\",\"level\":\"overlay\",\"line_alpha\":{\"value\":1.0},\"line_color\":{\"value\":\"black\"},\"line_dash\":[4,4],\"line_width\":{\"value\":2},\"plot\":null,\"render_mode\":\"css\",\"right_units\":\"screen\",\"top_units\":\"screen\"},\"id\":\"d0702841-b7db-4d8f-80b8-fd0ea7b1adbc\",\"type\":\"BoxAnnotation\"},{\"attributes\":{},\"id\":\"44755569-4463-4b39-98e4-14cc89e550f7\",\"type\":\"UnionRenderers\"},{\"attributes\":{\"children\":[{\"id\":\"f58c0e9b-5297-4785-af4d-44dfa2efa263\",\"type\":\"Row\"}]},\"id\":\"dbe842ca-6897-4899-a56e-c242cc7bae79\",\"type\":\"Column\"},{\"attributes\":{},\"id\":\"739ea61e-3efa-40b0-a385-76f08c36b0f2\",\"type\":\"BasicTicker\"},{\"attributes\":{\"data_source\":{\"id\":\"347227ec-c91b-419b-bce9-691933654ea4\",\"type\":\"ColumnDataSource\"},\"glyph\":{\"id\":\"fcb3762d-df12-4dd7-a859-e9c40631a264\",\"type\":\"Circle\"},\"hover_glyph\":null,\"muted_glyph\":null,\"nonselection_glyph\":{\"id\":\"0c1fc48b-c041-4692-a86f-951ac94a0eb5\",\"type\":\"Circle\"},\"selection_glyph\":null,\"view\":{\"id\":\"98fc526f-728b-42a5-b6f2-db7be45333c6\",\"type\":\"CDSView\"}},\"id\":\"6f838e88-24d7-40d1-bc9c-746cc8f1404f\",\"type\":\"GlyphRenderer\"},{\"attributes\":{\"callback\":null,\"data\":{\"x\":[-20,-19,-18,-17,-16,-15,-14,-13,-12,-11,-10,-9,-8,-7,-6,-5,-4,-3,-2,-1,0,1,2,3,4,5,6,7,8,9,10,11,12,13,14,15,16,17,18,19,20],\"y0\":[20,19,18,17,16,15,14,13,12,11,10,9,8,7,6,5,4,3,2,1,0,1,2,3,4,5,6,7,8,9,10,11,12,13,14,15,16,17,18,19,20],\"y1\":[400,361,324,289,256,225,196,169,144,121,100,81,64,49,36,25,16,9,4,1,0,1,4,9,16,25,36,49,64,81,100,121,144,169,196,225,256,289,324,361,400]},\"selected\":{\"id\":\"1b62de61-6cb6-4ce9-91e1-8f86130d9f32\",\"type\":\"Selection\"},\"selection_policy\":{\"id\":\"44755569-4463-4b39-98e4-14cc89e550f7\",\"type\":\"UnionRenderers\"}},\"id\":\"347227ec-c91b-419b-bce9-691933654ea4\",\"type\":\"ColumnDataSource\"},{\"attributes\":{},\"id\":\"0f9f4734-77d8-4fee-ae86-8ec61a590fe8\",\"type\":\"BasicTickFormatter\"},{\"attributes\":{\"fill_color\":{\"value\":\"#1f77b4\"},\"line_color\":{\"value\":\"#1f77b4\"},\"x\":{\"field\":\"x\"},\"y\":{\"field\":\"y0\"}},\"id\":\"238649d4-8016-4281-bd13-0f83675bcec7\",\"type\":\"Circle\"},{\"attributes\":{\"fill_alpha\":{\"value\":0.5},\"fill_color\":{\"value\":\"lightgrey\"},\"level\":\"overlay\",\"line_alpha\":{\"value\":1.0},\"line_color\":{\"value\":\"black\"},\"line_dash\":[4,4],\"line_width\":{\"value\":2},\"plot\":null,\"xs_units\":\"screen\",\"ys_units\":\"screen\"},\"id\":\"6a3073a4-e30a-4c1b-bf02-07ade7c012dd\",\"type\":\"PolyAnnotation\"},{\"attributes\":{},\"id\":\"c16943c1-72cd-41c9-9a07-0c92e999c889\",\"type\":\"LinearScale\"},{\"attributes\":{\"source\":{\"id\":\"347227ec-c91b-419b-bce9-691933654ea4\",\"type\":\"ColumnDataSource\"}},\"id\":\"98fc526f-728b-42a5-b6f2-db7be45333c6\",\"type\":\"CDSView\"},{\"attributes\":{\"callback\":null},\"id\":\"1d994fcf-29f4-4b4f-9e4a-783e0b8e2a0d\",\"type\":\"DataRange1d\"},{\"attributes\":{},\"id\":\"b0e81eb5-0d57-4a88-971f-d79882f52da3\",\"type\":\"BasicTicker\"},{\"attributes\":{\"formatter\":{\"id\":\"49a89f82-fab6-4233-bdae-f4690db51427\",\"type\":\"BasicTickFormatter\"},\"plot\":{\"id\":\"38572d3a-83aa-434e-b688-50552b48dc14\",\"subtype\":\"Figure\",\"type\":\"Plot\"},\"ticker\":{\"id\":\"b0e81eb5-0d57-4a88-971f-d79882f52da3\",\"type\":\"BasicTicker\"}},\"id\":\"1b3a0c02-2f04-4f03-9472-b152907ef5d5\",\"type\":\"LinearAxis\"},{\"attributes\":{},\"id\":\"27ef4b12-fcd6-44c1-a937-55b748e011e3\",\"type\":\"BasicTicker\"},{\"attributes\":{\"tools\":[{\"id\":\"08d15891-1ae0-438f-ad07-8fd839615032\",\"type\":\"BoxSelectTool\"},{\"id\":\"b5602c3a-2d32-44fa-8f4d-83b6680ab290\",\"type\":\"LassoSelectTool\"},{\"id\":\"2c0776a4-c0b4-4d33-a499-6dd6c7823ced\",\"type\":\"HelpTool\"},{\"id\":\"3dc1edbb-d1b8-4985-9e16-b2df6450b656\",\"type\":\"BoxSelectTool\"},{\"id\":\"fbd24ef1-f7bf-4ce9-aa78-36a501188067\",\"type\":\"LassoSelectTool\"},{\"id\":\"4d9230f9-8a7a-417e-b52b-373ec578140c\",\"type\":\"HelpTool\"}]},\"id\":\"e4656b25-14c8-48c2-9a4b-63443cf9784c\",\"type\":\"ProxyToolbar\"},{\"attributes\":{\"formatter\":{\"id\":\"4e2a8a7b-4da8-4b24-ae43-c6c6093bbbd2\",\"type\":\"BasicTickFormatter\"},\"plot\":{\"id\":\"38572d3a-83aa-434e-b688-50552b48dc14\",\"subtype\":\"Figure\",\"type\":\"Plot\"},\"ticker\":{\"id\":\"27ef4b12-fcd6-44c1-a937-55b748e011e3\",\"type\":\"BasicTicker\"}},\"id\":\"2d1e3fb8-b8d7-4ea5-8bc6-9191959dd5df\",\"type\":\"LinearAxis\"},{\"attributes\":{},\"id\":\"2ea57c7d-15da-4f16-bcb4-803e63de8c40\",\"type\":\"BasicTickFormatter\"},{\"attributes\":{},\"id\":\"c733caa8-a305-4a96-b9db-d73bb15cf740\",\"type\":\"LinearScale\"},{\"attributes\":{},\"id\":\"1b62de61-6cb6-4ce9-91e1-8f86130d9f32\",\"type\":\"Selection\"},{\"attributes\":{\"dimension\":1,\"plot\":{\"id\":\"c435ac6d-c70f-496a-ae50-c1d2b267886e\",\"subtype\":\"Figure\",\"type\":\"Plot\"},\"ticker\":{\"id\":\"276e09e3-03f8-4714-81e9-7cffa167dc9b\",\"type\":\"BasicTicker\"}},\"id\":\"57f18bf3-9b00-4248-a300-de8783d74c35\",\"type\":\"Grid\"},{\"attributes\":{\"fill_color\":{\"value\":\"#1f77b4\"},\"line_color\":{\"value\":\"#1f77b4\"},\"x\":{\"field\":\"x\"},\"y\":{\"field\":\"y1\"}},\"id\":\"fcb3762d-df12-4dd7-a859-e9c40631a264\",\"type\":\"Circle\"},{\"attributes\":{},\"id\":\"99a2e158-4144-494a-a7de-b7125badbf62\",\"type\":\"LinearScale\"},{\"attributes\":{\"bottom_units\":\"screen\",\"fill_alpha\":{\"value\":0.5},\"fill_color\":{\"value\":\"lightgrey\"},\"left_units\":\"screen\",\"level\":\"overlay\",\"line_alpha\":{\"value\":1.0},\"line_color\":{\"value\":\"black\"},\"line_dash\":[4,4],\"line_width\":{\"value\":2},\"plot\":null,\"render_mode\":\"css\",\"right_units\":\"screen\",\"top_units\":\"screen\"},\"id\":\"53ee5da7-651b-4afb-b79c-61bad398bdd0\",\"type\":\"BoxAnnotation\"},{\"attributes\":{\"plot\":{\"id\":\"c435ac6d-c70f-496a-ae50-c1d2b267886e\",\"subtype\":\"Figure\",\"type\":\"Plot\"},\"ticker\":{\"id\":\"739ea61e-3efa-40b0-a385-76f08c36b0f2\",\"type\":\"BasicTicker\"}},\"id\":\"b08243c2-2265-4416-86b2-081bbaeffaac\",\"type\":\"Grid\"},{\"attributes\":{},\"id\":\"2c0776a4-c0b4-4d33-a499-6dd6c7823ced\",\"type\":\"HelpTool\"},{\"attributes\":{\"children\":[{\"id\":\"45bfc1e5-a82a-4227-b182-cf85b05f172e\",\"type\":\"ToolbarBox\"},{\"id\":\"dbe842ca-6897-4899-a56e-c242cc7bae79\",\"type\":\"Column\"}]},\"id\":\"62119afa-8fae-4005-ace0-265acdb871e4\",\"type\":\"Column\"},{\"attributes\":{\"callback\":null,\"overlay\":{\"id\":\"bcc6d018-70b0-44b1-ab54-450856b2ab8f\",\"type\":\"PolyAnnotation\"}},\"id\":\"b5602c3a-2d32-44fa-8f4d-83b6680ab290\",\"type\":\"LassoSelectTool\"},{\"attributes\":{\"toolbar\":{\"id\":\"e4656b25-14c8-48c2-9a4b-63443cf9784c\",\"type\":\"ProxyToolbar\"},\"toolbar_location\":\"above\"},\"id\":\"45bfc1e5-a82a-4227-b182-cf85b05f172e\",\"type\":\"ToolbarBox\"},{\"attributes\":{\"fill_alpha\":{\"value\":0.1},\"fill_color\":{\"value\":\"#1f77b4\"},\"line_alpha\":{\"value\":0.1},\"line_color\":{\"value\":\"#1f77b4\"},\"x\":{\"field\":\"x\"},\"y\":{\"field\":\"y0\"}},\"id\":\"9946e586-b1ab-418b-b14f-efb3e90af940\",\"type\":\"Circle\"},{\"attributes\":{\"callback\":null,\"overlay\":{\"id\":\"53ee5da7-651b-4afb-b79c-61bad398bdd0\",\"type\":\"BoxAnnotation\"}},\"id\":\"08d15891-1ae0-438f-ad07-8fd839615032\",\"type\":\"BoxSelectTool\"},{\"attributes\":{\"callback\":null},\"id\":\"cc63e7a2-e054-4076-98d9-714e122b1cce\",\"type\":\"DataRange1d\"},{\"attributes\":{\"dimension\":1,\"plot\":{\"id\":\"38572d3a-83aa-434e-b688-50552b48dc14\",\"subtype\":\"Figure\",\"type\":\"Plot\"},\"ticker\":{\"id\":\"b0e81eb5-0d57-4a88-971f-d79882f52da3\",\"type\":\"BasicTicker\"}},\"id\":\"f8350e7e-64ce-459e-9cba-b49a30a94c36\",\"type\":\"Grid\"},{\"attributes\":{\"formatter\":{\"id\":\"0f9f4734-77d8-4fee-ae86-8ec61a590fe8\",\"type\":\"BasicTickFormatter\"},\"plot\":{\"id\":\"c435ac6d-c70f-496a-ae50-c1d2b267886e\",\"subtype\":\"Figure\",\"type\":\"Plot\"},\"ticker\":{\"id\":\"276e09e3-03f8-4714-81e9-7cffa167dc9b\",\"type\":\"BasicTicker\"}},\"id\":\"3d2acb7d-51af-4bed-a36c-5cbf6a9e03f4\",\"type\":\"LinearAxis\"},{\"attributes\":{\"source\":{\"id\":\"347227ec-c91b-419b-bce9-691933654ea4\",\"type\":\"ColumnDataSource\"}},\"id\":\"da2c5033-8b9d-4fca-86f3-e93750c7ee67\",\"type\":\"CDSView\"},{\"attributes\":{\"below\":[{\"id\":\"7bfc24c2-6aef-4cad-a8f2-fa1bad41e37c\",\"type\":\"LinearAxis\"}],\"left\":[{\"id\":\"3d2acb7d-51af-4bed-a36c-5cbf6a9e03f4\",\"type\":\"LinearAxis\"}],\"plot_height\":300,\"plot_width\":300,\"renderers\":[{\"id\":\"7bfc24c2-6aef-4cad-a8f2-fa1bad41e37c\",\"type\":\"LinearAxis\"},{\"id\":\"b08243c2-2265-4416-86b2-081bbaeffaac\",\"type\":\"Grid\"},{\"id\":\"3d2acb7d-51af-4bed-a36c-5cbf6a9e03f4\",\"type\":\"LinearAxis\"},{\"id\":\"57f18bf3-9b00-4248-a300-de8783d74c35\",\"type\":\"Grid\"},{\"id\":\"d0702841-b7db-4d8f-80b8-fd0ea7b1adbc\",\"type\":\"BoxAnnotation\"},{\"id\":\"6a3073a4-e30a-4c1b-bf02-07ade7c012dd\",\"type\":\"PolyAnnotation\"},{\"id\":\"6f838e88-24d7-40d1-bc9c-746cc8f1404f\",\"type\":\"GlyphRenderer\"}],\"title\":null,\"toolbar\":{\"id\":\"41bbc79a-91e0-4471-bb21-0a410321dab2\",\"type\":\"Toolbar\"},\"toolbar_location\":null,\"x_range\":{\"id\":\"cc63e7a2-e054-4076-98d9-714e122b1cce\",\"type\":\"DataRange1d\"},\"x_scale\":{\"id\":\"4921ff98-1705-4731-a277-85406a9872c4\",\"type\":\"LinearScale\"},\"y_range\":{\"id\":\"3729bfbe-c061-4a14-be2a-bd165c5b5ab8\",\"type\":\"DataRange1d\"},\"y_scale\":{\"id\":\"c733caa8-a305-4a96-b9db-d73bb15cf740\",\"type\":\"LinearScale\"}},\"id\":\"c435ac6d-c70f-496a-ae50-c1d2b267886e\",\"subtype\":\"Figure\",\"type\":\"Plot\"},{\"attributes\":{\"data_source\":{\"id\":\"347227ec-c91b-419b-bce9-691933654ea4\",\"type\":\"ColumnDataSource\"},\"glyph\":{\"id\":\"238649d4-8016-4281-bd13-0f83675bcec7\",\"type\":\"Circle\"},\"hover_glyph\":null,\"muted_glyph\":null,\"nonselection_glyph\":{\"id\":\"9946e586-b1ab-418b-b14f-efb3e90af940\",\"type\":\"Circle\"},\"selection_glyph\":null,\"view\":{\"id\":\"da2c5033-8b9d-4fca-86f3-e93750c7ee67\",\"type\":\"CDSView\"}},\"id\":\"c504b848-4c1b-4a31-9e60-f3908890ea75\",\"type\":\"GlyphRenderer\"},{\"attributes\":{\"active_drag\":\"auto\",\"active_inspect\":\"auto\",\"active_multi\":null,\"active_scroll\":\"auto\",\"active_tap\":\"auto\",\"tools\":[{\"id\":\"3dc1edbb-d1b8-4985-9e16-b2df6450b656\",\"type\":\"BoxSelectTool\"},{\"id\":\"fbd24ef1-f7bf-4ce9-aa78-36a501188067\",\"type\":\"LassoSelectTool\"},{\"id\":\"4d9230f9-8a7a-417e-b52b-373ec578140c\",\"type\":\"HelpTool\"}]},\"id\":\"41bbc79a-91e0-4471-bb21-0a410321dab2\",\"type\":\"Toolbar\"}],\"root_ids\":[\"62119afa-8fae-4005-ace0-265acdb871e4\"]},\"title\":\"Bokeh Application\",\"version\":\"0.13.0\"}};\n",
       "  var render_items = [{\"docid\":\"8b3e6a59-0a99-4a6a-b80d-4fc1dedff479\",\"roots\":{\"62119afa-8fae-4005-ace0-265acdb871e4\":\"5876e9a5-d42c-4e20-a3ff-df65bb4e9705\"}}];\n",
       "  root.Bokeh.embed.embed_items_notebook(docs_json, render_items);\n",
       "\n",
       "  }\n",
       "  if (root.Bokeh !== undefined) {\n",
       "    embed_document(root);\n",
       "  } else {\n",
       "    var attempts = 0;\n",
       "    var timer = setInterval(function(root) {\n",
       "      if (root.Bokeh !== undefined) {\n",
       "        embed_document(root);\n",
       "        clearInterval(timer);\n",
       "      }\n",
       "      attempts++;\n",
       "      if (attempts > 100) {\n",
       "        console.log(\"Bokeh: ERROR: Unable to run BokehJS code because BokehJS library is missing\")\n",
       "        clearInterval(timer);\n",
       "      }\n",
       "    }, 10, root)\n",
       "  }\n",
       "})(window);"
      ],
      "application/vnd.bokehjs_exec.v0+json": ""
     },
     "metadata": {
      "application/vnd.bokehjs_exec.v0+json": {
       "id": "62119afa-8fae-4005-ace0-265acdb871e4"
      }
     },
     "output_type": "display_data"
    }
   ],
   "source": [
    "from bokeh.io import output_file, show\n",
    "from bokeh.layouts import gridplot\n",
    "from bokeh.models import ColumnDataSource\n",
    "from bokeh.plotting import figure\n",
    "\n",
    "x = list(range(-20, 21))\n",
    "y0 = [abs(xx) for xx in x]\n",
    "y1 = [xx**2 for xx in x]\n",
    "\n",
    "# create a column data source for the plots to share\n",
    "source = ColumnDataSource(data=dict(x=x, y0=y0, y1=y1))\n",
    "\n",
    "TOOLS = \"box_select,lasso_select,help\"\n",
    "\n",
    "# create a new plot and add a renderer\n",
    "left = figure(tools=TOOLS, plot_width=300, plot_height=300, title=None)\n",
    "left.circle('x', 'y0', source=source)\n",
    "\n",
    "# create another new plot and add a renderer\n",
    "right = figure(tools=TOOLS, plot_width=300, plot_height=300, title=None)\n",
    "right.circle('x', 'y1', source=source)\n",
    "\n",
    "p = gridplot([[left, right]])\n",
    "\n",
    "show(p)"
   ]
  },
  {
   "cell_type": "code",
   "execution_count": 14,
   "metadata": {},
   "outputs": [],
   "source": [
    "# EXERCISE 2: create two plots in a gridplot, and link their data sources"
   ]
  },
  {
   "cell_type": "markdown",
   "metadata": {},
   "source": [
    "### Linked selection with filtered data"
   ]
  },
  {
   "cell_type": "code",
   "execution_count": 15,
   "metadata": {},
   "outputs": [
    {
     "data": {
      "text/html": [
       "\n",
       "\n",
       "\n",
       "\n",
       "\n",
       "\n",
       "  <div class=\"bk-root\" id=\"37dfa259-c331-47de-bd31-0522ed06347a\"></div>\n"
      ]
     },
     "metadata": {},
     "output_type": "display_data"
    },
    {
     "data": {
      "application/javascript": [
       "(function(root) {\n",
       "  function embed_document(root) {\n",
       "    \n",
       "  var docs_json = {\"5b448711-e655-4292-85db-e36a59969c96\":{\"roots\":{\"references\":[{\"attributes\":{\"tools\":[{\"id\":\"ed5da10f-1644-4a18-af2c-bee6f8887e76\",\"type\":\"BoxSelectTool\"},{\"id\":\"e7a529ad-0bc0-4d6f-aab3-5c814938049e\",\"type\":\"LassoSelectTool\"},{\"id\":\"258da8e4-2589-471a-9115-f50078b4f688\",\"type\":\"BoxSelectTool\"},{\"id\":\"cfbf9e16-0091-4d74-b2f4-3594342efdbe\",\"type\":\"LassoSelectTool\"}]},\"id\":\"ff895d85-4b07-4861-ba3a-0ad64814cc44\",\"type\":\"ProxyToolbar\"},{\"attributes\":{\"callback\":null,\"overlay\":{\"id\":\"8a454842-dd48-4c92-950f-62f6f0e8e663\",\"type\":\"BoxAnnotation\"}},\"id\":\"ed5da10f-1644-4a18-af2c-bee6f8887e76\",\"type\":\"BoxSelectTool\"},{\"attributes\":{\"below\":[{\"id\":\"99947b2b-13ff-45d8-942f-a493b54c4df5\",\"type\":\"LinearAxis\"}],\"left\":[{\"id\":\"97635cb1-69e4-4c7d-ba2f-75163d62bae8\",\"type\":\"LinearAxis\"}],\"plot_height\":300,\"plot_width\":300,\"renderers\":[{\"id\":\"99947b2b-13ff-45d8-942f-a493b54c4df5\",\"type\":\"LinearAxis\"},{\"id\":\"bd4eed8e-2ac9-418e-8e8f-4d1be3692255\",\"type\":\"Grid\"},{\"id\":\"97635cb1-69e4-4c7d-ba2f-75163d62bae8\",\"type\":\"LinearAxis\"},{\"id\":\"546b940f-6cbb-417b-ac2a-7d29bc912053\",\"type\":\"Grid\"},{\"id\":\"8a454842-dd48-4c92-950f-62f6f0e8e663\",\"type\":\"BoxAnnotation\"},{\"id\":\"22096c20-6b43-4dab-8e7b-390e2ce129b4\",\"type\":\"PolyAnnotation\"},{\"id\":\"f601571c-1336-454f-8700-e18badc3945b\",\"type\":\"GlyphRenderer\"}],\"title\":null,\"toolbar\":{\"id\":\"8d524f6e-4f7a-41ad-a8ef-5c55acdb2b9d\",\"type\":\"Toolbar\"},\"toolbar_location\":null,\"x_range\":{\"id\":\"68e1081f-a1f1-46f6-9df3-f4a27a419bf8\",\"type\":\"DataRange1d\"},\"x_scale\":{\"id\":\"47fe5e1d-86d0-49dc-bd72-044898ea7ad5\",\"type\":\"LinearScale\"},\"y_range\":{\"id\":\"ceabfdd7-ded9-4760-8a01-6bfd3fd61dba\",\"type\":\"DataRange1d\"},\"y_scale\":{\"id\":\"9cebbea3-c116-4b91-8983-a2851955d1ea\",\"type\":\"LinearScale\"}},\"id\":\"208ae8c9-298b-4961-92d2-f47ce725da92\",\"subtype\":\"Figure\",\"type\":\"Plot\"},{\"attributes\":{\"formatter\":{\"id\":\"31f3111e-0359-4a48-8b33-155b4e7c2657\",\"type\":\"BasicTickFormatter\"},\"plot\":{\"id\":\"208ae8c9-298b-4961-92d2-f47ce725da92\",\"subtype\":\"Figure\",\"type\":\"Plot\"},\"ticker\":{\"id\":\"7a2e561e-5b18-4c7d-bec3-b93b63a3e68f\",\"type\":\"BasicTicker\"}},\"id\":\"97635cb1-69e4-4c7d-ba2f-75163d62bae8\",\"type\":\"LinearAxis\"},{\"attributes\":{\"toolbar\":{\"id\":\"ff895d85-4b07-4861-ba3a-0ad64814cc44\",\"type\":\"ProxyToolbar\"},\"toolbar_location\":\"above\"},\"id\":\"52d9672a-946e-4398-97c3-f8f86b42df88\",\"type\":\"ToolbarBox\"},{\"attributes\":{\"callback\":null},\"id\":\"68e1081f-a1f1-46f6-9df3-f4a27a419bf8\",\"type\":\"DataRange1d\"},{\"attributes\":{},\"id\":\"7a2e561e-5b18-4c7d-bec3-b93b63a3e68f\",\"type\":\"BasicTicker\"},{\"attributes\":{\"dimension\":1,\"plot\":{\"id\":\"208ae8c9-298b-4961-92d2-f47ce725da92\",\"subtype\":\"Figure\",\"type\":\"Plot\"},\"ticker\":{\"id\":\"7a2e561e-5b18-4c7d-bec3-b93b63a3e68f\",\"type\":\"BasicTicker\"}},\"id\":\"546b940f-6cbb-417b-ac2a-7d29bc912053\",\"type\":\"Grid\"},{\"attributes\":{\"children\":[{\"id\":\"52d9672a-946e-4398-97c3-f8f86b42df88\",\"type\":\"ToolbarBox\"},{\"id\":\"49c76229-f6f1-49e3-b328-9d8ee2a8b1db\",\"type\":\"Column\"}]},\"id\":\"79676e92-b7a6-4d85-b115-48126fee412c\",\"type\":\"Column\"},{\"attributes\":{\"callback\":null,\"data\":{\"x\":[-20,-19,-18,-17,-16,-15,-14,-13,-12,-11,-10,-9,-8,-7,-6,-5,-4,-3,-2,-1,0,1,2,3,4,5,6,7,8,9,10,11,12,13,14,15,16,17,18,19,20],\"y0\":[20,19,18,17,16,15,14,13,12,11,10,9,8,7,6,5,4,3,2,1,0,1,2,3,4,5,6,7,8,9,10,11,12,13,14,15,16,17,18,19,20],\"y1\":[400,361,324,289,256,225,196,169,144,121,100,81,64,49,36,25,16,9,4,1,0,1,4,9,16,25,36,49,64,81,100,121,144,169,196,225,256,289,324,361,400]},\"selected\":{\"id\":\"97c5a824-2879-47f4-84a0-36f1c6a18d4c\",\"type\":\"Selection\"},\"selection_policy\":{\"id\":\"c47c4418-77fc-4d96-83c4-d2418459c9e5\",\"type\":\"UnionRenderers\"}},\"id\":\"3edf64f0-ff9a-4b8c-afb0-4a53f3693647\",\"type\":\"ColumnDataSource\"},{\"attributes\":{\"bottom_units\":\"screen\",\"fill_alpha\":{\"value\":0.5},\"fill_color\":{\"value\":\"lightgrey\"},\"left_units\":\"screen\",\"level\":\"overlay\",\"line_alpha\":{\"value\":1.0},\"line_color\":{\"value\":\"black\"},\"line_dash\":[4,4],\"line_width\":{\"value\":2},\"plot\":null,\"render_mode\":\"css\",\"right_units\":\"screen\",\"top_units\":\"screen\"},\"id\":\"8a454842-dd48-4c92-950f-62f6f0e8e663\",\"type\":\"BoxAnnotation\"},{\"attributes\":{},\"id\":\"9cebbea3-c116-4b91-8983-a2851955d1ea\",\"type\":\"LinearScale\"},{\"attributes\":{\"callback\":null,\"overlay\":{\"id\":\"22096c20-6b43-4dab-8e7b-390e2ce129b4\",\"type\":\"PolyAnnotation\"}},\"id\":\"e7a529ad-0bc0-4d6f-aab3-5c814938049e\",\"type\":\"LassoSelectTool\"},{\"attributes\":{\"fill_color\":{\"value\":\"firebrick\"},\"line_color\":{\"value\":\"firebrick\"},\"size\":{\"units\":\"screen\",\"value\":10},\"x\":{\"field\":\"x\"},\"y\":{\"field\":\"y0\"}},\"id\":\"b7e5160e-11fb-4369-96d0-3cbfc30dedde\",\"type\":\"Circle\"},{\"attributes\":{\"source\":{\"id\":\"3edf64f0-ff9a-4b8c-afb0-4a53f3693647\",\"type\":\"ColumnDataSource\"}},\"id\":\"5197a58e-2682-41cf-8baa-340eb08688ee\",\"type\":\"CDSView\"},{\"attributes\":{\"fill_alpha\":{\"value\":0.5},\"fill_color\":{\"value\":\"lightgrey\"},\"level\":\"overlay\",\"line_alpha\":{\"value\":1.0},\"line_color\":{\"value\":\"black\"},\"line_dash\":[4,4],\"line_width\":{\"value\":2},\"plot\":null,\"xs_units\":\"screen\",\"ys_units\":\"screen\"},\"id\":\"22096c20-6b43-4dab-8e7b-390e2ce129b4\",\"type\":\"PolyAnnotation\"},{\"attributes\":{\"fill_color\":{\"value\":\"#1f77b4\"},\"line_color\":{\"value\":\"#1f77b4\"},\"size\":{\"units\":\"screen\",\"value\":10},\"x\":{\"field\":\"x\"},\"y\":{\"field\":\"y1\"}},\"id\":\"1ef0bf9a-3c91-48f8-9ebd-41aedf8db9e9\",\"type\":\"Circle\"},{\"attributes\":{\"active_drag\":\"auto\",\"active_inspect\":\"auto\",\"active_multi\":null,\"active_scroll\":\"auto\",\"active_tap\":\"auto\",\"tools\":[{\"id\":\"258da8e4-2589-471a-9115-f50078b4f688\",\"type\":\"BoxSelectTool\"},{\"id\":\"cfbf9e16-0091-4d74-b2f4-3594342efdbe\",\"type\":\"LassoSelectTool\"}]},\"id\":\"a9ed7f91-2239-487e-bad5-a183fdfca4f0\",\"type\":\"Toolbar\"},{\"attributes\":{\"callback\":null,\"overlay\":{\"id\":\"c36fe312-f135-459c-a184-ca5eb1593766\",\"type\":\"BoxAnnotation\"}},\"id\":\"258da8e4-2589-471a-9115-f50078b4f688\",\"type\":\"BoxSelectTool\"},{\"attributes\":{\"callback\":null},\"id\":\"6a4e9097-f2b4-4704-869e-dc279950bf8d\",\"type\":\"DataRange1d\"},{\"attributes\":{},\"id\":\"c2590a4b-31ef-4739-9154-d94ff14264fa\",\"type\":\"LinearScale\"},{\"attributes\":{\"formatter\":{\"id\":\"1784f86f-20db-46bd-8754-dbdd2183f1ba\",\"type\":\"BasicTickFormatter\"},\"plot\":{\"id\":\"208ae8c9-298b-4961-92d2-f47ce725da92\",\"subtype\":\"Figure\",\"type\":\"Plot\"},\"ticker\":{\"id\":\"75833f59-5594-47e0-9df1-c9bf76da4555\",\"type\":\"BasicTicker\"}},\"id\":\"99947b2b-13ff-45d8-942f-a493b54c4df5\",\"type\":\"LinearAxis\"},{\"attributes\":{},\"id\":\"cd93ecc8-ba23-4d78-9f60-3683341115e8\",\"type\":\"LinearScale\"},{\"attributes\":{\"plot\":{\"id\":\"208ae8c9-298b-4961-92d2-f47ce725da92\",\"subtype\":\"Figure\",\"type\":\"Plot\"},\"ticker\":{\"id\":\"75833f59-5594-47e0-9df1-c9bf76da4555\",\"type\":\"BasicTicker\"}},\"id\":\"bd4eed8e-2ac9-418e-8e8f-4d1be3692255\",\"type\":\"Grid\"},{\"attributes\":{\"data_source\":{\"id\":\"3edf64f0-ff9a-4b8c-afb0-4a53f3693647\",\"type\":\"ColumnDataSource\"},\"glyph\":{\"id\":\"96339a2c-5c9d-4674-b455-248ec390eb69\",\"type\":\"Circle\"},\"hover_glyph\":{\"id\":\"b7e5160e-11fb-4369-96d0-3cbfc30dedde\",\"type\":\"Circle\"},\"muted_glyph\":null,\"nonselection_glyph\":{\"id\":\"75620c1e-24a2-4f52-a235-03feeb74d3c2\",\"type\":\"Circle\"},\"selection_glyph\":null,\"view\":{\"id\":\"5197a58e-2682-41cf-8baa-340eb08688ee\",\"type\":\"CDSView\"}},\"id\":\"f601571c-1336-454f-8700-e18badc3945b\",\"type\":\"GlyphRenderer\"},{\"attributes\":{},\"id\":\"7167b853-ffbe-4fde-9c25-623b9bd7e4ff\",\"type\":\"BasicTicker\"},{\"attributes\":{\"plot\":{\"id\":\"47fc0ada-8f84-4db9-8651-007b359a76ac\",\"subtype\":\"Figure\",\"type\":\"Plot\"},\"ticker\":{\"id\":\"7167b853-ffbe-4fde-9c25-623b9bd7e4ff\",\"type\":\"BasicTicker\"}},\"id\":\"4c46b3f1-2a88-41a7-ba3b-80f552974f0a\",\"type\":\"Grid\"},{\"attributes\":{\"formatter\":{\"id\":\"ab7fb91d-2ba5-4367-9afc-740ae87e5e9c\",\"type\":\"BasicTickFormatter\"},\"plot\":{\"id\":\"47fc0ada-8f84-4db9-8651-007b359a76ac\",\"subtype\":\"Figure\",\"type\":\"Plot\"},\"ticker\":{\"id\":\"4d203312-693a-402c-ab6f-a422a7b669ff\",\"type\":\"BasicTicker\"}},\"id\":\"24dcc043-1ca1-4453-8183-efb933259ba1\",\"type\":\"LinearAxis\"},{\"attributes\":{},\"id\":\"4d203312-693a-402c-ab6f-a422a7b669ff\",\"type\":\"BasicTicker\"},{\"attributes\":{\"fill_color\":{\"value\":\"#1f77b4\"},\"line_color\":{\"value\":\"#1f77b4\"},\"size\":{\"units\":\"screen\",\"value\":10},\"x\":{\"field\":\"x\"},\"y\":{\"field\":\"y0\"}},\"id\":\"96339a2c-5c9d-4674-b455-248ec390eb69\",\"type\":\"Circle\"},{\"attributes\":{\"dimension\":1,\"plot\":{\"id\":\"47fc0ada-8f84-4db9-8651-007b359a76ac\",\"subtype\":\"Figure\",\"type\":\"Plot\"},\"ticker\":{\"id\":\"4d203312-693a-402c-ab6f-a422a7b669ff\",\"type\":\"BasicTicker\"}},\"id\":\"c6862e6c-1bf2-4bbc-988a-e27b58bca09d\",\"type\":\"Grid\"},{\"attributes\":{\"fill_alpha\":{\"value\":0.1},\"fill_color\":{\"value\":\"#1f77b4\"},\"line_alpha\":{\"value\":0.1},\"line_color\":{\"value\":\"#1f77b4\"},\"size\":{\"units\":\"screen\",\"value\":10},\"x\":{\"field\":\"x\"},\"y\":{\"field\":\"y1\"}},\"id\":\"38e29bfe-e276-4a46-b6af-4840e5465fd5\",\"type\":\"Circle\"},{\"attributes\":{\"callback\":null},\"id\":\"cedaba3e-5cc9-444e-8f90-4f1596d0e421\",\"type\":\"DataRange1d\"},{\"attributes\":{\"data_source\":{\"id\":\"3edf64f0-ff9a-4b8c-afb0-4a53f3693647\",\"type\":\"ColumnDataSource\"},\"glyph\":{\"id\":\"1ef0bf9a-3c91-48f8-9ebd-41aedf8db9e9\",\"type\":\"Circle\"},\"hover_glyph\":{\"id\":\"6a9bcc71-16e8-4504-8313-c9712f9001e8\",\"type\":\"Circle\"},\"muted_glyph\":null,\"nonselection_glyph\":{\"id\":\"38e29bfe-e276-4a46-b6af-4840e5465fd5\",\"type\":\"Circle\"},\"selection_glyph\":null,\"view\":{\"id\":\"de1143be-1683-4adb-afa6-ec77d4379dd7\",\"type\":\"CDSView\"}},\"id\":\"54b53345-eb1e-495e-abcb-915904cbb895\",\"type\":\"GlyphRenderer\"},{\"attributes\":{},\"id\":\"75833f59-5594-47e0-9df1-c9bf76da4555\",\"type\":\"BasicTicker\"},{\"attributes\":{\"callback\":null,\"overlay\":{\"id\":\"6c7cef81-2a48-49a5-98f5-54e156e87987\",\"type\":\"PolyAnnotation\"}},\"id\":\"cfbf9e16-0091-4d74-b2f4-3594342efdbe\",\"type\":\"LassoSelectTool\"},{\"attributes\":{\"below\":[{\"id\":\"e2b1e911-2aeb-4d5e-be08-f30ab34333f7\",\"type\":\"LinearAxis\"}],\"left\":[{\"id\":\"24dcc043-1ca1-4453-8183-efb933259ba1\",\"type\":\"LinearAxis\"}],\"plot_height\":300,\"plot_width\":300,\"renderers\":[{\"id\":\"e2b1e911-2aeb-4d5e-be08-f30ab34333f7\",\"type\":\"LinearAxis\"},{\"id\":\"4c46b3f1-2a88-41a7-ba3b-80f552974f0a\",\"type\":\"Grid\"},{\"id\":\"24dcc043-1ca1-4453-8183-efb933259ba1\",\"type\":\"LinearAxis\"},{\"id\":\"c6862e6c-1bf2-4bbc-988a-e27b58bca09d\",\"type\":\"Grid\"},{\"id\":\"c36fe312-f135-459c-a184-ca5eb1593766\",\"type\":\"BoxAnnotation\"},{\"id\":\"6c7cef81-2a48-49a5-98f5-54e156e87987\",\"type\":\"PolyAnnotation\"},{\"id\":\"54b53345-eb1e-495e-abcb-915904cbb895\",\"type\":\"GlyphRenderer\"}],\"title\":null,\"toolbar\":{\"id\":\"a9ed7f91-2239-487e-bad5-a183fdfca4f0\",\"type\":\"Toolbar\"},\"toolbar_location\":null,\"x_range\":{\"id\":\"cedaba3e-5cc9-444e-8f90-4f1596d0e421\",\"type\":\"DataRange1d\"},\"x_scale\":{\"id\":\"c2590a4b-31ef-4739-9154-d94ff14264fa\",\"type\":\"LinearScale\"},\"y_range\":{\"id\":\"6a4e9097-f2b4-4704-869e-dc279950bf8d\",\"type\":\"DataRange1d\"},\"y_scale\":{\"id\":\"cd93ecc8-ba23-4d78-9f60-3683341115e8\",\"type\":\"LinearScale\"}},\"id\":\"47fc0ada-8f84-4db9-8651-007b359a76ac\",\"subtype\":\"Figure\",\"type\":\"Plot\"},{\"attributes\":{\"bottom_units\":\"screen\",\"fill_alpha\":{\"value\":0.5},\"fill_color\":{\"value\":\"lightgrey\"},\"left_units\":\"screen\",\"level\":\"overlay\",\"line_alpha\":{\"value\":1.0},\"line_color\":{\"value\":\"black\"},\"line_dash\":[4,4],\"line_width\":{\"value\":2},\"plot\":null,\"render_mode\":\"css\",\"right_units\":\"screen\",\"top_units\":\"screen\"},\"id\":\"c36fe312-f135-459c-a184-ca5eb1593766\",\"type\":\"BoxAnnotation\"},{\"attributes\":{\"fill_alpha\":{\"value\":0.5},\"fill_color\":{\"value\":\"lightgrey\"},\"level\":\"overlay\",\"line_alpha\":{\"value\":1.0},\"line_color\":{\"value\":\"black\"},\"line_dash\":[4,4],\"line_width\":{\"value\":2},\"plot\":null,\"xs_units\":\"screen\",\"ys_units\":\"screen\"},\"id\":\"6c7cef81-2a48-49a5-98f5-54e156e87987\",\"type\":\"PolyAnnotation\"},{\"attributes\":{\"fill_color\":{\"value\":\"firebrick\"},\"line_color\":{\"value\":\"firebrick\"},\"size\":{\"units\":\"screen\",\"value\":10},\"x\":{\"field\":\"x\"},\"y\":{\"field\":\"y1\"}},\"id\":\"6a9bcc71-16e8-4504-8313-c9712f9001e8\",\"type\":\"Circle\"},{\"attributes\":{\"active_drag\":\"auto\",\"active_inspect\":\"auto\",\"active_multi\":null,\"active_scroll\":\"auto\",\"active_tap\":\"auto\",\"tools\":[{\"id\":\"ed5da10f-1644-4a18-af2c-bee6f8887e76\",\"type\":\"BoxSelectTool\"},{\"id\":\"e7a529ad-0bc0-4d6f-aab3-5c814938049e\",\"type\":\"LassoSelectTool\"}]},\"id\":\"8d524f6e-4f7a-41ad-a8ef-5c55acdb2b9d\",\"type\":\"Toolbar\"},{\"attributes\":{\"filters\":[{\"id\":\"50ff8628-4feb-44f3-8fc4-35666deb155f\",\"type\":\"BooleanFilter\"}],\"source\":{\"id\":\"3edf64f0-ff9a-4b8c-afb0-4a53f3693647\",\"type\":\"ColumnDataSource\"}},\"id\":\"de1143be-1683-4adb-afa6-ec77d4379dd7\",\"type\":\"CDSView\"},{\"attributes\":{\"children\":[{\"id\":\"208ae8c9-298b-4961-92d2-f47ce725da92\",\"subtype\":\"Figure\",\"type\":\"Plot\"},{\"id\":\"47fc0ada-8f84-4db9-8651-007b359a76ac\",\"subtype\":\"Figure\",\"type\":\"Plot\"}]},\"id\":\"64193498-3732-44ac-962b-509d1d4a182f\",\"type\":\"Row\"},{\"attributes\":{},\"id\":\"47fe5e1d-86d0-49dc-bd72-044898ea7ad5\",\"type\":\"LinearScale\"},{\"attributes\":{},\"id\":\"1784f86f-20db-46bd-8754-dbdd2183f1ba\",\"type\":\"BasicTickFormatter\"},{\"attributes\":{\"children\":[{\"id\":\"64193498-3732-44ac-962b-509d1d4a182f\",\"type\":\"Row\"}]},\"id\":\"49c76229-f6f1-49e3-b328-9d8ee2a8b1db\",\"type\":\"Column\"},{\"attributes\":{},\"id\":\"31f3111e-0359-4a48-8b33-155b4e7c2657\",\"type\":\"BasicTickFormatter\"},{\"attributes\":{\"booleans\":[true,true,true,true,true,false,false,false,false,false,false,true,true,true,true,true,true,true,true,true,true,true,true,true,true,true,true,true,true,true,false,false,false,false,false,false,true,true,true,true,true]},\"id\":\"50ff8628-4feb-44f3-8fc4-35666deb155f\",\"type\":\"BooleanFilter\"},{\"attributes\":{},\"id\":\"c47c4418-77fc-4d96-83c4-d2418459c9e5\",\"type\":\"UnionRenderers\"},{\"attributes\":{\"formatter\":{\"id\":\"772cbcc1-cd55-4fe1-ae57-b6d03742e85e\",\"type\":\"BasicTickFormatter\"},\"plot\":{\"id\":\"47fc0ada-8f84-4db9-8651-007b359a76ac\",\"subtype\":\"Figure\",\"type\":\"Plot\"},\"ticker\":{\"id\":\"7167b853-ffbe-4fde-9c25-623b9bd7e4ff\",\"type\":\"BasicTicker\"}},\"id\":\"e2b1e911-2aeb-4d5e-be08-f30ab34333f7\",\"type\":\"LinearAxis\"},{\"attributes\":{},\"id\":\"ab7fb91d-2ba5-4367-9afc-740ae87e5e9c\",\"type\":\"BasicTickFormatter\"},{\"attributes\":{\"callback\":null},\"id\":\"ceabfdd7-ded9-4760-8a01-6bfd3fd61dba\",\"type\":\"DataRange1d\"},{\"attributes\":{},\"id\":\"97c5a824-2879-47f4-84a0-36f1c6a18d4c\",\"type\":\"Selection\"},{\"attributes\":{\"fill_alpha\":{\"value\":0.1},\"fill_color\":{\"value\":\"#1f77b4\"},\"line_alpha\":{\"value\":0.1},\"line_color\":{\"value\":\"#1f77b4\"},\"size\":{\"units\":\"screen\",\"value\":10},\"x\":{\"field\":\"x\"},\"y\":{\"field\":\"y0\"}},\"id\":\"75620c1e-24a2-4f52-a235-03feeb74d3c2\",\"type\":\"Circle\"},{\"attributes\":{},\"id\":\"772cbcc1-cd55-4fe1-ae57-b6d03742e85e\",\"type\":\"BasicTickFormatter\"}],\"root_ids\":[\"79676e92-b7a6-4d85-b115-48126fee412c\"]},\"title\":\"Bokeh Application\",\"version\":\"0.13.0\"}};\n",
       "  var render_items = [{\"docid\":\"5b448711-e655-4292-85db-e36a59969c96\",\"roots\":{\"79676e92-b7a6-4d85-b115-48126fee412c\":\"37dfa259-c331-47de-bd31-0522ed06347a\"}}];\n",
       "  root.Bokeh.embed.embed_items_notebook(docs_json, render_items);\n",
       "\n",
       "  }\n",
       "  if (root.Bokeh !== undefined) {\n",
       "    embed_document(root);\n",
       "  } else {\n",
       "    var attempts = 0;\n",
       "    var timer = setInterval(function(root) {\n",
       "      if (root.Bokeh !== undefined) {\n",
       "        embed_document(root);\n",
       "        clearInterval(timer);\n",
       "      }\n",
       "      attempts++;\n",
       "      if (attempts > 100) {\n",
       "        console.log(\"Bokeh: ERROR: Unable to run BokehJS code because BokehJS library is missing\")\n",
       "        clearInterval(timer);\n",
       "      }\n",
       "    }, 10, root)\n",
       "  }\n",
       "})(window);"
      ],
      "application/vnd.bokehjs_exec.v0+json": ""
     },
     "metadata": {
      "application/vnd.bokehjs_exec.v0+json": {
       "id": "79676e92-b7a6-4d85-b115-48126fee412c"
      }
     },
     "output_type": "display_data"
    }
   ],
   "source": [
    "from bokeh.models import ColumnDataSource, CDSView, BooleanFilter\n",
    "\n",
    "x = list(range(-20, 21))\n",
    "y0 = [abs(xx) for xx in x]\n",
    "y1 = [xx**2 for xx in x]\n",
    "\n",
    "# create a column data source for the plots to share\n",
    "source = ColumnDataSource(data=dict(x=x, y0=y0, y1=y1))\n",
    "\n",
    "# create a view of the source for one plot to use\n",
    "view = CDSView(source=source, filters=[BooleanFilter([True if y > 250 or y < 100 else False for y in y1])])\n",
    "\n",
    "TOOLS = \"box_select,lasso_select\"\n",
    "\n",
    "# create a new plot and add a renderer\n",
    "left = figure(tools=TOOLS, plot_width=300, plot_height=300, title=None)\n",
    "left.circle('x', 'y0', size=10, hover_color=\"firebrick\", source=source)\n",
    "\n",
    "# create another new plot, add a renderer that uses the view of the data source\n",
    "right = figure(tools=TOOLS, plot_width=300, plot_height=300, title=None)\n",
    "right.circle('x', 'y1', size=10, hover_color=\"firebrick\", source=source, view=view)\n",
    "\n",
    "p = gridplot([[left, right]])\n",
    "\n",
    "show(p)"
   ]
  },
  {
   "cell_type": "code",
   "execution_count": null,
   "metadata": {},
   "outputs": [],
   "source": []
  }
 ],
 "metadata": {
  "kernelspec": {
   "display_name": "Python 3",
   "language": "python",
   "name": "python3"
  },
  "language_info": {
   "codemirror_mode": {
    "name": "ipython",
    "version": 3
   },
   "file_extension": ".py",
   "mimetype": "text/x-python",
   "name": "python",
   "nbconvert_exporter": "python",
   "pygments_lexer": "ipython3",
   "version": "3.6.5"
  }
 },
 "nbformat": 4,
 "nbformat_minor": 2
}
