{
 "cells": [
  {
   "cell_type": "markdown",
   "metadata": {},
   "source": [
    "## Intro: Bokeh installation & Quickstart"
   ]
  },
  {
   "cell_type": "markdown",
   "metadata": {},
   "source": [
    "**Bokeh** is a `Python` interactive visualization library that targets modern web browsers for presentation. Bokeh provides elegant, concise construction of novel graphics with high-performance interactivity over very large or streaming datasets in a quick and easy way.\n",
    "\n",
    "To offer both simplicity and the powerful and flexible features needed for advanced customizations, Bokeh exposes two interface levels to users:\n",
    "\n",
    "- a low-level bokeh.models interface that provides the most flexibility to application developers.\n",
    "- an higher-level bokeh.plotting interface centered around composing visual glyphs.\n",
    "\n",
    "This Quickstart focuses on the bokeh.plotting interface.\n",
    "\n",
    "Quick Installation\n",
    "\n",
    "There are multiple ways to install Bokeh, and we recommend the easiest one, which is to use the `Anaconda Python distribution` and enter this command at a *Bash* or *Windows* command prompt:\n",
    "\n",
    "```bash\n",
    "    conda install bokeh\n",
    "```\n",
    "\n",
    "This installs all the dependencies that Bokeh needs. Anaconda minimizes installation effort on all platforms and configurations, including Windows, and also installs the examples into the examples/ subdirectory of your Anaconda or Miniconda installation directory.\n",
    "\n",
    "If you are confident that you have installed all needed dependencies, such as *NumPy*, you may instead use pip at the command line:\n",
    "\n",
    "```bash\n",
    "    pip install bokeh\n",
    "```"
   ]
  },
  {
   "cell_type": "markdown",
   "metadata": {},
   "source": [
    "## Defining key concepts\n",
    "\n",
    "### Glossary\n",
    "\n",
    "In order to make the best use of this User Guide, it is important to have context for some high level concepts and terms. Here is a small glossary of some of the most important concepts in Bokeh.\n",
    "\n",
    "**Application**\n",
    "\n",
    "A Bokeh application is a rendered Bokeh document, running in a browser.\n",
    "\n",
    "**BokehJS**\n",
    "\n",
    "The JavaScript client library that actually renders the visuals and handles the UI interactions for Bokeh plots and widgets in the browser. Typically, users will not have to think about this aspect of Bokeh much (“We write the JavaScript, so you don’t have to!”) but it is good to have basic knowledge of this dichotomy. For full details, see the BokehJS chapter of the Developer Guide.\n",
    "\n",
    "**Documents**\n",
    "\n",
    "An organizing data structure for Bokeh applications. Documents contain all the Bokeh Models and data needed to render an interactive visualization or application in the browser.\n",
    "\n",
    "**Embedding**\n",
    "\n",
    "Various methods of including Bokeh plots and widgets into web apps and pages, or the IPython notebook. See Embedding Plots and Apps for more details.\n",
    "\n",
    "**Glyphs**\n",
    "\n",
    "The basic visual building blocks of Bokeh plots, e.g. lines, rectangles, squares, wedges, patches, etc. The bokeh.plotting interface provides a convenient way to create plots centered around glyphs. See Plotting with Basic Glyphs for more information.\n",
    "\n",
    "**Models**\n",
    "\n",
    "The lowest-level objects that comprise Bokeh “scenegraphs”. These live in the bokeh.models interface. Most users will not use this level of interface to assemble plots directly. However, ultimately all Bokeh plots consist of collections of models, so it is important to understand them enough to configure their attributes and properties. See Styling Visual Attributes for more information.\n",
    "\n",
    "**Server**\n",
    "\n",
    "The Bokeh server is an optional component that can be used for sharing and publishing Bokeh plots and apps, for handling streaming of large data sets, or for enabling sophisticated user interactions based off of widgets and selections. See Running a Bokeh Server for more explanation.\n",
    "\n",
    "**Widgets**\n",
    "\n",
    "User interface elements outside of a Bokeh plot such as sliders, drop down menus, buttons, etc. Events and updates from widgets can inform additional computations, or cause Bokeh plots to update. Widgets can be used in both standalone applications or with the Bokeh server. For examples and information, see Adding Interactions."
   ]
  },
  {
   "cell_type": "markdown",
   "metadata": {},
   "source": [
    "### Getting Started\n",
    "\n",
    "Let’s begin with some examples.\n",
    "\n",
    "Anyway Bokeh is composed by a lot of capabilities and functions. In this tutorial we will see a little part of the library, so for more detailed information please consult the full [User Guide](http://bokeh.pydata.org/en/latest/docs/user_guide.html#userguide).\n",
    "\n",
    "Plotting data in basic Python lists as a line plot including zoom, pan, save, and other tools is simple and straightforward:"
   ]
  },
  {
   "cell_type": "code",
   "execution_count": null,
   "metadata": {},
   "outputs": [],
   "source": [
    "from bokeh.plotting import figure, output_notebook, show\n",
    "output_notebook()"
   ]
  },
  {
   "cell_type": "code",
   "execution_count": null,
   "metadata": {},
   "outputs": [],
   "source": [
    "p = figure(plot_width=400, plot_height=400)\n",
    "\n",
    "# add a circle renderer with a size, color, and alpha\n",
    "p.circle([1, 2, 3, 4, 5], [6, 7, 2, 4, 5], size=20, color=\"navy\", alpha=0.5)\n",
    "\n",
    "# show the results\n",
    "show(p)"
   ]
  },
  {
   "cell_type": "markdown",
   "metadata": {},
   "source": [
    "### Multiple lines"
   ]
  },
  {
   "cell_type": "code",
   "execution_count": null,
   "metadata": {},
   "outputs": [],
   "source": [
    "p = figure(plot_width=400, plot_height=400)\n",
    "p.multi_line([[1, 3, 2], [3, 4, 6, 6]], [[2, 1, 4], [4, 7, 8, 5]],\n",
    "             color=[\"firebrick\", \"navy\"], alpha=[0.8, 0.3], line_width=4)\n",
    "show(p)"
   ]
  },
  {
   "cell_type": "markdown",
   "metadata": {},
   "source": [
    "### Plotting bars"
   ]
  },
  {
   "cell_type": "code",
   "execution_count": null,
   "metadata": {},
   "outputs": [],
   "source": [
    "p = figure(plot_width=400, plot_height=400)\n",
    "p.vbar(x=[1, 2, 3], width=0.5, bottom=0,\n",
    "       top=[1.2, 2.5, 3.7], color=\"red\")\n",
    "show(p)"
   ]
  },
  {
   "cell_type": "code",
   "execution_count": null,
   "metadata": {},
   "outputs": [],
   "source": [
    "p = figure(plot_width=400, plot_height=400)\n",
    "p.hbar(y=[1, 2, 3], height=0.5, left=0,\n",
    "       right=[1.2, 2.5, 3.7], color=\"navy\")\n",
    "show(p)"
   ]
  },
  {
   "cell_type": "markdown",
   "metadata": {},
   "source": [
    "### Plotting line"
   ]
  },
  {
   "cell_type": "code",
   "execution_count": null,
   "metadata": {},
   "outputs": [],
   "source": [
    "# prepare some demo data\n",
    "x = [1, 2, 3, 4, 5, 6, 7]\n",
    "y = [6, 7, 2, 4, 5, 10, 4]\n",
    "\n",
    "# create a new plot with a title and axis labels\n",
    "p = figure(title=\"line example\", x_axis_label='x', y_axis_label='y', width=500, height=400)\n",
    "\n",
    "# add a line renderer with legend and line thickness\n",
    "p.line(x, y, legend=\"Temp.\", line_width=2)\n",
    "\n",
    "# show the results\n",
    "show(p)"
   ]
  },
  {
   "cell_type": "markdown",
   "metadata": {},
   "source": [
    "### Twin Axes"
   ]
  },
  {
   "cell_type": "code",
   "execution_count": null,
   "metadata": {},
   "outputs": [],
   "source": [
    "from numpy import pi, arange, sin, linspace\n",
    "from bokeh.models import LinearAxis, Range1d\n",
    "\n",
    "x = arange(-2*pi, 2*pi, 0.1)\n",
    "y = sin(x)\n",
    "y2 = linspace(0, 100, len(y))\n",
    "\n",
    "p = figure(x_range=(-6.5, 6.5), y_range=(-1.1, 1.1))\n",
    "\n",
    "p.circle(x, y, color=\"red\")\n",
    "\n",
    "p.extra_y_ranges = {\"foo\": Range1d(start=0, end=100)}\n",
    "p.circle(x, y2, color=\"blue\", y_range_name=\"foo\")\n",
    "p.add_layout(LinearAxis(y_range_name=\"foo\"), 'left')\n",
    "\n",
    "show(p)"
   ]
  },
  {
   "cell_type": "markdown",
   "metadata": {},
   "source": [
    "The basic steps to creating plots with the [bokeh.plotting](http://bokeh.pydata.org/en/latest/docs/reference/plotting.html#bokeh-plotting) interface are:\n",
    "\n",
    " - Prepare some data (in this case plain python lists).\n",
    " - Tell Bokeh where to generate output (in this case using `output_notebook()`).\n",
    " - Call `figure()` to create a plot with some overall options like title, tools and axes labels.\n",
    " - Add renderers (in this case, `Figure.line`) for our data, with visual customizations like colors, legends and widths  to the plot.\n",
    " - Ask Bokeh to `show()` or `save()` the results.\n",
    "\n",
    "Steps three and four can be repeated to create more than one plot, as shown in some of the examples below.\n",
    "\n",
    "The [bokeh.plotting](http://bokeh.pydata.org/en/latest/docs/reference/plotting.html#bokeh-plotting) interface is also quite handy if we need to customize the output a bit more by adding more data series, glyphs, logarithmic axis, and so on. It’s also possible to easily combine multiple glyphs together on one plot as shown below:"
   ]
  },
  {
   "cell_type": "code",
   "execution_count": null,
   "metadata": {},
   "outputs": [],
   "source": [
    "# prepare some data\n",
    "x = [0.1, 0.5, 1.0, 1.5, 2.0, 2.5, 3.0]\n",
    "y0 = [i**2 for i in x]\n",
    "y1 = [10**i for i in x]\n",
    "y2 = [10**(i**2) for i in x]\n",
    "\n",
    "# create a new plot\n",
    "p = figure(\n",
    "    tools=\"pan,box_zoom,reset,save\",\n",
    "    y_axis_type=\"log\", title=\"log axis example\",\n",
    "    x_axis_label='sections', y_axis_label='particles',\n",
    "    width=700, height=350)\n",
    "\n",
    "\n",
    "# add some renderers\n",
    "p.line(x, x, legend=\"y=x\")\n",
    "p.circle(x, x, legend=\"y=x\", fill_color=\"white\", size=8)\n",
    "\n",
    "p.line(x, y0, legend=\"y=x^2\", line_width=3)\n",
    "\n",
    "p.line(x, y1, legend=\"y=10^x\", line_color=\"red\")\n",
    "p.circle(x, y1, legend=\"y=10^x\", fill_color=\"red\", line_color=\"red\", size=6)\n",
    "\n",
    "p.line(x, y2, legend=\"y=10^x^2\", line_color=\"orange\", line_dash=\"4 4\")\n",
    "\n",
    "# show the results\n",
    "show(p)"
   ]
  },
  {
   "cell_type": "markdown",
   "metadata": {},
   "source": [
    "From the 0.12.9 it's possible to define the click policy on the legend. So for example if you want to hide the series you click on the legend:"
   ]
  },
  {
   "cell_type": "code",
   "execution_count": null,
   "metadata": {},
   "outputs": [],
   "source": [
    "p.legend.location = \"top_left\"\n",
    "p.legend.click_policy=\"hide\" # >mute< is the other option"
   ]
  },
  {
   "cell_type": "code",
   "execution_count": null,
   "metadata": {},
   "outputs": [],
   "source": [
    "show(p)"
   ]
  },
  {
   "cell_type": "markdown",
   "metadata": {},
   "source": [
    "## Sample Data\n",
    "Some of the examples included in the Bokeh source make use of sample data files that are distributed separately. To download this data, execute the following commands at a Bash or Windows command prompt:\n",
    "\n",
    "```bash\n",
    "bokeh sampledata\n",
    "```"
   ]
  },
  {
   "cell_type": "markdown",
   "metadata": {},
   "source": [
    "## Concepts\n",
    "\n",
    "Let’s consider the plots above, and use them to help define some core concepts.\n",
    "\n",
    "### Plot\n",
    "\n",
    "Plots are a central concept in Bokeh. They are containers that hold all the various objects (renderers, guides, data, and tools) that comprise the final visualization that is presented to users. The bokeh.plotting interface provides a Figure class to help with assembling all the necessary objects, and a convenience function figure() for creating Figure objects.\n",
    "\n",
    "### Glyphs\n",
    "\n",
    "Glyphs are the basic visual marks that Bokeh can display. At the lowest level, there are glyph objects, such as Line. If you are using the low-level bokeh.models interface, it is your responsibility to create and coordinate all the various Bokeh objects, including glyph objects and their data sources. To make life easier, the bokeh.plotting interface exposes higher level glyph methods such as the Figure.line method used in the first example. The second example also adds in calls to Figure.circle to display circle and line glyphs together on the same plot. Besides lines and circles, Bokeh makes many additional glyphs and markers available.\n",
    "\n",
    "The visual appearance of a glyph is tied directly to the data values that are associated with the glyph’s various attributes. In the example above we see that positional attributes like x and y can be set to vectors of data. But glyphs also have some combination of Line Properties, Fill Properties, and Text Properties to control their appearance. All of these attributes can be set with “vectorized” values as well. We will show examples of this below.\n",
    "\n",
    "### Guides and Annotations\n",
    "\n",
    "Bokeh plots can also have other visual components that aid presentation or help the user make comparisons. These fall into two categories. Guides are visual aids that help users judge distances, angles, etc. These include grid lines or bands, axes (such as linear, log, or datetime) that may have ticks and tick labels as well. Annotations are visual aids that label or name parts of the plot. These include titles, legends, etc.\n",
    "\n",
    "### Ranges\n",
    "\n",
    "Ranges describe the data-space bounds of a plot. By default, plots generated with the bokeh.plotting interface come configured with DataRange1d objects that try to automatically set the plot bounds to encompass all the available data. But it is possible to supply explicit Range1d objects for fixed bounds. As a convenience these can also typically be spelled as 2-tuples or lists:\n",
    "\n",
    "`p = figure(x_range=[0,10], y_range=(10, 20))`\n",
    "\n",
    "\n",
    "### Resources\n",
    "\n",
    "To generate plots, the client library BokehJS JavaScript and CSS code must be loaded into the browser. By default, the output_file() function will load BokehJS from http://cdn.pydata.org . However, you can also configure Bokeh to generate static HTML files with BokehJS resources embedded directly inside, by passing the argument mode=\"inline\" to the output_file() function.\n",
    "\n",
    "### More examples¶\n",
    "\n",
    "Here are a few more examples to demonstrate other common tasks and use-cases with the bokeh.plotting interface.\n",
    "Vectorized colors and sizes¶\n",
    "\n",
    "This example shows how it is possible to provide sequences of data values for glyph attributes like fill_color and radius. Other things to look out for in this example:\n",
    "- supplying an explicit list of tool names to figure()\n",
    "- fetching BokehJS resources from CDN using the mode argument\n",
    "- setting the x_range and y_range explicitly\n",
    "- turning a line off (by setting its value to None)\n",
    "- using NumPy arrays for supplying data"
   ]
  },
  {
   "cell_type": "code",
   "execution_count": null,
   "metadata": {},
   "outputs": [],
   "source": [
    "import numpy as np\n",
    "\n",
    "from bokeh.plotting import figure, output_file, show\n",
    "\n",
    "# prepare some data\n",
    "N = 4000\n",
    "x = np.random.random(size=N) * 100\n",
    "y = np.random.random(size=N) * 100\n",
    "radii = np.random.random(size=N) * 1.5\n",
    "colors = [\n",
    "    \"#%02x%02x%02x\" % (int(r), int(g), 150) for r, g in zip(50+2*x, 30+2*y)\n",
    "]\n",
    "\n",
    "TOOLS=\"crosshair,pan,wheel_zoom,box_zoom,reset,box_select,lasso_select\"\n",
    "\n",
    "# create a new plot with the tools above, and explicit ranges\n",
    "p = figure(tools=TOOLS, x_range=(0,100), y_range=(0,100), width=500, height=500)\n",
    "\n",
    "# add a circle renderer with vectorized colors and sizes\n",
    "p.circle(x,y, radius=radii, fill_color=colors, fill_alpha=0.6, line_color=None)\n",
    "\n",
    "# show the results\n",
    "show(p)"
   ]
  },
  {
   "cell_type": "markdown",
   "metadata": {},
   "source": [
    "### Exercises"
   ]
  },
  {
   "cell_type": "code",
   "execution_count": null,
   "metadata": {},
   "outputs": [],
   "source": [
    "# EXERCISE 1: Try changing the scatterplot example (on the top of the notebook) to set a `radius` value instead of `size`"
   ]
  },
  {
   "cell_type": "code",
   "execution_count": null,
   "metadata": {},
   "outputs": [],
   "source": [
    "# EXERCISE 2: Transform the scatter plot circle to square markers and assign to each marker a different size, you can use the square method on figures.\n",
    "# HINT: the attr size can be a list on integers "
   ]
  }
 ],
 "metadata": {
  "kernelspec": {
   "display_name": "Python 3",
   "language": "python",
   "name": "python3"
  },
  "language_info": {
   "codemirror_mode": {
    "name": "ipython",
    "version": 3
   },
   "file_extension": ".py",
   "mimetype": "text/x-python",
   "name": "python",
   "nbconvert_exporter": "python",
   "pygments_lexer": "ipython3",
   "version": "3.6.5"
  }
 },
 "nbformat": 4,
 "nbformat_minor": 2
}
